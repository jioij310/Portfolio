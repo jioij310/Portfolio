{
 "cells": [
  {
   "cell_type": "markdown",
   "metadata": {},
   "source": [
    "# Pandas 시각화 - PiePlot, ScatterPlot\n",
    "\n",
    "DataFrame은 내부적으로 `pyplot` 객체를 초기화고 있기 때문에 이를 활용하여 그래프를 직접 표시할 수 있다.\n",
    "\n",
    "## #01. 준비작업\n",
    "\n",
    "### [1] 패키지 참조"
   ]
  },
  {
   "cell_type": "code",
   "execution_count": 7,
   "metadata": {},
   "outputs": [],
   "source": [
    "import sys\n",
    "from pandas import read_excel, DataFrame\n",
    "from matplotlib import pyplot as plt\n",
    "import numpy as np"
   ]
  },
  {
   "cell_type": "markdown",
   "metadata": {},
   "source": [
    "### [2] 그래프 전역 설정"
   ]
  },
  {
   "cell_type": "code",
   "execution_count": 8,
   "metadata": {},
   "outputs": [],
   "source": [
    "plt.rcParams['font.family']='AppleGothic' if sys.platform == 'darwin' else 'Malgun Gothic'\n",
    "plt.rcParams['font.size']=12\n",
    "plt.rcParams['figure.figsize']=(12,6)\n",
    "plt.rcParams['axes.unicode_minus']=False"
   ]
  },
  {
   "cell_type": "markdown",
   "metadata": {},
   "source": [
    "## #02. 파이 그래프\n",
    "\n",
    "### [1] 데이터 가져오기\n",
    "\n",
    "#### (1) 데이터프레임 생성"
   ]
  },
  {
   "cell_type": "code",
   "execution_count": 11,
   "metadata": {},
   "outputs": [
    {
     "data": {
      "text/html": [
       "<div>\n",
       "<style scoped>\n",
       "    .dataframe tbody tr th:only-of-type {\n",
       "        vertical-align: middle;\n",
       "    }\n",
       "\n",
       "    .dataframe tbody tr th {\n",
       "        vertical-align: top;\n",
       "    }\n",
       "\n",
       "    .dataframe thead th {\n",
       "        text-align: right;\n",
       "    }\n",
       "</style>\n",
       "<table border=\"1\" class=\"dataframe\">\n",
       "  <thead>\n",
       "    <tr style=\"text-align: right;\">\n",
       "      <th></th>\n",
       "      <th>도시</th>\n",
       "      <th>연도</th>\n",
       "      <th>인구</th>\n",
       "      <th>지역</th>\n",
       "    </tr>\n",
       "  </thead>\n",
       "  <tbody>\n",
       "    <tr>\n",
       "      <th>0</th>\n",
       "      <td>서울</td>\n",
       "      <td>2015</td>\n",
       "      <td>9904312</td>\n",
       "      <td>수도권</td>\n",
       "    </tr>\n",
       "    <tr>\n",
       "      <th>1</th>\n",
       "      <td>서울</td>\n",
       "      <td>2010</td>\n",
       "      <td>9631482</td>\n",
       "      <td>수도권</td>\n",
       "    </tr>\n",
       "    <tr>\n",
       "      <th>2</th>\n",
       "      <td>서울</td>\n",
       "      <td>2005</td>\n",
       "      <td>9762546</td>\n",
       "      <td>수도권</td>\n",
       "    </tr>\n",
       "    <tr>\n",
       "      <th>3</th>\n",
       "      <td>부산</td>\n",
       "      <td>2015</td>\n",
       "      <td>3448737</td>\n",
       "      <td>경상권</td>\n",
       "    </tr>\n",
       "    <tr>\n",
       "      <th>4</th>\n",
       "      <td>부산</td>\n",
       "      <td>2010</td>\n",
       "      <td>3393191</td>\n",
       "      <td>경상권</td>\n",
       "    </tr>\n",
       "    <tr>\n",
       "      <th>5</th>\n",
       "      <td>부산</td>\n",
       "      <td>2005</td>\n",
       "      <td>3512547</td>\n",
       "      <td>경상권</td>\n",
       "    </tr>\n",
       "    <tr>\n",
       "      <th>6</th>\n",
       "      <td>인천</td>\n",
       "      <td>2015</td>\n",
       "      <td>2890451</td>\n",
       "      <td>수도권</td>\n",
       "    </tr>\n",
       "    <tr>\n",
       "      <th>7</th>\n",
       "      <td>인천</td>\n",
       "      <td>2010</td>\n",
       "      <td>2632035</td>\n",
       "      <td>수도권</td>\n",
       "    </tr>\n",
       "  </tbody>\n",
       "</table>\n",
       "</div>"
      ],
      "text/plain": [
       "   도시    연도       인구   지역\n",
       "0  서울  2015  9904312  수도권\n",
       "1  서울  2010  9631482  수도권\n",
       "2  서울  2005  9762546  수도권\n",
       "3  부산  2015  3448737  경상권\n",
       "4  부산  2010  3393191  경상권\n",
       "5  부산  2005  3512547  경상권\n",
       "6  인천  2015  2890451  수도권\n",
       "7  인천  2010  2632035  수도권"
      ]
     },
     "execution_count": 11,
     "metadata": {},
     "output_type": "execute_result"
    }
   ],
   "source": [
    "df = read_excel('C:/Users/Jihwan/01Class/D.탐색적데이터분석/D.DataAnalysis/04.데이터시각화/수업/수업데이터/city_people.xlsx')\n",
    "df"
   ]
  },
  {
   "cell_type": "markdown",
   "metadata": {},
   "source": [
    "#### (2) 데이터 전처리\n",
    "\n",
    "도시별 평균 인구수를 구한다."
   ]
  },
  {
   "cell_type": "code",
   "execution_count": 12,
   "metadata": {},
   "outputs": [
    {
     "data": {
      "text/html": [
       "<div>\n",
       "<style scoped>\n",
       "    .dataframe tbody tr th:only-of-type {\n",
       "        vertical-align: middle;\n",
       "    }\n",
       "\n",
       "    .dataframe tbody tr th {\n",
       "        vertical-align: top;\n",
       "    }\n",
       "\n",
       "    .dataframe thead th {\n",
       "        text-align: right;\n",
       "    }\n",
       "</style>\n",
       "<table border=\"1\" class=\"dataframe\">\n",
       "  <thead>\n",
       "    <tr style=\"text-align: right;\">\n",
       "      <th></th>\n",
       "      <th>인구</th>\n",
       "    </tr>\n",
       "    <tr>\n",
       "      <th>도시</th>\n",
       "      <th></th>\n",
       "    </tr>\n",
       "  </thead>\n",
       "  <tbody>\n",
       "    <tr>\n",
       "      <th>부산</th>\n",
       "      <td>3.451492e+06</td>\n",
       "    </tr>\n",
       "    <tr>\n",
       "      <th>서울</th>\n",
       "      <td>9.766113e+06</td>\n",
       "    </tr>\n",
       "    <tr>\n",
       "      <th>인천</th>\n",
       "      <td>2.761243e+06</td>\n",
       "    </tr>\n",
       "  </tbody>\n",
       "</table>\n",
       "</div>"
      ],
      "text/plain": [
       "              인구\n",
       "도시              \n",
       "부산  3.451492e+06\n",
       "서울  9.766113e+06\n",
       "인천  2.761243e+06"
      ]
     },
     "execution_count": 12,
     "metadata": {},
     "output_type": "execute_result"
    }
   ],
   "source": [
    "df_mean = df[['도시','인구']].groupby('도시').mean()\n",
    "df_mean"
   ]
  },
  {
   "cell_type": "markdown",
   "metadata": {},
   "source": [
    "### [2] 파이 그래프 시각화\n",
    "\n",
    "파이 그래프의 경우 반드시 데이터 프레임 안에서 특정 변수를 지정해야 한다.\n",
    "\n",
    "데이터 프레임의 index가 파이 그래프의 각 조각이 된다."
   ]
  },
  {
   "cell_type": "code",
   "execution_count": 14,
   "metadata": {},
   "outputs": [
    {
     "data": {
      "image/png": "[encoded data removed]",
      "text/plain": [
       "<Figure size 1200x600 with 1 Axes>"
      ]
     },
     "metadata": {},
     "output_type": "display_data"
    }
   ],
   "source": [
    "df_mean['인구'].plot.pie(autopct='%0.1f%%')\n",
    "plt.show()\n",
    "plt.close()"
   ]
  },
  {
   "cell_type": "markdown",
   "metadata": {},
   "source": [
    "## #03. 산점도 그래프\n",
    "\n",
    "### [1] 데이터 가져오기"
   ]
  },
  {
   "cell_type": "code",
   "execution_count": 15,
   "metadata": {},
   "outputs": [
    {
     "data": {
      "text/html": [
       "<div>\n",
       "<style scoped>\n",
       "    .dataframe tbody tr th:only-of-type {\n",
       "        vertical-align: middle;\n",
       "    }\n",
       "\n",
       "    .dataframe tbody tr th {\n",
       "        vertical-align: top;\n",
       "    }\n",
       "\n",
       "    .dataframe thead th {\n",
       "        text-align: right;\n",
       "    }\n",
       "</style>\n",
       "<table border=\"1\" class=\"dataframe\">\n",
       "  <thead>\n",
       "    <tr style=\"text-align: right;\">\n",
       "      <th></th>\n",
       "      <th>년도</th>\n",
       "      <th>월</th>\n",
       "      <th>발생건수</th>\n",
       "      <th>사망자수</th>\n",
       "      <th>부상자수</th>\n",
       "    </tr>\n",
       "  </thead>\n",
       "  <tbody>\n",
       "    <tr>\n",
       "      <th>0</th>\n",
       "      <td>2005</td>\n",
       "      <td>1</td>\n",
       "      <td>15494</td>\n",
       "      <td>504</td>\n",
       "      <td>25413</td>\n",
       "    </tr>\n",
       "    <tr>\n",
       "      <th>1</th>\n",
       "      <td>2005</td>\n",
       "      <td>2</td>\n",
       "      <td>13244</td>\n",
       "      <td>431</td>\n",
       "      <td>21635</td>\n",
       "    </tr>\n",
       "    <tr>\n",
       "      <th>2</th>\n",
       "      <td>2005</td>\n",
       "      <td>3</td>\n",
       "      <td>16580</td>\n",
       "      <td>477</td>\n",
       "      <td>25550</td>\n",
       "    </tr>\n",
       "    <tr>\n",
       "      <th>3</th>\n",
       "      <td>2005</td>\n",
       "      <td>4</td>\n",
       "      <td>17817</td>\n",
       "      <td>507</td>\n",
       "      <td>28131</td>\n",
       "    </tr>\n",
       "    <tr>\n",
       "      <th>4</th>\n",
       "      <td>2005</td>\n",
       "      <td>5</td>\n",
       "      <td>19085</td>\n",
       "      <td>571</td>\n",
       "      <td>29808</td>\n",
       "    </tr>\n",
       "    <tr>\n",
       "      <th>...</th>\n",
       "      <td>...</td>\n",
       "      <td>...</td>\n",
       "      <td>...</td>\n",
       "      <td>...</td>\n",
       "      <td>...</td>\n",
       "    </tr>\n",
       "    <tr>\n",
       "      <th>163</th>\n",
       "      <td>2018</td>\n",
       "      <td>8</td>\n",
       "      <td>18335</td>\n",
       "      <td>357</td>\n",
       "      <td>27749</td>\n",
       "    </tr>\n",
       "    <tr>\n",
       "      <th>164</th>\n",
       "      <td>2018</td>\n",
       "      <td>9</td>\n",
       "      <td>18371</td>\n",
       "      <td>348</td>\n",
       "      <td>27751</td>\n",
       "    </tr>\n",
       "    <tr>\n",
       "      <th>165</th>\n",
       "      <td>2018</td>\n",
       "      <td>10</td>\n",
       "      <td>19738</td>\n",
       "      <td>373</td>\n",
       "      <td>28836</td>\n",
       "    </tr>\n",
       "    <tr>\n",
       "      <th>166</th>\n",
       "      <td>2018</td>\n",
       "      <td>11</td>\n",
       "      <td>19029</td>\n",
       "      <td>298</td>\n",
       "      <td>28000</td>\n",
       "    </tr>\n",
       "    <tr>\n",
       "      <th>167</th>\n",
       "      <td>2018</td>\n",
       "      <td>12</td>\n",
       "      <td>18010</td>\n",
       "      <td>323</td>\n",
       "      <td>26463</td>\n",
       "    </tr>\n",
       "  </tbody>\n",
       "</table>\n",
       "<p>168 rows × 5 columns</p>\n",
       "</div>"
      ],
      "text/plain": [
       "       년도   월   발생건수  사망자수   부상자수\n",
       "0    2005   1  15494   504  25413\n",
       "1    2005   2  13244   431  21635\n",
       "2    2005   3  16580   477  25550\n",
       "3    2005   4  17817   507  28131\n",
       "4    2005   5  19085   571  29808\n",
       "..    ...  ..    ...   ...    ...\n",
       "163  2018   8  18335   357  27749\n",
       "164  2018   9  18371   348  27751\n",
       "165  2018  10  19738   373  28836\n",
       "166  2018  11  19029   298  28000\n",
       "167  2018  12  18010   323  26463\n",
       "\n",
       "[168 rows x 5 columns]"
      ]
     },
     "execution_count": 15,
     "metadata": {},
     "output_type": "execute_result"
    }
   ],
   "source": [
    "df = read_excel('C:/Users/Jihwan/01Class/D.탐색적데이터분석/D.DataAnalysis/04.데이터시각화/수업/수업데이터/traffic_acc.xlsx')\n",
    "df"
   ]
  },
  {
   "cell_type": "markdown",
   "metadata": {},
   "source": [
    "### [2] 추세선을 위한 회귀식 구하기"
   ]
  },
  {
   "cell_type": "code",
   "execution_count": 26,
   "metadata": {},
   "outputs": [
    {
     "data": {
      "text/plain": [
       "array([24255.39254637, 21095.45182744, 25780.59060004, 27517.8557864 ,\n",
       "       29298.65793378, 27904.07076316, 28722.84651389, 29228.43702892,\n",
       "       28840.81763406, 30242.42689517, 29360.45233006, 28482.69101925,\n",
       "       23520.88188148, 22536.38479527, 26043.21678423, 27701.83455715,\n",
       "       29375.90092913, 26981.36807323, 28665.2653719 , 28889.97226747,\n",
       "       29590.77689802, 29319.72420524, 30410.95706684, 27095.12593911,\n",
       "       23440.83004993, 23134.66690472, 28007.99770236, 27852.10729356,\n",
       "       29550.0487732 , 28210.23390837, 27826.82776781, 27749.58477246,\n",
       "       28485.49985544, 29215.79726604, 27515.04695021, 26217.3646283 ,\n",
       "       23197.8657191 , 22404.36949412, 26022.15051277, 27069.84641336,\n",
       "       29902.55771562, 28932.10481039, 29968.56536619, 28540.27216124,\n",
       "       27807.16591445, 30479.77355361, 30017.7199996 , 28705.99349672,\n",
       "       25713.17853137, 24266.62789114, 28089.453952  , 29394.1583644 ,\n",
       "       30916.54758187, 29528.98250174, 30978.34197816, 30573.86956613,\n",
       "       31993.73626251, 32606.06255293, 30802.78971599, 30891.26805612,\n",
       "       26544.59404497, 24689.35773843, 27495.38509684, 28316.96968377,\n",
       "       31106.14402501, 29052.88476675, 29130.1277621 , 29717.17452678,\n",
       "       29795.82194023, 32795.65899607, 30964.29779718, 28967.21526282,\n",
       "       25603.63391978, 22449.31087324, 26134.50396056, 28575.38261367,\n",
       "       29760.71148779, 28484.09543735, 29534.60017413, 29033.22291339,\n",
       "       29270.56957184, 31920.70652145, 30981.15081435, 29571.11504466,\n",
       "       26114.8421072 , 25887.32637543, 28132.99091302, 29701.72592771,\n",
       "       30123.0513569 , 28974.2373533 , 29646.95362191, 28346.46246381,\n",
       "       29507.91623028, 29961.54327571, 30232.59596849, 27420.95093769,\n",
       "       24988.49879316, 22419.81809319, 27023.50061615, 27818.40125922,\n",
       "       30142.71321026, 28236.91785222, 28394.21267912, 28745.31720344,\n",
       "       27502.40718733, 30298.60361906, 29735.43196204, 27085.29501243,\n",
       "       24832.60838436, 22242.86141293, 28364.71989907, 28397.02151531,\n",
       "       31024.68777537, 28519.20588978, 30090.74974066, 30026.14650818,\n",
       "       29520.55599315, 31651.05824676, 30403.93497636, 28830.98670738,\n",
       "       26232.81322737, 23475.94050236, 28639.98584615, 29721.38778107,\n",
       "       31346.29951965, 28686.33164336, 30974.12872386, 30392.69963158,\n",
       "       31722.68356973, 32812.51201323, 32226.86966666, 29586.56364373,\n",
       "       26464.54221342, 24494.14362291, 27699.02572095, 29814.07937549,\n",
       "       29957.33002142, 27742.56268197, 29116.08358113, 28333.82270093,\n",
       "       27610.54738082, 30468.53820883, 29507.91623028, 28995.30362476,\n",
       "       26328.31365799, 23325.66776595, 26436.45385148, 27377.41397667,\n",
       "       28479.88218305, 27840.87194878, 27996.76235758, 28732.67744057,\n",
       "       30430.61892021, 28986.87711618, 29708.74801819, 28124.56440444,\n",
       "       26406.96107143, 25258.14706784, 26401.34339905, 27763.62895343,\n",
       "       28668.07420809, 27890.02658219, 28756.55254822, 28245.3443608 ,\n",
       "       28295.90341231, 30215.74295132, 29220.01052033, 27788.90847918])"
      ]
     },
     "execution_count": 26,
     "metadata": {},
     "output_type": "execute_result"
    }
   ],
   "source": [
    "x = df['발생건수']\n",
    "z = np.polyfit(x, df['부상자수'], 1)\n",
    "f = np.poly1d(z)\n",
    "y = f(x)\n",
    "y"
   ]
  },
  {
   "cell_type": "markdown",
   "metadata": {},
   "source": [
    "### [3] 산점도 그래프 시각화\n",
    "\n",
    "산점도 그래프는 데이터프레임에 대해 $x$축으로 사용될 변수와 $y$축으로 사용될 변수를 설정해야 한다.\n",
    "\n",
    "추세선은 `pyplot` 객체를 활용하여 직접 구현해야 한다."
   ]
  },
  {
   "cell_type": "code",
   "execution_count": 27,
   "metadata": {},
   "outputs": [
    {
     "data": {
      "image/png": "[encoded data removed]",
      "text/plain": [
       "<Figure size 1200x600 with 1 Axes>"
      ]
     },
     "metadata": {},
     "output_type": "display_data"
    }
   ],
   "source": [
    "df.plot.scatter(x='발생건수', y='부상자수', color='#00ff00')\n",
    "plt.plot(x,y,color='#ff0000', linewidth=1)\n",
    "plt.grid()\n",
    "plt.show()\n",
    "plt.close()"
   ]
  },
  {
   "cell_type": "code",
   "execution_count": null,
   "metadata": {},
   "outputs": [],
   "source": []
  }
 ],
 "metadata": {
  "kernelspec": {
   "display_name": "Python 3",
   "language": "python",
   "name": "python3"
  },
  "language_info": {
   "codemirror_mode": {
    "name": "ipython",
    "version": 3
   },
   "file_extension": ".py",
   "mimetype": "text/x-python",
   "name": "python",
   "nbconvert_exporter": "python",
   "pygments_lexer": "ipython3",
   "version": "3.12.0"
  }
 },
 "nbformat": 4,
 "nbformat_minor": 2
}
