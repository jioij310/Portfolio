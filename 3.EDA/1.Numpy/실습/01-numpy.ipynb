{
 "cells": [
  {
   "cell_type": "markdown",
   "metadata": {},
   "source": [
    "# 01- Numpy"
   ]
  },
  {
   "cell_type": "code",
   "execution_count": 2,
   "metadata": {},
   "outputs": [],
   "source": [
    "import numpy as np"
   ]
  },
  {
   "cell_type": "code",
   "execution_count": 10,
   "metadata": {},
   "outputs": [
    {
     "name": "stdout",
     "output_type": "stream",
     "text": [
      "<class 'numpy.ndarray'>\n",
      "[1 3 5 7 9]\n"
     ]
    }
   ],
   "source": [
    "arr = np.array([1,3,5,7,9])\n",
    "print(type(arr))\n",
    "\n",
    "print(arr)"
   ]
  },
  {
   "cell_type": "code",
   "execution_count": 11,
   "metadata": {},
   "outputs": [
    {
     "name": "stdout",
     "output_type": "stream",
     "text": [
      "배열의 원소는 5개 입니다.\n"
     ]
    }
   ],
   "source": [
    "print(\"배열의 원소는 %d개 입니다.\" % len(arr))"
   ]
  },
  {
   "cell_type": "code",
   "execution_count": 12,
   "metadata": {},
   "outputs": [
    {
     "data": {
      "text/plain": [
       "9"
      ]
     },
     "execution_count": 12,
     "metadata": {},
     "output_type": "execute_result"
    }
   ],
   "source": [
    "arr[4]"
   ]
  },
  {
   "cell_type": "code",
   "execution_count": 13,
   "metadata": {},
   "outputs": [
    {
     "name": "stdout",
     "output_type": "stream",
     "text": [
      "0번째 원소 >> 1\n",
      "1번째 원소 >> 3\n",
      "2번째 원소 >> 5\n",
      "3번째 원소 >> 7\n",
      "4번째 원소 >> 9\n"
     ]
    }
   ],
   "source": [
    "for i, v in enumerate(arr):\n",
    "\n",
    "    print(\"%d번째 원소 >> %d\" % (i,v))"
   ]
  },
  {
   "cell_type": "code",
   "execution_count": 14,
   "metadata": {},
   "outputs": [
    {
     "data": {
      "text/plain": [
       "[100, 3.14, True, 'dd', None, 5j]"
      ]
     },
     "execution_count": 14,
     "metadata": {},
     "output_type": "execute_result"
    }
   ],
   "source": [
    "arr2 = [100, 3.14, True, \"dd\", None,5j]\n",
    "arr2"
   ]
  },
  {
   "cell_type": "code",
   "execution_count": 15,
   "metadata": {},
   "outputs": [
    {
     "name": "stdout",
     "output_type": "stream",
     "text": [
      "<class 'complex'>\n",
      "[100, 3.14, True, 'dd', None, 5j, 100, 3.14, True, 'dd', None, 5j, 100, 3.14, True, 'dd', None, 5j]\n"
     ]
    }
   ],
   "source": [
    "print(type(arr2[5]))\n",
    "arr0 = arr2 *3\n",
    "print(arr0)"
   ]
  },
  {
   "cell_type": "code",
   "execution_count": 16,
   "metadata": {},
   "outputs": [
    {
     "name": "stdout",
     "output_type": "stream",
     "text": [
      "['100' '3.14' 'True' 'dd' 'None' '5j']\n"
     ]
    }
   ],
   "source": [
    "arr3 = np.array(arr2, dtype='str')\n",
    "print(arr3)"
   ]
  },
  {
   "cell_type": "code",
   "execution_count": 17,
   "metadata": {},
   "outputs": [
    {
     "name": "stdout",
     "output_type": "stream",
     "text": [
      "<class 'list'>\n"
     ]
    },
    {
     "data": {
      "text/plain": [
       "['100', '3.14', 'True', 'dd', 'None', '5j']"
      ]
     },
     "execution_count": 17,
     "metadata": {},
     "output_type": "execute_result"
    }
   ],
   "source": [
    "mylist = list(arr3)\n",
    "print(type(mylist))\n",
    "mylist"
   ]
  },
  {
   "cell_type": "markdown",
   "metadata": {},
   "source": [
    "## 기초 통계량 산출"
   ]
  },
  {
   "cell_type": "markdown",
   "metadata": {},
   "source": [
    "### 1차원"
   ]
  },
  {
   "cell_type": "code",
   "execution_count": 18,
   "metadata": {},
   "outputs": [
    {
     "data": {
      "text/plain": [
       "array([98, 23, 65, 77])"
      ]
     },
     "execution_count": 18,
     "metadata": {},
     "output_type": "execute_result"
    }
   ],
   "source": [
    "myarr = np.array([98,23,65,77])\n",
    "myarr"
   ]
  },
  {
   "cell_type": "code",
   "execution_count": 32,
   "metadata": {},
   "outputs": [
    {
     "name": "stdout",
     "output_type": "stream",
     "text": [
      "최대값: 98\n",
      "최소값: 23\n",
      "합계: 263\n",
      "평균: 65.75\n",
      "분산: 748.6875\n",
      "표준편차: 27.36215452043205\n"
     ]
    }
   ],
   "source": [
    "print(\"최대값:\", np.max(myarr))\n",
    "print(\"최소값:\", np.min(myarr))\n",
    "print(\"합계:\", np.sum(myarr))\n",
    "print(\"평균:\", np.average(myarr))\n",
    "print(\"분산:\", np.var(myarr))\n",
    "print(\"표준편차:\", np.std(myarr))"
   ]
  },
  {
   "cell_type": "markdown",
   "metadata": {},
   "source": [
    "$d = y -\\bar{y}$"
   ]
  },
  {
   "cell_type": "markdown",
   "metadata": {},
   "source": [
    "$d^2$"
   ]
  },
  {
   "cell_type": "markdown",
   "metadata": {},
   "source": [
    "$\\Omega$ 모집단"
   ]
  },
  {
   "cell_type": "markdown",
   "metadata": {},
   "source": [
    "$\\mu$  모평균"
   ]
  },
  {
   "cell_type": "markdown",
   "metadata": {},
   "source": [
    "$\\sigma^2$ 모분산"
   ]
  },
  {
   "cell_type": "markdown",
   "metadata": {},
   "source": [
    "$\\sigma$ 모표준편차"
   ]
  },
  {
   "cell_type": "markdown",
   "metadata": {},
   "source": [
    "$\\bar{X}$ 표본평균"
   ]
  },
  {
   "cell_type": "markdown",
   "metadata": {},
   "source": [
    "$s^2$  표본분산"
   ]
  },
  {
   "cell_type": "markdown",
   "metadata": {},
   "source": [
    "$s$  표본표준편차"
   ]
  },
  {
   "cell_type": "markdown",
   "metadata": {},
   "source": [
    "$n$ 표본크기"
   ]
  },
  {
   "cell_type": "markdown",
   "metadata": {},
   "source": [
    "$\\sum$ 합계"
   ]
  },
  {
   "cell_type": "markdown",
   "metadata": {},
   "source": [
    "### NUMPY 배열간 연산"
   ]
  },
  {
   "cell_type": "code",
   "execution_count": 20,
   "metadata": {},
   "outputs": [
    {
     "name": "stdout",
     "output_type": "stream",
     "text": [
      "[29 47 30 28 34]\n",
      "[ -9 -17  10  22  26]\n",
      "[190 480 200  75 120]\n",
      "[0.52631579 0.46875    2.         8.33333333 7.5       ]\n"
     ]
    }
   ],
   "source": [
    "arr1 = np.array([10,15,20,25,30])\n",
    "arr2 = np.array([19,32,10,3,4])\n",
    "\n",
    "#a = arr1+arr2\n",
    "#b = arr1-arr2\n",
    "#c = arr1*arr2\n",
    "#d = arr1/arr2\n",
    "#print(a)\n",
    "#print(b)\n",
    "#print(c)\n",
    "#print(d)\n",
    "\n",
    "a = np.add(arr1,arr2)\n",
    "b = np.subtract(arr1,arr2)\n",
    "c = np.multiply(arr1,arr2)\n",
    "d = np.divide(arr1,arr2)\n",
    "print(a)\n",
    "print(b)\n",
    "print(c)\n",
    "print(d)\n"
   ]
  },
  {
   "cell_type": "code",
   "execution_count": 8,
   "metadata": {},
   "outputs": [
    {
     "data": {
      "text/plain": [
       "array([[98, 72, 80, 64],\n",
       "       [88, 90, 80, 72],\n",
       "       [92, 88, 82, 76]])"
      ]
     },
     "execution_count": 8,
     "metadata": {},
     "output_type": "execute_result"
    }
   ],
   "source": [
    "# 2차원 배열 사칙연산\n",
    "grade = np.array([\n",
    "            [98, 72, 80, 64],\n",
    "            [88, 90, 80, 72],\n",
    "            [92, 88, 82, 76]\n",
    "        ])\n",
    "grade\n"
   ]
  },
  {
   "cell_type": "code",
   "execution_count": 9,
   "metadata": {},
   "outputs": [
    {
     "data": {
      "text/plain": [
       "(3, 4)"
      ]
     },
     "execution_count": 9,
     "metadata": {},
     "output_type": "execute_result"
    }
   ],
   "source": [
    "grade.shape"
   ]
  },
  {
   "cell_type": "code",
   "execution_count": 11,
   "metadata": {},
   "outputs": [
    {
     "data": {
      "text/plain": [
       "2"
      ]
     },
     "execution_count": 11,
     "metadata": {},
     "output_type": "execute_result"
    }
   ],
   "source": [
    "grade.ndim"
   ]
  },
  {
   "cell_type": "code",
   "execution_count": 12,
   "metadata": {},
   "outputs": [
    {
     "data": {
      "text/plain": [
       "dtype('int32')"
      ]
     },
     "execution_count": 12,
     "metadata": {},
     "output_type": "execute_result"
    }
   ],
   "source": [
    "grade.dtype"
   ]
  },
  {
   "cell_type": "code",
   "execution_count": 14,
   "metadata": {},
   "outputs": [
    {
     "name": "stdout",
     "output_type": "stream",
     "text": [
      "<class 'numpy.ndarray'>\n"
     ]
    },
    {
     "data": {
      "text/plain": [
       "array([278, 250, 242, 212])"
      ]
     },
     "execution_count": 14,
     "metadata": {},
     "output_type": "execute_result"
    }
   ],
   "source": [
    "# 각 열끼리 더함 (세로로 덧셈)\n",
    "# 결과 타입은 numpy의 1차 배열 \n",
    "s1 = np.sum(grade, axis=0)\n",
    "print(type(s1))\n",
    "s1"
   ]
  },
  {
   "cell_type": "code",
   "execution_count": 15,
   "metadata": {},
   "outputs": [
    {
     "name": "stdout",
     "output_type": "stream",
     "text": [
      "<class 'numpy.ndarray'>\n"
     ]
    },
    {
     "data": {
      "text/plain": [
       "array([314, 330, 338])"
      ]
     },
     "execution_count": 15,
     "metadata": {},
     "output_type": "execute_result"
    }
   ],
   "source": [
    "# 각 행끼리 더함\n",
    "s2 = np.sum(grade, axis=1)\n",
    "print(type(s2))\n",
    "s2"
   ]
  },
  {
   "cell_type": "markdown",
   "metadata": {},
   "source": [
    "## #04.  조건에 맞는 값 추출하기\n",
    "### [1] 원하는 위치의 값 추출"
   ]
  },
  {
   "cell_type": "code",
   "execution_count": 21,
   "metadata": {},
   "outputs": [
    {
     "data": {
      "text/plain": [
       "array([87, 72, 86, 90, 96])"
      ]
     },
     "execution_count": 21,
     "metadata": {},
     "output_type": "execute_result"
    }
   ],
   "source": [
    "grade = np.array([87,72,86,90,96])\n",
    "grade"
   ]
  },
  {
   "cell_type": "code",
   "execution_count": 22,
   "metadata": {},
   "outputs": [
    {
     "data": {
      "text/plain": [
       "array([ True, False,  True, False, False])"
      ]
     },
     "execution_count": 22,
     "metadata": {},
     "output_type": "execute_result"
    }
   ],
   "source": [
    "boolarray = np.array([True, False, True, False,False])\n",
    "boolarray"
   ]
  },
  {
   "cell_type": "code",
   "execution_count": 23,
   "metadata": {},
   "outputs": [
    {
     "data": {
      "text/plain": [
       "array([87, 86])"
      ]
     },
     "execution_count": 23,
     "metadata": {},
     "output_type": "execute_result"
    }
   ],
   "source": [
    "result1 = grade[boolarray]\n",
    "result1"
   ]
  },
  {
   "cell_type": "code",
   "execution_count": 24,
   "metadata": {},
   "outputs": [
    {
     "data": {
      "text/plain": [
       "array([87, 86, 90, 96])"
      ]
     },
     "execution_count": 24,
     "metadata": {},
     "output_type": "execute_result"
    }
   ],
   "source": [
    "result2 = grade[grade >= 80]\n",
    "result2"
   ]
  },
  {
   "cell_type": "code",
   "execution_count": 25,
   "metadata": {},
   "outputs": [
    {
     "data": {
      "text/plain": [
       "array([87, 86, 90])"
      ]
     },
     "execution_count": 25,
     "metadata": {},
     "output_type": "execute_result"
    }
   ],
   "source": [
    "result3 = grade[np.logical_and(grade >=85, grade <=90)]\n",
    "result3"
   ]
  },
  {
   "cell_type": "code",
   "execution_count": 26,
   "metadata": {},
   "outputs": [
    {
     "data": {
      "text/plain": [
       "array([72, 96])"
      ]
     },
     "execution_count": 26,
     "metadata": {},
     "output_type": "execute_result"
    }
   ],
   "source": [
    "result4 = grade[np.logical_or(grade <=80, grade >90)]\n",
    "result4"
   ]
  },
  {
   "cell_type": "markdown",
   "metadata": {},
   "source": [
    "# 도수분포"
   ]
  },
  {
   "cell_type": "markdown",
   "metadata": {},
   "source": [
    "도수분포표\n",
    "100, 91, 89, 86, 84, 79, 78, 77, 74, 71, 69, 66, 65, 60, 58, 57, 55"
   ]
  },
  {
   "cell_type": "code",
   "execution_count": 4,
   "metadata": {},
   "outputs": [
    {
     "data": {
      "text/plain": [
       "array([100,  91,  89,  86,  84,  79,  78,  77,  74,  71,  69,  66,  65,\n",
       "        60,  58,  57,  55])"
      ]
     },
     "execution_count": 4,
     "metadata": {},
     "output_type": "execute_result"
    }
   ],
   "source": [
    "point = np.array([100, 91, 89, 86, 84, 79, 78, 77, 74, 71, 69, 66, 65, 60, 58, 57, 55])\n",
    "point"
   ]
  },
  {
   "cell_type": "code",
   "execution_count": 28,
   "metadata": {},
   "outputs": [
    {
     "name": "stdout",
     "output_type": "stream",
     "text": [
      "구간별 데이터 수: [4 4 4 3 2]\n",
      "구간경계: [ 55.  64.  73.  82.  91. 100.]\n"
     ]
    }
   ],
   "source": [
    "hist, bins = np.histogram(point,5)\n",
    "print(\"구간별 데이터 수:\",hist)\n",
    "print(\"구간경계:\", bins)"
   ]
  },
  {
   "cell_type": "code",
   "execution_count": 29,
   "metadata": {},
   "outputs": [
    {
     "name": "stdout",
     "output_type": "stream",
     "text": [
      "55이상 64 미만: 4 개\n",
      "64이상 73 미만: 4 개\n",
      "73이상 82 미만: 4 개\n",
      "82이상 91 미만: 3 개\n",
      "91이상 100 이하: 2개\n"
     ]
    }
   ],
   "source": [
    "s = len(hist)\n",
    "for i in range(0, s):\n",
    "    if i+1 <s:\n",
    "        tpl = \"%d이상 %d 미만: %d 개\"\n",
    "    else: \n",
    "        tpl = \"%d이상 %d 이하: %d개\"\n",
    "\n",
    "    print(tpl % (bins[i], bins[i+1], hist[i]))"
   ]
  },
  {
   "cell_type": "markdown",
   "metadata": {},
   "source": [
    "데이터 구간을 직접 정의하기"
   ]
  },
  {
   "cell_type": "code",
   "execution_count": 5,
   "metadata": {},
   "outputs": [
    {
     "name": "stdout",
     "output_type": "stream",
     "text": [
      "구간별 데이터 수: [3 4 5 3 2]\n",
      "구간별 경계: [ 50  60  70  80  90 100]\n"
     ]
    }
   ],
   "source": [
    "hist, bins = np.histogram(point, [50,60,70,80,90,100])     \n",
    "print(\"구간별 데이터 수:\", hist)   # 절대도수: hist\n",
    "print(\"구간별 경계:\", bins)\n"
   ]
  },
  {
   "cell_type": "markdown",
   "metadata": {},
   "source": [
    "## #도수의 종류"
   ]
  },
  {
   "cell_type": "code",
   "execution_count": 7,
   "metadata": {},
   "outputs": [
    {
     "name": "stdout",
     "output_type": "stream",
     "text": [
      "[0.17647059 0.23529412 0.29411765 0.17647059 0.11764706]\n",
      "5\n"
     ]
    }
   ],
   "source": [
    "# 상대도수\n",
    "relative_freq = hist/np.sum(hist)\n",
    "print(relative_freq)\n",
    "\n",
    "# 누적도수 - 절대도수에서 자기 앞 도수를 모두 더한 값\n",
    "\n",
    "cum_freq = []\n",
    "previous = 0\n",
    "for i in hist:\n",
    "    previous += 1\n",
    "    cum_freq.append(previous)\n",
    "    \n",
    "print(previous)\n",
    "\n",
    "\n"
   ]
  }
 ],
 "metadata": {
  "kernelspec": {
   "display_name": "Python 3",
   "language": "python",
   "name": "python3"
  },
  "language_info": {
   "codemirror_mode": {
    "name": "ipython",
    "version": 3
   },
   "file_extension": ".py",
   "mimetype": "text/x-python",
   "name": "python",
   "nbconvert_exporter": "python",
   "pygments_lexer": "ipython3",
   "version": "3.11.8"
  }
 },
 "nbformat": 4,
 "nbformat_minor": 2
}
