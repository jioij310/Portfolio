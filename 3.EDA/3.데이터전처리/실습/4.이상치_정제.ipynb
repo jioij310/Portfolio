{
 "cells": [
  {
   "cell_type": "markdown",
   "metadata": {},
   "source": [
    "# 이상치 정제\n",
    "\n",
    "## #01. 준비과정\n",
    "\n",
    "### [1] 패키지 참조"
   ]
  },
  {
   "cell_type": "code",
   "execution_count": 1,
   "metadata": {},
   "outputs": [],
   "source": [
    "from pandas import read_excel, DataFrame\n",
    "from sklearn.impute import SimpleImputer\n",
    "import numpy as np"
   ]
  },
  {
   "cell_type": "markdown",
   "metadata": {},
   "source": [
    "### [2] 데이터 가져오기"
   ]
  },
  {
   "cell_type": "code",
   "execution_count": 16,
   "metadata": {},
   "outputs": [
    {
     "data": {
      "text/html": [
       "<div>\n",
       "<style scoped>\n",
       "    .dataframe tbody tr th:only-of-type {\n",
       "        vertical-align: middle;\n",
       "    }\n",
       "\n",
       "    .dataframe tbody tr th {\n",
       "        vertical-align: top;\n",
       "    }\n",
       "\n",
       "    .dataframe thead th {\n",
       "        text-align: right;\n",
       "    }\n",
       "</style>\n",
       "<table border=\"1\" class=\"dataframe\">\n",
       "  <thead>\n",
       "    <tr style=\"text-align: right;\">\n",
       "      <th></th>\n",
       "      <th>kor</th>\n",
       "      <th>eng</th>\n",
       "      <th>math</th>\n",
       "      <th>sic</th>\n",
       "    </tr>\n",
       "    <tr>\n",
       "      <th>name</th>\n",
       "      <th></th>\n",
       "      <th></th>\n",
       "      <th></th>\n",
       "      <th></th>\n",
       "    </tr>\n",
       "  </thead>\n",
       "  <tbody>\n",
       "    <tr>\n",
       "      <th>철수</th>\n",
       "      <td>98.0</td>\n",
       "      <td>77</td>\n",
       "      <td>88.0</td>\n",
       "      <td>64.0</td>\n",
       "    </tr>\n",
       "    <tr>\n",
       "      <th>영희</th>\n",
       "      <td>88.0</td>\n",
       "      <td>120</td>\n",
       "      <td>62.0</td>\n",
       "      <td>72.0</td>\n",
       "    </tr>\n",
       "    <tr>\n",
       "      <th>민철</th>\n",
       "      <td>NaN</td>\n",
       "      <td>70</td>\n",
       "      <td>83.0</td>\n",
       "      <td>79.0</td>\n",
       "    </tr>\n",
       "    <tr>\n",
       "      <th>수현</th>\n",
       "      <td>63.0</td>\n",
       "      <td>60</td>\n",
       "      <td>31.0</td>\n",
       "      <td>71.0</td>\n",
       "    </tr>\n",
       "    <tr>\n",
       "      <th>호영</th>\n",
       "      <td>75.0</td>\n",
       "      <td>50</td>\n",
       "      <td>90.0</td>\n",
       "      <td>NaN</td>\n",
       "    </tr>\n",
       "    <tr>\n",
       "      <th>영호</th>\n",
       "      <td>80.0</td>\n",
       "      <td>88</td>\n",
       "      <td>91.0</td>\n",
       "      <td>72.0</td>\n",
       "    </tr>\n",
       "    <tr>\n",
       "      <th>용식</th>\n",
       "      <td>82.0</td>\n",
       "      <td>88</td>\n",
       "      <td>NaN</td>\n",
       "      <td>90.0</td>\n",
       "    </tr>\n",
       "    <tr>\n",
       "      <th>나영</th>\n",
       "      <td>90.0</td>\n",
       "      <td>92</td>\n",
       "      <td>81.0</td>\n",
       "      <td>NaN</td>\n",
       "    </tr>\n",
       "    <tr>\n",
       "      <th>석영</th>\n",
       "      <td>91.0</td>\n",
       "      <td>90</td>\n",
       "      <td>89.0</td>\n",
       "      <td>80.0</td>\n",
       "    </tr>\n",
       "  </tbody>\n",
       "</table>\n",
       "</div>"
      ],
      "text/plain": [
       "       kor  eng  math   sic\n",
       "name                       \n",
       "철수    98.0   77  88.0  64.0\n",
       "영희    88.0  120  62.0  72.0\n",
       "민철     NaN   70  83.0  79.0\n",
       "수현    63.0   60  31.0  71.0\n",
       "호영    75.0   50  90.0   NaN\n",
       "영호    80.0   88  91.0  72.0\n",
       "용식    82.0   88   NaN  90.0\n",
       "나영    90.0   92  81.0   NaN\n",
       "석영    91.0   90  89.0  80.0"
      ]
     },
     "execution_count": 16,
     "metadata": {},
     "output_type": "execute_result"
    }
   ],
   "source": [
    "origin = read_excel('C:/Users/Jihwan/01Class/D.탐색적데이터분석/D.DataAnalysis/06.데이터정제\\수업\\데이터자료/ref_sample2.xlsx', index_col='name')\n",
    "origin"
   ]
  },
  {
   "cell_type": "markdown",
   "metadata": {},
   "source": [
    "## #02. 결측치 정제하기"
   ]
  },
  {
   "cell_type": "code",
   "execution_count": 3,
   "metadata": {},
   "outputs": [
    {
     "data": {
      "text/html": [
       "<div>\n",
       "<style scoped>\n",
       "    .dataframe tbody tr th:only-of-type {\n",
       "        vertical-align: middle;\n",
       "    }\n",
       "\n",
       "    .dataframe tbody tr th {\n",
       "        vertical-align: top;\n",
       "    }\n",
       "\n",
       "    .dataframe thead th {\n",
       "        text-align: right;\n",
       "    }\n",
       "</style>\n",
       "<table border=\"1\" class=\"dataframe\">\n",
       "  <thead>\n",
       "    <tr style=\"text-align: right;\">\n",
       "      <th></th>\n",
       "      <th>kor</th>\n",
       "      <th>eng</th>\n",
       "      <th>math</th>\n",
       "      <th>sic</th>\n",
       "    </tr>\n",
       "    <tr>\n",
       "      <th>name</th>\n",
       "      <th></th>\n",
       "      <th></th>\n",
       "      <th></th>\n",
       "      <th></th>\n",
       "    </tr>\n",
       "  </thead>\n",
       "  <tbody>\n",
       "    <tr>\n",
       "      <th>철수</th>\n",
       "      <td>98.000</td>\n",
       "      <td>77.0</td>\n",
       "      <td>88.000</td>\n",
       "      <td>64.000000</td>\n",
       "    </tr>\n",
       "    <tr>\n",
       "      <th>영희</th>\n",
       "      <td>88.000</td>\n",
       "      <td>120.0</td>\n",
       "      <td>62.000</td>\n",
       "      <td>72.000000</td>\n",
       "    </tr>\n",
       "    <tr>\n",
       "      <th>민철</th>\n",
       "      <td>83.375</td>\n",
       "      <td>70.0</td>\n",
       "      <td>83.000</td>\n",
       "      <td>79.000000</td>\n",
       "    </tr>\n",
       "    <tr>\n",
       "      <th>수현</th>\n",
       "      <td>63.000</td>\n",
       "      <td>60.0</td>\n",
       "      <td>31.000</td>\n",
       "      <td>71.000000</td>\n",
       "    </tr>\n",
       "    <tr>\n",
       "      <th>호영</th>\n",
       "      <td>75.000</td>\n",
       "      <td>50.0</td>\n",
       "      <td>90.000</td>\n",
       "      <td>75.428571</td>\n",
       "    </tr>\n",
       "    <tr>\n",
       "      <th>영호</th>\n",
       "      <td>80.000</td>\n",
       "      <td>88.0</td>\n",
       "      <td>91.000</td>\n",
       "      <td>72.000000</td>\n",
       "    </tr>\n",
       "    <tr>\n",
       "      <th>용식</th>\n",
       "      <td>82.000</td>\n",
       "      <td>88.0</td>\n",
       "      <td>76.875</td>\n",
       "      <td>90.000000</td>\n",
       "    </tr>\n",
       "    <tr>\n",
       "      <th>나영</th>\n",
       "      <td>90.000</td>\n",
       "      <td>92.0</td>\n",
       "      <td>81.000</td>\n",
       "      <td>75.428571</td>\n",
       "    </tr>\n",
       "    <tr>\n",
       "      <th>석영</th>\n",
       "      <td>91.000</td>\n",
       "      <td>90.0</td>\n",
       "      <td>89.000</td>\n",
       "      <td>80.000000</td>\n",
       "    </tr>\n",
       "  </tbody>\n",
       "</table>\n",
       "</div>"
      ],
      "text/plain": [
       "         kor    eng    math        sic\n",
       "name                                  \n",
       "철수    98.000   77.0  88.000  64.000000\n",
       "영희    88.000  120.0  62.000  72.000000\n",
       "민철    83.375   70.0  83.000  79.000000\n",
       "수현    63.000   60.0  31.000  71.000000\n",
       "호영    75.000   50.0  90.000  75.428571\n",
       "영호    80.000   88.0  91.000  72.000000\n",
       "용식    82.000   88.0  76.875  90.000000\n",
       "나영    90.000   92.0  81.000  75.428571\n",
       "석영    91.000   90.0  89.000  80.000000"
      ]
     },
     "execution_count": 3,
     "metadata": {},
     "output_type": "execute_result"
    }
   ],
   "source": [
    "imr = SimpleImputer(missing_values=np.nan, strategy='mean')\n",
    "df_imr = imr.fit_transform(origin.values)\n",
    "re_df = DataFrame(df_imr, index=origin.index, columns=origin.columns)\n",
    "re_df"
   ]
  },
  {
   "cell_type": "markdown",
   "metadata": {},
   "source": [
    "## #03. 이상치가 존재하는 변수 찾기"
   ]
  },
  {
   "cell_type": "markdown",
   "metadata": {},
   "source": [
    "### [1] 상자그림 확인"
   ]
  },
  {
   "cell_type": "code",
   "execution_count": 4,
   "metadata": {},
   "outputs": [
    {
     "data": {
      "text/plain": [
       "<Axes: >"
      ]
     },
     "execution_count": 4,
     "metadata": {},
     "output_type": "execute_result"
    },
    {
     "data": {
      "image/png": "[encoded data removed]",
      "text/plain": [
       "<Figure size 640x480 with 1 Axes>"
      ]
     },
     "metadata": {},
     "output_type": "display_data"
    }
   ],
   "source": [
    "re_df.boxplot()"
   ]
  },
  {
   "cell_type": "markdown",
   "metadata": {},
   "source": [
    "### [2] 찾아낸 이상치 판별\n",
    "\n",
    "## #04. 분석가의 주관에 따른 이상치 판별\n",
    "\n",
    "### [1] 이상치를 결측치로 변경"
   ]
  },
  {
   "cell_type": "code",
   "execution_count": 8,
   "metadata": {},
   "outputs": [
    {
     "data": {
      "text/html": [
       "<div>\n",
       "<style scoped>\n",
       "    .dataframe tbody tr th:only-of-type {\n",
       "        vertical-align: middle;\n",
       "    }\n",
       "\n",
       "    .dataframe tbody tr th {\n",
       "        vertical-align: top;\n",
       "    }\n",
       "\n",
       "    .dataframe thead th {\n",
       "        text-align: right;\n",
       "    }\n",
       "</style>\n",
       "<table border=\"1\" class=\"dataframe\">\n",
       "  <thead>\n",
       "    <tr style=\"text-align: right;\">\n",
       "      <th></th>\n",
       "      <th>kor</th>\n",
       "      <th>eng</th>\n",
       "      <th>math</th>\n",
       "      <th>sic</th>\n",
       "    </tr>\n",
       "    <tr>\n",
       "      <th>name</th>\n",
       "      <th></th>\n",
       "      <th></th>\n",
       "      <th></th>\n",
       "      <th></th>\n",
       "    </tr>\n",
       "  </thead>\n",
       "  <tbody>\n",
       "    <tr>\n",
       "      <th>철수</th>\n",
       "      <td>98.000</td>\n",
       "      <td>77.0</td>\n",
       "      <td>88.000</td>\n",
       "      <td>64.000000</td>\n",
       "    </tr>\n",
       "    <tr>\n",
       "      <th>영희</th>\n",
       "      <td>88.000</td>\n",
       "      <td>NaN</td>\n",
       "      <td>62.000</td>\n",
       "      <td>72.000000</td>\n",
       "    </tr>\n",
       "    <tr>\n",
       "      <th>민철</th>\n",
       "      <td>83.375</td>\n",
       "      <td>70.0</td>\n",
       "      <td>83.000</td>\n",
       "      <td>79.000000</td>\n",
       "    </tr>\n",
       "    <tr>\n",
       "      <th>수현</th>\n",
       "      <td>63.000</td>\n",
       "      <td>60.0</td>\n",
       "      <td>31.000</td>\n",
       "      <td>71.000000</td>\n",
       "    </tr>\n",
       "    <tr>\n",
       "      <th>호영</th>\n",
       "      <td>75.000</td>\n",
       "      <td>50.0</td>\n",
       "      <td>90.000</td>\n",
       "      <td>75.428571</td>\n",
       "    </tr>\n",
       "    <tr>\n",
       "      <th>영호</th>\n",
       "      <td>80.000</td>\n",
       "      <td>88.0</td>\n",
       "      <td>91.000</td>\n",
       "      <td>72.000000</td>\n",
       "    </tr>\n",
       "    <tr>\n",
       "      <th>용식</th>\n",
       "      <td>82.000</td>\n",
       "      <td>88.0</td>\n",
       "      <td>76.875</td>\n",
       "      <td>90.000000</td>\n",
       "    </tr>\n",
       "    <tr>\n",
       "      <th>나영</th>\n",
       "      <td>90.000</td>\n",
       "      <td>92.0</td>\n",
       "      <td>81.000</td>\n",
       "      <td>75.428571</td>\n",
       "    </tr>\n",
       "    <tr>\n",
       "      <th>석영</th>\n",
       "      <td>91.000</td>\n",
       "      <td>90.0</td>\n",
       "      <td>89.000</td>\n",
       "      <td>80.000000</td>\n",
       "    </tr>\n",
       "  </tbody>\n",
       "</table>\n",
       "</div>"
      ],
      "text/plain": [
       "         kor   eng    math        sic\n",
       "name                                 \n",
       "철수    98.000  77.0  88.000  64.000000\n",
       "영희    88.000   NaN  62.000  72.000000\n",
       "민철    83.375  70.0  83.000  79.000000\n",
       "수현    63.000  60.0  31.000  71.000000\n",
       "호영    75.000  50.0  90.000  75.428571\n",
       "영호    80.000  88.0  91.000  72.000000\n",
       "용식    82.000  88.0  76.875  90.000000\n",
       "나영    90.000  92.0  81.000  75.428571\n",
       "석영    91.000  90.0  89.000  80.000000"
      ]
     },
     "execution_count": 8,
     "metadata": {},
     "output_type": "execute_result"
    }
   ],
   "source": [
    "re_df.loc[re_df['eng'] > 100, 'eng'] = np.nan\n",
    "re_df"
   ]
  },
  {
   "cell_type": "markdown",
   "metadata": {},
   "source": [
    "### [2] 변경된 결측치에 대한 처리"
   ]
  },
  {
   "cell_type": "code",
   "execution_count": 17,
   "metadata": {},
   "outputs": [
    {
     "data": {
      "text/html": [
       "<div>\n",
       "<style scoped>\n",
       "    .dataframe tbody tr th:only-of-type {\n",
       "        vertical-align: middle;\n",
       "    }\n",
       "\n",
       "    .dataframe tbody tr th {\n",
       "        vertical-align: top;\n",
       "    }\n",
       "\n",
       "    .dataframe thead th {\n",
       "        text-align: right;\n",
       "    }\n",
       "</style>\n",
       "<table border=\"1\" class=\"dataframe\">\n",
       "  <thead>\n",
       "    <tr style=\"text-align: right;\">\n",
       "      <th></th>\n",
       "      <th>kor</th>\n",
       "      <th>eng</th>\n",
       "      <th>math</th>\n",
       "      <th>sic</th>\n",
       "    </tr>\n",
       "    <tr>\n",
       "      <th>name</th>\n",
       "      <th></th>\n",
       "      <th></th>\n",
       "      <th></th>\n",
       "      <th></th>\n",
       "    </tr>\n",
       "  </thead>\n",
       "  <tbody>\n",
       "    <tr>\n",
       "      <th>철수</th>\n",
       "      <td>98.000</td>\n",
       "      <td>77.000</td>\n",
       "      <td>88.000</td>\n",
       "      <td>64.000000</td>\n",
       "    </tr>\n",
       "    <tr>\n",
       "      <th>영희</th>\n",
       "      <td>88.000</td>\n",
       "      <td>76.875</td>\n",
       "      <td>62.000</td>\n",
       "      <td>72.000000</td>\n",
       "    </tr>\n",
       "    <tr>\n",
       "      <th>민철</th>\n",
       "      <td>83.375</td>\n",
       "      <td>70.000</td>\n",
       "      <td>83.000</td>\n",
       "      <td>79.000000</td>\n",
       "    </tr>\n",
       "    <tr>\n",
       "      <th>수현</th>\n",
       "      <td>63.000</td>\n",
       "      <td>60.000</td>\n",
       "      <td>31.000</td>\n",
       "      <td>71.000000</td>\n",
       "    </tr>\n",
       "    <tr>\n",
       "      <th>호영</th>\n",
       "      <td>75.000</td>\n",
       "      <td>50.000</td>\n",
       "      <td>90.000</td>\n",
       "      <td>75.428571</td>\n",
       "    </tr>\n",
       "    <tr>\n",
       "      <th>영호</th>\n",
       "      <td>80.000</td>\n",
       "      <td>88.000</td>\n",
       "      <td>91.000</td>\n",
       "      <td>72.000000</td>\n",
       "    </tr>\n",
       "    <tr>\n",
       "      <th>용식</th>\n",
       "      <td>82.000</td>\n",
       "      <td>88.000</td>\n",
       "      <td>76.875</td>\n",
       "      <td>90.000000</td>\n",
       "    </tr>\n",
       "    <tr>\n",
       "      <th>나영</th>\n",
       "      <td>90.000</td>\n",
       "      <td>92.000</td>\n",
       "      <td>81.000</td>\n",
       "      <td>75.428571</td>\n",
       "    </tr>\n",
       "    <tr>\n",
       "      <th>석영</th>\n",
       "      <td>91.000</td>\n",
       "      <td>90.000</td>\n",
       "      <td>89.000</td>\n",
       "      <td>80.000000</td>\n",
       "    </tr>\n",
       "  </tbody>\n",
       "</table>\n",
       "</div>"
      ],
      "text/plain": [
       "         kor     eng    math        sic\n",
       "name                                   \n",
       "철수    98.000  77.000  88.000  64.000000\n",
       "영희    88.000  76.875  62.000  72.000000\n",
       "민철    83.375  70.000  83.000  79.000000\n",
       "수현    63.000  60.000  31.000  71.000000\n",
       "호영    75.000  50.000  90.000  75.428571\n",
       "영호    80.000  88.000  91.000  72.000000\n",
       "용식    82.000  88.000  76.875  90.000000\n",
       "나영    90.000  92.000  81.000  75.428571\n",
       "석영    91.000  90.000  89.000  80.000000"
      ]
     },
     "execution_count": 17,
     "metadata": {},
     "output_type": "execute_result"
    }
   ],
   "source": [
    "imr = SimpleImputer(missing_values=np.nan, strategy='mean')\n",
    "df_imr = imr.fit_transform(re_df.values)\n",
    "outline_df = DataFrame(df_imr,index=re_df.index,columns=re_df.columns)\n",
    "outline_df"
   ]
  },
  {
   "cell_type": "markdown",
   "metadata": {},
   "source": [
    "## #05. 극단치 경계값을 계산하여 이상치 찾기\n",
    "\n",
    "### [1] 사분위수의 이해\n",
    "\n",
    "### [2] 사분위 수의 종류\n",
    "\n",
    "### [3] 수식을 활용하여 사분위수 구하기\n",
    "\n",
    "#### (1) 국어점수에 대한 1사분위 수\n",
    "\n",
    "##### 1사분위 수의 index\n"
   ]
  },
  {
   "cell_type": "code",
   "execution_count": 26,
   "metadata": {},
   "outputs": [
    {
     "data": {
      "text/plain": [
       "1"
      ]
     },
     "execution_count": 26,
     "metadata": {},
     "output_type": "execute_result"
    }
   ],
   "source": [
    "freq = len(outline_df['kor'])\n",
    "Q1 = int((freq-1)*0.25)+1\n",
    "Q1"
   ]
  },
  {
   "cell_type": "markdown",
   "metadata": {},
   "source": [
    "##### 실제 1사분위수 데이터"
   ]
  },
  {
   "cell_type": "code",
   "execution_count": 28,
   "metadata": {},
   "outputs": [
    {
     "data": {
      "text/plain": [
       "75.0"
      ]
     },
     "execution_count": 28,
     "metadata": {},
     "output_type": "execute_result"
    }
   ],
   "source": [
    "outline_df['kor'].sort_values().values[Q1]"
   ]
  },
  {
   "cell_type": "markdown",
   "metadata": {},
   "source": [
    "#### (2) 국어점수에 대한 2사분위 수\n",
    "\n",
    "##### 쉬운 접근 방법\n",
    "\n",
    "$Q_2 = ((총도수 + 1) * 0.5) - 1$"
   ]
  },
  {
   "cell_type": "code",
   "execution_count": 30,
   "metadata": {},
   "outputs": [
    {
     "data": {
      "text/plain": [
       "83.375"
      ]
     },
     "execution_count": 30,
     "metadata": {},
     "output_type": "execute_result"
    }
   ],
   "source": [
    "freq = len(outline_df['kor'])\n",
    "Q2 = int((freq+1)*0.5)-1\n",
    "outline_df['kor'].sort_values().values[Q2]"
   ]
  },
  {
   "cell_type": "markdown",
   "metadata": {},
   "source": [
    "##### 통계학에서 제시하는 수식"
   ]
  },
  {
   "cell_type": "code",
   "execution_count": 31,
   "metadata": {},
   "outputs": [
    {
     "data": {
      "text/plain": [
       "array([63.   , 75.   , 80.   , 82.   , 83.375, 88.   , 90.   , 91.   ,\n",
       "       98.   ])"
      ]
     },
     "execution_count": 31,
     "metadata": {},
     "output_type": "execute_result"
    }
   ],
   "source": [
    "freq = len(outline_df['kor'])\n",
    "v = outline_df['kor'].sort_values().values\n",
    "v"
   ]
  },
  {
   "cell_type": "code",
   "execution_count": 32,
   "metadata": {},
   "outputs": [
    {
     "name": "stdout",
     "output_type": "stream",
     "text": [
      "83.375\n"
     ]
    }
   ],
   "source": [
    "if freq % 2 == 0:\n",
    "    print((v[freq//2]+v[(freq)//2+1])/2)\n",
    "else:\n",
    "    print(v[(freq)//2])"
   ]
  },
  {
   "cell_type": "markdown",
   "metadata": {},
   "source": [
    "#### (3) 국어점수에 대한 3사분위 수\n",
    "\n",
    "$Q_3 = ((총도수 + 1) * 0.75) - 1$"
   ]
  },
  {
   "cell_type": "code",
   "execution_count": 33,
   "metadata": {},
   "outputs": [
    {
     "data": {
      "text/plain": [
       "90.0"
      ]
     },
     "execution_count": 33,
     "metadata": {},
     "output_type": "execute_result"
    }
   ],
   "source": [
    "freq = len(outline_df['kor'])\n",
    "Q3 = int((freq+1)*0.75)-1\n",
    "outline_df['kor'].sort_values().values[Q3]\n"
   ]
  },
  {
   "cell_type": "markdown",
   "metadata": {},
   "source": [
    "### [4] 파이썬 기능을 활용한 사분위수 구하기"
   ]
  },
  {
   "cell_type": "code",
   "execution_count": 34,
   "metadata": {},
   "outputs": [
    {
     "name": "stdout",
     "output_type": "stream",
     "text": [
      "Q1: 80.0\n",
      "Q2: 83.375\n",
      "Q2: 83.375\n",
      "Q3: 90.0\n"
     ]
    }
   ],
   "source": [
    "print(\"Q1:\", outline_df['kor'].quantile(0.25))\n",
    "print(\"Q2:\", outline_df['kor'].quantile(0.5))\n",
    "print(\"Q2:\", outline_df['kor'].median())\n",
    "print(\"Q3:\", outline_df['kor'].quantile(0.75))"
   ]
  },
  {
   "cell_type": "markdown",
   "metadata": {},
   "source": [
    "### [5] 사분위간 범위\n",
    "\n",
    "$iqr = Q_3 - Q_1$"
   ]
  },
  {
   "cell_type": "code",
   "execution_count": 35,
   "metadata": {},
   "outputs": [
    {
     "name": "stdout",
     "output_type": "stream",
     "text": [
      "사분위간 범위: 10.0\n"
     ]
    }
   ],
   "source": [
    "Q1 = outline_df['kor'].quantile(0.25)\n",
    "Q3 = outline_df['kor'].quantile(0.75)\n",
    "iqr = Q3 - Q1\n",
    "print('사분위간 범위:', iqr)"
   ]
  },
  {
   "cell_type": "markdown",
   "metadata": {},
   "source": [
    "### [6] 극단치 경계"
   ]
  },
  {
   "cell_type": "code",
   "execution_count": 36,
   "metadata": {},
   "outputs": [
    {
     "name": "stdout",
     "output_type": "stream",
     "text": [
      "상한 극단치 경계: 105.0\n",
      "하한 극단치 경계: 65.0\n"
     ]
    }
   ],
   "source": [
    "outline_max = Q3+1.5*iqr\n",
    "outline_min = Q1-1.5*iqr\n",
    "print('상한 극단치 경계:', outline_max)\n",
    "print('하한 극단치 경계:', outline_min)"
   ]
  },
  {
   "cell_type": "markdown",
   "metadata": {},
   "source": [
    "### [7] 극단치 경계값을 활용한 이상치 찾기\n",
    "\n",
    "#### 하한 이상치 확인\n",
    "\n",
    "원하는 행을 검색하기 위해 표현식을 사용한 경우"
   ]
  },
  {
   "cell_type": "code",
   "execution_count": 37,
   "metadata": {},
   "outputs": [
    {
     "data": {
      "text/html": [
       "<div>\n",
       "<style scoped>\n",
       "    .dataframe tbody tr th:only-of-type {\n",
       "        vertical-align: middle;\n",
       "    }\n",
       "\n",
       "    .dataframe tbody tr th {\n",
       "        vertical-align: top;\n",
       "    }\n",
       "\n",
       "    .dataframe thead th {\n",
       "        text-align: right;\n",
       "    }\n",
       "</style>\n",
       "<table border=\"1\" class=\"dataframe\">\n",
       "  <thead>\n",
       "    <tr style=\"text-align: right;\">\n",
       "      <th></th>\n",
       "      <th>kor</th>\n",
       "      <th>eng</th>\n",
       "      <th>math</th>\n",
       "      <th>sic</th>\n",
       "    </tr>\n",
       "    <tr>\n",
       "      <th>name</th>\n",
       "      <th></th>\n",
       "      <th></th>\n",
       "      <th></th>\n",
       "      <th></th>\n",
       "    </tr>\n",
       "  </thead>\n",
       "  <tbody>\n",
       "    <tr>\n",
       "      <th>수현</th>\n",
       "      <td>63.0</td>\n",
       "      <td>60.0</td>\n",
       "      <td>31.0</td>\n",
       "      <td>71.0</td>\n",
       "    </tr>\n",
       "  </tbody>\n",
       "</table>\n",
       "</div>"
      ],
      "text/plain": [
       "       kor   eng  math   sic\n",
       "name                        \n",
       "수현    63.0  60.0  31.0  71.0"
      ]
     },
     "execution_count": 37,
     "metadata": {},
     "output_type": "execute_result"
    }
   ],
   "source": [
    "outline_df.loc[outline_df['kor'] <= outline_min]"
   ]
  },
  {
   "cell_type": "code",
   "execution_count": 39,
   "metadata": {},
   "outputs": [
    {
     "data": {
      "text/plain": [
       "name\n",
       "수현    63.0\n",
       "Name: kor, dtype: float64"
      ]
     },
     "execution_count": 39,
     "metadata": {},
     "output_type": "execute_result"
    }
   ],
   "source": [
    "outline_df.loc[outline_df['kor'] <= outline_min,'kor']"
   ]
  },
  {
   "cell_type": "markdown",
   "metadata": {},
   "source": [
    "#### 하한 이상치를 결측치로 변환"
   ]
  },
  {
   "cell_type": "code",
   "execution_count": 40,
   "metadata": {},
   "outputs": [
    {
     "data": {
      "text/html": [
       "<div>\n",
       "<style scoped>\n",
       "    .dataframe tbody tr th:only-of-type {\n",
       "        vertical-align: middle;\n",
       "    }\n",
       "\n",
       "    .dataframe tbody tr th {\n",
       "        vertical-align: top;\n",
       "    }\n",
       "\n",
       "    .dataframe thead th {\n",
       "        text-align: right;\n",
       "    }\n",
       "</style>\n",
       "<table border=\"1\" class=\"dataframe\">\n",
       "  <thead>\n",
       "    <tr style=\"text-align: right;\">\n",
       "      <th></th>\n",
       "      <th>kor</th>\n",
       "      <th>eng</th>\n",
       "      <th>math</th>\n",
       "      <th>sic</th>\n",
       "    </tr>\n",
       "    <tr>\n",
       "      <th>name</th>\n",
       "      <th></th>\n",
       "      <th></th>\n",
       "      <th></th>\n",
       "      <th></th>\n",
       "    </tr>\n",
       "  </thead>\n",
       "  <tbody>\n",
       "    <tr>\n",
       "      <th>철수</th>\n",
       "      <td>98.000</td>\n",
       "      <td>77.000</td>\n",
       "      <td>88.000</td>\n",
       "      <td>64.000000</td>\n",
       "    </tr>\n",
       "    <tr>\n",
       "      <th>영희</th>\n",
       "      <td>88.000</td>\n",
       "      <td>76.875</td>\n",
       "      <td>62.000</td>\n",
       "      <td>72.000000</td>\n",
       "    </tr>\n",
       "    <tr>\n",
       "      <th>민철</th>\n",
       "      <td>83.375</td>\n",
       "      <td>70.000</td>\n",
       "      <td>83.000</td>\n",
       "      <td>79.000000</td>\n",
       "    </tr>\n",
       "    <tr>\n",
       "      <th>수현</th>\n",
       "      <td>NaN</td>\n",
       "      <td>60.000</td>\n",
       "      <td>31.000</td>\n",
       "      <td>71.000000</td>\n",
       "    </tr>\n",
       "    <tr>\n",
       "      <th>호영</th>\n",
       "      <td>75.000</td>\n",
       "      <td>50.000</td>\n",
       "      <td>90.000</td>\n",
       "      <td>75.428571</td>\n",
       "    </tr>\n",
       "    <tr>\n",
       "      <th>영호</th>\n",
       "      <td>80.000</td>\n",
       "      <td>88.000</td>\n",
       "      <td>91.000</td>\n",
       "      <td>72.000000</td>\n",
       "    </tr>\n",
       "    <tr>\n",
       "      <th>용식</th>\n",
       "      <td>82.000</td>\n",
       "      <td>88.000</td>\n",
       "      <td>76.875</td>\n",
       "      <td>90.000000</td>\n",
       "    </tr>\n",
       "    <tr>\n",
       "      <th>나영</th>\n",
       "      <td>90.000</td>\n",
       "      <td>92.000</td>\n",
       "      <td>81.000</td>\n",
       "      <td>75.428571</td>\n",
       "    </tr>\n",
       "    <tr>\n",
       "      <th>석영</th>\n",
       "      <td>91.000</td>\n",
       "      <td>90.000</td>\n",
       "      <td>89.000</td>\n",
       "      <td>80.000000</td>\n",
       "    </tr>\n",
       "  </tbody>\n",
       "</table>\n",
       "</div>"
      ],
      "text/plain": [
       "         kor     eng    math        sic\n",
       "name                                   \n",
       "철수    98.000  77.000  88.000  64.000000\n",
       "영희    88.000  76.875  62.000  72.000000\n",
       "민철    83.375  70.000  83.000  79.000000\n",
       "수현       NaN  60.000  31.000  71.000000\n",
       "호영    75.000  50.000  90.000  75.428571\n",
       "영호    80.000  88.000  91.000  72.000000\n",
       "용식    82.000  88.000  76.875  90.000000\n",
       "나영    90.000  92.000  81.000  75.428571\n",
       "석영    91.000  90.000  89.000  80.000000"
      ]
     },
     "execution_count": 40,
     "metadata": {},
     "output_type": "execute_result"
    }
   ],
   "source": [
    "outline_df.loc[outline_df['kor'] <= outline_min,'kor'] = np.nan\n",
    "outline_df"
   ]
  },
  {
   "cell_type": "markdown",
   "metadata": {},
   "source": [
    "#### 상한 이상치를 검색하여 결측치로 변환\n",
    "\n",
    "원하는 행을 검색하기 위해 `query()` 메서드를 사용한 경우"
   ]
  },
  {
   "cell_type": "code",
   "execution_count": 41,
   "metadata": {},
   "outputs": [
    {
     "data": {
      "text/html": [
       "<div>\n",
       "<style scoped>\n",
       "    .dataframe tbody tr th:only-of-type {\n",
       "        vertical-align: middle;\n",
       "    }\n",
       "\n",
       "    .dataframe tbody tr th {\n",
       "        vertical-align: top;\n",
       "    }\n",
       "\n",
       "    .dataframe thead th {\n",
       "        text-align: right;\n",
       "    }\n",
       "</style>\n",
       "<table border=\"1\" class=\"dataframe\">\n",
       "  <thead>\n",
       "    <tr style=\"text-align: right;\">\n",
       "      <th></th>\n",
       "      <th>kor</th>\n",
       "      <th>eng</th>\n",
       "      <th>math</th>\n",
       "      <th>sic</th>\n",
       "    </tr>\n",
       "    <tr>\n",
       "      <th>name</th>\n",
       "      <th></th>\n",
       "      <th></th>\n",
       "      <th></th>\n",
       "      <th></th>\n",
       "    </tr>\n",
       "  </thead>\n",
       "  <tbody>\n",
       "    <tr>\n",
       "      <th>철수</th>\n",
       "      <td>98.000</td>\n",
       "      <td>77.000</td>\n",
       "      <td>88.000</td>\n",
       "      <td>64.000000</td>\n",
       "    </tr>\n",
       "    <tr>\n",
       "      <th>영희</th>\n",
       "      <td>88.000</td>\n",
       "      <td>76.875</td>\n",
       "      <td>62.000</td>\n",
       "      <td>72.000000</td>\n",
       "    </tr>\n",
       "    <tr>\n",
       "      <th>민철</th>\n",
       "      <td>83.375</td>\n",
       "      <td>70.000</td>\n",
       "      <td>83.000</td>\n",
       "      <td>79.000000</td>\n",
       "    </tr>\n",
       "    <tr>\n",
       "      <th>수현</th>\n",
       "      <td>NaN</td>\n",
       "      <td>60.000</td>\n",
       "      <td>31.000</td>\n",
       "      <td>71.000000</td>\n",
       "    </tr>\n",
       "    <tr>\n",
       "      <th>호영</th>\n",
       "      <td>75.000</td>\n",
       "      <td>50.000</td>\n",
       "      <td>90.000</td>\n",
       "      <td>75.428571</td>\n",
       "    </tr>\n",
       "    <tr>\n",
       "      <th>영호</th>\n",
       "      <td>80.000</td>\n",
       "      <td>88.000</td>\n",
       "      <td>91.000</td>\n",
       "      <td>72.000000</td>\n",
       "    </tr>\n",
       "    <tr>\n",
       "      <th>용식</th>\n",
       "      <td>82.000</td>\n",
       "      <td>88.000</td>\n",
       "      <td>76.875</td>\n",
       "      <td>90.000000</td>\n",
       "    </tr>\n",
       "    <tr>\n",
       "      <th>나영</th>\n",
       "      <td>90.000</td>\n",
       "      <td>92.000</td>\n",
       "      <td>81.000</td>\n",
       "      <td>75.428571</td>\n",
       "    </tr>\n",
       "    <tr>\n",
       "      <th>석영</th>\n",
       "      <td>91.000</td>\n",
       "      <td>90.000</td>\n",
       "      <td>89.000</td>\n",
       "      <td>80.000000</td>\n",
       "    </tr>\n",
       "  </tbody>\n",
       "</table>\n",
       "</div>"
      ],
      "text/plain": [
       "         kor     eng    math        sic\n",
       "name                                   \n",
       "철수    98.000  77.000  88.000  64.000000\n",
       "영희    88.000  76.875  62.000  72.000000\n",
       "민철    83.375  70.000  83.000  79.000000\n",
       "수현       NaN  60.000  31.000  71.000000\n",
       "호영    75.000  50.000  90.000  75.428571\n",
       "영호    80.000  88.000  91.000  72.000000\n",
       "용식    82.000  88.000  76.875  90.000000\n",
       "나영    90.000  92.000  81.000  75.428571\n",
       "석영    91.000  90.000  89.000  80.000000"
      ]
     },
     "execution_count": 41,
     "metadata": {},
     "output_type": "execute_result"
    }
   ],
   "source": [
    "outline_df.query('kor>@outline_max')['kor'] = np.nan\n",
    "outline_df"
   ]
  },
  {
   "cell_type": "markdown",
   "metadata": {},
   "source": [
    "### [8] 지금까지의 과정을 일괄 처리하기\n",
    "\n",
    "#### (1) 영어 점수에 대한 처리\n",
    "\n",
    "> 상자그림에서 확인했을 때 영어 점수에는 이상치가 없었으므로 아래의 코드로 영어점수에 결측치가 추가되는 않는다."
   ]
  },
  {
   "cell_type": "code",
   "execution_count": 42,
   "metadata": {},
   "outputs": [
    {
     "data": {
      "text/html": [
       "<div>\n",
       "<style scoped>\n",
       "    .dataframe tbody tr th:only-of-type {\n",
       "        vertical-align: middle;\n",
       "    }\n",
       "\n",
       "    .dataframe tbody tr th {\n",
       "        vertical-align: top;\n",
       "    }\n",
       "\n",
       "    .dataframe thead th {\n",
       "        text-align: right;\n",
       "    }\n",
       "</style>\n",
       "<table border=\"1\" class=\"dataframe\">\n",
       "  <thead>\n",
       "    <tr style=\"text-align: right;\">\n",
       "      <th></th>\n",
       "      <th>kor</th>\n",
       "      <th>eng</th>\n",
       "      <th>math</th>\n",
       "      <th>sic</th>\n",
       "    </tr>\n",
       "    <tr>\n",
       "      <th>name</th>\n",
       "      <th></th>\n",
       "      <th></th>\n",
       "      <th></th>\n",
       "      <th></th>\n",
       "    </tr>\n",
       "  </thead>\n",
       "  <tbody>\n",
       "    <tr>\n",
       "      <th>철수</th>\n",
       "      <td>98.000</td>\n",
       "      <td>77.000</td>\n",
       "      <td>88.000</td>\n",
       "      <td>64.000000</td>\n",
       "    </tr>\n",
       "    <tr>\n",
       "      <th>영희</th>\n",
       "      <td>88.000</td>\n",
       "      <td>76.875</td>\n",
       "      <td>62.000</td>\n",
       "      <td>72.000000</td>\n",
       "    </tr>\n",
       "    <tr>\n",
       "      <th>민철</th>\n",
       "      <td>83.375</td>\n",
       "      <td>70.000</td>\n",
       "      <td>83.000</td>\n",
       "      <td>79.000000</td>\n",
       "    </tr>\n",
       "    <tr>\n",
       "      <th>수현</th>\n",
       "      <td>NaN</td>\n",
       "      <td>60.000</td>\n",
       "      <td>31.000</td>\n",
       "      <td>71.000000</td>\n",
       "    </tr>\n",
       "    <tr>\n",
       "      <th>호영</th>\n",
       "      <td>75.000</td>\n",
       "      <td>50.000</td>\n",
       "      <td>90.000</td>\n",
       "      <td>75.428571</td>\n",
       "    </tr>\n",
       "    <tr>\n",
       "      <th>영호</th>\n",
       "      <td>80.000</td>\n",
       "      <td>88.000</td>\n",
       "      <td>91.000</td>\n",
       "      <td>72.000000</td>\n",
       "    </tr>\n",
       "    <tr>\n",
       "      <th>용식</th>\n",
       "      <td>82.000</td>\n",
       "      <td>88.000</td>\n",
       "      <td>76.875</td>\n",
       "      <td>90.000000</td>\n",
       "    </tr>\n",
       "    <tr>\n",
       "      <th>나영</th>\n",
       "      <td>90.000</td>\n",
       "      <td>92.000</td>\n",
       "      <td>81.000</td>\n",
       "      <td>75.428571</td>\n",
       "    </tr>\n",
       "    <tr>\n",
       "      <th>석영</th>\n",
       "      <td>91.000</td>\n",
       "      <td>90.000</td>\n",
       "      <td>89.000</td>\n",
       "      <td>80.000000</td>\n",
       "    </tr>\n",
       "  </tbody>\n",
       "</table>\n",
       "</div>"
      ],
      "text/plain": [
       "         kor     eng    math        sic\n",
       "name                                   \n",
       "철수    98.000  77.000  88.000  64.000000\n",
       "영희    88.000  76.875  62.000  72.000000\n",
       "민철    83.375  70.000  83.000  79.000000\n",
       "수현       NaN  60.000  31.000  71.000000\n",
       "호영    75.000  50.000  90.000  75.428571\n",
       "영호    80.000  88.000  91.000  72.000000\n",
       "용식    82.000  88.000  76.875  90.000000\n",
       "나영    90.000  92.000  81.000  75.428571\n",
       "석영    91.000  90.000  89.000  80.000000"
      ]
     },
     "execution_count": 42,
     "metadata": {},
     "output_type": "execute_result"
    }
   ],
   "source": [
    "Q1 = outline_df['eng'].quantile(0.25)\n",
    "Q3 = outline_df['eng'].quantile(0.75)\n",
    "iqr = Q3 - Q1\n",
    "\n",
    "outline_max = Q3+1.5*iqr\n",
    "outline_min = Q1-1.5*iqr\n",
    "\n",
    "outline_df.loc[outline_df['eng'] <= outline_min,'eng'] = np.nan\n",
    "outline_df.loc[outline_df['eng'] >= outline_max,'eng'] = np.nan\n",
    "outline_df\n"
   ]
  },
  {
   "cell_type": "markdown",
   "metadata": {},
   "source": [
    "#### (2) 수학 점수에 대한 처리"
   ]
  },
  {
   "cell_type": "code",
   "execution_count": 43,
   "metadata": {},
   "outputs": [
    {
     "data": {
      "text/html": [
       "<div>\n",
       "<style scoped>\n",
       "    .dataframe tbody tr th:only-of-type {\n",
       "        vertical-align: middle;\n",
       "    }\n",
       "\n",
       "    .dataframe tbody tr th {\n",
       "        vertical-align: top;\n",
       "    }\n",
       "\n",
       "    .dataframe thead th {\n",
       "        text-align: right;\n",
       "    }\n",
       "</style>\n",
       "<table border=\"1\" class=\"dataframe\">\n",
       "  <thead>\n",
       "    <tr style=\"text-align: right;\">\n",
       "      <th></th>\n",
       "      <th>kor</th>\n",
       "      <th>eng</th>\n",
       "      <th>math</th>\n",
       "      <th>sic</th>\n",
       "    </tr>\n",
       "    <tr>\n",
       "      <th>name</th>\n",
       "      <th></th>\n",
       "      <th></th>\n",
       "      <th></th>\n",
       "      <th></th>\n",
       "    </tr>\n",
       "  </thead>\n",
       "  <tbody>\n",
       "    <tr>\n",
       "      <th>철수</th>\n",
       "      <td>98.000</td>\n",
       "      <td>77.000</td>\n",
       "      <td>88.000</td>\n",
       "      <td>64.000000</td>\n",
       "    </tr>\n",
       "    <tr>\n",
       "      <th>영희</th>\n",
       "      <td>88.000</td>\n",
       "      <td>76.875</td>\n",
       "      <td>62.000</td>\n",
       "      <td>72.000000</td>\n",
       "    </tr>\n",
       "    <tr>\n",
       "      <th>민철</th>\n",
       "      <td>83.375</td>\n",
       "      <td>70.000</td>\n",
       "      <td>83.000</td>\n",
       "      <td>79.000000</td>\n",
       "    </tr>\n",
       "    <tr>\n",
       "      <th>수현</th>\n",
       "      <td>NaN</td>\n",
       "      <td>60.000</td>\n",
       "      <td>NaN</td>\n",
       "      <td>71.000000</td>\n",
       "    </tr>\n",
       "    <tr>\n",
       "      <th>호영</th>\n",
       "      <td>75.000</td>\n",
       "      <td>50.000</td>\n",
       "      <td>90.000</td>\n",
       "      <td>75.428571</td>\n",
       "    </tr>\n",
       "    <tr>\n",
       "      <th>영호</th>\n",
       "      <td>80.000</td>\n",
       "      <td>88.000</td>\n",
       "      <td>91.000</td>\n",
       "      <td>72.000000</td>\n",
       "    </tr>\n",
       "    <tr>\n",
       "      <th>용식</th>\n",
       "      <td>82.000</td>\n",
       "      <td>88.000</td>\n",
       "      <td>76.875</td>\n",
       "      <td>90.000000</td>\n",
       "    </tr>\n",
       "    <tr>\n",
       "      <th>나영</th>\n",
       "      <td>90.000</td>\n",
       "      <td>92.000</td>\n",
       "      <td>81.000</td>\n",
       "      <td>75.428571</td>\n",
       "    </tr>\n",
       "    <tr>\n",
       "      <th>석영</th>\n",
       "      <td>91.000</td>\n",
       "      <td>90.000</td>\n",
       "      <td>89.000</td>\n",
       "      <td>80.000000</td>\n",
       "    </tr>\n",
       "  </tbody>\n",
       "</table>\n",
       "</div>"
      ],
      "text/plain": [
       "         kor     eng    math        sic\n",
       "name                                   \n",
       "철수    98.000  77.000  88.000  64.000000\n",
       "영희    88.000  76.875  62.000  72.000000\n",
       "민철    83.375  70.000  83.000  79.000000\n",
       "수현       NaN  60.000     NaN  71.000000\n",
       "호영    75.000  50.000  90.000  75.428571\n",
       "영호    80.000  88.000  91.000  72.000000\n",
       "용식    82.000  88.000  76.875  90.000000\n",
       "나영    90.000  92.000  81.000  75.428571\n",
       "석영    91.000  90.000  89.000  80.000000"
      ]
     },
     "execution_count": 43,
     "metadata": {},
     "output_type": "execute_result"
    }
   ],
   "source": [
    "Q1 = outline_df['math'].quantile(0.25)\n",
    "Q3 = outline_df['math'].quantile(0.75)\n",
    "iqr = Q3 - Q1\n",
    "\n",
    "outline_max = Q3+1.5*iqr\n",
    "outline_min = Q1-1.5*iqr\n",
    "\n",
    "outline_df.loc[outline_df['math'] <= outline_min,'math'] = np.nan\n",
    "outline_df.loc[outline_df['math'] >= outline_max,'math'] = np.nan\n",
    "outline_df\n"
   ]
  },
  {
   "cell_type": "markdown",
   "metadata": {},
   "source": [
    "#### (3) 과학점수에 대한 처리"
   ]
  },
  {
   "cell_type": "code",
   "execution_count": 44,
   "metadata": {},
   "outputs": [
    {
     "data": {
      "text/html": [
       "<div>\n",
       "<style scoped>\n",
       "    .dataframe tbody tr th:only-of-type {\n",
       "        vertical-align: middle;\n",
       "    }\n",
       "\n",
       "    .dataframe tbody tr th {\n",
       "        vertical-align: top;\n",
       "    }\n",
       "\n",
       "    .dataframe thead th {\n",
       "        text-align: right;\n",
       "    }\n",
       "</style>\n",
       "<table border=\"1\" class=\"dataframe\">\n",
       "  <thead>\n",
       "    <tr style=\"text-align: right;\">\n",
       "      <th></th>\n",
       "      <th>kor</th>\n",
       "      <th>eng</th>\n",
       "      <th>math</th>\n",
       "      <th>sic</th>\n",
       "    </tr>\n",
       "    <tr>\n",
       "      <th>name</th>\n",
       "      <th></th>\n",
       "      <th></th>\n",
       "      <th></th>\n",
       "      <th></th>\n",
       "    </tr>\n",
       "  </thead>\n",
       "  <tbody>\n",
       "    <tr>\n",
       "      <th>철수</th>\n",
       "      <td>98.000</td>\n",
       "      <td>77.000</td>\n",
       "      <td>88.000</td>\n",
       "      <td>64.000000</td>\n",
       "    </tr>\n",
       "    <tr>\n",
       "      <th>영희</th>\n",
       "      <td>88.000</td>\n",
       "      <td>76.875</td>\n",
       "      <td>62.000</td>\n",
       "      <td>72.000000</td>\n",
       "    </tr>\n",
       "    <tr>\n",
       "      <th>민철</th>\n",
       "      <td>83.375</td>\n",
       "      <td>70.000</td>\n",
       "      <td>83.000</td>\n",
       "      <td>79.000000</td>\n",
       "    </tr>\n",
       "    <tr>\n",
       "      <th>수현</th>\n",
       "      <td>NaN</td>\n",
       "      <td>60.000</td>\n",
       "      <td>NaN</td>\n",
       "      <td>71.000000</td>\n",
       "    </tr>\n",
       "    <tr>\n",
       "      <th>호영</th>\n",
       "      <td>75.000</td>\n",
       "      <td>50.000</td>\n",
       "      <td>90.000</td>\n",
       "      <td>75.428571</td>\n",
       "    </tr>\n",
       "    <tr>\n",
       "      <th>영호</th>\n",
       "      <td>80.000</td>\n",
       "      <td>88.000</td>\n",
       "      <td>91.000</td>\n",
       "      <td>72.000000</td>\n",
       "    </tr>\n",
       "    <tr>\n",
       "      <th>용식</th>\n",
       "      <td>82.000</td>\n",
       "      <td>88.000</td>\n",
       "      <td>76.875</td>\n",
       "      <td>NaN</td>\n",
       "    </tr>\n",
       "    <tr>\n",
       "      <th>나영</th>\n",
       "      <td>90.000</td>\n",
       "      <td>92.000</td>\n",
       "      <td>81.000</td>\n",
       "      <td>75.428571</td>\n",
       "    </tr>\n",
       "    <tr>\n",
       "      <th>석영</th>\n",
       "      <td>91.000</td>\n",
       "      <td>90.000</td>\n",
       "      <td>89.000</td>\n",
       "      <td>80.000000</td>\n",
       "    </tr>\n",
       "  </tbody>\n",
       "</table>\n",
       "</div>"
      ],
      "text/plain": [
       "         kor     eng    math        sic\n",
       "name                                   \n",
       "철수    98.000  77.000  88.000  64.000000\n",
       "영희    88.000  76.875  62.000  72.000000\n",
       "민철    83.375  70.000  83.000  79.000000\n",
       "수현       NaN  60.000     NaN  71.000000\n",
       "호영    75.000  50.000  90.000  75.428571\n",
       "영호    80.000  88.000  91.000  72.000000\n",
       "용식    82.000  88.000  76.875        NaN\n",
       "나영    90.000  92.000  81.000  75.428571\n",
       "석영    91.000  90.000  89.000  80.000000"
      ]
     },
     "execution_count": 44,
     "metadata": {},
     "output_type": "execute_result"
    }
   ],
   "source": [
    "Q1 = outline_df['sic'].quantile(0.25)\n",
    "Q3 = outline_df['sic'].quantile(0.75)\n",
    "iqr = Q3 - Q1\n",
    "\n",
    "outline_max = Q3+1.5*iqr\n",
    "outline_min = Q1-1.5*iqr\n",
    "\n",
    "outline_df.loc[outline_df['sic'] <= outline_min,'sic'] = np.nan\n",
    "outline_df.loc[outline_df['sic'] >= outline_max,'sic'] = np.nan\n",
    "outline_df\n"
   ]
  },
  {
   "cell_type": "markdown",
   "metadata": {},
   "source": [
    "### [9] 결측치로 변환된 값을 처리"
   ]
  },
  {
   "cell_type": "code",
   "execution_count": 45,
   "metadata": {},
   "outputs": [
    {
     "data": {
      "text/html": [
       "<div>\n",
       "<style scoped>\n",
       "    .dataframe tbody tr th:only-of-type {\n",
       "        vertical-align: middle;\n",
       "    }\n",
       "\n",
       "    .dataframe tbody tr th {\n",
       "        vertical-align: top;\n",
       "    }\n",
       "\n",
       "    .dataframe thead th {\n",
       "        text-align: right;\n",
       "    }\n",
       "</style>\n",
       "<table border=\"1\" class=\"dataframe\">\n",
       "  <thead>\n",
       "    <tr style=\"text-align: right;\">\n",
       "      <th></th>\n",
       "      <th>kor</th>\n",
       "      <th>eng</th>\n",
       "      <th>math</th>\n",
       "      <th>sic</th>\n",
       "    </tr>\n",
       "    <tr>\n",
       "      <th>name</th>\n",
       "      <th></th>\n",
       "      <th></th>\n",
       "      <th></th>\n",
       "      <th></th>\n",
       "    </tr>\n",
       "  </thead>\n",
       "  <tbody>\n",
       "    <tr>\n",
       "      <th>철수</th>\n",
       "      <td>98.000000</td>\n",
       "      <td>77.000</td>\n",
       "      <td>88.000000</td>\n",
       "      <td>64.000000</td>\n",
       "    </tr>\n",
       "    <tr>\n",
       "      <th>영희</th>\n",
       "      <td>88.000000</td>\n",
       "      <td>76.875</td>\n",
       "      <td>62.000000</td>\n",
       "      <td>72.000000</td>\n",
       "    </tr>\n",
       "    <tr>\n",
       "      <th>민철</th>\n",
       "      <td>83.375000</td>\n",
       "      <td>70.000</td>\n",
       "      <td>83.000000</td>\n",
       "      <td>79.000000</td>\n",
       "    </tr>\n",
       "    <tr>\n",
       "      <th>수현</th>\n",
       "      <td>85.921875</td>\n",
       "      <td>60.000</td>\n",
       "      <td>82.609375</td>\n",
       "      <td>71.000000</td>\n",
       "    </tr>\n",
       "    <tr>\n",
       "      <th>호영</th>\n",
       "      <td>75.000000</td>\n",
       "      <td>50.000</td>\n",
       "      <td>90.000000</td>\n",
       "      <td>75.428571</td>\n",
       "    </tr>\n",
       "    <tr>\n",
       "      <th>영호</th>\n",
       "      <td>80.000000</td>\n",
       "      <td>88.000</td>\n",
       "      <td>91.000000</td>\n",
       "      <td>72.000000</td>\n",
       "    </tr>\n",
       "    <tr>\n",
       "      <th>용식</th>\n",
       "      <td>82.000000</td>\n",
       "      <td>88.000</td>\n",
       "      <td>76.875000</td>\n",
       "      <td>73.607143</td>\n",
       "    </tr>\n",
       "    <tr>\n",
       "      <th>나영</th>\n",
       "      <td>90.000000</td>\n",
       "      <td>92.000</td>\n",
       "      <td>81.000000</td>\n",
       "      <td>75.428571</td>\n",
       "    </tr>\n",
       "    <tr>\n",
       "      <th>석영</th>\n",
       "      <td>91.000000</td>\n",
       "      <td>90.000</td>\n",
       "      <td>89.000000</td>\n",
       "      <td>80.000000</td>\n",
       "    </tr>\n",
       "  </tbody>\n",
       "</table>\n",
       "</div>"
      ],
      "text/plain": [
       "            kor     eng       math        sic\n",
       "name                                         \n",
       "철수    98.000000  77.000  88.000000  64.000000\n",
       "영희    88.000000  76.875  62.000000  72.000000\n",
       "민철    83.375000  70.000  83.000000  79.000000\n",
       "수현    85.921875  60.000  82.609375  71.000000\n",
       "호영    75.000000  50.000  90.000000  75.428571\n",
       "영호    80.000000  88.000  91.000000  72.000000\n",
       "용식    82.000000  88.000  76.875000  73.607143\n",
       "나영    90.000000  92.000  81.000000  75.428571\n",
       "석영    91.000000  90.000  89.000000  80.000000"
      ]
     },
     "execution_count": 45,
     "metadata": {},
     "output_type": "execute_result"
    }
   ],
   "source": [
    "imr = SimpleImputer(missing_values=np.nan,strategy='mean')\n",
    "df_imr = imr.fit_transform(outline_df.values)\n",
    "final_df = DataFrame(df_imr, index=outline_df.index, columns=outline_df.columns)\n",
    "final_df"
   ]
  }
 ],
 "metadata": {
  "kernelspec": {
   "display_name": "Python 3",
   "language": "python",
   "name": "python3"
  },
  "language_info": {
   "codemirror_mode": {
    "name": "ipython",
    "version": 3
   },
   "file_extension": ".py",
   "mimetype": "text/x-python",
   "name": "python",
   "nbconvert_exporter": "python",
   "pygments_lexer": "ipython3",
   "version": "3.12.0"
  }
 },
 "nbformat": 4,
 "nbformat_minor": 2
}
