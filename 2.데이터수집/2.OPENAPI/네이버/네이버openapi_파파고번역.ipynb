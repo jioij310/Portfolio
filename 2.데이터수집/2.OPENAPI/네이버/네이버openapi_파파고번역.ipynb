{
 "cells": [
  {
   "cell_type": "code",
   "execution_count": 1,
   "metadata": {},
   "outputs": [],
   "source": [
    "import requests\n",
    "import json\n",
    "import datetime as dt\n",
    "import os"
   ]
  },
  {
   "cell_type": "code",
   "execution_count": 7,
   "metadata": {},
   "outputs": [],
   "source": [
    "url = \"https://openapi.naver.com/v1/papago/n2mt\""
   ]
  },
  {
   "cell_type": "code",
   "execution_count": 8,
   "metadata": {},
   "outputs": [],
   "source": [
    "source = 'en'\n",
    "target = 'ko'\n",
    "text = 'The explosive growth of data volume and the ever-increasing demands of data value extraction have driven us into the era of big data'\n",
    "\n",
    "clientId = \"\"\n",
    "clientSecret = \"\"\n",
    "\n"
   ]
  },
  {
   "cell_type": "code",
   "execution_count": 9,
   "metadata": {},
   "outputs": [],
   "source": [
    "session = requests.Session()\n",
    "\n",
    "session.headers.update({\n",
    "     \"Referer\": \"\",\n",
    "    \"User-Agent\": \"Mozilla/5.0 (Windows NT 10.0; Win64; x64) AppleWebKit/537.36 (KHTML, like Gecko) Chrome/119.0.0.0 Safari/537.36\",\n",
    "    \"X-Naver-Client-Id\": clientId,\n",
    "    \"X-Naver-Client-Secret\": clientSecret\n",
    "})"
   ]
  },
  {
   "cell_type": "code",
   "execution_count": 10,
   "metadata": {},
   "outputs": [
    {
     "name": "stdout",
     "output_type": "stream",
     "text": [
      "<class 'dict'>\n"
     ]
    },
    {
     "data": {
      "text/plain": [
       "'데이터 볼륨의 폭발적인 증가와 데이터 가치 추출에 대한 지속적인 요구는 우리를 빅 데이터 시대로 몰아넣었습니다'"
      ]
     },
     "execution_count": 10,
     "metadata": {},
     "output_type": "execute_result"
    }
   ],
   "source": [
    "try:\n",
    "    r = session.post(url, data={\n",
    "        \"source\": source,\n",
    "        \"target\": target,\n",
    "        \"text\": text\n",
    "    })\n",
    "\n",
    "    if r.status_code !=200:\n",
    "        msg = \"[%d Error] %s 에러가 발생함\" % (r.status_code, r.reason)\n",
    "        raise Exception(msg)\n",
    "\n",
    "except Exception as e:\n",
    "    print(\"접속에 실패했습니다.\")\n",
    "    print(e)  \n",
    "\n",
    "r.encoding = \"utf-8\"\n",
    "mydict = json.loads(r.text)\n",
    "print(type(mydict))\n",
    "mydict\n",
    "\n",
    "mydict['message']['result']['translatedText']\n"
   ]
  }
 ],
 "metadata": {
  "kernelspec": {
   "display_name": "Python 3",
   "language": "python",
   "name": "python3"
  },
  "language_info": {
   "codemirror_mode": {
    "name": "ipython",
    "version": 3
   },
   "file_extension": ".py",
   "mimetype": "text/x-python",
   "name": "python",
   "nbconvert_exporter": "python",
   "pygments_lexer": "ipython3",
   "version": "3.12.0"
  }
 },
 "nbformat": 4,
 "nbformat_minor": 2
}
