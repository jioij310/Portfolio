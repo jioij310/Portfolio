{
 "cells": [
  {
   "cell_type": "code",
   "execution_count": 13,
   "metadata": {},
   "outputs": [],
   "source": [
    "import requests\n",
    "import json\n",
    "import datetime as dt"
   ]
  },
  {
   "cell_type": "code",
   "execution_count": 14,
   "metadata": {},
   "outputs": [],
   "source": [
    "urlFmt = \"https://dapi.kakao.com/v3/search/book?query={query}&page={page}&size={size}\""
   ]
  },
  {
   "cell_type": "code",
   "execution_count": 15,
   "metadata": {},
   "outputs": [],
   "source": [
    "query = 'python'\n",
    "page = 1\n",
    "size = 50\n",
    "key = \"\""
   ]
  },
  {
   "cell_type": "code",
   "execution_count": 16,
   "metadata": {},
   "outputs": [],
   "source": [
    "session = requests.Session()\n",
    "\n",
    "session.headers.update({\n",
    "    \"Referer\": \"\",\n",
    "    \"User-Agent\": \"Mozilla/5.0 (Windows NT 10.0; Win64; x64) AppleWebKit/537.36 (KHTML, like Gecko) Chrome/119.0.0.0 Safari/537.36\",\n",
    "    \"Authorization\": \"KakaoAK %s\" % key\n",
    "\n",
    "})"
   ]
  },
  {
   "cell_type": "code",
   "execution_count": 17,
   "metadata": {},
   "outputs": [
    {
     "name": "stdout",
     "output_type": "stream",
     "text": [
      "https://dapi.kakao.com/v3/search/book?query=python&page=1&size=50\n",
      "https://dapi.kakao.com/v3/search/book?query=python&page=1&size=50\n",
      "https://dapi.kakao.com/v3/search/book?query=python&page=1&size=50\n",
      "https://dapi.kakao.com/v3/search/book?query=python&page=1&size=50\n",
      "https://dapi.kakao.com/v3/search/book?query=python&page=1&size=50\n",
      "https://dapi.kakao.com/v3/search/book?query=python&page=1&size=50\n",
      "https://dapi.kakao.com/v3/search/book?query=python&page=1&size=50\n",
      "https://dapi.kakao.com/v3/search/book?query=python&page=1&size=50\n",
      "https://dapi.kakao.com/v3/search/book?query=python&page=1&size=50\n",
      "https://dapi.kakao.com/v3/search/book?query=python&page=1&size=50\n",
      "접속에 실패했습니다.\n",
      "('Connection aborted.', RemoteDisconnected('Remote end closed connection without response'))\n",
      "1 페이지로부터 50건의 데이터를 수집했습니다.\n",
      "fin :)\n"
     ]
    }
   ],
   "source": [
    "page = 1\n",
    "isEnd = False\n",
    "\n",
    "mydata = []\n",
    "\n",
    "while not isEnd:\n",
    "    url = urlFmt.format(query=query, page=page, size=size)\n",
    "    print(url)\n",
    "\n",
    "    try:\n",
    "        r = session.get(url)\n",
    "\n",
    "        if r.status_code !=200:\n",
    "            msg = \"[%d Error] %s 에러가 발생함\" % (r.status_code, r.reason)\n",
    "            raise Exception(msg)\n",
    "\n",
    "    except Exception as e:\n",
    "        print(\"접속에 실패했습니다.\")\n",
    "        print(e)  \n",
    "\n",
    "        break\n",
    "\n",
    "\n",
    "\n",
    "r.encoding = \"utf-8\"\n",
    "mydict = json.loads(r.text)\n",
    "\n",
    "mydata += mydict['documents']\n",
    "print(\"%d 페이지로부터 %d건의 데이터를 수집했습니다.\" % (page,len(mydict['documents'])))\n",
    "\n",
    "isEnd = mydict['meta']['is_end']\n",
    "\n",
    "page += 1\n",
    "\n",
    "print(\"fin :)\")"
   ]
  }
 ],
 "metadata": {
  "kernelspec": {
   "display_name": "Python 3",
   "language": "python",
   "name": "python3"
  },
  "language_info": {
   "codemirror_mode": {
    "name": "ipython",
    "version": 3
   },
   "file_extension": ".py",
   "mimetype": "text/x-python",
   "name": "python",
   "nbconvert_exporter": "python",
   "pygments_lexer": "ipython3",
   "version": "3.12.0"
  }
 },
 "nbformat": 4,
 "nbformat_minor": 2
}
