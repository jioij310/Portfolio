{
 "cells": [
  {
   "cell_type": "code",
   "execution_count": 1,
   "metadata": {},
   "outputs": [],
   "source": [
    "import time\n",
    "import datetime as dt\n",
    "import chromedriver_autoinstaller\n",
    "from bs4 import BeautifulSoup\n",
    "from selenium import webdriver\n",
    "from selenium.webdriver.common.by import By\n",
    "from selenium.webdriver.support.ui import WebDriverWait"
   ]
  },
  {
   "cell_type": "code",
   "execution_count": 2,
   "metadata": {},
   "outputs": [
    {
     "data": {
      "text/plain": [
       "['Desperately projecting that everything is as it was, the Kremlin is only emphasizing how much has changed.\\n',\n",
       " '\\n',\n",
       " 'These were 36 hours that provided a glimpse of the end of Russian President Vladimir Putin’s rule. Almost every action was improbable, at best a week ago – much was inconceivable, 17 months ago.\\n',\n",
       " '\\n',\n",
       " 'A loyal henchman slams the premise of the invasion, then claims an airstrike targeted his troops, before taking a major military town without clashes, Prigozhin said, and then marching to within a few hundred miles of Moscow. But suddenly he executes a baffling reversal, turning back to avoid bloodshed, as the Kremlin claims Alexander Lukashenko, the president of Belarus whom Putin seems to treat with contempt, brokered a dramatic reprieve, in which the insurrectionist who has his armor bound for Moscow, now opts for exile in Minsk.\\n']"
      ]
     },
     "execution_count": 2,
     "metadata": {},
     "output_type": "execute_result"
    }
   ],
   "source": [
    "with open(\"news.txt\", \"r\", encoding='utf-8') as f:\n",
    "    source = f.readlines()\n",
    "\n",
    "source[:5]"
   ]
  },
  {
   "cell_type": "code",
   "execution_count": 3,
   "metadata": {},
   "outputs": [],
   "source": [
    "chromedriver_autoinstaller.install()\n",
    "driver = webdriver.Chrome()\n",
    "driver.implicitly_wait(5)\n",
    "\n",
    "driver.get(\"https://papago.naver.com/\")\n",
    "time.sleep(3)"
   ]
  },
  {
   "cell_type": "code",
   "execution_count": 7,
   "metadata": {},
   "outputs": [
    {
     "name": "stdout",
     "output_type": "stream",
     "text": [
      "Desperately projecting that everything is as it was, the Kremlin is only emphasizing how much has changed.\n",
      "--------------------------------------------------\n",
      "모든 것이 원래대로라고 필사적으로 전망하면서 크렘린은 얼마나 많이 변했는지만 강조하고 있습니다.\n",
      "------------------------------\n",
      "These were 36 hours that provided a glimpse of the end of Russian President Vladimir Putin’s rule. Almost every action was improbable, at best a week ago – much was inconceivable, 17 months ago.\n",
      "--------------------------------------------------\n",
      "이것들은 블라디미르 푸틴 러시아 대통령의 통치 종식을 엿볼 수 있는 36시간이었습니다. 기껏해야 일주일 전만 해도 거의 모든 행동이 불가능했습니다. 17개월 전만 해도 많은 것들이 상상할 수 없는 것들이었습니다.\n",
      "------------------------------\n",
      "A loyal henchman slams the premise of the invasion, then claims an airstrike targeted his troops, before taking a major military town without clashes, Prigozhin said, and then marching to within a few hundred miles of Moscow. But suddenly he executes a baffling reversal, turning back to avoid bloodshed, as the Kremlin claims Alexander Lukashenko, the president of Belarus whom Putin seems to treat with contempt, brokered a dramatic reprieve, in which the insurrectionist who has his armor bound for Moscow, now opts for exile in Minsk.\n",
      "--------------------------------------------------\n",
      "한 충직한 심복이 침공의 전제를 무너뜨린 다음, 공습이 자신의 군대를 겨냥했다고 주장한 다음, 충돌 없이 주요 군사도시를 점령한 다음, 모스크바에서 수백 마일 이내로 진격한다고 프리고진은 말했습니다. 하지만 갑자기 그는 당황스러운 반전을 감행하고, 유혈사태를 피하기 위해 돌아서는데, 크렘린궁은 푸틴이 경멸적으로 대하는 것으로 보이는 벨라루스 대통령 알렉산드르 루카셴코가 모스크바로 향하는 갑옷을 입은 반란군이 이제는 민스크로 망명을 선택하는 극적인 구제조치를 중개했다고 주장하고 있습니다.\n",
      "------------------------------\n",
      "Even as the dust settles, it still makes little sense. It is important to remember we have yet to hear from Yevgeny Prigozhin that he has accepted exile in Belarus and see evidence his units have genuinely all stood down. He is an open proliferator of misinformation. We should be equally suspicious of the apparent bow with which Kremlin spokesman Dmitry Peskov tried to tie this startling episode up with on Saturday night. Two hours earlier, Wagner were at the gates of the capital (almost), and then suddenly everything is forgiven.\n",
      "--------------------------------------------------\n",
      "사태가 진정되고 있지만, 이것은 아직도 별로 말이 되지 않습니다. 우리는 '예브게니 프리고진'에게서 벨라루스 망명을 수락했다는 소식을 아직 듣지 못했다는 사실과, 그의 부대가 진정으로 모두 물러났다는 증거를 확인해야 한다는 사실을 기억해야 합니다. 그는 잘못된 정보를 공공연히 퍼뜨리는 사람입니다. 우리는 토요일 밤, 크렘린궁 대변인 드미트리 페스코프가 이 놀라운 사건을 매듭지으려 했던, 명백한 활시위에 대해서도 똑같이 의심을 품어야 합니다. 두 시간 전, 바그너는 (거의) 수도 문 앞에 있었는데, 갑자기 모든 것이 용서되었습니다.\n",
      "------------------------------\n",
      "Fighters of Wagner private mercenary group pull out of the headquarters of the Southern Military District to return to base, in the city of Rostov-on-Don, Russia, June 24, 2023. REUTERS/Alexander Ermochenko\n",
      "--------------------------------------------------\n",
      "2023년 6월 24일, 러시아 로스토프온돈 시에 있는 남부 군관구 사령부에서 바그너 민간 용병 그룹의 전사들이 기지로 복귀하기 위해 철수하고 있습니다. 로이터/알렉산더 에르모첸코\n",
      "------------------------------\n",
      "There are large parts of this story missing. We may never learn what they are. Many emotions could have altered Prigozhin’s course. Was the advance north too easy? Did he accept entering the capital would leave his men vulnerable, even to a weak Russian military response? Were the regular military not joining him in large enough number? Did he believe a climbdown would only grow his support? While on the surface, Prigozhin’s climbdown makes him appear weak, even finished, he has been the decision-maker over the past 36 hours.\n",
      "--------------------------------------------------\n",
      "이 이야기에는 많은 부분이 빠져 있습니다. 우리는 그것들이 무엇인지 결코 알지 못할 수도 있습니다. 많은 감정들이 프리고진의 진로를 바꿀 수도 있었습니다. 북쪽으로의 진격이 너무 쉬웠을까요? 그는 수도에 들어가는 것을 받아들였는가, 심지어 약한 러시아 군사적 대응에도 불구하고 그의 부하들을 취약하게 만들었을 것입니다. 정규군이 충분히 많은 수의 그와 합류하지 않았을까요? 그는 내리막길이 그의 지지도를 증가시킬 것이라고 믿었나요? 겉보기에는 프리고진의 내리막길은 그를 약하게 보이게 하고, 심지어 끝맺기까지 했지만, 그는 지난 36시간 동안 의사결정자였습니다.\n",
      "------------------------------\n",
      "Putin has been left reacting. Silent initially, and then bombastically angry and confident, promising “inevitable punishment” for the “scum.” But hours later, this was all forgotten. Putin’s emotional state - were it known - is arguably less revealing than his actions. By letting Prigozhin go, and apparently sweeping the entire insurrection under the carpet, he’s appeared the weakest yet in 23 years.\n",
      "--------------------------------------------------\n",
      "푸틴은 반응을 보이지 않고 있습니다. 처음에는 침묵을 지켰고, 그 다음에는 폭발적으로 화가 나고 자신감이 넘치면서, 이 \"쓰레기\"에 대한 \"불가피한 처벌\"을 약속했습니다. 하지만 몇 시간이 지난 후, 이 모든 것은 잊혀졌습니다. 푸틴의 감정 상태는, 알려진 바로는, 거의 틀림없이, 자신의 행동보다 덜 드러나고 있습니다. 프리고진을 석방함으로써, 그리고 분명히 폭동 전체를 은폐함으로써, 그는 지금까지 23년만에 가장 약해진 것으로 보입니다.\n",
      "------------------------------\n",
      "It is possible his special services will now pursue Wagner and its supporters, slowly, away from the glare of the last two days. Yet the Kremlin’s solution to the problem was to climb down too. It’s a move so antipathetic to everything Putin stands for, it can only suggest he had no other choice: that he lacked the forces to be sure he could hold Prigozhin back.\n",
      "--------------------------------------------------\n",
      "이제 그의 특수봉사단이 지난 이틀간의 눈부신 빛으로부터 서서히 벗어나 바그너와 그 지지자들을 추격할 가능성이 있습니다. 하지만 러시아 정부가 이 문제에 대해 내놓은 해결책도 역시 그러한 조치를 내리는 것이었습니다. 이러한 조치는 푸틴 대통령이 지지하는 모든 것에 너무나 반감을 품고 있는 조치이기 때문에, 그가 다른 선택의 여지가 없었다는 것을 암시할 수 밖에 없는데, 그것은 그가 프리고진을 저지할 수 있다고 확신할 수 있는 병력이 부족했다는 것입니다.\n",
      "------------------------------\n",
      "That is perhaps the larger lesson of the so-called March of Justice. Not that a mercenary boss didn’t send a modest-sized force into Moscow to execute a coup, but that the Kremlin had to let him go.\n",
      "--------------------------------------------------\n",
      "그것이 이른바 '정의의 행진'이 주는 더 큰 교훈일 것입니다. 용병대장이 쿠데타를 일으키기 위해 모스크바에 적당한 규모의 병력을 보낸 것이 아니라 크렘린궁이 그를 풀어주어야 했던 것입니다.\n",
      "------------------------------\n",
      "Putin’s vulnerability is assured\n",
      "--------------------------------------------------\n",
      "푸틴의 약점은 확실합니다\n",
      "------------------------------\n",
      "Putin’s position was clearly weakening because of the war’s catastrophic mismanagement. But how he would be removed - what possible circumstances could permit that - was something that eluded officials and analysts. This was not a likely option.\n",
      "--------------------------------------------------\n",
      "푸틴의 입지는 전쟁으로 인한 재앙적인 실정 때문에 분명 약화되고 있었습니다. 하지만 어떻게 푸틴을 제거할 것인가는, 어떤 상황에서 그런 일이 일어날 수도 있는 것인가는, 당국자들과 분석가들을 피해 놓은 것이었습니다. 이것은 가능성 있는 선택이 아니었습니다.\n",
      "------------------------------\n",
      "But now it has happened, we have a glimpse behind the thickset curtain the Kremlin relies upon to hide its infighting, incompetence and frailty, allowing it to project an outsized confidence – a post-Soviet omnipotence. It’s pretty ugly in there it seems.\n",
      "--------------------------------------------------\n",
      "하지만 이런 일이 일어난 지금, 우리는 러시아가 내분과 무능과 약점을 감추기 위해 의존하고 있는 두터운 커튼 뒤를 살짝 들여다보고 있는데, 이로써 러시아는 소련 이후의 전능함, 즉 과도한 자신감을 드러낼 수 있게 된 것입니다. 그 안은 아주 추한 것 같습니다.\n",
      "------------------------------\n",
      "Now the rest of the world has seen this too – from Ukraine to NATO to Putin’s allies. Notably some friends were quiet: Kazakhstan and Iran – both of whom owe Russia a past debt – called this an “internal matter.” That is not unqualified support.\n",
      "--------------------------------------------------\n",
      "이제 다른 나라들도 이것을 보았습니다 – 우크라이나에서 북대서양조약기구, 그리고 푸틴의 동맹국들. 특히 몇몇 친구들은 조용했습니다: 둘 다 러시아에 과거 빚을 진 카자흐스탄과 이란은 이것을 \"내부 문제\"라고 불렀습니다. 이것은 자격 없는 지원이 아닙니다.\n",
      "------------------------------\n",
      "Fighters of Wagner private mercenary group stand guard in a street near the headquarters of the Southern Military District in the city of Rostov-on-Don, Russia, June 24, 2023. REUTERS/Stringer\n",
      "--------------------------------------------------\n",
      "2023년 6월 24일, 러시아 로스토프온돈 시 남부군관구 사령부 인근 거리에서 바그너 민간 용병단의 전사들이 경비를 서고 있습니다. 로이터/스트링거\n",
      "------------------------------\n",
      "We can only guess whether the thought of Prigozhin in charge will cause such panic in the elite country houses of suburban Moscow that support for Putin sustains. Yet his vulnerability is now assured, for the first time in 23 years – two decades in which he has accrued plentiful enemies and debts. (It is ridiculous to maintain the last two days have been an elaborate charade designed to somehow improve Putin’s position or provide a pretext for escalation. This is an entirely internal affair, distracting from the urgent needs of the war. Making the Kremlin head seem this unequivocally weak can in no way strengthen his position).\n",
      "--------------------------------------------------\n",
      "우리는, '프리고진'이 대통령을 맡고 있다는 생각이, 푸틴을 지지하는 모스크바 교외의 상류층 전원주택들에, 그러한 공황상태를 초래할 것인지 아닌지를 짐작할 수 있을 뿐입니다. 하지만 이제, 푸틴이 수많은 적들과 빚을 쌓아온 지 23년 만에, 20년 만에 처음으로, 그의 취약성은 확실시되고 있습니다. (지난 이틀 동안, 푸틴의 입장을 어떻게든 개선시키거나, 상황을 고조시킬 빌미를 제공하기 위해 고안된 정교한 분장이었다고 주장하는 것은 말도 안 되는 일입니다. 이것은 전적으로 내정문제이며, 전쟁이 시급하게 필요한 상황들로부터 주의를 산만하게 하고 있습니다. 러시아 대통령을 이렇게 분명히 약한 사람으로 보이게 만드는 것은, 결코 그의 입장을 강화시킬 수 없습니다.).\n",
      "------------------------------\n",
      "So where does this leave Russia and its anxious adversaries? We can’t know what comes next, but it is likely to follow the explosively erratic pattern of the last two days. Prigozhin may vanish for a few months. Putin may make some changes in his military staff. Things may seem “normal.” But they have absolutely changed and a post-Putin world – and the dramatic force needed to impose it – has been glimpsed. It feels like the beginning of the end for him.\n",
      "--------------------------------------------------\n",
      "그렇다면 이것은 러시아와 러시아의 불안한 적국들에게 어디로 떠나는 것일까요? 우리는 다음에 무엇이 있을지 모르지만, 그것은 지난 이틀 동안 폭발적으로 불규칙한 패턴을 따를 것 같습니다. 프리고진은 몇 달 동안 사라질 수도 있습니다. 푸틴은 그의 군인들에게 약간의 변화를 줄 수도 있습니다. 상황이 \"정상적\"으로 보일 수도 있습니다. 그러나 그들은 완전히 바뀌었고, 푸틴 이후의 세계 – 그리고 그것을 강요하는데 필요한 극적인 힘 – 은 희미하게 보였습니다. 그것은 그에게 종말의 시작처럼 느껴집니다.\n",
      "------------------------------\n",
      "The most acute catalyst to any change will be the impact this bizarre drama has on the Ukraine frontlines. It is impossible to imagine that a series of fluctuations in Russia’s military presence has not weakened defensive positions in the south and east – the very places where Ukraine is pushing forwards. The most optimistic assessment you could make is that Russian military morale must have felt a hiccup while watching its commander-in-chief and most prominent military figure engage in a 24-hour game of chicken. Would you genuinely give your life on the Russian front lines this weekend, given the mess you observe in the higher command?\n",
      "--------------------------------------------------\n",
      "어떤 변화에도 가장 첨예한 촉매제는 이 기괴한 드라마가 우크라이나 전선에 미칠 영향일 것입니다. 러시아의 군사적 존재감에 있어서 일련의 요동이 우크라이나가 전진하고 있는 바로 그 곳인 남부와 동부의 방어적 위치를 약화시키지 않았다고 상상하는 것은 불가능합니다. 당신이 할 수 있는 가장 낙관적인 평가는 러시아의 총사령관과 가장 유명한 군인들이 24시간 치킨게임을 하는 것을 보면서 러시아 군대의 사기가 딸꾹질을 느꼈을 것이라는 것입니다. 당신이 고위 지휘부에서 관찰하는 혼란을 고려할 때, 당신은 정말로 이번 주말에 러시아 전선에서 당신의 목숨을 바칠 것인가요?\n",
      "------------------------------\n",
      "Ukraine claims to be already pushing forward. It is too early to know what impact the Justice March has had on the war. But the Kremlin must be acutely aware of the damage to both the positions of Putin and Prigozhin if this conflict – which Moscow has framed as an existential battle against NATO – is ultimately lost. Perhaps that stark recognition was quietly feeding the bizarre decisions and reversals as Wagner fighters made such easy progress on Saturday north on the M4 highway to Moscow.\n",
      "--------------------------------------------------\n",
      "우크라이나는 이미 진전을 보이고 있다고 주장하고 있습니다. '정의의 행진'이 이 전쟁에 어떤 영향을 끼쳤는지는 아직 알 수 없습니다. 하지만 러시아가 나토를 상대로 벌인 실존적 전투라고 모함해온 이 갈등이 궁극적으로 패배한다면, 러시아는 푸틴과 프리고진 두 사람 모두의 입장에 손상을 입힐 것임을 분명히 알고 있을 것입니다. 아마도 이러한 극명한 인식이, 바그너 전사들이 모스크바로 가는 M4 고속도로에서 토요일 북쪽으로 그렇게 쉬운 진전을 이루자, 이 기이한 결정들과 반전에 조용히 영향을 끼치고 있었던 것 같습니다.\n",
      "------------------------------\n"
     ]
    }
   ],
   "source": [
    "fileName = dt.datetime.now().strftime(\"%y%m%d_%H%M%S.md\")\n",
    "\n",
    "with open(fileName, \"w\", encoding='utf-8') as f:\n",
    "    for s in source:\n",
    "        s = s.strip()\n",
    "\n",
    "        if not s:\n",
    "            continue\n",
    "\n",
    "        print(s)\n",
    "        print(\"-\"*50)\n",
    "\n",
    "        txtSource = WebDriverWait(driver, 3).until(\n",
    "            lambda x:x.find_element(By.CSS_SELECTOR, \"#txtSource\"))\n",
    "        \n",
    "        txtSource.clear()\n",
    "\n",
    "        txtSource.send_keys(s)\n",
    "\n",
    "        btnTranslate = WebDriverWait(driver, 3).until(\n",
    "            lambda x:x.find_element(By.CSS_SELECTOR, \"#btnTranslate\"))\n",
    "        \n",
    "        btnTranslate.click()\n",
    "\n",
    "        time.sleep(1)\n",
    "\n",
    "        txtTarget = WebDriverWait(driver, 3).until(\n",
    "            lambda x: x.find_element(By.CSS_SELECTOR, \"#txtTarget\"))\n",
    "        \n",
    "        currentTrans = txtTarget.text.strip()\n",
    "        print(currentTrans)\n",
    "        print(\"-\" * 30)\n",
    "        \n",
    "    \n",
    "       \n",
    "        f.write(currentTrans)\n",
    "        f.write(\"\\n\\n\")\n",
    "\n",
    "     \n",
    "\n",
    "    "
   ]
  }
 ],
 "metadata": {
  "kernelspec": {
   "display_name": "Python 3",
   "language": "python",
   "name": "python3"
  },
  "language_info": {
   "codemirror_mode": {
    "name": "ipython",
    "version": 3
   },
   "file_extension": ".py",
   "mimetype": "text/x-python",
   "name": "python",
   "nbconvert_exporter": "python",
   "pygments_lexer": "ipython3",
   "version": "3.12.0"
  }
 },
 "nbformat": 4,
 "nbformat_minor": 2
}
