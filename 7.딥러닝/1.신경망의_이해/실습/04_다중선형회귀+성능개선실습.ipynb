{
 "cells": [
  {
   "cell_type": "markdown",
   "metadata": {},
   "source": [
    "# 다중선형회귀 + 학습성능 개선\n",
    "\n",
    "> 농어의 무게 예측 데이터 셋\n",
    "\n",
    "텐서플로우의 학습성능을 개선하기 위해 아래의 기능을 사용할 수 있음\n",
    "\n",
    "- 데이터 표준화: 학습률 향상에 도움을 줌\n",
    "- 콜백함수: 모델의 학습 방향, 저장 시점, 학습 정지 시점 등에 관한 상황을 설정 하기 위한 도구\n",
    "\n",
    "## #01. 준비작업\n",
    "\n",
    "### [1] 패키지 가져오기"
   ]
  },
  {
   "cell_type": "code",
   "execution_count": 1,
   "metadata": {},
   "outputs": [
    {
     "name": "stdout",
     "output_type": "stream",
     "text": [
      "The autoreload extension is already loaded. To reload it, use:\n",
      "  %reload_ext autoreload\n"
     ]
    }
   ],
   "source": [
    "# 연결된 모듈이 업데이트 되면 즉시 자동 로드함\n",
    "%load_ext autoreload\n",
    "%autoreload 2\n",
    "\n",
    "from hossam.util import *\n",
    "from hossam.plot import *\n",
    "\n",
    "from tensorflow.keras.models import Sequential\n",
    "from tensorflow.keras.layers import Dense\n",
    "\n",
    "# 학습에 대한 콜백함수 참조\n",
    "import keras\n",
    "from tensorflow.python.keras.models import load_model\n",
    "from tensorflow.keras.callbacks import EarlyStopping, ReduceLROnPlateau, ModelCheckpoint"
   ]
  },
  {
   "cell_type": "markdown",
   "metadata": {},
   "source": [
    "### [2] 데이터셋 준비하기"
   ]
  },
  {
   "cell_type": "code",
   "execution_count": 2,
   "metadata": {},
   "outputs": [
    {
     "name": "stdout",
     "output_type": "stream",
     "text": [
      "\n",
      "상위 5개 행\n",
      "+----+--------+--------+--------+--------+\n",
      "|    |   길이 |   높이 |   두께 |   무게 |\n",
      "|----+--------+--------+--------+--------|\n",
      "|  0 |    8.4 |   2.11 |   1.41 |    5.9 |\n",
      "|  1 |   13.7 |   3.53 |      2 |     32 |\n",
      "|  2 |     15 |   3.82 |   2.43 |     40 |\n",
      "|  3 |   16.2 |   4.59 |   2.63 |   51.5 |\n",
      "|  4 |   17.4 |   4.59 |   2.94 |     70 |\n",
      "+----+--------+--------+--------+--------+\n"
     ]
    }
   ],
   "source": [
    "origin = my_read_excel('https://data.hossam.kr/mldata/fish.xlsx', info=False)"
   ]
  },
  {
   "cell_type": "markdown",
   "metadata": {},
   "source": [
    "## #02. 데이터 전처리\n",
    "\n",
    "### [1] 훈련/검증 데이터 분리\n",
    "\n",
    "**데이터 정규화(스케일링)** 을 수행함\n",
    "\n",
    "데이터에 정규화 처리를 적용하면 쉽게 최적값에 도달할 수 있으며 학습률을 상대적으로 높여서 사용할 수 있기 때문에 빠르게 훈련시킬 수 있다."
   ]
  },
  {
   "cell_type": "code",
   "execution_count": 3,
   "metadata": {},
   "outputs": [
    {
     "data": {
      "text/plain": [
       "(44, 3)"
      ]
     },
     "execution_count": 3,
     "metadata": {},
     "output_type": "execute_result"
    }
   ],
   "source": [
    "x_train, x_test, y_train, y_test = my_train_test_split(origin, yname='무게', scalling=True, save_path =\"D:\\\\tensorflow_checkpoint\\\\fish_scaler.pkl\" )\n",
    "rows, cols = x_train.shape\n",
    "rows, cols"
   ]
  },
  {
   "cell_type": "markdown",
   "metadata": {},
   "source": [
    "## #03. 훈련 모델 적합\n",
    "\n",
    "### [1] 신경망 정의\n",
    "\n",
    "| 구분 | 모델 | 활성화 함수 | 옵티마이저 | 손실함수 | 평가지표 | 대표예제 |\n",
    "|--|--|--|--|--|--|--|\n",
    "| 회귀 | 단순선형회귀 | relu, relu, linear | adam | mse | mae | 보스턴 집값 예측 |"
   ]
  },
  {
   "cell_type": "code",
   "execution_count": 4,
   "metadata": {},
   "outputs": [
    {
     "data": {
      "text/html": [
       "<pre style=\"white-space:pre;overflow-x:auto;line-height:normal;font-family:Menlo,'DejaVu Sans Mono',consolas,'Courier New',monospace\"><span style=\"font-weight: bold\">Model: \"sequential\"</span>\n",
       "</pre>\n"
      ],
      "text/plain": [
       "\u001b[1mModel: \"sequential\"\u001b[0m\n"
      ]
     },
     "metadata": {},
     "output_type": "display_data"
    },
    {
     "data": {
      "text/html": [
       "<pre style=\"white-space:pre;overflow-x:auto;line-height:normal;font-family:Menlo,'DejaVu Sans Mono',consolas,'Courier New',monospace\">┏━━━━━━━━━━━━━━━━━━━━━━━━━━━━━━━━━┳━━━━━━━━━━━━━━━━━━━━━━━━┳━━━━━━━━━━━━━━━┓\n",
       "┃<span style=\"font-weight: bold\"> Layer (type)                    </span>┃<span style=\"font-weight: bold\"> Output Shape           </span>┃<span style=\"font-weight: bold\">       Param # </span>┃\n",
       "┡━━━━━━━━━━━━━━━━━━━━━━━━━━━━━━━━━╇━━━━━━━━━━━━━━━━━━━━━━━━╇━━━━━━━━━━━━━━━┩\n",
       "│ dense (<span style=\"color: #0087ff; text-decoration-color: #0087ff\">Dense</span>)                   │ (<span style=\"color: #00d7ff; text-decoration-color: #00d7ff\">None</span>, <span style=\"color: #00af00; text-decoration-color: #00af00\">128</span>)            │           <span style=\"color: #00af00; text-decoration-color: #00af00\">512</span> │\n",
       "├─────────────────────────────────┼────────────────────────┼───────────────┤\n",
       "│ dense_1 (<span style=\"color: #0087ff; text-decoration-color: #0087ff\">Dense</span>)                 │ (<span style=\"color: #00d7ff; text-decoration-color: #00d7ff\">None</span>, <span style=\"color: #00af00; text-decoration-color: #00af00\">64</span>)             │         <span style=\"color: #00af00; text-decoration-color: #00af00\">8,256</span> │\n",
       "├─────────────────────────────────┼────────────────────────┼───────────────┤\n",
       "│ dense_2 (<span style=\"color: #0087ff; text-decoration-color: #0087ff\">Dense</span>)                 │ (<span style=\"color: #00d7ff; text-decoration-color: #00d7ff\">None</span>, <span style=\"color: #00af00; text-decoration-color: #00af00\">1</span>)              │            <span style=\"color: #00af00; text-decoration-color: #00af00\">65</span> │\n",
       "└─────────────────────────────────┴────────────────────────┴───────────────┘\n",
       "</pre>\n"
      ],
      "text/plain": [
       "┏━━━━━━━━━━━━━━━━━━━━━━━━━━━━━━━━━┳━━━━━━━━━━━━━━━━━━━━━━━━┳━━━━━━━━━━━━━━━┓\n",
       "┃\u001b[1m \u001b[0m\u001b[1mLayer (type)                   \u001b[0m\u001b[1m \u001b[0m┃\u001b[1m \u001b[0m\u001b[1mOutput Shape          \u001b[0m\u001b[1m \u001b[0m┃\u001b[1m \u001b[0m\u001b[1m      Param #\u001b[0m\u001b[1m \u001b[0m┃\n",
       "┡━━━━━━━━━━━━━━━━━━━━━━━━━━━━━━━━━╇━━━━━━━━━━━━━━━━━━━━━━━━╇━━━━━━━━━━━━━━━┩\n",
       "│ dense (\u001b[38;5;33mDense\u001b[0m)                   │ (\u001b[38;5;45mNone\u001b[0m, \u001b[38;5;34m128\u001b[0m)            │           \u001b[38;5;34m512\u001b[0m │\n",
       "├─────────────────────────────────┼────────────────────────┼───────────────┤\n",
       "│ dense_1 (\u001b[38;5;33mDense\u001b[0m)                 │ (\u001b[38;5;45mNone\u001b[0m, \u001b[38;5;34m64\u001b[0m)             │         \u001b[38;5;34m8,256\u001b[0m │\n",
       "├─────────────────────────────────┼────────────────────────┼───────────────┤\n",
       "│ dense_2 (\u001b[38;5;33mDense\u001b[0m)                 │ (\u001b[38;5;45mNone\u001b[0m, \u001b[38;5;34m1\u001b[0m)              │            \u001b[38;5;34m65\u001b[0m │\n",
       "└─────────────────────────────────┴────────────────────────┴───────────────┘\n"
      ]
     },
     "metadata": {},
     "output_type": "display_data"
    },
    {
     "data": {
      "text/html": [
       "<pre style=\"white-space:pre;overflow-x:auto;line-height:normal;font-family:Menlo,'DejaVu Sans Mono',consolas,'Courier New',monospace\"><span style=\"font-weight: bold\"> Total params: </span><span style=\"color: #00af00; text-decoration-color: #00af00\">8,833</span> (34.50 KB)\n",
       "</pre>\n"
      ],
      "text/plain": [
       "\u001b[1m Total params: \u001b[0m\u001b[38;5;34m8,833\u001b[0m (34.50 KB)\n"
      ]
     },
     "metadata": {},
     "output_type": "display_data"
    },
    {
     "data": {
      "text/html": [
       "<pre style=\"white-space:pre;overflow-x:auto;line-height:normal;font-family:Menlo,'DejaVu Sans Mono',consolas,'Courier New',monospace\"><span style=\"font-weight: bold\"> Trainable params: </span><span style=\"color: #00af00; text-decoration-color: #00af00\">8,833</span> (34.50 KB)\n",
       "</pre>\n"
      ],
      "text/plain": [
       "\u001b[1m Trainable params: \u001b[0m\u001b[38;5;34m8,833\u001b[0m (34.50 KB)\n"
      ]
     },
     "metadata": {},
     "output_type": "display_data"
    },
    {
     "data": {
      "text/html": [
       "<pre style=\"white-space:pre;overflow-x:auto;line-height:normal;font-family:Menlo,'DejaVu Sans Mono',consolas,'Courier New',monospace\"><span style=\"font-weight: bold\"> Non-trainable params: </span><span style=\"color: #00af00; text-decoration-color: #00af00\">0</span> (0.00 B)\n",
       "</pre>\n"
      ],
      "text/plain": [
       "\u001b[1m Non-trainable params: \u001b[0m\u001b[38;5;34m0\u001b[0m (0.00 B)\n"
      ]
     },
     "metadata": {},
     "output_type": "display_data"
    }
   ],
   "source": [
    "model = Sequential()\n",
    "\n",
    "# model.add(Dense(4, activation='relu', input_shape=(cols,)))\n",
    "# model.add(Dense(2, activation='relu'))\n",
    "\n",
    "# model.add(Dense(16, activation='relu', input_shape=(cols,)))\n",
    "# model.add(Dense(4, activation='relu'))\n",
    "\n",
    "# model.add(Dense(32, activation='relu', input_shape=(cols,)))\n",
    "# model.add(Dense(16, activation='relu'))\n",
    "\n",
    "# model.add(Dense(32, activation='relu', input_shape=(cols,)))\n",
    "# model.add(Dense(64, activation='relu'))\n",
    "\n",
    "\n",
    "model.add(Dense(128, activation='relu', input_shape=(cols,)))\n",
    "model.add(Dense(64, activation='relu'))\n",
    "\n",
    "\n",
    "\n",
    "\n",
    "\n",
    "\n",
    "\n",
    "model.add(Dense(1, activation='linear'))\n",
    "\n",
    "model.compile(optimizer='adam', loss='mse', metrics=['mae'])\n",
    "model.summary()\n",
    "\n"
   ]
  },
  {
   "cell_type": "markdown",
   "metadata": {},
   "source": [
    "### [2] 콜백함수를 적용하여 학습하기\n",
    "\n",
    "모델의 학습 방향, 저장 시점, 학습 정지 시점 등에 관한 상황을 설정하기 위한 도구\n",
    "\n",
    "#### 콜백함수 사용 방법\n",
    "\n",
    "```python\n",
    "# 콜백 정의\n",
    "callbacks = [  콜백1, 콜백2, ... 콜백n  ]\n",
    "\n",
    "# 학습을 위한 fit() 함수에서 callbacks 파라미터에 미리 정의한 리스트를 지정\n",
    "callbacks = [콜백1, 콜백2, ... , 콜백n]\n",
    "model.fit(x_train, y_train, validation_data = (x_val, y_val), epochs = 500, \n",
    "        callbacks = callbacks)\n",
    "```\n",
    "\n",
    "혹은\n",
    "\n",
    "```python\n",
    "model.fit(x_train, y_train, validation_data = (x_val, y_val), epochs = 500, \n",
    "    callbacks = [\n",
    "        콜백1, 콜백2, ... , 콜백n\n",
    "])\n",
    "```\n",
    "\n",
    "#### 콜백함수 종류\n",
    "\n",
    "##### 1) EarlyStopping()\n",
    "\n",
    "모델 학습 시에 지정된 기간 동안 모니터링하는 평가지표에서 더 이상 성능 향상이 일어나지 않은 경우 학습을 스스로 중단\n",
    "\n",
    "```python\n",
    "EarlyStopping(monitor='평가지표', patience=10, verbose=1)\n",
    "```\n",
    "\n",
    "- patience: 지정한 수만큼의 기간에서 평가지표의 향상이 일어나지 않을 경우 학습을 중단 (기간이라 함은 에폭을 의미) 예를 들어 patience=10일 때, 10에폭 동안 성능 향상이 일어나지 않으면 학습을 중단. 즉, 10회 이상 성능향상이 발견되지 않으면 중단함\n",
    "- verbose: 콜백의 수행 과정 노출 여부를 지정.\n",
    "    - 0: 아무런 표시 하지 않음(기본값)\n",
    "    - 1: 프로그래스바로 표시\n",
    "    - 2: 매 에폭마다 수행과정을 자세하게 출력함.\n",
    "\n",
    "\n",
    "##### 2) ReduceLROnPlateau()\n",
    "\n",
    "EarlyStopping 콜백과 같이 patience 인자를 지정하여, 지정된 기간 동안 평가지표에서 성능 향상이 일어나지 않으면 학습률을 조정하는 콜백\n",
    "\n",
    "```python\n",
    "ReduceLROnPlateau(monitor='평가지표', factor=0.1, patience=10, min_lr=0, verbose=1)\n",
    "```\n",
    "\n",
    "- factor: 학습률 조정에 사용되는 값 (새로운 학습률 = factor * 기존 학습률)\n",
    "- patience: 지정한 수만큼의 기간에서 성능 향상이 일어나지 않을 경우, 학습률을 조정\n",
    "- min_lr: 학습률의 하한을 지정\n",
    "- verbose: 콜백의 수행 과정 노출 여부를 지정.\n",
    "\n",
    "\n",
    "##### 3) ModelCheckpoint()\n",
    "\n",
    "지정한 평가지표를 기준으로 가장 뛰어난 성능을 보여주는 모델을 저장 할 때 사용\n",
    "\n",
    "```python\n",
    "ModelCheckpoint(filepath, monitor='평가지표', verbose=1, save_best_only=True|False, save_weights_only=False)\n",
    "```\n",
    "\n",
    "- filepath: 모델의 저장 경로를 지정\n",
    "- save_best_only: True인 경우, 가장 성능이 뛰어난 모델만 저장. 그보다 좋지 않은 모델의 경우는 덮어쓰지 않는다.\n",
    "- save_weights_only: 모델의 가중치만 저장"
   ]
  },
  {
   "cell_type": "code",
   "execution_count": 5,
   "metadata": {},
   "outputs": [
    {
     "name": "stdout",
     "output_type": "stream",
     "text": [
      "CPU times: total: 0 ns\n",
      "Wall time: 0 ns\n",
      "\n",
      "Epoch 1: val_loss improved from inf to 193977.75000, saving model to D:\\tensorflow_checkpoint\\model04-cp-0001-ckpt.keras\n",
      "\n",
      "Epoch 2: val_loss improved from 193977.75000 to 193881.29688, saving model to D:\\tensorflow_checkpoint\\model04-cp-0002-ckpt.keras\n",
      "\n",
      "Epoch 3: val_loss improved from 193881.29688 to 193783.37500, saving model to D:\\tensorflow_checkpoint\\model04-cp-0003-ckpt.keras\n",
      "\n",
      "Epoch 4: val_loss improved from 193783.37500 to 193685.85938, saving model to D:\\tensorflow_checkpoint\\model04-cp-0004-ckpt.keras\n",
      "\n",
      "Epoch 5: val_loss improved from 193685.85938 to 193589.92188, saving model to D:\\tensorflow_checkpoint\\model04-cp-0005-ckpt.keras\n",
      "\n",
      "Epoch 6: val_loss improved from 193589.92188 to 193493.07812, saving model to D:\\tensorflow_checkpoint\\model04-cp-0006-ckpt.keras\n",
      "\n",
      "Epoch 7: val_loss improved from 193493.07812 to 193395.35938, saving model to D:\\tensorflow_checkpoint\\model04-cp-0007-ckpt.keras\n",
      "\n",
      "Epoch 8: val_loss improved from 193395.35938 to 193290.76562, saving model to D:\\tensorflow_checkpoint\\model04-cp-0008-ckpt.keras\n",
      "\n",
      "Epoch 9: val_loss improved from 193290.76562 to 193175.70312, saving model to D:\\tensorflow_checkpoint\\model04-cp-0009-ckpt.keras\n",
      "\n",
      "Epoch 10: val_loss improved from 193175.70312 to 193048.43750, saving model to D:\\tensorflow_checkpoint\\model04-cp-0010-ckpt.keras\n",
      "\n",
      "Epoch 11: val_loss improved from 193048.43750 to 192909.67188, saving model to D:\\tensorflow_checkpoint\\model04-cp-0011-ckpt.keras\n",
      "\n",
      "Epoch 12: val_loss improved from 192909.67188 to 192757.04688, saving model to D:\\tensorflow_checkpoint\\model04-cp-0012-ckpt.keras\n",
      "\n",
      "Epoch 13: val_loss improved from 192757.04688 to 192591.20312, saving model to D:\\tensorflow_checkpoint\\model04-cp-0013-ckpt.keras\n",
      "\n",
      "Epoch 14: val_loss improved from 192591.20312 to 192412.06250, saving model to D:\\tensorflow_checkpoint\\model04-cp-0014-ckpt.keras\n",
      "\n",
      "Epoch 15: val_loss improved from 192412.06250 to 192220.07812, saving model to D:\\tensorflow_checkpoint\\model04-cp-0015-ckpt.keras\n",
      "\n",
      "Epoch 16: val_loss improved from 192220.07812 to 192013.07812, saving model to D:\\tensorflow_checkpoint\\model04-cp-0016-ckpt.keras\n",
      "\n",
      "Epoch 17: val_loss improved from 192013.07812 to 191788.50000, saving model to D:\\tensorflow_checkpoint\\model04-cp-0017-ckpt.keras\n",
      "\n",
      "Epoch 18: val_loss improved from 191788.50000 to 191545.23438, saving model to D:\\tensorflow_checkpoint\\model04-cp-0018-ckpt.keras\n",
      "\n",
      "Epoch 19: val_loss improved from 191545.23438 to 191279.17188, saving model to D:\\tensorflow_checkpoint\\model04-cp-0019-ckpt.keras\n",
      "\n",
      "Epoch 20: val_loss improved from 191279.17188 to 190991.45312, saving model to D:\\tensorflow_checkpoint\\model04-cp-0020-ckpt.keras\n",
      "\n",
      "Epoch 21: val_loss improved from 190991.45312 to 190685.20312, saving model to D:\\tensorflow_checkpoint\\model04-cp-0021-ckpt.keras\n",
      "\n",
      "Epoch 22: val_loss improved from 190685.20312 to 190353.50000, saving model to D:\\tensorflow_checkpoint\\model04-cp-0022-ckpt.keras\n",
      "\n",
      "Epoch 23: val_loss improved from 190353.50000 to 189992.04688, saving model to D:\\tensorflow_checkpoint\\model04-cp-0023-ckpt.keras\n",
      "\n",
      "Epoch 24: val_loss improved from 189992.04688 to 189595.17188, saving model to D:\\tensorflow_checkpoint\\model04-cp-0024-ckpt.keras\n",
      "\n",
      "Epoch 25: val_loss improved from 189595.17188 to 189170.14062, saving model to D:\\tensorflow_checkpoint\\model04-cp-0025-ckpt.keras\n",
      "\n",
      "Epoch 26: val_loss improved from 189170.14062 to 188721.73438, saving model to D:\\tensorflow_checkpoint\\model04-cp-0026-ckpt.keras\n",
      "\n",
      "Epoch 27: val_loss improved from 188721.73438 to 188241.06250, saving model to D:\\tensorflow_checkpoint\\model04-cp-0027-ckpt.keras\n",
      "\n",
      "Epoch 28: val_loss improved from 188241.06250 to 187723.57812, saving model to D:\\tensorflow_checkpoint\\model04-cp-0028-ckpt.keras\n",
      "\n",
      "Epoch 29: val_loss improved from 187723.57812 to 187164.00000, saving model to D:\\tensorflow_checkpoint\\model04-cp-0029-ckpt.keras\n",
      "\n",
      "Epoch 30: val_loss improved from 187164.00000 to 186560.70312, saving model to D:\\tensorflow_checkpoint\\model04-cp-0030-ckpt.keras\n",
      "\n",
      "Epoch 31: val_loss improved from 186560.70312 to 185917.35938, saving model to D:\\tensorflow_checkpoint\\model04-cp-0031-ckpt.keras\n",
      "\n",
      "Epoch 32: val_loss improved from 185917.35938 to 185232.20312, saving model to D:\\tensorflow_checkpoint\\model04-cp-0032-ckpt.keras\n",
      "\n",
      "Epoch 33: val_loss improved from 185232.20312 to 184510.39062, saving model to D:\\tensorflow_checkpoint\\model04-cp-0033-ckpt.keras\n",
      "\n",
      "Epoch 34: val_loss improved from 184510.39062 to 183756.42188, saving model to D:\\tensorflow_checkpoint\\model04-cp-0034-ckpt.keras\n",
      "\n",
      "Epoch 35: val_loss improved from 183756.42188 to 182958.20312, saving model to D:\\tensorflow_checkpoint\\model04-cp-0035-ckpt.keras\n",
      "\n",
      "Epoch 36: val_loss improved from 182958.20312 to 182106.25000, saving model to D:\\tensorflow_checkpoint\\model04-cp-0036-ckpt.keras\n",
      "\n",
      "Epoch 37: val_loss improved from 182106.25000 to 181216.37500, saving model to D:\\tensorflow_checkpoint\\model04-cp-0037-ckpt.keras\n",
      "\n",
      "Epoch 38: val_loss improved from 181216.37500 to 180298.62500, saving model to D:\\tensorflow_checkpoint\\model04-cp-0038-ckpt.keras\n",
      "\n",
      "Epoch 39: val_loss improved from 180298.62500 to 179365.67188, saving model to D:\\tensorflow_checkpoint\\model04-cp-0039-ckpt.keras\n",
      "\n",
      "Epoch 40: val_loss improved from 179365.67188 to 178393.73438, saving model to D:\\tensorflow_checkpoint\\model04-cp-0040-ckpt.keras\n",
      "\n",
      "Epoch 41: val_loss improved from 178393.73438 to 177352.62500, saving model to D:\\tensorflow_checkpoint\\model04-cp-0041-ckpt.keras\n",
      "\n",
      "Epoch 42: val_loss improved from 177352.62500 to 176245.51562, saving model to D:\\tensorflow_checkpoint\\model04-cp-0042-ckpt.keras\n",
      "\n",
      "Epoch 43: val_loss improved from 176245.51562 to 175093.93750, saving model to D:\\tensorflow_checkpoint\\model04-cp-0043-ckpt.keras\n",
      "\n",
      "Epoch 44: val_loss improved from 175093.93750 to 173904.29688, saving model to D:\\tensorflow_checkpoint\\model04-cp-0044-ckpt.keras\n",
      "\n",
      "Epoch 45: val_loss improved from 173904.29688 to 172656.17188, saving model to D:\\tensorflow_checkpoint\\model04-cp-0045-ckpt.keras\n",
      "\n",
      "Epoch 46: val_loss improved from 172656.17188 to 171341.10938, saving model to D:\\tensorflow_checkpoint\\model04-cp-0046-ckpt.keras\n",
      "\n",
      "Epoch 47: val_loss improved from 171341.10938 to 169981.07812, saving model to D:\\tensorflow_checkpoint\\model04-cp-0047-ckpt.keras\n",
      "\n",
      "Epoch 48: val_loss improved from 169981.07812 to 168578.10938, saving model to D:\\tensorflow_checkpoint\\model04-cp-0048-ckpt.keras\n",
      "\n",
      "Epoch 49: val_loss improved from 168578.10938 to 167111.10938, saving model to D:\\tensorflow_checkpoint\\model04-cp-0049-ckpt.keras\n",
      "\n",
      "Epoch 50: val_loss improved from 167111.10938 to 165582.37500, saving model to D:\\tensorflow_checkpoint\\model04-cp-0050-ckpt.keras\n",
      "\n",
      "Epoch 51: val_loss improved from 165582.37500 to 164010.23438, saving model to D:\\tensorflow_checkpoint\\model04-cp-0051-ckpt.keras\n",
      "\n",
      "Epoch 52: val_loss improved from 164010.23438 to 162377.50000, saving model to D:\\tensorflow_checkpoint\\model04-cp-0052-ckpt.keras\n",
      "\n",
      "Epoch 53: val_loss improved from 162377.50000 to 160644.42188, saving model to D:\\tensorflow_checkpoint\\model04-cp-0053-ckpt.keras\n",
      "\n",
      "Epoch 54: val_loss improved from 160644.42188 to 158817.35938, saving model to D:\\tensorflow_checkpoint\\model04-cp-0054-ckpt.keras\n",
      "\n",
      "Epoch 55: val_loss improved from 158817.35938 to 156912.50000, saving model to D:\\tensorflow_checkpoint\\model04-cp-0055-ckpt.keras\n",
      "\n",
      "Epoch 56: val_loss improved from 156912.50000 to 154954.70312, saving model to D:\\tensorflow_checkpoint\\model04-cp-0056-ckpt.keras\n",
      "\n",
      "Epoch 57: val_loss improved from 154954.70312 to 152979.10938, saving model to D:\\tensorflow_checkpoint\\model04-cp-0057-ckpt.keras\n",
      "\n",
      "Epoch 58: val_loss improved from 152979.10938 to 150999.98438, saving model to D:\\tensorflow_checkpoint\\model04-cp-0058-ckpt.keras\n",
      "\n",
      "Epoch 59: val_loss improved from 150999.98438 to 149009.93750, saving model to D:\\tensorflow_checkpoint\\model04-cp-0059-ckpt.keras\n",
      "\n",
      "Epoch 60: val_loss improved from 149009.93750 to 146952.45312, saving model to D:\\tensorflow_checkpoint\\model04-cp-0060-ckpt.keras\n",
      "\n",
      "Epoch 61: val_loss improved from 146952.45312 to 144833.92188, saving model to D:\\tensorflow_checkpoint\\model04-cp-0061-ckpt.keras\n",
      "\n",
      "Epoch 62: val_loss improved from 144833.92188 to 142652.75000, saving model to D:\\tensorflow_checkpoint\\model04-cp-0062-ckpt.keras\n",
      "\n",
      "Epoch 63: val_loss improved from 142652.75000 to 140400.51562, saving model to D:\\tensorflow_checkpoint\\model04-cp-0063-ckpt.keras\n",
      "\n",
      "Epoch 64: val_loss improved from 140400.51562 to 138082.90625, saving model to D:\\tensorflow_checkpoint\\model04-cp-0064-ckpt.keras\n",
      "\n",
      "Epoch 65: val_loss improved from 138082.90625 to 135706.14062, saving model to D:\\tensorflow_checkpoint\\model04-cp-0065-ckpt.keras\n",
      "\n",
      "Epoch 66: val_loss improved from 135706.14062 to 133341.51562, saving model to D:\\tensorflow_checkpoint\\model04-cp-0066-ckpt.keras\n",
      "\n",
      "Epoch 67: val_loss improved from 133341.51562 to 130934.63281, saving model to D:\\tensorflow_checkpoint\\model04-cp-0067-ckpt.keras\n",
      "\n",
      "Epoch 68: val_loss improved from 130934.63281 to 128467.06250, saving model to D:\\tensorflow_checkpoint\\model04-cp-0068-ckpt.keras\n",
      "\n",
      "Epoch 69: val_loss improved from 128467.06250 to 125914.56250, saving model to D:\\tensorflow_checkpoint\\model04-cp-0069-ckpt.keras\n",
      "\n",
      "Epoch 70: val_loss improved from 125914.56250 to 123297.11719, saving model to D:\\tensorflow_checkpoint\\model04-cp-0070-ckpt.keras\n",
      "\n",
      "Epoch 71: val_loss improved from 123297.11719 to 120591.90625, saving model to D:\\tensorflow_checkpoint\\model04-cp-0071-ckpt.keras\n",
      "\n",
      "Epoch 72: val_loss improved from 120591.90625 to 117860.56250, saving model to D:\\tensorflow_checkpoint\\model04-cp-0072-ckpt.keras\n",
      "\n",
      "Epoch 73: val_loss improved from 117860.56250 to 115164.05469, saving model to D:\\tensorflow_checkpoint\\model04-cp-0073-ckpt.keras\n",
      "\n",
      "Epoch 74: val_loss improved from 115164.05469 to 112414.89844, saving model to D:\\tensorflow_checkpoint\\model04-cp-0074-ckpt.keras\n",
      "\n",
      "Epoch 75: val_loss improved from 112414.89844 to 109618.30469, saving model to D:\\tensorflow_checkpoint\\model04-cp-0075-ckpt.keras\n",
      "\n",
      "Epoch 76: val_loss improved from 109618.30469 to 106795.46875, saving model to D:\\tensorflow_checkpoint\\model04-cp-0076-ckpt.keras\n",
      "\n",
      "Epoch 77: val_loss improved from 106795.46875 to 103946.68750, saving model to D:\\tensorflow_checkpoint\\model04-cp-0077-ckpt.keras\n",
      "\n",
      "Epoch 78: val_loss improved from 103946.68750 to 101082.38281, saving model to D:\\tensorflow_checkpoint\\model04-cp-0078-ckpt.keras\n",
      "\n",
      "Epoch 79: val_loss improved from 101082.38281 to 98305.52344, saving model to D:\\tensorflow_checkpoint\\model04-cp-0079-ckpt.keras\n",
      "\n",
      "Epoch 80: val_loss improved from 98305.52344 to 95589.71094, saving model to D:\\tensorflow_checkpoint\\model04-cp-0080-ckpt.keras\n",
      "\n",
      "Epoch 81: val_loss improved from 95589.71094 to 92902.17969, saving model to D:\\tensorflow_checkpoint\\model04-cp-0081-ckpt.keras\n",
      "\n",
      "Epoch 82: val_loss improved from 92902.17969 to 90159.74219, saving model to D:\\tensorflow_checkpoint\\model04-cp-0082-ckpt.keras\n",
      "\n",
      "Epoch 83: val_loss improved from 90159.74219 to 87380.30469, saving model to D:\\tensorflow_checkpoint\\model04-cp-0083-ckpt.keras\n",
      "\n",
      "Epoch 84: val_loss improved from 87380.30469 to 84551.43750, saving model to D:\\tensorflow_checkpoint\\model04-cp-0084-ckpt.keras\n",
      "\n",
      "Epoch 85: val_loss improved from 84551.43750 to 81673.64844, saving model to D:\\tensorflow_checkpoint\\model04-cp-0085-ckpt.keras\n",
      "\n",
      "Epoch 86: val_loss improved from 81673.64844 to 78875.32031, saving model to D:\\tensorflow_checkpoint\\model04-cp-0086-ckpt.keras\n",
      "\n",
      "Epoch 87: val_loss improved from 78875.32031 to 76119.27344, saving model to D:\\tensorflow_checkpoint\\model04-cp-0087-ckpt.keras\n",
      "\n",
      "Epoch 88: val_loss improved from 76119.27344 to 73361.49219, saving model to D:\\tensorflow_checkpoint\\model04-cp-0088-ckpt.keras\n",
      "\n",
      "Epoch 89: val_loss improved from 73361.49219 to 70603.96875, saving model to D:\\tensorflow_checkpoint\\model04-cp-0089-ckpt.keras\n",
      "\n",
      "Epoch 90: val_loss improved from 70603.96875 to 67870.92188, saving model to D:\\tensorflow_checkpoint\\model04-cp-0090-ckpt.keras\n",
      "\n",
      "Epoch 91: val_loss improved from 67870.92188 to 65129.98828, saving model to D:\\tensorflow_checkpoint\\model04-cp-0091-ckpt.keras\n",
      "\n",
      "Epoch 92: val_loss improved from 65129.98828 to 62404.41797, saving model to D:\\tensorflow_checkpoint\\model04-cp-0092-ckpt.keras\n",
      "\n",
      "Epoch 93: val_loss improved from 62404.41797 to 59673.53125, saving model to D:\\tensorflow_checkpoint\\model04-cp-0093-ckpt.keras\n",
      "\n",
      "Epoch 94: val_loss improved from 59673.53125 to 56944.05078, saving model to D:\\tensorflow_checkpoint\\model04-cp-0094-ckpt.keras\n",
      "\n",
      "Epoch 95: val_loss improved from 56944.05078 to 54229.44141, saving model to D:\\tensorflow_checkpoint\\model04-cp-0095-ckpt.keras\n",
      "\n",
      "Epoch 96: val_loss improved from 54229.44141 to 51574.13672, saving model to D:\\tensorflow_checkpoint\\model04-cp-0096-ckpt.keras\n",
      "\n",
      "Epoch 97: val_loss improved from 51574.13672 to 48989.27734, saving model to D:\\tensorflow_checkpoint\\model04-cp-0097-ckpt.keras\n",
      "\n",
      "Epoch 98: val_loss improved from 48989.27734 to 46464.79688, saving model to D:\\tensorflow_checkpoint\\model04-cp-0098-ckpt.keras\n",
      "\n",
      "Epoch 99: val_loss improved from 46464.79688 to 43963.79297, saving model to D:\\tensorflow_checkpoint\\model04-cp-0099-ckpt.keras\n",
      "\n",
      "Epoch 100: val_loss improved from 43963.79297 to 41485.29297, saving model to D:\\tensorflow_checkpoint\\model04-cp-0100-ckpt.keras\n",
      "\n",
      "Epoch 101: val_loss improved from 41485.29297 to 39122.07422, saving model to D:\\tensorflow_checkpoint\\model04-cp-0101-ckpt.keras\n",
      "\n",
      "Epoch 102: val_loss improved from 39122.07422 to 36868.33594, saving model to D:\\tensorflow_checkpoint\\model04-cp-0102-ckpt.keras\n",
      "\n",
      "Epoch 103: val_loss improved from 36868.33594 to 34699.17578, saving model to D:\\tensorflow_checkpoint\\model04-cp-0103-ckpt.keras\n",
      "\n",
      "Epoch 104: val_loss improved from 34699.17578 to 32581.81055, saving model to D:\\tensorflow_checkpoint\\model04-cp-0104-ckpt.keras\n",
      "\n",
      "Epoch 105: val_loss improved from 32581.81055 to 30538.92773, saving model to D:\\tensorflow_checkpoint\\model04-cp-0105-ckpt.keras\n",
      "\n",
      "Epoch 106: val_loss improved from 30538.92773 to 28552.23438, saving model to D:\\tensorflow_checkpoint\\model04-cp-0106-ckpt.keras\n",
      "\n",
      "Epoch 107: val_loss improved from 28552.23438 to 26684.53320, saving model to D:\\tensorflow_checkpoint\\model04-cp-0107-ckpt.keras\n",
      "\n",
      "Epoch 108: val_loss improved from 26684.53320 to 24947.21289, saving model to D:\\tensorflow_checkpoint\\model04-cp-0108-ckpt.keras\n",
      "\n",
      "Epoch 109: val_loss improved from 24947.21289 to 23295.97070, saving model to D:\\tensorflow_checkpoint\\model04-cp-0109-ckpt.keras\n",
      "\n",
      "Epoch 110: val_loss improved from 23295.97070 to 21691.62695, saving model to D:\\tensorflow_checkpoint\\model04-cp-0110-ckpt.keras\n",
      "\n",
      "Epoch 111: val_loss improved from 21691.62695 to 20148.00977, saving model to D:\\tensorflow_checkpoint\\model04-cp-0111-ckpt.keras\n",
      "\n",
      "Epoch 112: val_loss improved from 20148.00977 to 18681.77148, saving model to D:\\tensorflow_checkpoint\\model04-cp-0112-ckpt.keras\n",
      "\n",
      "Epoch 113: val_loss improved from 18681.77148 to 17331.08984, saving model to D:\\tensorflow_checkpoint\\model04-cp-0113-ckpt.keras\n",
      "\n",
      "Epoch 114: val_loss improved from 17331.08984 to 16037.14062, saving model to D:\\tensorflow_checkpoint\\model04-cp-0114-ckpt.keras\n",
      "\n",
      "Epoch 115: val_loss improved from 16037.14062 to 14835.00879, saving model to D:\\tensorflow_checkpoint\\model04-cp-0115-ckpt.keras\n",
      "\n",
      "Epoch 116: val_loss improved from 14835.00879 to 13710.07520, saving model to D:\\tensorflow_checkpoint\\model04-cp-0116-ckpt.keras\n",
      "\n",
      "Epoch 117: val_loss improved from 13710.07520 to 12670.16113, saving model to D:\\tensorflow_checkpoint\\model04-cp-0117-ckpt.keras\n",
      "\n",
      "Epoch 118: val_loss improved from 12670.16113 to 11693.47266, saving model to D:\\tensorflow_checkpoint\\model04-cp-0118-ckpt.keras\n",
      "\n",
      "Epoch 119: val_loss improved from 11693.47266 to 10793.55762, saving model to D:\\tensorflow_checkpoint\\model04-cp-0119-ckpt.keras\n",
      "\n",
      "Epoch 120: val_loss improved from 10793.55762 to 9966.65918, saving model to D:\\tensorflow_checkpoint\\model04-cp-0120-ckpt.keras\n",
      "\n",
      "Epoch 121: val_loss improved from 9966.65918 to 9201.14746, saving model to D:\\tensorflow_checkpoint\\model04-cp-0121-ckpt.keras\n",
      "\n",
      "Epoch 122: val_loss improved from 9201.14746 to 8503.63770, saving model to D:\\tensorflow_checkpoint\\model04-cp-0122-ckpt.keras\n",
      "\n",
      "Epoch 123: val_loss improved from 8503.63770 to 7877.03955, saving model to D:\\tensorflow_checkpoint\\model04-cp-0123-ckpt.keras\n",
      "\n",
      "Epoch 124: val_loss improved from 7877.03955 to 7329.96826, saving model to D:\\tensorflow_checkpoint\\model04-cp-0124-ckpt.keras\n",
      "\n",
      "Epoch 125: val_loss improved from 7329.96826 to 6852.81885, saving model to D:\\tensorflow_checkpoint\\model04-cp-0125-ckpt.keras\n",
      "\n",
      "Epoch 126: val_loss improved from 6852.81885 to 6428.62305, saving model to D:\\tensorflow_checkpoint\\model04-cp-0126-ckpt.keras\n",
      "\n",
      "Epoch 127: val_loss improved from 6428.62305 to 6061.06104, saving model to D:\\tensorflow_checkpoint\\model04-cp-0127-ckpt.keras\n",
      "\n",
      "Epoch 128: val_loss improved from 6061.06104 to 5745.11182, saving model to D:\\tensorflow_checkpoint\\model04-cp-0128-ckpt.keras\n",
      "\n",
      "Epoch 129: val_loss improved from 5745.11182 to 5475.11279, saving model to D:\\tensorflow_checkpoint\\model04-cp-0129-ckpt.keras\n",
      "\n",
      "Epoch 130: val_loss improved from 5475.11279 to 5249.31836, saving model to D:\\tensorflow_checkpoint\\model04-cp-0130-ckpt.keras\n",
      "\n",
      "Epoch 131: val_loss improved from 5249.31836 to 5069.67432, saving model to D:\\tensorflow_checkpoint\\model04-cp-0131-ckpt.keras\n",
      "\n",
      "Epoch 132: val_loss improved from 5069.67432 to 4929.67236, saving model to D:\\tensorflow_checkpoint\\model04-cp-0132-ckpt.keras\n",
      "\n",
      "Epoch 133: val_loss improved from 4929.67236 to 4826.05469, saving model to D:\\tensorflow_checkpoint\\model04-cp-0133-ckpt.keras\n",
      "\n",
      "Epoch 134: val_loss improved from 4826.05469 to 4753.96094, saving model to D:\\tensorflow_checkpoint\\model04-cp-0134-ckpt.keras\n",
      "\n",
      "Epoch 135: val_loss improved from 4753.96094 to 4707.45850, saving model to D:\\tensorflow_checkpoint\\model04-cp-0135-ckpt.keras\n",
      "\n",
      "Epoch 136: val_loss improved from 4707.45850 to 4685.82666, saving model to D:\\tensorflow_checkpoint\\model04-cp-0136-ckpt.keras\n",
      "\n",
      "Epoch 137: val_loss did not improve from 4685.82666\n",
      "\n",
      "Epoch 138: val_loss did not improve from 4685.82666\n",
      "\n",
      "Epoch 139: val_loss did not improve from 4685.82666\n",
      "\n",
      "Epoch 140: val_loss did not improve from 4685.82666\n",
      "\n",
      "Epoch 141: val_loss did not improve from 4685.82666\n",
      "\n",
      "Epoch 142: val_loss did not improve from 4685.82666\n",
      "\n",
      "Epoch 143: val_loss did not improve from 4685.82666\n",
      "\n",
      "Epoch 144: val_loss did not improve from 4685.82666\n",
      "\n",
      "Epoch 145: val_loss did not improve from 4685.82666\n",
      "\n",
      "Epoch 146: val_loss did not improve from 4685.82666\n",
      "\u001b[1m2/2\u001b[0m \u001b[32m━━━━━━━━━━━━━━━━━━━━\u001b[0m\u001b[37m\u001b[0m \u001b[1m0s\u001b[0m 6ms/step - loss: 4710.5698 - mae: 56.2389 \n",
      "최종 훈련 손실률: 5088.813965, 최종 훈련 절대오차: 58.254944\n",
      "\u001b[1m1/1\u001b[0m \u001b[32m━━━━━━━━━━━━━━━━━━━━\u001b[0m\u001b[37m\u001b[0m \u001b[1m0s\u001b[0m 21ms/step - loss: 4770.6953 - mae: 57.8194\n",
      "최종 검증 손실률: 4770.695312, 최종 검증 절대오차: 57.819355\n"
     ]
    },
    {
     "data": {
      "text/html": [
       "<div>\n",
       "<style scoped>\n",
       "    .dataframe tbody tr th:only-of-type {\n",
       "        vertical-align: middle;\n",
       "    }\n",
       "\n",
       "    .dataframe tbody tr th {\n",
       "        vertical-align: top;\n",
       "    }\n",
       "\n",
       "    .dataframe thead th {\n",
       "        text-align: right;\n",
       "    }\n",
       "</style>\n",
       "<table border=\"1\" class=\"dataframe\">\n",
       "  <thead>\n",
       "    <tr style=\"text-align: right;\">\n",
       "      <th></th>\n",
       "      <th>loss</th>\n",
       "      <th>mae</th>\n",
       "      <th>val_loss</th>\n",
       "      <th>val_mae</th>\n",
       "      <th>learning_rate</th>\n",
       "    </tr>\n",
       "    <tr>\n",
       "      <th>epochs</th>\n",
       "      <th></th>\n",
       "      <th></th>\n",
       "      <th></th>\n",
       "      <th></th>\n",
       "      <th></th>\n",
       "    </tr>\n",
       "  </thead>\n",
       "  <tbody>\n",
       "    <tr>\n",
       "      <th>1</th>\n",
       "      <td>283869.875000</td>\n",
       "      <td>391.315063</td>\n",
       "      <td>193977.750000</td>\n",
       "      <td>348.371490</td>\n",
       "      <td>0.0010</td>\n",
       "    </tr>\n",
       "    <tr>\n",
       "      <th>2</th>\n",
       "      <td>283739.906250</td>\n",
       "      <td>391.149506</td>\n",
       "      <td>193881.296875</td>\n",
       "      <td>348.232941</td>\n",
       "      <td>0.0010</td>\n",
       "    </tr>\n",
       "    <tr>\n",
       "      <th>3</th>\n",
       "      <td>283598.687500</td>\n",
       "      <td>390.995819</td>\n",
       "      <td>193783.375000</td>\n",
       "      <td>348.093109</td>\n",
       "      <td>0.0010</td>\n",
       "    </tr>\n",
       "    <tr>\n",
       "      <th>4</th>\n",
       "      <td>283468.250000</td>\n",
       "      <td>390.838593</td>\n",
       "      <td>193685.859375</td>\n",
       "      <td>347.958038</td>\n",
       "      <td>0.0010</td>\n",
       "    </tr>\n",
       "    <tr>\n",
       "      <th>5</th>\n",
       "      <td>283335.968750</td>\n",
       "      <td>390.686890</td>\n",
       "      <td>193589.921875</td>\n",
       "      <td>347.829193</td>\n",
       "      <td>0.0010</td>\n",
       "    </tr>\n",
       "    <tr>\n",
       "      <th>...</th>\n",
       "      <td>...</td>\n",
       "      <td>...</td>\n",
       "      <td>...</td>\n",
       "      <td>...</td>\n",
       "      <td>...</td>\n",
       "    </tr>\n",
       "    <tr>\n",
       "      <th>142</th>\n",
       "      <td>5157.028320</td>\n",
       "      <td>58.589638</td>\n",
       "      <td>4757.329590</td>\n",
       "      <td>57.689220</td>\n",
       "      <td>0.0001</td>\n",
       "    </tr>\n",
       "    <tr>\n",
       "      <th>143</th>\n",
       "      <td>5143.350586</td>\n",
       "      <td>58.519192</td>\n",
       "      <td>4760.769043</td>\n",
       "      <td>57.721004</td>\n",
       "      <td>0.0001</td>\n",
       "    </tr>\n",
       "    <tr>\n",
       "      <th>144</th>\n",
       "      <td>5129.039551</td>\n",
       "      <td>58.441818</td>\n",
       "      <td>4764.103516</td>\n",
       "      <td>57.752506</td>\n",
       "      <td>0.0001</td>\n",
       "    </tr>\n",
       "    <tr>\n",
       "      <th>145</th>\n",
       "      <td>5111.472168</td>\n",
       "      <td>58.363247</td>\n",
       "      <td>4767.267090</td>\n",
       "      <td>57.785496</td>\n",
       "      <td>0.0001</td>\n",
       "    </tr>\n",
       "    <tr>\n",
       "      <th>146</th>\n",
       "      <td>5102.311035</td>\n",
       "      <td>58.313366</td>\n",
       "      <td>4770.695312</td>\n",
       "      <td>57.819355</td>\n",
       "      <td>0.0001</td>\n",
       "    </tr>\n",
       "  </tbody>\n",
       "</table>\n",
       "<p>146 rows × 5 columns</p>\n",
       "</div>"
      ],
      "text/plain": [
       "                 loss         mae       val_loss     val_mae  learning_rate\n",
       "epochs                                                                     \n",
       "1       283869.875000  391.315063  193977.750000  348.371490         0.0010\n",
       "2       283739.906250  391.149506  193881.296875  348.232941         0.0010\n",
       "3       283598.687500  390.995819  193783.375000  348.093109         0.0010\n",
       "4       283468.250000  390.838593  193685.859375  347.958038         0.0010\n",
       "5       283335.968750  390.686890  193589.921875  347.829193         0.0010\n",
       "...               ...         ...            ...         ...            ...\n",
       "142       5157.028320   58.589638    4757.329590   57.689220         0.0001\n",
       "143       5143.350586   58.519192    4760.769043   57.721004         0.0001\n",
       "144       5129.039551   58.441818    4764.103516   57.752506         0.0001\n",
       "145       5111.472168   58.363247    4767.267090   57.785496         0.0001\n",
       "146       5102.311035   58.313366    4770.695312   57.819355         0.0001\n",
       "\n",
       "[146 rows x 5 columns]"
      ]
     },
     "execution_count": 5,
     "metadata": {},
     "output_type": "execute_result"
    }
   ],
   "source": [
    "%time\n",
    "checkpoint_path = \"D:\\\\tensorflow_checkpoint\\\\model04-cp-{epoch:04d}-ckpt.keras\"\n",
    "\n",
    "result = model.fit(x_train, y_train, validation_data=(x_test, y_test), epochs=500, \n",
    "                   verbose=0, callbacks=[\n",
    "                       EarlyStopping(monitor='val_loss', patience=10, verbose=0),\n",
    "                       ReduceLROnPlateau(monitor='val_loss', patience=3, factor=0.1, min_lr=0.0001, verbose=0),\n",
    "                       ModelCheckpoint(filepath=checkpoint_path, monitor='val_loss', verbose=1, save_best_only=True)])\n",
    "\n",
    "evaluate1 = model.evaluate(x_train, y_train)\n",
    "print('최종 훈련 손실률: %f, 최종 훈련 절대오차: %f' % (evaluate1[0], evaluate1[1]))\n",
    " \n",
    "evaluate2 = model.evaluate(x_test, y_test)\n",
    "print('최종 검증 손실률: %f, 최종 검증 절대오차: %f' % (evaluate2[0], evaluate2[1]))\n",
    "\n",
    "result_df = DataFrame(result.history)\n",
    "result_df['epochs'] = result_df.index + 1\n",
    "result_df.set_index('epochs',inplace=True)\n",
    "result_df"
   ]
  },
  {
   "cell_type": "code",
   "execution_count": 6,
   "metadata": {},
   "outputs": [],
   "source": [
    "# model = keras.models.load_model(\"D:\\\\tensorflow_checkpoint\\\\model04-cp-0321-ckpt.keras\")\n",
    "# model"
   ]
  },
  {
   "cell_type": "code",
   "execution_count": 7,
   "metadata": {},
   "outputs": [],
   "source": [
    "# model.summary()"
   ]
  },
  {
   "cell_type": "markdown",
   "metadata": {},
   "source": [
    "### [3] 훈련 결과 시각화"
   ]
  },
  {
   "cell_type": "code",
   "execution_count": 8,
   "metadata": {},
   "outputs": [
    {
     "data": {
      "image/png": "[encoded data removed]",
      "text/plain": [
       "<Figure size 1500x500 with 2 Axes>"
      ]
     },
     "metadata": {},
     "output_type": "display_data"
    }
   ],
   "source": [
    "fig, ax = plt.subplots(1, 2, figsize=(15,5), dpi=100)\n",
    "result_df.plot(y=['loss', 'val_loss'], ax=ax[0])\n",
    "result_df.plot(y=['mae', 'val_mae'], ax=ax[1])\n",
    "ax[0].set_title('loss')\n",
    "ax[1].set_title('mae')\n",
    "ax[0].grid()\n",
    "ax[1].grid()\n",
    "plt.show()\n",
    "plt.close()"
   ]
  },
  {
   "cell_type": "markdown",
   "metadata": {},
   "source": [
    "## #04. 예측 결과 활용\n",
    "\n",
    "### [1] 예측치 구하기"
   ]
  },
  {
   "cell_type": "code",
   "execution_count": 9,
   "metadata": {},
   "outputs": [
    {
     "name": "stdout",
     "output_type": "stream",
     "text": [
      "\u001b[1m1/1\u001b[0m \u001b[32m━━━━━━━━━━━━━━━━━━━━\u001b[0m\u001b[37m\u001b[0m \u001b[1m0s\u001b[0m 40ms/step\n"
     ]
    },
    {
     "data": {
      "text/plain": [
       "array([[699.4063 ],\n",
       "       [171.66565],\n",
       "       [717.7926 ],\n",
       "       [ 86.65385],\n",
       "       [108.68026],\n",
       "       [142.75888],\n",
       "       [141.05592],\n",
       "       [664.07495],\n",
       "       [900.31287],\n",
       "       [267.94705],\n",
       "       [126.54   ],\n",
       "       [105.90073]], dtype=float32)"
      ]
     },
     "execution_count": 9,
     "metadata": {},
     "output_type": "execute_result"
    }
   ],
   "source": [
    "pred = model.predict(x_test, verbose=1)\n",
    "pred"
   ]
  },
  {
   "cell_type": "markdown",
   "metadata": {},
   "source": [
    "### [2] 결과 데이터 셋 구성"
   ]
  },
  {
   "cell_type": "code",
   "execution_count": 10,
   "metadata": {},
   "outputs": [
    {
     "name": "stdout",
     "output_type": "stream",
     "text": [
      "+----+------------+----------+----------+----------+\n",
      "|    |       길이 |   실제값 |   예측값 |     오차 |\n",
      "|----+------------+----------+----------+----------|\n",
      "| 45 |    1.20816 |      650 |  699.406 | -49.4063 |\n",
      "| 33 | -0.0476513 |      250 |  171.666 |  78.3344 |\n",
      "| 40 |   0.935156 |      685 |  717.793 | -32.7926 |\n",
      "| 26 |  -0.364334 |      188 |  86.6538 |  101.346 |\n",
      "| 11 |  -0.757457 |      115 |   108.68 |  6.31974 |\n",
      "|  2 |   -1.41266 |       40 |  142.759 | -102.759 |\n",
      "| 32 | -0.0476513 |      265 |  141.056 |  123.944 |\n",
      "| 43 |   0.989757 |      690 |  664.075 |   25.925 |\n",
      "| 46 |    1.20816 |      820 |  900.313 | -80.3129 |\n",
      "| 30 | -0.0694914 |      300 |  267.947 |  32.0529 |\n",
      "|  4 |   -1.15058 |       70 |   126.54 |   -56.54 |\n",
      "| 10 |  -0.757457 |      110 |  105.901 |  4.09927 |\n",
      "+----+------------+----------+----------+----------+\n"
     ]
    }
   ],
   "source": [
    "kdf = DataFrame({\n",
    "    '길이': x_test['길이'],\n",
    "    '실제값': y_test,\n",
    "    '예측값': pred.flatten()\n",
    "})\n",
    "\n",
    "kdf['오차'] = kdf['실제값'] - kdf['예측값']\n",
    "\n",
    "my_pretty_table(kdf)\n",
    "    "
   ]
  },
  {
   "cell_type": "markdown",
   "metadata": {},
   "source": [
    "### [3] 관측치와 예측치 비교 시각화"
   ]
  },
  {
   "cell_type": "code",
   "execution_count": 11,
   "metadata": {},
   "outputs": [
    {
     "data": {
      "image/png": "[encoded data removed]",
      "text/plain": [
       "<Figure size 1000x500 with 1 Axes>"
      ]
     },
     "metadata": {},
     "output_type": "display_data"
    }
   ],
   "source": [
    "fig = plt.figure(figsize=(10, 5), dpi=100)\n",
    "ax = fig.gca()\n",
    "\n",
    "sb.regplot(data=kdf, x='길이', y='실제값', label='실제값', ax=ax)\n",
    "sb.regplot(data=kdf, x='길이', y='예측값', label='예측값', ax=ax)\n",
    "ax.legend()\n",
    "ax.grid()\n",
    "plt.show()\n",
    "plt.close()"
   ]
  },
  {
   "cell_type": "code",
   "execution_count": null,
   "metadata": {},
   "outputs": [],
   "source": []
  },
  {
   "cell_type": "code",
   "execution_count": null,
   "metadata": {},
   "outputs": [],
   "source": []
  },
  {
   "cell_type": "code",
   "execution_count": null,
   "metadata": {},
   "outputs": [],
   "source": []
  },
  {
   "cell_type": "code",
   "execution_count": null,
   "metadata": {},
   "outputs": [],
   "source": []
  },
  {
   "cell_type": "code",
   "execution_count": null,
   "metadata": {},
   "outputs": [],
   "source": []
  },
  {
   "cell_type": "code",
   "execution_count": null,
   "metadata": {},
   "outputs": [],
   "source": []
  },
  {
   "cell_type": "code",
   "execution_count": null,
   "metadata": {},
   "outputs": [],
   "source": []
  },
  {
   "cell_type": "code",
   "execution_count": null,
   "metadata": {},
   "outputs": [],
   "source": []
  },
  {
   "cell_type": "code",
   "execution_count": null,
   "metadata": {},
   "outputs": [],
   "source": []
  }
 ],
 "metadata": {
  "kernelspec": {
   "display_name": "Python 3",
   "language": "python",
   "name": "python3"
  },
  "language_info": {
   "codemirror_mode": {
    "name": "ipython",
    "version": 3
   },
   "file_extension": ".py",
   "mimetype": "text/x-python",
   "name": "python",
   "nbconvert_exporter": "python",
   "pygments_lexer": "ipython3",
   "version": "3.11.7"
  }
 },
 "nbformat": 4,
 "nbformat_minor": 2
}
