{
 "cells": [
  {
   "cell_type": "markdown",
   "metadata": {},
   "source": [
    "# Embedding 활용 텍스트 분석\n",
    "\n",
    "> imdb 영화 리뷰 데이터셋(영문)\n",
    "\n",
    "## #01. 준비작업\n",
    "\n",
    "### [1] 패키지 참조\n"
   ]
  },
  {
   "cell_type": "code",
   "execution_count": 41,
   "metadata": {},
   "outputs": [
    {
     "name": "stdout",
     "output_type": "stream",
     "text": [
      "The autoreload extension is already loaded. To reload it, use:\n",
      "  %reload_ext autoreload\n"
     ]
    }
   ],
   "source": [
    "# 연결된 모듈이 업데이트 되면 즉시 자동 로드함\n",
    "%load_ext autoreload\n",
    "%autoreload 2\n",
    "\n",
    "import warnings\n",
    "warnings.filterwarnings(action=\"ignore\")\n",
    "\n",
    "from hossam.util import *\n",
    "from hossam.plot import *\n",
    "from hossam.tensor import *\n",
    "\n",
    "from tensorflow.keras.preprocessing.sequence import pad_sequences\n",
    "\n",
    "# 모듈을 사용하지 않고 순정 코드로 구현할 경우\n",
    "# from tensorflow.keras.models import Sequential\n",
    "# from tensorflow.keras.layers import Dense, Embedding, Flatten\n",
    "# from tensorflow.keras.callbacks import EarlyStopping, ReduceLROnPlateau"
   ]
  },
  {
   "cell_type": "markdown",
   "metadata": {},
   "source": [
    "### [2] 데이터 가져오기\n",
    "\n",
    "Tensorflow에 내장된 데이터가 있지만, 동일 데이터를 미리 엑셀로 저장 두었다.\n"
   ]
  },
  {
   "cell_type": "code",
   "execution_count": 42,
   "metadata": {},
   "outputs": [
    {
     "name": "stdout",
     "output_type": "stream",
     "text": [
      "<class 'pandas.core.frame.DataFrame'>\n",
      "RangeIndex: 49998 entries, 0 to 49997\n",
      "Data columns (total 2 columns):\n",
      " #   Column     Non-Null Count  Dtype   \n",
      "---  ------     --------------  -----   \n",
      " 0   sentiment  49998 non-null  category\n",
      " 1   review     49998 non-null  object  \n",
      "dtypes: category(1), object(1)\n",
      "memory usage: 439.7+ KB\n",
      "None\n",
      "\n",
      "상위 5개 행\n",
      "+----+-------------+-----------------------------------------------------------------------------------------------------------------------------------------------------------------------------------------------------------------------------------------------------------------------------------------------------------------------------------------------------------------------------------------------------------------------------------------------------------------------------------------------------------------------------------------------------------------------------------------------------------------------------------------------------------------------------------------------------------------------------------------------------------------------------------------------------------------------------------------------------------------------------------------------------------------------------------------------------------------------------------------------------------------------------------------------------------------------------------------------------------------------------------------------------------------------------------------------------------------------------------------------------------------------------------------------------------------------------------------------------------------------------------------------------------------------------------------------------------------------------------------------------------------------------------------------------------------------------------------------------------------------------------------------------------------------------------------------------------------------------------------------------------------------------------------------------------------------------------+\n",
      "|    | sentiment   | review                                                                                                                                                                                                                                                                                                                                                                                                                                                                                                                                                                                                                                                                                                                                                                                                                                                                                                                                                                                                                                                                                                                                                                                                                                                                                                                                                                                                                                                                                                                                                                                                                                                                                                                                                                                                                            |\n",
      "|----+-------------+-----------------------------------------------------------------------------------------------------------------------------------------------------------------------------------------------------------------------------------------------------------------------------------------------------------------------------------------------------------------------------------------------------------------------------------------------------------------------------------------------------------------------------------------------------------------------------------------------------------------------------------------------------------------------------------------------------------------------------------------------------------------------------------------------------------------------------------------------------------------------------------------------------------------------------------------------------------------------------------------------------------------------------------------------------------------------------------------------------------------------------------------------------------------------------------------------------------------------------------------------------------------------------------------------------------------------------------------------------------------------------------------------------------------------------------------------------------------------------------------------------------------------------------------------------------------------------------------------------------------------------------------------------------------------------------------------------------------------------------------------------------------------------------------------------------------------------------|\n",
      "|  0 | positive    | One of the other reviewers has mentioned that after watching just 1 Oz episode you'll be hooked. They are right, as this is exactly what happened with me.<br /><br />The first thing that struck me about Oz was its brutality and unflinching scenes of violence, which set in right from the word GO. Trust me, this is not a show for the faint hearted or timid. This show pulls no punches with regards to drugs, sex or violence. Its is hardcore, in the classic use of the word.<br /><br />It is called OZ as that is the nickname given to the Oswald Maximum Security State Penitentary. It focuses mainly on Emerald City, an experimental section of the prison where all the cells have glass fronts and face inwards, so privacy is not high on the agenda. Em City is home to many..Aryans, Muslims, gangstas, Latinos, Christians, Italians, Irish and more....so scuffles, death stares, dodgy dealings and shady agreements are never far away.<br /><br />I would say the main appeal of the show is due to the fact that it goes where other shows wouldn't dare. Forget pretty pictures painted for mainstream audiences, forget charm, forget romance...OZ doesn't mess around. The first episode I ever saw struck me as so nasty it was surreal, I couldn't say I was ready for it, but as I watched more, I developed a taste for Oz, and got accustomed to the high levels of graphic violence. Not just violence, but injustice (crooked guards who'll be sold out for a nickel, inmates who'll kill on order and get away with it, well mannered, middle class inmates being turned into prison bitches due to their lack of street skills or prison experience) Watching Oz, you may become comfortable with what is uncomfortable viewing....thats if you can get in touch with your darker side. |\n",
      "|  1 | positive    | A wonderful little production. <br /><br />The filming technique is very unassuming- very old-time-BBC fashion and gives a comforting, and sometimes discomforting, sense of realism to the entire piece. <br /><br />The actors are extremely well chosen- Michael Sheen not only \"has got all the polari\" but he has all the voices down pat too! You can truly see the seamless editing guided by the references to Williams' diary entries, not only is it well worth the watching but it is a terrificly written and performed piece. A masterful production about one of the great master's of comedy and his life. <br /><br />The realism really comes home with the little things: the fantasy of the guard which, rather than use the traditional 'dream' techniques remains solid then disappears. It plays on our knowledge and our senses, particularly with the scenes concerning Orton and Halliwell and the sets (particularly of their flat with Halliwell's murals decorating every surface) are terribly well done.                                                                                                                                                                                                                                                                                                                                                                                                                                                                                                                                                                                                                                                                                                                                                                                            |\n",
      "|  2 | positive    | I thought this was a wonderful way to spend time on a too hot summer weekend, sitting in the air conditioned theater and watching a light-hearted comedy. The plot is simplistic, but the dialogue is witty and the characters are likable (even the well bread suspected serial killer). While some may be disappointed when they realize this is not Match Point 2: Risk Addiction, I thought it was proof that Woody Allen is still fully in control of the style many of us have grown to love.<br /><br />This was the most I'd laughed at one of Woody's comedies in years (dare I say a decade?). While I've never been impressed with Scarlet Johanson, in this she managed to tone down her \"sexy\" image and jumped right into a average, but spirited young woman.<br /><br />This may not be the crown jewel of his career, but it was wittier than \"Devil Wears Prada\" and more interesting than \"Superman\" a great comedy to go see with friends.                                                                                                                                                                                                                                                                                                                                                                                                                                                                                                                                                                                                                                                                                                                                                                                                                                                                    |\n",
      "|  3 | negative    | Basically there's a family where a little boy (Jake) thinks there's a zombie in his closet & his parents are fighting all the time.<br /><br />This movie is slower than a soap opera... and suddenly, Jake decides to become Rambo and kill the zombie.<br /><br />OK, first of all when you're going to make a film you must Decide if its a thriller or a drama! As a drama the movie is watchable. Parents are divorcing & arguing like in real life. And then we have Jake with his closet which totally ruins all the film! I expected to see a BOOGEYMAN similar movie, and instead i watched a drama with some meaningless thriller spots.<br /><br />3 out of 10 just for the well playing parents & descent dialogs. As for the shots with Jake: just ignore them.                                                                                                                                                                                                                                                                                                                                                                                                                                                                                                                                                                                                                                                                                                                                                                                                                                                                                                                                                                                                                                                      |\n",
      "|  4 | positive    | Petter Mattei's \"Love in the Time of Money\" is a visually stunning film to watch. Mr. Mattei offers us a vivid portrait about human relations. This is a movie that seems to be telling us what money, power and success do to people in the different situations we encounter. <br /><br />This being a variation on the Arthur Schnitzler's play about the same theme, the director transfers the action to the present time New York where all these different characters meet and connect. Each one is connected in one way, or another to the next person, but no one seems to know the previous point of contact. Stylishly, the film has a sophisticated luxurious look. We are taken to see how these people live and the world they live in their own habitat.<br /><br />The only thing one gets out of all these souls in the picture is the different stages of loneliness each one inhabits. A big city is not exactly the best place in which human relations find sincere fulfillment, as one discerns is the case with most of the people we encounter.<br /><br />The acting is good under Mr. Mattei's direction. Steve Buscemi, Rosario Dawson, Carol Kane, Michael Imperioli, Adrian Grenier, and the rest of the talented cast, make these characters come alive.<br /><br />We wish Mr. Mattei good luck and await anxiously for his next work.                                                                                                                                                                                                                                                                                                                                                                                                                                                             |\n",
      "+----+-------------+-----------------------------------------------------------------------------------------------------------------------------------------------------------------------------------------------------------------------------------------------------------------------------------------------------------------------------------------------------------------------------------------------------------------------------------------------------------------------------------------------------------------------------------------------------------------------------------------------------------------------------------------------------------------------------------------------------------------------------------------------------------------------------------------------------------------------------------------------------------------------------------------------------------------------------------------------------------------------------------------------------------------------------------------------------------------------------------------------------------------------------------------------------------------------------------------------------------------------------------------------------------------------------------------------------------------------------------------------------------------------------------------------------------------------------------------------------------------------------------------------------------------------------------------------------------------------------------------------------------------------------------------------------------------------------------------------------------------------------------------------------------------------------------------------------------------------------------+\n",
      "\n",
      "하위 5개 행\n",
      "+-------+-------------+----------------------------------------------------------------------------------------------------------------------------------------------------------------------------------------------------------------------------------------------------------------------------------------------------------------------------------------------------------------------------------------------------------------------------------------------------------------------------------------------------------------------------------------------------------------------------------------------------------------------------------------------------------------------------------------------------------------------------------------------------------------------------------------------------------------------------------------------------------------------------------------------------------------------------------------------------------------------------------------------------------------------------------------------------------------------------------------------------------------------------------------------------------------------------------------------------------------------------------------------------------------------------------------------------------------------------------+\n",
      "|       | sentiment   | review                                                                                                                                                                                                                                                                                                                                                                                                                                                                                                                                                                                                                                                                                                                                                                                                                                                                                                                                                                                                                                                                                                                                                                                                                                                                                                                           |\n",
      "|-------+-------------+----------------------------------------------------------------------------------------------------------------------------------------------------------------------------------------------------------------------------------------------------------------------------------------------------------------------------------------------------------------------------------------------------------------------------------------------------------------------------------------------------------------------------------------------------------------------------------------------------------------------------------------------------------------------------------------------------------------------------------------------------------------------------------------------------------------------------------------------------------------------------------------------------------------------------------------------------------------------------------------------------------------------------------------------------------------------------------------------------------------------------------------------------------------------------------------------------------------------------------------------------------------------------------------------------------------------------------|\n",
      "| 49993 | positive    | I thought this movie did a down right good job. It wasn't as creative or original as the first, but who was expecting it to be. It was a whole lotta fun. the more i think about it the more i like it, and when it comes out on DVD I'm going to pay the money for it very proudly, every last cent. Sharon Stone is great, she always is, even if her movie is horrible(Catwoman), but this movie isn't, this is one of those movies that will be underrated for its lifetime, and it will probably become a classic in like 20 yrs. Don't wait for it to be a classic, watch it now and enjoy it. Don't expect a masterpiece, or something thats gripping and soul touching, just allow yourself to get out of your life and get yourself involved in theirs.<br /><br />All in all, this movie is entertaining and i recommend people who haven't seen it see it, because what the critics and box office say doesn't always count, see it for yourself, you never know, you might just enjoy it. I tip my hat to this movie<br /><br />8/10                                                                                                                                                                                                                                                                                 |\n",
      "| 49994 | negative    | Bad plot, bad dialogue, bad acting, idiotic directing, the annoying porn groove soundtrack that ran continually over the overacted script, and a crappy copy of the VHS cannot be redeemed by consuming liquor. Trust me, because I stuck this turkey out to the end. It was so pathetically bad all over that I had to figure it was a fourth-rate spoof of Springtime for Hitler.<br /><br />The girl who played Janis Joplin was the only faint spark of interest, and that was only because she could sing better than the original.<br /><br />If you want to watch something similar but a thousand times better, then watch Beyond The Valley of The Dolls.                                                                                                                                                                                                                                                                                                                                                                                                                                                                                                                                                                                                                                                               |\n",
      "| 49995 | negative    | I am a Catholic taught in parochial elementary schools by nuns, taught by Jesuit priests in high school & college. I am still a practicing Catholic but would not be considered a \"good Catholic\" in the church's eyes because I don't believe certain things or act certain ways just because the church tells me to.<br /><br />So back to the movie...its bad because two people are killed by this nun who is supposed to be a satire as the embodiment of a female religious figurehead. There is no comedy in that and the satire is not done well by the over acting of Diane Keaton. I never saw the play but if it was very different from this movies then it may be good.<br /><br />At first I thought the gun might be a fake and the first shooting all a plan by the female lead of the four former students as an attempt to demonstrate Sister Mary's emotional and intellectual bigotry of faith. But it turns out the bullets were real and the story has tragedy...the tragedy of loss of life (besides the two former students...the lives of the aborted babies, the life of the student's mom), the tragedy of dogmatic authority over love of people, the tragedy of organized religion replacing true faith in God. This is what is wrong with today's Islam, and yesterday's Judaism and Christianity. |\n",
      "| 49996 | negative    | I'm going to have to disagree with the previous comment and side with Maltin on this one. This is a second rate, excessively vicious Western that creaks and groans trying to put across its central theme of the Wild West being tamed and kicked aside by the steady march of time. It would like to be in the tradition of \"Butch Cassidy and the Sundance Kid\", but lacks that film's poignancy and charm. Andrew McLaglen's direction is limp, and the final 30 minutes or so are a real botch, with some incomprehensible strategy on the part of heroes Charlton Heston and Chris Mitchum. (Someone give me a holler if you can explain to me why they set that hillside on fire.) There was something callous about the whole treatment of the rape scene, and the woman's reaction afterwards certainly did not ring true. Coburn is plenty nasty as the half breed escaped convict out for revenge, but all of his fellow escapees are underdeveloped (they're like bowling pins to be knocked down one by one as the story lurches forward). Michael Parks gives one of his typically shifty, lethargic, mumbling performances, but in this case it was appropriate as his modern style sheriff symbolizes the complacency that technological progress can bring about.                                               |\n",
      "| 49997 | negative    | No one expects the Star Trek movies to be high art, but the fans do expect a movie that is as good as some of the best episodes. Unfortunately, this movie had a muddled, implausible plot that just left me cringing - this is by far the worst of the nine (so far) movies. Even the chance to watch the well known characters interact in another movie can't save this movie - including the goofy scenes with Kirk, Spock and McCoy at Yosemite.<br /><br />I would say this movie is not worth a rental, and hardly worth watching, however for the True Fan who needs to see all the movies, renting this movie is about the only way you'll see it - even the cable channels avoid this movie.                                                                                                                                                                                                                                                                                                                                                                                                                                                                                                                                                                                                                           |\n",
      "+-------+-------------+----------------------------------------------------------------------------------------------------------------------------------------------------------------------------------------------------------------------------------------------------------------------------------------------------------------------------------------------------------------------------------------------------------------------------------------------------------------------------------------------------------------------------------------------------------------------------------------------------------------------------------------------------------------------------------------------------------------------------------------------------------------------------------------------------------------------------------------------------------------------------------------------------------------------------------------------------------------------------------------------------------------------------------------------------------------------------------------------------------------------------------------------------------------------------------------------------------------------------------------------------------------------------------------------------------------------------------+\n",
      "\n",
      "기술통계\n",
      "+-----------+---------+----------+--------------------------------------------------------------------------------------------------------------------------------------------------------------------------------------------------------------------------------------------------------------------------------------------------------------------------------------------------------------------------------------------------------------------------------------------------------------------------------------------------------------------------------------------------------------------------------------------------------------------------------------------------------------------------------------------------------------------------------------------------------------------------------------------------------------------------+--------+-------+\n",
      "|           |   count |   unique | top                                                                                                                                                                                                                                                                                                                                                                                                                                                                                                                                                                                                                                                                                                                                                                                                                      |   freq |   nan |\n",
      "|-----------+---------+----------+--------------------------------------------------------------------------------------------------------------------------------------------------------------------------------------------------------------------------------------------------------------------------------------------------------------------------------------------------------------------------------------------------------------------------------------------------------------------------------------------------------------------------------------------------------------------------------------------------------------------------------------------------------------------------------------------------------------------------------------------------------------------------------------------------------------------------+--------+-------|\n",
      "| sentiment |   49998 |        2 | negative                                                                                                                                                                                                                                                                                                                                                                                                                                                                                                                                                                                                                                                                                                                                                                                                                 |  24999 |     0 |\n",
      "| review    |   49998 |    49580 | Loved today's show!!! It was a variety and not solely cooking (which would have been great too). Very stimulating and captivating, always keeping the viewer peeking around the corner to see what was coming up next. She is as down to earth and as personable as you get, like one of us which made the show all the more enjoyable. Special guests, who are friends as well made for a nice surprise too. Loved the 'first' theme and that the audience was invited to play along too. I must admit I was shocked to see her come in under her time limits on a few things, but she did it and by golly I'll be writing those recipes down. Saving time in the kitchen means more time with family. Those who haven't tuned in yet, find out what channel and the time, I assure you that you won't be disappointed. |      5 |     0 |\n",
      "+-----------+---------+----------+--------------------------------------------------------------------------------------------------------------------------------------------------------------------------------------------------------------------------------------------------------------------------------------------------------------------------------------------------------------------------------------------------------------------------------------------------------------------------------------------------------------------------------------------------------------------------------------------------------------------------------------------------------------------------------------------------------------------------------------------------------------------------------------------------------------------------+--------+-------+\n",
      "\n",
      "카테고리 정보\n",
      "+-------------+---------+\n",
      "| sentiment   |   count |\n",
      "|-------------+---------|\n",
      "| negative    |   24999 |\n",
      "| positive    |   24999 |\n",
      "+-------------+---------+\n"
     ]
    }
   ],
   "source": [
    "origin = my_read_excel(\n",
    "    \"https://data.hossam.kr/tmdata/imdb.xlsx\", categories=[\"sentiment\"]\n",
    ")"
   ]
  },
  {
   "cell_type": "markdown",
   "metadata": {},
   "source": [
    "## #02. 데이터 전처리\n",
    "\n",
    "### [1] 종속변수 라벨링\n"
   ]
  },
  {
   "cell_type": "code",
   "execution_count": 43,
   "metadata": {},
   "outputs": [
    {
     "name": "stdout",
     "output_type": "stream",
     "text": [
      "+-------------+---------+\n",
      "| sentiment   |   label |\n",
      "|-------------+---------|\n",
      "| negative    |       0 |\n",
      "| positive    |       1 |\n",
      "+-------------+---------+\n",
      "+----+-------------+-----------------------------------------------------------------------------------------------------------------------------------------------------------------------------------------------------------------------------------------------------------------------------------------------------------------------------------------------------------------------------------------------------------------------------------------------------------------------------------------------------------------------------------------------------------------------------------------------------------------------------------------------------------------------------------------------------------------------------------------------------------------------------------------------------------------------------------------------------------------------------------------------------------------------------------------------------------------------------------------------------------------------------------------------------------------------------------------------------------------------------------------------------------------------------------------------------------------------------------------------------------------------------------------------------------------------------------------------------------------------------------------------------------------------------------------------------------------------------------------------------------------------------------------------------------------------------------------------------------------------------------------------------------------------------------------------------------------------------------------------------------------------------------------------------------------------------------+\n",
      "|    |   sentiment | review                                                                                                                                                                                                                                                                                                                                                                                                                                                                                                                                                                                                                                                                                                                                                                                                                                                                                                                                                                                                                                                                                                                                                                                                                                                                                                                                                                                                                                                                                                                                                                                                                                                                                                                                                                                                                            |\n",
      "|----+-------------+-----------------------------------------------------------------------------------------------------------------------------------------------------------------------------------------------------------------------------------------------------------------------------------------------------------------------------------------------------------------------------------------------------------------------------------------------------------------------------------------------------------------------------------------------------------------------------------------------------------------------------------------------------------------------------------------------------------------------------------------------------------------------------------------------------------------------------------------------------------------------------------------------------------------------------------------------------------------------------------------------------------------------------------------------------------------------------------------------------------------------------------------------------------------------------------------------------------------------------------------------------------------------------------------------------------------------------------------------------------------------------------------------------------------------------------------------------------------------------------------------------------------------------------------------------------------------------------------------------------------------------------------------------------------------------------------------------------------------------------------------------------------------------------------------------------------------------------|\n",
      "|  0 |           1 | One of the other reviewers has mentioned that after watching just 1 Oz episode you'll be hooked. They are right, as this is exactly what happened with me.<br /><br />The first thing that struck me about Oz was its brutality and unflinching scenes of violence, which set in right from the word GO. Trust me, this is not a show for the faint hearted or timid. This show pulls no punches with regards to drugs, sex or violence. Its is hardcore, in the classic use of the word.<br /><br />It is called OZ as that is the nickname given to the Oswald Maximum Security State Penitentary. It focuses mainly on Emerald City, an experimental section of the prison where all the cells have glass fronts and face inwards, so privacy is not high on the agenda. Em City is home to many..Aryans, Muslims, gangstas, Latinos, Christians, Italians, Irish and more....so scuffles, death stares, dodgy dealings and shady agreements are never far away.<br /><br />I would say the main appeal of the show is due to the fact that it goes where other shows wouldn't dare. Forget pretty pictures painted for mainstream audiences, forget charm, forget romance...OZ doesn't mess around. The first episode I ever saw struck me as so nasty it was surreal, I couldn't say I was ready for it, but as I watched more, I developed a taste for Oz, and got accustomed to the high levels of graphic violence. Not just violence, but injustice (crooked guards who'll be sold out for a nickel, inmates who'll kill on order and get away with it, well mannered, middle class inmates being turned into prison bitches due to their lack of street skills or prison experience) Watching Oz, you may become comfortable with what is uncomfortable viewing....thats if you can get in touch with your darker side. |\n",
      "|  1 |           1 | A wonderful little production. <br /><br />The filming technique is very unassuming- very old-time-BBC fashion and gives a comforting, and sometimes discomforting, sense of realism to the entire piece. <br /><br />The actors are extremely well chosen- Michael Sheen not only \"has got all the polari\" but he has all the voices down pat too! You can truly see the seamless editing guided by the references to Williams' diary entries, not only is it well worth the watching but it is a terrificly written and performed piece. A masterful production about one of the great master's of comedy and his life. <br /><br />The realism really comes home with the little things: the fantasy of the guard which, rather than use the traditional 'dream' techniques remains solid then disappears. It plays on our knowledge and our senses, particularly with the scenes concerning Orton and Halliwell and the sets (particularly of their flat with Halliwell's murals decorating every surface) are terribly well done.                                                                                                                                                                                                                                                                                                                                                                                                                                                                                                                                                                                                                                                                                                                                                                                            |\n",
      "|  2 |           1 | I thought this was a wonderful way to spend time on a too hot summer weekend, sitting in the air conditioned theater and watching a light-hearted comedy. The plot is simplistic, but the dialogue is witty and the characters are likable (even the well bread suspected serial killer). While some may be disappointed when they realize this is not Match Point 2: Risk Addiction, I thought it was proof that Woody Allen is still fully in control of the style many of us have grown to love.<br /><br />This was the most I'd laughed at one of Woody's comedies in years (dare I say a decade?). While I've never been impressed with Scarlet Johanson, in this she managed to tone down her \"sexy\" image and jumped right into a average, but spirited young woman.<br /><br />This may not be the crown jewel of his career, but it was wittier than \"Devil Wears Prada\" and more interesting than \"Superman\" a great comedy to go see with friends.                                                                                                                                                                                                                                                                                                                                                                                                                                                                                                                                                                                                                                                                                                                                                                                                                                                                    |\n",
      "|  3 |           0 | Basically there's a family where a little boy (Jake) thinks there's a zombie in his closet & his parents are fighting all the time.<br /><br />This movie is slower than a soap opera... and suddenly, Jake decides to become Rambo and kill the zombie.<br /><br />OK, first of all when you're going to make a film you must Decide if its a thriller or a drama! As a drama the movie is watchable. Parents are divorcing & arguing like in real life. And then we have Jake with his closet which totally ruins all the film! I expected to see a BOOGEYMAN similar movie, and instead i watched a drama with some meaningless thriller spots.<br /><br />3 out of 10 just for the well playing parents & descent dialogs. As for the shots with Jake: just ignore them.                                                                                                                                                                                                                                                                                                                                                                                                                                                                                                                                                                                                                                                                                                                                                                                                                                                                                                                                                                                                                                                      |\n",
      "|  4 |           1 | Petter Mattei's \"Love in the Time of Money\" is a visually stunning film to watch. Mr. Mattei offers us a vivid portrait about human relations. This is a movie that seems to be telling us what money, power and success do to people in the different situations we encounter. <br /><br />This being a variation on the Arthur Schnitzler's play about the same theme, the director transfers the action to the present time New York where all these different characters meet and connect. Each one is connected in one way, or another to the next person, but no one seems to know the previous point of contact. Stylishly, the film has a sophisticated luxurious look. We are taken to see how these people live and the world they live in their own habitat.<br /><br />The only thing one gets out of all these souls in the picture is the different stages of loneliness each one inhabits. A big city is not exactly the best place in which human relations find sincere fulfillment, as one discerns is the case with most of the people we encounter.<br /><br />The acting is good under Mr. Mattei's direction. Steve Buscemi, Rosario Dawson, Carol Kane, Michael Imperioli, Adrian Grenier, and the rest of the talented cast, make these characters come alive.<br /><br />We wish Mr. Mattei good luck and await anxiously for his next work.                                                                                                                                                                                                                                                                                                                                                                                                                                                             |\n",
      "+----+-------------+-----------------------------------------------------------------------------------------------------------------------------------------------------------------------------------------------------------------------------------------------------------------------------------------------------------------------------------------------------------------------------------------------------------------------------------------------------------------------------------------------------------------------------------------------------------------------------------------------------------------------------------------------------------------------------------------------------------------------------------------------------------------------------------------------------------------------------------------------------------------------------------------------------------------------------------------------------------------------------------------------------------------------------------------------------------------------------------------------------------------------------------------------------------------------------------------------------------------------------------------------------------------------------------------------------------------------------------------------------------------------------------------------------------------------------------------------------------------------------------------------------------------------------------------------------------------------------------------------------------------------------------------------------------------------------------------------------------------------------------------------------------------------------------------------------------------------------------+\n"
     ]
    }
   ],
   "source": [
    "df = my_labelling(origin, 'sentiment')\n",
    "my_pretty_table(df.head())"
   ]
  },
  {
   "cell_type": "markdown",
   "metadata": {},
   "source": [
    "### [2] 문자열 전처리\n",
    "\n",
    "* 축약형 문자열 처리\n",
    "* 이메일 주소 제거\n",
    "* HTML 태그 제거\n",
    "* URL 제거\n",
    "* 숫자 제거\n",
    "* 특수문자 제거\n",
    "* 불용어 제거\n",
    "\n",
    "#### (1) 영어 불용어 목록\n"
   ]
  },
  {
   "cell_type": "code",
   "execution_count": 44,
   "metadata": {},
   "outputs": [],
   "source": [
    "#stopwords = my_stopwords('en')\n",
    "#stopwords[:10]"
   ]
  },
  {
   "cell_type": "markdown",
   "metadata": {},
   "source": [
    "#### (2) 전처리 수행\n"
   ]
  },
  {
   "cell_type": "code",
   "execution_count": 45,
   "metadata": {},
   "outputs": [
    {
     "name": "stdout",
     "output_type": "stream",
     "text": [
      "+----+-------------+----------------------------------------------------------------------------------------------------------------------------------------------------------------------------------------------------------------------------------------------------------------------------------------------------------------------------------------------------------------------------------------------------------------------------------------------------------------------------------------------------------------------------------------------------------------------------------------------------------------------------------------------------------------------------------------------------------------------------------------------------------------------------------------------------------------------------------------------------------------------------------------------------------------------------------------------------------------------------------------------------------------------------------------------------------------------------------------------------------------------------------------------------------------------------------------------------------------------------------------------------------------------------------------------------------------------------------------------------------------------------------------------------------------------------------------------------------------------------------------------------------------------------------------------------------------------------------------------------------------------------------------------------------------------------------------------------------------------------------------------------+\n",
      "|    |   sentiment | review                                                                                                                                                                                                                                                                                                                                                                                                                                                                                                                                                                                                                                                                                                                                                                                                                                                                                                                                                                                                                                                                                                                                                                                                                                                                                                                                                                                                                                                                                                                                                                                                                                                                                                                                             |\n",
      "|----+-------------+----------------------------------------------------------------------------------------------------------------------------------------------------------------------------------------------------------------------------------------------------------------------------------------------------------------------------------------------------------------------------------------------------------------------------------------------------------------------------------------------------------------------------------------------------------------------------------------------------------------------------------------------------------------------------------------------------------------------------------------------------------------------------------------------------------------------------------------------------------------------------------------------------------------------------------------------------------------------------------------------------------------------------------------------------------------------------------------------------------------------------------------------------------------------------------------------------------------------------------------------------------------------------------------------------------------------------------------------------------------------------------------------------------------------------------------------------------------------------------------------------------------------------------------------------------------------------------------------------------------------------------------------------------------------------------------------------------------------------------------------------|\n",
      "|  0 |           1 | One of the other reviewers has mentioned that after watching just Oz episode you will be hooked They are right as this is exactly what happened with meThe first thing that struck me about Oz was its brutality and unflinching scenes of violence which set in right from the word GO Trust me this is not a show for the faint hearted or timid This show pulls no punches with regards to drugs sex or violence Its is hardcore in the classic use of the wordIt is called OZ as that is the nickname given to the Oswald Maximum Security State Penitentary It focuses mainly on Emerald City an experimental section of the prison where all the cells have glass fronts and face inwards so privacy is not high on the agenda Them City is home to manyAryans Muslims gangstas Latinos Christians Italians Irish and moreso scuffles death stares dodgy dealings and shady agreements are never far awayI would say the main appeal of the show is due to the fact that it goes where other shows would not dare Forget pretty pictures painted for mainstream audiences forget charm forget romanceOZ does not mess around The first episode I ever saw struck me as so nasty it was surreal I could not say I was ready for it but as I watched more I developed a taste for Oz and got accustomed to the high levels of graphic violence Not just violence but injustice crooked guards who will be sold out for a nickel inmates who will kill on order and get away with it well mannered middle class inmates being turned into prison bitches due to their lack of street skills or prison experience Watching Oz you may become comfortable with what is uncomfortable viewingthat is if you can get in touch with your darker side |\n",
      "|  1 |           1 | A wonderful little production The filming technique is very unassuming very oldtimeBBC fashion and gives a comforting and sometimes discomforting sense of realism to the entire piece The actors are extremely well chosen Michael Sheen not only has got all the polari but he has all the voices down pat too You can truly see the seamless editing guided by the references to Williams diary entries not only is it well worth the watching but it is a terrificly written and performed piece A masterful production about one of the great masters of comedy and his life The realism really comes home with the little things the fantasy of the guard which rather than use the traditional dream techniques remains solid then disappears It plays on our knowledge and our senses particularly with the scenes concerning Orton and Halliwell and the sets particularly of their flat with Halliwells murals decorating every surface are terribly well done                                                                                                                                                                                                                                                                                                                                                                                                                                                                                                                                                                                                                                                                                                                                                                           |\n",
      "|  2 |           1 | I thought this was a wonderful way to spend time on a too hot summer weekend sitting in the air conditioned theater and watching a lighthearted comedy The plot is simplistic but the dialogue is witty and the characters are likable even the well bread suspected serial killer While some may be disappointed when they realize this is not Match Point Risk Addiction I thought it was proof that Woody Allen is still fully in control of the style many of us have grown to loveThis was the most I would laughed at one of Woodys comedies in years dare I say a decade While I have never been impressed with Scarlet Johanson in this she managed to tone down her sexy image and jumped right into a average but spirited young womanThis may not be the crown jewel of his career but it was wittier than Devil Wears Prada and more interesting than Superman a great comedy to go see with friends                                                                                                                                                                                                                                                                                                                                                                                                                                                                                                                                                                                                                                                                                                                                                                                                                                   |\n",
      "|  3 |           0 | Basically there is a family where a little boy Jake thinks there is a zombie in his closet his parents are fighting all the timeThis movie is slower than a soap opera and suddenly Jake decides to become Rambo and kill the zombieOK first of all when you are going to make a film you must Decide if its a thriller or a drama As a drama the movie is watchable Parents are divorcing arguing like in real life And then we have Jake with his closet which totally ruins all the film I expected to see a BOOGEYMAN similar movie and instead i watched a drama with some meaningless thriller spots out of just for the well playing parents descent dialogs As for the shots with Jake just ignore them                                                                                                                                                                                                                                                                                                                                                                                                                                                                                                                                                                                                                                                                                                                                                                                                                                                                                                                                                                                                                                    |\n",
      "|  4 |           1 | Petter Matteis Love in the Time of Money is a visually stunning film to watch Mr Mattei offers us a vivid portrait about human relations This is a movie that seems to be telling us what money power and success do to people in the different situations we encounter This being a variation on the Arthur Schnitzlers play about the same theme the director transfers the action to the present time New York where all these different characters meet and connect Each one is connected in one way or another to the next person but no one seems to know the previous point of contact Stylishly the film has a sophisticated luxurious look We are taken to see how these people live and the world they live in their own habitatThe only thing one gets out of all these souls in the picture is the different stages of loneliness each one inhabits A big city is not exactly the best place in which human relations find sincere fulfillment as one discerns is the case with most of the people we encounterThe acting is good under Mr Matteis direction Steve Buscemi Rosario Dawson Carol Kane Michael Imperioli Adrian Grenier and the rest of the talented cast make these characters come aliveWe wish Mr Mattei good luck and await anxiously for his next work                                                                                                                                                                                                                                                                                                                                                                                                                                                              |\n",
      "+----+-------------+----------------------------------------------------------------------------------------------------------------------------------------------------------------------------------------------------------------------------------------------------------------------------------------------------------------------------------------------------------------------------------------------------------------------------------------------------------------------------------------------------------------------------------------------------------------------------------------------------------------------------------------------------------------------------------------------------------------------------------------------------------------------------------------------------------------------------------------------------------------------------------------------------------------------------------------------------------------------------------------------------------------------------------------------------------------------------------------------------------------------------------------------------------------------------------------------------------------------------------------------------------------------------------------------------------------------------------------------------------------------------------------------------------------------------------------------------------------------------------------------------------------------------------------------------------------------------------------------------------------------------------------------------------------------------------------------------------------------------------------------------+\n",
      "CPU times: total: 9.16 s\n",
      "Wall time: 9.18 s\n"
     ]
    }
   ],
   "source": [
    "%%time\n",
    "\n",
    "df2 = my_text_data_preprocessing(df, 'review', rm_abbr=True, rm_email=True, \n",
    "                                 rm_html=True, rm_url=True, rm_num=True, rm_special=True)\n",
    "my_pretty_table(df2.head())"
   ]
  },
  {
   "cell_type": "markdown",
   "metadata": {},
   "source": [
    "### [3] 독립, 종속변수 분리\n"
   ]
  },
  {
   "cell_type": "code",
   "execution_count": 46,
   "metadata": {},
   "outputs": [],
   "source": [
    "y = df2['sentiment']\n",
    "x = df2['review']"
   ]
  },
  {
   "cell_type": "markdown",
   "metadata": {},
   "source": [
    "### [4] 문자열 토큰화\n",
    "\n",
    "#### (1) 전체 데이터에 대한 토큰화\n"
   ]
  },
  {
   "cell_type": "code",
   "execution_count": 47,
   "metadata": {},
   "outputs": [
    {
     "name": "stdout",
     "output_type": "stream",
     "text": [
      "전체 단어수: 216474\n",
      "토큰의 크기: 49998\n",
      "0\n",
      "[28, 5, 2, 82, 1878, 44, 1026, 12, 103, 146, 40, 3238, 380, 21, 55, 27, 3076, 30, 22, 200, 15, 11, 6, 570, 47, 558, 16, 7380, 90, 147, 12, 3162, 71, 43, 3238, 14, 91, 5388, 3, 14721, 134, 5, 561, 62, 276, 9, 200, 35, 2, 639, 139, 1678, 71, 11, 6, 13, 4, 119, 17, 2, 7982, 5583, 39, 11370, 11, 119, 2428, 58, 5797, 16, 5491, 7, 1414, 368, 39, 561, 91, 6, 3304, 9, 2, 339, 331, 5, 2, 60332, 6, 446, 3238, 15, 12, 6, 2, 11045, 335, 7, 2, 15320, 6647, 2478, 1021, 60333, 8, 2539, 1323, 24, 24316, 514, 33, 4578, 2434, 5, 2, 1158, 113, 31, 2, 6851, 23, 2876, 12466, 3, 393, 60334, 37, 16758, 6, 13, 308, 24, 2, 4915, 92, 514, 6, 332, 7, 82191, 8110, 39518, 14722, 5006, 7571, 2372, 3, 16759, 60335, 318, 8887, 7168, 13328, 3, 8357, 33516, 22, 111, 219, 19684, 48, 125, 2, 263, 1247, 5, 2, 119, 6, 640, 7, 2, 182, 12, 8, 253, 113, 82, 247, 48, 13, 2883, 789, 175, 1220, 4210, 17, 2413, 1058, 789, 1360, 789, 82192, 73, 13, 941, 178, 2, 90, 380, 10, 121, 196, 3162, 71, 15, 37, 1519, 8, 14, 2131, 10, 76, 13, 125, 10, 14, 1496, 17, 8, 19, 15, 10, 268, 51, 10, 1410, 4, 1197, 17, 3238, 3, 173, 9852, 7, 2, 308, 2012, 5, 2029, 561, 13, 40, 561, 19, 7632, 6852, 4797, 34, 55, 27, 2852, 45, 17, 4, 31316, 6751, 34, 55, 474, 24, 590, 3, 80, 230, 16, 8, 79, 9522, 718, 779, 6751, 108, 632, 81, 1158, 19685, 640, 7, 64, 529, 5, 891, 1929, 39, 1158, 530, 146, 3238, 21, 190, 397, 3652, 16, 47, 6, 3170, 82193, 6, 46, 21, 69, 80, 9, 1163, 16, 122, 3893, 482]\n",
      "------------------------------\n",
      "0\n",
      "[4, 371, 117, 347, 2, 1311, 2914, 6, 52, 17622, 52, 82194, 1571, 3, 378, 4, 12879, 3, 497, 26508, 270, 5, 1828, 7, 2, 406, 394, 2, 148, 22, 524, 79, 2197, 478, 4531, 13, 61, 44, 173, 31, 2, 82195, 19, 25, 44, 31, 2, 2147, 180, 3212, 101, 21, 69, 342, 66, 2, 13329, 761, 9853, 32, 2, 1731, 7, 1618, 7223, 6430, 13, 61, 6, 8, 79, 259, 2, 146, 19, 8, 6, 4, 39519, 414, 3, 2294, 394, 4, 4211, 347, 43, 28, 5, 2, 83, 3097, 5, 207, 3, 26, 120, 2, 1828, 63, 251, 332, 16, 2, 117, 174, 2, 1030, 5, 2, 2895, 62, 231, 74, 331, 2, 2068, 988, 3052, 1193, 1105, 95, 4868, 8, 279, 24, 243, 1735, 3, 243, 4446, 542, 16, 2, 134, 3482, 19108, 3, 27922, 3, 2, 679, 542, 5, 64, 1056, 16, 82196, 60336, 27923, 167, 2191, 22, 1847, 79, 217]\n",
      "------------------------------\n",
      "0\n",
      "[10, 189, 11, 14, 4, 371, 99, 7, 1071, 60, 24, 4, 101, 867, 1426, 2407, 1145, 9, 2, 909, 15996, 729, 3, 146, 4, 3881, 207, 2, 115, 6, 3904, 19, 2, 392, 6, 1801, 3, 2, 102, 22, 1419, 56, 2, 79, 6341, 6431, 1486, 475, 138, 49, 190, 27, 663, 53, 30, 893, 11, 6, 13, 1007, 215, 2884, 5024, 10, 189, 8, 14, 2933, 12, 2861, 1979, 6, 127, 1325, 9, 1110, 5, 2, 411, 106, 5, 143, 23, 2243, 7, 26509, 14, 2, 88, 10, 48, 1335, 29, 28, 5, 19109, 1245, 9, 149, 2883, 10, 125, 4, 2025, 138, 10, 23, 111, 78, 1424, 16, 8989, 39520, 9, 11, 54, 1218, 7, 1185, 180, 42, 1188, 1340, 3, 4853, 200, 81, 4, 821, 19, 4916, 179, 60337, 190, 13, 27, 2, 7288, 5081, 5, 26, 612, 19, 8, 14, 31317, 74, 2219, 2776, 24317, 3, 51, 211, 74, 2585, 4, 83, 207, 7, 139, 66, 16, 320]\n",
      "------------------------------\n",
      "0\n",
      "[659, 38, 6, 4, 227, 113, 4, 117, 423, 3530, 1150, 38, 6, 4, 992, 9, 26, 4233, 26, 714, 22, 966, 31, 2, 13091, 18, 6, 7836, 74, 4, 1866, 1324, 3, 1047, 3530, 1017, 7, 397, 5824, 3, 474, 2, 82197, 90, 5, 31, 53, 21, 22, 150, 7, 98, 4, 20, 21, 197, 1078, 46, 91, 4, 736, 39, 4, 454, 15, 4, 454, 2, 18, 6, 1658, 714, 22, 29526, 6648, 36, 9, 145, 120, 3, 95, 72, 23, 3530, 16, 26, 4233, 62, 425, 3921, 31, 2, 20, 10, 804, 7, 66, 4, 11046, 690, 18, 3, 291, 10, 268, 4, 454, 16, 49, 3702, 736, 3113, 45, 5, 40, 17, 2, 79, 372, 714, 4491, 3171, 15, 17, 2, 601, 16, 3530, 40, 2638, 92]\n",
      "------------------------------\n",
      "0\n",
      "[82198, 33517, 112, 9, 2, 60, 5, 282, 6, 4, 2087, 1326, 20, 7, 105, 433, 11902, 1455, 143, 4, 4097, 3156, 43, 377, 4324, 11, 6, 4, 18, 12, 177, 7, 27, 987, 143, 47, 282, 634, 3, 968, 41, 7, 85, 9, 2, 258, 1090, 72, 2379, 11, 108, 4, 6799, 24, 2, 1758, 60338, 280, 43, 2, 162, 724, 2, 171, 16760, 2, 214, 7, 2, 969, 60, 164, 812, 113, 31, 128, 258, 102, 835, 3, 3586, 234, 28, 6, 3157, 9, 28, 99, 39, 157, 7, 2, 355, 387, 19, 58, 28, 177, 7, 116, 2, 852, 215, 5, 2786, 16391, 2, 20, 44, 4, 3249, 13848, 160, 72, 22, 554, 7, 66, 87, 128, 85, 410, 3, 2, 183, 30, 410, 9, 64, 192, 82199, 61, 147, 28, 199, 45, 5, 31, 128, 3188, 9, 2, 416, 6, 2, 258, 5584, 5, 4642, 234, 28, 13579, 4, 185, 514, 6, 13, 570, 2, 118, 265, 9, 62, 377, 4324, 158, 4351, 12092, 15, 28, 82200, 6, 2, 400, 16, 88, 5, 2, 85, 72, 60339, 114, 6, 50, 463, 433, 33517, 447, 1277, 12093, 10349, 5889, 3730, 2745, 478, 19110, 6853, 36205, 3, 2, 341, 5, 2, 983, 176, 98, 128, 102, 204, 82201, 583, 433, 11902, 50, 2039, 3, 11561, 17175, 17, 26, 355, 161]\n",
      "------------------------------\n",
      "0\n",
      "[226, 59, 3637, 483, 18, 4, 67, 5, 43944, 4034, 3, 7633, 7, 4, 3439, 77, 19, 8, 6, 13, 5389, 39, 337, 8, 40, 111, 199, 166, 460, 59, 249, 107, 8, 49, 39, 51, 206, 9, 2, 224, 149, 809, 9203, 228, 910, 1644, 7, 59, 491, 3, 4017, 1879, 9, 28, 5, 42, 52, 165, 342, 2099, 556, 6, 4, 2925, 2, 319, 22, 15, 7572, 503, 51, 36, 82202, 18089, 74, 443, 19, 12, 61, 155, 92, 51, 235, 7, 105, 3, 2, 2760, 580, 7837, 7, 47, 6, 1397, 9, 2, 183, 3, 463, 42, 192, 4977, 6, 800, 3, 5890, 46, 10, 65, 4, 2575, 3561, 30, 48, 31, 27, 57, 17, 11, 18]\n",
      "------------------------------\n",
      "0\n",
      "[10, 239, 48, 36, 7, 66, 4, 8593, 5, 4, 57, 1936, 60340, 205, 16, 2, 7439, 30, 23, 611, 8, 48, 680, 144, 2, 519, 2353, 9, 6906, 2008, 57, 24, 306, 3, 455, 229, 3, 60340, 16, 19111, 68, 59, 5281, 167, 82203, 23, 59, 1982, 17, 4, 7059, 5, 4, 164, 1604, 82204, 326, 4, 628, 5, 999, 9, 229, 3, 11, 48, 161, 17, 4, 183, 5, 463, 956, 82205, 32, 2, 99, 1337, 21, 17, 33, 13580, 36, 11, 7, 625, 106, 13092, 43, 229, 3, 2, 106, 29527, 100, 12682, 99, 10, 244, 10, 23, 173, 47, 10, 169, 7, 82206, 27, 313, 7, 315, 49, 51, 897, 766, 43, 1604, 82207, 59, 12263, 48, 27, 390, 48, 21, 238, 71, 82208, 526, 71, 45, 7, 27, 9, 745, 3, 23, 71, 7, 82209, 11, 6, 37, 95, 10, 197, 139, 37, 238, 143, 41, 8]\n",
      "------------------------------\n",
      "0\n",
      "[11, 119, 14, 33, 466, 1372, 3934, 303, 9, 2, 281, 53, 8, 90, 3012, 2, 90, 39, 149, 68, 489, 19, 174, 3250, 124, 103, 12, 32, 2, 119, 14, 13, 63, 154, 1542, 3, 8, 6, 3562, 91, 5923, 1013, 7, 2, 551, 421, 5, 60, 8, 6, 50262, 6, 342, 13330, 87, 219, 11, 119, 44, 2853, 2, 467, 6, 2212, 84, 2, 343, 22, 203, 15, 84, 46, 13, 17, 2, 2504, 413, 16761, 5, 2, 82210, 11, 119, 226, 48, 13, 127, 27, 24, 2, 909, 10, 158, 8, 37, 252, 7, 244, 12, 2, 162, 5109, 12, 82211, 2, 201, 176, 86, 2348, 2, 1091, 5, 10629, 12, 1459, 87, 69, 28, 2257, 136, 3473, 3, 95, 66, 1039, 7, 4829, 8, 16, 136, 6649, 10, 405, 10, 197, 187, 399, 45, 5, 1124, 17, 2, 201, 176, 12, 94, 11, 119, 136, 4, 581, 968, 15, 8, 6, 152, 2, 119, 6, 40, 366, 10, 140, 244, 8, 6, 127, 24, 2, 909]\n",
      "------------------------------\n",
      "0\n",
      "[8111, 32, 2, 1089, 738, 43, 11, 20, 24, 131, 10, 14, 262, 932, 7, 146, 11, 20, 84, 1358, 10, 23, 107, 97, 3, 11, 6, 342, 28, 5, 2, 233, 5, 92, 8, 6, 366, 9, 203, 167, 99, 761, 1687, 719, 114, 692, 2, 97, 61, 571, 4, 830, 655, 2957, 6, 240, 58, 330, 74, 658, 206, 2, 20, 266, 654, 3, 1519, 3, 6, 337, 9, 2, 1431, 1591, 23, 10, 78, 37, 650, 7, 66, 2, 130, 859, 5, 4, 20, 2, 61, 147, 12, 9391, 71, 683, 11, 4, 547, 6, 4466, 9742, 138, 11, 6, 219, 35, 26, 118, 228, 25, 29, 210, 177, 7, 27, 242, 4, 216, 5, 33, 746, 28, 17, 9742, 43945, 61]\n",
      "------------------------------\n",
      "0\n",
      "[46, 21, 36, 201, 7224, 8777, 2123, 21, 55, 36, 11, 18, 46, 21, 22, 179, 39, 166, 95, 21, 55, 112, 11, 18, 574, 56, 59, 1499, 398, 43946, 1170]\n",
      "------------------------------\n",
      "CPU times: total: 10.4 s\n",
      "Wall time: 10.6 s\n"
     ]
    }
   ],
   "source": [
    "%%time\n",
    "\n",
    "tokenizer = my_tokenizer(x)\n",
    "print(f'전체 단어수: {len(tokenizer.word_index)+1}')\n",
    "\n",
    "token_set = tokenizer.texts_to_sequences(x)\n",
    "print('토큰의 크기:', len(token_set))\n",
    "\n",
    "i = tokenizer.texts_to_sequences(x.head(10))\n",
    "for j in range(10):\n",
    "    print(i[j].count(1))\n",
    "    print(i[j])\n",
    "    print('-'*30)"
   ]
  },
  {
   "cell_type": "markdown",
   "metadata": {},
   "source": [
    "#### (2) 각 단어별 빈도수 확인\n",
    "\n",
    "`(단어: 빈도수)` 형태의 튜플을 원소로 갖는 odict_list 타입 객체를 반환\n"
   ]
  },
  {
   "cell_type": "code",
   "execution_count": 48,
   "metadata": {},
   "outputs": [
    {
     "name": "stdout",
     "output_type": "stream",
     "text": [
      "[('one', 50323), ('of', 288404), ('the', 650099), ('other', 17762), ('reviewers', 500)]\n"
     ]
    }
   ],
   "source": [
    "bins = tokenizer.word_counts.items()\n",
    "print(list(bins)[:5])"
   ]
  },
  {
   "cell_type": "markdown",
   "metadata": {},
   "source": [
    "#### (3) 자주 등장하는 단어 수 계산\n"
   ]
  },
  {
   "cell_type": "code",
   "execution_count": 49,
   "metadata": {},
   "outputs": [
    {
     "name": "stdout",
     "output_type": "stream",
     "text": [
      "단어 집합(vocabulary)의 크기: 216473\n",
      "등장 빈도가 30번 미만인 희귀 단어의 수: 201154\n",
      "단어 집합에서 희귀 단어의 비율: 92.92336688640154\n",
      "전체 등장 빈도에서 희귀 단어 등장 빈도 비율: 4.968858700328982\n",
      "단어 집합의 크기 : 15320\n"
     ]
    }
   ],
   "source": [
    "threshold = 30\n",
    "\n",
    "total_cnt = len(tokenizer.word_index)\n",
    "\n",
    "rare_cnt = 0\n",
    "\n",
    "total_freq = 0\n",
    "\n",
    "rare_freq = 0\n",
    "\n",
    "for key, value in tokenizer.word_counts.items():\n",
    "    total_freq = total_freq + value\n",
    "    \n",
    "    if value < threshold:\n",
    "        rare_cnt = rare_cnt + 1\n",
    "        rare_freq = rare_freq + value\n",
    "        \n",
    "print('단어 집합(vocabulary)의 크기:', total_cnt)\n",
    "print('등장 빈도가 %s번 미만인 희귀 단어의 수: %s' % (threshold, rare_cnt))\n",
    "print('단어 집합에서 희귀 단어의 비율:', (rare_cnt / total_cnt) * 100)\n",
    "print('전체 등장 빈도에서 희귀 단어 등장 빈도 비율:', (rare_freq / total_freq) * 100)\n",
    "\n",
    "vocab_size = total_cnt - rare_cnt + 1\n",
    "print('단어 집합의 크기 :', vocab_size)"
   ]
  },
  {
   "cell_type": "markdown",
   "metadata": {},
   "source": [
    "#### (4) 자주 등장하는 단어를 제외한 나머지 단어를 OOV로 처리하여 최종 토큰화 진행\n",
    "\n",
    "`num_words` 를 설정하더라도 전체 단어수나 토큰의 크기에는 영향을 주지 않는다.\n"
   ]
  },
  {
   "cell_type": "code",
   "execution_count": 50,
   "metadata": {},
   "outputs": [
    {
     "name": "stdout",
     "output_type": "stream",
     "text": [
      "전체 단어 수: 216474\n",
      "토큰의 크기: 49998\n",
      "16\n",
      "[28, 5, 2, 82, 1878, 44, 1026, 12, 103, 146, 40, 3238, 380, 21, 55, 27, 3076, 30, 22, 200, 15, 11, 6, 570, 47, 558, 16, 7380, 90, 147, 12, 3162, 71, 43, 3238, 14, 91, 5388, 3, 14721, 134, 5, 561, 62, 276, 9, 200, 35, 2, 639, 139, 1678, 71, 11, 6, 13, 4, 119, 17, 2, 7982, 5583, 39, 11370, 11, 119, 2428, 58, 5797, 16, 5491, 7, 1414, 368, 39, 561, 91, 6, 3304, 9, 2, 339, 331, 5, 2, 1, 6, 446, 3238, 15, 12, 6, 2, 11045, 335, 7, 2, 1, 6647, 2478, 1021, 1, 8, 2539, 1323, 24, 1, 514, 33, 4578, 2434, 5, 2, 1158, 113, 31, 2, 6851, 23, 2876, 12466, 3, 393, 1, 37, 1, 6, 13, 308, 24, 2, 4915, 92, 514, 6, 332, 7, 1, 8110, 1, 14722, 5006, 7571, 2372, 3, 1, 1, 318, 8887, 7168, 13328, 3, 8357, 1, 22, 111, 219, 1, 48, 125, 2, 263, 1247, 5, 2, 119, 6, 640, 7, 2, 182, 12, 8, 253, 113, 82, 247, 48, 13, 2883, 789, 175, 1220, 4210, 17, 2413, 1058, 789, 1360, 789, 1, 73, 13, 941, 178, 2, 90, 380, 10, 121, 196, 3162, 71, 15, 37, 1519, 8, 14, 2131, 10, 76, 13, 125, 10, 14, 1496, 17, 8, 19, 15, 10, 268, 51, 10, 1410, 4, 1197, 17, 3238, 3, 173, 9852, 7, 2, 308, 2012, 5, 2029, 561, 13, 40, 561, 19, 7632, 6852, 4797, 34, 55, 27, 2852, 45, 17, 4, 1, 6751, 34, 55, 474, 24, 590, 3, 80, 230, 16, 8, 79, 9522, 718, 779, 6751, 108, 632, 81, 1158, 1, 640, 7, 64, 529, 5, 891, 1929, 39, 1158, 530, 146, 3238, 21, 190, 397, 3652, 16, 47, 6, 3170, 1, 6, 46, 21, 69, 80, 9, 1163, 16, 122, 3893, 482]\n",
      "------------------------------\n",
      "10\n",
      "[4, 371, 117, 347, 2, 1311, 2914, 6, 52, 1, 52, 1, 1571, 3, 378, 4, 12879, 3, 497, 1, 270, 5, 1828, 7, 2, 406, 394, 2, 148, 22, 524, 79, 2197, 478, 4531, 13, 61, 44, 173, 31, 2, 1, 19, 25, 44, 31, 2, 2147, 180, 3212, 101, 21, 69, 342, 66, 2, 13329, 761, 9853, 32, 2, 1731, 7, 1618, 7223, 6430, 13, 61, 6, 8, 79, 259, 2, 146, 19, 8, 6, 4, 1, 414, 3, 2294, 394, 4, 4211, 347, 43, 28, 5, 2, 83, 3097, 5, 207, 3, 26, 120, 2, 1828, 63, 251, 332, 16, 2, 117, 174, 2, 1030, 5, 2, 2895, 62, 231, 74, 331, 2, 2068, 988, 3052, 1193, 1105, 95, 4868, 8, 279, 24, 243, 1735, 3, 243, 4446, 542, 16, 2, 134, 3482, 1, 3, 1, 3, 2, 679, 542, 5, 64, 1056, 16, 1, 1, 1, 167, 2191, 22, 1847, 79, 217]\n",
      "------------------------------\n",
      "7\n",
      "[10, 189, 11, 14, 4, 371, 99, 7, 1071, 60, 24, 4, 101, 867, 1426, 2407, 1145, 9, 2, 909, 1, 729, 3, 146, 4, 3881, 207, 2, 115, 6, 3904, 19, 2, 392, 6, 1801, 3, 2, 102, 22, 1419, 56, 2, 79, 6341, 6431, 1486, 475, 138, 49, 190, 27, 663, 53, 30, 893, 11, 6, 13, 1007, 215, 2884, 5024, 10, 189, 8, 14, 2933, 12, 2861, 1979, 6, 127, 1325, 9, 1110, 5, 2, 411, 106, 5, 143, 23, 2243, 7, 1, 14, 2, 88, 10, 48, 1335, 29, 28, 5, 1, 1245, 9, 149, 2883, 10, 125, 4, 2025, 138, 10, 23, 111, 78, 1424, 16, 8989, 1, 9, 11, 54, 1218, 7, 1185, 180, 42, 1188, 1340, 3, 4853, 200, 81, 4, 821, 19, 4916, 179, 1, 190, 13, 27, 2, 7288, 5081, 5, 26, 612, 19, 8, 14, 1, 74, 2219, 2776, 1, 3, 51, 211, 74, 2585, 4, 83, 207, 7, 139, 66, 16, 320]\n",
      "------------------------------\n",
      "2\n",
      "[659, 38, 6, 4, 227, 113, 4, 117, 423, 3530, 1150, 38, 6, 4, 992, 9, 26, 4233, 26, 714, 22, 966, 31, 2, 13091, 18, 6, 7836, 74, 4, 1866, 1324, 3, 1047, 3530, 1017, 7, 397, 5824, 3, 474, 2, 1, 90, 5, 31, 53, 21, 22, 150, 7, 98, 4, 20, 21, 197, 1078, 46, 91, 4, 736, 39, 4, 454, 15, 4, 454, 2, 18, 6, 1658, 714, 22, 1, 6648, 36, 9, 145, 120, 3, 95, 72, 23, 3530, 16, 26, 4233, 62, 425, 3921, 31, 2, 20, 10, 804, 7, 66, 4, 11046, 690, 18, 3, 291, 10, 268, 4, 454, 16, 49, 3702, 736, 3113, 45, 5, 40, 17, 2, 79, 372, 714, 4491, 3171, 15, 17, 2, 601, 16, 3530, 40, 2638, 92]\n",
      "------------------------------\n",
      "13\n",
      "[1, 1, 112, 9, 2, 60, 5, 282, 6, 4, 2087, 1326, 20, 7, 105, 433, 11902, 1455, 143, 4, 4097, 3156, 43, 377, 4324, 11, 6, 4, 18, 12, 177, 7, 27, 987, 143, 47, 282, 634, 3, 968, 41, 7, 85, 9, 2, 258, 1090, 72, 2379, 11, 108, 4, 6799, 24, 2, 1758, 1, 280, 43, 2, 162, 724, 2, 171, 1, 2, 214, 7, 2, 969, 60, 164, 812, 113, 31, 128, 258, 102, 835, 3, 3586, 234, 28, 6, 3157, 9, 28, 99, 39, 157, 7, 2, 355, 387, 19, 58, 28, 177, 7, 116, 2, 852, 215, 5, 2786, 1, 2, 20, 44, 4, 3249, 13848, 160, 72, 22, 554, 7, 66, 87, 128, 85, 410, 3, 2, 183, 30, 410, 9, 64, 192, 1, 61, 147, 28, 199, 45, 5, 31, 128, 3188, 9, 2, 416, 6, 2, 258, 5584, 5, 4642, 234, 28, 13579, 4, 185, 514, 6, 13, 570, 2, 118, 265, 9, 62, 377, 4324, 158, 4351, 12092, 15, 28, 1, 6, 2, 400, 16, 88, 5, 2, 85, 72, 1, 114, 6, 50, 463, 433, 1, 447, 1277, 12093, 10349, 5889, 3730, 2745, 478, 1, 6853, 1, 3, 2, 341, 5, 2, 983, 176, 98, 128, 102, 204, 1, 583, 433, 11902, 50, 2039, 3, 11561, 1, 17, 26, 355, 161]\n",
      "------------------------------\n",
      "3\n",
      "[226, 59, 3637, 483, 18, 4, 67, 5, 1, 4034, 3, 7633, 7, 4, 3439, 77, 19, 8, 6, 13, 5389, 39, 337, 8, 40, 111, 199, 166, 460, 59, 249, 107, 8, 49, 39, 51, 206, 9, 2, 224, 149, 809, 9203, 228, 910, 1644, 7, 59, 491, 3, 4017, 1879, 9, 28, 5, 42, 52, 165, 342, 2099, 556, 6, 4, 2925, 2, 319, 22, 15, 7572, 503, 51, 36, 1, 1, 74, 443, 19, 12, 61, 155, 92, 51, 235, 7, 105, 3, 2, 2760, 580, 7837, 7, 47, 6, 1397, 9, 2, 183, 3, 463, 42, 192, 4977, 6, 800, 3, 5890, 46, 10, 65, 4, 2575, 3561, 30, 48, 31, 27, 57, 17, 11, 18]\n",
      "------------------------------\n",
      "11\n",
      "[10, 239, 48, 36, 7, 66, 4, 8593, 5, 4, 57, 1936, 1, 205, 16, 2, 7439, 30, 23, 611, 8, 48, 680, 144, 2, 519, 2353, 9, 6906, 2008, 57, 24, 306, 3, 455, 229, 3, 1, 16, 1, 68, 59, 5281, 167, 1, 23, 59, 1982, 17, 4, 7059, 5, 4, 164, 1604, 1, 326, 4, 628, 5, 999, 9, 229, 3, 11, 48, 161, 17, 4, 183, 5, 463, 956, 1, 32, 2, 99, 1337, 21, 17, 33, 13580, 36, 11, 7, 625, 106, 13092, 43, 229, 3, 2, 106, 1, 100, 12682, 99, 10, 244, 10, 23, 173, 47, 10, 169, 7, 1, 27, 313, 7, 315, 49, 51, 897, 766, 43, 1604, 1, 59, 12263, 48, 27, 390, 48, 21, 238, 71, 1, 526, 71, 45, 7, 27, 9, 745, 3, 23, 71, 7, 1, 11, 6, 37, 95, 10, 197, 139, 37, 238, 143, 41, 8]\n",
      "------------------------------\n",
      "4\n",
      "[11, 119, 14, 33, 466, 1372, 3934, 303, 9, 2, 281, 53, 8, 90, 3012, 2, 90, 39, 149, 68, 489, 19, 174, 3250, 124, 103, 12, 32, 2, 119, 14, 13, 63, 154, 1542, 3, 8, 6, 3562, 91, 5923, 1013, 7, 2, 551, 421, 5, 60, 8, 6, 1, 6, 342, 13330, 87, 219, 11, 119, 44, 2853, 2, 467, 6, 2212, 84, 2, 343, 22, 203, 15, 84, 46, 13, 17, 2, 2504, 413, 1, 5, 2, 1, 11, 119, 226, 48, 13, 127, 27, 24, 2, 909, 10, 158, 8, 37, 252, 7, 244, 12, 2, 162, 5109, 12, 1, 2, 201, 176, 86, 2348, 2, 1091, 5, 10629, 12, 1459, 87, 69, 28, 2257, 136, 3473, 3, 95, 66, 1039, 7, 4829, 8, 16, 136, 6649, 10, 405, 10, 197, 187, 399, 45, 5, 1124, 17, 2, 201, 176, 12, 94, 11, 119, 136, 4, 581, 968, 15, 8, 6, 152, 2, 119, 6, 40, 366, 10, 140, 244, 8, 6, 127, 24, 2, 909]\n",
      "------------------------------\n",
      "1\n",
      "[8111, 32, 2, 1089, 738, 43, 11, 20, 24, 131, 10, 14, 262, 932, 7, 146, 11, 20, 84, 1358, 10, 23, 107, 97, 3, 11, 6, 342, 28, 5, 2, 233, 5, 92, 8, 6, 366, 9, 203, 167, 99, 761, 1687, 719, 114, 692, 2, 97, 61, 571, 4, 830, 655, 2957, 6, 240, 58, 330, 74, 658, 206, 2, 20, 266, 654, 3, 1519, 3, 6, 337, 9, 2, 1431, 1591, 23, 10, 78, 37, 650, 7, 66, 2, 130, 859, 5, 4, 20, 2, 61, 147, 12, 9391, 71, 683, 11, 4, 547, 6, 4466, 9742, 138, 11, 6, 219, 35, 26, 118, 228, 25, 29, 210, 177, 7, 27, 242, 4, 216, 5, 33, 746, 28, 17, 9742, 1, 61]\n",
      "------------------------------\n",
      "1\n",
      "[46, 21, 36, 201, 7224, 8777, 2123, 21, 55, 36, 11, 18, 46, 21, 22, 179, 39, 166, 95, 21, 55, 112, 11, 18, 574, 56, 59, 1499, 398, 1, 1170]\n",
      "------------------------------\n",
      "CPU times: total: 10.7 s\n",
      "Wall time: 10.8 s\n"
     ]
    }
   ],
   "source": [
    "%%time\n",
    "\n",
    "tokenizer2 = my_tokenizer(x, num_words=vocab_size)\n",
    "print(f'전체 단어 수: {len(tokenizer2.word_index) + 1}')\n",
    "\n",
    "token_set = tokenizer2.texts_to_sequences(x)\n",
    "print('토큰의 크기:', len(token_set))\n",
    "\n",
    "i = tokenizer2.texts_to_sequences(x.head(10))\n",
    "\n",
    "for j in range(10):\n",
    "    print(i[j].count(1))\n",
    "    print(i[j])\n",
    "    print('-' * 30)"
   ]
  },
  {
   "cell_type": "markdown",
   "metadata": {},
   "source": [
    "#### (5) 토큰화 결과 길이가 0인 문장 찾기\n"
   ]
  },
  {
   "cell_type": "code",
   "execution_count": 51,
   "metadata": {},
   "outputs": [
    {
     "name": "stdout",
     "output_type": "stream",
     "text": [
      "길이가 0인 항목의 수:  0\n",
      "길이가 0인 항목의 인덱스 모음:  []\n"
     ]
    }
   ],
   "source": [
    "drop_target_index = []\n",
    "\n",
    "for i,v in enumerate(token_set):\n",
    "    if len(v) < 1:\n",
    "        drop_target_index.append(i)\n",
    "        \n",
    "print('길이가 0인 항목의 수: ', len(drop_target_index))\n",
    "\n",
    "print('길이가 0인 항목의 인덱스 모음: ', drop_target_index)"
   ]
  },
  {
   "cell_type": "markdown",
   "metadata": {},
   "source": [
    "#### (6) 토큰화 결과의 길이가 0인 항목 삭제하기\n",
    "\n",
    "> 이 예제에서는 길이가 0인 항목이 없지만 코드의 패턴화를 위해 구현해 둔다.\n"
   ]
  },
  {
   "cell_type": "code",
   "execution_count": 52,
   "metadata": {},
   "outputs": [
    {
     "name": "stdout",
     "output_type": "stream",
     "text": [
      "독립변수(덧글) 데이터 수:  49998\n",
      "종속변수(레이블) 데이터 수:  49998\n"
     ]
    }
   ],
   "source": [
    "token_set2 = np.asarray(token_set, dtype='object')\n",
    "\n",
    "fill_token_set = np.delete(token_set2, drop_target_index, axis=0)\n",
    "\n",
    "label_set = np.delete(y, drop_target_index, axis=0)\n",
    "\n",
    "print('독립변수(덧글) 데이터 수: ',len(fill_token_set))\n",
    "print('종속변수(레이블) 데이터 수: ',len(label_set))\n"
   ]
  },
  {
   "cell_type": "markdown",
   "metadata": {},
   "source": [
    "## #04. 탐색적 데이터 분석\n",
    "\n",
    "### [1] 각 문장별로 몇 개의 단어를 포함하고 있는지 측정\n"
   ]
  },
  {
   "cell_type": "code",
   "execution_count": 53,
   "metadata": {},
   "outputs": [
    {
     "data": {
      "text/html": [
       "<div>\n",
       "<style scoped>\n",
       "    .dataframe tbody tr th:only-of-type {\n",
       "        vertical-align: middle;\n",
       "    }\n",
       "\n",
       "    .dataframe tbody tr th {\n",
       "        vertical-align: top;\n",
       "    }\n",
       "\n",
       "    .dataframe thead th {\n",
       "        text-align: right;\n",
       "    }\n",
       "</style>\n",
       "<table border=\"1\" class=\"dataframe\">\n",
       "  <thead>\n",
       "    <tr style=\"text-align: right;\">\n",
       "      <th></th>\n",
       "      <th>count</th>\n",
       "    </tr>\n",
       "  </thead>\n",
       "  <tbody>\n",
       "    <tr>\n",
       "      <th>0</th>\n",
       "      <td>307</td>\n",
       "    </tr>\n",
       "    <tr>\n",
       "      <th>1</th>\n",
       "      <td>156</td>\n",
       "    </tr>\n",
       "    <tr>\n",
       "      <th>2</th>\n",
       "      <td>163</td>\n",
       "    </tr>\n",
       "    <tr>\n",
       "      <th>3</th>\n",
       "      <td>131</td>\n",
       "    </tr>\n",
       "    <tr>\n",
       "      <th>4</th>\n",
       "      <td>222</td>\n",
       "    </tr>\n",
       "    <tr>\n",
       "      <th>...</th>\n",
       "      <td>...</td>\n",
       "    </tr>\n",
       "    <tr>\n",
       "      <th>49993</th>\n",
       "      <td>197</td>\n",
       "    </tr>\n",
       "    <tr>\n",
       "      <th>49994</th>\n",
       "      <td>108</td>\n",
       "    </tr>\n",
       "    <tr>\n",
       "      <th>49995</th>\n",
       "      <td>226</td>\n",
       "    </tr>\n",
       "    <tr>\n",
       "      <th>49996</th>\n",
       "      <td>213</td>\n",
       "    </tr>\n",
       "    <tr>\n",
       "      <th>49997</th>\n",
       "      <td>125</td>\n",
       "    </tr>\n",
       "  </tbody>\n",
       "</table>\n",
       "<p>49998 rows × 1 columns</p>\n",
       "</div>"
      ],
      "text/plain": [
       "       count\n",
       "0        307\n",
       "1        156\n",
       "2        163\n",
       "3        131\n",
       "4        222\n",
       "...      ...\n",
       "49993    197\n",
       "49994    108\n",
       "49995    226\n",
       "49996    213\n",
       "49997    125\n",
       "\n",
       "[49998 rows x 1 columns]"
      ]
     },
     "execution_count": 53,
     "metadata": {},
     "output_type": "execute_result"
    }
   ],
   "source": [
    "word_counts= []\n",
    "\n",
    "for s in fill_token_set:\n",
    "    word_counts.append(len(s))\n",
    "    \n",
    "count_df = DataFrame({'count':word_counts})\n",
    "count_df"
   ]
  },
  {
   "cell_type": "markdown",
   "metadata": {},
   "source": [
    "### [2] 리뷰 중 가장 많은 단어를 사용한 리뷰와 가장 적은 단어를 사용한 리뷰의 단어 수\n"
   ]
  },
  {
   "cell_type": "code",
   "execution_count": 54,
   "metadata": {},
   "outputs": [
    {
     "name": "stdout",
     "output_type": "stream",
     "text": [
      "가장 많은 단어를 사용하는 문장의 단어 수: 2454\n",
      "가장 적은 단어를 사용하는 문장의 단어 수: 4\n"
     ]
    }
   ],
   "source": [
    "max_word_count = max(word_counts)\n",
    "min_word_count = min(word_counts)\n",
    "print('가장 많은 단어를 사용하는 문장의 단어 수:', max_word_count)\n",
    "print('가장 적은 단어를 사용하는 문장의 단어 수:', min_word_count)"
   ]
  },
  {
   "cell_type": "markdown",
   "metadata": {},
   "source": [
    "## #05. 학습 모형 적합\n",
    "\n",
    "### [1] 패딩처리\n",
    "\n",
    "최대 단어수를 갖고 있는 문장을 기준으로 그보다 적은 단어를 갖고 있는 문장은 최대 단어수와 동일해 질 때까지 0으로 채워넣는다.\n"
   ]
  },
  {
   "cell_type": "code",
   "execution_count": 55,
   "metadata": {},
   "outputs": [
    {
     "name": "stdout",
     "output_type": "stream",
     "text": [
      "After pad_sequences:  2454 2454\n",
      "[   0    0    0 ...  122 3893  482]\n"
     ]
    }
   ],
   "source": [
    "max_word_count = max(word_counts)\n",
    "pad_token_set = pad_sequences(fill_token_set, maxlen=max_word_count)\n",
    "print('After pad_sequences: ', len(pad_token_set[0]), len(pad_token_set[1]))\n",
    "print(pad_token_set[0])"
   ]
  },
  {
   "cell_type": "markdown",
   "metadata": {},
   "source": [
    "### [2] 데이터 분할\n"
   ]
  },
  {
   "cell_type": "code",
   "execution_count": 56,
   "metadata": {},
   "outputs": [
    {
     "name": "stdout",
     "output_type": "stream",
     "text": [
      "훈련용 데이터셋 크기: (39998, 2454), 검증용 데이터셋 크기: (10000, 2454)\n",
      "훈련용 레이블 크기: (39998,), 검증용 레이블 크기: (10000,)\n"
     ]
    }
   ],
   "source": [
    "x_train, x_test, y_train, y_test = my_train_test_split(pad_token_set, ydata=label_set)\n",
    "\n",
    "print('훈련용 데이터셋 크기: %s, 검증용 데이터셋 크기: %s' % (x_train.shape, x_test.shape))\n",
    "\n",
    "print('훈련용 레이블 크기: %s, 검증용 레이블 크기: %s' % (y_train.shape, y_test.shape))"
   ]
  },
  {
   "cell_type": "markdown",
   "metadata": {},
   "source": [
    "### [3] 모델 생성\n",
    "\n",
    "1. input_dim 인자는 학습 데이터셋에서 사용한 단어의 개수(vocab_size)\n",
    "2. output_dim 인자는 임베딩 벡터의 크기(32)\n",
    "    - output_dim의 크기는 input_dim보다 작은 값 중에서 설정\n",
    "    - 이와 같이 인자를 설정하고 나면 Embedding층은 (None, vocab_size, 32) 형태의 출력을 가지게 된다.\n",
    "3. input_length인자는 Flatten 층을 사용하기 위해 전달.\n",
    "4. 결국은 문장을 학습하여 긍정, 부정 여부를 판단하는 것이므로 이진분류분석에 속한다.\n"
   ]
  },
  {
   "cell_type": "code",
   "execution_count": 57,
   "metadata": {},
   "outputs": [
    {
     "name": "stdout",
     "output_type": "stream",
     "text": [
      "{'type': 'embedding', 'input_dim': 15320, 'output_dim': 32, 'input_length': 2454}\n",
      "{'type': 'flatten'}\n",
      "{'type': 'dense', 'units': 1, 'activation': 'sigmoid'}\n"
     ]
    },
    {
     "data": {
      "application/vnd.jupyter.widget-view+json": {
       "model_id": "ecb2bf77e4e8477783ae6a4bd674b541",
       "version_major": 2,
       "version_minor": 0
      },
      "text/plain": [
       "0epoch [00:00, ?epoch/s]"
      ]
     },
     "metadata": {},
     "output_type": "display_data"
    },
    {
     "name": "stdout",
     "output_type": "stream",
     "text": [
      "+-------+----------+----------+\n",
      "|       |     loss |      acc |\n",
      "|-------+----------+----------|\n",
      "| train | 0.178684 | 0.938672 |\n",
      "| test  | 0.261003 |   0.8945 |\n",
      "+-------+----------+----------+\n"
     ]
    },
    {
     "data": {
      "image/png": "[encoded data removed]",
      "text/plain": [
       "<Figure size 1400x500 with 2 Axes>"
      ]
     },
     "metadata": {},
     "output_type": "display_data"
    },
    {
     "name": "stdout",
     "output_type": "stream",
     "text": [
      "Model: \"sequential_1\"\n",
      "_________________________________________________________________\n",
      " Layer (type)                Output Shape              Param #   \n",
      "=================================================================\n",
      " embedding_1 (Embedding)     (None, 2454, 32)          490240    \n",
      "                                                                 \n",
      " flatten_1 (Flatten)         (None, 78528)             0         \n",
      "                                                                 \n",
      " dense_1 (Dense)             (None, 1)                 78529     \n",
      "                                                                 \n",
      "=================================================================\n",
      "Total params: 568769 (2.17 MB)\n",
      "Trainable params: 568769 (2.17 MB)\n",
      "Non-trainable params: 0 (0.00 Byte)\n",
      "_________________________________________________________________\n"
     ]
    }
   ],
   "source": [
    "model = my_tf(\n",
    "    x_train = x_train,\n",
    "    y_train = y_train,\n",
    "    x_test = x_test,\n",
    "    y_test = y_test,\n",
    "    layer=[\n",
    "        dict(type='embedding', input_dim=vocab_size, output_dim=32,\n",
    "             input_length=max_word_count),\n",
    "        dict(type='flatten'),\n",
    "        dict(type='dense', units=1, activation='sigmoid')\n",
    "    ],\n",
    "    optimizer='adam',\n",
    "    loss='binary_crossentropy',\n",
    "    metrics=['acc']\n",
    ")\n",
    "\n",
    "model.summary()"
   ]
  },
  {
   "cell_type": "markdown",
   "metadata": {},
   "source": [
    "## #06. 학습 결과 적용\n",
    "\n",
    "### [1] 검증 데이터에 대한 예측 결과 산정\n"
   ]
  },
  {
   "cell_type": "code",
   "execution_count": 58,
   "metadata": {},
   "outputs": [
    {
     "name": "stdout",
     "output_type": "stream",
     "text": [
      "313/313 [==============================] - 1s 3ms/step\n",
      "10000개의 검증 데이터가 1개의 경우의 수를 갖는다.\n"
     ]
    },
    {
     "data": {
      "text/plain": [
       "array([[0.869334  ],\n",
       "       [0.03399948],\n",
       "       [0.9994245 ],\n",
       "       ...,\n",
       "       [0.01802653],\n",
       "       [0.0125009 ],\n",
       "       [0.12276395]], dtype=float32)"
      ]
     },
     "execution_count": 58,
     "metadata": {},
     "output_type": "execute_result"
    }
   ],
   "source": [
    "result = model.predict(x_test)\n",
    "data_count, case_count = result.shape\n",
    "print('%d개의 검증 데이터가 %d개의 경우의 수를 갖는다.' % (data_count, case_count))\n",
    "result"
   ]
  },
  {
   "cell_type": "markdown",
   "metadata": {},
   "source": [
    "### [2] 예측 결과를 1차원 배열로 변환\n"
   ]
  },
  {
   "cell_type": "code",
   "execution_count": 59,
   "metadata": {},
   "outputs": [
    {
     "data": {
      "text/plain": [
       "array([1., 0., 1., ..., 0., 0., 0.], dtype=float32)"
      ]
     },
     "execution_count": 59,
     "metadata": {},
     "output_type": "execute_result"
    }
   ],
   "source": [
    "f_results = result.flatten()\n",
    "f_results = np.round(f_results, 0)\n",
    "f_results"
   ]
  },
  {
   "cell_type": "markdown",
   "metadata": {},
   "source": [
    "### [3] 오차행렬\n"
   ]
  },
  {
   "cell_type": "code",
   "execution_count": 60,
   "metadata": {},
   "outputs": [
    {
     "data": {
      "image/png": "[encoded data removed]",
      "text/plain": [
       "<Figure size 700x500 with 2 Axes>"
      ]
     },
     "metadata": {},
     "output_type": "display_data"
    }
   ],
   "source": [
    "my_confusion_matrix(y_test, f_results, figsize=(7, 5))"
   ]
  },
  {
   "cell_type": "markdown",
   "metadata": {},
   "source": [
    "## #07. 학습 결과 활용\n",
    "\n",
    "### [1] 임의의 문장\n"
   ]
  },
  {
   "cell_type": "code",
   "execution_count": 61,
   "metadata": {},
   "outputs": [],
   "source": [
    "review = [\n",
    "    \"I had a lot of fun watching it.\",\n",
    "    \"I didn't notice how time passed.\",\n",
    "    \"I was happy the whole time I watched it.\",\n",
    "    \"worst movie\",\n",
    "    \"such a boring movie\",\n",
    "]"
   ]
  },
  {
   "cell_type": "markdown",
   "metadata": {},
   "source": [
    "### [2] 문자열 전처리\n"
   ]
  },
  {
   "cell_type": "code",
   "execution_count": 62,
   "metadata": {},
   "outputs": [
    {
     "data": {
      "text/plain": [
       "['I lot fun watching it',\n",
       " 'I notice time passed',\n",
       " 'I happy whole time I watched it',\n",
       " 'worst movie',\n",
       " 'boring movie']"
      ]
     },
     "execution_count": 62,
     "metadata": {},
     "output_type": "execute_result"
    }
   ],
   "source": [
    "review_pre = [my_text_preprocessing(x, stopwords=stopwords) for x in review]\n",
    "review_pre"
   ]
  },
  {
   "cell_type": "markdown",
   "metadata": {},
   "source": [
    "### [3] 토큰화\n"
   ]
  },
  {
   "cell_type": "code",
   "execution_count": 63,
   "metadata": {},
   "outputs": [
    {
     "name": "stdout",
     "output_type": "stream",
     "text": [
      "전체 단어수: 16\n",
      "토큰의 크기 : 5\n"
     ]
    }
   ],
   "source": [
    "tokenizer2 = my_tokenizer(review_pre, num_words=vocab_size)\n",
    "print(f'전체 단어수: {len(tokenizer2.word_index) + 1}')\n",
    "\n",
    "token_set = tokenizer2.texts_to_sequences(review_pre)\n",
    "print('토큰의 크기 :', len(token_set))"
   ]
  },
  {
   "cell_type": "markdown",
   "metadata": {},
   "source": [
    "### [4] 패딩\n"
   ]
  },
  {
   "cell_type": "code",
   "execution_count": 64,
   "metadata": {},
   "outputs": [
    {
     "data": {
      "text/plain": [
       "array([[ 0,  0,  0, ...,  7,  8,  3],\n",
       "       [ 0,  0,  0, ...,  9,  4, 10],\n",
       "       [ 0,  0,  0, ...,  2, 13,  3],\n",
       "       [ 0,  0,  0, ...,  0, 14,  5],\n",
       "       [ 0,  0,  0, ...,  0, 15,  5]])"
      ]
     },
     "execution_count": 64,
     "metadata": {},
     "output_type": "execute_result"
    }
   ],
   "source": [
    "pad_token_set = pad_sequences(token_set, maxlen=max_word_count)\n",
    "pad_token_set"
   ]
  },
  {
   "cell_type": "markdown",
   "metadata": {},
   "source": [
    "### [5] 예측값 생성\n"
   ]
  },
  {
   "cell_type": "code",
   "execution_count": 65,
   "metadata": {},
   "outputs": [
    {
     "name": "stdout",
     "output_type": "stream",
     "text": [
      "1/1 [==============================] - 0s 16ms/step\n",
      "5개의 검증데이터가 1개의 경우의 수를 갖는다.\n"
     ]
    },
    {
     "data": {
      "text/plain": [
       "array([[0.54769015],\n",
       "       [0.4924914 ],\n",
       "       [0.4463735 ],\n",
       "       [0.41881365],\n",
       "       [0.43973833]], dtype=float32)"
      ]
     },
     "execution_count": 65,
     "metadata": {},
     "output_type": "execute_result"
    }
   ],
   "source": [
    "f_results = model.predict(pad_token_set)\n",
    "data_count, case_count = f_results.shape\n",
    "print('%d개의 검증데이터가 %d개의 경우의 수를 갖는다.' % (data_count, case_count))\n",
    "f_results"
   ]
  },
  {
   "cell_type": "markdown",
   "metadata": {},
   "source": [
    "### [6] 결과 판정\n"
   ]
  },
  {
   "cell_type": "code",
   "execution_count": 66,
   "metadata": {},
   "outputs": [
    {
     "name": "stdout",
     "output_type": "stream",
     "text": [
      "[긍정] I had a lot of fun watching it.\n",
      "[부정] I didn't notice how time passed.\n",
      "[부정] I was happy the whole time I watched it.\n",
      "[부정] worst movie\n",
      "[부정] such a boring movie\n"
     ]
    }
   ],
   "source": [
    "f_results = np.round(f_results.flatten(), 0)\n",
    "\n",
    "for i, v in enumerate(review):\n",
    "    k = '긍정' if f_results[i] == 1 else '부정'\n",
    "    print(f'[{k}] {v}')"
   ]
  },
  {
   "cell_type": "code",
   "execution_count": null,
   "metadata": {},
   "outputs": [],
   "source": []
  },
  {
   "cell_type": "code",
   "execution_count": null,
   "metadata": {},
   "outputs": [],
   "source": []
  },
  {
   "cell_type": "code",
   "execution_count": null,
   "metadata": {},
   "outputs": [],
   "source": []
  },
  {
   "cell_type": "code",
   "execution_count": null,
   "metadata": {},
   "outputs": [],
   "source": []
  },
  {
   "cell_type": "code",
   "execution_count": null,
   "metadata": {},
   "outputs": [],
   "source": []
  },
  {
   "cell_type": "code",
   "execution_count": null,
   "metadata": {},
   "outputs": [],
   "source": []
  },
  {
   "cell_type": "code",
   "execution_count": null,
   "metadata": {},
   "outputs": [],
   "source": []
  },
  {
   "cell_type": "code",
   "execution_count": null,
   "metadata": {},
   "outputs": [],
   "source": []
  }
 ],
 "metadata": {
  "kernelspec": {
   "display_name": "Python 3",
   "language": "python",
   "name": "python3"
  },
  "language_info": {
   "codemirror_mode": {
    "name": "ipython",
    "version": 3
   },
   "file_extension": ".py",
   "mimetype": "text/x-python",
   "name": "python",
   "nbconvert_exporter": "python",
   "pygments_lexer": "ipython3",
   "version": "3.11.7"
  }
 },
 "nbformat": 4,
 "nbformat_minor": 2
}
