{
  "cells": [
    {
      "cell_type": "markdown",
      "metadata": {
        "id": "WgZcYE-5mW2Y"
      },
      "source": [
        "# LSTM 활용 텍스트 분석\n",
        "\n",
        "> imdb 영화 리뷰 데이터셋(영문)\n",
        "\n",
        "## #01. 준비작업\n",
        "\n",
        "### [1] 패키지 참조\n"
      ]
    },
    {
      "cell_type": "code",
      "execution_count": null,
      "metadata": {
        "colab": {
          "base_uri": "https://localhost:8080/"
        },
        "id": "IHloyx2-nTAZ",
        "outputId": "57a8b768-36cf-4fdc-c340-54fe08a21f92"
      },
      "outputs": [],
      "source": [
        "from hossam.colab import *\n",
        "init(package=True, mecab=True)"
      ]
    },
    {
      "cell_type": "code",
      "execution_count": null,
      "metadata": {
        "id": "ywp1cpqamW2Z"
      },
      "outputs": [],
      "source": [
        "# 연결된 모듈이 업데이트 되면 즉시 자동 로드함\n",
        "%load_ext autoreload\n",
        "%autoreload 2\n",
        "\n",
        "import warnings\n",
        "warnings.filterwarnings(action=\"ignore\")\n",
        "\n",
        "from hossam.util import *\n",
        "from hossam.plot import *\n",
        "from hossam.tensor import *"
      ]
    },
    {
      "cell_type": "markdown",
      "metadata": {
        "id": "kmnaCI57mW2a"
      },
      "source": [
        "### [2] 데이터 가져오기\n",
        "\n",
        "Tensorflow에 내장된 데이터가 있지만, 동일 데이터를 미리 엑셀로 저장 두었다.\n"
      ]
    },
    {
      "cell_type": "code",
      "execution_count": null,
      "metadata": {
        "colab": {
          "base_uri": "https://localhost:8080/"
        },
        "id": "JBxE33sbmW2a",
        "outputId": "9b3f99bf-a9fd-4143-bd0a-138296ff34c3"
      },
      "outputs": [],
      "source": [
        "origin = my_read_excel(\n",
        "    \"https://data.hossam.kr/tmdata/imdb.xlsx\", categories=[\"sentiment\"], info = False\n",
        ")"
      ]
    },
    {
      "cell_type": "markdown",
      "metadata": {
        "id": "zPBC8QlVmW2b"
      },
      "source": [
        "## #02. 데이터 전처리\n",
        "\n",
        "### [1] 종속변수 라벨링\n"
      ]
    },
    {
      "cell_type": "code",
      "execution_count": null,
      "metadata": {
        "colab": {
          "base_uri": "https://localhost:8080/"
        },
        "id": "4qpljOEimW2b",
        "outputId": "b9f1744c-2b20-461a-ea7d-6e19050822c3"
      },
      "outputs": [],
      "source": [
        "df = my_labelling(origin, \"sentiment\")\n",
        "my_pretty_table(df.head(10))"
      ]
    },
    {
      "cell_type": "markdown",
      "metadata": {
        "id": "-i9l8sltmW2b"
      },
      "source": [
        "### [2] 문자열 전처리\n",
        "\n",
        "* 축약형 문자열 처리\n",
        "* 이메일 주소 제거\n",
        "* HTML 태그 제거\n",
        "* URL 제거\n",
        "* 숫자 제거\n",
        "* 특수문자 제거\n",
        "* 불용어 제거\n",
        "\n",
        "#### (1) 영어 불용어 목록\n"
      ]
    },
    {
      "cell_type": "code",
      "execution_count": null,
      "metadata": {
        "colab": {
          "base_uri": "https://localhost:8080/"
        },
        "id": "fDm2MjK8mW2b",
        "outputId": "01019506-0a29-4359-907e-41a7fd72836b"
      },
      "outputs": [],
      "source": [
        "stopwords = my_stopwords(\"en\")\n",
        "stopwords[:10]"
      ]
    },
    {
      "cell_type": "markdown",
      "metadata": {
        "id": "8nwurPnNmW2b"
      },
      "source": [
        "#### (2) 전처리 수행\n"
      ]
    },
    {
      "cell_type": "code",
      "execution_count": null,
      "metadata": {
        "colab": {
          "base_uri": "https://localhost:8080/"
        },
        "id": "tuLVlnwcmW2b",
        "outputId": "5ea8f3a7-9d87-472d-a9b0-291c8f2ea97e"
      },
      "outputs": [],
      "source": [
        "%%time\n",
        "\n",
        "df2 = my_text_data_preprocessing(df, \"review\", rm_abbr=True, rm_email=True,\n",
        "                                 rm_html=True, rm_url=True, rm_num = True,\n",
        "                                 rm_special=True, stopwords=stopwords)\n",
        "my_pretty_table(df2.head(10))"
      ]
    },
    {
      "cell_type": "markdown",
      "metadata": {
        "id": "tTMoPtbBmW2c"
      },
      "source": [
        "### [3] 문자열 토큰화 및 패딩"
      ]
    },
    {
      "cell_type": "code",
      "execution_count": null,
      "metadata": {
        "colab": {
          "base_uri": "https://localhost:8080/",
          "height": 620
        },
        "id": "dLiLLpITmW2c",
        "outputId": "28fb04db-6a1d-4e29-c8e3-100ffe1a4acb"
      },
      "outputs": [],
      "source": [
        "%%time\n",
        "\n",
        "df3, token_set, vocab_size = my_token_process(df2,\n",
        "                                              xname='review',\n",
        "                                              yname='sentiment',\n",
        "                                              threshold=30,\n",
        "                                              max_word_count=None)\n",
        "\n",
        "print(\"vocab_size:\", vocab_size)\n",
        "\n",
        "max_word_count = df3['count'].max()\n",
        "print(\"max_word_count:\", max_word_count)\n",
        "\n",
        "df3"
      ]
    },
    {
      "cell_type": "markdown",
      "metadata": {
        "id": "k8ivyhv9mW2c"
      },
      "source": [
        "## #04. 학습 모형 적합"
      ]
    },
    {
      "cell_type": "markdown",
      "metadata": {
        "id": "mY5-A9k-mW2c"
      },
      "source": [
        "### [2] 데이터 분할\n"
      ]
    },
    {
      "cell_type": "code",
      "execution_count": null,
      "metadata": {
        "colab": {
          "base_uri": "https://localhost:8080/"
        },
        "id": "g_v8R7dvmW2c",
        "outputId": "5c540082-e8e1-4fe6-e834-fb0a337044ed"
      },
      "outputs": [],
      "source": [
        "x_train, x_test, y_train, y_test = my_train_test_split(token_set,\n",
        "                                                       ydata=df3['sentiment'])\n",
        "\n",
        "print(\n",
        "    \"훈련용 데이터셋 크기: %s, 검증용 데이터셋 크기: %s\" % (x_train.shape, x_test.shape)\n",
        ")\n",
        "print(\"훈련용 레이블 크기: %s, 검증용 레이블 크기: %s\" % (y_train.shape, y_test.shape))"
      ]
    },
    {
      "cell_type": "markdown",
      "metadata": {
        "id": "FghQi8RRmW2c"
      },
      "source": [
        "### [3] 모델 생성\n",
        "\n",
        "dropout은 지정된 비율만큼 학습을 건너뛰게 하는 파라미터. 이 파라미터를 사용하게 되면 과거 학습정보를 잃어버릴 확률이 높아지고 그에 따라 모델 성능이 나빠질 가능성이 있다.\n",
        "\n",
        "recurrent_dropout(순환드롭아웃)은 과거 학습정보를 잃어버리는 문제를 해결하기 위해 적용하는 옵션.\n"
      ]
    },
    {
      "cell_type": "code",
      "execution_count": null,
      "metadata": {
        "colab": {
          "base_uri": "https://localhost:8080/",
          "height": 554,
          "referenced_widgets": [
            "dfa1089d720a48579837c60ab75df848",
            "241181b530cb425d937fad829e39aed5",
            "dff2bdb490324ddf9c80fbe7b45aa37b",
            "6e08c8487d4840a6a8785c197cc171d3",
            "2979a99bbe174b06867c62b476ff4aad",
            "de0089dcfe9e472ea3134f7e12d971af",
            "2aaa1c1c2fe74f399cdf729040d92a9e",
            "b95527cf99d44519a14c9894bea77f3a",
            "03f77a4845b148ce962a07774a3de2f1",
            "5adeda8cfb7740d7af0193ad8e990ec4",
            "8a2e12140adf40749dae37652f982152",
            "8ad7bae2b0c64658808266e88e38e137",
            "a565a06f33ff48b7ae7a9ac5df0824ce",
            "0cdef37aa463497cb9ca8911de93e348",
            "d64f249bc5b64a64982031f0655970fa",
            "504e8b632ac14a97a9c81d815df9333d",
            "0a4584cbf5b04a9f9c1abf1d8ec3525b",
            "1ec1ae7023654c0ebad2ef564403aea7",
            "5a04ab68a62b4140b4055d5641807107",
            "1dfa742137dd4f0a8d3e0555d14d10c0",
            "9afe3df194c6454ba0755246abf6d1fd",
            "04811a21b2b345f19b816b332ace759e"
          ]
        },
        "id": "VQ6JXgE-mW2d",
        "outputId": "8f1ca774-9e2f-4f38-b893-0843bb43dc12"
      },
      "outputs": [],
      "source": [
        "%%time\n",
        "\n",
        "# model = Sequential()\n",
        "# model.add(Embedding(input_dim = num_words, output_dim = 32, input_length = max_len))\n",
        "# model.add(LSTM(32, return_sequences=True, dropout=0.15, recurrent_dropout=0.15))\n",
        "# model.add(LSTM(16))\n",
        "# model.add(Dense(1, activation='sigmoid'))\n",
        "# model.compile(optimizer='adam',loss = 'binary_crossentropy', metrics = ['acc'])\n",
        "# model.summary()\n",
        "\n",
        "model = my_tf(\n",
        "    x_train=x_train,\n",
        "    y_train=y_train,\n",
        "    x_test=x_test,\n",
        "    y_test=y_test,\n",
        "    layer=[\n",
        "        dict(type=\"embedding\", input_dim=vocab_size, output_dim=32,\n",
        "             input_length=max_word_count),\n",
        "        # LSTM의 하이퍼파라미터는 RNN과 동일하다.\n",
        "        dict(type=\"lstm\", units=32, return_sequences=True, dropout=0.15,\n",
        "             recurrent_dropout=0.15),\n",
        "        dict(type=\"lstm\", units=16),\n",
        "        dict(type=\"flatten\"),\n",
        "        dict(type=\"dense\", units=1, activation=\"sigmoid\")\n",
        "    ],\n",
        "    optimizer=\"adam\",\n",
        "    loss=\"binary_crossentropy\",\n",
        "    metrics=[\"acc\"],\n",
        "    verbose=1\n",
        ")\n",
        "\n",
        "model.summary()"
      ]
    },
    {
      "cell_type": "markdown",
      "metadata": {
        "id": "vutLg_spmW2d"
      },
      "source": [
        "## #06. 학습 결과 적용\n",
        "\n",
        "### [1] 검증 데이터에 대한 예측 결과 산정\n"
      ]
    },
    {
      "cell_type": "code",
      "execution_count": null,
      "metadata": {
        "colab": {
          "base_uri": "https://localhost:8080/",
          "height": 198
        },
        "id": "FUhfHAGrmW2d",
        "outputId": "7ecf8ede-6748-419d-a166-737165a2fc47"
      },
      "outputs": [],
      "source": [
        "result = model.predict(x_test)\n",
        "data_count, case_count = result.shape\n",
        "print(\"%d개의 검증 데이터가 %d개의 경우의 수를 갖는다.\" % (data_count, case_count))\n",
        "result"
      ]
    },
    {
      "cell_type": "markdown",
      "metadata": {
        "id": "prq4hP9BmW2d"
      },
      "source": [
        "### [2] 예측 결과를 1차원 배열로 변환\n"
      ]
    },
    {
      "cell_type": "code",
      "execution_count": null,
      "metadata": {
        "id": "2fIzVL6GmW2d"
      },
      "outputs": [],
      "source": [
        "f_results = result.flatten()\n",
        "f_results = np.round(f_results, 0)\n",
        "f_results"
      ]
    },
    {
      "cell_type": "markdown",
      "metadata": {
        "id": "YJeqHZ5vmW2e"
      },
      "source": [
        "### [3] 오차행렬\n"
      ]
    },
    {
      "cell_type": "code",
      "execution_count": null,
      "metadata": {
        "id": "ciX0DHbTmW2e"
      },
      "outputs": [],
      "source": [
        "my_confusion_matrix(y=y_test, y_pred=f_results, figsize=(7, 5))"
      ]
    },
    {
      "cell_type": "markdown",
      "metadata": {
        "id": "HxVC_EVYmW2e"
      },
      "source": [
        "## #07. 학습 결과 활용\n",
        "\n",
        "### [1] 임의의 문장\n"
      ]
    },
    {
      "cell_type": "code",
      "execution_count": null,
      "metadata": {
        "id": "kkFrRm2MmW2e"
      },
      "outputs": [],
      "source": [
        "review = [\n",
        "    \"I had a lot of fun watching it.\",\n",
        "    \"I didn't notice how time passed.\",\n",
        "    \"I was happy the whole time I watched it.\",\n",
        "    \"worst movie\",\n",
        "    \"such a boring movie\",\n",
        "]"
      ]
    },
    {
      "cell_type": "markdown",
      "metadata": {
        "id": "C3urTIIYmW2e"
      },
      "source": [
        "### [2] 문자열 전처리\n"
      ]
    },
    {
      "cell_type": "code",
      "execution_count": null,
      "metadata": {
        "id": "JUMTP1CumW2e"
      },
      "outputs": [],
      "source": [
        "review_pre = [my_text_preprocessing(x, stopwords=stopwords) for x in review]\n",
        "review_pre"
      ]
    },
    {
      "cell_type": "markdown",
      "metadata": {
        "id": "dDZUXsYhmW2e"
      },
      "source": [
        "### [3] 토큰화 + 패딩\n"
      ]
    },
    {
      "cell_type": "code",
      "execution_count": null,
      "metadata": {
        "id": "-9DsYkL3mW2e"
      },
      "outputs": [],
      "source": [
        "_, token_set, _ = my_token_process(review_pre, num_words=vocab_size,\n",
        "                                   max_word_count=max_word_count)\n",
        "token_set"
      ]
    },
    {
      "cell_type": "markdown",
      "metadata": {
        "id": "xyal9TeVmW2f"
      },
      "source": [
        "### [5] 예측값 생성\n"
      ]
    },
    {
      "cell_type": "code",
      "execution_count": null,
      "metadata": {
        "id": "QCIRWDn2mW2f"
      },
      "outputs": [],
      "source": [
        "f_results = model.predict(token_set)\n",
        "data_count, case_count = f_results.shape\n",
        "print(\"%d개의 검증 데이터가 %d개의 경우의 수를 갖는다.\" % (data_count, case_count))\n",
        "f_results"
      ]
    },
    {
      "cell_type": "markdown",
      "metadata": {
        "id": "TICzT8jKmW2f"
      },
      "source": [
        "### [6] 결과 판정\n"
      ]
    },
    {
      "cell_type": "code",
      "execution_count": null,
      "metadata": {
        "id": "I56TvQcKmW2f"
      },
      "outputs": [],
      "source": [
        "f_results = np.round(f_results.flatten(), 0)\n",
        "\n",
        "for i, v in enumerate(review):\n",
        "    k = \"긍정\" if f_results[i] == 1 else \"부정\"\n",
        "    print(f\"[{k}] {v}\")"
      ]
    }
  ],
  "metadata": {
    "colab": {
      "provenance": []
    },
    "kernelspec": {
      "display_name": "Python 3",
      "name": "python3"
    },
    "language_info": {
      "codemirror_mode": {
        "name": "ipython",
        "version": 3
      },
      "file_extension": ".py",
      "mimetype": "text/x-python",
      "name": "python",
      "nbconvert_exporter": "python",
      "pygments_lexer": "ipython3",
      "version": "3.11.7"
    },
    "widgets": {
      "application/vnd.jupyter.widget-state+json": {
        "03f77a4845b148ce962a07774a3de2f1": {
          "model_module": "@jupyter-widgets/controls",
          "model_module_version": "1.5.0",
          "model_name": "ProgressStyleModel",
          "state": {
            "_model_module": "@jupyter-widgets/controls",
            "_model_module_version": "1.5.0",
            "_model_name": "ProgressStyleModel",
            "_view_count": null,
            "_view_module": "@jupyter-widgets/base",
            "_view_module_version": "1.2.0",
            "_view_name": "StyleView",
            "bar_color": null,
            "description_width": ""
          }
        },
        "04811a21b2b345f19b816b332ace759e": {
          "model_module": "@jupyter-widgets/controls",
          "model_module_version": "1.5.0",
          "model_name": "DescriptionStyleModel",
          "state": {
            "_model_module": "@jupyter-widgets/controls",
            "_model_module_version": "1.5.0",
            "_model_name": "DescriptionStyleModel",
            "_view_count": null,
            "_view_module": "@jupyter-widgets/base",
            "_view_module_version": "1.2.0",
            "_view_name": "StyleView",
            "description_width": ""
          }
        },
        "0a4584cbf5b04a9f9c1abf1d8ec3525b": {
          "model_module": "@jupyter-widgets/base",
          "model_module_version": "1.2.0",
          "model_name": "LayoutModel",
          "state": {
            "_model_module": "@jupyter-widgets/base",
            "_model_module_version": "1.2.0",
            "_model_name": "LayoutModel",
            "_view_count": null,
            "_view_module": "@jupyter-widgets/base",
            "_view_module_version": "1.2.0",
            "_view_name": "LayoutView",
            "align_content": null,
            "align_items": null,
            "align_self": null,
            "border": null,
            "bottom": null,
            "display": null,
            "flex": null,
            "flex_flow": null,
            "grid_area": null,
            "grid_auto_columns": null,
            "grid_auto_flow": null,
            "grid_auto_rows": null,
            "grid_column": null,
            "grid_gap": null,
            "grid_row": null,
            "grid_template_areas": null,
            "grid_template_columns": null,
            "grid_template_rows": null,
            "height": null,
            "justify_content": null,
            "justify_items": null,
            "left": null,
            "margin": null,
            "max_height": null,
            "max_width": null,
            "min_height": null,
            "min_width": null,
            "object_fit": null,
            "object_position": null,
            "order": null,
            "overflow": null,
            "overflow_x": null,
            "overflow_y": null,
            "padding": null,
            "right": null,
            "top": null,
            "visibility": null,
            "width": null
          }
        },
        "0cdef37aa463497cb9ca8911de93e348": {
          "model_module": "@jupyter-widgets/controls",
          "model_module_version": "1.5.0",
          "model_name": "FloatProgressModel",
          "state": {
            "_dom_classes": [],
            "_model_module": "@jupyter-widgets/controls",
            "_model_module_version": "1.5.0",
            "_model_name": "FloatProgressModel",
            "_view_count": null,
            "_view_module": "@jupyter-widgets/controls",
            "_view_module_version": "1.5.0",
            "_view_name": "ProgressView",
            "bar_style": "",
            "description": "",
            "description_tooltip": null,
            "layout": "IPY_MODEL_5a04ab68a62b4140b4055d5641807107",
            "max": 1250,
            "min": 0,
            "orientation": "horizontal",
            "style": "IPY_MODEL_1dfa742137dd4f0a8d3e0555d14d10c0",
            "value": 104
          }
        },
        "1dfa742137dd4f0a8d3e0555d14d10c0": {
          "model_module": "@jupyter-widgets/controls",
          "model_module_version": "1.5.0",
          "model_name": "ProgressStyleModel",
          "state": {
            "_model_module": "@jupyter-widgets/controls",
            "_model_module_version": "1.5.0",
            "_model_name": "ProgressStyleModel",
            "_view_count": null,
            "_view_module": "@jupyter-widgets/base",
            "_view_module_version": "1.2.0",
            "_view_name": "StyleView",
            "bar_color": null,
            "description_width": ""
          }
        },
        "1ec1ae7023654c0ebad2ef564403aea7": {
          "model_module": "@jupyter-widgets/controls",
          "model_module_version": "1.5.0",
          "model_name": "DescriptionStyleModel",
          "state": {
            "_model_module": "@jupyter-widgets/controls",
            "_model_module_version": "1.5.0",
            "_model_name": "DescriptionStyleModel",
            "_view_count": null,
            "_view_module": "@jupyter-widgets/base",
            "_view_module_version": "1.2.0",
            "_view_name": "StyleView",
            "description_width": ""
          }
        },
        "241181b530cb425d937fad829e39aed5": {
          "model_module": "@jupyter-widgets/controls",
          "model_module_version": "1.5.0",
          "model_name": "HTMLModel",
          "state": {
            "_dom_classes": [],
            "_model_module": "@jupyter-widgets/controls",
            "_model_module_version": "1.5.0",
            "_model_name": "HTMLModel",
            "_view_count": null,
            "_view_module": "@jupyter-widgets/controls",
            "_view_module_version": "1.5.0",
            "_view_name": "HTMLView",
            "description": "",
            "description_tooltip": null,
            "layout": "IPY_MODEL_de0089dcfe9e472ea3134f7e12d971af",
            "placeholder": "​",
            "style": "IPY_MODEL_2aaa1c1c2fe74f399cdf729040d92a9e",
            "value": "  0%"
          }
        },
        "2979a99bbe174b06867c62b476ff4aad": {
          "model_module": "@jupyter-widgets/base",
          "model_module_version": "1.2.0",
          "model_name": "LayoutModel",
          "state": {
            "_model_module": "@jupyter-widgets/base",
            "_model_module_version": "1.2.0",
            "_model_name": "LayoutModel",
            "_view_count": null,
            "_view_module": "@jupyter-widgets/base",
            "_view_module_version": "1.2.0",
            "_view_name": "LayoutView",
            "align_content": null,
            "align_items": null,
            "align_self": null,
            "border": null,
            "bottom": null,
            "display": null,
            "flex": null,
            "flex_flow": null,
            "grid_area": null,
            "grid_auto_columns": null,
            "grid_auto_flow": null,
            "grid_auto_rows": null,
            "grid_column": null,
            "grid_gap": null,
            "grid_row": null,
            "grid_template_areas": null,
            "grid_template_columns": null,
            "grid_template_rows": null,
            "height": null,
            "justify_content": null,
            "justify_items": null,
            "left": null,
            "margin": null,
            "max_height": null,
            "max_width": null,
            "min_height": null,
            "min_width": null,
            "object_fit": null,
            "object_position": null,
            "order": null,
            "overflow": null,
            "overflow_x": null,
            "overflow_y": null,
            "padding": null,
            "right": null,
            "top": null,
            "visibility": null,
            "width": null
          }
        },
        "2aaa1c1c2fe74f399cdf729040d92a9e": {
          "model_module": "@jupyter-widgets/controls",
          "model_module_version": "1.5.0",
          "model_name": "DescriptionStyleModel",
          "state": {
            "_model_module": "@jupyter-widgets/controls",
            "_model_module_version": "1.5.0",
            "_model_name": "DescriptionStyleModel",
            "_view_count": null,
            "_view_module": "@jupyter-widgets/base",
            "_view_module_version": "1.2.0",
            "_view_name": "StyleView",
            "description_width": ""
          }
        },
        "504e8b632ac14a97a9c81d815df9333d": {
          "model_module": "@jupyter-widgets/base",
          "model_module_version": "1.2.0",
          "model_name": "LayoutModel",
          "state": {
            "_model_module": "@jupyter-widgets/base",
            "_model_module_version": "1.2.0",
            "_model_name": "LayoutModel",
            "_view_count": null,
            "_view_module": "@jupyter-widgets/base",
            "_view_module_version": "1.2.0",
            "_view_name": "LayoutView",
            "align_content": null,
            "align_items": null,
            "align_self": null,
            "border": null,
            "bottom": null,
            "display": null,
            "flex": null,
            "flex_flow": null,
            "grid_area": null,
            "grid_auto_columns": null,
            "grid_auto_flow": null,
            "grid_auto_rows": null,
            "grid_column": null,
            "grid_gap": null,
            "grid_row": null,
            "grid_template_areas": null,
            "grid_template_columns": null,
            "grid_template_rows": null,
            "height": null,
            "justify_content": null,
            "justify_items": null,
            "left": null,
            "margin": null,
            "max_height": null,
            "max_width": null,
            "min_height": null,
            "min_width": null,
            "object_fit": null,
            "object_position": null,
            "order": null,
            "overflow": null,
            "overflow_x": null,
            "overflow_y": null,
            "padding": null,
            "right": null,
            "top": null,
            "visibility": null,
            "width": null
          }
        },
        "5a04ab68a62b4140b4055d5641807107": {
          "model_module": "@jupyter-widgets/base",
          "model_module_version": "1.2.0",
          "model_name": "LayoutModel",
          "state": {
            "_model_module": "@jupyter-widgets/base",
            "_model_module_version": "1.2.0",
            "_model_name": "LayoutModel",
            "_view_count": null,
            "_view_module": "@jupyter-widgets/base",
            "_view_module_version": "1.2.0",
            "_view_name": "LayoutView",
            "align_content": null,
            "align_items": null,
            "align_self": null,
            "border": null,
            "bottom": null,
            "display": null,
            "flex": null,
            "flex_flow": null,
            "grid_area": null,
            "grid_auto_columns": null,
            "grid_auto_flow": null,
            "grid_auto_rows": null,
            "grid_column": null,
            "grid_gap": null,
            "grid_row": null,
            "grid_template_areas": null,
            "grid_template_columns": null,
            "grid_template_rows": null,
            "height": null,
            "justify_content": null,
            "justify_items": null,
            "left": null,
            "margin": null,
            "max_height": null,
            "max_width": null,
            "min_height": null,
            "min_width": null,
            "object_fit": null,
            "object_position": null,
            "order": null,
            "overflow": null,
            "overflow_x": null,
            "overflow_y": null,
            "padding": null,
            "right": null,
            "top": null,
            "visibility": null,
            "width": null
          }
        },
        "5adeda8cfb7740d7af0193ad8e990ec4": {
          "model_module": "@jupyter-widgets/base",
          "model_module_version": "1.2.0",
          "model_name": "LayoutModel",
          "state": {
            "_model_module": "@jupyter-widgets/base",
            "_model_module_version": "1.2.0",
            "_model_name": "LayoutModel",
            "_view_count": null,
            "_view_module": "@jupyter-widgets/base",
            "_view_module_version": "1.2.0",
            "_view_name": "LayoutView",
            "align_content": null,
            "align_items": null,
            "align_self": null,
            "border": null,
            "bottom": null,
            "display": null,
            "flex": null,
            "flex_flow": null,
            "grid_area": null,
            "grid_auto_columns": null,
            "grid_auto_flow": null,
            "grid_auto_rows": null,
            "grid_column": null,
            "grid_gap": null,
            "grid_row": null,
            "grid_template_areas": null,
            "grid_template_columns": null,
            "grid_template_rows": null,
            "height": null,
            "justify_content": null,
            "justify_items": null,
            "left": null,
            "margin": null,
            "max_height": null,
            "max_width": null,
            "min_height": null,
            "min_width": null,
            "object_fit": null,
            "object_position": null,
            "order": null,
            "overflow": null,
            "overflow_x": null,
            "overflow_y": null,
            "padding": null,
            "right": null,
            "top": null,
            "visibility": null,
            "width": null
          }
        },
        "6e08c8487d4840a6a8785c197cc171d3": {
          "model_module": "@jupyter-widgets/controls",
          "model_module_version": "1.5.0",
          "model_name": "HTMLModel",
          "state": {
            "_dom_classes": [],
            "_model_module": "@jupyter-widgets/controls",
            "_model_module_version": "1.5.0",
            "_model_name": "HTMLModel",
            "_view_count": null,
            "_view_module": "@jupyter-widgets/controls",
            "_view_module_version": "1.5.0",
            "_view_name": "HTMLView",
            "description": "",
            "description_tooltip": null,
            "layout": "IPY_MODEL_5adeda8cfb7740d7af0193ad8e990ec4",
            "placeholder": "​",
            "style": "IPY_MODEL_8a2e12140adf40749dae37652f982152",
            "value": " 0/500 [00:00&lt;?, ?epoch/s]"
          }
        },
        "8a2e12140adf40749dae37652f982152": {
          "model_module": "@jupyter-widgets/controls",
          "model_module_version": "1.5.0",
          "model_name": "DescriptionStyleModel",
          "state": {
            "_model_module": "@jupyter-widgets/controls",
            "_model_module_version": "1.5.0",
            "_model_name": "DescriptionStyleModel",
            "_view_count": null,
            "_view_module": "@jupyter-widgets/base",
            "_view_module_version": "1.2.0",
            "_view_name": "StyleView",
            "description_width": ""
          }
        },
        "8ad7bae2b0c64658808266e88e38e137": {
          "model_module": "@jupyter-widgets/controls",
          "model_module_version": "1.5.0",
          "model_name": "HBoxModel",
          "state": {
            "_dom_classes": [],
            "_model_module": "@jupyter-widgets/controls",
            "_model_module_version": "1.5.0",
            "_model_name": "HBoxModel",
            "_view_count": null,
            "_view_module": "@jupyter-widgets/controls",
            "_view_module_version": "1.5.0",
            "_view_name": "HBoxView",
            "box_style": "",
            "children": [
              "IPY_MODEL_a565a06f33ff48b7ae7a9ac5df0824ce",
              "IPY_MODEL_0cdef37aa463497cb9ca8911de93e348",
              "IPY_MODEL_d64f249bc5b64a64982031f0655970fa"
            ],
            "layout": "IPY_MODEL_504e8b632ac14a97a9c81d815df9333d"
          }
        },
        "9afe3df194c6454ba0755246abf6d1fd": {
          "model_module": "@jupyter-widgets/base",
          "model_module_version": "1.2.0",
          "model_name": "LayoutModel",
          "state": {
            "_model_module": "@jupyter-widgets/base",
            "_model_module_version": "1.2.0",
            "_model_name": "LayoutModel",
            "_view_count": null,
            "_view_module": "@jupyter-widgets/base",
            "_view_module_version": "1.2.0",
            "_view_name": "LayoutView",
            "align_content": null,
            "align_items": null,
            "align_self": null,
            "border": null,
            "bottom": null,
            "display": null,
            "flex": null,
            "flex_flow": null,
            "grid_area": null,
            "grid_auto_columns": null,
            "grid_auto_flow": null,
            "grid_auto_rows": null,
            "grid_column": null,
            "grid_gap": null,
            "grid_row": null,
            "grid_template_areas": null,
            "grid_template_columns": null,
            "grid_template_rows": null,
            "height": null,
            "justify_content": null,
            "justify_items": null,
            "left": null,
            "margin": null,
            "max_height": null,
            "max_width": null,
            "min_height": null,
            "min_width": null,
            "object_fit": null,
            "object_position": null,
            "order": null,
            "overflow": null,
            "overflow_x": null,
            "overflow_y": null,
            "padding": null,
            "right": null,
            "top": null,
            "visibility": null,
            "width": null
          }
        },
        "a565a06f33ff48b7ae7a9ac5df0824ce": {
          "model_module": "@jupyter-widgets/controls",
          "model_module_version": "1.5.0",
          "model_name": "HTMLModel",
          "state": {
            "_dom_classes": [],
            "_model_module": "@jupyter-widgets/controls",
            "_model_module_version": "1.5.0",
            "_model_name": "HTMLModel",
            "_view_count": null,
            "_view_module": "@jupyter-widgets/controls",
            "_view_module_version": "1.5.0",
            "_view_name": "HTMLView",
            "description": "",
            "description_tooltip": null,
            "layout": "IPY_MODEL_0a4584cbf5b04a9f9c1abf1d8ec3525b",
            "placeholder": "​",
            "style": "IPY_MODEL_1ec1ae7023654c0ebad2ef564403aea7",
            "value": "  8%"
          }
        },
        "b95527cf99d44519a14c9894bea77f3a": {
          "model_module": "@jupyter-widgets/base",
          "model_module_version": "1.2.0",
          "model_name": "LayoutModel",
          "state": {
            "_model_module": "@jupyter-widgets/base",
            "_model_module_version": "1.2.0",
            "_model_name": "LayoutModel",
            "_view_count": null,
            "_view_module": "@jupyter-widgets/base",
            "_view_module_version": "1.2.0",
            "_view_name": "LayoutView",
            "align_content": null,
            "align_items": null,
            "align_self": null,
            "border": null,
            "bottom": null,
            "display": null,
            "flex": null,
            "flex_flow": null,
            "grid_area": null,
            "grid_auto_columns": null,
            "grid_auto_flow": null,
            "grid_auto_rows": null,
            "grid_column": null,
            "grid_gap": null,
            "grid_row": null,
            "grid_template_areas": null,
            "grid_template_columns": null,
            "grid_template_rows": null,
            "height": null,
            "justify_content": null,
            "justify_items": null,
            "left": null,
            "margin": null,
            "max_height": null,
            "max_width": null,
            "min_height": null,
            "min_width": null,
            "object_fit": null,
            "object_position": null,
            "order": null,
            "overflow": null,
            "overflow_x": null,
            "overflow_y": null,
            "padding": null,
            "right": null,
            "top": null,
            "visibility": null,
            "width": null
          }
        },
        "d64f249bc5b64a64982031f0655970fa": {
          "model_module": "@jupyter-widgets/controls",
          "model_module_version": "1.5.0",
          "model_name": "HTMLModel",
          "state": {
            "_dom_classes": [],
            "_model_module": "@jupyter-widgets/controls",
            "_model_module_version": "1.5.0",
            "_model_name": "HTMLModel",
            "_view_count": null,
            "_view_module": "@jupyter-widgets/controls",
            "_view_module_version": "1.5.0",
            "_view_name": "HTMLView",
            "description": "",
            "description_tooltip": null,
            "layout": "IPY_MODEL_9afe3df194c6454ba0755246abf6d1fd",
            "placeholder": "​",
            "style": "IPY_MODEL_04811a21b2b345f19b816b332ace759e",
            "value": " 104/1.25k [05:13&lt;54:31, 2.85s/batch, loss=0.598, acc=0.65]"
          }
        },
        "de0089dcfe9e472ea3134f7e12d971af": {
          "model_module": "@jupyter-widgets/base",
          "model_module_version": "1.2.0",
          "model_name": "LayoutModel",
          "state": {
            "_model_module": "@jupyter-widgets/base",
            "_model_module_version": "1.2.0",
            "_model_name": "LayoutModel",
            "_view_count": null,
            "_view_module": "@jupyter-widgets/base",
            "_view_module_version": "1.2.0",
            "_view_name": "LayoutView",
            "align_content": null,
            "align_items": null,
            "align_self": null,
            "border": null,
            "bottom": null,
            "display": null,
            "flex": null,
            "flex_flow": null,
            "grid_area": null,
            "grid_auto_columns": null,
            "grid_auto_flow": null,
            "grid_auto_rows": null,
            "grid_column": null,
            "grid_gap": null,
            "grid_row": null,
            "grid_template_areas": null,
            "grid_template_columns": null,
            "grid_template_rows": null,
            "height": null,
            "justify_content": null,
            "justify_items": null,
            "left": null,
            "margin": null,
            "max_height": null,
            "max_width": null,
            "min_height": null,
            "min_width": null,
            "object_fit": null,
            "object_position": null,
            "order": null,
            "overflow": null,
            "overflow_x": null,
            "overflow_y": null,
            "padding": null,
            "right": null,
            "top": null,
            "visibility": null,
            "width": null
          }
        },
        "dfa1089d720a48579837c60ab75df848": {
          "model_module": "@jupyter-widgets/controls",
          "model_module_version": "1.5.0",
          "model_name": "HBoxModel",
          "state": {
            "_dom_classes": [],
            "_model_module": "@jupyter-widgets/controls",
            "_model_module_version": "1.5.0",
            "_model_name": "HBoxModel",
            "_view_count": null,
            "_view_module": "@jupyter-widgets/controls",
            "_view_module_version": "1.5.0",
            "_view_name": "HBoxView",
            "box_style": "",
            "children": [
              "IPY_MODEL_241181b530cb425d937fad829e39aed5",
              "IPY_MODEL_dff2bdb490324ddf9c80fbe7b45aa37b",
              "IPY_MODEL_6e08c8487d4840a6a8785c197cc171d3"
            ],
            "layout": "IPY_MODEL_2979a99bbe174b06867c62b476ff4aad"
          }
        },
        "dff2bdb490324ddf9c80fbe7b45aa37b": {
          "model_module": "@jupyter-widgets/controls",
          "model_module_version": "1.5.0",
          "model_name": "FloatProgressModel",
          "state": {
            "_dom_classes": [],
            "_model_module": "@jupyter-widgets/controls",
            "_model_module_version": "1.5.0",
            "_model_name": "FloatProgressModel",
            "_view_count": null,
            "_view_module": "@jupyter-widgets/controls",
            "_view_module_version": "1.5.0",
            "_view_name": "ProgressView",
            "bar_style": "",
            "description": "",
            "description_tooltip": null,
            "layout": "IPY_MODEL_b95527cf99d44519a14c9894bea77f3a",
            "max": 500,
            "min": 0,
            "orientation": "horizontal",
            "style": "IPY_MODEL_03f77a4845b148ce962a07774a3de2f1",
            "value": 0
          }
        }
      }
    }
  },
  "nbformat": 4,
  "nbformat_minor": 0
}
