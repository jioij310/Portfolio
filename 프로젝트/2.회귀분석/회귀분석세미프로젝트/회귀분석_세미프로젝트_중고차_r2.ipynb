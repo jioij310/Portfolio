{
 "cells": [
  {
   "cell_type": "code",
   "execution_count": 126,
   "metadata": {},
   "outputs": [],
   "source": [
    "import sys\n",
    "import os\n",
    "work_path = os.path.abspath(os.path.join(os.getcwd(), '../../../'))\n",
    "sys.path.append(work_path)\n",
    "from helper.regrassion import *\n",
    "from helper.plot import *\n",
    "from helper.util import *\n",
    "from helper.analysis import *\n",
    "import pandas as pd\n",
    "from scipy.stats import chi2_contingency\n",
    "import numpy as np"
   ]
  },
  {
   "cell_type": "code",
   "execution_count": 127,
   "metadata": {},
   "outputs": [
    {
     "name": "stdout",
     "output_type": "stream",
     "text": [
      "\n",
      "카테고리 정보\n",
      "+-----------------------+----------------------+\n",
      "|                       |   insurance_validity |\n",
      "|-----------------------+----------------------|\n",
      "| Comprehensive         |                  800 |\n",
      "| Third Party insurance |                  208 |\n",
      "| Third Party           |                   39 |\n",
      "| Zero Dep              |                   34 |\n",
      "+-----------------------+----------------------+\n",
      "+--------+-------------+\n",
      "|        |   fuel_type |\n",
      "|--------+-------------|\n",
      "| Petrol |         753 |\n",
      "| Diesel |         317 |\n",
      "| CNG    |          11 |\n",
      "+--------+-------------+\n",
      "+--------------+--------------+\n",
      "|              |   ownsership |\n",
      "|--------------+--------------|\n",
      "| First Owner  |          908 |\n",
      "| Second Owner |          158 |\n",
      "| Third Owner  |           15 |\n",
      "+--------------+--------------+\n",
      "+-----------+----------------+\n",
      "|           |   transmission |\n",
      "|-----------+----------------|\n",
      "| Manual    |            689 |\n",
      "| Automatic |            392 |\n",
      "+-----------+----------------+\n",
      "+------+----------------------+\n",
      "|      |   manufacturing_year |\n",
      "|------+----------------------|\n",
      "| 2018 |                  199 |\n",
      "| 2017 |                  152 |\n",
      "| 2019 |                  141 |\n",
      "| 2016 |                  110 |\n",
      "| 2015 |                  103 |\n",
      "| 2014 |                   79 |\n",
      "| 2021 |                   71 |\n",
      "| 2020 |                   67 |\n",
      "| 2022 |                   46 |\n",
      "| 2013 |                   36 |\n",
      "| 2012 |                   31 |\n",
      "| 2023 |                   17 |\n",
      "| 2011 |                   14 |\n",
      "| 2010 |                   10 |\n",
      "| 2009 |                    4 |\n",
      "| 2007 |                    1 |\n",
      "+------+----------------------+\n",
      "+----+---------+\n",
      "|    |   seats |\n",
      "|----+---------|\n",
      "|  5 |     981 |\n",
      "|  7 |      84 |\n",
      "|  6 |       8 |\n",
      "|  4 |       7 |\n",
      "|  8 |       1 |\n",
      "+----+---------+\n",
      "+----+--------------+--------------+-----------------+--------------+--------------+---------+-----------------------+-------------+---------+--------------+----------------+----------------------+\n",
      "|    |   Unnamed: 0 |   kms_driven |   mileage(kmpl) |   engine(cc) |   torque(Nm) |   price | insurance_validity    | fuel_type   |   seats | ownsership   | transmission   |   manufacturing_year |\n",
      "|----+--------------+--------------+-----------------+--------------+--------------+---------+-----------------------+-------------+---------+--------------+----------------+----------------------|\n",
      "|  0 |            0 |        30615 |            17.4 |          999 |         9863 |    8.99 | Comprehensive         | Petrol      |       5 | First Owner  | Automatic      |                 2020 |\n",
      "|  1 |            1 |        24000 |           20.68 |         1995 |          188 |   23.75 | Comprehensive         | Diesel      |       5 | First Owner  | Automatic      |                 2018 |\n",
      "|  2 |            2 |        18378 |            16.5 |         1353 |        13808 |   13.56 | Comprehensive         | Petrol      |       5 | First Owner  | Manual         |                 2019 |\n",
      "|  3 |            3 |        44900 |           14.67 |         1798 |        17746 |      24 | Comprehensive         | Petrol      |       5 | First Owner  | Automatic      |                 2019 |\n",
      "|  4 |            4 |        42000 |            18.7 |         1199 |          887 |    5.45 | Third Party insurance | Petrol      |       5 | First Owner  | Manual         |                 2017 |\n",
      "+----+--------------+--------------+-----------------+--------------+--------------+---------+-----------------------+-------------+---------+--------------+----------------+----------------------+\n"
     ]
    }
   ],
   "source": [
    "categories = ['insurance_validity','fuel_type','ownsership','transmission','manufacturing_year','seats']\n",
    "origin = my_read_excel('C:/Users/Jihwan/Desktop/01Class/E.추론통계/E.InferentialStatistics/회귀분석세미프로젝트/삭제된행확인.xlsx',info=False,categories=categories)\n",
    "my_pretty_table(origin.head())"
   ]
  },
  {
   "cell_type": "code",
   "execution_count": 128,
   "metadata": {},
   "outputs": [
    {
     "data": {
      "text/plain": [
       "Index(['kms_driven', 'mileage(kmpl)', 'engine(cc)', 'torque(Nm)', 'price',\n",
       "       'insurance_validity', 'fuel_type', 'seats', 'ownsership',\n",
       "       'transmission', 'manufacturing_year'],\n",
       "      dtype='object')"
      ]
     },
     "execution_count": 128,
     "metadata": {},
     "output_type": "execute_result"
    }
   ],
   "source": [
    "df = origin.copy()\n",
    "df = df.drop('Unnamed: 0',axis=1)\n",
    "df.columns"
   ]
  },
  {
   "cell_type": "code",
   "execution_count": 137,
   "metadata": {},
   "outputs": [
    {
     "name": "stdout",
     "output_type": "stream",
     "text": [
      "[normaltest-kms_driven] statistic: 26.724, p-value: 0.000, 정규성 충족 여부: False\n",
      "[normaltest-mileage(kmpl)] statistic: 7.449, p-value: 0.024, 정규성 충족 여부: False\n",
      "[normaltest-engine(cc)] statistic: 321.761, p-value: 0.000, 정규성 충족 여부: False\n",
      "[normaltest-torque(Nm)] statistic: 122.891, p-value: 0.000, 정규성 충족 여부: False\n",
      "[normaltest-price] statistic: 333.253, p-value: 0.000, 정규성 충족 여부: False\n"
     ]
    }
   ],
   "source": [
    "# 정규성 검정\n",
    "my_normal_test(df[['kms_driven','mileage(kmpl)','engine(cc)','torque(Nm)','price']])"
   ]
  },
  {
   "cell_type": "code",
   "execution_count": 138,
   "metadata": {},
   "outputs": [
    {
     "name": "stdout",
     "output_type": "stream",
     "text": [
      "Bartlett 검정: statistic: 41556.356, p-value: 0.000, 등분산성 충족 여부: False\n"
     ]
    }
   ],
   "source": [
    "# 등분산성 검정\n",
    "my_equal_var_test(df[['kms_driven','mileage(kmpl)','engine(cc)','torque(Nm)','price']])"
   ]
  },
  {
   "cell_type": "code",
   "execution_count": 139,
   "metadata": {},
   "outputs": [
    {
     "name": "stdout",
     "output_type": "stream",
     "text": [
      "<class 'pandas.core.frame.DataFrame'>\n",
      "RangeIndex: 812 entries, 0 to 811\n",
      "Data columns (total 11 columns):\n",
      " #   Column              Non-Null Count  Dtype   \n",
      "---  ------              --------------  -----   \n",
      " 0   kms_driven          812 non-null    int64   \n",
      " 1   mileage(kmpl)       812 non-null    float64 \n",
      " 2   engine(cc)          812 non-null    int64   \n",
      " 3   torque(Nm)          812 non-null    int64   \n",
      " 4   price               812 non-null    float64 \n",
      " 5   insurance_validity  812 non-null    category\n",
      " 6   fuel_type           812 non-null    category\n",
      " 7   seats               812 non-null    category\n",
      " 8   ownsership          812 non-null    category\n",
      " 9   transmission        812 non-null    category\n",
      " 10  manufacturing_year  812 non-null    category\n",
      "dtypes: category(6), float64(2), int64(3)\n",
      "memory usage: 38.1 KB\n"
     ]
    }
   ],
   "source": [
    "# 중복값 제거\n",
    "df2 = df[~df.duplicated()]\n",
    "df2[df2.duplicated()]\n",
    "df2 = df2.reset_index(drop=True)\n",
    "df2.info()"
   ]
  },
  {
   "cell_type": "code",
   "execution_count": null,
   "metadata": {},
   "outputs": [
    {
     "name": "stdout",
     "output_type": "stream",
     "text": [
      "Chi-square Statistic: 20.370405554401138\n",
      "p-value: 0.0023786902943188047\n",
      "Degrees of Freedom: 6\n",
      "Expected Frequencies Table:\n",
      "[[5.87192118e+00 1.76891626e+02 4.13236453e+02]\n",
      " [3.74384236e-01 1.12783251e+01 2.63472906e+01]\n",
      " [1.45812808e+00 4.39261084e+01 1.02615764e+02]\n",
      " [2.95566502e-01 8.90394089e+00 2.08004926e+01]]\n"
     ]
    }
   ],
   "source": [
    "# Singular matrix 에러원인이 명목형 변수 사이의 강한 상관관계라고 판단\n",
    "\n",
    "# 범주형 변수 간의 교차표 생성\n",
    "\n",
    "# 카이제곱 검정을 통한 상관관계 분석\n",
    "\n",
    "cross_tab = pd.crosstab(df2['insurance_validity'], df2['fuel_type'])\n",
    "chi2, p, dof, expected = chi2_contingency(cross_tab)\n",
    "\n",
    "# 결과 출력\n",
    "print(\"Chi-square Statistic:\", chi2)\n",
    "print(\"p-value:\", p)\n",
    "print(\"Degrees of Freedom:\", dof)\n",
    "print(\"Expected Frequencies Table:\")\n",
    "print(expected)\n"
   ]
  },
  {
   "cell_type": "code",
   "execution_count": null,
   "metadata": {},
   "outputs": [
    {
     "name": "stdout",
     "output_type": "stream",
     "text": [
      "Chi-square Statistic: 9.009844276112949\n",
      "p-value: 0.7020893723482247\n",
      "Degrees of Freedom: 12\n",
      "Expected Frequencies Table:\n",
      "[[2.93596059e+00 5.43152709e+02 3.66995074e+00 4.55073892e+01\n",
      "  7.33990148e-01]\n",
      " [1.87192118e-01 3.46305419e+01 2.33990148e-01 2.90147783e+00\n",
      "  4.67980296e-02]\n",
      " [7.29064039e-01 1.34876847e+02 9.11330049e-01 1.13004926e+01\n",
      "  1.82266010e-01]\n",
      " [1.47783251e-01 2.73399015e+01 1.84729064e-01 2.29064039e+00\n",
      "  3.69458128e-02]]\n"
     ]
    }
   ],
   "source": [
    "cross_tab = pd.crosstab(df2['insurance_validity'], df2['seats'])\n",
    "chi2, p, dof, expected = chi2_contingency(cross_tab)\n",
    "\n",
    "# 결과 출력\n",
    "print(\"Chi-square Statistic:\", chi2)\n",
    "print(\"p-value:\", p)\n",
    "print(\"Degrees of Freedom:\", dof)\n",
    "print(\"Expected Frequencies Table:\")\n",
    "print(expected)"
   ]
  },
  {
   "cell_type": "code",
   "execution_count": null,
   "metadata": {},
   "outputs": [
    {
     "name": "stdout",
     "output_type": "stream",
     "text": [
      "Chi-square Statistic: 33.491286907363566\n",
      "p-value: 8.433151263554849e-06\n",
      "Degrees of Freedom: 6\n",
      "Expected Frequencies Table:\n",
      "[[5.03517241e+02 8.29408867e+01 9.54187192e+00]\n",
      " [3.21034483e+01 5.28817734e+00 6.08374384e-01]\n",
      " [1.25034483e+02 2.05960591e+01 2.36945813e+00]\n",
      " [2.53448276e+01 4.17487685e+00 4.80295567e-01]]\n"
     ]
    }
   ],
   "source": [
    "cross_tab = pd.crosstab(df2['insurance_validity'], df2['ownsership'])\n",
    "chi2, p, dof, expected = chi2_contingency(cross_tab)\n",
    "\n",
    "# 결과 출력\n",
    "print(\"Chi-square Statistic:\", chi2)\n",
    "print(\"p-value:\", p)\n",
    "print(\"Degrees of Freedom:\", dof)\n",
    "print(\"Expected Frequencies Table:\")\n",
    "print(expected)"
   ]
  },
  {
   "cell_type": "code",
   "execution_count": null,
   "metadata": {},
   "outputs": [
    {
     "name": "stdout",
     "output_type": "stream",
     "text": [
      "Chi-square Statistic: 7.446570537029604\n",
      "p-value: 0.05894729321649752\n",
      "Degrees of Freedom: 3\n",
      "Expected Frequencies Table:\n",
      "[[206.25123153 389.74876847]\n",
      " [ 13.15024631  24.84975369]\n",
      " [ 51.21674877  96.78325123]\n",
      " [ 10.3817734   19.6182266 ]]\n"
     ]
    }
   ],
   "source": [
    "cross_tab = pd.crosstab(df2['insurance_validity'], df2['transmission'])\n",
    "chi2, p, dof, expected = chi2_contingency(cross_tab)\n",
    "\n",
    "# 결과 출력\n",
    "print(\"Chi-square Statistic:\", chi2)\n",
    "print(\"p-value:\", p)\n",
    "print(\"Degrees of Freedom:\", dof)\n",
    "print(\"Expected Frequencies Table:\")\n",
    "print(expected)"
   ]
  },
  {
   "cell_type": "code",
   "execution_count": null,
   "metadata": {},
   "outputs": [
    {
     "name": "stdout",
     "output_type": "stream",
     "text": [
      "Chi-square Statistic: 67.92958018747265\n",
      "p-value: 0.015196079896350332\n",
      "Degrees of Freedom: 45\n",
      "Expected Frequencies Table:\n",
      "[[7.33990148e-01 2.20197044e+00 5.13793103e+00 8.07389163e+00\n",
      "  1.76157635e+01 2.12857143e+01 4.47733990e+01 5.50492611e+01\n",
      "  6.23891626e+01 8.14729064e+01 1.07162562e+02 7.56009852e+01\n",
      "  3.96354680e+01 4.18374384e+01 2.49556650e+01 8.07389163e+00]\n",
      " [4.67980296e-02 1.40394089e-01 3.27586207e-01 5.14778325e-01\n",
      "  1.12315271e+00 1.35714286e+00 2.85467980e+00 3.50985222e+00\n",
      "  3.97783251e+00 5.19458128e+00 6.83251232e+00 4.82019704e+00\n",
      "  2.52709360e+00 2.66748768e+00 1.59113300e+00 5.14778325e-01]\n",
      " [1.82266010e-01 5.46798030e-01 1.27586207e+00 2.00492611e+00\n",
      "  4.37438424e+00 5.28571429e+00 1.11182266e+01 1.36699507e+01\n",
      "  1.54926108e+01 2.02315271e+01 2.66108374e+01 1.87733990e+01\n",
      "  9.84236453e+00 1.03891626e+01 6.19704433e+00 2.00492611e+00]\n",
      " [3.69458128e-02 1.10837438e-01 2.58620690e-01 4.06403941e-01\n",
      "  8.86699507e-01 1.07142857e+00 2.25369458e+00 2.77093596e+00\n",
      "  3.14039409e+00 4.10098522e+00 5.39408867e+00 3.80541872e+00\n",
      "  1.99507389e+00 2.10591133e+00 1.25615764e+00 4.06403941e-01]]\n"
     ]
    }
   ],
   "source": [
    "cross_tab = pd.crosstab(df2['insurance_validity'], df2['manufacturing_year'])\n",
    "chi2, p, dof, expected = chi2_contingency(cross_tab)\n",
    "\n",
    "# 결과 출력\n",
    "print(\"Chi-square Statistic:\", chi2)\n",
    "print(\"p-value:\", p)\n",
    "print(\"Degrees of Freedom:\", dof)\n",
    "print(\"Expected Frequencies Table:\")\n",
    "print(expected)"
   ]
  },
  {
   "cell_type": "code",
   "execution_count": null,
   "metadata": {},
   "outputs": [
    {
     "name": "stdout",
     "output_type": "stream",
     "text": [
      "Chi-square Statistic: 5.874675933818763\n",
      "p-value: 0.20870508191386494\n",
      "Degrees of Freedom: 4\n",
      "Expected Frequencies Table:\n",
      "[[6.75862069e+00 1.11330049e+00 1.28078818e-01]\n",
      " [2.03603448e+02 3.35381773e+01 3.85837438e+00]\n",
      " [4.75637931e+02 7.83485222e+01 9.01354680e+00]]\n"
     ]
    }
   ],
   "source": [
    "cross_tab = pd.crosstab(df2['fuel_type'], df2['ownsership'])\n",
    "chi2, p, dof, expected = chi2_contingency(cross_tab)\n",
    "\n",
    "# 결과 출력\n",
    "print(\"Chi-square Statistic:\", chi2)\n",
    "print(\"p-value:\", p)\n",
    "print(\"Degrees of Freedom:\", dof)\n",
    "print(\"Expected Frequencies Table:\")\n",
    "print(expected)"
   ]
  },
  {
   "cell_type": "code",
   "execution_count": null,
   "metadata": {},
   "outputs": [
    {
     "name": "stdout",
     "output_type": "stream",
     "text": [
      "Chi-square Statistic: 16.685158638071442\n",
      "p-value: 0.0002381572664678483\n",
      "Degrees of Freedom: 2\n",
      "Expected Frequencies Table:\n",
      "[[  2.76847291   5.23152709]\n",
      " [ 83.40024631 157.59975369]\n",
      " [194.83128079 368.16871921]]\n"
     ]
    }
   ],
   "source": [
    "cross_tab = pd.crosstab(df2['fuel_type'], df2['transmission'])\n",
    "chi2, p, dof, expected = chi2_contingency(cross_tab)\n",
    "\n",
    "# 결과 출력\n",
    "print(\"Chi-square Statistic:\", chi2)\n",
    "print(\"p-value:\", p)\n",
    "print(\"Degrees of Freedom:\", dof)\n",
    "print(\"Expected Frequencies Table:\")\n",
    "print(expected)"
   ]
  },
  {
   "cell_type": "code",
   "execution_count": null,
   "metadata": {},
   "outputs": [
    {
     "name": "stdout",
     "output_type": "stream",
     "text": [
      "Chi-square Statistic: 68.92327416632966\n",
      "p-value: 6.756347967584458e-05\n",
      "Degrees of Freedom: 30\n",
      "Expected Frequencies Table:\n",
      "[[9.85221675e-03 2.95566502e-02 6.89655172e-02 1.08374384e-01\n",
      "  2.36453202e-01 2.85714286e-01 6.00985222e-01 7.38916256e-01\n",
      "  8.37438424e-01 1.09359606e+00 1.43842365e+00 1.01477833e+00\n",
      "  5.32019704e-01 5.61576355e-01 3.34975369e-01 1.08374384e-01]\n",
      " [2.96798030e-01 8.90394089e-01 2.07758621e+00 3.26477833e+00\n",
      "  7.12315271e+00 8.60714286e+00 1.81046798e+01 2.22598522e+01\n",
      "  2.52278325e+01 3.29445813e+01 4.33325123e+01 3.05701970e+01\n",
      "  1.60270936e+01 1.69174877e+01 1.00911330e+01 3.26477833e+00]\n",
      " [6.93349754e-01 2.08004926e+00 4.85344828e+00 7.62684729e+00\n",
      "  1.66403941e+01 2.01071429e+01 4.22943350e+01 5.20012315e+01\n",
      "  5.89347291e+01 7.69618227e+01 1.01229064e+02 7.14150246e+01\n",
      "  3.74408867e+01 3.95209360e+01 2.35738916e+01 7.62684729e+00]]\n"
     ]
    }
   ],
   "source": [
    "cross_tab = pd.crosstab(df2['fuel_type'], df2['manufacturing_year'])\n",
    "chi2, p, dof, expected = chi2_contingency(cross_tab)\n",
    "\n",
    "# 결과 출력\n",
    "print(\"Chi-square Statistic:\", chi2)\n",
    "print(\"p-value:\", p)\n",
    "print(\"Degrees of Freedom:\", dof)\n",
    "print(\"Expected Frequencies Table:\")\n",
    "print(expected)"
   ]
  },
  {
   "cell_type": "code",
   "execution_count": null,
   "metadata": {},
   "outputs": [
    {
     "name": "stdout",
     "output_type": "stream",
     "text": [
      "Chi-square Statistic: 98.30531705842046\n",
      "p-value: 9.473856707219256e-18\n",
      "Degrees of Freedom: 8\n",
      "Expected Frequencies Table:\n",
      "[[3.94088670e-02 7.29064039e+00 4.92610837e-02 6.10837438e-01\n",
      "  9.85221675e-03]\n",
      " [1.18719212e+00 2.19630542e+02 1.48399015e+00 1.84014778e+01\n",
      "  2.96798030e-01]\n",
      " [2.77339901e+00 5.13078818e+02 3.46674877e+00 4.29876847e+01\n",
      "  6.93349754e-01]]\n"
     ]
    }
   ],
   "source": [
    "cross_tab = pd.crosstab(df2['fuel_type'], df2['seats'])\n",
    "chi2, p, dof, expected = chi2_contingency(cross_tab)\n",
    "\n",
    "# 결과 출력\n",
    "print(\"Chi-square Statistic:\", chi2)\n",
    "print(\"p-value:\", p)\n",
    "print(\"Degrees of Freedom:\", dof)\n",
    "print(\"Expected Frequencies Table:\")\n",
    "print(expected)"
   ]
  },
  {
   "cell_type": "code",
   "execution_count": null,
   "metadata": {},
   "outputs": [
    {
     "name": "stdout",
     "output_type": "stream",
     "text": [
      "Chi-square Statistic: 4.482376418245818\n",
      "p-value: 0.10633208453461823\n",
      "Degrees of Freedom: 2\n",
      "Expected Frequencies Table:\n",
      "[[237.39655172 448.60344828]\n",
      " [ 39.1046798   73.8953202 ]\n",
      " [  4.49876847   8.50123153]]\n"
     ]
    }
   ],
   "source": [
    "cross_tab = pd.crosstab(df2['ownsership'], df2['transmission'])\n",
    "chi2, p, dof, expected = chi2_contingency(cross_tab)\n",
    "\n",
    "# 결과 출력\n",
    "print(\"Chi-square Statistic:\", chi2)\n",
    "print(\"p-value:\", p)\n",
    "print(\"Degrees of Freedom:\", dof)\n",
    "print(\"Expected Frequencies Table:\")\n",
    "print(expected)"
   ]
  },
  {
   "cell_type": "code",
   "execution_count": null,
   "metadata": {},
   "outputs": [
    {
     "name": "stdout",
     "output_type": "stream",
     "text": [
      "Chi-square Statistic: 123.14158606269507\n",
      "p-value: 3.023232434589813e-13\n",
      "Degrees of Freedom: 30\n",
      "Expected Frequencies Table:\n",
      "[[8.44827586e-01 2.53448276e+00 5.91379310e+00 9.29310345e+00\n",
      "  2.02758621e+01 2.45000000e+01 5.15344828e+01 6.33620690e+01\n",
      "  7.18103448e+01 9.37758621e+01 1.23344828e+02 8.70172414e+01\n",
      "  4.56206897e+01 4.81551724e+01 2.87241379e+01 9.29310345e+00]\n",
      " [1.39162562e-01 4.17487685e-01 9.74137931e-01 1.53078818e+00\n",
      "  3.33990148e+00 4.03571429e+00 8.48891626e+00 1.04371921e+01\n",
      "  1.18288177e+01 1.54470443e+01 2.03177340e+01 1.43337438e+01\n",
      "  7.51477833e+00 7.93226601e+00 4.73152709e+00 1.53078818e+00]\n",
      " [1.60098522e-02 4.80295567e-02 1.12068966e-01 1.76108374e-01\n",
      "  3.84236453e-01 4.64285714e-01 9.76600985e-01 1.20073892e+00\n",
      "  1.36083744e+00 1.77709360e+00 2.33743842e+00 1.64901478e+00\n",
      "  8.64532020e-01 9.12561576e-01 5.44334975e-01 1.76108374e-01]]\n"
     ]
    }
   ],
   "source": [
    "cross_tab = pd.crosstab(df2['ownsership'], df2['manufacturing_year'])\n",
    "chi2, p, dof, expected = chi2_contingency(cross_tab)\n",
    "\n",
    "# 결과 출력\n",
    "print(\"Chi-square Statistic:\", chi2)\n",
    "print(\"p-value:\", p)\n",
    "print(\"Degrees of Freedom:\", dof)\n",
    "print(\"Expected Frequencies Table:\")\n",
    "print(expected)"
   ]
  },
  {
   "cell_type": "code",
   "execution_count": null,
   "metadata": {},
   "outputs": [
    {
     "name": "stdout",
     "output_type": "stream",
     "text": [
      "Chi-square Statistic: 8.928767494066626\n",
      "p-value: 0.34834067590092155\n",
      "Degrees of Freedom: 8\n",
      "Expected Frequencies Table:\n",
      "[[3.37931034e+00 6.25172414e+02 4.22413793e+00 5.23793103e+01\n",
      "  8.44827586e-01]\n",
      " [5.56650246e-01 1.02980296e+02 6.95812808e-01 8.62807882e+00\n",
      "  1.39162562e-01]\n",
      " [6.40394089e-02 1.18472906e+01 8.00492611e-02 9.92610837e-01\n",
      "  1.60098522e-02]]\n"
     ]
    }
   ],
   "source": [
    "cross_tab = pd.crosstab(df2['ownsership'], df2['seats'])\n",
    "chi2, p, dof, expected = chi2_contingency(cross_tab)\n",
    "\n",
    "# 결과 출력\n",
    "print(\"Chi-square Statistic:\", chi2)\n",
    "print(\"p-value:\", p)\n",
    "print(\"Degrees of Freedom:\", dof)\n",
    "print(\"Expected Frequencies Table:\")\n",
    "print(expected)"
   ]
  },
  {
   "cell_type": "code",
   "execution_count": null,
   "metadata": {},
   "outputs": [
    {
     "name": "stdout",
     "output_type": "stream",
     "text": [
      "Chi-square Statistic: 23.699921707138078\n",
      "p-value: 0.07036771733647787\n",
      "Degrees of Freedom: 15\n",
      "Expected Frequencies Table:\n",
      "[[ 0.34605911  1.03817734  2.42241379  3.80665025  8.30541872 10.03571429\n",
      "  21.10960591 25.9544335  29.41502463 38.41256158 50.52463054 35.64408867\n",
      "  18.68719212 19.72536946 11.76600985  3.80665025]\n",
      " [ 0.65394089  1.96182266  4.57758621  7.19334975 15.69458128 18.96428571\n",
      "  39.89039409 49.0455665  55.58497537 72.58743842 95.47536946 67.35591133\n",
      "  35.31280788 37.27463054 22.23399015  7.19334975]]\n"
     ]
    }
   ],
   "source": [
    "cross_tab = pd.crosstab(df2['transmission'], df2['manufacturing_year'])\n",
    "chi2, p, dof, expected = chi2_contingency(cross_tab)\n",
    "\n",
    "# 결과 출력\n",
    "print(\"Chi-square Statistic:\", chi2)\n",
    "print(\"p-value:\", p)\n",
    "print(\"Degrees of Freedom:\", dof)\n",
    "print(\"Expected Frequencies Table:\")\n",
    "print(expected)"
   ]
  },
  {
   "cell_type": "code",
   "execution_count": null,
   "metadata": {},
   "outputs": [
    {
     "name": "stdout",
     "output_type": "stream",
     "text": [
      "Chi-square Statistic: 15.438789391104505\n",
      "p-value: 0.0038725391511141684\n",
      "Degrees of Freedom: 4\n",
      "Expected Frequencies Table:\n",
      "[[1.38423645e+00 2.56083744e+02 1.73029557e+00 2.14556650e+01\n",
      "  3.46059113e-01]\n",
      " [2.61576355e+00 4.83916256e+02 3.26970443e+00 4.05443350e+01\n",
      "  6.53940887e-01]]\n"
     ]
    }
   ],
   "source": [
    "cross_tab = pd.crosstab(df2['transmission'], df2['seats'])\n",
    "chi2, p, dof, expected = chi2_contingency(cross_tab)\n",
    "\n",
    "# 결과 출력\n",
    "print(\"Chi-square Statistic:\", chi2)\n",
    "print(\"p-value:\", p)\n",
    "print(\"Degrees of Freedom:\", dof)\n",
    "print(\"Expected Frequencies Table:\")\n",
    "print(expected)"
   ]
  },
  {
   "cell_type": "code",
   "execution_count": null,
   "metadata": {},
   "outputs": [
    {
     "name": "stdout",
     "output_type": "stream",
     "text": [
      "Chi-square Statistic: 83.36412252901818\n",
      "p-value: 0.02471598346584154\n",
      "Degrees of Freedom: 60\n",
      "Expected Frequencies Table:\n",
      "[[4.92610837e-03 9.11330049e-01 6.15763547e-03 7.63546798e-02\n",
      "  1.23152709e-03]\n",
      " [1.47783251e-02 2.73399015e+00 1.84729064e-02 2.29064039e-01\n",
      "  3.69458128e-03]\n",
      " [3.44827586e-02 6.37931034e+00 4.31034483e-02 5.34482759e-01\n",
      "  8.62068966e-03]\n",
      " [5.41871921e-02 1.00246305e+01 6.77339901e-02 8.39901478e-01\n",
      "  1.35467980e-02]\n",
      " [1.18226601e-01 2.18719212e+01 1.47783251e-01 1.83251232e+00\n",
      "  2.95566502e-02]\n",
      " [1.42857143e-01 2.64285714e+01 1.78571429e-01 2.21428571e+00\n",
      "  3.57142857e-02]\n",
      " [3.00492611e-01 5.55911330e+01 3.75615764e-01 4.65763547e+00\n",
      "  7.51231527e-02]\n",
      " [3.69458128e-01 6.83497537e+01 4.61822660e-01 5.72660099e+00\n",
      "  9.23645320e-02]\n",
      " [4.18719212e-01 7.74630542e+01 5.23399015e-01 6.49014778e+00\n",
      "  1.04679803e-01]\n",
      " [5.46798030e-01 1.01157635e+02 6.83497537e-01 8.47536946e+00\n",
      "  1.36699507e-01]\n",
      " [7.19211823e-01 1.33054187e+02 8.99014778e-01 1.11477833e+01\n",
      "  1.79802956e-01]\n",
      " [5.07389163e-01 9.38669951e+01 6.34236453e-01 7.86453202e+00\n",
      "  1.26847291e-01]\n",
      " [2.66009852e-01 4.92118227e+01 3.32512315e-01 4.12315271e+00\n",
      "  6.65024631e-02]\n",
      " [2.80788177e-01 5.19458128e+01 3.50985222e-01 4.35221675e+00\n",
      "  7.01970443e-02]\n",
      " [1.67487685e-01 3.09852217e+01 2.09359606e-01 2.59605911e+00\n",
      "  4.18719212e-02]\n",
      " [5.41871921e-02 1.00246305e+01 6.77339901e-02 8.39901478e-01\n",
      "  1.35467980e-02]]\n"
     ]
    }
   ],
   "source": [
    "cross_tab = pd.crosstab(df2['manufacturing_year'], df2['seats'])\n",
    "chi2, p, dof, expected = chi2_contingency(cross_tab)\n",
    "\n",
    "# 결과 출력\n",
    "print(\"Chi-square Statistic:\", chi2)\n",
    "print(\"p-value:\", p)\n",
    "print(\"Degrees of Freedom:\", dof)\n",
    "print(\"Expected Frequencies Table:\")\n",
    "print(expected)"
   ]
  },
  {
   "cell_type": "code",
   "execution_count": null,
   "metadata": {},
   "outputs": [
    {
     "name": "stdout",
     "output_type": "stream",
     "text": [
      "pingouin.anova\n",
      "+----+--------------------+---------+------+---------+---------+-------------+----------+\n",
      "|    | Source             |      SS |   DF |      MS |       F |       p-unc |      np2 |\n",
      "|----+--------------------+---------+------+---------+---------+-------------+----------|\n",
      "|  0 | insurance_validity | 598.201 |    3 |   199.4 | 5.59253 | 0.000847585 | 0.020342 |\n",
      "|  1 | Within             |   28809 |  808 | 35.6547 |     nan |         nan |      nan |\n",
      "+----+--------------------+---------+------+---------+---------+-------------+----------+\n",
      "\n",
      "statsmodels.anova.anova_lm\n",
      "+-----------------------+------+----------+-----------+---------+-------------+\n",
      "|                       |   df |   sum_sq |   mean_sq |       F |      PR(>F) |\n",
      "|-----------------------+------+----------+-----------+---------+-------------|\n",
      "| C(insurance_validity) |    3 |  598.201 |     199.4 | 5.59253 | 0.000847585 |\n",
      "| Residual              |  808 |    28809 |   35.6547 |     nan |         nan |\n",
      "+-----------------------+------+----------+-----------+---------+-------------+\n",
      "[anova_lm] statistic: 5.593, p-value: 0.001, 대립가설 채택\n",
      "pingouin.anova\n",
      "+----+----------+---------+------+---------+---------+-------------+-----------+\n",
      "|    | Source   |      SS |   DF |      MS |       F |       p-unc |       np2 |\n",
      "|----+----------+---------+------+---------+---------+-------------+-----------|\n",
      "|  0 | seats    | 2301.75 |    4 | 575.438 | 17.1323 | 1.69929e-13 | 0.0782717 |\n",
      "|  1 | Within   | 27105.5 |  807 |  33.588 |     nan |         nan |       nan |\n",
      "+----+----------+---------+------+---------+---------+-------------+-----------+\n",
      "\n",
      "statsmodels.anova.anova_lm\n",
      "+----------+------+----------+-----------+---------+-------------+\n",
      "|          |   df |   sum_sq |   mean_sq |       F |      PR(>F) |\n",
      "|----------+------+----------+-----------+---------+-------------|\n",
      "| C(seats) |    4 |  2301.75 |   575.438 | 17.1323 | 1.69929e-13 |\n",
      "| Residual |  807 |  27105.5 |    33.588 |     nan |         nan |\n",
      "+----------+------+----------+-----------+---------+-------------+\n",
      "[anova_lm] statistic: 17.132, p-value: 0.000, 대립가설 채택\n",
      "pingouin.anova\n",
      "+----+-----------+---------+------+---------+---------+-------------+----------+\n",
      "|    | Source    |      SS |   DF |      MS |       F |       p-unc |      np2 |\n",
      "|----+-----------+---------+------+---------+---------+-------------+----------|\n",
      "|  0 | fuel_type | 3617.22 |    2 | 1808.61 | 56.7338 | 8.75922e-24 | 0.123004 |\n",
      "|  1 | Within    |   25790 |  809 | 31.8789 |     nan |         nan |      nan |\n",
      "+----+-----------+---------+------+---------+---------+-------------+----------+\n",
      "\n",
      "statsmodels.anova.anova_lm\n",
      "+--------------+------+----------+-----------+---------+-------------+\n",
      "|              |   df |   sum_sq |   mean_sq |       F |      PR(>F) |\n",
      "|--------------+------+----------+-----------+---------+-------------|\n",
      "| C(fuel_type) |    2 |  3617.22 |   1808.61 | 56.7338 | 8.75922e-24 |\n",
      "| Residual     |  809 |    25790 |   31.8789 |     nan |         nan |\n",
      "+--------------+------+----------+-----------+---------+-------------+\n",
      "[anova_lm] statistic: 56.734, p-value: 0.000, 대립가설 채택\n",
      "pingouin.anova\n",
      "+----+------------+---------+------+---------+---------+----------+-----------+\n",
      "|    | Source     |      SS |   DF |      MS |       F |    p-unc |       np2 |\n",
      "|----+------------+---------+------+---------+---------+----------+-----------|\n",
      "|  0 | ownsership | 96.4411 |    2 | 48.2205 | 1.33092 | 0.264811 | 0.0032795 |\n",
      "|  1 | Within     | 29310.8 |  809 | 36.2309 |     nan |      nan |       nan |\n",
      "+----+------------+---------+------+---------+---------+----------+-----------+\n",
      "\n",
      "statsmodels.anova.anova_lm\n",
      "+---------------+------+----------+-----------+---------+----------+\n",
      "|               |   df |   sum_sq |   mean_sq |       F |   PR(>F) |\n",
      "|---------------+------+----------+-----------+---------+----------|\n",
      "| C(ownsership) |    2 |  96.4411 |   48.2205 | 1.33092 | 0.264811 |\n",
      "| Residual      |  809 |  29310.8 |   36.2309 |     nan |      nan |\n",
      "+---------------+------+----------+-----------+---------+----------+\n",
      "[anova_lm] statistic: 1.331, p-value: 0.265, 귀무가설 채택\n",
      "pingouin.anova\n",
      "+----+--------------+---------+------+---------+---------+-------------+----------+\n",
      "|    | Source       |      SS |   DF |      MS |       F |       p-unc |      np2 |\n",
      "|----+--------------+---------+------+---------+---------+-------------+----------|\n",
      "|  0 | transmission | 9029.56 |    1 | 9029.56 | 358.919 | 1.53613e-66 | 0.307052 |\n",
      "|  1 | Within       | 20377.7 |  810 | 25.1576 |     nan |         nan |      nan |\n",
      "+----+--------------+---------+------+---------+---------+-------------+----------+\n",
      "\n",
      "statsmodels.anova.anova_lm\n",
      "+-----------------+------+----------+-----------+---------+-------------+\n",
      "|                 |   df |   sum_sq |   mean_sq |       F |      PR(>F) |\n",
      "|-----------------+------+----------+-----------+---------+-------------|\n",
      "| C(transmission) |    1 |  9029.56 |   9029.56 | 358.919 | 1.53613e-66 |\n",
      "| Residual        |  810 |  20377.7 |   25.1576 |     nan |         nan |\n",
      "+-----------------+------+----------+-----------+---------+-------------+\n",
      "[anova_lm] statistic: 358.919, p-value: 0.000, 대립가설 채택\n",
      "pingouin.anova\n",
      "+----+--------------------+---------+------+---------+---------+------------+---------+\n",
      "|    | Source             |      SS |   DF |      MS |       F |      p-unc |     np2 |\n",
      "|----+--------------------+---------+------+---------+---------+------------+---------|\n",
      "|  0 | manufacturing_year |  3769.7 |   15 | 251.314 | 7.80284 | 1.5579e-16 | 0.12819 |\n",
      "|  1 | Within             | 25637.5 |  796 | 32.2079 |     nan |        nan |     nan |\n",
      "+----+--------------------+---------+------+---------+---------+------------+---------+\n",
      "\n",
      "statsmodels.anova.anova_lm\n",
      "+-----------------------+------+----------+-----------+---------+------------+\n",
      "|                       |   df |   sum_sq |   mean_sq |       F |     PR(>F) |\n",
      "|-----------------------+------+----------+-----------+---------+------------|\n",
      "| C(manufacturing_year) |   15 |   3769.7 |   251.314 | 7.80284 | 1.5579e-16 |\n",
      "| Residual              |  796 |  25637.5 |   32.2079 |     nan |        nan |\n",
      "+-----------------------+------+----------+-----------+---------+------------+\n",
      "[anova_lm] statistic: 7.803, p-value: 0.000, 대립가설 채택\n"
     ]
    }
   ],
   "source": [
    "# 분산분석을 통한 명목변수와 종속변수 관계 파악\n",
    "\n",
    "from helper.analysis import my_anova\n",
    "categories = ['insurance_validity','seats','fuel_type','ownsership','transmission','manufacturing_year']\n",
    "\n",
    "for c in categories:\n",
    "    tmp = df2[[c, \"price\"]]\n",
    "    my_anova(tmp, hue=c, target=\"price\")"
   ]
  },
  {
   "cell_type": "markdown",
   "metadata": {},
   "source": [
    "> 분산분석, 상관분석 결과 서로 상관성이 높고, 통계적으로 유의하지 않은 변수 제거(insurance_validity','fuel_type','ownsership','seats')\n",
    "> \n",
    "> 카테고리 타입 중 두 변수 남음\n",
    "> 'transmission','manufacturing_year'"
   ]
  },
  {
   "cell_type": "code",
   "execution_count": null,
   "metadata": {},
   "outputs": [],
   "source": [
    "df2 = df2.drop('ownsership',axis=1)\n"
   ]
  },
  {
   "cell_type": "code",
   "execution_count": null,
   "metadata": {},
   "outputs": [
    {
     "data": {
      "text/html": [
       "<div>\n",
       "<style scoped>\n",
       "    .dataframe tbody tr th:only-of-type {\n",
       "        vertical-align: middle;\n",
       "    }\n",
       "\n",
       "    .dataframe tbody tr th {\n",
       "        vertical-align: top;\n",
       "    }\n",
       "\n",
       "    .dataframe thead th {\n",
       "        text-align: right;\n",
       "    }\n",
       "</style>\n",
       "<table border=\"1\" class=\"dataframe\">\n",
       "  <thead>\n",
       "    <tr style=\"text-align: right;\">\n",
       "      <th></th>\n",
       "      <th>kms_driven</th>\n",
       "      <th>mileage(kmpl)</th>\n",
       "      <th>engine(cc)</th>\n",
       "      <th>torque(Nm)</th>\n",
       "      <th>price</th>\n",
       "      <th>insurance_validity</th>\n",
       "      <th>fuel_type</th>\n",
       "      <th>seats</th>\n",
       "      <th>transmission</th>\n",
       "      <th>manufacturing_year</th>\n",
       "    </tr>\n",
       "  </thead>\n",
       "  <tbody>\n",
       "    <tr>\n",
       "      <th>0</th>\n",
       "      <td>30615</td>\n",
       "      <td>17.40</td>\n",
       "      <td>999</td>\n",
       "      <td>9863</td>\n",
       "      <td>2.196113</td>\n",
       "      <td>Comprehensive</td>\n",
       "      <td>Petrol</td>\n",
       "      <td>5</td>\n",
       "      <td>Automatic</td>\n",
       "      <td>2020</td>\n",
       "    </tr>\n",
       "    <tr>\n",
       "      <th>1</th>\n",
       "      <td>24000</td>\n",
       "      <td>20.68</td>\n",
       "      <td>1995</td>\n",
       "      <td>188</td>\n",
       "      <td>3.167583</td>\n",
       "      <td>Comprehensive</td>\n",
       "      <td>Diesel</td>\n",
       "      <td>5</td>\n",
       "      <td>Automatic</td>\n",
       "      <td>2018</td>\n",
       "    </tr>\n",
       "    <tr>\n",
       "      <th>2</th>\n",
       "      <td>18378</td>\n",
       "      <td>16.50</td>\n",
       "      <td>1353</td>\n",
       "      <td>13808</td>\n",
       "      <td>2.607124</td>\n",
       "      <td>Comprehensive</td>\n",
       "      <td>Petrol</td>\n",
       "      <td>5</td>\n",
       "      <td>Manual</td>\n",
       "      <td>2019</td>\n",
       "    </tr>\n",
       "    <tr>\n",
       "      <th>3</th>\n",
       "      <td>44900</td>\n",
       "      <td>14.67</td>\n",
       "      <td>1798</td>\n",
       "      <td>17746</td>\n",
       "      <td>3.178054</td>\n",
       "      <td>Comprehensive</td>\n",
       "      <td>Petrol</td>\n",
       "      <td>5</td>\n",
       "      <td>Automatic</td>\n",
       "      <td>2019</td>\n",
       "    </tr>\n",
       "    <tr>\n",
       "      <th>4</th>\n",
       "      <td>42000</td>\n",
       "      <td>18.70</td>\n",
       "      <td>1199</td>\n",
       "      <td>887</td>\n",
       "      <td>1.695616</td>\n",
       "      <td>Third Party insurance</td>\n",
       "      <td>Petrol</td>\n",
       "      <td>5</td>\n",
       "      <td>Manual</td>\n",
       "      <td>2017</td>\n",
       "    </tr>\n",
       "  </tbody>\n",
       "</table>\n",
       "</div>"
      ],
      "text/plain": [
       "   kms_driven  mileage(kmpl)  engine(cc)  torque(Nm)     price  \\\n",
       "0       30615          17.40         999        9863  2.196113   \n",
       "1       24000          20.68        1995         188  3.167583   \n",
       "2       18378          16.50        1353       13808  2.607124   \n",
       "3       44900          14.67        1798       17746  3.178054   \n",
       "4       42000          18.70        1199         887  1.695616   \n",
       "\n",
       "      insurance_validity fuel_type seats transmission manufacturing_year  \n",
       "0          Comprehensive    Petrol     5    Automatic               2020  \n",
       "1          Comprehensive    Diesel     5    Automatic               2018  \n",
       "2          Comprehensive    Petrol     5       Manual               2019  \n",
       "3          Comprehensive    Petrol     5    Automatic               2019  \n",
       "4  Third Party insurance    Petrol     5       Manual               2017  "
      ]
     },
     "execution_count": 28,
     "metadata": {},
     "output_type": "execute_result"
    }
   ],
   "source": [
    "# 종속변수 로그화\n",
    "\n",
    "df2['price'] = np.log(df2['price'])\n",
    "df2.head()\n"
   ]
  },
  {
   "cell_type": "code",
   "execution_count": null,
   "metadata": {},
   "outputs": [
    {
     "data": {
      "text/html": [
       "<div>\n",
       "<style scoped>\n",
       "    .dataframe tbody tr th:only-of-type {\n",
       "        vertical-align: middle;\n",
       "    }\n",
       "\n",
       "    .dataframe tbody tr th {\n",
       "        vertical-align: top;\n",
       "    }\n",
       "\n",
       "    .dataframe thead th {\n",
       "        text-align: right;\n",
       "    }\n",
       "</style>\n",
       "<table border=\"1\" class=\"dataframe\">\n",
       "  <thead>\n",
       "    <tr style=\"text-align: right;\">\n",
       "      <th></th>\n",
       "      <th>kms_driven</th>\n",
       "      <th>mileage(kmpl)</th>\n",
       "      <th>engine(cc)</th>\n",
       "      <th>torque(Nm)</th>\n",
       "      <th>price</th>\n",
       "    </tr>\n",
       "  </thead>\n",
       "  <tbody>\n",
       "    <tr>\n",
       "      <th>0</th>\n",
       "      <td>30615</td>\n",
       "      <td>17.40</td>\n",
       "      <td>999</td>\n",
       "      <td>9863</td>\n",
       "      <td>2.196113</td>\n",
       "    </tr>\n",
       "    <tr>\n",
       "      <th>1</th>\n",
       "      <td>24000</td>\n",
       "      <td>20.68</td>\n",
       "      <td>1995</td>\n",
       "      <td>188</td>\n",
       "      <td>3.167583</td>\n",
       "    </tr>\n",
       "    <tr>\n",
       "      <th>2</th>\n",
       "      <td>18378</td>\n",
       "      <td>16.50</td>\n",
       "      <td>1353</td>\n",
       "      <td>13808</td>\n",
       "      <td>2.607124</td>\n",
       "    </tr>\n",
       "    <tr>\n",
       "      <th>3</th>\n",
       "      <td>44900</td>\n",
       "      <td>14.67</td>\n",
       "      <td>1798</td>\n",
       "      <td>17746</td>\n",
       "      <td>3.178054</td>\n",
       "    </tr>\n",
       "    <tr>\n",
       "      <th>4</th>\n",
       "      <td>42000</td>\n",
       "      <td>18.70</td>\n",
       "      <td>1199</td>\n",
       "      <td>887</td>\n",
       "      <td>1.695616</td>\n",
       "    </tr>\n",
       "  </tbody>\n",
       "</table>\n",
       "</div>"
      ],
      "text/plain": [
       "   kms_driven  mileage(kmpl)  engine(cc)  torque(Nm)     price\n",
       "0       30615          17.40         999        9863  2.196113\n",
       "1       24000          20.68        1995         188  3.167583\n",
       "2       18378          16.50        1353       13808  2.607124\n",
       "3       44900          14.67        1798       17746  3.178054\n",
       "4       42000          18.70        1199         887  1.695616"
      ]
     },
     "execution_count": 30,
     "metadata": {},
     "output_type": "execute_result"
    }
   ],
   "source": [
    "# 연속형 변수만 가지고 회귀분석\n",
    "df_con = df2[['kms_driven','mileage(kmpl)','engine(cc)','torque(Nm)','price']]\n",
    "df_con.head()"
   ]
  },
  {
   "cell_type": "code",
   "execution_count": null,
   "metadata": {},
   "outputs": [
    {
     "name": "stdout",
     "output_type": "stream",
     "text": [
      "+----+--------------+-----------------+--------------+--------------+---------+\n",
      "|    |   kms_driven |   mileage(kmpl) |   engine(cc) |   torque(Nm) |   price |\n",
      "|----+--------------+-----------------+--------------+--------------+---------|\n",
      "|  0 |    -0.861821 |       -0.498266 |     -1.11442 |     0.891339 | 2.19611 |\n",
      "|  1 |     -1.10822 |        0.496354 |      1.42083 |    -0.945554 | 3.16758 |\n",
      "|  2 |     -1.31763 |        -0.77118 |    -0.213337 |      1.64034 | 2.60712 |\n",
      "|  3 |    -0.329731 |        -1.32611 |      0.91938 |        2.388 | 3.17805 |\n",
      "|  4 |    -0.437751 |       -0.104057 |    -0.605333 |    -0.812842 | 1.69562 |\n",
      "+----+--------------+-----------------+--------------+--------------+---------+\n"
     ]
    }
   ],
   "source": [
    "std_df = my_standard_scaler(df_con, yname='price')\n",
    "my_pretty_table(std_df.head())"
   ]
  },
  {
   "cell_type": "code",
   "execution_count": null,
   "metadata": {},
   "outputs": [
    {
     "data": {
      "text/plain": [
       "((649, 4), (649,), (163, 4), (163,))"
      ]
     },
     "execution_count": 32,
     "metadata": {},
     "output_type": "execute_result"
    }
   ],
   "source": [
    "x_train, x_test, y_train, y_test = my_train_test_split(std_df, yname='price',test_size=0.2 )\n",
    "x_train.shape, y_train.shape, x_test.shape, y_test.shape"
   ]
  },
  {
   "cell_type": "code",
   "execution_count": null,
   "metadata": {},
   "outputs": [
    {
     "name": "stdout",
     "output_type": "stream",
     "text": [
      "[회귀식]\n",
      "price = -0.169 * kms_driven + 0.026 * mileage(kmpl) + 0.413 * engine(cc) + 0.128 * torque(Nm) + 1.955\n",
      "\n",
      "[회귀분석 성능평가]\n",
      "+--------+----------------+---------------------+---------------------+------------------+---------------------------------+-----------------------+\n",
      "|        |   결정계수(R2) |   평균절대오차(MAE) |   평균제곱오차(MSE) |   평균오차(RMSE) |   평균 절대 백분오차 비율(MAPE) |   평균 비율 오차(MPE) |\n",
      "|--------+----------------+---------------------+---------------------+------------------+---------------------------------+-----------------------|\n",
      "| 데이터 |       0.609218 |             0.28416 |             0.13522 |         0.367723 |                         17.0942 |               -7.2112 |\n",
      "+--------+----------------+---------------------+---------------------+------------------+---------------------------------+-----------------------+\n",
      "\n",
      "[선형회귀분석 결과보고]\n",
      "+----+------------+---------------+--------------------+------------+------------------+--------+------------+---------+\n",
      "|    | 종속변수   | 독립변수      |   B(비표준화 계수) |   표준오차 |   β(표준화 계수) |      t |   유의확률 |     VIF |\n",
      "|----+------------+---------------+--------------------+------------+------------------+--------+------------+---------|\n",
      "|  0 | price      | kms_driven    |            -0.1693 |      0.031 |           -0.252 | -5.385 |          0 | 1.05266 |\n",
      "|  1 | price      | mileage(kmpl) |             0.0262 |      0.037 |           -0.004 |  0.706 |      0.482 | 1.54305 |\n",
      "|  2 | price      | engine(cc)    |              0.413 |      0.039 |             0.71 | 10.513 |          0 | 1.63611 |\n",
      "|  3 | price      | torque(Nm)    |             0.1281 |      0.029 |            0.164 |  4.373 |          0 | 1.07831 |\n",
      "+----+------------+---------------+--------------------+------------+------------------+--------+------------+---------+\n",
      "\n",
      "𝑅^2(0.609), Adj.𝑅^2(0.599), F(61.579), P-value(1.11e-16), Durbin-Watson(1.880)\n",
      "\n",
      "price에 대하여 kms_driven,mileage(kmpl),engine(cc),torque(Nm)로 예측하는 회귀분석을 실시한 결과,\n",
      "이 회귀모형은 통계적으로 유의하다(F(4,158) = 61.579, p <= 0.05).\n",
      "\n",
      "kms_driven의 회귀계수는 -0.169(p <= 0.05)로, price에 대하여 유의미한 예측변인인 것으로 나타났다.\n",
      "mileage(kmpl)의 회귀계수는 0.026(p > 0.05)로, price에 대하여 유의하지 않은 예측변인인 것으로 나타났다.\n",
      "engine(cc)의 회귀계수는 0.413(p <= 0.05)로, price에 대하여 유의미한 예측변인인 것으로 나타났다.\n",
      "torque(Nm)의 회귀계수는 0.128(p <= 0.05)로, price에 대하여 유의미한 예측변인인 것으로 나타났다.\n"
     ]
    },
    {
     "data": {
      "text/html": [
       "<style>#sk-container-id-1 {color: black;}#sk-container-id-1 pre{padding: 0;}#sk-container-id-1 div.sk-toggleable {background-color: white;}#sk-container-id-1 label.sk-toggleable__label {cursor: pointer;display: block;width: 100%;margin-bottom: 0;padding: 0.3em;box-sizing: border-box;text-align: center;}#sk-container-id-1 label.sk-toggleable__label-arrow:before {content: \"▸\";float: left;margin-right: 0.25em;color: #696969;}#sk-container-id-1 label.sk-toggleable__label-arrow:hover:before {color: black;}#sk-container-id-1 div.sk-estimator:hover label.sk-toggleable__label-arrow:before {color: black;}#sk-container-id-1 div.sk-toggleable__content {max-height: 0;max-width: 0;overflow: hidden;text-align: left;background-color: #f0f8ff;}#sk-container-id-1 div.sk-toggleable__content pre {margin: 0.2em;color: black;border-radius: 0.25em;background-color: #f0f8ff;}#sk-container-id-1 input.sk-toggleable__control:checked~div.sk-toggleable__content {max-height: 200px;max-width: 100%;overflow: auto;}#sk-container-id-1 input.sk-toggleable__control:checked~label.sk-toggleable__label-arrow:before {content: \"▾\";}#sk-container-id-1 div.sk-estimator input.sk-toggleable__control:checked~label.sk-toggleable__label {background-color: #d4ebff;}#sk-container-id-1 div.sk-label input.sk-toggleable__control:checked~label.sk-toggleable__label {background-color: #d4ebff;}#sk-container-id-1 input.sk-hidden--visually {border: 0;clip: rect(1px 1px 1px 1px);clip: rect(1px, 1px, 1px, 1px);height: 1px;margin: -1px;overflow: hidden;padding: 0;position: absolute;width: 1px;}#sk-container-id-1 div.sk-estimator {font-family: monospace;background-color: #f0f8ff;border: 1px dotted black;border-radius: 0.25em;box-sizing: border-box;margin-bottom: 0.5em;}#sk-container-id-1 div.sk-estimator:hover {background-color: #d4ebff;}#sk-container-id-1 div.sk-parallel-item::after {content: \"\";width: 100%;border-bottom: 1px solid gray;flex-grow: 1;}#sk-container-id-1 div.sk-label:hover label.sk-toggleable__label {background-color: #d4ebff;}#sk-container-id-1 div.sk-serial::before {content: \"\";position: absolute;border-left: 1px solid gray;box-sizing: border-box;top: 0;bottom: 0;left: 50%;z-index: 0;}#sk-container-id-1 div.sk-serial {display: flex;flex-direction: column;align-items: center;background-color: white;padding-right: 0.2em;padding-left: 0.2em;position: relative;}#sk-container-id-1 div.sk-item {position: relative;z-index: 1;}#sk-container-id-1 div.sk-parallel {display: flex;align-items: stretch;justify-content: center;background-color: white;position: relative;}#sk-container-id-1 div.sk-item::before, #sk-container-id-1 div.sk-parallel-item::before {content: \"\";position: absolute;border-left: 1px solid gray;box-sizing: border-box;top: 0;bottom: 0;left: 50%;z-index: -1;}#sk-container-id-1 div.sk-parallel-item {display: flex;flex-direction: column;z-index: 1;position: relative;background-color: white;}#sk-container-id-1 div.sk-parallel-item:first-child::after {align-self: flex-end;width: 50%;}#sk-container-id-1 div.sk-parallel-item:last-child::after {align-self: flex-start;width: 50%;}#sk-container-id-1 div.sk-parallel-item:only-child::after {width: 0;}#sk-container-id-1 div.sk-dashed-wrapped {border: 1px dashed gray;margin: 0 0.4em 0.5em 0.4em;box-sizing: border-box;padding-bottom: 0.4em;background-color: white;}#sk-container-id-1 div.sk-label label {font-family: monospace;font-weight: bold;display: inline-block;line-height: 1.2em;}#sk-container-id-1 div.sk-label-container {text-align: center;}#sk-container-id-1 div.sk-container {/* jupyter's `normalize.less` sets `[hidden] { display: none; }` but bootstrap.min.css set `[hidden] { display: none !important; }` so we also need the `!important` here to be able to override the default hidden behavior on the sphinx rendered scikit-learn.org. See: https://github.com/scikit-learn/scikit-learn/issues/21755 */display: inline-block !important;position: relative;}#sk-container-id-1 div.sk-text-repr-fallback {display: none;}</style><div id=\"sk-container-id-1\" class=\"sk-top-container\"><div class=\"sk-text-repr-fallback\"><pre>LinearRegression(n_jobs=-1)</pre><b>In a Jupyter environment, please rerun this cell to show the HTML representation or trust the notebook. <br />On GitHub, the HTML representation is unable to render, please try loading this page with nbviewer.org.</b></div><div class=\"sk-container\" hidden><div class=\"sk-item\"><div class=\"sk-estimator sk-toggleable\"><input class=\"sk-toggleable__control sk-hidden--visually\" id=\"sk-estimator-id-1\" type=\"checkbox\" checked><label for=\"sk-estimator-id-1\" class=\"sk-toggleable__label sk-toggleable__label-arrow\">LinearRegression</label><div class=\"sk-toggleable__content\"><pre>LinearRegression(n_jobs=-1)</pre></div></div></div></div></div>"
      ],
      "text/plain": [
       "LinearRegression(n_jobs=-1)"
      ]
     },
     "execution_count": 33,
     "metadata": {},
     "output_type": "execute_result"
    }
   ],
   "source": [
    "my_linear_regrassion(x_train, y_train, x_test, y_test,use_plot=False,resid_test=False)"
   ]
  },
  {
   "cell_type": "code",
   "execution_count": null,
   "metadata": {},
   "outputs": [
    {
     "name": "stderr",
     "output_type": "stream",
     "text": [
      "c:\\Users\\Jihwan\\Desktop\\01Class\\helper\\plot.py:152: FutureWarning: \n",
      "\n",
      "Passing `palette` without assigning `hue` is deprecated and will be removed in v0.14.0. Assign the `x` variable to `hue` and set `legend=False` for the same effect.\n",
      "\n",
      "  sb.countplot(data=df, x=xname, hue=hue, palette=palette, order=sort)\n"
     ]
    },
    {
     "data": {
      "image/png": "[encoded data removed]",
      "text/plain": [
       "<Figure size 2000x800 with 1 Axes>"
      ]
     },
     "metadata": {},
     "output_type": "display_data"
    }
   ],
   "source": [
    "my_countplot(df,xname = 'manufacturing_year')"
   ]
  },
  {
   "cell_type": "markdown",
   "metadata": {},
   "source": [
    "> singular matrix 오류원인: manufacturing_year의 2007, 2009년의 sample 개수가 너무 적어서 \n",
    "> train, test 분리를 못해서 오류남, 2007,2009년 데이터 제거"
   ]
  },
  {
   "cell_type": "code",
   "execution_count": null,
   "metadata": {},
   "outputs": [],
   "source": [
    "df2 = df2[df2.manufacturing_year != 2007 ]\n",
    "df3 = df2[df2.manufacturing_year != 2009 ]"
   ]
  },
  {
   "cell_type": "code",
   "execution_count": null,
   "metadata": {},
   "outputs": [],
   "source": [
    "df3.to_excel('mana_2007-9제거.xlsx')"
   ]
  }
 ],
 "metadata": {
  "kernelspec": {
   "display_name": "Python 3",
   "language": "python",
   "name": "python3"
  },
  "language_info": {
   "codemirror_mode": {
    "name": "ipython",
    "version": 3
   },
   "file_extension": ".py",
   "mimetype": "text/x-python",
   "name": "python",
   "nbconvert_exporter": "python",
   "pygments_lexer": "ipython3",
   "version": "3.11.7"
  }
 },
 "nbformat": 4,
 "nbformat_minor": 2
}
