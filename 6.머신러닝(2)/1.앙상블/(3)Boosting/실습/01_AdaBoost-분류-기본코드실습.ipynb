{
 "cells": [
  {
   "cell_type": "markdown",
   "metadata": {},
   "source": [
    "# AdaBoost 분류 기본코드\n",
    "\n",
    "Adaptive Boost\n",
    "\n",
    "초기 모형을 약한 모형으로 설정하며 매 스탭마다 가중치를 이용하여 이전 모형의 약점을 보완하는 방식으로 새로운 모형을 순차적으로 학습하고 최종적으로 이들을 선형 결합하여 얻어진 모형을 생성하는 알고리즘\n",
    "\n",
    "## #01. 준비작업\n",
    "\n",
    "### [1] 패키지 가져오기\n"
   ]
  },
  {
   "cell_type": "code",
   "execution_count": 1,
   "metadata": {},
   "outputs": [
    {
     "name": "stdout",
     "output_type": "stream",
     "text": [
      "The autoreload extension is already loaded. To reload it, use:\n",
      "  %reload_ext autoreload\n"
     ]
    }
   ],
   "source": [
    "# 연결된 모듈이 업데이트 되면 즉시 자동 로드함\n",
    "%load_ext autoreload\n",
    "%autoreload 2\n",
    "\n",
    "from hossam.util import *\n",
    "from hossam.plot import *\n",
    "from hossam.analysis import *\n",
    "from hossam.classification import *\n",
    "\n",
    "# AdaBoost\n",
    "from sklearn.ensemble import AdaBoostClassifier"
   ]
  },
  {
   "cell_type": "markdown",
   "metadata": {},
   "source": [
    "## #02. 데이터 가져오기\n"
   ]
  },
  {
   "cell_type": "code",
   "execution_count": 2,
   "metadata": {},
   "outputs": [
    {
     "name": "stdout",
     "output_type": "stream",
     "text": [
      "\n",
      "상위 5개 행\n",
      "+----+---------------+-----------+-----------------+-----------------+-----------+-------+----------------------------+-------+-----------+\n",
      "|    |   Pregnancies |   Glucose |   BloodPressure |   SkinThickness |   Insulin |   BMI |   DiabetesPedigreeFunction |   Age |   Outcome |\n",
      "|----+---------------+-----------+-----------------+-----------------+-----------+-------+----------------------------+-------+-----------|\n",
      "|  0 |             6 |       148 |              72 |              35 |         0 |  33.6 |                      0.627 |    50 |         1 |\n",
      "|  1 |             1 |        85 |              66 |              29 |         0 |  26.6 |                      0.351 |    31 |         0 |\n",
      "|  2 |             8 |       183 |              64 |               0 |         0 |  23.3 |                      0.672 |    32 |         1 |\n",
      "|  3 |             1 |        89 |              66 |              23 |        94 |  28.1 |                      0.167 |    21 |         0 |\n",
      "|  4 |             0 |       137 |              40 |              35 |       168 |  43.1 |                      2.288 |    33 |         1 |\n",
      "+----+---------------+-----------+-----------------+-----------------+-----------+-------+----------------------------+-------+-----------+\n"
     ]
    }
   ],
   "source": [
    "origin = my_read_excel(\n",
    "    \"https://data.hossam.kr/mldata/pima_indians_diabetes.xlsx\",\n",
    "    categories=[\"Outcome\"],\n",
    "    info=False,\n",
    ")"
   ]
  },
  {
   "cell_type": "markdown",
   "metadata": {},
   "source": [
    "### [3] 전처리\n",
    "\n",
    "`0` 값을 포함해서는 안되는 변수에 대해 평균으로 대체\n"
   ]
  },
  {
   "cell_type": "code",
   "execution_count": 3,
   "metadata": {},
   "outputs": [
    {
     "name": "stdout",
     "output_type": "stream",
     "text": [
      "+----+---------------+-----------+-----------------+-----------------+-----------+-------+----------------------------+-------+-----------+\n",
      "|    |   Pregnancies |   Glucose |   BloodPressure |   SkinThickness |   Insulin |   BMI |   DiabetesPedigreeFunction |   Age |   Outcome |\n",
      "|----+---------------+-----------+-----------------+-----------------+-----------+-------+----------------------------+-------+-----------|\n",
      "|  0 |             6 |       148 |              72 |              35 |   155.548 |  33.6 |                      0.627 |    50 |         1 |\n",
      "|  1 |             1 |        85 |              66 |              29 |   155.548 |  26.6 |                      0.351 |    31 |         0 |\n",
      "|  2 |             8 |       183 |              64 |         29.1534 |   155.548 |  23.3 |                      0.672 |    32 |         1 |\n",
      "|  3 |             1 |        89 |              66 |              23 |        94 |  28.1 |                      0.167 |    21 |         0 |\n",
      "|  4 |             0 |       137 |              40 |              35 |       168 |  43.1 |                      2.288 |    33 |         1 |\n",
      "+----+---------------+-----------+-----------------+-----------------+-----------+-------+----------------------------+-------+-----------+\n"
     ]
    }
   ],
   "source": [
    "# 정제 대상 필드명\n",
    "zero_features = [\"Glucose\", \"BloodPressure\", \"SkinThickness\", \"Insulin\", \"BMI\"]\n",
    "\n",
    "# 0값을 결측치로 대체후 평균으로 다시 치환\n",
    "df = origin.copy()\n",
    "df[zero_features] = df[zero_features].replace(0, np.nan)\n",
    "df2 = my_replace_missing_value(df)\n",
    "\n",
    "my_pretty_table(df2.head())"
   ]
  },
  {
   "cell_type": "markdown",
   "metadata": {},
   "source": [
    "### [4] 훈련/검증 데이터 분할 및 데이터 표준화\n"
   ]
  },
  {
   "cell_type": "code",
   "execution_count": 4,
   "metadata": {},
   "outputs": [
    {
     "data": {
      "text/plain": [
       "((614, 8), (154, 8), (614,), (154,))"
      ]
     },
     "execution_count": 4,
     "metadata": {},
     "output_type": "execute_result"
    }
   ],
   "source": [
    "x_train, x_test, y_train, y_test = my_train_test_split(df2, \"Outcome\", scalling=True)\n",
    "x_train.shape, x_test.shape, y_train.shape, y_test.shape"
   ]
  },
  {
   "cell_type": "markdown",
   "metadata": {},
   "source": [
    "## #02. AdaBoost\n",
    "\n",
    "### [1] 부스팅에 사용할 최적의 알고리즘 선정\n"
   ]
  },
  {
   "cell_type": "code",
   "execution_count": 5,
   "metadata": {},
   "outputs": [
    {
     "name": "stdout",
     "output_type": "stream",
     "text": [
      "\u001b[91m가지치기를 하지 않습니다.\u001b[0m\n"
     ]
    }
   ],
   "source": [
    "estimator = my_classification(x_train, y_train, x_test, y_test,learning_curve=False)\n",
    "best_estimator = estimator['best']\n",
    "best_estimator"
   ]
  },
  {
   "cell_type": "markdown",
   "metadata": {},
   "source": [
    "### [2] AdaBoost 설정\n",
    "\n",
    "| 하이퍼 파라미터    | 기본값                | 설명                                        | 추천사항                           |\n",
    "|----------------|--------------------|-------------------------------------------|---------------------------------|\n",
    "| `base_estimator` | `None` (DecisionTreeClassifier) | 사용할 약한 학습기. `None` 시 최대 깊이 1의 결정 트리 사용. | 복잡도에 맞게 모델 선택 가능.        |\n",
    "| `n_estimators` | `50` | 약한 학습기의 최대 개수.                       | 과적합 주의하며 증가 가능.           |\n",
    "| `learning_rate` | `1.0` | 학습률.                                     | 낮은 학습률과 더 많은 학습기의 조합 권장. |\n",
    "| `algorithm` | `SAMME.R` | 부스팅 알고리즘. ( `SAMME` 또는 `SAMME.R` )          | `SAMME` 추천.                     |\n",
    "| `random_state` | `None` | 난수 시드.                                   | 재현 가능한 결과를 위해 설정.         |\n",
    "\n",
    ".\n",
    "\n",
    "> `algorithm` 의 경우 현재 버전에서는 `SAMME.R` 이 기본값이지만 다음 버전에서 이 값이 삭제될 것이라는 경고 메시지가 표시되므로 `SAMME` 를 추천함\n"
   ]
  },
  {
   "cell_type": "code",
   "execution_count": null,
   "metadata": {},
   "outputs": [
    {
     "ename": "NameError",
     "evalue": "name 'best_estimator' is not defined",
     "output_type": "error",
     "traceback": [
      "\u001b[1;31m---------------------------------------------------------------------------\u001b[0m",
      "\u001b[1;31mNameError\u001b[0m                                 Traceback (most recent call last)",
      "Cell \u001b[1;32mIn[3], line 2\u001b[0m\n\u001b[0;32m      1\u001b[0m ada \u001b[38;5;241m=\u001b[39m AdaBoostClassifier(\n\u001b[1;32m----> 2\u001b[0m     estimator\u001b[38;5;241m=\u001b[39m\u001b[43mbest_estimator\u001b[49m,\n\u001b[0;32m      3\u001b[0m     n_estimators\u001b[38;5;241m=\u001b[39m\u001b[38;5;241m100\u001b[39m,\n\u001b[0;32m      4\u001b[0m     learning_rate\u001b[38;5;241m=\u001b[39m\u001b[38;5;241m0.1\u001b[39m,\n\u001b[0;32m      5\u001b[0m     algorithm\u001b[38;5;241m=\u001b[39m\u001b[38;5;124m'\u001b[39m\u001b[38;5;124mSAMME\u001b[39m\u001b[38;5;124m'\u001b[39m,\n\u001b[0;32m      6\u001b[0m     random_state\u001b[38;5;241m=\u001b[39mget_random_state()    \n\u001b[0;32m      7\u001b[0m )\n\u001b[0;32m      9\u001b[0m ada\u001b[38;5;241m.\u001b[39mfit(x_train, y_train)\n\u001b[0;32m     11\u001b[0m my_classification_result(ada, x_train, y_train, x_test, y_test)\n",
      "\u001b[1;31mNameError\u001b[0m: name 'best_estimator' is not defined"
     ]
    }
   ],
   "source": [
    "ada = AdaBoostClassifier(\n",
    "    estimator=best_estimator,\n",
    "    n_estimators=100,\n",
    "    learning_rate=0.1,\n",
    "    algorithm='SAMME',\n",
    "    random_state=get_random_state()    \n",
    ")\n",
    "\n",
    "ada.fit(x_train, y_train)\n",
    "\n",
    "my_classification_result(ada, x_train, y_train, x_test, y_test)\n",
    "my_classification_report(ada, x_train, y_train, x_test, y_test)"
   ]
  },
  {
   "cell_type": "markdown",
   "metadata": {},
   "source": []
  },
  {
   "cell_type": "code",
   "execution_count": null,
   "metadata": {},
   "outputs": [],
   "source": []
  }
 ],
 "metadata": {
  "kernelspec": {
   "display_name": "Python 3",
   "language": "python",
   "name": "python3"
  },
  "language_info": {
   "codemirror_mode": {
    "name": "ipython",
    "version": 3
   },
   "file_extension": ".py",
   "mimetype": "text/x-python",
   "name": "python",
   "nbconvert_exporter": "python",
   "pygments_lexer": "ipython3",
   "version": "3.11.8"
  }
 },
 "nbformat": 4,
 "nbformat_minor": 2
}
