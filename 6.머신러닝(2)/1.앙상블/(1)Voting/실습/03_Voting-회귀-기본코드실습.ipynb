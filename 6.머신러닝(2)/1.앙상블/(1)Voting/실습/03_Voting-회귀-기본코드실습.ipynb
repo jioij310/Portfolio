{
 "cells": [
  {
   "cell_type": "markdown",
   "metadata": {},
   "source": [
    "# Voting (회귀) 기본코드\n",
    "\n",
    "## #01. 준비작업\n",
    "\n",
    "### [1] 패키지 가져오기"
   ]
  },
  {
   "cell_type": "code",
   "execution_count": 1,
   "metadata": {},
   "outputs": [
    {
     "name": "stdout",
     "output_type": "stream",
     "text": [
      "The autoreload extension is already loaded. To reload it, use:\n",
      "  %reload_ext autoreload\n"
     ]
    }
   ],
   "source": [
    "# 연결된 모듈이 업데이트 되면 즉시 자동 로드함\n",
    "%load_ext autoreload\n",
    "%autoreload 2\n",
    "\n",
    "import warnings\n",
    "warnings.filterwarnings(action='ignore')\n",
    "\n",
    "from hossam.util import *\n",
    "from hossam.plot import *\n",
    "from hossam.analysis import *\n",
    "from hossam.regression import *\n",
    "\n",
    "# 보팅 회귀\n",
    "from sklearn.ensemble import VotingRegressor\n",
    "\n",
    "# 회귀모형 클래스\n",
    "from sklearn.linear_model import LinearRegression, Ridge, Lasso\n",
    "from sklearn.neighbors import KNeighborsRegressor\n",
    "from sklearn.tree import DecisionTreeRegressor\n",
    "from sklearn.svm import SVR\n",
    "from sklearn.linear_model import SGDRegressor"
   ]
  },
  {
   "cell_type": "markdown",
   "metadata": {},
   "source": [
    "### [2] 데이터 가져오기"
   ]
  },
  {
   "cell_type": "code",
   "execution_count": 2,
   "metadata": {},
   "outputs": [
    {
     "name": "stdout",
     "output_type": "stream",
     "text": [
      "<class 'pandas.core.frame.DataFrame'>\n",
      "RangeIndex: 506 entries, 0 to 505\n",
      "Data columns (total 14 columns):\n",
      " #   Column   Non-Null Count  Dtype  \n",
      "---  ------   --------------  -----  \n",
      " 0   CRIM     506 non-null    float64\n",
      " 1   ZN       506 non-null    float64\n",
      " 2   INDUS    506 non-null    float64\n",
      " 3   CHAS     506 non-null    int64  \n",
      " 4   NOX      506 non-null    float64\n",
      " 5   RM       506 non-null    float64\n",
      " 6   AGE      506 non-null    float64\n",
      " 7   DIS      506 non-null    float64\n",
      " 8   RAD      506 non-null    int64  \n",
      " 9   TAX      506 non-null    int64  \n",
      " 10  PTRATIO  506 non-null    float64\n",
      " 11  B        506 non-null    float64\n",
      " 12  LSTAT    506 non-null    float64\n",
      " 13  MEDV     506 non-null    float64\n",
      "dtypes: float64(11), int64(3)\n",
      "memory usage: 55.5 KB\n",
      "None\n",
      "\n",
      "상위 5개 행\n",
      "+----+---------+------+---------+--------+-------+-------+-------+--------+-------+-------+-----------+--------+---------+--------+\n",
      "|    |    CRIM |   ZN |   INDUS |   CHAS |   NOX |    RM |   AGE |    DIS |   RAD |   TAX |   PTRATIO |      B |   LSTAT |   MEDV |\n",
      "|----+---------+------+---------+--------+-------+-------+-------+--------+-------+-------+-----------+--------+---------+--------|\n",
      "|  0 | 0.00632 |   18 |    2.31 |      0 | 0.538 | 6.575 |  65.2 |   4.09 |     1 |   296 |      15.3 |  396.9 |    4.98 |     24 |\n",
      "|  1 | 0.02731 |    0 |    7.07 |      0 | 0.469 | 6.421 |  78.9 | 4.9671 |     2 |   242 |      17.8 |  396.9 |    9.14 |   21.6 |\n",
      "|  2 | 0.02729 |    0 |    7.07 |      0 | 0.469 | 7.185 |  61.1 | 4.9671 |     2 |   242 |      17.8 | 392.83 |    4.03 |   34.7 |\n",
      "|  3 | 0.03237 |    0 |    2.18 |      0 | 0.458 | 6.998 |  45.8 | 6.0622 |     3 |   222 |      18.7 | 394.63 |    2.94 |   33.4 |\n",
      "|  4 | 0.06905 |    0 |    2.18 |      0 | 0.458 | 7.147 |  54.2 | 6.0622 |     3 |   222 |      18.7 |  396.9 |    5.33 |   36.2 |\n",
      "+----+---------+------+---------+--------+-------+-------+-------+--------+-------+-------+-----------+--------+---------+--------+\n",
      "\n",
      "하위 5개 행\n",
      "+-----+---------+------+---------+--------+-------+-------+-------+--------+-------+-------+-----------+--------+---------+--------+\n",
      "|     |    CRIM |   ZN |   INDUS |   CHAS |   NOX |    RM |   AGE |    DIS |   RAD |   TAX |   PTRATIO |      B |   LSTAT |   MEDV |\n",
      "|-----+---------+------+---------+--------+-------+-------+-------+--------+-------+-------+-----------+--------+---------+--------|\n",
      "| 501 | 0.06263 |    0 |   11.93 |      0 | 0.573 | 6.593 |  69.1 | 2.4786 |     1 |   273 |        21 | 391.99 |    9.67 |   22.4 |\n",
      "| 502 | 0.04527 |    0 |   11.93 |      0 | 0.573 |  6.12 |  76.7 | 2.2875 |     1 |   273 |        21 |  396.9 |    9.08 |   20.6 |\n",
      "| 503 | 0.06076 |    0 |   11.93 |      0 | 0.573 | 6.976 |    91 | 2.1675 |     1 |   273 |        21 |  396.9 |    5.64 |   23.9 |\n",
      "| 504 | 0.10959 |    0 |   11.93 |      0 | 0.573 | 6.794 |  89.3 | 2.3889 |     1 |   273 |        21 | 393.45 |    6.48 |     22 |\n",
      "| 505 | 0.04741 |    0 |   11.93 |      0 | 0.573 |  6.03 |  80.8 |  2.505 |     1 |   273 |        21 |  396.9 |    7.88 |   11.9 |\n",
      "+-----+---------+------+---------+--------+-------+-------+-------+--------+-------+-------+-----------+--------+---------+--------+\n",
      "\n",
      "기술통계\n",
      "+---------+---------+----------+----------+---------+----------+---------+---------+---------+-------+\n",
      "|         |   count |     mean |      std |     min |      25% |     50% |     75% |     max |   nan |\n",
      "|---------+---------+----------+----------+---------+----------+---------+---------+---------+-------|\n",
      "| CRIM    |     506 |  3.61352 |  8.60155 | 0.00632 | 0.082045 | 0.25651 | 3.67708 | 88.9762 |     0 |\n",
      "| ZN      |     506 |  11.3636 |  23.3225 |       0 |        0 |       0 |    12.5 |     100 |     0 |\n",
      "| INDUS   |     506 |  11.1368 |  6.86035 |    0.46 |     5.19 |    9.69 |    18.1 |   27.74 |     0 |\n",
      "| CHAS    |     506 |  0.06917 | 0.253994 |       0 |        0 |       0 |       0 |       1 |     0 |\n",
      "| NOX     |     506 | 0.554695 | 0.115878 |   0.385 |    0.449 |   0.538 |   0.624 |   0.871 |     0 |\n",
      "| RM      |     506 |  6.28463 | 0.702617 |   3.561 |   5.8855 |  6.2085 |  6.6235 |    8.78 |     0 |\n",
      "| AGE     |     506 |  68.5749 |  28.1489 |     2.9 |   45.025 |    77.5 |  94.075 |     100 |     0 |\n",
      "| DIS     |     506 |  3.79504 |  2.10571 |  1.1296 |  2.10018 | 3.20745 | 5.18843 | 12.1265 |     0 |\n",
      "| RAD     |     506 |  9.54941 |  8.70726 |       1 |        4 |       5 |      24 |      24 |     0 |\n",
      "| TAX     |     506 |  408.237 |  168.537 |     187 |      279 |     330 |     666 |     711 |     0 |\n",
      "| PTRATIO |     506 |  18.4555 |  2.16495 |    12.6 |     17.4 |   19.05 |    20.2 |      22 |     0 |\n",
      "| B       |     506 |  356.674 |  91.2949 |    0.32 |  375.377 |  391.44 | 396.225 |   396.9 |     0 |\n",
      "| LSTAT   |     506 |  12.6531 |  7.14106 |    1.73 |     6.95 |   11.36 |  16.955 |   37.97 |     0 |\n",
      "| MEDV    |     506 |  22.5328 |   9.1971 |       5 |   17.025 |    21.2 |      25 |      50 |     0 |\n",
      "+---------+---------+----------+----------+---------+----------+---------+---------+---------+-------+\n"
     ]
    }
   ],
   "source": [
    "origin = my_read_excel(\"https://data.hossam.kr/mldata/boston.xlsx\")"
   ]
  },
  {
   "cell_type": "markdown",
   "metadata": {},
   "source": [
    "## #02. 데이터 전처리\n",
    "\n",
    "### [1] 훈련/검증 데이터 분할 및 데이터 표준화"
   ]
  },
  {
   "cell_type": "code",
   "execution_count": 3,
   "metadata": {},
   "outputs": [
    {
     "data": {
      "text/plain": [
       "((404, 13), (102, 13), (404,), (102,))"
      ]
     },
     "execution_count": 3,
     "metadata": {},
     "output_type": "execute_result"
    }
   ],
   "source": [
    "x_train , x_test, y_train, y_test = my_train_test_split(origin, 'MEDV', scalling=True)\n",
    "x_train.shape, x_test.shape, y_train.shape, y_test.shape"
   ]
  },
  {
   "cell_type": "markdown",
   "metadata": {},
   "source": [
    "## #03. 기본 Voting\n",
    "\n",
    "### [1] Voting에 참여시킬 개별 알고리즘 객체 생성"
   ]
  },
  {
   "cell_type": "code",
   "execution_count": 6,
   "metadata": {},
   "outputs": [],
   "source": [
    "lrg = LinearRegression()\n",
    "rgr = Ridge()\n",
    "lsr = Lasso()\n",
    "knr = KNeighborsRegressor()\n",
    "dtr = DecisionTreeRegressor()\n",
    "svr = SVR()\n",
    "sgdr = SGDRegressor()"
   ]
  },
  {
   "cell_type": "markdown",
   "metadata": {},
   "source": [
    "### [2] 개별 모델을 앙상블 모델로 결합"
   ]
  },
  {
   "cell_type": "code",
   "execution_count": 7,
   "metadata": {},
   "outputs": [],
   "source": [
    "vo  =  VotingRegressor(\n",
    "    estimators = [('lrg', lrg), ('rgr', rgr), ('lsr', lsr), ('knr', knr), ('dtr', dtr), ('svr', svr), ('sgdr', sgdr)],\n",
    "    n_jobs=-1)\n",
    "\n",
    "vo.fit(x_train, y_train)\n",
    "\n",
    "y_pred = vo.predict(X=x_test)"
   ]
  },
  {
   "cell_type": "markdown",
   "metadata": {},
   "source": [
    "### [3] 성능평가"
   ]
  },
  {
   "cell_type": "code",
   "execution_count": 8,
   "metadata": {},
   "outputs": [
    {
     "name": "stdout",
     "output_type": "stream",
     "text": [
      "[회귀분석 성능평가]\n",
      "+-------------------------------+--------------+--------------+\n",
      "|                               |   훈련데이터 |   검증데이터 |\n",
      "|-------------------------------+--------------+--------------|\n",
      "| 결정계수(R2)                  |     0.837024 |     0.780165 |\n",
      "| 평균절대오차(MAE)             |      2.41562 |      2.90172 |\n",
      "| 평균제곱오차(MSE)             |      13.7157 |      18.7552 |\n",
      "| 평균오차(RMSE)                |      3.70347 |      4.33073 |\n",
      "| 평균 절대 백분오차 비율(MAPE) |      11.3582 |      15.8491 |\n",
      "| 평균 비율 오차(MPE)           |     -2.50325 |     -5.66464 |\n",
      "+-------------------------------+--------------+--------------+\n",
      "\n",
      "[학습곡선]\n"
     ]
    },
    {
     "data": {
      "image/png": "[encoded data removed]",
      "text/plain": [
       "<Figure size 1000x500 with 1 Axes>"
      ]
     },
     "metadata": {},
     "output_type": "display_data"
    }
   ],
   "source": [
    "my_regression_result(estimator=vo, x_train=x_train, y_train=y_train, x_test=x_test, y_test=y_test)"
   ]
  },
  {
   "cell_type": "markdown",
   "metadata": {},
   "source": [
    "### [4] 독립변수 보고"
   ]
  },
  {
   "cell_type": "code",
   "execution_count": 9,
   "metadata": {},
   "outputs": [
    {
     "name": "stdout",
     "output_type": "stream",
     "text": [
      "+----+------------+------------+---------+\n",
      "|    | 종속변수   | 독립변수   |     VIF |\n",
      "|----+------------+------------+---------|\n",
      "|  0 | MEDV       | CRIM       | 3.31189 |\n",
      "|  1 | MEDV       | ZN         | 3.19958 |\n",
      "|  2 | MEDV       | INDUS      | 4.74148 |\n",
      "|  3 | MEDV       | CHAS       | 1.13018 |\n",
      "|  4 | MEDV       | NOX        | 6.11484 |\n",
      "|  5 | MEDV       | RM         | 2.04028 |\n",
      "|  6 | MEDV       | AGE        | 3.15955 |\n",
      "|  7 | MEDV       | DIS        | 4.92998 |\n",
      "|  8 | MEDV       | RAD        | 10.6946 |\n",
      "|  9 | MEDV       | TAX        | 12.7292 |\n",
      "| 10 | MEDV       | PTRATIO    | 2.37277 |\n",
      "| 11 | MEDV       | B          | 1.39447 |\n",
      "| 12 | MEDV       | LSTAT      | 4.52044 |\n",
      "+----+------------+------------+---------+\n",
      "\n"
     ]
    }
   ],
   "source": [
    "my_regression_report(estimator=vo, x_train=x_train, y_train=y_train, x_test=x_test, y_test=y_test)"
   ]
  },
  {
   "cell_type": "code",
   "execution_count": null,
   "metadata": {},
   "outputs": [],
   "source": []
  },
  {
   "cell_type": "code",
   "execution_count": null,
   "metadata": {},
   "outputs": [],
   "source": []
  },
  {
   "cell_type": "code",
   "execution_count": null,
   "metadata": {},
   "outputs": [],
   "source": []
  }
 ],
 "metadata": {
  "kernelspec": {
   "display_name": "Python 3",
   "language": "python",
   "name": "python3"
  },
  "language_info": {
   "codemirror_mode": {
    "name": "ipython",
    "version": 3
   },
   "file_extension": ".py",
   "mimetype": "text/x-python",
   "name": "python",
   "nbconvert_exporter": "python",
   "pygments_lexer": "ipython3",
   "version": "3.11.7"
  }
 },
 "nbformat": 4,
 "nbformat_minor": 2
}
