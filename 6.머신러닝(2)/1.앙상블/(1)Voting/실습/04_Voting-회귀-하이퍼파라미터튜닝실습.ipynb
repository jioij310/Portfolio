{
 "cells": [
  {
   "cell_type": "markdown",
   "metadata": {},
   "source": [
    "# Voting (회귀) 하이퍼파라미터 튜닝\n",
    "\n",
    "## #01. 준비작업\n",
    "\n",
    "### [1] 패키지 가져오기"
   ]
  },
  {
   "cell_type": "code",
   "execution_count": 11,
   "metadata": {},
   "outputs": [
    {
     "name": "stdout",
     "output_type": "stream",
     "text": [
      "The autoreload extension is already loaded. To reload it, use:\n",
      "  %reload_ext autoreload\n"
     ]
    }
   ],
   "source": [
    "# 연결된 모듈이 업데이트 되면 즉시 자동 로드함\n",
    "%load_ext autoreload\n",
    "%autoreload 2\n",
    "\n",
    "import warnings\n",
    "warnings.filterwarnings(action='ignore')\n",
    "\n",
    "from hossam.core import *\n",
    "from hossam.util import *\n",
    "from hossam.plot import *\n",
    "from hossam.analysis import *\n",
    "from hossam.classification import *\n",
    "\n",
    "# 보팅 회귀\n",
    "from sklearn.ensemble import VotingRegressor\n",
    "\n",
    "# 회귀모형 클래스\n",
    "from sklearn.linear_model import LinearRegression, Ridge, Lasso\n",
    "from sklearn.neighbors import KNeighborsRegressor\n",
    "from sklearn.tree import DecisionTreeRegressor\n",
    "from sklearn.svm import SVR\n",
    "from sklearn.linear_model import SGDRegressor\n",
    "\n",
    "# 하이퍼파라미터 튜닝 객체\n",
    "from sklearn.model_selection import RandomizedSearchCV"
   ]
  },
  {
   "cell_type": "markdown",
   "metadata": {},
   "source": [
    "### #02. 데이터 가져오기"
   ]
  },
  {
   "cell_type": "code",
   "execution_count": 2,
   "metadata": {},
   "outputs": [
    {
     "name": "stdout",
     "output_type": "stream",
     "text": [
      "<class 'pandas.core.frame.DataFrame'>\n",
      "RangeIndex: 506 entries, 0 to 505\n",
      "Data columns (total 14 columns):\n",
      " #   Column   Non-Null Count  Dtype  \n",
      "---  ------   --------------  -----  \n",
      " 0   CRIM     506 non-null    float64\n",
      " 1   ZN       506 non-null    float64\n",
      " 2   INDUS    506 non-null    float64\n",
      " 3   CHAS     506 non-null    int64  \n",
      " 4   NOX      506 non-null    float64\n",
      " 5   RM       506 non-null    float64\n",
      " 6   AGE      506 non-null    float64\n",
      " 7   DIS      506 non-null    float64\n",
      " 8   RAD      506 non-null    int64  \n",
      " 9   TAX      506 non-null    int64  \n",
      " 10  PTRATIO  506 non-null    float64\n",
      " 11  B        506 non-null    float64\n",
      " 12  LSTAT    506 non-null    float64\n",
      " 13  MEDV     506 non-null    float64\n",
      "dtypes: float64(11), int64(3)\n",
      "memory usage: 55.5 KB\n",
      "None\n",
      "\n",
      "상위 5개 행\n",
      "+----+---------+------+---------+--------+-------+-------+-------+--------+-------+-------+-----------+--------+---------+--------+\n",
      "|    |    CRIM |   ZN |   INDUS |   CHAS |   NOX |    RM |   AGE |    DIS |   RAD |   TAX |   PTRATIO |      B |   LSTAT |   MEDV |\n",
      "|----+---------+------+---------+--------+-------+-------+-------+--------+-------+-------+-----------+--------+---------+--------|\n",
      "|  0 | 0.00632 |   18 |    2.31 |      0 | 0.538 | 6.575 |  65.2 |   4.09 |     1 |   296 |      15.3 |  396.9 |    4.98 |     24 |\n",
      "|  1 | 0.02731 |    0 |    7.07 |      0 | 0.469 | 6.421 |  78.9 | 4.9671 |     2 |   242 |      17.8 |  396.9 |    9.14 |   21.6 |\n",
      "|  2 | 0.02729 |    0 |    7.07 |      0 | 0.469 | 7.185 |  61.1 | 4.9671 |     2 |   242 |      17.8 | 392.83 |    4.03 |   34.7 |\n",
      "|  3 | 0.03237 |    0 |    2.18 |      0 | 0.458 | 6.998 |  45.8 | 6.0622 |     3 |   222 |      18.7 | 394.63 |    2.94 |   33.4 |\n",
      "|  4 | 0.06905 |    0 |    2.18 |      0 | 0.458 | 7.147 |  54.2 | 6.0622 |     3 |   222 |      18.7 |  396.9 |    5.33 |   36.2 |\n",
      "+----+---------+------+---------+--------+-------+-------+-------+--------+-------+-------+-----------+--------+---------+--------+\n",
      "\n",
      "하위 5개 행\n",
      "+-----+---------+------+---------+--------+-------+-------+-------+--------+-------+-------+-----------+--------+---------+--------+\n",
      "|     |    CRIM |   ZN |   INDUS |   CHAS |   NOX |    RM |   AGE |    DIS |   RAD |   TAX |   PTRATIO |      B |   LSTAT |   MEDV |\n",
      "|-----+---------+------+---------+--------+-------+-------+-------+--------+-------+-------+-----------+--------+---------+--------|\n",
      "| 501 | 0.06263 |    0 |   11.93 |      0 | 0.573 | 6.593 |  69.1 | 2.4786 |     1 |   273 |        21 | 391.99 |    9.67 |   22.4 |\n",
      "| 502 | 0.04527 |    0 |   11.93 |      0 | 0.573 |  6.12 |  76.7 | 2.2875 |     1 |   273 |        21 |  396.9 |    9.08 |   20.6 |\n",
      "| 503 | 0.06076 |    0 |   11.93 |      0 | 0.573 | 6.976 |    91 | 2.1675 |     1 |   273 |        21 |  396.9 |    5.64 |   23.9 |\n",
      "| 504 | 0.10959 |    0 |   11.93 |      0 | 0.573 | 6.794 |  89.3 | 2.3889 |     1 |   273 |        21 | 393.45 |    6.48 |     22 |\n",
      "| 505 | 0.04741 |    0 |   11.93 |      0 | 0.573 |  6.03 |  80.8 |  2.505 |     1 |   273 |        21 |  396.9 |    7.88 |   11.9 |\n",
      "+-----+---------+------+---------+--------+-------+-------+-------+--------+-------+-------+-----------+--------+---------+--------+\n",
      "\n",
      "기술통계\n",
      "+---------+---------+----------+----------+---------+----------+---------+---------+---------+-------+\n",
      "|         |   count |     mean |      std |     min |      25% |     50% |     75% |     max |   nan |\n",
      "|---------+---------+----------+----------+---------+----------+---------+---------+---------+-------|\n",
      "| CRIM    |     506 |  3.61352 |  8.60155 | 0.00632 | 0.082045 | 0.25651 | 3.67708 | 88.9762 |     0 |\n",
      "| ZN      |     506 |  11.3636 |  23.3225 |       0 |        0 |       0 |    12.5 |     100 |     0 |\n",
      "| INDUS   |     506 |  11.1368 |  6.86035 |    0.46 |     5.19 |    9.69 |    18.1 |   27.74 |     0 |\n",
      "| CHAS    |     506 |  0.06917 | 0.253994 |       0 |        0 |       0 |       0 |       1 |     0 |\n",
      "| NOX     |     506 | 0.554695 | 0.115878 |   0.385 |    0.449 |   0.538 |   0.624 |   0.871 |     0 |\n",
      "| RM      |     506 |  6.28463 | 0.702617 |   3.561 |   5.8855 |  6.2085 |  6.6235 |    8.78 |     0 |\n",
      "| AGE     |     506 |  68.5749 |  28.1489 |     2.9 |   45.025 |    77.5 |  94.075 |     100 |     0 |\n",
      "| DIS     |     506 |  3.79504 |  2.10571 |  1.1296 |  2.10018 | 3.20745 | 5.18843 | 12.1265 |     0 |\n",
      "| RAD     |     506 |  9.54941 |  8.70726 |       1 |        4 |       5 |      24 |      24 |     0 |\n",
      "| TAX     |     506 |  408.237 |  168.537 |     187 |      279 |     330 |     666 |     711 |     0 |\n",
      "| PTRATIO |     506 |  18.4555 |  2.16495 |    12.6 |     17.4 |   19.05 |    20.2 |      22 |     0 |\n",
      "| B       |     506 |  356.674 |  91.2949 |    0.32 |  375.377 |  391.44 | 396.225 |   396.9 |     0 |\n",
      "| LSTAT   |     506 |  12.6531 |  7.14106 |    1.73 |     6.95 |   11.36 |  16.955 |   37.97 |     0 |\n",
      "| MEDV    |     506 |  22.5328 |   9.1971 |       5 |   17.025 |    21.2 |      25 |      50 |     0 |\n",
      "+---------+---------+----------+----------+---------+----------+---------+---------+---------+-------+\n"
     ]
    }
   ],
   "source": [
    "origin = my_read_excel(\"https://data.hossam.kr/mldata/boston.xlsx\")"
   ]
  },
  {
   "cell_type": "markdown",
   "metadata": {},
   "source": [
    "## #02. 데이터 전처리\n",
    "\n",
    "[1] 훈련/검증 데이터 분할 및 데이터 표준화"
   ]
  },
  {
   "cell_type": "code",
   "execution_count": 3,
   "metadata": {},
   "outputs": [
    {
     "data": {
      "text/plain": [
       "((404, 13), (102, 13), (404,), (102,))"
      ]
     },
     "execution_count": 3,
     "metadata": {},
     "output_type": "execute_result"
    }
   ],
   "source": [
    "x_train, x_test, y_train, y_test = my_train_test_split(origin, 'MEDV', scalling=True)\n",
    "x_train.shape, x_test.shape, y_train.shape, y_test.shape"
   ]
  },
  {
   "cell_type": "markdown",
   "metadata": {},
   "source": [
    "## #03. 하이퍼파라미터 튜닝\n",
    "\n",
    "### [1] Voting에 참여시킬 개별 알고리즘 객체 생성"
   ]
  },
  {
   "cell_type": "code",
   "execution_count": 5,
   "metadata": {},
   "outputs": [
    {
     "data": {
      "text/plain": [
       "(LinearRegression(n_jobs=-1),\n",
       " Ridge(max_iter=1000, n_jobs=-1, random_state=1000),\n",
       " Lasso(n_jobs=-1, random_state=1000),\n",
       " KNeighborsRegressor(n_jobs=-1),\n",
       " DecisionTreeRegressor(random_state=1000),\n",
       " SVR(max_iter=1000, n_jobs=-1),\n",
       " SGDRegressor(early_stopping=True, random_state=1000))"
      ]
     },
     "execution_count": 5,
     "metadata": {},
     "output_type": "execute_result"
    }
   ],
   "source": [
    "lrg = get_estimator(classname=LinearRegression)\n",
    "rgr = get_estimator(classname=Ridge)\n",
    "lsr = get_estimator(classname=Lasso)\n",
    "knr = get_estimator(classname=KNeighborsRegressor)\n",
    "dtr = get_estimator(classname=DecisionTreeRegressor)\n",
    "# svr = get_estimator(classname=SVR)\n",
    "# sgdr = get_estimator(classname=SGDRegressor)\n",
    "\n",
    "lrg, rgr, lsr, knr, dtr, svr, sgdr"
   ]
  },
  {
   "cell_type": "markdown",
   "metadata": {},
   "source": [
    "### [2] 보팅 분류기 생성"
   ]
  },
  {
   "cell_type": "code",
   "execution_count": 6,
   "metadata": {},
   "outputs": [],
   "source": [
    "vo = VotingRegressor(\n",
    "    # 결합할 알고리즘의 리스트 (이름, 알고리즘객체) - 이름은 개발자가 마음대로 지정\n",
    "    #estimators=[('lrg', lrg), ('rgr', rgr), ('lsr', lsr), ('knr', knr), ('dtr', dtr), ('svr', svr), ('sgdr', sgdr)],\n",
    "    estimators=[('lrg', lrg), ('rgr', rgr), ('lsr', lsr), ('knr', knr), ('dtr', dtr)],\n",
    "    n_jobs=-1)"
   ]
  },
  {
   "cell_type": "markdown",
   "metadata": {},
   "source": [
    "### [3] 모듈을 통한 기본 하이퍼파라미터 가져오기"
   ]
  },
  {
   "cell_type": "code",
   "execution_count": 12,
   "metadata": {},
   "outputs": [
    {
     "data": {
      "text/plain": [
       "{'lrg__fit_intercept': [True, False]}"
      ]
     },
     "execution_count": 12,
     "metadata": {},
     "output_type": "execute_result"
    }
   ],
   "source": [
    "lr_params = get_hyper_params(classname=LinearRegression, key='lrg')\n",
    "lr_params"
   ]
  },
  {
   "cell_type": "code",
   "execution_count": 13,
   "metadata": {},
   "outputs": [
    {
     "data": {
      "text/plain": [
       "{'rgr__alpha': [0.001, 0.01, 0.1, 1, 10, 100],\n",
       " 'rgr__solver': ['auto',\n",
       "  'svd',\n",
       "  'cholesky',\n",
       "  'lsqr',\n",
       "  'sparse_cg',\n",
       "  'sag',\n",
       "  'saga']}"
      ]
     },
     "execution_count": 13,
     "metadata": {},
     "output_type": "execute_result"
    }
   ],
   "source": [
    "rgr_params = get_hyper_params(classname=Ridge, key='rgr')\n",
    "rgr_params"
   ]
  },
  {
   "cell_type": "code",
   "execution_count": 14,
   "metadata": {},
   "outputs": [
    {
     "data": {
      "text/plain": [
       "{'lsr__alpha': [0.001, 0.01, 0.1, 1, 10, 100],\n",
       " 'lsr__selection': ['cyclic', 'random']}"
      ]
     },
     "execution_count": 14,
     "metadata": {},
     "output_type": "execute_result"
    }
   ],
   "source": [
    "lsr_params = get_hyper_params(classname=Lasso, key='lsr')\n",
    "lsr_params"
   ]
  },
  {
   "cell_type": "code",
   "execution_count": 15,
   "metadata": {},
   "outputs": [
    {
     "data": {
      "text/plain": [
       "{'knr__n_neighbors': array([2, 3, 4, 5, 6, 7, 8, 9]),\n",
       " 'knr__weights': ['uniform', 'distance'],\n",
       " 'knr__metric': ['euclidean', 'manhattan', 'minkowski']}"
      ]
     },
     "execution_count": 15,
     "metadata": {},
     "output_type": "execute_result"
    }
   ],
   "source": [
    "knr_params = get_hyper_params(classname=KNeighborsRegressor, key='knr')\n",
    "knr_params"
   ]
  },
  {
   "cell_type": "code",
   "execution_count": 16,
   "metadata": {},
   "outputs": [
    {
     "data": {
      "text/plain": [
       "{'dtr__criterion': ['squared_error',\n",
       "  'friedman_mse',\n",
       "  'absolute_error',\n",
       "  'poisson'],\n",
       " 'dtr__splitter': ['best', 'random']}"
      ]
     },
     "execution_count": 16,
     "metadata": {},
     "output_type": "execute_result"
    }
   ],
   "source": [
    "dtr_params = get_hyper_params(classname=DecisionTreeRegressor, key='dtr')\n",
    "dtr_params"
   ]
  },
  {
   "cell_type": "markdown",
   "metadata": {},
   "source": [
    "### [4] Voting용 하이퍼 파라미터로 생성\n",
    "\n",
    "회귀를 위한 Voting의 경우 soft, hard를 구분하지 않는다."
   ]
  },
  {
   "cell_type": "code",
   "execution_count": 18,
   "metadata": {},
   "outputs": [
    {
     "data": {
      "text/plain": [
       "{'lrg__fit_intercept': [True, False],\n",
       " 'rgr__alpha': [0.001, 0.01, 0.1, 1, 10, 100],\n",
       " 'rgr__solver': ['auto',\n",
       "  'svd',\n",
       "  'cholesky',\n",
       "  'lsqr',\n",
       "  'sparse_cg',\n",
       "  'sag',\n",
       "  'saga'],\n",
       " 'lsr__alpha': [0.001, 0.01, 0.1, 1, 10, 100],\n",
       " 'lsr__selection': ['cyclic', 'random'],\n",
       " 'knr__n_neighbors': array([2, 3, 4, 5, 6, 7, 8, 9]),\n",
       " 'knr__weights': ['uniform', 'distance'],\n",
       " 'knr__metric': ['euclidean', 'manhattan', 'minkowski'],\n",
       " 'dtr__criterion': ['squared_error',\n",
       "  'friedman_mse',\n",
       "  'absolute_error',\n",
       "  'poisson'],\n",
       " 'dtr__splitter': ['best', 'random']}"
      ]
     },
     "execution_count": 18,
     "metadata": {},
     "output_type": "execute_result"
    }
   ],
   "source": [
    "params = {}\n",
    "params.update(lr_params)\n",
    "params.update(rgr_params)\n",
    "params.update(lsr_params)\n",
    "params.update(knr_params)\n",
    "params.update(dtr_params)\n",
    "params"
   ]
  },
  {
   "cell_type": "markdown",
   "metadata": {},
   "source": [
    "### [5] 하이퍼파라미터 튜닝"
   ]
  },
  {
   "cell_type": "code",
   "execution_count": null,
   "metadata": {},
   "outputs": [],
   "source": [
    "rcv = RandomizedSearchCV(\n",
    "    estimator=vo, \n",
    "    param_distributions=params, \n",
    "    n_iter=get_max_iter(), \n",
    "    n_jobs=get_n_jobs(),\n",
    "    random_state=get_random_state(), \n",
    "    cv=5)\n",
    "\n",
    "rcv.fit(x_train, y_train)\n",
    "\n",
    "result_df = DataFrame(rcv.cv_results_['params'])\n",
    "result_df['mean_test_score'] = rcv.cv_results_['mean_test_score']\n",
    "result_df.sort_values(by='mean_test_score', ascending=False)\n",
    "\n",
    "result_df"
   ]
  },
  {
   "cell_type": "markdown",
   "metadata": {},
   "source": [
    "### [6] 성능평가"
   ]
  },
  {
   "cell_type": "code",
   "execution_count": null,
   "metadata": {},
   "outputs": [],
   "source": []
  },
  {
   "cell_type": "markdown",
   "metadata": {},
   "source": [
    "## #04. 모듈화 기능 확인"
   ]
  }
 ],
 "metadata": {
  "kernelspec": {
   "display_name": "Python 3",
   "language": "python",
   "name": "python3"
  },
  "language_info": {
   "codemirror_mode": {
    "name": "ipython",
    "version": 3
   },
   "file_extension": ".py",
   "mimetype": "text/x-python",
   "name": "python",
   "nbconvert_exporter": "python",
   "pygments_lexer": "ipython3",
   "version": "3.11.7"
  }
 },
 "nbformat": 4,
 "nbformat_minor": 2
}
