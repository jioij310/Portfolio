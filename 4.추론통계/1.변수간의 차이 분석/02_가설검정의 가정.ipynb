{
 "cells": [
  {
   "cell_type": "markdown",
   "metadata": {},
   "source": [
    "# 가설검정의 가정\n",
    "\n",
    "가설검정을 수행하기 위해서는 데이터의 정규성, 등분산성, 독립성이 확인되어야 한다.\n",
    "\n",
    "일반적으로 데이터 수집 시에 독립성이 확보되므로 추가적인 검정이 필요하지 않을 수 있지만 정규성과 등분산성은 별도의 검정과정을 통해 확인해야 한다.\n",
    "\n",
    "## #01. 준비작업\n",
    "\n",
    "### [1] 패키지 참조"
   ]
  },
  {
   "cell_type": "code",
   "execution_count": 1,
   "metadata": {},
   "outputs": [],
   "source": [
    "import warnings\n",
    "warnings.filterwarnings(action='ignore')\n",
    "\n",
    "import sys\n",
    "import seaborn as sb\n",
    "from math import sqrt\n",
    "from matplotlib import pyplot as plt\n",
    "from pandas import read_excel\n",
    "from scipy.stats import t\n",
    "\n",
    "# 정규성 검정을 위한 라이브러리\n",
    "from scipy.stats import shapiro, skew, kurtosis, normaltest, bartlett, levene"
   ]
  },
  {
   "cell_type": "markdown",
   "metadata": {},
   "source": [
    "### [2] 그래프 초기화"
   ]
  },
  {
   "cell_type": "code",
   "execution_count": 2,
   "metadata": {},
   "outputs": [],
   "source": [
    "plt.rcParams['font.family']='AppleGothic' if sys.platform == 'darwin' else 'Malgun Gothic'\n",
    "plt.rcParams['font.size']=12\n",
    "plt.rcParams['figure.figsize']=(12,6)\n",
    "plt.rcParams['axes.unicode_minus']=False"
   ]
  },
  {
   "cell_type": "markdown",
   "metadata": {},
   "source": [
    "### [3] 데이터 가져오기\n",
    "\n",
    "동일한 제품을 판매하고 있는 서로 다른 두 지역의 매장의 100일간의 일별 매출액을 기록한 가상의 데이터이다.\n",
    "\n",
    "이 데이터를 사용하여 두 매장의 평균을 비교하라."
   ]
  },
  {
   "cell_type": "code",
   "execution_count": 18,
   "metadata": {},
   "outputs": [
    {
     "data": {
      "text/html": [
       "<div>\n",
       "<style scoped>\n",
       "    .dataframe tbody tr th:only-of-type {\n",
       "        vertical-align: middle;\n",
       "    }\n",
       "\n",
       "    .dataframe tbody tr th {\n",
       "        vertical-align: top;\n",
       "    }\n",
       "\n",
       "    .dataframe thead th {\n",
       "        text-align: right;\n",
       "    }\n",
       "</style>\n",
       "<table border=\"1\" class=\"dataframe\">\n",
       "  <thead>\n",
       "    <tr style=\"text-align: right;\">\n",
       "      <th></th>\n",
       "      <th>전국기준(단위:일)</th>\n",
       "      <th>Unnamed: 1</th>\n",
       "      <th>Unnamed: 2</th>\n",
       "      <th>Unnamed: 3</th>\n",
       "      <th>Unnamed: 4</th>\n",
       "    </tr>\n",
       "  </thead>\n",
       "  <tbody>\n",
       "    <tr>\n",
       "      <th>0</th>\n",
       "      <td>연도</td>\n",
       "      <td>호우일수</td>\n",
       "      <td>여름강수일수(단위:일)</td>\n",
       "      <td>평균 열대야 일수(단위:일)</td>\n",
       "      <td>여름철 평균기온(단위: 섭씨)</td>\n",
       "    </tr>\n",
       "    <tr>\n",
       "      <th>1</th>\n",
       "      <td>1974</td>\n",
       "      <td>5</td>\n",
       "      <td>36</td>\n",
       "      <td>1.7</td>\n",
       "      <td>22.4</td>\n",
       "    </tr>\n",
       "    <tr>\n",
       "      <th>2</th>\n",
       "      <td>1975</td>\n",
       "      <td>4</td>\n",
       "      <td>33.5</td>\n",
       "      <td>10</td>\n",
       "      <td>23.9</td>\n",
       "    </tr>\n",
       "    <tr>\n",
       "      <th>3</th>\n",
       "      <td>1976</td>\n",
       "      <td>5</td>\n",
       "      <td>41.2</td>\n",
       "      <td>3.7</td>\n",
       "      <td>22.6</td>\n",
       "    </tr>\n",
       "    <tr>\n",
       "      <th>4</th>\n",
       "      <td>1977</td>\n",
       "      <td>6</td>\n",
       "      <td>27</td>\n",
       "      <td>7.3</td>\n",
       "      <td>23.5</td>\n",
       "    </tr>\n",
       "    <tr>\n",
       "      <th>5</th>\n",
       "      <td>1978</td>\n",
       "      <td>5</td>\n",
       "      <td>41.8</td>\n",
       "      <td>15.8</td>\n",
       "      <td>24.7</td>\n",
       "    </tr>\n",
       "    <tr>\n",
       "      <th>6</th>\n",
       "      <td>1979</td>\n",
       "      <td>6</td>\n",
       "      <td>40</td>\n",
       "      <td>5.3</td>\n",
       "      <td>23.5</td>\n",
       "    </tr>\n",
       "    <tr>\n",
       "      <th>7</th>\n",
       "      <td>1980</td>\n",
       "      <td>7</td>\n",
       "      <td>45.8</td>\n",
       "      <td>0</td>\n",
       "      <td>22.1</td>\n",
       "    </tr>\n",
       "    <tr>\n",
       "      <th>8</th>\n",
       "      <td>1981</td>\n",
       "      <td>8</td>\n",
       "      <td>40</td>\n",
       "      <td>7.8</td>\n",
       "      <td>23.6</td>\n",
       "    </tr>\n",
       "    <tr>\n",
       "      <th>9</th>\n",
       "      <td>1982</td>\n",
       "      <td>9</td>\n",
       "      <td>31.2</td>\n",
       "      <td>4.2</td>\n",
       "      <td>23.4</td>\n",
       "    </tr>\n",
       "    <tr>\n",
       "      <th>10</th>\n",
       "      <td>1983</td>\n",
       "      <td>11</td>\n",
       "      <td>33.5</td>\n",
       "      <td>7.3</td>\n",
       "      <td>23.4</td>\n",
       "    </tr>\n",
       "    <tr>\n",
       "      <th>11</th>\n",
       "      <td>1984</td>\n",
       "      <td>8</td>\n",
       "      <td>36.7</td>\n",
       "      <td>12</td>\n",
       "      <td>24.3</td>\n",
       "    </tr>\n",
       "    <tr>\n",
       "      <th>12</th>\n",
       "      <td>1985</td>\n",
       "      <td>11</td>\n",
       "      <td>34.9</td>\n",
       "      <td>10.2</td>\n",
       "      <td>24.1</td>\n",
       "    </tr>\n",
       "    <tr>\n",
       "      <th>13</th>\n",
       "      <td>1986</td>\n",
       "      <td>6</td>\n",
       "      <td>39</td>\n",
       "      <td>2.5</td>\n",
       "      <td>22.9</td>\n",
       "    </tr>\n",
       "    <tr>\n",
       "      <th>14</th>\n",
       "      <td>1987</td>\n",
       "      <td>13</td>\n",
       "      <td>41.9</td>\n",
       "      <td>1</td>\n",
       "      <td>23.2</td>\n",
       "    </tr>\n",
       "    <tr>\n",
       "      <th>15</th>\n",
       "      <td>1988</td>\n",
       "      <td>6</td>\n",
       "      <td>33.1</td>\n",
       "      <td>3.5</td>\n",
       "      <td>23.6</td>\n",
       "    </tr>\n",
       "    <tr>\n",
       "      <th>16</th>\n",
       "      <td>1989</td>\n",
       "      <td>7</td>\n",
       "      <td>33.5</td>\n",
       "      <td>2.3</td>\n",
       "      <td>22.9</td>\n",
       "    </tr>\n",
       "    <tr>\n",
       "      <th>17</th>\n",
       "      <td>1990</td>\n",
       "      <td>10</td>\n",
       "      <td>37.3</td>\n",
       "      <td>10.5</td>\n",
       "      <td>24.3</td>\n",
       "    </tr>\n",
       "    <tr>\n",
       "      <th>18</th>\n",
       "      <td>1991</td>\n",
       "      <td>16</td>\n",
       "      <td>39</td>\n",
       "      <td>3.3</td>\n",
       "      <td>23.4</td>\n",
       "    </tr>\n",
       "    <tr>\n",
       "      <th>19</th>\n",
       "      <td>1992</td>\n",
       "      <td>8</td>\n",
       "      <td>30.4</td>\n",
       "      <td>5.5</td>\n",
       "      <td>23.2</td>\n",
       "    </tr>\n",
       "    <tr>\n",
       "      <th>20</th>\n",
       "      <td>1993</td>\n",
       "      <td>8</td>\n",
       "      <td>43.3</td>\n",
       "      <td>0</td>\n",
       "      <td>21.7</td>\n",
       "    </tr>\n",
       "    <tr>\n",
       "      <th>21</th>\n",
       "      <td>1994</td>\n",
       "      <td>4</td>\n",
       "      <td>23.7</td>\n",
       "      <td>31.8</td>\n",
       "      <td>25.3</td>\n",
       "    </tr>\n",
       "    <tr>\n",
       "      <th>22</th>\n",
       "      <td>1995</td>\n",
       "      <td>12</td>\n",
       "      <td>35</td>\n",
       "      <td>14.3</td>\n",
       "      <td>23.7</td>\n",
       "    </tr>\n",
       "    <tr>\n",
       "      <th>23</th>\n",
       "      <td>1996</td>\n",
       "      <td>6</td>\n",
       "      <td>35.3</td>\n",
       "      <td>12</td>\n",
       "      <td>23.5</td>\n",
       "    </tr>\n",
       "    <tr>\n",
       "      <th>24</th>\n",
       "      <td>1997</td>\n",
       "      <td>11</td>\n",
       "      <td>31.6</td>\n",
       "      <td>10</td>\n",
       "      <td>24</td>\n",
       "    </tr>\n",
       "    <tr>\n",
       "      <th>25</th>\n",
       "      <td>1998</td>\n",
       "      <td>20</td>\n",
       "      <td>47.8</td>\n",
       "      <td>6.2</td>\n",
       "      <td>23.1</td>\n",
       "    </tr>\n",
       "    <tr>\n",
       "      <th>26</th>\n",
       "      <td>1999</td>\n",
       "      <td>14</td>\n",
       "      <td>37.5</td>\n",
       "      <td>4</td>\n",
       "      <td>23.3</td>\n",
       "    </tr>\n",
       "    <tr>\n",
       "      <th>27</th>\n",
       "      <td>2000</td>\n",
       "      <td>8</td>\n",
       "      <td>37</td>\n",
       "      <td>10.3</td>\n",
       "      <td>24.2</td>\n",
       "    </tr>\n",
       "    <tr>\n",
       "      <th>28</th>\n",
       "      <td>2001</td>\n",
       "      <td>14</td>\n",
       "      <td>33.5</td>\n",
       "      <td>14</td>\n",
       "      <td>24.2</td>\n",
       "    </tr>\n",
       "    <tr>\n",
       "      <th>29</th>\n",
       "      <td>2002</td>\n",
       "      <td>8</td>\n",
       "      <td>37.8</td>\n",
       "      <td>5.3</td>\n",
       "      <td>23.1</td>\n",
       "    </tr>\n",
       "    <tr>\n",
       "      <th>30</th>\n",
       "      <td>2003</td>\n",
       "      <td>15</td>\n",
       "      <td>46.6</td>\n",
       "      <td>1.8</td>\n",
       "      <td>22.3</td>\n",
       "    </tr>\n",
       "    <tr>\n",
       "      <th>31</th>\n",
       "      <td>2004</td>\n",
       "      <td>12</td>\n",
       "      <td>34.6</td>\n",
       "      <td>7.3</td>\n",
       "      <td>24</td>\n",
       "    </tr>\n",
       "    <tr>\n",
       "      <th>32</th>\n",
       "      <td>2005</td>\n",
       "      <td>16</td>\n",
       "      <td>39</td>\n",
       "      <td>10</td>\n",
       "      <td>24.1</td>\n",
       "    </tr>\n",
       "    <tr>\n",
       "      <th>33</th>\n",
       "      <td>2006</td>\n",
       "      <td>15</td>\n",
       "      <td>41.6</td>\n",
       "      <td>14.3</td>\n",
       "      <td>23.6</td>\n",
       "    </tr>\n",
       "    <tr>\n",
       "      <th>34</th>\n",
       "      <td>2007</td>\n",
       "      <td>5</td>\n",
       "      <td>41.6</td>\n",
       "      <td>13.5</td>\n",
       "      <td>23.8</td>\n",
       "    </tr>\n",
       "    <tr>\n",
       "      <th>35</th>\n",
       "      <td>2008</td>\n",
       "      <td>14</td>\n",
       "      <td>38.8</td>\n",
       "      <td>10.8</td>\n",
       "      <td>23.7</td>\n",
       "    </tr>\n",
       "    <tr>\n",
       "      <th>36</th>\n",
       "      <td>2009</td>\n",
       "      <td>11</td>\n",
       "      <td>40.1</td>\n",
       "      <td>1.8</td>\n",
       "      <td>23.3</td>\n",
       "    </tr>\n",
       "    <tr>\n",
       "      <th>37</th>\n",
       "      <td>2010</td>\n",
       "      <td>17</td>\n",
       "      <td>44</td>\n",
       "      <td>19</td>\n",
       "      <td>24.9</td>\n",
       "    </tr>\n",
       "    <tr>\n",
       "      <th>38</th>\n",
       "      <td>2011</td>\n",
       "      <td>15</td>\n",
       "      <td>48.5</td>\n",
       "      <td>6.7</td>\n",
       "      <td>24</td>\n",
       "    </tr>\n",
       "    <tr>\n",
       "      <th>39</th>\n",
       "      <td>2012</td>\n",
       "      <td>15</td>\n",
       "      <td>38.3</td>\n",
       "      <td>19.3</td>\n",
       "      <td>24.7</td>\n",
       "    </tr>\n",
       "    <tr>\n",
       "      <th>40</th>\n",
       "      <td>2013</td>\n",
       "      <td>12</td>\n",
       "      <td>37.1</td>\n",
       "      <td>24.8</td>\n",
       "      <td>25.4</td>\n",
       "    </tr>\n",
       "    <tr>\n",
       "      <th>41</th>\n",
       "      <td>2014</td>\n",
       "      <td>5</td>\n",
       "      <td>43.9</td>\n",
       "      <td>5.2</td>\n",
       "      <td>23.6</td>\n",
       "    </tr>\n",
       "    <tr>\n",
       "      <th>42</th>\n",
       "      <td>2015</td>\n",
       "      <td>5</td>\n",
       "      <td>33.8</td>\n",
       "      <td>9.8</td>\n",
       "      <td>23.7</td>\n",
       "    </tr>\n",
       "    <tr>\n",
       "      <th>43</th>\n",
       "      <td>2016</td>\n",
       "      <td>14</td>\n",
       "      <td>31.5</td>\n",
       "      <td>23.8</td>\n",
       "      <td>24.8</td>\n",
       "    </tr>\n",
       "    <tr>\n",
       "      <th>44</th>\n",
       "      <td>2017</td>\n",
       "      <td>17</td>\n",
       "      <td>40.9</td>\n",
       "      <td>10.8</td>\n",
       "      <td>24.5</td>\n",
       "    </tr>\n",
       "    <tr>\n",
       "      <th>45</th>\n",
       "      <td>2018</td>\n",
       "      <td>13</td>\n",
       "      <td>27.1</td>\n",
       "      <td>17.7</td>\n",
       "      <td>25.4</td>\n",
       "    </tr>\n",
       "    <tr>\n",
       "      <th>46</th>\n",
       "      <td>2019</td>\n",
       "      <td>6</td>\n",
       "      <td>33.4</td>\n",
       "      <td>11</td>\n",
       "      <td>24.1</td>\n",
       "    </tr>\n",
       "    <tr>\n",
       "      <th>47</th>\n",
       "      <td>2020</td>\n",
       "      <td>18</td>\n",
       "      <td>45.8</td>\n",
       "      <td>8.3</td>\n",
       "      <td>24</td>\n",
       "    </tr>\n",
       "  </tbody>\n",
       "</table>\n",
       "</div>"
      ],
      "text/plain": [
       "   전국기준(단위:일) Unnamed: 1    Unnamed: 2       Unnamed: 3        Unnamed: 4\n",
       "0          연도       호우일수  여름강수일수(단위:일)  평균 열대야 일수(단위:일)  여름철 평균기온(단위: 섭씨)\n",
       "1        1974          5            36              1.7              22.4\n",
       "2        1975          4          33.5               10              23.9\n",
       "3        1976          5          41.2              3.7              22.6\n",
       "4        1977          6            27              7.3              23.5\n",
       "5        1978          5          41.8             15.8              24.7\n",
       "6        1979          6            40              5.3              23.5\n",
       "7        1980          7          45.8                0              22.1\n",
       "8        1981          8            40              7.8              23.6\n",
       "9        1982          9          31.2              4.2              23.4\n",
       "10       1983         11          33.5              7.3              23.4\n",
       "11       1984          8          36.7               12              24.3\n",
       "12       1985         11          34.9             10.2              24.1\n",
       "13       1986          6            39              2.5              22.9\n",
       "14       1987         13          41.9                1              23.2\n",
       "15       1988          6          33.1              3.5              23.6\n",
       "16       1989          7          33.5              2.3              22.9\n",
       "17       1990         10          37.3             10.5              24.3\n",
       "18       1991         16            39              3.3              23.4\n",
       "19       1992          8          30.4              5.5              23.2\n",
       "20       1993          8          43.3                0              21.7\n",
       "21       1994          4          23.7             31.8              25.3\n",
       "22       1995         12            35             14.3              23.7\n",
       "23       1996          6          35.3               12              23.5\n",
       "24       1997         11          31.6               10                24\n",
       "25       1998         20          47.8              6.2              23.1\n",
       "26       1999         14          37.5                4              23.3\n",
       "27       2000          8            37             10.3              24.2\n",
       "28       2001         14          33.5               14              24.2\n",
       "29       2002          8          37.8              5.3              23.1\n",
       "30       2003         15          46.6              1.8              22.3\n",
       "31       2004         12          34.6              7.3                24\n",
       "32       2005         16            39               10              24.1\n",
       "33       2006         15          41.6             14.3              23.6\n",
       "34       2007          5          41.6             13.5              23.8\n",
       "35       2008         14          38.8             10.8              23.7\n",
       "36       2009         11          40.1              1.8              23.3\n",
       "37       2010         17            44               19              24.9\n",
       "38       2011         15          48.5              6.7                24\n",
       "39       2012         15          38.3             19.3              24.7\n",
       "40       2013         12          37.1             24.8              25.4\n",
       "41       2014          5          43.9              5.2              23.6\n",
       "42       2015          5          33.8              9.8              23.7\n",
       "43       2016         14          31.5             23.8              24.8\n",
       "44       2017         17          40.9             10.8              24.5\n",
       "45       2018         13          27.1             17.7              25.4\n",
       "46       2019          6          33.4               11              24.1\n",
       "47       2020         18          45.8              8.3                24"
      ]
     },
     "execution_count": 18,
     "metadata": {},
     "output_type": "execute_result"
    }
   ],
   "source": [
    "origin2 = read_excel('C:/Users/Jihwan/Desktop/[MBN 데이터취재팀] 기후변화 관련 각종 기상 데이터셋/MBN데이터취재팀_기후변화데이터셋/각종_기후데이터셋_1974년_2020년.xlsx')\n"
   ]
  },
  {
   "cell_type": "code",
   "execution_count": 3,
   "metadata": {},
   "outputs": [
    {
     "data": {
      "text/html": [
       "<div>\n",
       "<style scoped>\n",
       "    .dataframe tbody tr th:only-of-type {\n",
       "        vertical-align: middle;\n",
       "    }\n",
       "\n",
       "    .dataframe tbody tr th {\n",
       "        vertical-align: top;\n",
       "    }\n",
       "\n",
       "    .dataframe thead th {\n",
       "        text-align: right;\n",
       "    }\n",
       "</style>\n",
       "<table border=\"1\" class=\"dataframe\">\n",
       "  <thead>\n",
       "    <tr style=\"text-align: right;\">\n",
       "      <th></th>\n",
       "      <th>store1</th>\n",
       "      <th>store2</th>\n",
       "    </tr>\n",
       "  </thead>\n",
       "  <tbody>\n",
       "    <tr>\n",
       "      <th>0</th>\n",
       "      <td>34</td>\n",
       "      <td>63</td>\n",
       "    </tr>\n",
       "    <tr>\n",
       "      <th>1</th>\n",
       "      <td>63</td>\n",
       "      <td>85</td>\n",
       "    </tr>\n",
       "    <tr>\n",
       "      <th>2</th>\n",
       "      <td>57</td>\n",
       "      <td>75</td>\n",
       "    </tr>\n",
       "    <tr>\n",
       "      <th>3</th>\n",
       "      <td>50</td>\n",
       "      <td>48</td>\n",
       "    </tr>\n",
       "    <tr>\n",
       "      <th>4</th>\n",
       "      <td>37</td>\n",
       "      <td>58</td>\n",
       "    </tr>\n",
       "    <tr>\n",
       "      <th>...</th>\n",
       "      <td>...</td>\n",
       "      <td>...</td>\n",
       "    </tr>\n",
       "    <tr>\n",
       "      <th>95</th>\n",
       "      <td>53</td>\n",
       "      <td>69</td>\n",
       "    </tr>\n",
       "    <tr>\n",
       "      <th>96</th>\n",
       "      <td>52</td>\n",
       "      <td>51</td>\n",
       "    </tr>\n",
       "    <tr>\n",
       "      <th>97</th>\n",
       "      <td>52</td>\n",
       "      <td>65</td>\n",
       "    </tr>\n",
       "    <tr>\n",
       "      <th>98</th>\n",
       "      <td>49</td>\n",
       "      <td>59</td>\n",
       "    </tr>\n",
       "    <tr>\n",
       "      <th>99</th>\n",
       "      <td>44</td>\n",
       "      <td>71</td>\n",
       "    </tr>\n",
       "  </tbody>\n",
       "</table>\n",
       "<p>100 rows × 2 columns</p>\n",
       "</div>"
      ],
      "text/plain": [
       "    store1  store2\n",
       "0       34      63\n",
       "1       63      85\n",
       "2       57      75\n",
       "3       50      48\n",
       "4       37      58\n",
       "..     ...     ...\n",
       "95      53      69\n",
       "96      52      51\n",
       "97      52      65\n",
       "98      49      59\n",
       "99      44      71\n",
       "\n",
       "[100 rows x 2 columns]"
      ]
     },
     "execution_count": 3,
     "metadata": {},
     "output_type": "execute_result"
    }
   ],
   "source": [
    "origin = read_excel('C:/Users/Jihwan/01Class/E.추론통계/수업자료/store.xlsx')\n",
    "\n",
    "origin"
   ]
  },
  {
   "cell_type": "markdown",
   "metadata": {},
   "source": [
    "## #02. 데이터 분포 확인\n",
    "\n",
    "히스토그램과 커널밀도함수 그래프를 통해 전반적인 데이터의 분포를 확인한다.\n",
    "\n",
    "정규분포를 충족하는 데이터는 시각화의 모양이 좌우 대칭인 상태로 봉긋하게 나타나야 한다."
   ]
  },
  {
   "cell_type": "code",
   "execution_count": 4,
   "metadata": {},
   "outputs": [
    {
     "data": {
      "image/png": "[encoded data removed]",
      "text/plain": [
       "<Figure size 1200x600 with 1 Axes>"
      ]
     },
     "metadata": {},
     "output_type": "display_data"
    }
   ],
   "source": [
    "plt.figure()\n",
    "sb.histplot(origin,kde=True)\n",
    "plt.grid()\n",
    "plt.show()\n",
    "plt.close()"
   ]
  },
  {
   "cell_type": "markdown",
   "metadata": {},
   "source": [
    "## #02. 데이터 정규성 확인\n",
    "\n",
    "데이터의 정규성을 검정하는 방법에는 Shapiro Wilk 검정, Normal Test검정이 있다.\n",
    "\n",
    "| 가설 | 내용 | 설명 |\n",
    "|---|---|---|\n",
    "| 귀무가설($H_0$) | $P >= 0.05$ | 집단간 데이터 분포에는 차이가 없다(정규성을 따름) |\n",
    "| 대립가설($H_1$) | $P < 0.05$ | 집단간 데이터 분포에는 차이가 있다(정규성을 따르지 않음) |\n",
    "\n",
    "### [1] Shapiro Wilk 검정\n",
    "\n",
    "Shapiro Wilk 검정은 매우 엄격하고 이를 충족하기 위해서는 이상치가 없어야 하며 좌우 대칭도 거의 완전해야 하기 때문에 현실에서 이 기준에 맞는 데이터는 없다고 보는 것이 맞다.\n",
    "\n",
    "> 예제 데이터는 정규분포를 충족하는 난수 형태로 생성하였다.\n",
    "\n",
    "#### (1) store1에 대한 정규성 확인"
   ]
  },
  {
   "cell_type": "code",
   "execution_count": 6,
   "metadata": {},
   "outputs": [
    {
     "data": {
      "text/plain": [
       "'statistic:0.979,p-value:0.109,정규성 충족 여부:True'"
      ]
     },
     "execution_count": 6,
     "metadata": {},
     "output_type": "execute_result"
    }
   ],
   "source": [
    "s, p = shapiro(origin['store1'])\n",
    "'statistic:{0:.3f},p-value:{1:.3f},정규성 충족 여부:{2}'.format(s,p,p>=0.05)"
   ]
  },
  {
   "cell_type": "markdown",
   "metadata": {},
   "source": [
    "> `p-value`가 `0.109`이므로 ($p>0.05$) store1의 매출 데이터는 정규성을 따른다."
   ]
  },
  {
   "cell_type": "markdown",
   "metadata": {},
   "source": [
    "#### (2) store2에 대한 정규성 확인"
   ]
  },
  {
   "cell_type": "markdown",
   "metadata": {},
   "source": [
    "> `p-value`가 `0.731`이므로 ($p>0.05$) store2의 매출 데이터는 정규성을 따른다.\n",
    "\n",
    "> 하지만 이런 데이터 거의 없다니깐?"
   ]
  },
  {
   "cell_type": "code",
   "execution_count": 7,
   "metadata": {},
   "outputs": [
    {
     "data": {
      "text/plain": [
       "'statistic:0.991,p-value:0.731,정규성 충족 여부:True'"
      ]
     },
     "execution_count": 7,
     "metadata": {},
     "output_type": "execute_result"
    }
   ],
   "source": [
    "s, p =shapiro(origin['store2'])\n",
    "'statistic:{0:.3f},p-value:{1:.3f},정규성 충족 여부:{2}'.format(s,p,p>=0.05)\n"
   ]
  },
  {
   "cell_type": "markdown",
   "metadata": {},
   "source": [
    "### [2] Normal Test\n",
    "\n",
    "왜도(skew)와 첨도(kurtosis)를 통해 정규성을 검정한다.\n",
    "\n",
    "West 등(1995)의 연구에 따르면 정규분포 기준은 $|왜도| < 2$, $|첨도| < 7$이면 정규분포에서 크게 벗어나지 않아 정규성을 충족한다고 볼 수 있다.\n",
    "\n",
    "Shapiro 검정에 비해 느슨한 기준이기 때문에 많은 논문에서 많이 인용되고 있다.\n",
    "\n",
    "#### (1) 왜도와 첨도 직접 구하기\n",
    "\n",
    "##### `store1`의 왜도\n",
    "\n",
    "분포의 비대칭도.\n",
    "\n",
    "| 구분 | 내용 |\n",
    "|---|---|\n",
    "| 정규분포 | $왜도=0$ |\n",
    "| 왼쪽으로 치우침 | $왜도 > 0$ |\n",
    "| 오른쪽으로 치우침 | $왜도 < 0$ |\n",
    "\n",
    "$|왜도| < 2$ 인 경우 정규성을 충족하는 것으로 판단한다."
   ]
  },
  {
   "cell_type": "code",
   "execution_count": 8,
   "metadata": {},
   "outputs": [
    {
     "name": "stdout",
     "output_type": "stream",
     "text": [
      "왜도: -0.506\n",
      "왜도의 절대값: 0.506\n"
     ]
    }
   ],
   "source": [
    "s = skew(origin['store1'])\n",
    "print('왜도: %0.3f' % s)\n",
    "print('왜도의 절대값: %0.3f' % abs(s))"
   ]
  },
  {
   "cell_type": "markdown",
   "metadata": {},
   "source": [
    "> 왜도의 절대값이 0.51이므로 정규성을 충족한다."
   ]
  },
  {
   "cell_type": "markdown",
   "metadata": {},
   "source": [
    "##### `store1`의 첨도\n",
    "\n",
    "분포의 뽀족한 정도\n",
    "\n",
    "| 구분 | 내용 |\n",
    "|---|---|\n",
    "| 정규분포 | $첨도 = 0$ |\n",
    "| 위로 뾰족함 | $첨도 > 0$ |\n",
    "| 아래로 뾰족함 | $첨도 < 0$ |\n",
    "\n",
    "$|첨도| < 7$인 경우 정규성을 충족하는 것으로 판단한다."
   ]
  },
  {
   "cell_type": "code",
   "execution_count": 9,
   "metadata": {},
   "outputs": [
    {
     "name": "stdout",
     "output_type": "stream",
     "text": [
      "첨도: 0.422\n",
      "첨도의 절대값: 0.422\n"
     ]
    }
   ],
   "source": [
    "k = kurtosis(origin['store1'])\n",
    "print('첨도: %0.3f' % k)\n",
    "print('첨도의 절대값: %0.3f' % abs(k))"
   ]
  },
  {
   "cell_type": "markdown",
   "metadata": {},
   "source": [
    "> 첨도의 절대값이 0.42이므로 정규성을 충족한다."
   ]
  },
  {
   "cell_type": "markdown",
   "metadata": {},
   "source": [
    "##### store2에 대한 왜도와 첨도 확인"
   ]
  },
  {
   "cell_type": "code",
   "execution_count": 10,
   "metadata": {},
   "outputs": [
    {
     "name": "stdout",
     "output_type": "stream",
     "text": [
      "왜도의 절대값: 0.251, 첨도의 절대값: 0.178\n"
     ]
    }
   ],
   "source": [
    "s = skew(origin['store2'])\n",
    "k = kurtosis(origin['store2'])\n",
    "print('왜도의 절대값: %0.3f, 첨도의 절대값: %0.3f' % (abs(s),abs(k)))"
   ]
  },
  {
   "cell_type": "markdown",
   "metadata": {},
   "source": [
    "> $|왜도| < 2$, $|첨도| < 7$ 조건에 부합하므로 정규성을 충족한다."
   ]
  },
  {
   "cell_type": "markdown",
   "metadata": {},
   "source": [
    "#### (2) NormalTest를 통한 정규성 검정\n",
    "\n",
    "왜도와 첨도를 활용한 정규성 검정이므로 위에서 왜도와 첨도를 일일이 구할 필요가 없다.\n",
    "\n",
    "> 앞으로의 수업 예제들은 NormalTest를 기준으로 정규성을 판단한다.\n",
    "\n",
    "##### `store1`의 정규성 확인"
   ]
  },
  {
   "cell_type": "code",
   "execution_count": 11,
   "metadata": {},
   "outputs": [
    {
     "data": {
      "text/plain": [
       "'statistic:5.651, p-value:0.059, 정규성 충족 여부:True'"
      ]
     },
     "execution_count": 11,
     "metadata": {},
     "output_type": "execute_result"
    }
   ],
   "source": [
    "s, p = normaltest(origin['store1'])\n",
    "'statistic:{0:.3f}, p-value:{1:.3f}, 정규성 충족 여부:{2}'.format(s,p,p>=0.05)"
   ]
  },
  {
   "cell_type": "markdown",
   "metadata": {},
   "source": [
    "> `p-value`가 `0.059`이므로 ($p>0.05$) store1의 매출 데이터는 정규성을 따른다.\n",
    "\n",
    "##### `store2`의 정규성 확인"
   ]
  },
  {
   "cell_type": "code",
   "execution_count": 12,
   "metadata": {},
   "outputs": [
    {
     "data": {
      "text/plain": [
       "'statistic:1.174, p-value:0.556, 정규성 충족 여부:True'"
      ]
     },
     "execution_count": 12,
     "metadata": {},
     "output_type": "execute_result"
    }
   ],
   "source": [
    "s, p = normaltest(origin['store2'])\n",
    "'statistic:{0:.3f}, p-value:{1:.3f}, 정규성 충족 여부:{2}'.format(s,p,p>=0.05)"
   ]
  },
  {
   "cell_type": "markdown",
   "metadata": {},
   "source": [
    "> `p-value`가 `0.556`이므로 ($p>0.05$) store1의 매출 데이터는 정규성을 따른다."
   ]
  },
  {
   "cell_type": "markdown",
   "metadata": {},
   "source": [
    "##### 반복문으로 한번에 처리하기"
   ]
  },
  {
   "cell_type": "code",
   "execution_count": 13,
   "metadata": {},
   "outputs": [
    {
     "name": "stdout",
     "output_type": "stream",
     "text": [
      "[store1] statistics: 5.651, p-value:0.059, 정규성 충족 여부: True\n",
      "[store2] statistics: 1.174, p-value:0.556, 정규성 충족 여부: True\n"
     ]
    }
   ],
   "source": [
    "for c in origin.columns:\n",
    "    s, p = normaltest(origin[c])\n",
    "    print('[{0}] statistics: {1:.3f}, p-value:{2:.3f}, 정규성 충족 여부: {3}'.format(c,s,p,p >= 0.05))\n",
    "    "
   ]
  },
  {
   "cell_type": "markdown",
   "metadata": {},
   "source": [
    "## #03. 데이터 등분산성 확인\n",
    "\n",
    "| 가설 | 내용 | 설명 |\n",
    "|---|---|---|\n",
    "| 귀무가설($H_0$) | $P >= 0.05$ | 집단간 분산의 차이가 없다 |\n",
    "| 대립가설($H_1$) | $P < 0.05$ | 집단간 분산의 차이가 있다 |\n",
    "\n",
    "### [1] Bartlett 검정\n",
    "\n",
    "정규분포를 따르는 데이터의 집단간 분산이 같은지 다른지 여부를 알아볼 때 사용"
   ]
  },
  {
   "cell_type": "code",
   "execution_count": 14,
   "metadata": {},
   "outputs": [
    {
     "name": "stdout",
     "output_type": "stream",
     "text": [
      "Bartlett 검정: statistic:2.844, p-value: 0.092, 등분산성 충족 여부:True\n"
     ]
    }
   ],
   "source": [
    "s, p =bartlett(origin['store1'],origin['store2'])\n",
    "print('Bartlett 검정: statistic:{0:.3f}, p-value: {1:.3f}, 등분산성 충족 여부:{2}'.format(s,p,p>=0.05))"
   ]
  },
  {
   "cell_type": "markdown",
   "metadata": {},
   "source": [
    "### [2] 레빈 검정(Levene's test)\n",
    "\n",
    "데이터가 정규분포를 따르지 않을 경우 사용할 수 있는 방법\n",
    "\n",
    "이 예제의 데이터에서는 적합하지 않은 방법이지만 여기서는 코드의 전개 과정을 제시하기 위해 사용함"
   ]
  },
  {
   "cell_type": "code",
   "execution_count": 16,
   "metadata": {},
   "outputs": [
    {
     "name": "stdout",
     "output_type": "stream",
     "text": [
      "Levene 검정: statistic:1.360, p-value: 0.245, 등분산성 충족 여부:True\n"
     ]
    }
   ],
   "source": [
    "s,p=levene(origin['store1'],origin['store2'])\n",
    "print('Levene 검정: statistic:{0:.3f}, p-value: {1:.3f}, 등분산성 충족 여부:{2}'.format(s,p,p>=0.05))"
   ]
  },
  {
   "cell_type": "markdown",
   "metadata": {},
   "source": [
    "### [3] 반복문으로 한번에 처리하기"
   ]
  },
  {
   "cell_type": "code",
   "execution_count": 17,
   "metadata": {},
   "outputs": [
    {
     "name": "stdout",
     "output_type": "stream",
     "text": [
      "Bartlett 검정: statistic: 2.844, p-value: 0.092, 등분산성 충족 여부:True\n"
     ]
    }
   ],
   "source": [
    "normal_dist = True\n",
    "data = origin.copy()\n",
    "fields = list(map(lambda x: data[x], data.columns))\n",
    "\n",
    "if normal_dist:\n",
    "    n='Bartlett'\n",
    "    s,p=bartlett(*fields)\n",
    "else:\n",
    "    n = 'Levene'\n",
    "    s,p=levene('fields')\n",
    "\n",
    "print('{0} 검정: statistic: {1:.3f}, p-value: {2:.3f}, 등분산성 충족 여부:{3}'.format(n,s,p,p>=0.05))\n"
   ]
  }
 ],
 "metadata": {
  "kernelspec": {
   "display_name": "Python 3",
   "language": "python",
   "name": "python3"
  },
  "language_info": {
   "codemirror_mode": {
    "name": "ipython",
    "version": 3
   },
   "file_extension": ".py",
   "mimetype": "text/x-python",
   "name": "python",
   "nbconvert_exporter": "python",
   "pygments_lexer": "ipython3",
   "version": "3.11.7"
  }
 },
 "nbformat": 4,
 "nbformat_minor": 2
}
