{
 "cells": [
  {
   "cell_type": "markdown",
   "metadata": {},
   "source": [
    "# 일원분산분석 NOVA (분산분석)\n",
    "\n",
    "세 개 이상의 집단 간 평균의 차이를 검증하기 위해 사용된다.\n",
    "\n",
    "분산분석에는 일원분산분석(One-Way ANOVA)과 이원분산분석(Two-Way ANOVA)이 있다.\n",
    "\n",
    "분산분석의 결과가 통계적으로 유의하다는 결론을 얻었을 때, 구체적으로 어떤 수준(들)에서 평균 차이가 나는지를 검증하기 위해 사후검정을 수행할 수 있다.\n",
    "\n",
    "## #01. 준비작업\n",
    "\n",
    "### [1] 패키지 참조\n",
    "\n",
    "`pingouin` 패키지의 설치가 필요하다"
   ]
  },
  {
   "cell_type": "code",
   "execution_count": 2,
   "metadata": {},
   "outputs": [],
   "source": [
    "import warnings\n",
    "warnings.filterwarnings(action='ignore')\n",
    "\n",
    "import sys\n",
    "import seaborn as sb\n",
    "from math import sqrt\n",
    "from matplotlib import pyplot as plt\n",
    "from pandas import read_excel, melt\n",
    "from scipy.stats import t, normaltest, bartlett, levene, f_oneway, ttest_ind\n",
    "\n",
    "\n",
    "# 분산분석을 위한 라이브러리\n",
    "from statsmodels.formula.api import ols\n",
    "from statsmodels.stats.anova import anova_lm\n",
    "\n",
    "# 사후검정을 위한 라이브러리\n",
    "from statsmodels.sandbox.stats.multicomp import MultiComparison\n",
    "from statsmodels.stats.multicomp import pairwise_tukeyhsd\n",
    "from pingouin import pairwise_gameshowell"
   ]
  },
  {
   "cell_type": "markdown",
   "metadata": {},
   "source": [
    "### [2] 그래프 초기화"
   ]
  },
  {
   "cell_type": "code",
   "execution_count": 3,
   "metadata": {},
   "outputs": [],
   "source": [
    "plt.rcParams['font.family']='AppleGothic' if sys.platform == 'darwin' else 'Malgun Gothic'\n",
    "plt.rcParams['font.size']=12\n",
    "plt.rcParams['figure.figsize']=(12,6)\n",
    "plt.rcParams['axes.unicode_minus']=False"
   ]
  },
  {
   "cell_type": "markdown",
   "metadata": {},
   "source": [
    "### [3] 데이터 가져오기\n",
    "\n",
    "동일한 제품을 판매하고 있는 서로 다른 두 지역의 매장의 100일간 일별 매출액을 기록한 가상의 데이터이다.\n",
    "\n",
    "이 데이터를 사용하여 두 매장의 평균을 비교하라."
   ]
  },
  {
   "cell_type": "code",
   "execution_count": 4,
   "metadata": {},
   "outputs": [
    {
     "data": {
      "text/html": [
       "<div>\n",
       "<style scoped>\n",
       "    .dataframe tbody tr th:only-of-type {\n",
       "        vertical-align: middle;\n",
       "    }\n",
       "\n",
       "    .dataframe tbody tr th {\n",
       "        vertical-align: top;\n",
       "    }\n",
       "\n",
       "    .dataframe thead th {\n",
       "        text-align: right;\n",
       "    }\n",
       "</style>\n",
       "<table border=\"1\" class=\"dataframe\">\n",
       "  <thead>\n",
       "    <tr style=\"text-align: right;\">\n",
       "      <th></th>\n",
       "      <th>store1</th>\n",
       "      <th>store2</th>\n",
       "    </tr>\n",
       "  </thead>\n",
       "  <tbody>\n",
       "    <tr>\n",
       "      <th>0</th>\n",
       "      <td>34</td>\n",
       "      <td>63</td>\n",
       "    </tr>\n",
       "    <tr>\n",
       "      <th>1</th>\n",
       "      <td>63</td>\n",
       "      <td>85</td>\n",
       "    </tr>\n",
       "    <tr>\n",
       "      <th>2</th>\n",
       "      <td>57</td>\n",
       "      <td>75</td>\n",
       "    </tr>\n",
       "    <tr>\n",
       "      <th>3</th>\n",
       "      <td>50</td>\n",
       "      <td>48</td>\n",
       "    </tr>\n",
       "    <tr>\n",
       "      <th>4</th>\n",
       "      <td>37</td>\n",
       "      <td>58</td>\n",
       "    </tr>\n",
       "    <tr>\n",
       "      <th>...</th>\n",
       "      <td>...</td>\n",
       "      <td>...</td>\n",
       "    </tr>\n",
       "    <tr>\n",
       "      <th>95</th>\n",
       "      <td>53</td>\n",
       "      <td>69</td>\n",
       "    </tr>\n",
       "    <tr>\n",
       "      <th>96</th>\n",
       "      <td>52</td>\n",
       "      <td>51</td>\n",
       "    </tr>\n",
       "    <tr>\n",
       "      <th>97</th>\n",
       "      <td>52</td>\n",
       "      <td>65</td>\n",
       "    </tr>\n",
       "    <tr>\n",
       "      <th>98</th>\n",
       "      <td>49</td>\n",
       "      <td>59</td>\n",
       "    </tr>\n",
       "    <tr>\n",
       "      <th>99</th>\n",
       "      <td>44</td>\n",
       "      <td>71</td>\n",
       "    </tr>\n",
       "  </tbody>\n",
       "</table>\n",
       "<p>100 rows × 2 columns</p>\n",
       "</div>"
      ],
      "text/plain": [
       "    store1  store2\n",
       "0       34      63\n",
       "1       63      85\n",
       "2       57      75\n",
       "3       50      48\n",
       "4       37      58\n",
       "..     ...     ...\n",
       "95      53      69\n",
       "96      52      51\n",
       "97      52      65\n",
       "98      49      59\n",
       "99      44      71\n",
       "\n",
       "[100 rows x 2 columns]"
      ]
     },
     "execution_count": 4,
     "metadata": {},
     "output_type": "execute_result"
    }
   ],
   "source": [
    "origin = read_excel('C:/Users/Jihwan/01Class/E.추론통계/E.InferentialStatistics/수업자료/store.xlsx')\n",
    "origin"
   ]
  },
  {
   "cell_type": "markdown",
   "metadata": {},
   "source": [
    "## #02. 커널 밀도함수 및 신뢰구간 확인"
   ]
  },
  {
   "cell_type": "code",
   "execution_count": 5,
   "metadata": {},
   "outputs": [
    {
     "data": {
      "image/png": "[encoded data removed]",
      "text/plain": [
       "<Figure size 1200x600 with 1 Axes>"
      ]
     },
     "metadata": {},
     "output_type": "display_data"
    }
   ],
   "source": [
    "plt.figure()\n",
    "\n",
    "for c in origin.columns:\n",
    "    #print(c)\n",
    "\n",
    "    data = origin[c]                                # 데이터만 추출\n",
    "    max = data.max()                                # 최대값\n",
    "    clevel = 0.95                                   # 신뢰수준\n",
    "    dof = len(data) - 1                             # 자유도\n",
    "    sample_mean = data.mean()                       # 표본평균\n",
    "    sample_std = data.std(ddof=1)                   # 표본표준편차\n",
    "    sample_std_error = sample_std / sqrt(len(data)) # 표본표준오차\n",
    "\n",
    "    # 신뢰구간\n",
    "    cmin, cmax = t.interval(clevel, dof, loc=sample_mean, scale=sample_std_error)\n",
    "\n",
    "    sb.kdeplot(data=data)\n",
    "\n",
    "    xmin, xmax, ymin, ymax = plt.axis()\n",
    "\n",
    "    # 신뢰구간 그리기\n",
    "    plt.plot([cmin, cmin], [ymin, ymax], linestyle=':')\n",
    "    plt.plot([cmax, cmax], [ymin, ymax], linestyle=':')\n",
    "    plt.fill_between([cmin, cmax], y1=0, y2=ymax, alpha=0.1)\n",
    "\n",
    "    # 평균 그리기\n",
    "    plt.plot([sample_mean, sample_mean], [ymin, ymax], linestyle='--', linewidth=2)\n",
    "\n",
    "    plt.text(x=(cmax-cmin)/2+cmin,\n",
    "            y=ymax,\n",
    "            s=\"[%s] %0.1f ~ %0.1f\" % (c, cmin, cmax),\n",
    "            horizontalalignment=\"center\",\n",
    "            verticalalignment=\"bottom\",\n",
    "            fontdict={\"size\": 12, \"color\": \"red\"})\n",
    "\n",
    "plt.ylim(ymin, ymax*1.1)\n",
    "plt.grid()\n",
    "plt.show()\n",
    "plt.close()"
   ]
  },
  {
   "cell_type": "markdown",
   "metadata": {},
   "source": [
    "## #03. 분산분석의 가정 확인\n",
    "\n",
    "### [1] 정규성 검정"
   ]
  },
  {
   "cell_type": "code",
   "execution_count": 6,
   "metadata": {},
   "outputs": [
    {
     "name": "stdout",
     "output_type": "stream",
     "text": [
      "[store1] statistic: 5.651, p-value: 0.059, 정규성 충족 여부: True\n",
      "[store2] statistic: 1.174, p-value: 0.556, 정규성 충족 여부: True\n"
     ]
    }
   ],
   "source": [
    "for c in origin.columns:\n",
    "    s, p = normaltest(origin[c])\n",
    "    print(\"[{0}] statistic: {1:.3f}, p-value: {2:.3f}, 정규성 충족 여부: {3}\".format(c, s, p, p > 0.05))"
   ]
  },
  {
   "cell_type": "markdown",
   "metadata": {},
   "source": [
    "### [2] 등분산성 검정"
   ]
  },
  {
   "cell_type": "code",
   "execution_count": 7,
   "metadata": {},
   "outputs": [
    {
     "name": "stdout",
     "output_type": "stream",
     "text": [
      "Bartlett 검정: statistic: 2.844, p-value: 0.092, 등분산성 충족 여부: True\n"
     ]
    }
   ],
   "source": [
    "normal_dist = True      # 정규성 만족 여부\n",
    "data = origin.copy()    # 원본 데이터 복사\n",
    "fields = list(map(lambda x: data[x], data.columns))\n",
    "\n",
    "if normal_dist:\n",
    "    n = \"Bartlett\"\n",
    "    s, p = bartlett(*fields)\n",
    "else:\n",
    "    n = \"Levene\"\n",
    "    s, p = levene(*fields)\n",
    "\n",
    "print(\"{0} 검정: statistic: {1:.3f}, p-value: {2:.3f}, 등분산성 충족 여부: {3}\".format(n, s, p, p > 0.05))"
   ]
  },
  {
   "cell_type": "markdown",
   "metadata": {},
   "source": [
    "## #04. 일원분산분석 수행\n",
    "\n",
    "### [1] `scipy` 패키지 사용\n",
    "\n",
    "분산분석을 수행할 변수를 파라미터로 전달한다.\n",
    "\n",
    "등분산성을 만족하지 않을 경우 `equal_var=False` 파라미터를 함께 설정한다."
   ]
  },
  {
   "cell_type": "code",
   "execution_count": 8,
   "metadata": {},
   "outputs": [
    {
     "data": {
      "text/plain": [
       "'statistic: 58.718, p-value: 0.000, 대립가설 채택'"
      ]
     },
     "execution_count": 8,
     "metadata": {},
     "output_type": "execute_result"
    }
   ],
   "source": [
    "s, p = f_oneway(origin['store1'],origin['store2'])\n",
    "'statistic: {0:.3f}, p-value: {1:.3f}, {2}가설 채택'.format(s,p,'대립' if p <= 0.05 else '귀무')"
   ]
  },
  {
   "cell_type": "markdown",
   "metadata": {},
   "source": [
    "`p-value`가 0.05보다 작으므로 귀무가설을 기각하고 대립가설을 채택한다.\n",
    "\n",
    "즉, 두 가게의 일별 매출 평균은 다르다."
   ]
  },
  {
   "cell_type": "markdown",
   "metadata": {},
   "source": [
    "### [2] `statsmodels` 패키지 사용\n",
    "\n",
    "#### (1) 데이터 전처리\n",
    "\n",
    "명목형 변수와 연속형 변수로 구성된 형태로 데이터를 재배치 해야 한다."
   ]
  },
  {
   "cell_type": "code",
   "execution_count": 9,
   "metadata": {},
   "outputs": [
    {
     "data": {
      "text/html": [
       "<div>\n",
       "<style scoped>\n",
       "    .dataframe tbody tr th:only-of-type {\n",
       "        vertical-align: middle;\n",
       "    }\n",
       "\n",
       "    .dataframe tbody tr th {\n",
       "        vertical-align: top;\n",
       "    }\n",
       "\n",
       "    .dataframe thead th {\n",
       "        text-align: right;\n",
       "    }\n",
       "</style>\n",
       "<table border=\"1\" class=\"dataframe\">\n",
       "  <thead>\n",
       "    <tr style=\"text-align: right;\">\n",
       "      <th></th>\n",
       "      <th>store</th>\n",
       "      <th>sales</th>\n",
       "    </tr>\n",
       "  </thead>\n",
       "  <tbody>\n",
       "    <tr>\n",
       "      <th>0</th>\n",
       "      <td>store1</td>\n",
       "      <td>34</td>\n",
       "    </tr>\n",
       "    <tr>\n",
       "      <th>1</th>\n",
       "      <td>store1</td>\n",
       "      <td>63</td>\n",
       "    </tr>\n",
       "    <tr>\n",
       "      <th>2</th>\n",
       "      <td>store1</td>\n",
       "      <td>57</td>\n",
       "    </tr>\n",
       "    <tr>\n",
       "      <th>3</th>\n",
       "      <td>store1</td>\n",
       "      <td>50</td>\n",
       "    </tr>\n",
       "    <tr>\n",
       "      <th>4</th>\n",
       "      <td>store1</td>\n",
       "      <td>37</td>\n",
       "    </tr>\n",
       "    <tr>\n",
       "      <th>...</th>\n",
       "      <td>...</td>\n",
       "      <td>...</td>\n",
       "    </tr>\n",
       "    <tr>\n",
       "      <th>195</th>\n",
       "      <td>store2</td>\n",
       "      <td>69</td>\n",
       "    </tr>\n",
       "    <tr>\n",
       "      <th>196</th>\n",
       "      <td>store2</td>\n",
       "      <td>51</td>\n",
       "    </tr>\n",
       "    <tr>\n",
       "      <th>197</th>\n",
       "      <td>store2</td>\n",
       "      <td>65</td>\n",
       "    </tr>\n",
       "    <tr>\n",
       "      <th>198</th>\n",
       "      <td>store2</td>\n",
       "      <td>59</td>\n",
       "    </tr>\n",
       "    <tr>\n",
       "      <th>199</th>\n",
       "      <td>store2</td>\n",
       "      <td>71</td>\n",
       "    </tr>\n",
       "  </tbody>\n",
       "</table>\n",
       "<p>200 rows × 2 columns</p>\n",
       "</div>"
      ],
      "text/plain": [
       "      store  sales\n",
       "0    store1     34\n",
       "1    store1     63\n",
       "2    store1     57\n",
       "3    store1     50\n",
       "4    store1     37\n",
       "..      ...    ...\n",
       "195  store2     69\n",
       "196  store2     51\n",
       "197  store2     65\n",
       "198  store2     59\n",
       "199  store2     71\n",
       "\n",
       "[200 rows x 2 columns]"
      ]
     },
     "execution_count": 9,
     "metadata": {},
     "output_type": "execute_result"
    }
   ],
   "source": [
    "df = melt(origin, var_name='store', value_name='sales')\n",
    "df"
   ]
  },
  {
   "cell_type": "markdown",
   "metadata": {},
   "source": [
    "#### (2) 분산분석\n",
    "\n",
    "데이터가 등분산성을 만족하지 않을 경우 `anova_lm()` 함수에 `robust='hc3'` 파라미터를 사용하여 uber-White 추정치를 사용한다."
   ]
  },
  {
   "cell_type": "code",
   "execution_count": 10,
   "metadata": {},
   "outputs": [
    {
     "name": "stdout",
     "output_type": "stream",
     "text": [
      "             df     sum_sq      mean_sq          F        PR(>F)\n",
      "C(store)    1.0   5735.205  5735.205000  58.717529  7.945482e-13\n",
      "Residual  198.0  19339.550    97.674495        NaN           NaN\n"
     ]
    }
   ],
   "source": [
    "lm = ols('sales ~ C(store)', data= df).fit()\n",
    "anova = anova_lm(lm)\n",
    "print(anova)"
   ]
  },
  {
   "cell_type": "code",
   "execution_count": 11,
   "metadata": {},
   "outputs": [
    {
     "data": {
      "text/plain": [
       "'statistic:58.718, p-value: 0.000, 대립가설 채택'"
      ]
     },
     "execution_count": 11,
     "metadata": {},
     "output_type": "execute_result"
    }
   ],
   "source": [
    "s = anova['F'][0]\n",
    "p = anova['PR(>F)'][0]\n",
    "'statistic:{0:.3f}, p-value: {1:.3f}, {2}가설 채택'.format(s,p,'대립' if p <= 0.05 else '귀무')\n"
   ]
  },
  {
   "cell_type": "markdown",
   "metadata": {},
   "source": [
    "## #05. 사후검정 (post hoc)\n",
    "\n",
    "ANOVA의 결과를 통해 두 집단의 분산에 통계적으로 유의미한 차이가 발견되었을 때, 구체적으로 어떤 수준(들)에서 평균 차이가 나는지에 대한 검증 결과를 확인해야 할 경우 사후검정을 수행해야 한다.\n",
    "\n",
    "### [1] 사후검정의 가정\n",
    "\n",
    "| 가설 | 내용 |\n",
    "|---|---|\n",
    "| 귀무가설 | 집단간 분산이 차이가 없다(같다) |\n",
    "| 대립가설 | 집단간 분산이 차이가 있다(다르다) |\n",
    "\n",
    "### [2] 사후검정의 종류\n",
    "\n",
    "| 종류 | 사용 |\n",
    "|---|---|\n",
    "| 투키의 HSD | 등분산이고 샘플수가 동일한 경우 |\n",
    "| 본페로니 교정, 피셔의 LSD, 셰페의 방법 | 등분산이고 샘플수가 다른 경우 |\n",
    "| Games Howell | 등분산이 아닌 경우 |\n",
    "\n",
    "`피셔의 LSD`와 `셰페의 방법`은 검정력이 다소 약하기 때문에 잘 사용되지 않는다.\n",
    "\n",
    "### [3] 투키의 HSD\n",
    "\n",
    "`Tuckey's Honestly Significant Difference` = \"진정으로 유의미한 차이\"\n",
    "\n",
    "`OO`(명목형)에 따른 `ㅁㅁ`(연속형)의 차이라는 의미로 접근한다.\n",
    "\n",
    "연속형 변수와 각 데이터를 구별할 수 있는 명목형 변수 순으로 파라미터를 설정한다."
   ]
  },
  {
   "cell_type": "code",
   "execution_count": 12,
   "metadata": {},
   "outputs": [
    {
     "data": {
      "text/html": [
       "<table class=\"simpletable\">\n",
       "<caption>Multiple Comparison of Means - Tukey HSD, FWER=0.05</caption>\n",
       "<tr>\n",
       "  <th>group1</th> <th>group2</th> <th>meandiff</th> <th>p-adj</th>  <th>lower</th>  <th>upper</th>  <th>reject</th>\n",
       "</tr>\n",
       "<tr>\n",
       "  <td>store1</td> <td>store2</td>   <td>10.71</td>   <td>0.0</td>  <td>7.9538</td> <td>13.4662</td>  <td>True</td> \n",
       "</tr>\n",
       "</table>"
      ],
      "text/latex": [
       "\\begin{center}\n",
       "\\begin{tabular}{ccccccc}\n",
       "\\toprule\n",
       "\\textbf{group1} & \\textbf{group2} & \\textbf{meandiff} & \\textbf{p-adj} & \\textbf{lower} & \\textbf{upper} & \\textbf{reject}  \\\\\n",
       "\\midrule\n",
       "     store1     &      store2     &       10.71       &      0.0       &     7.9538     &    13.4662     &       True       \\\\\n",
       "\\bottomrule\n",
       "\\end{tabular}\n",
       "%\\caption{Multiple Comparison of Means - Tukey HSD, FWER=0.05}\n",
       "\\end{center}"
      ],
      "text/plain": [
       "<class 'statsmodels.iolib.table.SimpleTable'>"
      ]
     },
     "execution_count": 12,
     "metadata": {},
     "output_type": "execute_result"
    }
   ],
   "source": [
    "tukey = pairwise_tukeyhsd(df['sales'], df['store'])\n",
    "tukey.summary()"
   ]
  },
  {
   "cell_type": "markdown",
   "metadata": {},
   "source": [
    "> 사후 분석 결과 `store`에 따른 `sales`의 차이는 통계적으로 유의미하였다.($P<0.05$)\n",
    ">\n",
    "> store1과 store2의 평균은 `10.71`정도의 차이가 있으며 `95%`신뢰구간은 `7.9538~13.4462`인 것으로 나타났다."
   ]
  },
  {
   "cell_type": "markdown",
   "metadata": {},
   "source": [
    "### [4] 본페로니 교정\n",
    "\n",
    "원래는 집단간 샘플 수가 동일하지 않을 경우 수행되는 방법이지만 여기서는 소스코드 확인을 위해 진행한다.\n",
    "\n",
    "다소 엄격한 기각역을 설정하고 있기 때문에 제2종 오류 발생 위험이 있다.\n",
    "\n",
    "검정 결과에서 `pval_corr`값이 `0.05`보다 작은 항목간의 비교에서 통계적으로 유의미한 차이가 있다고 해석한다."
   ]
  },
  {
   "cell_type": "code",
   "execution_count": 13,
   "metadata": {},
   "outputs": [
    {
     "data": {
      "text/html": [
       "<table class=\"simpletable\">\n",
       "<caption>Test Multiple Comparison ttest_ind \n",
       "FWER=0.05 method=bonf\n",
       "alphacSidak=0.05, alphacBonf=0.050</caption>\n",
       "<tr>\n",
       "  <th>group1</th> <th>group2</th>  <th>stat</th>   <th>pval</th> <th>pval_corr</th> <th>reject</th>\n",
       "</tr>\n",
       "<tr>\n",
       "  <td>store1</td> <td>store2</td> <td>-7.6627</td>  <td>0.0</td>    <td>0.0</td>     <td>True</td> \n",
       "</tr>\n",
       "</table>"
      ],
      "text/latex": [
       "\\begin{center}\n",
       "\\begin{tabular}{cccccc}\n",
       "\\toprule\n",
       "\\textbf{group1} & \\textbf{group2} & \\textbf{stat} & \\textbf{pval} & \\textbf{pval\\_corr} & \\textbf{reject}  \\\\\n",
       "\\midrule\n",
       "     store1     &      store2     &    -7.6627    &      0.0      &         0.0         &       True       \\\\\n",
       "\\bottomrule\n",
       "\\end{tabular}\n",
       "%\\caption{Test Multiple Comparison ttest_ind \n",
       "FWER=0.05 method=bonf\n",
       "alphacSidak=0.05, alphacBonf=0.050}\n",
       "\\end{center}"
      ],
      "text/plain": [
       "<class 'statsmodels.iolib.table.SimpleTable'>"
      ]
     },
     "execution_count": 13,
     "metadata": {},
     "output_type": "execute_result"
    }
   ],
   "source": [
    "comp= MultiComparison(df['sales'],df['store'])\n",
    "result = comp.allpairtest(ttest_ind, method='bonf')\n",
    "result[0]"
   ]
  },
  {
   "cell_type": "markdown",
   "metadata": {},
   "source": [
    "> 본페로니 교정 결과 `store1`과 `store2`의 평균은 통계적으로 유의미한 차이가 있다($P \\leq 0.05$)"
   ]
  },
  {
   "cell_type": "markdown",
   "metadata": {},
   "source": [
    "### [5] Games-Howell 검정\n",
    "\n",
    "`Games-Howell` 검정은 다수의 그룹 간의 평균 차이를 비교하는 통계적 방법 중 하나로, 등분산성 가정이 만족되지 않을 때 사용된다.\n",
    "\n",
    "이 예제에 적합한 방법은 아니지만 소스코드의 제시를 목적으로 사용한다.\n",
    "\n",
    "`scipy` 라이브러리에는 `Games-Howell` 검정을 직접 지원하는 함수는 없지만, `pingouin` 라이브러리를 사용하여 `Games-Howell` 검정을 수행할 수 있다."
   ]
  },
  {
   "cell_type": "code",
   "execution_count": 14,
   "metadata": {},
   "outputs": [
    {
     "data": {
      "text/html": [
       "<div>\n",
       "<style scoped>\n",
       "    .dataframe tbody tr th:only-of-type {\n",
       "        vertical-align: middle;\n",
       "    }\n",
       "\n",
       "    .dataframe tbody tr th {\n",
       "        vertical-align: top;\n",
       "    }\n",
       "\n",
       "    .dataframe thead th {\n",
       "        text-align: right;\n",
       "    }\n",
       "</style>\n",
       "<table border=\"1\" class=\"dataframe\">\n",
       "  <thead>\n",
       "    <tr style=\"text-align: right;\">\n",
       "      <th></th>\n",
       "      <th>A</th>\n",
       "      <th>B</th>\n",
       "      <th>mean(A)</th>\n",
       "      <th>mean(B)</th>\n",
       "      <th>diff</th>\n",
       "      <th>se</th>\n",
       "      <th>T</th>\n",
       "      <th>df</th>\n",
       "      <th>pval</th>\n",
       "      <th>hedges</th>\n",
       "    </tr>\n",
       "  </thead>\n",
       "  <tbody>\n",
       "    <tr>\n",
       "      <th>0</th>\n",
       "      <td>store1</td>\n",
       "      <td>store2</td>\n",
       "      <td>50.36</td>\n",
       "      <td>61.07</td>\n",
       "      <td>-10.71</td>\n",
       "      <td>1.397673</td>\n",
       "      <td>-7.662736</td>\n",
       "      <td>192.521085</td>\n",
       "      <td>9.281464e-13</td>\n",
       "      <td>-1.079565</td>\n",
       "    </tr>\n",
       "  </tbody>\n",
       "</table>\n",
       "</div>"
      ],
      "text/plain": [
       "        A       B  mean(A)  ...          df          pval    hedges\n",
       "0  store1  store2    50.36  ...  192.521085  9.281464e-13 -1.079565\n",
       "\n",
       "[1 rows x 10 columns]"
      ]
     },
     "execution_count": 14,
     "metadata": {},
     "output_type": "execute_result"
    }
   ],
   "source": [
    "result = pairwise_gameshowell(df, dv='sales', between='store')\n",
    "result"
   ]
  },
  {
   "cell_type": "markdown",
   "metadata": {},
   "source": []
  },
  {
   "cell_type": "code",
   "execution_count": null,
   "metadata": {},
   "outputs": [],
   "source": []
  },
  {
   "cell_type": "code",
   "execution_count": null,
   "metadata": {},
   "outputs": [],
   "source": []
  }
 ],
 "metadata": {
  "kernelspec": {
   "display_name": "Python 3",
   "language": "python",
   "name": "python3"
  },
  "language_info": {
   "codemirror_mode": {
    "name": "ipython",
    "version": 3
   },
   "file_extension": ".py",
   "mimetype": "text/x-python",
   "name": "python",
   "nbconvert_exporter": "python",
   "pygments_lexer": "ipython3",
   "version": "3.11.7"
  }
 },
 "nbformat": 4,
 "nbformat_minor": 2
}
