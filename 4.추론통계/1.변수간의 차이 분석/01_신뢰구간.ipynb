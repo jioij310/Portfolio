{
 "cells": [
  {
   "cell_type": "markdown",
   "metadata": {},
   "source": [
    "# 신뢰구간\n",
    "\n",
    "## #01. 신뢰구간 개요\n",
    "\n",
    "표본에서 얻은 정보를 기반으로 모집단의 특성을 추정하는 방법 중 하나\n",
    "\n",
    "신뢰구간은 주어진 신뢰수준(일반적으로 95% 또는 99% 등)에 따라 모수가 존재할 것으로 예상되는 범위를 나타낸다. 예를 들어, 95% 신뢰구간은 모수가 95% 확률로 해당 구간에 속할 것으로 추정한다.\n",
    "\n",
    "즉, 모수(모집단의 특성)에 대한 **추정값의 범위**를 제공하여 이를 통해 모평균의 신뢰성을 가늠하기 위해서 사용한다.\n",
    "\n",
    "신뢰구간은 일반적으로 표본 크기, 추정 방법, 데이터의 변동성 등과 같은 요소에 따라 달라질 수 있으며 정확한 신뢰구간을 구하기 위해서는 통계학적인 가정과 계산 방법을 사용해야 한다.\n",
    "\n",
    "## #01. 준비작업\n",
    "\n",
    "### [1] 패키지 참조\n",
    "\n",
    "`scipy` 패키지의 설치가 필요하다. (이미 앞에서 설치함)"
   ]
  },
  {
   "cell_type": "code",
   "execution_count": 1,
   "metadata": {},
   "outputs": [],
   "source": [
    "import warnings\n",
    "warnings.filterwarnings(action='ignore')\n",
    "import sys\n",
    "import seaborn as sb\n",
    "from math import sqrt\n",
    "from matplotlib import pyplot as plt\n",
    "from pandas import read_excel\n",
    "from scipy.stats import t"
   ]
  },
  {
   "cell_type": "markdown",
   "metadata": {},
   "source": [
    "### [2] 그래프 초기화"
   ]
  },
  {
   "cell_type": "code",
   "execution_count": 2,
   "metadata": {},
   "outputs": [],
   "source": [
    "plt.rcParams['font.family']='AppleGothic' if sys.platform == 'darwin' else 'Malgun Gothic'\n",
    "plt.rcParams['font.size']=12\n",
    "plt.rcParams['figure.figsize']=(12,6)\n",
    "plt.rcParams['axes.unicode_minus']=False"
   ]
  },
  {
   "cell_type": "markdown",
   "metadata": {},
   "source": [
    "### [3] 데이터 가져오기"
   ]
  },
  {
   "cell_type": "code",
   "execution_count": 20,
   "metadata": {},
   "outputs": [
    {
     "data": {
      "text/html": [
       "<div>\n",
       "<style scoped>\n",
       "    .dataframe tbody tr th:only-of-type {\n",
       "        vertical-align: middle;\n",
       "    }\n",
       "\n",
       "    .dataframe tbody tr th {\n",
       "        vertical-align: top;\n",
       "    }\n",
       "\n",
       "    .dataframe thead th {\n",
       "        text-align: right;\n",
       "    }\n",
       "</style>\n",
       "<table border=\"1\" class=\"dataframe\">\n",
       "  <thead>\n",
       "    <tr style=\"text-align: right;\">\n",
       "      <th></th>\n",
       "      <th>지점명</th>\n",
       "      <th>운영기관</th>\n",
       "      <th>호선</th>\n",
       "      <th>위치</th>\n",
       "      <th>측정월</th>\n",
       "      <th>월평균</th>\n",
       "    </tr>\n",
       "  </thead>\n",
       "  <tbody>\n",
       "    <tr>\n",
       "      <th>0</th>\n",
       "      <td>청량리</td>\n",
       "      <td>서울교통공사</td>\n",
       "      <td>1호선</td>\n",
       "      <td>서울</td>\n",
       "      <td>202311</td>\n",
       "      <td>31.2</td>\n",
       "    </tr>\n",
       "    <tr>\n",
       "      <th>1</th>\n",
       "      <td>제기동</td>\n",
       "      <td>서울교통공사</td>\n",
       "      <td>1호선</td>\n",
       "      <td>서울</td>\n",
       "      <td>202311</td>\n",
       "      <td>60.2</td>\n",
       "    </tr>\n",
       "    <tr>\n",
       "      <th>2</th>\n",
       "      <td>신설동</td>\n",
       "      <td>서울교통공사</td>\n",
       "      <td>1호선</td>\n",
       "      <td>서울</td>\n",
       "      <td>202311</td>\n",
       "      <td>56.0</td>\n",
       "    </tr>\n",
       "    <tr>\n",
       "      <th>3</th>\n",
       "      <td>동묘</td>\n",
       "      <td>서울교통공사</td>\n",
       "      <td>1호선</td>\n",
       "      <td>서울</td>\n",
       "      <td>202311</td>\n",
       "      <td>57.6</td>\n",
       "    </tr>\n",
       "    <tr>\n",
       "      <th>4</th>\n",
       "      <td>동대문</td>\n",
       "      <td>서울교통공사</td>\n",
       "      <td>1호선</td>\n",
       "      <td>서울</td>\n",
       "      <td>202311</td>\n",
       "      <td>82.9</td>\n",
       "    </tr>\n",
       "    <tr>\n",
       "      <th>...</th>\n",
       "      <td>...</td>\n",
       "      <td>...</td>\n",
       "      <td>...</td>\n",
       "      <td>...</td>\n",
       "      <td>...</td>\n",
       "      <td>...</td>\n",
       "    </tr>\n",
       "    <tr>\n",
       "      <th>671</th>\n",
       "      <td>당곡</td>\n",
       "      <td>남서울경전철주식회사</td>\n",
       "      <td>신림선</td>\n",
       "      <td>서울</td>\n",
       "      <td>202311</td>\n",
       "      <td>14.4</td>\n",
       "    </tr>\n",
       "    <tr>\n",
       "      <th>672</th>\n",
       "      <td>신림</td>\n",
       "      <td>남서울경전철주식회사</td>\n",
       "      <td>신림선</td>\n",
       "      <td>서울</td>\n",
       "      <td>202311</td>\n",
       "      <td>19.7</td>\n",
       "    </tr>\n",
       "    <tr>\n",
       "      <th>673</th>\n",
       "      <td>서원</td>\n",
       "      <td>남서울경전철주식회사</td>\n",
       "      <td>신림선</td>\n",
       "      <td>서울</td>\n",
       "      <td>202311</td>\n",
       "      <td>13.1</td>\n",
       "    </tr>\n",
       "    <tr>\n",
       "      <th>674</th>\n",
       "      <td>서울대벤처타운</td>\n",
       "      <td>남서울경전철주식회사</td>\n",
       "      <td>신림선</td>\n",
       "      <td>서울</td>\n",
       "      <td>202311</td>\n",
       "      <td>15.6</td>\n",
       "    </tr>\n",
       "    <tr>\n",
       "      <th>675</th>\n",
       "      <td>관악산(서울대)</td>\n",
       "      <td>남서울경전철주식회사</td>\n",
       "      <td>신림선</td>\n",
       "      <td>서울</td>\n",
       "      <td>202311</td>\n",
       "      <td>13.0</td>\n",
       "    </tr>\n",
       "  </tbody>\n",
       "</table>\n",
       "<p>676 rows × 6 columns</p>\n",
       "</div>"
      ],
      "text/plain": [
       "          지점명        운영기관   호선  위치     측정월   월평균\n",
       "0         청량리      서울교통공사  1호선  서울  202311  31.2\n",
       "1         제기동      서울교통공사  1호선  서울  202311  60.2\n",
       "2         신설동      서울교통공사  1호선  서울  202311  56.0\n",
       "3          동묘      서울교통공사  1호선  서울  202311  57.6\n",
       "4         동대문      서울교통공사  1호선  서울  202311  82.9\n",
       "..        ...         ...  ...  ..     ...   ...\n",
       "671        당곡  남서울경전철주식회사  신림선  서울  202311  14.4\n",
       "672        신림  남서울경전철주식회사  신림선  서울  202311  19.7\n",
       "673        서원  남서울경전철주식회사  신림선  서울  202311  13.1\n",
       "674   서울대벤처타운  남서울경전철주식회사  신림선  서울  202311  15.6\n",
       "675  관악산(서울대)  남서울경전철주식회사  신림선  서울  202311  13.0\n",
       "\n",
       "[676 rows x 6 columns]"
      ]
     },
     "execution_count": 20,
     "metadata": {},
     "output_type": "execute_result"
    }
   ],
   "source": [
    "origin2 = read_excel('C:/Users/Jihwan/01Class/D.탐색적데이터분석/D.DataAnalysis/프로젝트2/미세먼지data/지하역사+초미세먼지+확정자료(2023년+11월)-공개.xlsx')\n",
    "origin2"
   ]
  },
  {
   "cell_type": "code",
   "execution_count": 4,
   "metadata": {},
   "outputs": [
    {
     "data": {
      "text/html": [
       "<div>\n",
       "<style scoped>\n",
       "    .dataframe tbody tr th:only-of-type {\n",
       "        vertical-align: middle;\n",
       "    }\n",
       "\n",
       "    .dataframe tbody tr th {\n",
       "        vertical-align: top;\n",
       "    }\n",
       "\n",
       "    .dataframe thead th {\n",
       "        text-align: right;\n",
       "    }\n",
       "</style>\n",
       "<table border=\"1\" class=\"dataframe\">\n",
       "  <thead>\n",
       "    <tr style=\"text-align: right;\">\n",
       "      <th></th>\n",
       "      <th>학년</th>\n",
       "      <th>성별</th>\n",
       "      <th>키</th>\n",
       "    </tr>\n",
       "  </thead>\n",
       "  <tbody>\n",
       "    <tr>\n",
       "      <th>0</th>\n",
       "      <td>1</td>\n",
       "      <td>남자</td>\n",
       "      <td>163</td>\n",
       "    </tr>\n",
       "    <tr>\n",
       "      <th>1</th>\n",
       "      <td>2</td>\n",
       "      <td>여자</td>\n",
       "      <td>154</td>\n",
       "    </tr>\n",
       "    <tr>\n",
       "      <th>2</th>\n",
       "      <td>1</td>\n",
       "      <td>남자</td>\n",
       "      <td>171</td>\n",
       "    </tr>\n",
       "    <tr>\n",
       "      <th>3</th>\n",
       "      <td>3</td>\n",
       "      <td>여자</td>\n",
       "      <td>160</td>\n",
       "    </tr>\n",
       "    <tr>\n",
       "      <th>4</th>\n",
       "      <td>4</td>\n",
       "      <td>남자</td>\n",
       "      <td>169</td>\n",
       "    </tr>\n",
       "    <tr>\n",
       "      <th>5</th>\n",
       "      <td>4</td>\n",
       "      <td>남자</td>\n",
       "      <td>175</td>\n",
       "    </tr>\n",
       "    <tr>\n",
       "      <th>6</th>\n",
       "      <td>2</td>\n",
       "      <td>남자</td>\n",
       "      <td>179</td>\n",
       "    </tr>\n",
       "    <tr>\n",
       "      <th>7</th>\n",
       "      <td>1</td>\n",
       "      <td>여자</td>\n",
       "      <td>166</td>\n",
       "    </tr>\n",
       "    <tr>\n",
       "      <th>8</th>\n",
       "      <td>1</td>\n",
       "      <td>남자</td>\n",
       "      <td>169</td>\n",
       "    </tr>\n",
       "    <tr>\n",
       "      <th>9</th>\n",
       "      <td>1</td>\n",
       "      <td>남자</td>\n",
       "      <td>164</td>\n",
       "    </tr>\n",
       "    <tr>\n",
       "      <th>10</th>\n",
       "      <td>2</td>\n",
       "      <td>여자</td>\n",
       "      <td>155</td>\n",
       "    </tr>\n",
       "    <tr>\n",
       "      <th>11</th>\n",
       "      <td>1</td>\n",
       "      <td>남자</td>\n",
       "      <td>172</td>\n",
       "    </tr>\n",
       "    <tr>\n",
       "      <th>12</th>\n",
       "      <td>3</td>\n",
       "      <td>여자</td>\n",
       "      <td>161</td>\n",
       "    </tr>\n",
       "    <tr>\n",
       "      <th>13</th>\n",
       "      <td>4</td>\n",
       "      <td>남자</td>\n",
       "      <td>170</td>\n",
       "    </tr>\n",
       "    <tr>\n",
       "      <th>14</th>\n",
       "      <td>4</td>\n",
       "      <td>남자</td>\n",
       "      <td>176</td>\n",
       "    </tr>\n",
       "    <tr>\n",
       "      <th>15</th>\n",
       "      <td>2</td>\n",
       "      <td>남자</td>\n",
       "      <td>180</td>\n",
       "    </tr>\n",
       "    <tr>\n",
       "      <th>16</th>\n",
       "      <td>1</td>\n",
       "      <td>여자</td>\n",
       "      <td>167</td>\n",
       "    </tr>\n",
       "    <tr>\n",
       "      <th>17</th>\n",
       "      <td>1</td>\n",
       "      <td>남자</td>\n",
       "      <td>170</td>\n",
       "    </tr>\n",
       "    <tr>\n",
       "      <th>18</th>\n",
       "      <td>1</td>\n",
       "      <td>남자</td>\n",
       "      <td>163</td>\n",
       "    </tr>\n",
       "    <tr>\n",
       "      <th>19</th>\n",
       "      <td>2</td>\n",
       "      <td>여자</td>\n",
       "      <td>154</td>\n",
       "    </tr>\n",
       "    <tr>\n",
       "      <th>20</th>\n",
       "      <td>1</td>\n",
       "      <td>남자</td>\n",
       "      <td>171</td>\n",
       "    </tr>\n",
       "    <tr>\n",
       "      <th>21</th>\n",
       "      <td>3</td>\n",
       "      <td>여자</td>\n",
       "      <td>160</td>\n",
       "    </tr>\n",
       "    <tr>\n",
       "      <th>22</th>\n",
       "      <td>4</td>\n",
       "      <td>남자</td>\n",
       "      <td>169</td>\n",
       "    </tr>\n",
       "    <tr>\n",
       "      <th>23</th>\n",
       "      <td>4</td>\n",
       "      <td>남자</td>\n",
       "      <td>175</td>\n",
       "    </tr>\n",
       "    <tr>\n",
       "      <th>24</th>\n",
       "      <td>2</td>\n",
       "      <td>남자</td>\n",
       "      <td>179</td>\n",
       "    </tr>\n",
       "    <tr>\n",
       "      <th>25</th>\n",
       "      <td>1</td>\n",
       "      <td>여자</td>\n",
       "      <td>166</td>\n",
       "    </tr>\n",
       "    <tr>\n",
       "      <th>26</th>\n",
       "      <td>1</td>\n",
       "      <td>남자</td>\n",
       "      <td>169</td>\n",
       "    </tr>\n",
       "    <tr>\n",
       "      <th>27</th>\n",
       "      <td>1</td>\n",
       "      <td>남자</td>\n",
       "      <td>164</td>\n",
       "    </tr>\n",
       "    <tr>\n",
       "      <th>28</th>\n",
       "      <td>2</td>\n",
       "      <td>여자</td>\n",
       "      <td>155</td>\n",
       "    </tr>\n",
       "    <tr>\n",
       "      <th>29</th>\n",
       "      <td>1</td>\n",
       "      <td>남자</td>\n",
       "      <td>172</td>\n",
       "    </tr>\n",
       "    <tr>\n",
       "      <th>30</th>\n",
       "      <td>3</td>\n",
       "      <td>여자</td>\n",
       "      <td>161</td>\n",
       "    </tr>\n",
       "    <tr>\n",
       "      <th>31</th>\n",
       "      <td>4</td>\n",
       "      <td>남자</td>\n",
       "      <td>170</td>\n",
       "    </tr>\n",
       "    <tr>\n",
       "      <th>32</th>\n",
       "      <td>4</td>\n",
       "      <td>남자</td>\n",
       "      <td>176</td>\n",
       "    </tr>\n",
       "    <tr>\n",
       "      <th>33</th>\n",
       "      <td>2</td>\n",
       "      <td>남자</td>\n",
       "      <td>180</td>\n",
       "    </tr>\n",
       "    <tr>\n",
       "      <th>34</th>\n",
       "      <td>1</td>\n",
       "      <td>여자</td>\n",
       "      <td>167</td>\n",
       "    </tr>\n",
       "    <tr>\n",
       "      <th>35</th>\n",
       "      <td>1</td>\n",
       "      <td>남자</td>\n",
       "      <td>170</td>\n",
       "    </tr>\n",
       "  </tbody>\n",
       "</table>\n",
       "</div>"
      ],
      "text/plain": [
       "    학년  성별    키\n",
       "0    1  남자  163\n",
       "1    2  여자  154\n",
       "2    1  남자  171\n",
       "3    3  여자  160\n",
       "4    4  남자  169\n",
       "5    4  남자  175\n",
       "6    2  남자  179\n",
       "7    1  여자  166\n",
       "8    1  남자  169\n",
       "9    1  남자  164\n",
       "10   2  여자  155\n",
       "11   1  남자  172\n",
       "12   3  여자  161\n",
       "13   4  남자  170\n",
       "14   4  남자  176\n",
       "15   2  남자  180\n",
       "16   1  여자  167\n",
       "17   1  남자  170\n",
       "18   1  남자  163\n",
       "19   2  여자  154\n",
       "20   1  남자  171\n",
       "21   3  여자  160\n",
       "22   4  남자  169\n",
       "23   4  남자  175\n",
       "24   2  남자  179\n",
       "25   1  여자  166\n",
       "26   1  남자  169\n",
       "27   1  남자  164\n",
       "28   2  여자  155\n",
       "29   1  남자  172\n",
       "30   3  여자  161\n",
       "31   4  남자  170\n",
       "32   4  남자  176\n",
       "33   2  남자  180\n",
       "34   1  여자  167\n",
       "35   1  남자  170"
      ]
     },
     "execution_count": 4,
     "metadata": {},
     "output_type": "execute_result"
    }
   ],
   "source": [
    "origin = read_excel('C:/Users/Jihwan/01Class/E.추론통계/수업자료/height.xlsx')\n",
    "origin"
   ]
  },
  {
   "cell_type": "markdown",
   "metadata": {},
   "source": [
    "## #02. 신뢰구간 구하기\n",
    "\n",
    "### [1] 신뢰구간을 구하는데 필요한 값 산출\n",
    "\n",
    "#### (1) 신뢰수준과 대상 데이터"
   ]
  },
  {
   "cell_type": "code",
   "execution_count": 21,
   "metadata": {},
   "outputs": [],
   "source": [
    "data2 = origin2['월평균']\n"
   ]
  },
  {
   "cell_type": "code",
   "execution_count": 5,
   "metadata": {},
   "outputs": [],
   "source": [
    "clevel = 0.95\n",
    "data = origin['키']"
   ]
  },
  {
   "cell_type": "markdown",
   "metadata": {},
   "source": [
    "#### (2) 샘플 사이즈"
   ]
  },
  {
   "cell_type": "code",
   "execution_count": 22,
   "metadata": {},
   "outputs": [
    {
     "data": {
      "text/plain": [
       "676"
      ]
     },
     "execution_count": 22,
     "metadata": {},
     "output_type": "execute_result"
    }
   ],
   "source": [
    "n = len(data2)\n",
    "n"
   ]
  },
  {
   "cell_type": "markdown",
   "metadata": {},
   "source": [
    "#### (3) 자유도 (degree of freedom)\n",
    "\n",
    "$총 관측치 - 1$"
   ]
  },
  {
   "cell_type": "code",
   "execution_count": 23,
   "metadata": {},
   "outputs": [
    {
     "data": {
      "text/plain": [
       "675"
      ]
     },
     "execution_count": 23,
     "metadata": {},
     "output_type": "execute_result"
    }
   ],
   "source": [
    "dof = n - 1\n",
    "dof"
   ]
  },
  {
   "cell_type": "markdown",
   "metadata": {},
   "source": [
    "#### (4) 표본 평균"
   ]
  },
  {
   "cell_type": "code",
   "execution_count": 24,
   "metadata": {},
   "outputs": [
    {
     "data": {
      "text/plain": [
       "28.268343195266276"
      ]
     },
     "execution_count": 24,
     "metadata": {},
     "output_type": "execute_result"
    }
   ],
   "source": [
    "sample_mean = data2.mean()\n",
    "sample_mean"
   ]
  },
  {
   "cell_type": "markdown",
   "metadata": {},
   "source": [
    "#### (5) 표본 표준 편차\n",
    "\n",
    "파이썬에서는 표준편차를 계산할 때, 옵션으로 `ddof`를 사용한다.\n",
    "\n",
    "`ddof=1`은 표준편차를 계산할 때, `n-1`로 나누라는 의미"
   ]
  },
  {
   "cell_type": "code",
   "execution_count": 25,
   "metadata": {},
   "outputs": [
    {
     "data": {
      "text/plain": [
       "15.012807497421496"
      ]
     },
     "execution_count": 25,
     "metadata": {},
     "output_type": "execute_result"
    }
   ],
   "source": [
    "sample_std = data2.std(ddof=1)\n",
    "sample_std"
   ]
  },
  {
   "cell_type": "markdown",
   "metadata": {},
   "source": [
    "#### (6) 표본 표준오차\n",
    "\n",
    "${표준편차 \\over \\sqrt{샘플크기}}$"
   ]
  },
  {
   "cell_type": "code",
   "execution_count": 26,
   "metadata": {},
   "outputs": [
    {
     "data": {
      "text/plain": [
       "0.5774156729777499"
      ]
     },
     "execution_count": 26,
     "metadata": {},
     "output_type": "execute_result"
    }
   ],
   "source": [
    "sample_std_error = sample_std/ sqrt(n)\n",
    "sample_std_error"
   ]
  },
  {
   "cell_type": "markdown",
   "metadata": {},
   "source": [
    "### [2] 신뢰구간\n",
    "\n",
    "`scipy.stats` 패키지의 `t` 객체가 포함하는 `interval(신뢰도, 자유도, loc=샘플평균, scale=샘플표준오차)` 메서드를 사용한다.\n",
    "\n",
    "| 파라미터 | 설명 |\n",
    "|---|---|\n",
    "| 신뢰도 | `95%`, `90%` 등을 `0~1` 범위 안에서 설정 |\n",
    "| 자유도 | 통계 모델의 매개변수나 관측치들이 얼마나 자유롭게 변할 수 있는지를 나타내는 값<br/>$전체 데이터 수 - 1$ |\n",
    "| 샘플평균 | 데이터들의 평균값 |\n",
    "| 샘플표준오차 | 데이터들의 표준오차 -> ${표준편차 \\over \\sqrt{샘플크기}}$ | "
   ]
  },
  {
   "cell_type": "markdown",
   "metadata": {},
   "source": [
    "## #03. 신뢰구간 범위 시각화"
   ]
  },
  {
   "cell_type": "code",
   "execution_count": 27,
   "metadata": {},
   "outputs": [
    {
     "data": {
      "text/plain": [
       "(27.13459637688728, 29.40209001364527)"
      ]
     },
     "execution_count": 27,
     "metadata": {},
     "output_type": "execute_result"
    }
   ],
   "source": [
    "cmin, cmax = t.interval(clevel,dof,loc=sample_mean,scale=sample_std_error)\n",
    "cmin, cmax"
   ]
  },
  {
   "cell_type": "code",
   "execution_count": 30,
   "metadata": {},
   "outputs": [
    {
     "data": {
      "image/png": "[encoded data removed]",
      "text/plain": [
       "<Figure size 1200x600 with 1 Axes>"
      ]
     },
     "metadata": {},
     "output_type": "display_data"
    }
   ],
   "source": [
    "plt.figure()\n",
    "\n",
    "sb.kdeplot(data=data2)\n",
    "\n",
    "xmin, xmax, ymin, ymax = plt.axis()\n",
    "#print(xmin, xmax, ymin, ymax)\n",
    "\n",
    "# 신뢰구간\n",
    "\n",
    "plt.plot([cmin,cmin],[0,ymax],linestyle=':')\n",
    "plt.plot([cmax,cmax],[0,ymax],linestyle=':')\n",
    "plt.fill_between([cmin,cmax],y1=0,y2=ymax, alpha=0.1)\n",
    "\n",
    "\n",
    "# 평균 그리기\n",
    "plt.plot([sample_mean,sample_mean],[0,ymax],linestyle='--',linewidth=2)\n",
    "\n",
    "# 텍스트 넣기\n",
    "\n",
    "plt.text(x=sample_mean,y=ymax,\n",
    "         s='[%s] %0.1f ~ %0.1f' % (data2.name,cmin,cmax),\n",
    "         horizontalalignment='center',\n",
    "         verticalalignment='bottom',\n",
    "         fontdict={'size':10,'color':'red'})\n",
    "\n",
    "plt.ylim(ymin, ymax*1.1)\n",
    "plt.grid()\n",
    "plt.show()\n",
    "plt.close()\n"
   ]
  },
  {
   "cell_type": "code",
   "execution_count": null,
   "metadata": {},
   "outputs": [],
   "source": []
  }
 ],
 "metadata": {
  "kernelspec": {
   "display_name": "Python 3",
   "language": "python",
   "name": "python3"
  },
  "language_info": {
   "codemirror_mode": {
    "name": "ipython",
    "version": 3
   },
   "file_extension": ".py",
   "mimetype": "text/x-python",
   "name": "python",
   "nbconvert_exporter": "python",
   "pygments_lexer": "ipython3",
   "version": "3.11.7"
  }
 },
 "nbformat": 4,
 "nbformat_minor": 2
}
