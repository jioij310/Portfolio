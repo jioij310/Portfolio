{
 "cells": [
  {
   "cell_type": "markdown",
   "metadata": {},
   "source": [
    "# 분산분석 모듈화\n",
    "\n",
    "## #01. 준비작업\n",
    "\n",
    "### [1] 패키지 가져오기\n"
   ]
  },
  {
   "cell_type": "code",
   "execution_count": 1,
   "metadata": {},
   "outputs": [],
   "source": [
    "import sys\n",
    "import os\n",
    "work_path = os.path.abspath(os.path.join(os.getcwd(), '../../../../'))\n",
    "sys.path.append(work_path)\n",
    "from helper.regression import *\n",
    "from helper.plot import *\n",
    "from helper.util import *\n",
    "from helper.analysis import *"
   ]
  },
  {
   "cell_type": "markdown",
   "metadata": {},
   "source": [
    "## #01. 일원분산분석\n",
    "\n",
    "### [1] 데이터 가져오기"
   ]
  },
  {
   "cell_type": "code",
   "execution_count": 2,
   "metadata": {},
   "outputs": [
    {
     "name": "stdout",
     "output_type": "stream",
     "text": [
      "데이터프레임 크기: 행 수: 100, 열 수: 2\n",
      "\n",
      "데이터프레임 상위 5개 행\n",
      "+----+----------+----------+\n",
      "|    |   store1 |   store2 |\n",
      "|----+----------+----------|\n",
      "|  0 |       34 |       63 |\n",
      "|  1 |       63 |       85 |\n",
      "|  2 |       57 |       75 |\n",
      "|  3 |       50 |       48 |\n",
      "|  4 |       37 |       58 |\n",
      "+----+----------+----------+\n",
      "\n",
      "데이터프레임 하위 5개 행\n",
      "+----+----------+----------+\n",
      "|    |   store1 |   store2 |\n",
      "|----+----------+----------|\n",
      "| 95 |       53 |       69 |\n",
      "| 96 |       52 |       51 |\n",
      "| 97 |       52 |       65 |\n",
      "| 98 |       49 |       59 |\n",
      "| 99 |       44 |       71 |\n",
      "+----+----------+----------+\n",
      "\n",
      "기술통계\n",
      "+--------+---------+--------+---------+-------+-------+-------+-------+-------+-------+\n",
      "|        |   count |   mean |     std |   min |   25% |   50% |   75% |   max |   nan |\n",
      "|--------+---------+--------+---------+-------+-------+-------+-------+-------+-------|\n",
      "| store1 |     100 |  50.36 | 10.6842 |    14 |    44 |    51 | 57.25 |    71 |     0 |\n",
      "| store2 |     100 |  61.07 | 9.01094 |    40 |    54 |    61 | 66.25 |    85 |     0 |\n",
      "+--------+---------+--------+---------+-------+-------+-------+-------+-------+-------+\n"
     ]
    }
   ],
   "source": [
    "origin = my_read_excel('C:/Users/Jihwan/Desktop/01Class/E.추론통계/E.InferentialStatistics/수업자료/store.xlsx')"
   ]
  },
  {
   "cell_type": "code",
   "execution_count": 3,
   "metadata": {},
   "outputs": [
    {
     "name": "stdout",
     "output_type": "stream",
     "text": [
      "+----+------------+---------+\n",
      "|    | variable   |   value |\n",
      "|----+------------+---------|\n",
      "|  0 | store1     |      34 |\n",
      "|  1 | store1     |      63 |\n",
      "|  2 | store1     |      57 |\n",
      "|  3 | store1     |      50 |\n",
      "|  4 | store1     |      37 |\n",
      "+----+------------+---------+\n"
     ]
    }
   ],
   "source": [
    "df = melt(origin)\n",
    "my_pretty_table(df.head())"
   ]
  },
  {
   "cell_type": "markdown",
   "metadata": {},
   "source": [
    "### [2] 일원분산분석 수행"
   ]
  },
  {
   "cell_type": "code",
   "execution_count": 4,
   "metadata": {},
   "outputs": [
    {
     "name": "stdout",
     "output_type": "stream",
     "text": [
      "pingouin.welch_anova\n",
      "+----+----------+---------+---------+---------+-------------+----------+\n",
      "|    | Source   |   ddof1 |   ddof2 |       F |       p-unc |      np2 |\n",
      "|----+----------+---------+---------+---------+-------------+----------|\n",
      "|  0 | variable |       1 | 192.521 | 58.7175 | 8.69483e-13 | 0.228724 |\n",
      "+----+----------+---------+---------+---------+-------------+----------+\n",
      "\n",
      "statsmodels.anova.anova_lm\n",
      "+-------------+------+----------+-----------+---------+-------------+\n",
      "|             |   df |   sum_sq |   mean_sq |       F |      PR(>F) |\n",
      "|-------------+------+----------+-----------+---------+-------------|\n",
      "| C(variable) |    1 |   5735.2 |    5735.2 | 58.7175 | 7.94548e-13 |\n",
      "| Residual    |  198 |  19339.5 |   97.6745 |     nan |         nan |\n",
      "+-------------+------+----------+-----------+---------+-------------+\n",
      "[anova_lm] statistic: 58.718, p-value: 0.000, 대립가설 채택\n",
      "\n",
      "사후검정: Games-Howell 방법\n",
      "+----+--------+--------+-----------+-----------+--------+---------+----------+---------+-------------+----------+\n",
      "|    | A      | B      |   mean(A) |   mean(B) |   diff |      se |        T |      df |        pval |   hedges |\n",
      "|----+--------+--------+-----------+-----------+--------+---------+----------+---------+-------------+----------|\n",
      "|  0 | store1 | store2 |     50.36 |     61.07 | -10.71 | 1.39767 | -7.66274 | 192.521 | 9.28146e-13 | -1.07956 |\n",
      "+----+--------+--------+-----------+-----------+--------+---------+----------+---------+-------------+----------+\n"
     ]
    }
   ],
   "source": [
    "my_anova(df, 'value', 'variable', False)"
   ]
  },
  {
   "cell_type": "markdown",
   "metadata": {},
   "source": [
    "## #03. 이원분산분석\n",
    "\n",
    "### [1] 데이터 가져오기"
   ]
  },
  {
   "cell_type": "code",
   "execution_count": 5,
   "metadata": {},
   "outputs": [
    {
     "name": "stdout",
     "output_type": "stream",
     "text": [
      "데이터프레임 크기: 행 수: 120, 열 수: 3\n",
      "\n",
      "데이터프레임 상위 5개 행\n",
      "+----+---------+-------+----------+\n",
      "|    | water   | sun   |   height |\n",
      "|----+---------+-------+----------|\n",
      "|  0 | daily   | low   |      4.9 |\n",
      "|  1 | daily   | low   |      7.9 |\n",
      "|  2 | daily   | low   |      3.9 |\n",
      "|  3 | daily   | low   |      5.1 |\n",
      "|  4 | daily   | low   |      5.2 |\n",
      "+----+---------+-------+----------+\n",
      "\n",
      "데이터프레임 하위 5개 행\n",
      "+-----+---------+-------+----------+\n",
      "|     | water   | sun   |   height |\n",
      "|-----+---------+-------+----------|\n",
      "| 115 | weekly  | high  |      5.4 |\n",
      "| 116 | weekly  | high  |      5.9 |\n",
      "| 117 | weekly  | high  |      5.6 |\n",
      "| 118 | weekly  | high  |      5.3 |\n",
      "| 119 | weekly  | high  |      4.8 |\n",
      "+-----+---------+-------+----------+\n",
      "\n",
      "기술통계\n",
      "+--------+---------+---------+---------+-------+-------+-------+-------+-------+-------+\n",
      "|        |   count |    mean |     std |   min |   25% |   50% |   75% |   max |   nan |\n",
      "|--------+---------+---------+---------+-------+-------+-------+-------+-------+-------|\n",
      "| height |     120 | 5.60167 | 1.68458 |   1.9 | 4.575 |   5.5 |   6.7 |  10.5 |     0 |\n",
      "+--------+---------+---------+---------+-------+-------+-------+-------+-------+-------+\n"
     ]
    }
   ],
   "source": [
    "origin = my_read_excel('C:/Users/Jihwan/Desktop/01Class/E.추론통계/E.InferentialStatistics/수업자료/plant_growth.xlsx')"
   ]
  },
  {
   "cell_type": "markdown",
   "metadata": {},
   "source": [
    "### [2] 분산분석 수행"
   ]
  },
  {
   "cell_type": "code",
   "execution_count": 8,
   "metadata": {},
   "outputs": [
    {
     "name": "stdout",
     "output_type": "stream",
     "text": [
      "pingouin.anova\n",
      "+----+-------------+---------+------+----------+---------+-------------+----------+\n",
      "|    | Source      |      SS |   DF |       MS |       F |       p-unc |      np2 |\n",
      "|----+-------------+---------+------+----------+---------+-------------+----------|\n",
      "|  0 | water       | 122.816 |    1 |  122.816 | 130.529 | 1.30131e-20 | 0.533798 |\n",
      "|  1 | sun         | 103.292 |    2 |  51.6461 | 54.8894 | 2.01328e-17 | 0.490568 |\n",
      "|  2 | water * sun | 4.32717 |    2 |  2.16358 | 2.29945 |    0.104949 | 0.038777 |\n",
      "|  3 | Residual    | 107.264 |  114 | 0.940912 |     nan |         nan |      nan |\n",
      "+----+-------------+---------+------+----------+---------+-------------+----------+\n",
      "\n",
      "statsmodels.anova.anova_lm\n",
      "+-----------------+----------+------+---------+-------------+\n",
      "|                 |   sum_sq |   df |       F |      PR(>F) |\n",
      "|-----------------+----------+------+---------+-------------|\n",
      "| C(water)        |  122.816 |    1 | 130.529 | 1.30131e-20 |\n",
      "| C(sun)          |  103.292 |    2 | 54.8894 | 2.01328e-17 |\n",
      "| C(water):C(sun) |  4.32717 |    2 | 2.29945 |    0.104949 |\n",
      "| Residual        |  107.264 |  114 |     nan |         nan |\n",
      "+-----------------+----------+------+---------+-------------+\n",
      "[anova_lm] statistic: 130.529, p-value: 0.000, 대립가설 채택\n"
     ]
    }
   ],
   "source": [
    "my_anova(origin, 'height', ['water', 'sun'],True)"
   ]
  },
  {
   "cell_type": "code",
   "execution_count": null,
   "metadata": {},
   "outputs": [],
   "source": []
  },
  {
   "cell_type": "code",
   "execution_count": null,
   "metadata": {},
   "outputs": [],
   "source": []
  }
 ],
 "metadata": {
  "kernelspec": {
   "display_name": "Python 3",
   "language": "python",
   "name": "python3"
  },
  "language_info": {
   "codemirror_mode": {
    "name": "ipython",
    "version": 3
   },
   "file_extension": ".py",
   "mimetype": "text/x-python",
   "name": "python",
   "nbconvert_exporter": "python",
   "pygments_lexer": "ipython3",
   "version": "3.11.7"
  }
 },
 "nbformat": 4,
 "nbformat_minor": 2
}
