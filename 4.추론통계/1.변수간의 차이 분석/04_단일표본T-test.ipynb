{
 "cells": [
  {
   "cell_type": "markdown",
   "metadata": {},
   "source": [
    "# 단일 표본 T-Test (One Sample T-Test)\n",
    "\n",
    "**하나의 모집단 평균**이 **이전보다** 달라졌는지/같은지, 달라졌다면 커졌는지/작아졌는지를 통계적으로 알아보기 위해 사용한다.\n",
    "\n",
    "기존에 알려져 있던 사실이 현재는 어떻게 변화 했는지를 확인하는 방법이다.\n",
    "\n",
    "단일 표본 T-Test에서는 데이터의 정규성만을 확인하고 등분산성은 확인하지 않는다.\n",
    "\n",
    "등분산성은 두 개 이상의 집단일 경우에만 확인한다.\n",
    "\n",
    "## #01. 준비작업\n",
    "\n",
    "### [1] 패키지 참조\n"
   ]
  },
  {
   "cell_type": "code",
   "execution_count": 1,
   "metadata": {},
   "outputs": [],
   "source": [
    "import warnings\n",
    "warnings.filterwarnings(action='ignore')\n",
    "\n",
    "import sys\n",
    "import numpy as np\n",
    "import seaborn as sb\n",
    "from math import sqrt\n",
    "from pandas import read_excel\n",
    "from matplotlib import pyplot as plt\n",
    "from scipy.stats import t, ttest_1samp, normaltest"
   ]
  },
  {
   "cell_type": "markdown",
   "metadata": {},
   "source": [
    "### [2] 그래프 초기화\n"
   ]
  },
  {
   "cell_type": "code",
   "execution_count": 2,
   "metadata": {},
   "outputs": [],
   "source": [
    "plt.rcParams['font.family']='AppleGothic' if sys.platform == 'darwin' else 'Malgun Gothic'\n",
    "plt.rcParams['font.size']=12\n",
    "plt.rcParams['figure.figsize']=(12,6)\n",
    "plt.rcParams['axes.unicode_minus']=False"
   ]
  },
  {
   "cell_type": "markdown",
   "metadata": {},
   "source": [
    "## #02. 예제(1) - 강아지 체온 변화\n",
    "\n",
    "주어진 데이터는 강아지 25마리의 체온을 측정한 데이터이다. 과거의 자료에서 강아지의 평균 체온은 24.3알려져 있다.\n",
    "\n",
    "이번에 조사한 데이터에서도 강아지의 평균 체온이 24.3이라고 해도 좋은지 알고 싶다.\n",
    "\n",
    "주어진 데이터가 정규성을 충족하는지 확인한 후 정규성이 충족된다면 강아지의 평균 체온에 대한 가설검정을 수행하라.\n",
    "\n",
    "### [1] 데이터 가져오기\n"
   ]
  },
  {
   "cell_type": "code",
   "execution_count": 3,
   "metadata": {},
   "outputs": [
    {
     "data": {
      "text/html": [
       "<div>\n",
       "<style scoped>\n",
       "    .dataframe tbody tr th:only-of-type {\n",
       "        vertical-align: middle;\n",
       "    }\n",
       "\n",
       "    .dataframe tbody tr th {\n",
       "        vertical-align: top;\n",
       "    }\n",
       "\n",
       "    .dataframe thead th {\n",
       "        text-align: right;\n",
       "    }\n",
       "</style>\n",
       "<table border=\"1\" class=\"dataframe\">\n",
       "  <thead>\n",
       "    <tr style=\"text-align: right;\">\n",
       "      <th></th>\n",
       "      <th>체온</th>\n",
       "    </tr>\n",
       "  </thead>\n",
       "  <tbody>\n",
       "    <tr>\n",
       "      <th>0</th>\n",
       "      <td>25.8</td>\n",
       "    </tr>\n",
       "    <tr>\n",
       "      <th>1</th>\n",
       "      <td>24.6</td>\n",
       "    </tr>\n",
       "    <tr>\n",
       "      <th>2</th>\n",
       "      <td>26.1</td>\n",
       "    </tr>\n",
       "    <tr>\n",
       "      <th>3</th>\n",
       "      <td>22.9</td>\n",
       "    </tr>\n",
       "    <tr>\n",
       "      <th>4</th>\n",
       "      <td>25.1</td>\n",
       "    </tr>\n",
       "    <tr>\n",
       "      <th>5</th>\n",
       "      <td>27.3</td>\n",
       "    </tr>\n",
       "    <tr>\n",
       "      <th>6</th>\n",
       "      <td>24.0</td>\n",
       "    </tr>\n",
       "    <tr>\n",
       "      <th>7</th>\n",
       "      <td>24.5</td>\n",
       "    </tr>\n",
       "    <tr>\n",
       "      <th>8</th>\n",
       "      <td>23.9</td>\n",
       "    </tr>\n",
       "    <tr>\n",
       "      <th>9</th>\n",
       "      <td>26.2</td>\n",
       "    </tr>\n",
       "    <tr>\n",
       "      <th>10</th>\n",
       "      <td>24.3</td>\n",
       "    </tr>\n",
       "    <tr>\n",
       "      <th>11</th>\n",
       "      <td>24.6</td>\n",
       "    </tr>\n",
       "    <tr>\n",
       "      <th>12</th>\n",
       "      <td>23.3</td>\n",
       "    </tr>\n",
       "    <tr>\n",
       "      <th>13</th>\n",
       "      <td>25.5</td>\n",
       "    </tr>\n",
       "    <tr>\n",
       "      <th>14</th>\n",
       "      <td>28.1</td>\n",
       "    </tr>\n",
       "    <tr>\n",
       "      <th>15</th>\n",
       "      <td>24.8</td>\n",
       "    </tr>\n",
       "    <tr>\n",
       "      <th>16</th>\n",
       "      <td>23.5</td>\n",
       "    </tr>\n",
       "    <tr>\n",
       "      <th>17</th>\n",
       "      <td>26.3</td>\n",
       "    </tr>\n",
       "    <tr>\n",
       "      <th>18</th>\n",
       "      <td>25.4</td>\n",
       "    </tr>\n",
       "    <tr>\n",
       "      <th>19</th>\n",
       "      <td>25.5</td>\n",
       "    </tr>\n",
       "    <tr>\n",
       "      <th>20</th>\n",
       "      <td>23.9</td>\n",
       "    </tr>\n",
       "    <tr>\n",
       "      <th>21</th>\n",
       "      <td>27.0</td>\n",
       "    </tr>\n",
       "    <tr>\n",
       "      <th>22</th>\n",
       "      <td>24.8</td>\n",
       "    </tr>\n",
       "    <tr>\n",
       "      <th>23</th>\n",
       "      <td>22.9</td>\n",
       "    </tr>\n",
       "    <tr>\n",
       "      <th>24</th>\n",
       "      <td>25.4</td>\n",
       "    </tr>\n",
       "  </tbody>\n",
       "</table>\n",
       "</div>"
      ],
      "text/plain": [
       "      체온\n",
       "0   25.8\n",
       "1   24.6\n",
       "2   26.1\n",
       "3   22.9\n",
       "4   25.1\n",
       "5   27.3\n",
       "6   24.0\n",
       "7   24.5\n",
       "8   23.9\n",
       "9   26.2\n",
       "10  24.3\n",
       "11  24.6\n",
       "12  23.3\n",
       "13  25.5\n",
       "14  28.1\n",
       "15  24.8\n",
       "16  23.5\n",
       "17  26.3\n",
       "18  25.4\n",
       "19  25.5\n",
       "20  23.9\n",
       "21  27.0\n",
       "22  24.8\n",
       "23  22.9\n",
       "24  25.4"
      ]
     },
     "execution_count": 3,
     "metadata": {},
     "output_type": "execute_result"
    }
   ],
   "source": [
    "origin = read_excel('C:/Users/Jihwan/01Class/E.추론통계/수업자료/temperature.xlsx')\n",
    "origin"
   ]
  },
  {
   "cell_type": "markdown",
   "metadata": {},
   "source": [
    "### [2] 신뢰구간 확인\n"
   ]
  },
  {
   "cell_type": "code",
   "execution_count": 4,
   "metadata": {},
   "outputs": [
    {
     "data": {
      "image/png": "[encoded data removed]",
      "text/plain": [
       "<Figure size 1200x600 with 1 Axes>"
      ]
     },
     "metadata": {},
     "output_type": "display_data"
    }
   ],
   "source": [
    "plt.figure()\n",
    "\n",
    "data = origin['체온']\n",
    "max=data.max()\n",
    "clevel=0.95\n",
    "dof = len(data)-1\n",
    "sample_mean = data.mean()\n",
    "sample_std = data.std(ddof=1)\n",
    "sample_std_error = sample_std / sqrt(len(data))\n",
    "\n",
    "# 신뢰구간\n",
    "cmin, cmax = t.interval(clevel, dof, loc=sample_mean, scale=sample_std_error)\n",
    "\n",
    "sb.kdeplot(data=data)\n",
    "\n",
    "xmin, xmax, ymin, ymax = plt.axis()\n",
    "\n",
    "plt.plot([cmin,cmin], [ymin,ymax], linestyle=':')\n",
    "plt.plot([cmax,cmax], [ymin,ymax], linestyle=':')\n",
    "plt.fill_between([cmin,cmax], y1=0, y2=ymax, alpha=0.1)\n",
    "\n",
    "plt.plot([sample_mean, sample_mean],[ymin,ymax],linestyle='--',linewidth=2)\n",
    "\n",
    "plt.text(x=(cmax-cmin)/2+cmin,\n",
    "         y=ymax,\n",
    "         s='[%s] %0.1f ~ %0.1f' % (data.name, cmin, cmax),\n",
    "         horizontalalignment = 'center',\n",
    "         verticalalignment = 'bottom',\n",
    "         fontdict={'size':12, 'color':'red'})\n",
    "\n",
    "plt.ylim(ymin, ymax*1.1)\n",
    "\n",
    "txt = \"\"\"커널 밀도 함수 그래프의 모양이 정규분포를 띄고 있으며, 표본평균({:,.1f})이 신뢰구간({:,.1f} ~ {:.1f})에 포함되어 있으므로,\n",
    "강아지의 체온이 정상범위에 있다고 할 수 있다.\"\"\".format(sample_mean,cmin,cmax)\n",
    "          \n",
    "plt.figtext(0.51,0,txt,wrap=True,\n",
    "            verticalalignment='top', horizontalalignment='center',\n",
    "            fontdict={'size':12, 'weight':'light'})\n",
    "\n",
    "plt.grid()\n",
    "plt.show()\n",
    "plt.close()"
   ]
  },
  {
   "cell_type": "markdown",
   "metadata": {},
   "source": [
    "### [3] 데이터의 정규성 검정\n"
   ]
  },
  {
   "cell_type": "code",
   "execution_count": 5,
   "metadata": {},
   "outputs": [
    {
     "data": {
      "text/plain": [
       "'statistic: 0.819, p-value: 0.664, 정규성 충족 여부: True'"
      ]
     },
     "execution_count": 5,
     "metadata": {},
     "output_type": "execute_result"
    }
   ],
   "source": [
    "s, p = normaltest(origin['체온'])\n",
    "\"statistic: {0:.3f}, p-value: {1:.3f}, 정규성 충족 여부: {2}\".format(s, p, p >= 0.05)"
   ]
  },
  {
   "cell_type": "markdown",
   "metadata": {},
   "source": [
    "> `p-value`가 `0.664`이므로 ($P \\geq 0.05$) 정규성을 충족한다.\n"
   ]
  },
  {
   "cell_type": "markdown",
   "metadata": {},
   "source": [
    "### [4] 강아지의 평균 체온이 이전에 알려져 있던 `24.3`과 달려졌는지 여부\n",
    "\n",
    "#### (1) T검증 수행\n",
    "\n",
    "| 구분               | 수식            | 내용                                       |\n",
    "| ------------------ | --------------- | ------------------------------------------ |\n",
    "| 강아지의 평균 체온 | $\\mu$           |                                            |\n",
    "| 귀무가설($H_0$)    | $\\mu = 24.3$    | 강아지의 평균 체온은 `24.3`과 차이가 없다. |\n",
    "| 대립가설($H_1$)    | $\\mu \\neq 24.3$ | 강아지의 평균 체온은 `24.3`과 차이가 있다. |\n"
   ]
  },
  {
   "cell_type": "code",
   "execution_count": 6,
   "metadata": {},
   "outputs": [
    {
     "data": {
      "text/plain": [
       "'statistic:2.713, p-value:  0.012, 대립가설 채택'"
      ]
     },
     "execution_count": 6,
     "metadata": {},
     "output_type": "execute_result"
    }
   ],
   "source": [
    "s, p = ttest_1samp(origin['체온'], 24.3)\n",
    "'statistic:{0:.3f}, p-value: {1: .3f}, {2}가설 채택'.format(s,p,'대립'if p<0.05 else '귀무')"
   ]
  },
  {
   "cell_type": "markdown",
   "metadata": {},
   "source": [
    "#### (2) 결과 해석\n",
    "\n",
    "##### statistic(T값, 검정 통계량)\n",
    "\n",
    "표본 데이터를 이용하여 계산되는 값으로 p-값을 계산하기 위해 사용된다.\n",
    "\n",
    "##### P값(p-value)\n",
    "\n",
    "| 구분                 | 설명                                                         | 결론          |\n",
    "| -------------------- | ------------------------------------------------------------ | ------------- |\n",
    "| $P \\lt 0.01$         | 귀무가설이 옳을 확률이 `0.01` 미만(깐깐한 기준)     | 대립가설 채택 |\n",
    "| $P \\lt 0.05$         | 귀무가설이 옳을 확률이 `0.05` 미만(일반적인 기준)   | 대립가설 채택 |\n",
    "| $0.05 \\lt P \\lt 0.1$ | 애매한 경우(샘플링을 다시한다)                               | 귀무가설 채택 |\n",
    "| $0.1 \\lt P$          | 귀무가설이 옳을 확률이 0.1 이상 | 귀무가설 채택 |\n",
    "\n",
    "##### 결과값의 의미\n",
    "\n",
    "출력에서 일표본 T검정에 대한 유의확률값이 `0.012`로 통상적인 유의수준 0.05보다 작으므로 `유의수준 0.05에서 강아지 25마라의 체온이 추출된 모집단의 평균인 24.3이라고 할 수 없다.`\n"
   ]
  },
  {
   "cell_type": "markdown",
   "metadata": {},
   "source": [
    "### [5] 강아지의 평균 체온이 과거의 자료인 24.3보다 작아졌는지 알고자 하는 경우\n",
    "\n",
    "`alternative` 파라미터에 `less`를 설정한다.\n",
    "\n",
    "> 대립가설을 중심으로 생각하면 쉽다\n",
    "\n",
    "| 구분            | 수식            | 설명                                      |\n",
    "| --------------- | --------------- | ----------------------------------------- |\n",
    "| 귀무가설($H_0$) | $\\mu \\geq 24.3$ | 강아지의 평균 체온은 `24.3`보다 작지 않다 |\n",
    "| 대립가설($H_1$) | $\\mu \\lt 24.3$  | 강아지의 평균 체온은 `24.3`보다 작다      |\n"
   ]
  },
  {
   "cell_type": "code",
   "execution_count": 7,
   "metadata": {},
   "outputs": [
    {
     "data": {
      "text/plain": [
       "'statistic:2.713, p-value:  0.994, 귀무가설 채택'"
      ]
     },
     "execution_count": 7,
     "metadata": {},
     "output_type": "execute_result"
    }
   ],
   "source": [
    "s, p = ttest_1samp(origin['체온'], 24.3,alternative='less')\n",
    "'statistic:{0:.3f}, p-value: {1: .3f}, {2}가설 채택'.format(s,p,'대립'if p<0.05 else '귀무')"
   ]
  },
  {
   "cell_type": "markdown",
   "metadata": {},
   "source": [
    "> `p-value`가 `0.05`보다 크므로 귀무가설을 기각할 수 없다. 즉, 강아지의 평균 체온은 `24.3`보다 작지 않다.\n"
   ]
  },
  {
   "cell_type": "markdown",
   "metadata": {},
   "source": [
    "### [6] 강아지의 평균 체온이 과거의 자료인 `24.3`보다 커졌는지 알고자 하는 경우\n",
    "\n",
    "| 구분            | 수식            | 설명                                      |\n",
    "| --------------- | --------------- | ----------------------------------------- |\n",
    "| 귀무가설($H_0$) | $\\mu \\leq 24.3$ | 강아지의 평균 체온은 `24.3`보다 크지 않다 |\n",
    "| 대립가설($H_1$) | $\\mu \\gt 24.3$  | 강아지의 평균 체온은 `24.3`보다 크다      |\n"
   ]
  },
  {
   "cell_type": "code",
   "execution_count": 8,
   "metadata": {},
   "outputs": [
    {
     "data": {
      "text/plain": [
       "'statistic:2.713, p-value:  0.006, 대립가설 채택'"
      ]
     },
     "execution_count": 8,
     "metadata": {},
     "output_type": "execute_result"
    }
   ],
   "source": [
    "s, p = ttest_1samp(origin['체온'], 24.3,alternative='greater')\n",
    "'statistic:{0:.3f}, p-value: {1: .3f}, {2}가설 채택'.format(s,p,'대립'if p<0.05 else '귀무')"
   ]
  },
  {
   "cell_type": "markdown",
   "metadata": {},
   "source": [
    "> `p-value`가 `0.05`보다 작으므로 귀무가설을 기각하고 대립가설을 채택한다. 즉, 강아지의 평균 체온은 `24.3`보다 크다\n"
   ]
  },
  {
   "cell_type": "markdown",
   "metadata": {},
   "source": [
    "## #03. 예제(2) - 생명보험 가입 금액 평균 비교\n",
    "\n",
    "주어진 데이터는 어느 보험회사에서 한해 동안 모집한 가입원들에 대한 가입 정보이다.\n",
    "\n",
    "이 회사에서 올해 실적을 가입원들의 평균 가입금액이 1억원인 것을 목표로 삼았을 때,\n",
    "\n",
    "이 회사는 목표실적을 달성했다고 볼 수 있는지 검정하라.\n",
    "\n",
    "### [1] 데이터 가져오기\n",
    "\n",
    "| 구분     | 설명                                                         |\n",
    "| -------- | ------------------------------------------------------------ |\n",
    "| 직업     | `1` 육체노동, `2` 정신노동(직장인), `3` 자영업               |\n",
    "| 교육수준 | `1` 초등학교 이하, `2` 중졸 및 고졸, `3` 대졸, `4` 대학원 졸 |\n",
    "| 성별     | `1` 남자, `2` 여자                                           |\n",
    "| 가입금액 | 단위=천만원                                                  |\n",
    "| 월수입   | 단위=만원                                                    |\n"
   ]
  },
  {
   "cell_type": "code",
   "execution_count": 9,
   "metadata": {},
   "outputs": [
    {
     "data": {
      "text/html": [
       "<div>\n",
       "<style scoped>\n",
       "    .dataframe tbody tr th:only-of-type {\n",
       "        vertical-align: middle;\n",
       "    }\n",
       "\n",
       "    .dataframe tbody tr th {\n",
       "        vertical-align: top;\n",
       "    }\n",
       "\n",
       "    .dataframe thead th {\n",
       "        text-align: right;\n",
       "    }\n",
       "</style>\n",
       "<table border=\"1\" class=\"dataframe\">\n",
       "  <thead>\n",
       "    <tr style=\"text-align: right;\">\n",
       "      <th></th>\n",
       "      <th>직업</th>\n",
       "      <th>교육수준</th>\n",
       "      <th>성별</th>\n",
       "      <th>나이</th>\n",
       "      <th>가입금액</th>\n",
       "      <th>월수입</th>\n",
       "    </tr>\n",
       "  </thead>\n",
       "  <tbody>\n",
       "    <tr>\n",
       "      <th>0</th>\n",
       "      <td>1</td>\n",
       "      <td>2</td>\n",
       "      <td>1</td>\n",
       "      <td>35</td>\n",
       "      <td>15.0</td>\n",
       "      <td>100</td>\n",
       "    </tr>\n",
       "    <tr>\n",
       "      <th>1</th>\n",
       "      <td>2</td>\n",
       "      <td>3</td>\n",
       "      <td>1</td>\n",
       "      <td>40</td>\n",
       "      <td>10.0</td>\n",
       "      <td>150</td>\n",
       "    </tr>\n",
       "    <tr>\n",
       "      <th>2</th>\n",
       "      <td>2</td>\n",
       "      <td>3</td>\n",
       "      <td>2</td>\n",
       "      <td>36</td>\n",
       "      <td>8.0</td>\n",
       "      <td>120</td>\n",
       "    </tr>\n",
       "    <tr>\n",
       "      <th>3</th>\n",
       "      <td>3</td>\n",
       "      <td>4</td>\n",
       "      <td>2</td>\n",
       "      <td>38</td>\n",
       "      <td>12.0</td>\n",
       "      <td>140</td>\n",
       "    </tr>\n",
       "    <tr>\n",
       "      <th>4</th>\n",
       "      <td>1</td>\n",
       "      <td>1</td>\n",
       "      <td>1</td>\n",
       "      <td>45</td>\n",
       "      <td>10.0</td>\n",
       "      <td>150</td>\n",
       "    </tr>\n",
       "    <tr>\n",
       "      <th>5</th>\n",
       "      <td>2</td>\n",
       "      <td>2</td>\n",
       "      <td>1</td>\n",
       "      <td>48</td>\n",
       "      <td>2.5</td>\n",
       "      <td>200</td>\n",
       "    </tr>\n",
       "    <tr>\n",
       "      <th>6</th>\n",
       "      <td>3</td>\n",
       "      <td>3</td>\n",
       "      <td>2</td>\n",
       "      <td>50</td>\n",
       "      <td>9.0</td>\n",
       "      <td>90</td>\n",
       "    </tr>\n",
       "    <tr>\n",
       "      <th>7</th>\n",
       "      <td>3</td>\n",
       "      <td>3</td>\n",
       "      <td>1</td>\n",
       "      <td>53</td>\n",
       "      <td>7.5</td>\n",
       "      <td>180</td>\n",
       "    </tr>\n",
       "    <tr>\n",
       "      <th>8</th>\n",
       "      <td>2</td>\n",
       "      <td>2</td>\n",
       "      <td>1</td>\n",
       "      <td>49</td>\n",
       "      <td>5.5</td>\n",
       "      <td>250</td>\n",
       "    </tr>\n",
       "    <tr>\n",
       "      <th>9</th>\n",
       "      <td>3</td>\n",
       "      <td>4</td>\n",
       "      <td>1</td>\n",
       "      <td>55</td>\n",
       "      <td>25.0</td>\n",
       "      <td>300</td>\n",
       "    </tr>\n",
       "    <tr>\n",
       "      <th>10</th>\n",
       "      <td>2</td>\n",
       "      <td>3</td>\n",
       "      <td>2</td>\n",
       "      <td>52</td>\n",
       "      <td>10.5</td>\n",
       "      <td>220</td>\n",
       "    </tr>\n",
       "    <tr>\n",
       "      <th>11</th>\n",
       "      <td>1</td>\n",
       "      <td>1</td>\n",
       "      <td>1</td>\n",
       "      <td>35</td>\n",
       "      <td>3.5</td>\n",
       "      <td>80</td>\n",
       "    </tr>\n",
       "    <tr>\n",
       "      <th>12</th>\n",
       "      <td>1</td>\n",
       "      <td>2</td>\n",
       "      <td>1</td>\n",
       "      <td>46</td>\n",
       "      <td>9.7</td>\n",
       "      <td>175</td>\n",
       "    </tr>\n",
       "    <tr>\n",
       "      <th>13</th>\n",
       "      <td>2</td>\n",
       "      <td>4</td>\n",
       "      <td>2</td>\n",
       "      <td>41</td>\n",
       "      <td>12.5</td>\n",
       "      <td>280</td>\n",
       "    </tr>\n",
       "    <tr>\n",
       "      <th>14</th>\n",
       "      <td>3</td>\n",
       "      <td>4</td>\n",
       "      <td>1</td>\n",
       "      <td>59</td>\n",
       "      <td>30.0</td>\n",
       "      <td>550</td>\n",
       "    </tr>\n",
       "    <tr>\n",
       "      <th>15</th>\n",
       "      <td>2</td>\n",
       "      <td>3</td>\n",
       "      <td>1</td>\n",
       "      <td>55</td>\n",
       "      <td>11.0</td>\n",
       "      <td>235</td>\n",
       "    </tr>\n",
       "    <tr>\n",
       "      <th>16</th>\n",
       "      <td>1</td>\n",
       "      <td>2</td>\n",
       "      <td>2</td>\n",
       "      <td>43</td>\n",
       "      <td>8.8</td>\n",
       "      <td>110</td>\n",
       "    </tr>\n",
       "    <tr>\n",
       "      <th>17</th>\n",
       "      <td>3</td>\n",
       "      <td>1</td>\n",
       "      <td>2</td>\n",
       "      <td>39</td>\n",
       "      <td>4.5</td>\n",
       "      <td>125</td>\n",
       "    </tr>\n",
       "    <tr>\n",
       "      <th>18</th>\n",
       "      <td>2</td>\n",
       "      <td>2</td>\n",
       "      <td>1</td>\n",
       "      <td>40</td>\n",
       "      <td>7.8</td>\n",
       "      <td>160</td>\n",
       "    </tr>\n",
       "    <tr>\n",
       "      <th>19</th>\n",
       "      <td>1</td>\n",
       "      <td>2</td>\n",
       "      <td>1</td>\n",
       "      <td>29</td>\n",
       "      <td>6.7</td>\n",
       "      <td>99</td>\n",
       "    </tr>\n",
       "    <tr>\n",
       "      <th>20</th>\n",
       "      <td>2</td>\n",
       "      <td>3</td>\n",
       "      <td>1</td>\n",
       "      <td>33</td>\n",
       "      <td>7.0</td>\n",
       "      <td>148</td>\n",
       "    </tr>\n",
       "    <tr>\n",
       "      <th>21</th>\n",
       "      <td>2</td>\n",
       "      <td>4</td>\n",
       "      <td>1</td>\n",
       "      <td>45</td>\n",
       "      <td>33.0</td>\n",
       "      <td>400</td>\n",
       "    </tr>\n",
       "    <tr>\n",
       "      <th>22</th>\n",
       "      <td>3</td>\n",
       "      <td>2</td>\n",
       "      <td>2</td>\n",
       "      <td>32</td>\n",
       "      <td>15.0</td>\n",
       "      <td>115</td>\n",
       "    </tr>\n",
       "    <tr>\n",
       "      <th>23</th>\n",
       "      <td>2</td>\n",
       "      <td>2</td>\n",
       "      <td>2</td>\n",
       "      <td>44</td>\n",
       "      <td>20.0</td>\n",
       "      <td>165</td>\n",
       "    </tr>\n",
       "    <tr>\n",
       "      <th>24</th>\n",
       "      <td>1</td>\n",
       "      <td>2</td>\n",
       "      <td>1</td>\n",
       "      <td>28</td>\n",
       "      <td>4.0</td>\n",
       "      <td>80</td>\n",
       "    </tr>\n",
       "    <tr>\n",
       "      <th>25</th>\n",
       "      <td>2</td>\n",
       "      <td>1</td>\n",
       "      <td>1</td>\n",
       "      <td>38</td>\n",
       "      <td>5.0</td>\n",
       "      <td>210</td>\n",
       "    </tr>\n",
       "    <tr>\n",
       "      <th>26</th>\n",
       "      <td>3</td>\n",
       "      <td>3</td>\n",
       "      <td>1</td>\n",
       "      <td>51</td>\n",
       "      <td>15.0</td>\n",
       "      <td>340</td>\n",
       "    </tr>\n",
       "    <tr>\n",
       "      <th>27</th>\n",
       "      <td>2</td>\n",
       "      <td>3</td>\n",
       "      <td>2</td>\n",
       "      <td>43</td>\n",
       "      <td>30.0</td>\n",
       "      <td>510</td>\n",
       "    </tr>\n",
       "    <tr>\n",
       "      <th>28</th>\n",
       "      <td>1</td>\n",
       "      <td>2</td>\n",
       "      <td>1</td>\n",
       "      <td>42</td>\n",
       "      <td>5.0</td>\n",
       "      <td>130</td>\n",
       "    </tr>\n",
       "    <tr>\n",
       "      <th>29</th>\n",
       "      <td>3</td>\n",
       "      <td>3</td>\n",
       "      <td>1</td>\n",
       "      <td>56</td>\n",
       "      <td>10.0</td>\n",
       "      <td>650</td>\n",
       "    </tr>\n",
       "  </tbody>\n",
       "</table>\n",
       "</div>"
      ],
      "text/plain": [
       "    직업  교육수준  성별  나이  가입금액  월수입\n",
       "0    1     2   1  35  15.0  100\n",
       "1    2     3   1  40  10.0  150\n",
       "2    2     3   2  36   8.0  120\n",
       "3    3     4   2  38  12.0  140\n",
       "4    1     1   1  45  10.0  150\n",
       "5    2     2   1  48   2.5  200\n",
       "6    3     3   2  50   9.0   90\n",
       "7    3     3   1  53   7.5  180\n",
       "8    2     2   1  49   5.5  250\n",
       "9    3     4   1  55  25.0  300\n",
       "10   2     3   2  52  10.5  220\n",
       "11   1     1   1  35   3.5   80\n",
       "12   1     2   1  46   9.7  175\n",
       "13   2     4   2  41  12.5  280\n",
       "14   3     4   1  59  30.0  550\n",
       "15   2     3   1  55  11.0  235\n",
       "16   1     2   2  43   8.8  110\n",
       "17   3     1   2  39   4.5  125\n",
       "18   2     2   1  40   7.8  160\n",
       "19   1     2   1  29   6.7   99\n",
       "20   2     3   1  33   7.0  148\n",
       "21   2     4   1  45  33.0  400\n",
       "22   3     2   2  32  15.0  115\n",
       "23   2     2   2  44  20.0  165\n",
       "24   1     2   1  28   4.0   80\n",
       "25   2     1   1  38   5.0  210\n",
       "26   3     3   1  51  15.0  340\n",
       "27   2     3   2  43  30.0  510\n",
       "28   1     2   1  42   5.0  130\n",
       "29   3     3   1  56  10.0  650"
      ]
     },
     "execution_count": 9,
     "metadata": {},
     "output_type": "execute_result"
    }
   ],
   "source": [
    "origin = read_excel('C:/Users/Jihwan/01Class/E.추론통계/수업자료/insur.xlsx')\n",
    "origin"
   ]
  },
  {
   "cell_type": "markdown",
   "metadata": {},
   "source": [
    "### [2] 신뢰구간 확인\n"
   ]
  },
  {
   "cell_type": "code",
   "execution_count": 10,
   "metadata": {},
   "outputs": [
    {
     "data": {
      "image/png": "[encoded data removed]",
      "text/plain": [
       "<Figure size 1200x600 with 1 Axes>"
      ]
     },
     "metadata": {},
     "output_type": "display_data"
    }
   ],
   "source": [
    "plt.figure()\n",
    "\n",
    "data = origin['가입금액']\n",
    "max=data.max()\n",
    "clevel=0.95\n",
    "dof = len(data)-1\n",
    "sample_mean = data.mean()\n",
    "sample_std = data.std(ddof=1)\n",
    "sample_std_error = sample_std / sqrt(len(data))\n",
    "\n",
    "# 신뢰구간\n",
    "cmin, cmax = t.interval(clevel, dof, loc=sample_mean, scale=sample_std_error)\n",
    "\n",
    "sb.kdeplot(data=data)\n",
    "\n",
    "xmin, xmax, ymin, ymax = plt.axis()\n",
    "\n",
    "plt.plot([cmin,cmin], [ymin,ymax], linestyle=':')\n",
    "plt.plot([cmax,cmax], [ymin,ymax], linestyle=':')\n",
    "plt.fill_between([cmin,cmax], y1=0, y2=ymax, alpha=0.1)\n",
    "\n",
    "plt.plot([sample_mean, sample_mean],[ymin,ymax],linestyle='--',linewidth=2)\n",
    "\n",
    "plt.text(x=(cmax-cmin)/2+cmin,\n",
    "         y=ymax,\n",
    "         s='[%s] %0.1f ~ %0.1f' % (data.name, cmin, cmax),\n",
    "         horizontalalignment = 'center',\n",
    "         verticalalignment = 'bottom',\n",
    "         fontdict={'size':12, 'color':'red'})\n",
    "\n",
    "plt.ylim(ymin, ymax*1.1)\n",
    "\n",
    "txt = \"\"\"표본평균({:,.1f})이 신뢰구간({:,.1f} ~ {:.1f})에 포함되어 있으므로 데이터는 정상범위에 있다고 할 수 있지만,\n",
    "커널밀도 함수 그래프의 모양을 보았을 때 정규분포를 만족하지는 않고 있다. \"\"\".format(sample_mean,cmin,cmax)\n",
    "          \n",
    "plt.figtext(0.51,0,txt,wrap=True,\n",
    "            verticalalignment='top', horizontalalignment='center',\n",
    "            fontdict={'size':12, 'weight':'light'})\n",
    "\n",
    "plt.grid()\n",
    "plt.show()\n",
    "plt.close()"
   ]
  },
  {
   "cell_type": "markdown",
   "metadata": {},
   "source": [
    "### [3] 데이터의 정규성 검정\n"
   ]
  },
  {
   "cell_type": "code",
   "execution_count": 11,
   "metadata": {},
   "outputs": [
    {
     "data": {
      "text/plain": [
       "'statistic: 11.438, p-value: 0.003, 정규성 충족 여부: False'"
      ]
     },
     "execution_count": 11,
     "metadata": {},
     "output_type": "execute_result"
    }
   ],
   "source": [
    "s, p = normaltest(origin['가입금액'])\n",
    "'statistic: {0:.3f}, p-value: {1:.3f}, 정규성 충족 여부: {2}'.format(s,p,p>=0.05)"
   ]
  },
  {
   "cell_type": "markdown",
   "metadata": {},
   "source": [
    "> 주어진 데이터는 `p-value`가 `0.003`이므로 ($P \\geq 0.05$) 정규성을 충족하지 않는다. 이 경우 가설검정의 결과를 신뢰할 수 없다.\n"
   ]
  },
  {
   "cell_type": "markdown",
   "metadata": {},
   "source": [
    "### [4] 데이터의 로그 변환\n",
    "\n",
    "데이터가 정규성을 충족하지 않으므로 로그변환을 수행하여 정규분포에 가까운 형태로 만들어야 한다.\n",
    "\n",
    "#### (1) 로그변환 수행\n"
   ]
  },
  {
   "cell_type": "code",
   "execution_count": 12,
   "metadata": {},
   "outputs": [
    {
     "data": {
      "text/plain": [
       "0     2.708050\n",
       "1     2.302585\n",
       "2     2.079442\n",
       "3     2.484907\n",
       "4     2.302585\n",
       "5     0.916291\n",
       "6     2.197225\n",
       "7     2.014903\n",
       "8     1.704748\n",
       "9     3.218876\n",
       "10    2.351375\n",
       "11    1.252763\n",
       "12    2.272126\n",
       "13    2.525729\n",
       "14    3.401197\n",
       "15    2.397895\n",
       "16    2.174752\n",
       "17    1.504077\n",
       "18    2.054124\n",
       "19    1.902108\n",
       "20    1.945910\n",
       "21    3.496508\n",
       "22    2.708050\n",
       "23    2.995732\n",
       "24    1.386294\n",
       "25    1.609438\n",
       "26    2.708050\n",
       "27    3.401197\n",
       "28    1.609438\n",
       "29    2.302585\n",
       "Name: 가입금액, dtype: float64"
      ]
     },
     "execution_count": 12,
     "metadata": {},
     "output_type": "execute_result"
    }
   ],
   "source": [
    "log_data = np.log(origin['가입금액'])\n",
    "log_data"
   ]
  },
  {
   "cell_type": "code",
   "execution_count": 13,
   "metadata": {},
   "outputs": [
    {
     "data": {
      "text/plain": [
       "2.302585092994046"
      ]
     },
     "execution_count": 13,
     "metadata": {},
     "output_type": "execute_result"
    }
   ],
   "source": [
    "target_value = np.log(10)\n",
    "target_value"
   ]
  },
  {
   "cell_type": "markdown",
   "metadata": {},
   "source": [
    "#### (2) 결과에 대한 정규성 검정\n"
   ]
  },
  {
   "cell_type": "code",
   "execution_count": 14,
   "metadata": {},
   "outputs": [
    {
     "data": {
      "text/plain": [
       "'statistic: 0.104, p-value: 0.950, 정규성 충족 여부: True'"
      ]
     },
     "execution_count": 14,
     "metadata": {},
     "output_type": "execute_result"
    }
   ],
   "source": [
    "s, p = normaltest(log_data)\n",
    "'statistic: {0:.3f}, p-value: {1:.3f}, 정규성 충족 여부: {2}'.format(s,p,p>=0.05)"
   ]
  },
  {
   "cell_type": "markdown",
   "metadata": {},
   "source": [
    "> 단일 표본 검정에서 유의확률이 유의수준 `0.05`보다 크므로, 보험 가입금액의 모평균이 `1억원`이라는 귀무가설을 기각할 수 없다.\n",
    ">\n",
    "> 즉, 보험 가입금액의 평균은 1억원이다."
   ]
  },
  {
   "cell_type": "markdown",
   "metadata": {},
   "source": [
    "### [5] 가입금액의 평균이 1억원과 같은지, 다른지 여부\n",
    "\n",
    "| 구분            | 수식            | 설명                                                    |\n",
    "| --------------- | --------------- | ------------------------------------------------------- |\n",
    "| 귀무가설($H_0$) | $\\mu = 1억$    | 생명보험의 가입금액 평균은 `1억`과 차이가 없다.         |\n",
    "| 대립가설($H_1$) | $\\mu \\neq 1억$ | 생명보험의 가입금액 평균은 `1억`과 차이가 있다(다르다). |\n"
   ]
  },
  {
   "cell_type": "code",
   "execution_count": 15,
   "metadata": {},
   "outputs": [
    {
     "data": {
      "text/plain": [
       "'statistic: -0.326, p-value:  0.747, 귀무가설 채택'"
      ]
     },
     "execution_count": 15,
     "metadata": {},
     "output_type": "execute_result"
    }
   ],
   "source": [
    "s, p =ttest_1samp(log_data,target_value)\n",
    "'statistic: {0:.3f}, p-value: {1: .3f}, {2}가설 채택'.format(s,p,'대립'if p<0.05 else '귀무')\n"
   ]
  },
  {
   "cell_type": "markdown",
   "metadata": {},
   "source": [
    "> 단일 표본 검정에서 유의확률이 유의수준 `0.05`보다 크므로, 보험 가입금액의 모평균이 `1억원`이라는 귀무가설을 기각할 수 없다.\n",
    ">\n",
    "> 즉, 보험 가입금액의 평균은 1억원이다."
   ]
  },
  {
   "cell_type": "markdown",
   "metadata": {},
   "source": [
    "### [6] 가입금액의 평균이 1억원보다 작은지 여부\n",
    "\n",
    "| 구분            | 수식            | 설명                                            |\n",
    "| --------------- | --------------- | ----------------------------------------------- |\n",
    "| 귀무가설($H_0$) | $\\mu \\geq 1억$ | 생명보험의 가입금액 평균은 `1억`보다 작지 않다. |\n",
    "| 대립가설($H_1$) | $\\mu < 1억$    | 생명보험의 가입금액 평균은 `1억`보다 작다.      |\n"
   ]
  },
  {
   "cell_type": "code",
   "execution_count": 16,
   "metadata": {},
   "outputs": [
    {
     "data": {
      "text/plain": [
       "'statistic: -0.326, p-value:  0.374, 귀무가설 채택'"
      ]
     },
     "execution_count": 16,
     "metadata": {},
     "output_type": "execute_result"
    }
   ],
   "source": [
    "s, p =ttest_1samp(log_data,target_value,alternative='less')\n",
    "'statistic: {0:.3f}, p-value: {1: .3f}, {2}가설 채택'.format(s,p,'대립'if p<0.05 else '귀무')\n"
   ]
  },
  {
   "cell_type": "markdown",
   "metadata": {},
   "source": [
    "> 단일 표본 검정에서 유의확률이 유의수준 `0.05`보다 크므로, 보험 가입금액의 모평균이 `1억원`보다 작지 않다는 귀무가설을 기각할 수 없다."
   ]
  },
  {
   "cell_type": "markdown",
   "metadata": {},
   "source": [
    "### [7] 가입금액의 평균이 1억원보다 큰지 여부\n",
    "\n",
    "| 구분            | 수식            | 설명                                            |\n",
    "| --------------- | --------------- | ----------------------------------------------- |\n",
    "| 귀무가설($H_0$) | $\\mu \\leq 1억$ | 생명보험의 가입금액 평균은 `1억`보다 크지 않다. |\n",
    "| 대립가설($H_1$) | $\\mu > 1억$    | 생명보험의 가입금액 평균은 `1억`보다 크다.      |\n"
   ]
  },
  {
   "cell_type": "code",
   "execution_count": 17,
   "metadata": {},
   "outputs": [
    {
     "data": {
      "text/plain": [
       "'statistic: -0.326, p-value:  0.626, 귀무가설 채택'"
      ]
     },
     "execution_count": 17,
     "metadata": {},
     "output_type": "execute_result"
    }
   ],
   "source": [
    "s, p =ttest_1samp(log_data,target_value,alternative='greater')\n",
    "'statistic: {0:.3f}, p-value: {1: .3f}, {2}가설 채택'.format(s,p,'대립'if p<0.05 else '귀무')\n"
   ]
  },
  {
   "cell_type": "markdown",
   "metadata": {},
   "source": [
    "> 단일 표본 검정에서 유의확률이 유의수준 `0.05`보다 크므로, 보험 가입금액의 모평균이 `1억원`보다 크지 않다는 귀무가설을 기각할 수 없다."
   ]
  },
  {
   "cell_type": "markdown",
   "metadata": {},
   "source": []
  }
 ],
 "metadata": {
  "kernelspec": {
   "display_name": "Python 3",
   "language": "python",
   "name": "python3"
  },
  "language_info": {
   "codemirror_mode": {
    "name": "ipython",
    "version": 3
   },
   "file_extension": ".py",
   "mimetype": "text/x-python",
   "name": "python",
   "nbconvert_exporter": "python",
   "pygments_lexer": "ipython3",
   "version": "3.11.7"
  }
 },
 "nbformat": 4,
 "nbformat_minor": 2
}
