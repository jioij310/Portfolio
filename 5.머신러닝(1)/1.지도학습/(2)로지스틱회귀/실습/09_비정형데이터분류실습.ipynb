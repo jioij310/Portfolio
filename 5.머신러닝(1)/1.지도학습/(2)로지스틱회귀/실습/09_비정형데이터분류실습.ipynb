{
 "cells": [
  {
   "cell_type": "markdown",
   "metadata": {},
   "source": [
    "# 비정형 데이터 분류\n",
    "\n",
    "자연어 처리 또는 텍스트 분석을 위한 50,000개의 영화 리뷰가 있는 IMDB 데이터 셋\n",
    "\n",
    "> https://www.kaggle.com/datasets/lakshmi25npathi/imdb-dataset-of-50k-movie-reviews\n",
    "\n",
    "## #01. 준비작업\n",
    "\n",
    "### [1] 패키지 참조"
   ]
  },
  {
   "cell_type": "code",
   "execution_count": 73,
   "metadata": {},
   "outputs": [],
   "source": [
    "import sys\n",
    "import os\n",
    "work_path = os.path.abspath(os.path.join(os.getcwd(), '../../../../'))\n",
    "sys.path.append(work_path)\n",
    "from helper.regrassion import *\n",
    "from helper.plot import *\n",
    "from helper.util import *\n",
    "from helper.analysis import *\n",
    "from helper.classification import *\n",
    "import warnings\n",
    "warnings.filterwarnings(action='ignore')\n",
    "from sklearn.feature_extraction.text import CountVectorizer  \n",
    "import contractions  # 축약어\n",
    "import re   # 이메일 주소 제거 re.compile\n",
    "from bs4 import BeautifulSoup   # html 태그 제거\n",
    "import nltk \n",
    "from nltk.corpus import stopwords   # 불용어\n",
    "from nltk.stem import PorterStemmer # 단어들 원형으로 표기\n",
    "from collections import Counter    # 리스트 주면 단어 빈도수           "
   ]
  },
  {
   "cell_type": "markdown",
   "metadata": {},
   "source": [
    "### [2] 데이터 가져오기\n",
    "\n",
    "> 데이터 파일이 약 25M 용량이므로 로딩하는데 시간이 오래 소요된다.\n",
    "\n",
    "| 변수 | 설명 |\n",
    "|---|---|\n",
    "| sentiment | 긍정(`positive`), 부정(`negative`) |\n",
    "| review | 리뷰내용 |"
   ]
  },
  {
   "cell_type": "code",
   "execution_count": 91,
   "metadata": {},
   "outputs": [
    {
     "name": "stdout",
     "output_type": "stream",
     "text": [
      "<class 'pandas.core.frame.DataFrame'>\n",
      "RangeIndex: 49998 entries, 0 to 49997\n",
      "Data columns (total 2 columns):\n",
      " #   Column     Non-Null Count  Dtype \n",
      "---  ------     --------------  ----- \n",
      " 0   sentiment  49998 non-null  object\n",
      " 1   review     49998 non-null  object\n",
      "dtypes: object(2)\n",
      "memory usage: 781.3+ KB\n",
      "None\n",
      "\n",
      "데이터프레임 상위 5개 행\n",
      "+----+-------------+-----------------------------------------------------------------------------------------------------------------------------------------------------------------------------------------------------------------------------------------------------------------------------------------------------------------------------------------------------------------------------------------------------------------------------------------------------------------------------------------------------------------------------------------------------------------------------------------------------------------------------------------------------------------------------------------------------------------------------------------------------------------------------------------------------------------------------------------------------------------------------------------------------------------------------------------------------------------------------------------------------------------------------------------------------------------------------------------------------------------------------------------------------------------------------------------------------------------------------------------------------------------------------------------------------------------------------------------------------------------------------------------------------------------------------------------------------------------------------------------------------------------------------------------------------------------------------------------------------------------------------------------------------------------------------------------------------------------------------------------------------------------------------------------------------------------------------------+\n",
      "|    | sentiment   | review                                                                                                                                                                                                                                                                                                                                                                                                                                                                                                                                                                                                                                                                                                                                                                                                                                                                                                                                                                                                                                                                                                                                                                                                                                                                                                                                                                                                                                                                                                                                                                                                                                                                                                                                                                                                                            |\n",
      "|----+-------------+-----------------------------------------------------------------------------------------------------------------------------------------------------------------------------------------------------------------------------------------------------------------------------------------------------------------------------------------------------------------------------------------------------------------------------------------------------------------------------------------------------------------------------------------------------------------------------------------------------------------------------------------------------------------------------------------------------------------------------------------------------------------------------------------------------------------------------------------------------------------------------------------------------------------------------------------------------------------------------------------------------------------------------------------------------------------------------------------------------------------------------------------------------------------------------------------------------------------------------------------------------------------------------------------------------------------------------------------------------------------------------------------------------------------------------------------------------------------------------------------------------------------------------------------------------------------------------------------------------------------------------------------------------------------------------------------------------------------------------------------------------------------------------------------------------------------------------------|\n",
      "|  0 | positive    | One of the other reviewers has mentioned that after watching just 1 Oz episode you'll be hooked. They are right, as this is exactly what happened with me.<br /><br />The first thing that struck me about Oz was its brutality and unflinching scenes of violence, which set in right from the word GO. Trust me, this is not a show for the faint hearted or timid. This show pulls no punches with regards to drugs, sex or violence. Its is hardcore, in the classic use of the word.<br /><br />It is called OZ as that is the nickname given to the Oswald Maximum Security State Penitentary. It focuses mainly on Emerald City, an experimental section of the prison where all the cells have glass fronts and face inwards, so privacy is not high on the agenda. Em City is home to many..Aryans, Muslims, gangstas, Latinos, Christians, Italians, Irish and more....so scuffles, death stares, dodgy dealings and shady agreements are never far away.<br /><br />I would say the main appeal of the show is due to the fact that it goes where other shows wouldn't dare. Forget pretty pictures painted for mainstream audiences, forget charm, forget romance...OZ doesn't mess around. The first episode I ever saw struck me as so nasty it was surreal, I couldn't say I was ready for it, but as I watched more, I developed a taste for Oz, and got accustomed to the high levels of graphic violence. Not just violence, but injustice (crooked guards who'll be sold out for a nickel, inmates who'll kill on order and get away with it, well mannered, middle class inmates being turned into prison bitches due to their lack of street skills or prison experience) Watching Oz, you may become comfortable with what is uncomfortable viewing....thats if you can get in touch with your darker side. |\n",
      "|  1 | positive    | A wonderful little production. <br /><br />The filming technique is very unassuming- very old-time-BBC fashion and gives a comforting, and sometimes discomforting, sense of realism to the entire piece. <br /><br />The actors are extremely well chosen- Michael Sheen not only \"has got all the polari\" but he has all the voices down pat too! You can truly see the seamless editing guided by the references to Williams' diary entries, not only is it well worth the watching but it is a terrificly written and performed piece. A masterful production about one of the great master's of comedy and his life. <br /><br />The realism really comes home with the little things: the fantasy of the guard which, rather than use the traditional 'dream' techniques remains solid then disappears. It plays on our knowledge and our senses, particularly with the scenes concerning Orton and Halliwell and the sets (particularly of their flat with Halliwell's murals decorating every surface) are terribly well done.                                                                                                                                                                                                                                                                                                                                                                                                                                                                                                                                                                                                                                                                                                                                                                                            |\n",
      "|  2 | positive    | I thought this was a wonderful way to spend time on a too hot summer weekend, sitting in the air conditioned theater and watching a light-hearted comedy. The plot is simplistic, but the dialogue is witty and the characters are likable (even the well bread suspected serial killer). While some may be disappointed when they realize this is not Match Point 2: Risk Addiction, I thought it was proof that Woody Allen is still fully in control of the style many of us have grown to love.<br /><br />This was the most I'd laughed at one of Woody's comedies in years (dare I say a decade?). While I've never been impressed with Scarlet Johanson, in this she managed to tone down her \"sexy\" image and jumped right into a average, but spirited young woman.<br /><br />This may not be the crown jewel of his career, but it was wittier than \"Devil Wears Prada\" and more interesting than \"Superman\" a great comedy to go see with friends.                                                                                                                                                                                                                                                                                                                                                                                                                                                                                                                                                                                                                                                                                                                                                                                                                                                                    |\n",
      "|  3 | negative    | Basically there's a family where a little boy (Jake) thinks there's a zombie in his closet & his parents are fighting all the time.<br /><br />This movie is slower than a soap opera... and suddenly, Jake decides to become Rambo and kill the zombie.<br /><br />OK, first of all when you're going to make a film you must Decide if its a thriller or a drama! As a drama the movie is watchable. Parents are divorcing & arguing like in real life. And then we have Jake with his closet which totally ruins all the film! I expected to see a BOOGEYMAN similar movie, and instead i watched a drama with some meaningless thriller spots.<br /><br />3 out of 10 just for the well playing parents & descent dialogs. As for the shots with Jake: just ignore them.                                                                                                                                                                                                                                                                                                                                                                                                                                                                                                                                                                                                                                                                                                                                                                                                                                                                                                                                                                                                                                                      |\n",
      "|  4 | positive    | Petter Mattei's \"Love in the Time of Money\" is a visually stunning film to watch. Mr. Mattei offers us a vivid portrait about human relations. This is a movie that seems to be telling us what money, power and success do to people in the different situations we encounter. <br /><br />This being a variation on the Arthur Schnitzler's play about the same theme, the director transfers the action to the present time New York where all these different characters meet and connect. Each one is connected in one way, or another to the next person, but no one seems to know the previous point of contact. Stylishly, the film has a sophisticated luxurious look. We are taken to see how these people live and the world they live in their own habitat.<br /><br />The only thing one gets out of all these souls in the picture is the different stages of loneliness each one inhabits. A big city is not exactly the best place in which human relations find sincere fulfillment, as one discerns is the case with most of the people we encounter.<br /><br />The acting is good under Mr. Mattei's direction. Steve Buscemi, Rosario Dawson, Carol Kane, Michael Imperioli, Adrian Grenier, and the rest of the talented cast, make these characters come alive.<br /><br />We wish Mr. Mattei good luck and await anxiously for his next work.                                                                                                                                                                                                                                                                                                                                                                                                                                                             |\n",
      "+----+-------------+-----------------------------------------------------------------------------------------------------------------------------------------------------------------------------------------------------------------------------------------------------------------------------------------------------------------------------------------------------------------------------------------------------------------------------------------------------------------------------------------------------------------------------------------------------------------------------------------------------------------------------------------------------------------------------------------------------------------------------------------------------------------------------------------------------------------------------------------------------------------------------------------------------------------------------------------------------------------------------------------------------------------------------------------------------------------------------------------------------------------------------------------------------------------------------------------------------------------------------------------------------------------------------------------------------------------------------------------------------------------------------------------------------------------------------------------------------------------------------------------------------------------------------------------------------------------------------------------------------------------------------------------------------------------------------------------------------------------------------------------------------------------------------------------------------------------------------------+\n",
      "\n",
      "데이터프레임 하위 5개 행\n",
      "+-------+-------------+----------------------------------------------------------------------------------------------------------------------------------------------------------------------------------------------------------------------------------------------------------------------------------------------------------------------------------------------------------------------------------------------------------------------------------------------------------------------------------------------------------------------------------------------------------------------------------------------------------------------------------------------------------------------------------------------------------------------------------------------------------------------------------------------------------------------------------------------------------------------------------------------------------------------------------------------------------------------------------------------------------------------------------------------------------------------------------------------------------------------------------------------------------------------------------------------------------------------------------------------------------------------------------------------------------------------------------+\n",
      "|       | sentiment   | review                                                                                                                                                                                                                                                                                                                                                                                                                                                                                                                                                                                                                                                                                                                                                                                                                                                                                                                                                                                                                                                                                                                                                                                                                                                                                                                           |\n",
      "|-------+-------------+----------------------------------------------------------------------------------------------------------------------------------------------------------------------------------------------------------------------------------------------------------------------------------------------------------------------------------------------------------------------------------------------------------------------------------------------------------------------------------------------------------------------------------------------------------------------------------------------------------------------------------------------------------------------------------------------------------------------------------------------------------------------------------------------------------------------------------------------------------------------------------------------------------------------------------------------------------------------------------------------------------------------------------------------------------------------------------------------------------------------------------------------------------------------------------------------------------------------------------------------------------------------------------------------------------------------------------|\n",
      "| 49993 | positive    | I thought this movie did a down right good job. It wasn't as creative or original as the first, but who was expecting it to be. It was a whole lotta fun. the more i think about it the more i like it, and when it comes out on DVD I'm going to pay the money for it very proudly, every last cent. Sharon Stone is great, she always is, even if her movie is horrible(Catwoman), but this movie isn't, this is one of those movies that will be underrated for its lifetime, and it will probably become a classic in like 20 yrs. Don't wait for it to be a classic, watch it now and enjoy it. Don't expect a masterpiece, or something thats gripping and soul touching, just allow yourself to get out of your life and get yourself involved in theirs.<br /><br />All in all, this movie is entertaining and i recommend people who haven't seen it see it, because what the critics and box office say doesn't always count, see it for yourself, you never know, you might just enjoy it. I tip my hat to this movie<br /><br />8/10                                                                                                                                                                                                                                                                                 |\n",
      "| 49994 | negative    | Bad plot, bad dialogue, bad acting, idiotic directing, the annoying porn groove soundtrack that ran continually over the overacted script, and a crappy copy of the VHS cannot be redeemed by consuming liquor. Trust me, because I stuck this turkey out to the end. It was so pathetically bad all over that I had to figure it was a fourth-rate spoof of Springtime for Hitler.<br /><br />The girl who played Janis Joplin was the only faint spark of interest, and that was only because she could sing better than the original.<br /><br />If you want to watch something similar but a thousand times better, then watch Beyond The Valley of The Dolls.                                                                                                                                                                                                                                                                                                                                                                                                                                                                                                                                                                                                                                                               |\n",
      "| 49995 | negative    | I am a Catholic taught in parochial elementary schools by nuns, taught by Jesuit priests in high school & college. I am still a practicing Catholic but would not be considered a \"good Catholic\" in the church's eyes because I don't believe certain things or act certain ways just because the church tells me to.<br /><br />So back to the movie...its bad because two people are killed by this nun who is supposed to be a satire as the embodiment of a female religious figurehead. There is no comedy in that and the satire is not done well by the over acting of Diane Keaton. I never saw the play but if it was very different from this movies then it may be good.<br /><br />At first I thought the gun might be a fake and the first shooting all a plan by the female lead of the four former students as an attempt to demonstrate Sister Mary's emotional and intellectual bigotry of faith. But it turns out the bullets were real and the story has tragedy...the tragedy of loss of life (besides the two former students...the lives of the aborted babies, the life of the student's mom), the tragedy of dogmatic authority over love of people, the tragedy of organized religion replacing true faith in God. This is what is wrong with today's Islam, and yesterday's Judaism and Christianity. |\n",
      "| 49996 | negative    | I'm going to have to disagree with the previous comment and side with Maltin on this one. This is a second rate, excessively vicious Western that creaks and groans trying to put across its central theme of the Wild West being tamed and kicked aside by the steady march of time. It would like to be in the tradition of \"Butch Cassidy and the Sundance Kid\", but lacks that film's poignancy and charm. Andrew McLaglen's direction is limp, and the final 30 minutes or so are a real botch, with some incomprehensible strategy on the part of heroes Charlton Heston and Chris Mitchum. (Someone give me a holler if you can explain to me why they set that hillside on fire.) There was something callous about the whole treatment of the rape scene, and the woman's reaction afterwards certainly did not ring true. Coburn is plenty nasty as the half breed escaped convict out for revenge, but all of his fellow escapees are underdeveloped (they're like bowling pins to be knocked down one by one as the story lurches forward). Michael Parks gives one of his typically shifty, lethargic, mumbling performances, but in this case it was appropriate as his modern style sheriff symbolizes the complacency that technological progress can bring about.                                               |\n",
      "| 49997 | negative    | No one expects the Star Trek movies to be high art, but the fans do expect a movie that is as good as some of the best episodes. Unfortunately, this movie had a muddled, implausible plot that just left me cringing - this is by far the worst of the nine (so far) movies. Even the chance to watch the well known characters interact in another movie can't save this movie - including the goofy scenes with Kirk, Spock and McCoy at Yosemite.<br /><br />I would say this movie is not worth a rental, and hardly worth watching, however for the True Fan who needs to see all the movies, renting this movie is about the only way you'll see it - even the cable channels avoid this movie.                                                                                                                                                                                                                                                                                                                                                                                                                                                                                                                                                                                                                           |\n",
      "+-------+-------------+----------------------------------------------------------------------------------------------------------------------------------------------------------------------------------------------------------------------------------------------------------------------------------------------------------------------------------------------------------------------------------------------------------------------------------------------------------------------------------------------------------------------------------------------------------------------------------------------------------------------------------------------------------------------------------------------------------------------------------------------------------------------------------------------------------------------------------------------------------------------------------------------------------------------------------------------------------------------------------------------------------------------------------------------------------------------------------------------------------------------------------------------------------------------------------------------------------------------------------------------------------------------------------------------------------------------------------+\n",
      "\n",
      "기술통계\n",
      "+-----------+---------+----------+--------------------------------------------------------------------------------------------------------------------------------------------------------------------------------------------------------------------------------------------------------------------------------------------------------------------------------------------------------------------------------------------------------------------------------------------------------------------------------------------------------------------------------------------------------------------------------------------------------------------------------------------------------------------------------------------------------------------------------------------------------------------------------------------------------------------------+--------+-------+\n",
      "|           |   count |   unique | top                                                                                                                                                                                                                                                                                                                                                                                                                                                                                                                                                                                                                                                                                                                                                                                                                      |   freq |   nan |\n",
      "|-----------+---------+----------+--------------------------------------------------------------------------------------------------------------------------------------------------------------------------------------------------------------------------------------------------------------------------------------------------------------------------------------------------------------------------------------------------------------------------------------------------------------------------------------------------------------------------------------------------------------------------------------------------------------------------------------------------------------------------------------------------------------------------------------------------------------------------------------------------------------------------+--------+-------|\n",
      "| sentiment |   49998 |        2 | positive                                                                                                                                                                                                                                                                                                                                                                                                                                                                                                                                                                                                                                                                                                                                                                                                                 |  24999 |     0 |\n",
      "| review    |   49998 |    49580 | Loved today's show!!! It was a variety and not solely cooking (which would have been great too). Very stimulating and captivating, always keeping the viewer peeking around the corner to see what was coming up next. She is as down to earth and as personable as you get, like one of us which made the show all the more enjoyable. Special guests, who are friends as well made for a nice surprise too. Loved the 'first' theme and that the audience was invited to play along too. I must admit I was shocked to see her come in under her time limits on a few things, but she did it and by golly I'll be writing those recipes down. Saving time in the kitchen means more time with family. Those who haven't tuned in yet, find out what channel and the time, I assure you that you won't be disappointed. |      5 |     0 |\n",
      "+-----------+---------+----------+--------------------------------------------------------------------------------------------------------------------------------------------------------------------------------------------------------------------------------------------------------------------------------------------------------------------------------------------------------------------------------------------------------------------------------------------------------------------------------------------------------------------------------------------------------------------------------------------------------------------------------------------------------------------------------------------------------------------------------------------------------------------------------------------------------------------------+--------+-------+\n",
      "+----+-------------+-----------------------------------------------------------------------------------------------------------------------------------------------------------------------------------------------------------------------------------------------------------------------------------------------------------------------------------------------------------------------------------------------------------------------------------------------------------------------------------------------------------------------------------------------------------------------------------------------------------------------------------------------------------------------------------------------------------------------------------------------------------------------------------------------------------------------------------------------------------------------------------------------------------------------------------------------------------------------------------------------------------------------------------------------------------------------------------------------------------------------------------------------------------------------------------------------------------------------------------------------------------------------------------------------------------------------------------------------------------------------------------------------------------------------------------------------------------------------------------------------------------------------------------------------------------------------------------------------------------------------------------------------------------------------------------------------------------------------------------------------------------------------------------------------------------------------------------+\n",
      "|    | sentiment   | review                                                                                                                                                                                                                                                                                                                                                                                                                                                                                                                                                                                                                                                                                                                                                                                                                                                                                                                                                                                                                                                                                                                                                                                                                                                                                                                                                                                                                                                                                                                                                                                                                                                                                                                                                                                                                            |\n",
      "|----+-------------+-----------------------------------------------------------------------------------------------------------------------------------------------------------------------------------------------------------------------------------------------------------------------------------------------------------------------------------------------------------------------------------------------------------------------------------------------------------------------------------------------------------------------------------------------------------------------------------------------------------------------------------------------------------------------------------------------------------------------------------------------------------------------------------------------------------------------------------------------------------------------------------------------------------------------------------------------------------------------------------------------------------------------------------------------------------------------------------------------------------------------------------------------------------------------------------------------------------------------------------------------------------------------------------------------------------------------------------------------------------------------------------------------------------------------------------------------------------------------------------------------------------------------------------------------------------------------------------------------------------------------------------------------------------------------------------------------------------------------------------------------------------------------------------------------------------------------------------|\n",
      "|  0 | positive    | One of the other reviewers has mentioned that after watching just 1 Oz episode you'll be hooked. They are right, as this is exactly what happened with me.<br /><br />The first thing that struck me about Oz was its brutality and unflinching scenes of violence, which set in right from the word GO. Trust me, this is not a show for the faint hearted or timid. This show pulls no punches with regards to drugs, sex or violence. Its is hardcore, in the classic use of the word.<br /><br />It is called OZ as that is the nickname given to the Oswald Maximum Security State Penitentary. It focuses mainly on Emerald City, an experimental section of the prison where all the cells have glass fronts and face inwards, so privacy is not high on the agenda. Em City is home to many..Aryans, Muslims, gangstas, Latinos, Christians, Italians, Irish and more....so scuffles, death stares, dodgy dealings and shady agreements are never far away.<br /><br />I would say the main appeal of the show is due to the fact that it goes where other shows wouldn't dare. Forget pretty pictures painted for mainstream audiences, forget charm, forget romance...OZ doesn't mess around. The first episode I ever saw struck me as so nasty it was surreal, I couldn't say I was ready for it, but as I watched more, I developed a taste for Oz, and got accustomed to the high levels of graphic violence. Not just violence, but injustice (crooked guards who'll be sold out for a nickel, inmates who'll kill on order and get away with it, well mannered, middle class inmates being turned into prison bitches due to their lack of street skills or prison experience) Watching Oz, you may become comfortable with what is uncomfortable viewing....thats if you can get in touch with your darker side. |\n",
      "|  1 | positive    | A wonderful little production. <br /><br />The filming technique is very unassuming- very old-time-BBC fashion and gives a comforting, and sometimes discomforting, sense of realism to the entire piece. <br /><br />The actors are extremely well chosen- Michael Sheen not only \"has got all the polari\" but he has all the voices down pat too! You can truly see the seamless editing guided by the references to Williams' diary entries, not only is it well worth the watching but it is a terrificly written and performed piece. A masterful production about one of the great master's of comedy and his life. <br /><br />The realism really comes home with the little things: the fantasy of the guard which, rather than use the traditional 'dream' techniques remains solid then disappears. It plays on our knowledge and our senses, particularly with the scenes concerning Orton and Halliwell and the sets (particularly of their flat with Halliwell's murals decorating every surface) are terribly well done.                                                                                                                                                                                                                                                                                                                                                                                                                                                                                                                                                                                                                                                                                                                                                                                            |\n",
      "|  2 | positive    | I thought this was a wonderful way to spend time on a too hot summer weekend, sitting in the air conditioned theater and watching a light-hearted comedy. The plot is simplistic, but the dialogue is witty and the characters are likable (even the well bread suspected serial killer). While some may be disappointed when they realize this is not Match Point 2: Risk Addiction, I thought it was proof that Woody Allen is still fully in control of the style many of us have grown to love.<br /><br />This was the most I'd laughed at one of Woody's comedies in years (dare I say a decade?). While I've never been impressed with Scarlet Johanson, in this she managed to tone down her \"sexy\" image and jumped right into a average, but spirited young woman.<br /><br />This may not be the crown jewel of his career, but it was wittier than \"Devil Wears Prada\" and more interesting than \"Superman\" a great comedy to go see with friends.                                                                                                                                                                                                                                                                                                                                                                                                                                                                                                                                                                                                                                                                                                                                                                                                                                                                    |\n",
      "|  3 | negative    | Basically there's a family where a little boy (Jake) thinks there's a zombie in his closet & his parents are fighting all the time.<br /><br />This movie is slower than a soap opera... and suddenly, Jake decides to become Rambo and kill the zombie.<br /><br />OK, first of all when you're going to make a film you must Decide if its a thriller or a drama! As a drama the movie is watchable. Parents are divorcing & arguing like in real life. And then we have Jake with his closet which totally ruins all the film! I expected to see a BOOGEYMAN similar movie, and instead i watched a drama with some meaningless thriller spots.<br /><br />3 out of 10 just for the well playing parents & descent dialogs. As for the shots with Jake: just ignore them.                                                                                                                                                                                                                                                                                                                                                                                                                                                                                                                                                                                                                                                                                                                                                                                                                                                                                                                                                                                                                                                      |\n",
      "|  4 | positive    | Petter Mattei's \"Love in the Time of Money\" is a visually stunning film to watch. Mr. Mattei offers us a vivid portrait about human relations. This is a movie that seems to be telling us what money, power and success do to people in the different situations we encounter. <br /><br />This being a variation on the Arthur Schnitzler's play about the same theme, the director transfers the action to the present time New York where all these different characters meet and connect. Each one is connected in one way, or another to the next person, but no one seems to know the previous point of contact. Stylishly, the film has a sophisticated luxurious look. We are taken to see how these people live and the world they live in their own habitat.<br /><br />The only thing one gets out of all these souls in the picture is the different stages of loneliness each one inhabits. A big city is not exactly the best place in which human relations find sincere fulfillment, as one discerns is the case with most of the people we encounter.<br /><br />The acting is good under Mr. Mattei's direction. Steve Buscemi, Rosario Dawson, Carol Kane, Michael Imperioli, Adrian Grenier, and the rest of the talented cast, make these characters come alive.<br /><br />We wish Mr. Mattei good luck and await anxiously for his next work.                                                                                                                                                                                                                                                                                                                                                                                                                                                             |\n",
      "+----+-------------+-----------------------------------------------------------------------------------------------------------------------------------------------------------------------------------------------------------------------------------------------------------------------------------------------------------------------------------------------------------------------------------------------------------------------------------------------------------------------------------------------------------------------------------------------------------------------------------------------------------------------------------------------------------------------------------------------------------------------------------------------------------------------------------------------------------------------------------------------------------------------------------------------------------------------------------------------------------------------------------------------------------------------------------------------------------------------------------------------------------------------------------------------------------------------------------------------------------------------------------------------------------------------------------------------------------------------------------------------------------------------------------------------------------------------------------------------------------------------------------------------------------------------------------------------------------------------------------------------------------------------------------------------------------------------------------------------------------------------------------------------------------------------------------------------------------------------------------+\n"
     ]
    }
   ],
   "source": [
    "origin = my_read_excel('C:/Users/Jihwan/Desktop/01Class/E.추론통계/E.InferentialStatistics/수업자료/imdb.xlsx')\n",
    "my_pretty_table(origin.head())"
   ]
  },
  {
   "cell_type": "markdown",
   "metadata": {},
   "source": [
    "## #02. 문서 단어 행렬(Document-Term Matrix)의 이해\n",
    "\n",
    "> 딥러닝에서는 텍스트 토큰화라고 부름.\n",
    "\n",
    "### [1] 예시 문장"
   ]
  },
  {
   "cell_type": "code",
   "execution_count": 92,
   "metadata": {},
   "outputs": [],
   "source": [
    "doc1 = \"She likes python\"\n",
    "doc2 = \"She hates python\""
   ]
  },
  {
   "cell_type": "markdown",
   "metadata": {},
   "source": [
    "위 문장을 문서 단어 행렬로 표현하면 아래와 같다.\n",
    "\n",
    "| | She | likes | hates | python |\n",
    "|---|---|---|---|---|\n",
    "| doc1 | 1 | 1 | 0 | 1 |\n",
    "| doc2 | 1 | 0 | 1 | 1 |\n",
    "\n",
    "즉, 샘플 문장 리스트에서 각 단어가 몇 번씩 등장했는지를 카운트 해서 행렬(=2차 배열)로 표현하는 것.\n",
    "\n",
    "이렇게 하면 하나의 문장인 `doc1`은 `[1, 1, 0, 1]`이라는 1차원 리스트로 표현되기 때문에 수치적인 연산이 가능해진다."
   ]
  },
  {
   "cell_type": "markdown",
   "metadata": {},
   "source": [
    "### [2] 단어 행렬 만들기"
   ]
  },
  {
   "cell_type": "code",
   "execution_count": 93,
   "metadata": {},
   "outputs": [
    {
     "data": {
      "text/plain": [
       "array([[0, 1, 1, 1],\n",
       "       [1, 0, 1, 1]], dtype=int64)"
      ]
     },
     "execution_count": 93,
     "metadata": {},
     "output_type": "execute_result"
    }
   ],
   "source": [
    "count_vec = CountVectorizer()\n",
    "fit = count_vec.fit_transform([doc1, doc2])\n",
    "doc_term_matrix = fit.toarray()\n",
    "doc_term_matrix"
   ]
  },
  {
   "cell_type": "markdown",
   "metadata": {},
   "source": [
    "### [3] 단어 행렬 방식의 단점"
   ]
  },
  {
   "cell_type": "code",
   "execution_count": 94,
   "metadata": {},
   "outputs": [],
   "source": [
    "doc3 = \"Peter likes singer\"\n",
    "doc4 = \"Singer likes Peter\""
   ]
  },
  {
   "cell_type": "markdown",
   "metadata": {},
   "source": [
    "| | Potter | likes | Singer |\n",
    "|---|---|---|---|\n",
    "| doc1 | 1 | 1 | 1 |\n",
    "| doc2 | 1 | 1 | 1 |\n",
    "\n",
    "의미가 다름에도 단어 행렬은 두 문장을 같은 것처럼 표현함.\n",
    "\n",
    "단어의 순서를 고려하지 않은 분석 방법."
   ]
  },
  {
   "cell_type": "code",
   "execution_count": 95,
   "metadata": {},
   "outputs": [
    {
     "data": {
      "text/plain": [
       "array([[1, 1, 1],\n",
       "       [1, 1, 1]], dtype=int64)"
      ]
     },
     "execution_count": 95,
     "metadata": {},
     "output_type": "execute_result"
    }
   ],
   "source": [
    "count_vec = CountVectorizer()\n",
    "fit = count_vec.fit_transform([doc3, doc4])\n",
    "doc_term_matrix = fit.toarray()\n",
    "doc_term_matrix"
   ]
  },
  {
   "cell_type": "markdown",
   "metadata": {},
   "source": [
    "### [4] 서로 길이가 다른 문장의 경우"
   ]
  },
  {
   "cell_type": "code",
   "execution_count": 96,
   "metadata": {},
   "outputs": [],
   "source": [
    "doc3 = \"Python is very good\"\n",
    "doc4 = \"Life is too short, You need Python\""
   ]
  },
  {
   "cell_type": "code",
   "execution_count": 97,
   "metadata": {},
   "outputs": [
    {
     "data": {
      "text/plain": [
       "array([[1, 1, 0, 0, 1, 0, 0, 1, 0],\n",
       "       [0, 1, 1, 1, 1, 1, 1, 0, 1]], dtype=int64)"
      ]
     },
     "execution_count": 97,
     "metadata": {},
     "output_type": "execute_result"
    }
   ],
   "source": [
    "count_vec = CountVectorizer()\n",
    "fit = count_vec.fit_transform([doc3, doc4])\n",
    "doc_term_matrix = fit.toarray()\n",
    "doc_term_matrix"
   ]
  },
  {
   "cell_type": "code",
   "execution_count": 98,
   "metadata": {},
   "outputs": [
    {
     "data": {
      "text/plain": [
       "array(['good', 'is', 'life', 'need', 'python', 'short', 'too', 'very',\n",
       "       'you'], dtype=object)"
      ]
     },
     "execution_count": 98,
     "metadata": {},
     "output_type": "execute_result"
    }
   ],
   "source": [
    "words = count_vec.get_feature_names_out()\n",
    "words"
   ]
  },
  {
   "cell_type": "code",
   "execution_count": 99,
   "metadata": {},
   "outputs": [
    {
     "data": {
      "text/html": [
       "<div>\n",
       "<style scoped>\n",
       "    .dataframe tbody tr th:only-of-type {\n",
       "        vertical-align: middle;\n",
       "    }\n",
       "\n",
       "    .dataframe tbody tr th {\n",
       "        vertical-align: top;\n",
       "    }\n",
       "\n",
       "    .dataframe thead th {\n",
       "        text-align: right;\n",
       "    }\n",
       "</style>\n",
       "<table border=\"1\" class=\"dataframe\">\n",
       "  <thead>\n",
       "    <tr style=\"text-align: right;\">\n",
       "      <th></th>\n",
       "      <th>good</th>\n",
       "      <th>is</th>\n",
       "      <th>life</th>\n",
       "      <th>need</th>\n",
       "      <th>python</th>\n",
       "      <th>short</th>\n",
       "      <th>too</th>\n",
       "      <th>very</th>\n",
       "      <th>you</th>\n",
       "    </tr>\n",
       "  </thead>\n",
       "  <tbody>\n",
       "    <tr>\n",
       "      <th>0</th>\n",
       "      <td>1</td>\n",
       "      <td>1</td>\n",
       "      <td>0</td>\n",
       "      <td>0</td>\n",
       "      <td>1</td>\n",
       "      <td>0</td>\n",
       "      <td>0</td>\n",
       "      <td>1</td>\n",
       "      <td>0</td>\n",
       "    </tr>\n",
       "    <tr>\n",
       "      <th>1</th>\n",
       "      <td>0</td>\n",
       "      <td>1</td>\n",
       "      <td>1</td>\n",
       "      <td>1</td>\n",
       "      <td>1</td>\n",
       "      <td>1</td>\n",
       "      <td>1</td>\n",
       "      <td>0</td>\n",
       "      <td>1</td>\n",
       "    </tr>\n",
       "  </tbody>\n",
       "</table>\n",
       "</div>"
      ],
      "text/plain": [
       "   good  is  life  need  python  short  too  very  you\n",
       "0     1   1     0     0       1      0    0     1    0\n",
       "1     0   1     1     1       1      1    1     0    1"
      ]
     },
     "execution_count": 99,
     "metadata": {},
     "output_type": "execute_result"
    }
   ],
   "source": [
    "DataFrame(doc_term_matrix,columns=words)"
   ]
  },
  {
   "cell_type": "code",
   "execution_count": 100,
   "metadata": {},
   "outputs": [
    {
     "data": {
      "text/plain": [
       "{'python': 4,\n",
       " 'is': 1,\n",
       " 'very': 7,\n",
       " 'good': 0,\n",
       " 'life': 2,\n",
       " 'too': 6,\n",
       " 'short': 5,\n",
       " 'you': 8,\n",
       " 'need': 3}"
      ]
     },
     "execution_count": 100,
     "metadata": {},
     "output_type": "execute_result"
    }
   ],
   "source": [
    "count_vec.vocabulary_"
   ]
  },
  {
   "cell_type": "markdown",
   "metadata": {},
   "source": [
    "### [5] 단어 순서 확인하기\n",
    "\n",
    "#### (1) 기본 단어 행렬 생성"
   ]
  },
  {
   "cell_type": "code",
   "execution_count": 101,
   "metadata": {},
   "outputs": [
    {
     "data": {
      "text/plain": [
       "array([[0, 1, 1, 1],\n",
       "       [1, 0, 1, 1]], dtype=int64)"
      ]
     },
     "execution_count": 101,
     "metadata": {},
     "output_type": "execute_result"
    }
   ],
   "source": [
    "doc1 = \"She likes python\"\n",
    "doc2 = \"She hates python\"\n",
    "\n",
    "count_vec = CountVectorizer()\n",
    "fit = count_vec.fit_transform([doc1, doc2])\n",
    "\n",
    "doc_term_matrix = fit.toarray()\n",
    "doc_term_matrix"
   ]
  },
  {
   "cell_type": "markdown",
   "metadata": {},
   "source": [
    "#### (2) 각 단어별 인덱스 확인"
   ]
  },
  {
   "cell_type": "code",
   "execution_count": 102,
   "metadata": {},
   "outputs": [
    {
     "data": {
      "text/plain": [
       "{'she': 3, 'likes': 1, 'python': 2, 'hates': 0}"
      ]
     },
     "execution_count": 102,
     "metadata": {},
     "output_type": "execute_result"
    }
   ],
   "source": [
    "count_vec.vocabulary_"
   ]
  },
  {
   "cell_type": "markdown",
   "metadata": {},
   "source": [
    "> hates가 문서 단어의 첫 번째 열에 해당함을 알 수 있다."
   ]
  },
  {
   "cell_type": "markdown",
   "metadata": {},
   "source": [
    "#### (3) 인덱스 순서로 단어를 정렬해서 리턴"
   ]
  },
  {
   "cell_type": "code",
   "execution_count": 103,
   "metadata": {},
   "outputs": [
    {
     "data": {
      "text/plain": [
       "array(['hates', 'likes', 'python', 'she'], dtype=object)"
      ]
     },
     "execution_count": 103,
     "metadata": {},
     "output_type": "execute_result"
    }
   ],
   "source": [
    "count_vec.get_feature_names_out()"
   ]
  },
  {
   "cell_type": "markdown",
   "metadata": {},
   "source": [
    "### [6] 단어 사전 구축\n",
    "\n",
    "단어 행렬을 생성하기 위해서는 어떤 단어가 몇 번째 인덱스에 올 것인지 정해야 한다.\n",
    "\n",
    "이를 단어 사전이라 부른다.\n",
    "\n",
    "기본적으로 머신러닝이 문장을 단어 행렬로 변환(transform)하기 전에 fit 단계에서 이미 단어 사전을 구축한다.\n",
    "\n",
    "분석가가 분석 목적에 맞는 사전을 미리 정의할 수 있다."
   ]
  },
  {
   "cell_type": "markdown",
   "metadata": {},
   "source": [
    "#### (1) 분석가의 사전 정의\n",
    "\n",
    "사전에 포함되지 않은 단어가 문장에 포함될 경우 무조건 `0`번으로 분류하기 때문에 사전의 첫 번째 단어는 불용어를 의미하는 값으로 정하는 것이 좋다."
   ]
  },
  {
   "cell_type": "code",
   "execution_count": 104,
   "metadata": {},
   "outputs": [],
   "source": [
    "my_vocabulary = {'ovv':0, 'java':1, 'html': 2, 'css': 3, 'javascript': 4, 'php': 5, 'sql': 6, 'good': 7}"
   ]
  },
  {
   "cell_type": "markdown",
   "metadata": {},
   "source": [
    "#### (2) 사전을 품은 변환객체 생성"
   ]
  },
  {
   "cell_type": "code",
   "execution_count": 105,
   "metadata": {},
   "outputs": [
    {
     "data": {
      "text/plain": [
       "{'ovv': 0,\n",
       " 'java': 1,\n",
       " 'html': 2,\n",
       " 'css': 3,\n",
       " 'javascript': 4,\n",
       " 'php': 5,\n",
       " 'sql': 6,\n",
       " 'good': 7}"
      ]
     },
     "execution_count": 105,
     "metadata": {},
     "output_type": "execute_result"
    }
   ],
   "source": [
    "count_vec = CountVectorizer(\n",
    "    vocabulary=my_vocabulary,\n",
    "    stop_words=['is', 'to', 'my'],\n",
    "    lowercase=True\n",
    ")\n",
    "\n",
    "count_vec.vocabulary"
   ]
  },
  {
   "cell_type": "code",
   "execution_count": 106,
   "metadata": {},
   "outputs": [
    {
     "data": {
      "text/plain": [
       "array([[0, 1, 1, 1, 1, 1, 0, 0],\n",
       "       [0, 0, 0, 0, 0, 0, 0, 1]], dtype=int64)"
      ]
     },
     "execution_count": 106,
     "metadata": {},
     "output_type": "execute_result"
    }
   ],
   "source": [
    "fit = count_vec.fit_transform([\n",
    "    \"I can do Java, HTML, CSS, Javascript, PHP, Python\",\n",
    "    \"Python is good\"\n",
    "])\n",
    "\n",
    "doc_term_matrix = fit.toarray()\n",
    "doc_term_matrix"
   ]
  },
  {
   "cell_type": "markdown",
   "metadata": {},
   "source": [
    "> 사전에 포함되지 않은 문장은 버린다.(`0`으로 감별함)"
   ]
  },
  {
   "cell_type": "markdown",
   "metadata": {},
   "source": [
    "## 03. 영어 축약형 표현의 처리 "
   ]
  },
  {
   "cell_type": "code",
   "execution_count": 107,
   "metadata": {},
   "outputs": [
    {
     "data": {
      "text/plain": [
       "'you are happy now'"
      ]
     },
     "execution_count": 107,
     "metadata": {},
     "output_type": "execute_result"
    }
   ],
   "source": [
    "contractions.fix(\"you're happy now\")"
   ]
  },
  {
   "cell_type": "code",
   "execution_count": 108,
   "metadata": {},
   "outputs": [
    {
     "data": {
      "text/plain": [
       "'you all are happy now'"
      ]
     },
     "execution_count": 108,
     "metadata": {},
     "output_type": "execute_result"
    }
   ],
   "source": [
    "contractions.fix(\"yall're happy now\")"
   ]
  },
  {
   "cell_type": "code",
   "execution_count": 109,
   "metadata": {},
   "outputs": [
    {
     "data": {
      "text/plain": [
       "'OH MY GOD'"
      ]
     },
     "execution_count": 109,
     "metadata": {},
     "output_type": "execute_result"
    }
   ],
   "source": [
    "contractions.fix('OMG')"
   ]
  },
  {
   "cell_type": "code",
   "execution_count": 110,
   "metadata": {},
   "outputs": [
    {
     "data": {
      "text/plain": [
       "'OH MY GOD'"
      ]
     },
     "execution_count": 110,
     "metadata": {},
     "output_type": "execute_result"
    }
   ],
   "source": [
    "contractions.add('OMG', 'Oh my god')\n",
    "contractions.fix(\"OMG\")"
   ]
  },
  {
   "cell_type": "markdown",
   "metadata": {},
   "source": [
    "## #04. 데이터 전처리\n",
    "\n",
    "### [1] 데이터 라벨링"
   ]
  },
  {
   "cell_type": "code",
   "execution_count": 111,
   "metadata": {},
   "outputs": [
    {
     "name": "stdout",
     "output_type": "stream",
     "text": [
      "+----+-------------+-----------------------------------------------------------------------------------------------------------------------------------------------------------------------------------------------------------------------------------------------------------------------------------------------------------------------------------------------------------------------------------------------------------------------------------------------------------------------------------------------------------------------------------------------------------------------------------------------------------------------------------------------------------------------------------------------------------------------------------------------------------------------------------------------------------------------------------------------------------------------------------------------------------------------------------------------------------------------------------------------------------------------------------------------------------------------------------------------------------------------------------------------------------------------------------------------------------------------------------------------------------------------------------------------------------------------------------------------------------------------------------------------------------------------------------------------------------------------------------------------------------------------------------------------------------------------------------------------------------------------------------------------------------------------------------------------------------------------------------------------------------------------------------------------------------------------------------+\n",
      "|    |   sentiment | review                                                                                                                                                                                                                                                                                                                                                                                                                                                                                                                                                                                                                                                                                                                                                                                                                                                                                                                                                                                                                                                                                                                                                                                                                                                                                                                                                                                                                                                                                                                                                                                                                                                                                                                                                                                                                            |\n",
      "|----+-------------+-----------------------------------------------------------------------------------------------------------------------------------------------------------------------------------------------------------------------------------------------------------------------------------------------------------------------------------------------------------------------------------------------------------------------------------------------------------------------------------------------------------------------------------------------------------------------------------------------------------------------------------------------------------------------------------------------------------------------------------------------------------------------------------------------------------------------------------------------------------------------------------------------------------------------------------------------------------------------------------------------------------------------------------------------------------------------------------------------------------------------------------------------------------------------------------------------------------------------------------------------------------------------------------------------------------------------------------------------------------------------------------------------------------------------------------------------------------------------------------------------------------------------------------------------------------------------------------------------------------------------------------------------------------------------------------------------------------------------------------------------------------------------------------------------------------------------------------|\n",
      "|  0 |           1 | One of the other reviewers has mentioned that after watching just 1 Oz episode you'll be hooked. They are right, as this is exactly what happened with me.<br /><br />The first thing that struck me about Oz was its brutality and unflinching scenes of violence, which set in right from the word GO. Trust me, this is not a show for the faint hearted or timid. This show pulls no punches with regards to drugs, sex or violence. Its is hardcore, in the classic use of the word.<br /><br />It is called OZ as that is the nickname given to the Oswald Maximum Security State Penitentary. It focuses mainly on Emerald City, an experimental section of the prison where all the cells have glass fronts and face inwards, so privacy is not high on the agenda. Em City is home to many..Aryans, Muslims, gangstas, Latinos, Christians, Italians, Irish and more....so scuffles, death stares, dodgy dealings and shady agreements are never far away.<br /><br />I would say the main appeal of the show is due to the fact that it goes where other shows wouldn't dare. Forget pretty pictures painted for mainstream audiences, forget charm, forget romance...OZ doesn't mess around. The first episode I ever saw struck me as so nasty it was surreal, I couldn't say I was ready for it, but as I watched more, I developed a taste for Oz, and got accustomed to the high levels of graphic violence. Not just violence, but injustice (crooked guards who'll be sold out for a nickel, inmates who'll kill on order and get away with it, well mannered, middle class inmates being turned into prison bitches due to their lack of street skills or prison experience) Watching Oz, you may become comfortable with what is uncomfortable viewing....thats if you can get in touch with your darker side. |\n",
      "|  1 |           1 | A wonderful little production. <br /><br />The filming technique is very unassuming- very old-time-BBC fashion and gives a comforting, and sometimes discomforting, sense of realism to the entire piece. <br /><br />The actors are extremely well chosen- Michael Sheen not only \"has got all the polari\" but he has all the voices down pat too! You can truly see the seamless editing guided by the references to Williams' diary entries, not only is it well worth the watching but it is a terrificly written and performed piece. A masterful production about one of the great master's of comedy and his life. <br /><br />The realism really comes home with the little things: the fantasy of the guard which, rather than use the traditional 'dream' techniques remains solid then disappears. It plays on our knowledge and our senses, particularly with the scenes concerning Orton and Halliwell and the sets (particularly of their flat with Halliwell's murals decorating every surface) are terribly well done.                                                                                                                                                                                                                                                                                                                                                                                                                                                                                                                                                                                                                                                                                                                                                                                            |\n",
      "|  2 |           1 | I thought this was a wonderful way to spend time on a too hot summer weekend, sitting in the air conditioned theater and watching a light-hearted comedy. The plot is simplistic, but the dialogue is witty and the characters are likable (even the well bread suspected serial killer). While some may be disappointed when they realize this is not Match Point 2: Risk Addiction, I thought it was proof that Woody Allen is still fully in control of the style many of us have grown to love.<br /><br />This was the most I'd laughed at one of Woody's comedies in years (dare I say a decade?). While I've never been impressed with Scarlet Johanson, in this she managed to tone down her \"sexy\" image and jumped right into a average, but spirited young woman.<br /><br />This may not be the crown jewel of his career, but it was wittier than \"Devil Wears Prada\" and more interesting than \"Superman\" a great comedy to go see with friends.                                                                                                                                                                                                                                                                                                                                                                                                                                                                                                                                                                                                                                                                                                                                                                                                                                                                    |\n",
      "|  3 |           0 | Basically there's a family where a little boy (Jake) thinks there's a zombie in his closet & his parents are fighting all the time.<br /><br />This movie is slower than a soap opera... and suddenly, Jake decides to become Rambo and kill the zombie.<br /><br />OK, first of all when you're going to make a film you must Decide if its a thriller or a drama! As a drama the movie is watchable. Parents are divorcing & arguing like in real life. And then we have Jake with his closet which totally ruins all the film! I expected to see a BOOGEYMAN similar movie, and instead i watched a drama with some meaningless thriller spots.<br /><br />3 out of 10 just for the well playing parents & descent dialogs. As for the shots with Jake: just ignore them.                                                                                                                                                                                                                                                                                                                                                                                                                                                                                                                                                                                                                                                                                                                                                                                                                                                                                                                                                                                                                                                      |\n",
      "|  4 |           1 | Petter Mattei's \"Love in the Time of Money\" is a visually stunning film to watch. Mr. Mattei offers us a vivid portrait about human relations. This is a movie that seems to be telling us what money, power and success do to people in the different situations we encounter. <br /><br />This being a variation on the Arthur Schnitzler's play about the same theme, the director transfers the action to the present time New York where all these different characters meet and connect. Each one is connected in one way, or another to the next person, but no one seems to know the previous point of contact. Stylishly, the film has a sophisticated luxurious look. We are taken to see how these people live and the world they live in their own habitat.<br /><br />The only thing one gets out of all these souls in the picture is the different stages of loneliness each one inhabits. A big city is not exactly the best place in which human relations find sincere fulfillment, as one discerns is the case with most of the people we encounter.<br /><br />The acting is good under Mr. Mattei's direction. Steve Buscemi, Rosario Dawson, Carol Kane, Michael Imperioli, Adrian Grenier, and the rest of the talented cast, make these characters come alive.<br /><br />We wish Mr. Mattei good luck and await anxiously for his next work.                                                                                                                                                                                                                                                                                                                                                                                                                                                             |\n",
      "+----+-------------+-----------------------------------------------------------------------------------------------------------------------------------------------------------------------------------------------------------------------------------------------------------------------------------------------------------------------------------------------------------------------------------------------------------------------------------------------------------------------------------------------------------------------------------------------------------------------------------------------------------------------------------------------------------------------------------------------------------------------------------------------------------------------------------------------------------------------------------------------------------------------------------------------------------------------------------------------------------------------------------------------------------------------------------------------------------------------------------------------------------------------------------------------------------------------------------------------------------------------------------------------------------------------------------------------------------------------------------------------------------------------------------------------------------------------------------------------------------------------------------------------------------------------------------------------------------------------------------------------------------------------------------------------------------------------------------------------------------------------------------------------------------------------------------------------------------------------------------+\n"
     ]
    }
   ],
   "source": [
    "df = my_labelling(origin, 'sentiment')  # 부정이 0이고 긍정이 1\n",
    "my_pretty_table(df.head())"
   ]
  },
  {
   "cell_type": "markdown",
   "metadata": {},
   "source": [
    "### [2] 축약어 처리"
   ]
  },
  {
   "cell_type": "code",
   "execution_count": 112,
   "metadata": {},
   "outputs": [
    {
     "name": "stdout",
     "output_type": "stream",
     "text": [
      "+----+-------------+------------------------------------------------------------------------------------------------------------------------------------------------------------------------------------------------------------------------------------------------------------------------------------------------------------------------------------------------------------------------------------------------------------------------------------------------------------------------------------------------------------------------------------------------------------------------------------------------------------------------------------------------------------------------------------------------------------------------------------------------------------------------------------------------------------------------------------------------------------------------------------------------------------------------------------------------------------------------------------------------------------------------------------------------------------------------------------------------------------------------------------------------------------------------------------------------------------------------------------------------------------------------------------------------------------------------------------------------------------------------------------------------------------------------------------------------------------------------------------------------------------------------------------------------------------------------------------------------------------------------------------------------------------------------------------------------------------------------------------------------------------------------------------------------------------------------------------------------+\n",
      "|    |   sentiment | review                                                                                                                                                                                                                                                                                                                                                                                                                                                                                                                                                                                                                                                                                                                                                                                                                                                                                                                                                                                                                                                                                                                                                                                                                                                                                                                                                                                                                                                                                                                                                                                                                                                                                                                                                                                                                                         |\n",
      "|----+-------------+------------------------------------------------------------------------------------------------------------------------------------------------------------------------------------------------------------------------------------------------------------------------------------------------------------------------------------------------------------------------------------------------------------------------------------------------------------------------------------------------------------------------------------------------------------------------------------------------------------------------------------------------------------------------------------------------------------------------------------------------------------------------------------------------------------------------------------------------------------------------------------------------------------------------------------------------------------------------------------------------------------------------------------------------------------------------------------------------------------------------------------------------------------------------------------------------------------------------------------------------------------------------------------------------------------------------------------------------------------------------------------------------------------------------------------------------------------------------------------------------------------------------------------------------------------------------------------------------------------------------------------------------------------------------------------------------------------------------------------------------------------------------------------------------------------------------------------------------|\n",
      "|  0 |           1 | One of the other reviewers has mentioned that after watching just 1 Oz episode you will be hooked. They are right, as this is exactly what happened with me.<br /><br />The first thing that struck me about Oz was its brutality and unflinching scenes of violence, which set in right from the word GO. Trust me, this is not a show for the faint hearted or timid. This show pulls no punches with regards to drugs, sex or violence. Its is hardcore, in the classic use of the word.<br /><br />It is called OZ as that is the nickname given to the Oswald Maximum Security State Penitentary. It focuses mainly on Emerald City, an experimental section of the prison where all the cells have glass fronts and face inwards, so privacy is not high on the agenda. Them City is home to many..Aryans, Muslims, gangstas, Latinos, Christians, Italians, Irish and more....so scuffles, death stares, dodgy dealings and shady agreements are never far away.<br /><br />I would say the main appeal of the show is due to the fact that it goes where other shows would not dare. Forget pretty pictures painted for mainstream audiences, forget charm, forget romance...OZ does not mess around. The first episode I ever saw struck me as so nasty it was surreal, I could not say I was ready for it, but as I watched more, I developed a taste for Oz, and got accustomed to the high levels of graphic violence. Not just violence, but injustice (crooked guards who will be sold out for a nickel, inmates who will kill on order and get away with it, well mannered, middle class inmates being turned into prison bitches due to their lack of street skills or prison experience) Watching Oz, you may become comfortable with what is uncomfortable viewing....that is if you can get in touch with your darker side. |\n",
      "|  1 |           1 | A wonderful little production. <br /><br />The filming technique is very unassuming- very old-time-BBC fashion and gives a comforting, and sometimes discomforting, sense of realism to the entire piece. <br /><br />The actors are extremely well chosen- Michael Sheen not only \"has got all the polari\" but he has all the voices down pat too! You can truly see the seamless editing guided by the references to Williams' diary entries, not only is it well worth the watching but it is a terrificly written and performed piece. A masterful production about one of the great master's of comedy and his life. <br /><br />The realism really comes home with the little things: the fantasy of the guard which, rather than use the traditional 'dream' techniques remains solid then disappears. It plays on our knowledge and our senses, particularly with the scenes concerning Orton and Halliwell and the sets (particularly of their flat with Halliwell's murals decorating every surface) are terribly well done.                                                                                                                                                                                                                                                                                                                                                                                                                                                                                                                                                                                                                                                                                                                                                                                                         |\n",
      "|  2 |           1 | I thought this was a wonderful way to spend time on a too hot summer weekend, sitting in the air conditioned theater and watching a light-hearted comedy. The plot is simplistic, but the dialogue is witty and the characters are likable (even the well bread suspected serial killer). While some may be disappointed when they realize this is not Match Point 2: Risk Addiction, I thought it was proof that Woody Allen is still fully in control of the style many of us have grown to love.<br /><br />This was the most I would laughed at one of Woody's comedies in years (dare I say a decade?). While I have never been impressed with Scarlet Johanson, in this she managed to tone down her \"sexy\" image and jumped right into a average, but spirited young woman.<br /><br />This may not be the crown jewel of his career, but it was wittier than \"Devil Wears Prada\" and more interesting than \"Superman\" a great comedy to go see with friends.                                                                                                                                                                                                                                                                                                                                                                                                                                                                                                                                                                                                                                                                                                                                                                                                                                                                           |\n",
      "|  3 |           0 | Basically there is a family where a little boy (Jake) thinks there is a zombie in his closet & his parents are fighting all the time.<br /><br />This movie is slower than a soap opera... and suddenly, Jake decides to become Rambo and kill the zombie.<br /><br />OK, first of all when you are going to make a film you must Decide if its a thriller or a drama! As a drama the movie is watchable. Parents are divorcing & arguing like in real life. And then we have Jake with his closet which totally ruins all the film! I expected to see a BOOGEYMAN similar movie, and instead i watched a drama with some meaningless thriller spots.<br /><br />3 out of 10 just for the well playing parents & descent dialogs. As for the shots with Jake: just ignore them.                                                                                                                                                                                                                                                                                                                                                                                                                                                                                                                                                                                                                                                                                                                                                                                                                                                                                                                                                                                                                                                                |\n",
      "|  4 |           1 | Petter Mattei's \"Love in the Time of Money\" is a visually stunning film to watch. Mr. Mattei offers us a vivid portrait about human relations. This is a movie that seems to be telling us what money, power and success do to people in the different situations we encounter. <br /><br />This being a variation on the Arthur Schnitzler's play about the same theme, the director transfers the action to the present time New York where all these different characters meet and connect. Each one is connected in one way, or another to the next person, but no one seems to know the previous point of contact. Stylishly, the film has a sophisticated luxurious look. We are taken to see how these people live and the world they live in their own habitat.<br /><br />The only thing one gets out of all these souls in the picture is the different stages of loneliness each one inhabits. A big city is not exactly the best place in which human relations find sincere fulfillment, as one discerns is the case with most of the people we encounter.<br /><br />The acting is good under Mr. Mattei's direction. Steve Buscemi, Rosario Dawson, Carol Kane, Michael Imperioli, Adrian Grenier, and the rest of the talented cast, make these characters come alive.<br /><br />We wish Mr. Mattei good luck and await anxiously for his next work.                                                                                                                                                                                                                                                                                                                                                                                                                                                                          |\n",
      "+----+-------------+------------------------------------------------------------------------------------------------------------------------------------------------------------------------------------------------------------------------------------------------------------------------------------------------------------------------------------------------------------------------------------------------------------------------------------------------------------------------------------------------------------------------------------------------------------------------------------------------------------------------------------------------------------------------------------------------------------------------------------------------------------------------------------------------------------------------------------------------------------------------------------------------------------------------------------------------------------------------------------------------------------------------------------------------------------------------------------------------------------------------------------------------------------------------------------------------------------------------------------------------------------------------------------------------------------------------------------------------------------------------------------------------------------------------------------------------------------------------------------------------------------------------------------------------------------------------------------------------------------------------------------------------------------------------------------------------------------------------------------------------------------------------------------------------------------------------------------------------+\n"
     ]
    }
   ],
   "source": [
    "df['review'] = df['review'].apply(lambda x: contractions.fix(x))  # apply 반복돌면서 처리해라\n",
    "my_pretty_table(df.head())"
   ]
  },
  {
   "cell_type": "markdown",
   "metadata": {},
   "source": [
    "### [3] 정규표현식 처리\n",
    "\n",
    "#### (1) 이메일주소 패턴 제거"
   ]
  },
  {
   "cell_type": "code",
   "execution_count": 113,
   "metadata": {},
   "outputs": [],
   "source": [
    "def remove_emails(x):\n",
    "    email_pattern = re.compile(r\"(^[a-zA-Z0-9_.+-]+@[a-zA-Z0-9-]+\\.[a-zA-Z0-9-.]+$)\")\n",
    "    return re.sub(email_pattern, '', x)"
   ]
  },
  {
   "cell_type": "code",
   "execution_count": 114,
   "metadata": {},
   "outputs": [
    {
     "name": "stdout",
     "output_type": "stream",
     "text": [
      "+----+-------------+------------------------------------------------------------------------------------------------------------------------------------------------------------------------------------------------------------------------------------------------------------------------------------------------------------------------------------------------------------------------------------------------------------------------------------------------------------------------------------------------------------------------------------------------------------------------------------------------------------------------------------------------------------------------------------------------------------------------------------------------------------------------------------------------------------------------------------------------------------------------------------------------------------------------------------------------------------------------------------------------------------------------------------------------------------------------------------------------------------------------------------------------------------------------------------------------------------------------------------------------------------------------------------------------------------------------------------------------------------------------------------------------------------------------------------------------------------------------------------------------------------------------------------------------------------------------------------------------------------------------------------------------------------------------------------------------------------------------------------------------------------------------------------------------------------------------------------------------+\n",
      "|    |   sentiment | review                                                                                                                                                                                                                                                                                                                                                                                                                                                                                                                                                                                                                                                                                                                                                                                                                                                                                                                                                                                                                                                                                                                                                                                                                                                                                                                                                                                                                                                                                                                                                                                                                                                                                                                                                                                                                                         |\n",
      "|----+-------------+------------------------------------------------------------------------------------------------------------------------------------------------------------------------------------------------------------------------------------------------------------------------------------------------------------------------------------------------------------------------------------------------------------------------------------------------------------------------------------------------------------------------------------------------------------------------------------------------------------------------------------------------------------------------------------------------------------------------------------------------------------------------------------------------------------------------------------------------------------------------------------------------------------------------------------------------------------------------------------------------------------------------------------------------------------------------------------------------------------------------------------------------------------------------------------------------------------------------------------------------------------------------------------------------------------------------------------------------------------------------------------------------------------------------------------------------------------------------------------------------------------------------------------------------------------------------------------------------------------------------------------------------------------------------------------------------------------------------------------------------------------------------------------------------------------------------------------------------|\n",
      "|  0 |           1 | One of the other reviewers has mentioned that after watching just 1 Oz episode you will be hooked. They are right, as this is exactly what happened with me.<br /><br />The first thing that struck me about Oz was its brutality and unflinching scenes of violence, which set in right from the word GO. Trust me, this is not a show for the faint hearted or timid. This show pulls no punches with regards to drugs, sex or violence. Its is hardcore, in the classic use of the word.<br /><br />It is called OZ as that is the nickname given to the Oswald Maximum Security State Penitentary. It focuses mainly on Emerald City, an experimental section of the prison where all the cells have glass fronts and face inwards, so privacy is not high on the agenda. Them City is home to many..Aryans, Muslims, gangstas, Latinos, Christians, Italians, Irish and more....so scuffles, death stares, dodgy dealings and shady agreements are never far away.<br /><br />I would say the main appeal of the show is due to the fact that it goes where other shows would not dare. Forget pretty pictures painted for mainstream audiences, forget charm, forget romance...OZ does not mess around. The first episode I ever saw struck me as so nasty it was surreal, I could not say I was ready for it, but as I watched more, I developed a taste for Oz, and got accustomed to the high levels of graphic violence. Not just violence, but injustice (crooked guards who will be sold out for a nickel, inmates who will kill on order and get away with it, well mannered, middle class inmates being turned into prison bitches due to their lack of street skills or prison experience) Watching Oz, you may become comfortable with what is uncomfortable viewing....that is if you can get in touch with your darker side. |\n",
      "|  1 |           1 | A wonderful little production. <br /><br />The filming technique is very unassuming- very old-time-BBC fashion and gives a comforting, and sometimes discomforting, sense of realism to the entire piece. <br /><br />The actors are extremely well chosen- Michael Sheen not only \"has got all the polari\" but he has all the voices down pat too! You can truly see the seamless editing guided by the references to Williams' diary entries, not only is it well worth the watching but it is a terrificly written and performed piece. A masterful production about one of the great master's of comedy and his life. <br /><br />The realism really comes home with the little things: the fantasy of the guard which, rather than use the traditional 'dream' techniques remains solid then disappears. It plays on our knowledge and our senses, particularly with the scenes concerning Orton and Halliwell and the sets (particularly of their flat with Halliwell's murals decorating every surface) are terribly well done.                                                                                                                                                                                                                                                                                                                                                                                                                                                                                                                                                                                                                                                                                                                                                                                                         |\n",
      "|  2 |           1 | I thought this was a wonderful way to spend time on a too hot summer weekend, sitting in the air conditioned theater and watching a light-hearted comedy. The plot is simplistic, but the dialogue is witty and the characters are likable (even the well bread suspected serial killer). While some may be disappointed when they realize this is not Match Point 2: Risk Addiction, I thought it was proof that Woody Allen is still fully in control of the style many of us have grown to love.<br /><br />This was the most I would laughed at one of Woody's comedies in years (dare I say a decade?). While I have never been impressed with Scarlet Johanson, in this she managed to tone down her \"sexy\" image and jumped right into a average, but spirited young woman.<br /><br />This may not be the crown jewel of his career, but it was wittier than \"Devil Wears Prada\" and more interesting than \"Superman\" a great comedy to go see with friends.                                                                                                                                                                                                                                                                                                                                                                                                                                                                                                                                                                                                                                                                                                                                                                                                                                                                           |\n",
      "|  3 |           0 | Basically there is a family where a little boy (Jake) thinks there is a zombie in his closet & his parents are fighting all the time.<br /><br />This movie is slower than a soap opera... and suddenly, Jake decides to become Rambo and kill the zombie.<br /><br />OK, first of all when you are going to make a film you must Decide if its a thriller or a drama! As a drama the movie is watchable. Parents are divorcing & arguing like in real life. And then we have Jake with his closet which totally ruins all the film! I expected to see a BOOGEYMAN similar movie, and instead i watched a drama with some meaningless thriller spots.<br /><br />3 out of 10 just for the well playing parents & descent dialogs. As for the shots with Jake: just ignore them.                                                                                                                                                                                                                                                                                                                                                                                                                                                                                                                                                                                                                                                                                                                                                                                                                                                                                                                                                                                                                                                                |\n",
      "|  4 |           1 | Petter Mattei's \"Love in the Time of Money\" is a visually stunning film to watch. Mr. Mattei offers us a vivid portrait about human relations. This is a movie that seems to be telling us what money, power and success do to people in the different situations we encounter. <br /><br />This being a variation on the Arthur Schnitzler's play about the same theme, the director transfers the action to the present time New York where all these different characters meet and connect. Each one is connected in one way, or another to the next person, but no one seems to know the previous point of contact. Stylishly, the film has a sophisticated luxurious look. We are taken to see how these people live and the world they live in their own habitat.<br /><br />The only thing one gets out of all these souls in the picture is the different stages of loneliness each one inhabits. A big city is not exactly the best place in which human relations find sincere fulfillment, as one discerns is the case with most of the people we encounter.<br /><br />The acting is good under Mr. Mattei's direction. Steve Buscemi, Rosario Dawson, Carol Kane, Michael Imperioli, Adrian Grenier, and the rest of the talented cast, make these characters come alive.<br /><br />We wish Mr. Mattei good luck and await anxiously for his next work.                                                                                                                                                                                                                                                                                                                                                                                                                                                                          |\n",
      "+----+-------------+------------------------------------------------------------------------------------------------------------------------------------------------------------------------------------------------------------------------------------------------------------------------------------------------------------------------------------------------------------------------------------------------------------------------------------------------------------------------------------------------------------------------------------------------------------------------------------------------------------------------------------------------------------------------------------------------------------------------------------------------------------------------------------------------------------------------------------------------------------------------------------------------------------------------------------------------------------------------------------------------------------------------------------------------------------------------------------------------------------------------------------------------------------------------------------------------------------------------------------------------------------------------------------------------------------------------------------------------------------------------------------------------------------------------------------------------------------------------------------------------------------------------------------------------------------------------------------------------------------------------------------------------------------------------------------------------------------------------------------------------------------------------------------------------------------------------------------------------+\n"
     ]
    }
   ],
   "source": [
    "df['review'] = df['review'].apply(lambda x: remove_emails(x))\n",
    "my_pretty_table(df.head())"
   ]
  },
  {
   "cell_type": "markdown",
   "metadata": {},
   "source": [
    "#### (2) HTML 태크 패턴 제거"
   ]
  },
  {
   "cell_type": "code",
   "execution_count": 115,
   "metadata": {},
   "outputs": [
    {
     "name": "stdout",
     "output_type": "stream",
     "text": [
      "+----+-------------+------------------------------------------------------------------------------------------------------------------------------------------------------------------------------------------------------------------------------------------------------------------------------------------------------------------------------------------------------------------------------------------------------------------------------------------------------------------------------------------------------------------------------------------------------------------------------------------------------------------------------------------------------------------------------------------------------------------------------------------------------------------------------------------------------------------------------------------------------------------------------------------------------------------------------------------------------------------------------------------------------------------------------------------------------------------------------------------------------------------------------------------------------------------------------------------------------------------------------------------------------------------------------------------------------------------------------------------------------------------------------------------------------------------------------------------------------------------------------------------------------------------------------------------------------------------------------------------------------------------------------------------------------------------------------------------------------------------------------------------------------------------------------------------------------------+\n",
      "|    |   sentiment | review                                                                                                                                                                                                                                                                                                                                                                                                                                                                                                                                                                                                                                                                                                                                                                                                                                                                                                                                                                                                                                                                                                                                                                                                                                                                                                                                                                                                                                                                                                                                                                                                                                                                                                                                                                                                     |\n",
      "|----+-------------+------------------------------------------------------------------------------------------------------------------------------------------------------------------------------------------------------------------------------------------------------------------------------------------------------------------------------------------------------------------------------------------------------------------------------------------------------------------------------------------------------------------------------------------------------------------------------------------------------------------------------------------------------------------------------------------------------------------------------------------------------------------------------------------------------------------------------------------------------------------------------------------------------------------------------------------------------------------------------------------------------------------------------------------------------------------------------------------------------------------------------------------------------------------------------------------------------------------------------------------------------------------------------------------------------------------------------------------------------------------------------------------------------------------------------------------------------------------------------------------------------------------------------------------------------------------------------------------------------------------------------------------------------------------------------------------------------------------------------------------------------------------------------------------------------------|\n",
      "|  0 |           1 | One of the other reviewers has mentioned that after watching just 1 Oz episode you will be hooked. They are right, as this is exactly what happened with me.The first thing that struck me about Oz was its brutality and unflinching scenes of violence, which set in right from the word GO. Trust me, this is not a show for the faint hearted or timid. This show pulls no punches with regards to drugs, sex or violence. Its is hardcore, in the classic use of the word.It is called OZ as that is the nickname given to the Oswald Maximum Security State Penitentary. It focuses mainly on Emerald City, an experimental section of the prison where all the cells have glass fronts and face inwards, so privacy is not high on the agenda. Them City is home to many..Aryans, Muslims, gangstas, Latinos, Christians, Italians, Irish and more....so scuffles, death stares, dodgy dealings and shady agreements are never far away.I would say the main appeal of the show is due to the fact that it goes where other shows would not dare. Forget pretty pictures painted for mainstream audiences, forget charm, forget romance...OZ does not mess around. The first episode I ever saw struck me as so nasty it was surreal, I could not say I was ready for it, but as I watched more, I developed a taste for Oz, and got accustomed to the high levels of graphic violence. Not just violence, but injustice (crooked guards who will be sold out for a nickel, inmates who will kill on order and get away with it, well mannered, middle class inmates being turned into prison bitches due to their lack of street skills or prison experience) Watching Oz, you may become comfortable with what is uncomfortable viewing....that is if you can get in touch with your darker side. |\n",
      "|  1 |           1 | A wonderful little production. The filming technique is very unassuming- very old-time-BBC fashion and gives a comforting, and sometimes discomforting, sense of realism to the entire piece. The actors are extremely well chosen- Michael Sheen not only \"has got all the polari\" but he has all the voices down pat too! You can truly see the seamless editing guided by the references to Williams' diary entries, not only is it well worth the watching but it is a terrificly written and performed piece. A masterful production about one of the great master's of comedy and his life. The realism really comes home with the little things: the fantasy of the guard which, rather than use the traditional 'dream' techniques remains solid then disappears. It plays on our knowledge and our senses, particularly with the scenes concerning Orton and Halliwell and the sets (particularly of their flat with Halliwell's murals decorating every surface) are terribly well done.                                                                                                                                                                                                                                                                                                                                                                                                                                                                                                                                                                                                                                                                                                                                                                                                         |\n",
      "|  2 |           1 | I thought this was a wonderful way to spend time on a too hot summer weekend, sitting in the air conditioned theater and watching a light-hearted comedy. The plot is simplistic, but the dialogue is witty and the characters are likable (even the well bread suspected serial killer). While some may be disappointed when they realize this is not Match Point 2: Risk Addiction, I thought it was proof that Woody Allen is still fully in control of the style many of us have grown to love.This was the most I would laughed at one of Woody's comedies in years (dare I say a decade?). While I have never been impressed with Scarlet Johanson, in this she managed to tone down her \"sexy\" image and jumped right into a average, but spirited young woman.This may not be the crown jewel of his career, but it was wittier than \"Devil Wears Prada\" and more interesting than \"Superman\" a great comedy to go see with friends.                                                                                                                                                                                                                                                                                                                                                                                                                                                                                                                                                                                                                                                                                                                                                                                                                                                               |\n",
      "|  3 |           0 | Basically there is a family where a little boy (Jake) thinks there is a zombie in his closet & his parents are fighting all the time.This movie is slower than a soap opera... and suddenly, Jake decides to become Rambo and kill the zombie.OK, first of all when you are going to make a film you must Decide if its a thriller or a drama! As a drama the movie is watchable. Parents are divorcing & arguing like in real life. And then we have Jake with his closet which totally ruins all the film! I expected to see a BOOGEYMAN similar movie, and instead i watched a drama with some meaningless thriller spots.3 out of 10 just for the well playing parents & descent dialogs. As for the shots with Jake: just ignore them.                                                                                                                                                                                                                                                                                                                                                                                                                                                                                                                                                                                                                                                                                                                                                                                                                                                                                                                                                                                                                                                                |\n",
      "|  4 |           1 | Petter Mattei's \"Love in the Time of Money\" is a visually stunning film to watch. Mr. Mattei offers us a vivid portrait about human relations. This is a movie that seems to be telling us what money, power and success do to people in the different situations we encounter. This being a variation on the Arthur Schnitzler's play about the same theme, the director transfers the action to the present time New York where all these different characters meet and connect. Each one is connected in one way, or another to the next person, but no one seems to know the previous point of contact. Stylishly, the film has a sophisticated luxurious look. We are taken to see how these people live and the world they live in their own habitat.The only thing one gets out of all these souls in the picture is the different stages of loneliness each one inhabits. A big city is not exactly the best place in which human relations find sincere fulfillment, as one discerns is the case with most of the people we encounter.The acting is good under Mr. Mattei's direction. Steve Buscemi, Rosario Dawson, Carol Kane, Michael Imperioli, Adrian Grenier, and the rest of the talented cast, make these characters come alive.We wish Mr. Mattei good luck and await anxiously for his next work.                                                                                                                                                                                                                                                                                                                                                                                                                                                                                      |\n",
      "+----+-------------+------------------------------------------------------------------------------------------------------------------------------------------------------------------------------------------------------------------------------------------------------------------------------------------------------------------------------------------------------------------------------------------------------------------------------------------------------------------------------------------------------------------------------------------------------------------------------------------------------------------------------------------------------------------------------------------------------------------------------------------------------------------------------------------------------------------------------------------------------------------------------------------------------------------------------------------------------------------------------------------------------------------------------------------------------------------------------------------------------------------------------------------------------------------------------------------------------------------------------------------------------------------------------------------------------------------------------------------------------------------------------------------------------------------------------------------------------------------------------------------------------------------------------------------------------------------------------------------------------------------------------------------------------------------------------------------------------------------------------------------------------------------------------------------------------------+\n"
     ]
    }
   ],
   "source": [
    "df['review'] = df['review'].apply(lambda x:  BeautifulSoup(x).get_text().strip())  \n",
    "my_pretty_table(df.head())"
   ]
  },
  {
   "cell_type": "markdown",
   "metadata": {},
   "source": [
    "#### (3) 그 밖의 몇몇 특수문자 제거"
   ]
  },
  {
   "cell_type": "code",
   "execution_count": 116,
   "metadata": {},
   "outputs": [],
   "source": [
    "def remove_special_chars(x):\n",
    "    x = re.sub(r'[^]\\w ]+', \"\", x)\n",
    "    x = ' '.join(x.split())\n",
    "    return x"
   ]
  },
  {
   "cell_type": "code",
   "execution_count": 117,
   "metadata": {},
   "outputs": [
    {
     "name": "stdout",
     "output_type": "stream",
     "text": [
      "+----+-------------+------------------------------------------------------------------------------------------------------------------------------------------------------------------------------------------------------------------------------------------------------------------------------------------------------------------------------------------------------------------------------------------------------------------------------------------------------------------------------------------------------------------------------------------------------------------------------------------------------------------------------------------------------------------------------------------------------------------------------------------------------------------------------------------------------------------------------------------------------------------------------------------------------------------------------------------------------------------------------------------------------------------------------------------------------------------------------------------------------------------------------------------------------------------------------------------------------------------------------------------------------------------------------------------------------------------------------------------------------------------------------------------------------------------------------------------------------------------------------------------------------------------------------------------------------------------------------------------------------------------------------------------------------------------------------------------------------------------------------------------------------+\n",
      "|    |   sentiment | review                                                                                                                                                                                                                                                                                                                                                                                                                                                                                                                                                                                                                                                                                                                                                                                                                                                                                                                                                                                                                                                                                                                                                                                                                                                                                                                                                                                                                                                                                                                                                                                                                                                                                                                                               |\n",
      "|----+-------------+------------------------------------------------------------------------------------------------------------------------------------------------------------------------------------------------------------------------------------------------------------------------------------------------------------------------------------------------------------------------------------------------------------------------------------------------------------------------------------------------------------------------------------------------------------------------------------------------------------------------------------------------------------------------------------------------------------------------------------------------------------------------------------------------------------------------------------------------------------------------------------------------------------------------------------------------------------------------------------------------------------------------------------------------------------------------------------------------------------------------------------------------------------------------------------------------------------------------------------------------------------------------------------------------------------------------------------------------------------------------------------------------------------------------------------------------------------------------------------------------------------------------------------------------------------------------------------------------------------------------------------------------------------------------------------------------------------------------------------------------------|\n",
      "|  0 |           1 | One of the other reviewers has mentioned that after watching just 1 Oz episode you will be hooked They are right as this is exactly what happened with meThe first thing that struck me about Oz was its brutality and unflinching scenes of violence which set in right from the word GO Trust me this is not a show for the faint hearted or timid This show pulls no punches with regards to drugs sex or violence Its is hardcore in the classic use of the wordIt is called OZ as that is the nickname given to the Oswald Maximum Security State Penitentary It focuses mainly on Emerald City an experimental section of the prison where all the cells have glass fronts and face inwards so privacy is not high on the agenda Them City is home to manyAryans Muslims gangstas Latinos Christians Italians Irish and moreso scuffles death stares dodgy dealings and shady agreements are never far awayI would say the main appeal of the show is due to the fact that it goes where other shows would not dare Forget pretty pictures painted for mainstream audiences forget charm forget romanceOZ does not mess around The first episode I ever saw struck me as so nasty it was surreal I could not say I was ready for it but as I watched more I developed a taste for Oz and got accustomed to the high levels of graphic violence Not just violence but injustice crooked guards who will be sold out for a nickel inmates who will kill on order and get away with it well mannered middle class inmates being turned into prison bitches due to their lack of street skills or prison experience Watching Oz you may become comfortable with what is uncomfortable viewingthat is if you can get in touch with your darker side |\n",
      "|  1 |           1 | A wonderful little production The filming technique is very unassuming very oldtimeBBC fashion and gives a comforting and sometimes discomforting sense of realism to the entire piece The actors are extremely well chosen Michael Sheen not only has got all the polari but he has all the voices down pat too You can truly see the seamless editing guided by the references to Williams diary entries not only is it well worth the watching but it is a terrificly written and performed piece A masterful production about one of the great masters of comedy and his life The realism really comes home with the little things the fantasy of the guard which rather than use the traditional dream techniques remains solid then disappears It plays on our knowledge and our senses particularly with the scenes concerning Orton and Halliwell and the sets particularly of their flat with Halliwells murals decorating every surface are terribly well done                                                                                                                                                                                                                                                                                                                                                                                                                                                                                                                                                                                                                                                                                                                                                                             |\n",
      "|  2 |           1 | I thought this was a wonderful way to spend time on a too hot summer weekend sitting in the air conditioned theater and watching a lighthearted comedy The plot is simplistic but the dialogue is witty and the characters are likable even the well bread suspected serial killer While some may be disappointed when they realize this is not Match Point 2 Risk Addiction I thought it was proof that Woody Allen is still fully in control of the style many of us have grown to loveThis was the most I would laughed at one of Woodys comedies in years dare I say a decade While I have never been impressed with Scarlet Johanson in this she managed to tone down her sexy image and jumped right into a average but spirited young womanThis may not be the crown jewel of his career but it was wittier than Devil Wears Prada and more interesting than Superman a great comedy to go see with friends                                                                                                                                                                                                                                                                                                                                                                                                                                                                                                                                                                                                                                                                                                                                                                                                                                   |\n",
      "|  3 |           0 | Basically there is a family where a little boy Jake thinks there is a zombie in his closet his parents are fighting all the timeThis movie is slower than a soap opera and suddenly Jake decides to become Rambo and kill the zombieOK first of all when you are going to make a film you must Decide if its a thriller or a drama As a drama the movie is watchable Parents are divorcing arguing like in real life And then we have Jake with his closet which totally ruins all the film I expected to see a BOOGEYMAN similar movie and instead i watched a drama with some meaningless thriller spots3 out of 10 just for the well playing parents descent dialogs As for the shots with Jake just ignore them                                                                                                                                                                                                                                                                                                                                                                                                                                                                                                                                                                                                                                                                                                                                                                                                                                                                                                                                                                                                                                  |\n",
      "|  4 |           1 | Petter Matteis Love in the Time of Money is a visually stunning film to watch Mr Mattei offers us a vivid portrait about human relations This is a movie that seems to be telling us what money power and success do to people in the different situations we encounter This being a variation on the Arthur Schnitzlers play about the same theme the director transfers the action to the present time New York where all these different characters meet and connect Each one is connected in one way or another to the next person but no one seems to know the previous point of contact Stylishly the film has a sophisticated luxurious look We are taken to see how these people live and the world they live in their own habitatThe only thing one gets out of all these souls in the picture is the different stages of loneliness each one inhabits A big city is not exactly the best place in which human relations find sincere fulfillment as one discerns is the case with most of the people we encounterThe acting is good under Mr Matteis direction Steve Buscemi Rosario Dawson Carol Kane Michael Imperioli Adrian Grenier and the rest of the talented cast make these characters come aliveWe wish Mr Mattei good luck and await anxiously for his next work                                                                                                                                                                                                                                                                                                                                                                                                                                                                |\n",
      "+----+-------------+------------------------------------------------------------------------------------------------------------------------------------------------------------------------------------------------------------------------------------------------------------------------------------------------------------------------------------------------------------------------------------------------------------------------------------------------------------------------------------------------------------------------------------------------------------------------------------------------------------------------------------------------------------------------------------------------------------------------------------------------------------------------------------------------------------------------------------------------------------------------------------------------------------------------------------------------------------------------------------------------------------------------------------------------------------------------------------------------------------------------------------------------------------------------------------------------------------------------------------------------------------------------------------------------------------------------------------------------------------------------------------------------------------------------------------------------------------------------------------------------------------------------------------------------------------------------------------------------------------------------------------------------------------------------------------------------------------------------------------------------------+\n"
     ]
    }
   ],
   "source": [
    "df['review'] = df['review'].apply(lambda x: remove_special_chars(x))\n",
    "my_pretty_table(df.head())"
   ]
  },
  {
   "cell_type": "markdown",
   "metadata": {},
   "source": [
    "#### (4) 영어 불용어 처리\n",
    "\n",
    "##### 불용어 사전 다운로드"
   ]
  },
  {
   "cell_type": "code",
   "execution_count": 118,
   "metadata": {},
   "outputs": [
    {
     "name": "stderr",
     "output_type": "stream",
     "text": [
      "[nltk_data] Downloading package stopwords to\n",
      "[nltk_data]     C:\\Users\\Jihwan\\AppData\\Roaming\\nltk_data...\n",
      "[nltk_data]   Package stopwords is already up-to-date!\n"
     ]
    },
    {
     "data": {
      "text/plain": [
       "True"
      ]
     },
     "execution_count": 118,
     "metadata": {},
     "output_type": "execute_result"
    }
   ],
   "source": [
    "nltk.download('stopwords')"
   ]
  },
  {
   "cell_type": "code",
   "execution_count": 119,
   "metadata": {},
   "outputs": [
    {
     "data": {
      "text/plain": [
       "['i',\n",
       " 'me',\n",
       " 'my',\n",
       " 'myself',\n",
       " 'we',\n",
       " 'our',\n",
       " 'ours',\n",
       " 'ourselves',\n",
       " 'you',\n",
       " \"you're\",\n",
       " \"you've\",\n",
       " \"you'll\",\n",
       " \"you'd\",\n",
       " 'your',\n",
       " 'yours',\n",
       " 'yourself',\n",
       " 'yourselves',\n",
       " 'he',\n",
       " 'him',\n",
       " 'his',\n",
       " 'himself',\n",
       " 'she',\n",
       " \"she's\",\n",
       " 'her',\n",
       " 'hers',\n",
       " 'herself',\n",
       " 'it',\n",
       " \"it's\",\n",
       " 'its',\n",
       " 'itself',\n",
       " 'they',\n",
       " 'them',\n",
       " 'their',\n",
       " 'theirs',\n",
       " 'themselves',\n",
       " 'what',\n",
       " 'which',\n",
       " 'who',\n",
       " 'whom',\n",
       " 'this',\n",
       " 'that',\n",
       " \"that'll\",\n",
       " 'these',\n",
       " 'those',\n",
       " 'am',\n",
       " 'is',\n",
       " 'are',\n",
       " 'was',\n",
       " 'were',\n",
       " 'be',\n",
       " 'been',\n",
       " 'being',\n",
       " 'have',\n",
       " 'has',\n",
       " 'had',\n",
       " 'having',\n",
       " 'do',\n",
       " 'does',\n",
       " 'did',\n",
       " 'doing',\n",
       " 'a',\n",
       " 'an',\n",
       " 'the',\n",
       " 'and',\n",
       " 'but',\n",
       " 'if',\n",
       " 'or',\n",
       " 'because',\n",
       " 'as',\n",
       " 'until',\n",
       " 'while',\n",
       " 'of',\n",
       " 'at',\n",
       " 'by',\n",
       " 'for',\n",
       " 'with',\n",
       " 'about',\n",
       " 'against',\n",
       " 'between',\n",
       " 'into',\n",
       " 'through',\n",
       " 'during',\n",
       " 'before',\n",
       " 'after',\n",
       " 'above',\n",
       " 'below',\n",
       " 'to',\n",
       " 'from',\n",
       " 'up',\n",
       " 'down',\n",
       " 'in',\n",
       " 'out',\n",
       " 'on',\n",
       " 'off',\n",
       " 'over',\n",
       " 'under',\n",
       " 'again',\n",
       " 'further',\n",
       " 'then',\n",
       " 'once',\n",
       " 'here',\n",
       " 'there',\n",
       " 'when',\n",
       " 'where',\n",
       " 'why',\n",
       " 'how',\n",
       " 'all',\n",
       " 'any',\n",
       " 'both',\n",
       " 'each',\n",
       " 'few',\n",
       " 'more',\n",
       " 'most',\n",
       " 'other',\n",
       " 'some',\n",
       " 'such',\n",
       " 'no',\n",
       " 'nor',\n",
       " 'not',\n",
       " 'only',\n",
       " 'own',\n",
       " 'same',\n",
       " 'so',\n",
       " 'than',\n",
       " 'too',\n",
       " 'very',\n",
       " 's',\n",
       " 't',\n",
       " 'can',\n",
       " 'will',\n",
       " 'just',\n",
       " 'don',\n",
       " \"don't\",\n",
       " 'should',\n",
       " \"should've\",\n",
       " 'now',\n",
       " 'd',\n",
       " 'll',\n",
       " 'm',\n",
       " 'o',\n",
       " 're',\n",
       " 've',\n",
       " 'y',\n",
       " 'ain',\n",
       " 'aren',\n",
       " \"aren't\",\n",
       " 'couldn',\n",
       " \"couldn't\",\n",
       " 'didn',\n",
       " \"didn't\",\n",
       " 'doesn',\n",
       " \"doesn't\",\n",
       " 'hadn',\n",
       " \"hadn't\",\n",
       " 'hasn',\n",
       " \"hasn't\",\n",
       " 'haven',\n",
       " \"haven't\",\n",
       " 'isn',\n",
       " \"isn't\",\n",
       " 'ma',\n",
       " 'mightn',\n",
       " \"mightn't\",\n",
       " 'mustn',\n",
       " \"mustn't\",\n",
       " 'needn',\n",
       " \"needn't\",\n",
       " 'shan',\n",
       " \"shan't\",\n",
       " 'shouldn',\n",
       " \"shouldn't\",\n",
       " 'wasn',\n",
       " \"wasn't\",\n",
       " 'weren',\n",
       " \"weren't\",\n",
       " 'won',\n",
       " \"won't\",\n",
       " 'wouldn',\n",
       " \"wouldn't\"]"
      ]
     },
     "execution_count": 119,
     "metadata": {},
     "output_type": "execute_result"
    }
   ],
   "source": [
    "sw = stopwords.words('english')\n",
    "sw"
   ]
  },
  {
   "cell_type": "markdown",
   "metadata": {},
   "source": [
    "##### 데이터에서 불용어 제거"
   ]
  },
  {
   "cell_type": "code",
   "execution_count": 120,
   "metadata": {},
   "outputs": [],
   "source": [
    "def remove_stop_words(x):\n",
    "    global sw\n",
    "    return ' '.join([word for word in x.split() if word not in sw])\n"
   ]
  },
  {
   "cell_type": "code",
   "execution_count": 121,
   "metadata": {},
   "outputs": [
    {
     "name": "stdout",
     "output_type": "stream",
     "text": [
      "+----+-------------+----------------------------------------------------------------------------------------------------------------------------------------------------------------------------------------------------------------------------------------------------------------------------------------------------------------------------------------------------------------------------------------------------------------------------------------------------------------------------------------------------------------------------------------------------------------------------------------------------------------------------------------------------------------------------------------------------------------------------------------------------------------------------------------------------------------------------------------------------------------------------------------------------------------------------------------------------------------------------------------------------------------------------------------------------------------------------------------------------------------------------------------------------------------------------------------------------------------+\n",
      "|    |   sentiment | review                                                                                                                                                                                                                                                                                                                                                                                                                                                                                                                                                                                                                                                                                                                                                                                                                                                                                                                                                                                                                                                                                                                                                                                                         |\n",
      "|----+-------------+----------------------------------------------------------------------------------------------------------------------------------------------------------------------------------------------------------------------------------------------------------------------------------------------------------------------------------------------------------------------------------------------------------------------------------------------------------------------------------------------------------------------------------------------------------------------------------------------------------------------------------------------------------------------------------------------------------------------------------------------------------------------------------------------------------------------------------------------------------------------------------------------------------------------------------------------------------------------------------------------------------------------------------------------------------------------------------------------------------------------------------------------------------------------------------------------------------------|\n",
      "|  0 |           1 | One reviewers mentioned watching 1 Oz episode hooked They right exactly happened meThe first thing struck Oz brutality unflinching scenes violence set right word GO Trust show faint hearted timid This show pulls punches regards drugs sex violence Its hardcore classic use wordIt called OZ nickname given Oswald Maximum Security State Penitentary It focuses mainly Emerald City experimental section prison cells glass fronts face inwards privacy high agenda Them City home manyAryans Muslims gangstas Latinos Christians Italians Irish moreso scuffles death stares dodgy dealings shady agreements never far awayI would say main appeal show due fact goes shows would dare Forget pretty pictures painted mainstream audiences forget charm forget romanceOZ mess around The first episode I ever saw struck nasty surreal I could say I ready I watched I developed taste Oz got accustomed high levels graphic violence Not violence injustice crooked guards sold nickel inmates kill order get away well mannered middle class inmates turned prison bitches due lack street skills prison experience Watching Oz may become comfortable uncomfortable viewingthat get touch darker side |\n",
      "|  1 |           1 | A wonderful little production The filming technique unassuming oldtimeBBC fashion gives comforting sometimes discomforting sense realism entire piece The actors extremely well chosen Michael Sheen got polari voices pat You truly see seamless editing guided references Williams diary entries well worth watching terrificly written performed piece A masterful production one great masters comedy life The realism really comes home little things fantasy guard rather use traditional dream techniques remains solid disappears It plays knowledge senses particularly scenes concerning Orton Halliwell sets particularly flat Halliwells murals decorating every surface terribly well done                                                                                                                                                                                                                                                                                                                                                                                                                                                                                                        |\n",
      "|  2 |           1 | I thought wonderful way spend time hot summer weekend sitting air conditioned theater watching lighthearted comedy The plot simplistic dialogue witty characters likable even well bread suspected serial killer While may disappointed realize Match Point 2 Risk Addiction I thought proof Woody Allen still fully control style many us grown loveThis I would laughed one Woodys comedies years dare I say decade While I never impressed Scarlet Johanson managed tone sexy image jumped right average spirited young womanThis may crown jewel career wittier Devil Wears Prada interesting Superman great comedy go see friends                                                                                                                                                                                                                                                                                                                                                                                                                                                                                                                                                                         |\n",
      "|  3 |           0 | Basically family little boy Jake thinks zombie closet parents fighting timeThis movie slower soap opera suddenly Jake decides become Rambo kill zombieOK first going make film must Decide thriller drama As drama movie watchable Parents divorcing arguing like real life And Jake closet totally ruins film I expected see BOOGEYMAN similar movie instead watched drama meaningless thriller spots3 10 well playing parents descent dialogs As shots Jake ignore                                                                                                                                                                                                                                                                                                                                                                                                                                                                                                                                                                                                                                                                                                                                           |\n",
      "|  4 |           1 | Petter Matteis Love Time Money visually stunning film watch Mr Mattei offers us vivid portrait human relations This movie seems telling us money power success people different situations encounter This variation Arthur Schnitzlers play theme director transfers action present time New York different characters meet connect Each one connected one way another next person one seems know previous point contact Stylishly film sophisticated luxurious look We taken see people live world live habitatThe thing one gets souls picture different stages loneliness one inhabits A big city exactly best place human relations find sincere fulfillment one discerns case people encounterThe acting good Mr Matteis direction Steve Buscemi Rosario Dawson Carol Kane Michael Imperioli Adrian Grenier rest talented cast make characters come aliveWe wish Mr Mattei good luck await anxiously next work                                                                                                                                                                                                                                                                                            |\n",
      "+----+-------------+----------------------------------------------------------------------------------------------------------------------------------------------------------------------------------------------------------------------------------------------------------------------------------------------------------------------------------------------------------------------------------------------------------------------------------------------------------------------------------------------------------------------------------------------------------------------------------------------------------------------------------------------------------------------------------------------------------------------------------------------------------------------------------------------------------------------------------------------------------------------------------------------------------------------------------------------------------------------------------------------------------------------------------------------------------------------------------------------------------------------------------------------------------------------------------------------------------------+\n"
     ]
    }
   ],
   "source": [
    "df['review'] = df['review'].apply(lambda x: remove_stop_words(x))\n",
    "my_pretty_table(df.head())"
   ]
  },
  {
   "cell_type": "markdown",
   "metadata": {},
   "source": [
    "### [4] 빈도수가 적은 단어 제거\n",
    "\n",
    "#### 단어 단위로 분리"
   ]
  },
  {
   "cell_type": "code",
   "execution_count": 122,
   "metadata": {},
   "outputs": [
    {
     "name": "stdout",
     "output_type": "stream",
     "text": [
      "+----+--------------------------------------------------------------------------------------------------------------------------------------------------------------------------------------------------------------------------------------------------------------------------------------------------------------------------------------------------------------------------------------------------------------------------------------------------------------------------------------------------------------------------------------------------------------------------------------------------------------------------------------------------------------------------------------------------------------------------------------------------------------------------------------------------------------------------------------------------------------------------------------------------------------------------------------------------------------------------------------------------------------------------------------------------------------------------------------------------------------------------------------------------------------------------------------------------------------------------------------------------------------------------------------------------------------------------------------------------------------------------------------------------------------------------------------------------------------------------------------------------------------------------------------------------------------------------------------------------------------------------------------------------------------------------------------------------------------------------------------------------------------+\n",
      "|    | tidy                                                                                                                                                                                                                                                                                                                                                                                                                                                                                                                                                                                                                                                                                                                                                                                                                                                                                                                                                                                                                                                                                                                                                                                                                                                                                                                                                                                                                                                                                                                                                                                                                                                                                                                                                         |\n",
      "|----+--------------------------------------------------------------------------------------------------------------------------------------------------------------------------------------------------------------------------------------------------------------------------------------------------------------------------------------------------------------------------------------------------------------------------------------------------------------------------------------------------------------------------------------------------------------------------------------------------------------------------------------------------------------------------------------------------------------------------------------------------------------------------------------------------------------------------------------------------------------------------------------------------------------------------------------------------------------------------------------------------------------------------------------------------------------------------------------------------------------------------------------------------------------------------------------------------------------------------------------------------------------------------------------------------------------------------------------------------------------------------------------------------------------------------------------------------------------------------------------------------------------------------------------------------------------------------------------------------------------------------------------------------------------------------------------------------------------------------------------------------------------|\n",
      "|  0 | ['One', 'reviewers', 'mentioned', 'watching', '1', 'Oz', 'episode', 'hooked', 'They', 'right', 'exactly', 'happened', 'meThe', 'first', 'thing', 'struck', 'Oz', 'brutality', 'unflinching', 'scenes', 'violence', 'set', 'right', 'word', 'GO', 'Trust', 'show', 'faint', 'hearted', 'timid', 'This', 'show', 'pulls', 'punches', 'regards', 'drugs', 'sex', 'violence', 'Its', 'hardcore', 'classic', 'use', 'wordIt', 'called', 'OZ', 'nickname', 'given', 'Oswald', 'Maximum', 'Security', 'State', 'Penitentary', 'It', 'focuses', 'mainly', 'Emerald', 'City', 'experimental', 'section', 'prison', 'cells', 'glass', 'fronts', 'face', 'inwards', 'privacy', 'high', 'agenda', 'Them', 'City', 'home', 'manyAryans', 'Muslims', 'gangstas', 'Latinos', 'Christians', 'Italians', 'Irish', 'moreso', 'scuffles', 'death', 'stares', 'dodgy', 'dealings', 'shady', 'agreements', 'never', 'far', 'awayI', 'would', 'say', 'main', 'appeal', 'show', 'due', 'fact', 'goes', 'shows', 'would', 'dare', 'Forget', 'pretty', 'pictures', 'painted', 'mainstream', 'audiences', 'forget', 'charm', 'forget', 'romanceOZ', 'mess', 'around', 'The', 'first', 'episode', 'I', 'ever', 'saw', 'struck', 'nasty', 'surreal', 'I', 'could', 'say', 'I', 'ready', 'I', 'watched', 'I', 'developed', 'taste', 'Oz', 'got', 'accustomed', 'high', 'levels', 'graphic', 'violence', 'Not', 'violence', 'injustice', 'crooked', 'guards', 'sold', 'nickel', 'inmates', 'kill', 'order', 'get', 'away', 'well', 'mannered', 'middle', 'class', 'inmates', 'turned', 'prison', 'bitches', 'due', 'lack', 'street', 'skills', 'prison', 'experience', 'Watching', 'Oz', 'may', 'become', 'comfortable', 'uncomfortable', 'viewingthat', 'get', 'touch', 'darker', 'side'] |\n",
      "|  1 | ['A', 'wonderful', 'little', 'production', 'The', 'filming', 'technique', 'unassuming', 'oldtimeBBC', 'fashion', 'gives', 'comforting', 'sometimes', 'discomforting', 'sense', 'realism', 'entire', 'piece', 'The', 'actors', 'extremely', 'well', 'chosen', 'Michael', 'Sheen', 'got', 'polari', 'voices', 'pat', 'You', 'truly', 'see', 'seamless', 'editing', 'guided', 'references', 'Williams', 'diary', 'entries', 'well', 'worth', 'watching', 'terrificly', 'written', 'performed', 'piece', 'A', 'masterful', 'production', 'one', 'great', 'masters', 'comedy', 'life', 'The', 'realism', 'really', 'comes', 'home', 'little', 'things', 'fantasy', 'guard', 'rather', 'use', 'traditional', 'dream', 'techniques', 'remains', 'solid', 'disappears', 'It', 'plays', 'knowledge', 'senses', 'particularly', 'scenes', 'concerning', 'Orton', 'Halliwell', 'sets', 'particularly', 'flat', 'Halliwells', 'murals', 'decorating', 'every', 'surface', 'terribly', 'well', 'done']                                                                                                                                                                                                                                                                                                                                                                                                                                                                                                                                                                                                                                                                                                                                                                    |\n",
      "|  2 | ['I', 'thought', 'wonderful', 'way', 'spend', 'time', 'hot', 'summer', 'weekend', 'sitting', 'air', 'conditioned', 'theater', 'watching', 'lighthearted', 'comedy', 'The', 'plot', 'simplistic', 'dialogue', 'witty', 'characters', 'likable', 'even', 'well', 'bread', 'suspected', 'serial', 'killer', 'While', 'may', 'disappointed', 'realize', 'Match', 'Point', '2', 'Risk', 'Addiction', 'I', 'thought', 'proof', 'Woody', 'Allen', 'still', 'fully', 'control', 'style', 'many', 'us', 'grown', 'loveThis', 'I', 'would', 'laughed', 'one', 'Woodys', 'comedies', 'years', 'dare', 'I', 'say', 'decade', 'While', 'I', 'never', 'impressed', 'Scarlet', 'Johanson', 'managed', 'tone', 'sexy', 'image', 'jumped', 'right', 'average', 'spirited', 'young', 'womanThis', 'may', 'crown', 'jewel', 'career', 'wittier', 'Devil', 'Wears', 'Prada', 'interesting', 'Superman', 'great', 'comedy', 'go', 'see', 'friends']                                                                                                                                                                                                                                                                                                                                                                                                                                                                                                                                                                                                                                                                                                                                                                                                                               |\n",
      "|  3 | ['Basically', 'family', 'little', 'boy', 'Jake', 'thinks', 'zombie', 'closet', 'parents', 'fighting', 'timeThis', 'movie', 'slower', 'soap', 'opera', 'suddenly', 'Jake', 'decides', 'become', 'Rambo', 'kill', 'zombieOK', 'first', 'going', 'make', 'film', 'must', 'Decide', 'thriller', 'drama', 'As', 'drama', 'movie', 'watchable', 'Parents', 'divorcing', 'arguing', 'like', 'real', 'life', 'And', 'Jake', 'closet', 'totally', 'ruins', 'film', 'I', 'expected', 'see', 'BOOGEYMAN', 'similar', 'movie', 'instead', 'watched', 'drama', 'meaningless', 'thriller', 'spots3', '10', 'well', 'playing', 'parents', 'descent', 'dialogs', 'As', 'shots', 'Jake', 'ignore']                                                                                                                                                                                                                                                                                                                                                                                                                                                                                                                                                                                                                                                                                                                                                                                                                                                                                                                                                                                                                                                                            |\n",
      "|  4 | ['Petter', 'Matteis', 'Love', 'Time', 'Money', 'visually', 'stunning', 'film', 'watch', 'Mr', 'Mattei', 'offers', 'us', 'vivid', 'portrait', 'human', 'relations', 'This', 'movie', 'seems', 'telling', 'us', 'money', 'power', 'success', 'people', 'different', 'situations', 'encounter', 'This', 'variation', 'Arthur', 'Schnitzlers', 'play', 'theme', 'director', 'transfers', 'action', 'present', 'time', 'New', 'York', 'different', 'characters', 'meet', 'connect', 'Each', 'one', 'connected', 'one', 'way', 'another', 'next', 'person', 'one', 'seems', 'know', 'previous', 'point', 'contact', 'Stylishly', 'film', 'sophisticated', 'luxurious', 'look', 'We', 'taken', 'see', 'people', 'live', 'world', 'live', 'habitatThe', 'thing', 'one', 'gets', 'souls', 'picture', 'different', 'stages', 'loneliness', 'one', 'inhabits', 'A', 'big', 'city', 'exactly', 'best', 'place', 'human', 'relations', 'find', 'sincere', 'fulfillment', 'one', 'discerns', 'case', 'people', 'encounterThe', 'acting', 'good', 'Mr', 'Matteis', 'direction', 'Steve', 'Buscemi', 'Rosario', 'Dawson', 'Carol', 'Kane', 'Michael', 'Imperioli', 'Adrian', 'Grenier', 'rest', 'talented', 'cast', 'make', 'characters', 'come', 'aliveWe', 'wish', 'Mr', 'Mattei', 'good', 'luck', 'await', 'anxiously', 'next', 'work']                                                                                                                                                                                                                                                                                                                                                                                                                                   |\n",
      "+----+--------------------------------------------------------------------------------------------------------------------------------------------------------------------------------------------------------------------------------------------------------------------------------------------------------------------------------------------------------------------------------------------------------------------------------------------------------------------------------------------------------------------------------------------------------------------------------------------------------------------------------------------------------------------------------------------------------------------------------------------------------------------------------------------------------------------------------------------------------------------------------------------------------------------------------------------------------------------------------------------------------------------------------------------------------------------------------------------------------------------------------------------------------------------------------------------------------------------------------------------------------------------------------------------------------------------------------------------------------------------------------------------------------------------------------------------------------------------------------------------------------------------------------------------------------------------------------------------------------------------------------------------------------------------------------------------------------------------------------------------------------------+\n"
     ]
    }
   ],
   "source": [
    "df['tidy'] = df['review'].apply(lambda x: x.split())\n",
    "my_pretty_table(df[['tidy']].head())"
   ]
  },
  {
   "cell_type": "markdown",
   "metadata": {},
   "source": [
    "#### Stemming \n",
    "\n",
    "단어들을 '원형'으로 표현하는 것"
   ]
  },
  {
   "cell_type": "code",
   "execution_count": 123,
   "metadata": {},
   "outputs": [
    {
     "name": "stdout",
     "output_type": "stream",
     "text": [
      "one\n",
      "review\n",
      "mention\n",
      "watch\n"
     ]
    }
   ],
   "source": [
    "sample = ['One', 'reviewers', 'mentioned', 'watching']\n",
    "\n",
    "stemmer = PorterStemmer()\n",
    "\n",
    "for i in sample:\n",
    "    print(stemmer.stem(i))"
   ]
  },
  {
   "cell_type": "markdown",
   "metadata": {},
   "source": [
    "#### DataFrame 내의 모든 단어를 원형으로 변환"
   ]
  },
  {
   "cell_type": "code",
   "execution_count": 124,
   "metadata": {},
   "outputs": [
    {
     "name": "stdout",
     "output_type": "stream",
     "text": [
      "+----+-----------------------------------------------------------------------------------------------------------------------------------------------------------------------------------------------------------------------------------------------------------------------------------------------------------------------------------------------------------------------------------------------------------------------------------------------------------------------------------------------------------------------------------------------------------------------------------------------------------------------------------------------------------------------------------------------------------------------------------------------------------------------------------------------------------------------------------------------------------------------------------------------------------------------------------------------------------------------------------------------------------------------------------------------------------------------------------------------------------------------------------------------------------------------------------------------------------------------------------------------------------------------------------------------------------------------------------------------------------------------------------------------------------------------------------------------------------------------------------------------------------------------------------------------------------------------------------------------------------------------------------------------+\n",
      "|    | tidy                                                                                                                                                                                                                                                                                                                                                                                                                                                                                                                                                                                                                                                                                                                                                                                                                                                                                                                                                                                                                                                                                                                                                                                                                                                                                                                                                                                                                                                                                                                                                                                                                                          |\n",
      "|----+-----------------------------------------------------------------------------------------------------------------------------------------------------------------------------------------------------------------------------------------------------------------------------------------------------------------------------------------------------------------------------------------------------------------------------------------------------------------------------------------------------------------------------------------------------------------------------------------------------------------------------------------------------------------------------------------------------------------------------------------------------------------------------------------------------------------------------------------------------------------------------------------------------------------------------------------------------------------------------------------------------------------------------------------------------------------------------------------------------------------------------------------------------------------------------------------------------------------------------------------------------------------------------------------------------------------------------------------------------------------------------------------------------------------------------------------------------------------------------------------------------------------------------------------------------------------------------------------------------------------------------------------------|\n",
      "|  0 | ['one', 'review', 'mention', 'watch', '1', 'oz', 'episod', 'hook', 'they', 'right', 'exactli', 'happen', 'meth', 'first', 'thing', 'struck', 'oz', 'brutal', 'unflinch', 'scene', 'violenc', 'set', 'right', 'word', 'go', 'trust', 'show', 'faint', 'heart', 'timid', 'thi', 'show', 'pull', 'punch', 'regard', 'drug', 'sex', 'violenc', 'it', 'hardcor', 'classic', 'use', 'wordit', 'call', 'oz', 'nicknam', 'given', 'oswald', 'maximum', 'secur', 'state', 'penitentari', 'it', 'focus', 'mainli', 'emerald', 'citi', 'experiment', 'section', 'prison', 'cell', 'glass', 'front', 'face', 'inward', 'privaci', 'high', 'agenda', 'them', 'citi', 'home', 'manyaryan', 'muslim', 'gangsta', 'latino', 'christian', 'italian', 'irish', 'moreso', 'scuffl', 'death', 'stare', 'dodgi', 'deal', 'shadi', 'agreement', 'never', 'far', 'awayi', 'would', 'say', 'main', 'appeal', 'show', 'due', 'fact', 'goe', 'show', 'would', 'dare', 'forget', 'pretti', 'pictur', 'paint', 'mainstream', 'audienc', 'forget', 'charm', 'forget', 'romanceoz', 'mess', 'around', 'the', 'first', 'episod', 'i', 'ever', 'saw', 'struck', 'nasti', 'surreal', 'i', 'could', 'say', 'i', 'readi', 'i', 'watch', 'i', 'develop', 'tast', 'oz', 'got', 'accustom', 'high', 'level', 'graphic', 'violenc', 'not', 'violenc', 'injustic', 'crook', 'guard', 'sold', 'nickel', 'inmat', 'kill', 'order', 'get', 'away', 'well', 'manner', 'middl', 'class', 'inmat', 'turn', 'prison', 'bitch', 'due', 'lack', 'street', 'skill', 'prison', 'experi', 'watch', 'oz', 'may', 'becom', 'comfort', 'uncomfort', 'viewingthat', 'get', 'touch', 'darker', 'side'] |\n",
      "|  1 | ['a', 'wonder', 'littl', 'product', 'the', 'film', 'techniqu', 'unassum', 'oldtimebbc', 'fashion', 'give', 'comfort', 'sometim', 'discomfort', 'sens', 'realism', 'entir', 'piec', 'the', 'actor', 'extrem', 'well', 'chosen', 'michael', 'sheen', 'got', 'polari', 'voic', 'pat', 'you', 'truli', 'see', 'seamless', 'edit', 'guid', 'refer', 'william', 'diari', 'entri', 'well', 'worth', 'watch', 'terrificli', 'written', 'perform', 'piec', 'a', 'master', 'product', 'one', 'great', 'master', 'comedi', 'life', 'the', 'realism', 'realli', 'come', 'home', 'littl', 'thing', 'fantasi', 'guard', 'rather', 'use', 'tradit', 'dream', 'techniqu', 'remain', 'solid', 'disappear', 'it', 'play', 'knowledg', 'sens', 'particularli', 'scene', 'concern', 'orton', 'halliwel', 'set', 'particularli', 'flat', 'halliwel', 'mural', 'decor', 'everi', 'surfac', 'terribl', 'well', 'done']                                                                                                                                                                                                                                                                                                                                                                                                                                                                                                                                                                                                                                                                                                                                               |\n",
      "|  2 | ['i', 'thought', 'wonder', 'way', 'spend', 'time', 'hot', 'summer', 'weekend', 'sit', 'air', 'condit', 'theater', 'watch', 'lightheart', 'comedi', 'the', 'plot', 'simplist', 'dialogu', 'witti', 'charact', 'likabl', 'even', 'well', 'bread', 'suspect', 'serial', 'killer', 'while', 'may', 'disappoint', 'realiz', 'match', 'point', '2', 'risk', 'addict', 'i', 'thought', 'proof', 'woodi', 'allen', 'still', 'fulli', 'control', 'style', 'mani', 'us', 'grown', 'lovethi', 'i', 'would', 'laugh', 'one', 'woodi', 'comedi', 'year', 'dare', 'i', 'say', 'decad', 'while', 'i', 'never', 'impress', 'scarlet', 'johanson', 'manag', 'tone', 'sexi', 'imag', 'jump', 'right', 'averag', 'spirit', 'young', 'womanthi', 'may', 'crown', 'jewel', 'career', 'wittier', 'devil', 'wear', 'prada', 'interest', 'superman', 'great', 'comedi', 'go', 'see', 'friend']                                                                                                                                                                                                                                                                                                                                                                                                                                                                                                                                                                                                                                                                                                                                                                        |\n",
      "|  3 | ['basic', 'famili', 'littl', 'boy', 'jake', 'think', 'zombi', 'closet', 'parent', 'fight', 'timethi', 'movi', 'slower', 'soap', 'opera', 'suddenli', 'jake', 'decid', 'becom', 'rambo', 'kill', 'zombieok', 'first', 'go', 'make', 'film', 'must', 'decid', 'thriller', 'drama', 'as', 'drama', 'movi', 'watchabl', 'parent', 'divorc', 'argu', 'like', 'real', 'life', 'and', 'jake', 'closet', 'total', 'ruin', 'film', 'i', 'expect', 'see', 'boogeyman', 'similar', 'movi', 'instead', 'watch', 'drama', 'meaningless', 'thriller', 'spots3', '10', 'well', 'play', 'parent', 'descent', 'dialog', 'as', 'shot', 'jake', 'ignor']                                                                                                                                                                                                                                                                                                                                                                                                                                                                                                                                                                                                                                                                                                                                                                                                                                                                                                                                                                                                         |\n",
      "|  4 | ['petter', 'mattei', 'love', 'time', 'money', 'visual', 'stun', 'film', 'watch', 'mr', 'mattei', 'offer', 'us', 'vivid', 'portrait', 'human', 'relat', 'thi', 'movi', 'seem', 'tell', 'us', 'money', 'power', 'success', 'peopl', 'differ', 'situat', 'encount', 'thi', 'variat', 'arthur', 'schnitzler', 'play', 'theme', 'director', 'transfer', 'action', 'present', 'time', 'new', 'york', 'differ', 'charact', 'meet', 'connect', 'each', 'one', 'connect', 'one', 'way', 'anoth', 'next', 'person', 'one', 'seem', 'know', 'previou', 'point', 'contact', 'stylishli', 'film', 'sophist', 'luxuri', 'look', 'we', 'taken', 'see', 'peopl', 'live', 'world', 'live', 'habitatth', 'thing', 'one', 'get', 'soul', 'pictur', 'differ', 'stage', 'loneli', 'one', 'inhabit', 'a', 'big', 'citi', 'exactli', 'best', 'place', 'human', 'relat', 'find', 'sincer', 'fulfil', 'one', 'discern', 'case', 'peopl', 'encounterth', 'act', 'good', 'mr', 'mattei', 'direct', 'steve', 'buscemi', 'rosario', 'dawson', 'carol', 'kane', 'michael', 'imperioli', 'adrian', 'grenier', 'rest', 'talent', 'cast', 'make', 'charact', 'come', 'alivew', 'wish', 'mr', 'mattei', 'good', 'luck', 'await', 'anxious', 'next', 'work']                                                                                                                                                                                                                                                                                                                                                                                                                     |\n",
      "+----+-----------------------------------------------------------------------------------------------------------------------------------------------------------------------------------------------------------------------------------------------------------------------------------------------------------------------------------------------------------------------------------------------------------------------------------------------------------------------------------------------------------------------------------------------------------------------------------------------------------------------------------------------------------------------------------------------------------------------------------------------------------------------------------------------------------------------------------------------------------------------------------------------------------------------------------------------------------------------------------------------------------------------------------------------------------------------------------------------------------------------------------------------------------------------------------------------------------------------------------------------------------------------------------------------------------------------------------------------------------------------------------------------------------------------------------------------------------------------------------------------------------------------------------------------------------------------------------------------------------------------------------------------+\n"
     ]
    }
   ],
   "source": [
    "df['tidy'] = df['tidy'].apply(lambda x: [stemmer.stem(i) for i in x])\n",
    "my_pretty_table(df[['tidy']].head())"
   ]
  },
  {
   "cell_type": "markdown",
   "metadata": {},
   "source": [
    "#### 모든 데이터를 하나의 리스트로 결합"
   ]
  },
  {
   "cell_type": "code",
   "execution_count": 125,
   "metadata": {},
   "outputs": [
    {
     "name": "stdout",
     "output_type": "stream",
     "text": [
      "전체 단어 수: 6392514\n",
      "['one', 'review', 'mention', 'watch', '1', 'oz', 'episod', 'hook', 'they', 'right', 'exactli', 'happen', 'meth', 'first', 'thing', 'struck', 'oz', 'brutal', 'unflinch', 'scene', 'violenc', 'set', 'right', 'word', 'go', 'trust', 'show', 'faint', 'heart', 'timid', 'thi', 'show', 'pull', 'punch', 'regard', 'drug', 'sex', 'violenc', 'it', 'hardcor', 'classic', 'use', 'wordit', 'call', 'oz', 'nicknam', 'given', 'oswald', 'maximum', 'secur', 'state', 'penitentari', 'it', 'focus', 'mainli', 'emerald', 'citi', 'experiment', 'section', 'prison', 'cell', 'glass', 'front', 'face', 'inward', 'privaci', 'high', 'agenda', 'them', 'citi', 'home', 'manyaryan', 'muslim', 'gangsta', 'latino', 'christian', 'italian', 'irish', 'moreso', 'scuffl', 'death', 'stare', 'dodgi', 'deal', 'shadi', 'agreement', 'never', 'far', 'awayi', 'would', 'say', 'main', 'appeal', 'show', 'due', 'fact', 'goe', 'show', 'would', 'dare']\n"
     ]
    }
   ],
   "source": [
    "all_words = []\n",
    "\n",
    "for word in df['tidy']:\n",
    "    all_words += word\n",
    "\n",
    "print(\"전체 단어 수:\", len(all_words))\n",
    "print(all_words[:100])"
   ]
  },
  {
   "cell_type": "code",
   "execution_count": 126,
   "metadata": {},
   "outputs": [
    {
     "data": {
      "text/plain": [
       "{'one': 52578,\n",
       " 'review': 4186,\n",
       " 'mention': 2977,\n",
       " 'watch': 27022,\n",
       " '1': 2287,\n",
       " 'oz': 258,\n",
       " 'episod': 4827,\n",
       " 'hook': 577,\n",
       " 'they': 6273,\n",
       " 'right': 6657,\n",
       " 'exactli': 1946,\n",
       " 'happen': 6920,\n",
       " 'meth': 104,\n",
       " 'first': 16819,\n",
       " 'thing': 16042,\n",
       " 'struck': 265,\n",
       " 'brutal': 915,\n",
       " 'unflinch': 31,\n",
       " 'scene': 20651,\n",
       " 'violenc': 1988,\n",
       " 'set': 7493,\n",
       " 'word': 3547,\n",
       " 'go': 18168,\n",
       " 'trust': 694,\n",
       " 'show': 19384,\n",
       " 'faint': 115,\n",
       " 'heart': 2614,\n",
       " 'timid': 50,\n",
       " 'thi': 25744,\n",
       " 'pull': 1841,\n",
       " 'punch': 527,\n",
       " 'regard': 926,\n",
       " 'drug': 1634,\n",
       " 'sex': 3228,\n",
       " 'it': 34481,\n",
       " 'hardcor': 251,\n",
       " 'classic': 4132,\n",
       " 'use': 10031,\n",
       " 'wordit': 2,\n",
       " 'call': 5411,\n",
       " 'nicknam': 83,\n",
       " 'given': 3497,\n",
       " 'oswald': 32,\n",
       " 'maximum': 100,\n",
       " 'secur': 480,\n",
       " 'state': 2025,\n",
       " 'penitentari': 2,\n",
       " 'focus': 909,\n",
       " 'mainli': 761,\n",
       " 'emerald': 14,\n",
       " 'citi': 2403,\n",
       " 'experiment': 206,\n",
       " 'section': 450,\n",
       " 'prison': 1368,\n",
       " 'cell': 449,\n",
       " 'glass': 487,\n",
       " 'front': 1218,\n",
       " 'face': 4133,\n",
       " 'inward': 13,\n",
       " 'privaci': 25,\n",
       " 'high': 3835,\n",
       " 'agenda': 176,\n",
       " 'them': 82,\n",
       " 'home': 3661,\n",
       " 'manyaryan': 1,\n",
       " 'muslim': 196,\n",
       " 'gangsta': 41,\n",
       " 'latino': 90,\n",
       " 'christian': 931,\n",
       " 'italian': 1129,\n",
       " 'irish': 380,\n",
       " 'moreso': 25,\n",
       " 'scuffl': 17,\n",
       " 'death': 4059,\n",
       " 'stare': 415,\n",
       " 'dodgi': 90,\n",
       " 'deal': 2549,\n",
       " 'shadi': 72,\n",
       " 'agreement': 77,\n",
       " 'never': 12828,\n",
       " 'far': 5718,\n",
       " 'awayi': 20,\n",
       " 'would': 30987,\n",
       " 'say': 14753,\n",
       " 'main': 4608,\n",
       " 'appeal': 1340,\n",
       " 'due': 1769,\n",
       " 'fact': 7243,\n",
       " 'goe': 4705,\n",
       " 'dare': 636,\n",
       " 'forget': 1588,\n",
       " 'pretti': 7156,\n",
       " 'pictur': 3663,\n",
       " 'paint': 961,\n",
       " 'mainstream': 374,\n",
       " 'audienc': 5043,\n",
       " 'charm': 1720,\n",
       " 'romanceoz': 1,\n",
       " 'mess': 1435,\n",
       " 'around': 6970,\n",
       " 'the': 78528,\n",
       " 'i': 154829,\n",
       " 'ever': 11623,\n",
       " 'saw': 6309,\n",
       " 'nasti': 696,\n",
       " 'surreal': 515,\n",
       " 'could': 18480,\n",
       " 'readi': 666,\n",
       " 'develop': 2858,\n",
       " 'tast': 1113,\n",
       " 'got': 7174,\n",
       " 'accustom': 58,\n",
       " 'level': 2198,\n",
       " 'graphic': 823,\n",
       " 'not': 5227,\n",
       " 'injustic': 107,\n",
       " 'crook': 251,\n",
       " 'guard': 512,\n",
       " 'sold': 303,\n",
       " 'nickel': 11,\n",
       " 'inmat': 140,\n",
       " 'kill': 7207,\n",
       " 'order': 2285,\n",
       " 'get': 27665,\n",
       " 'away': 5275,\n",
       " 'well': 18678,\n",
       " 'manner': 997,\n",
       " 'middl': 1567,\n",
       " 'class': 1649,\n",
       " 'turn': 7402,\n",
       " 'bitch': 156,\n",
       " 'lack': 3603,\n",
       " 'street': 1727,\n",
       " 'skill': 1030,\n",
       " 'experi': 2992,\n",
       " 'may': 6565,\n",
       " 'becom': 6230,\n",
       " 'comfort': 492,\n",
       " 'uncomfort': 297,\n",
       " 'viewingthat': 1,\n",
       " 'touch': 2371,\n",
       " 'darker': 206,\n",
       " 'side': 2746,\n",
       " 'a': 10768,\n",
       " 'wonder': 6987,\n",
       " 'littl': 12292,\n",
       " 'product': 4306,\n",
       " 'film': 91993,\n",
       " 'techniqu': 571,\n",
       " 'unassum': 23,\n",
       " 'oldtimebbc': 1,\n",
       " 'fashion': 897,\n",
       " 'give': 11323,\n",
       " 'sometim': 2392,\n",
       " 'discomfort': 44,\n",
       " 'sens': 4622,\n",
       " 'realism': 516,\n",
       " 'entir': 3877,\n",
       " 'piec': 3796,\n",
       " 'actor': 12985,\n",
       " 'extrem': 2892,\n",
       " 'chosen': 417,\n",
       " 'michael': 2486,\n",
       " 'sheen': 194,\n",
       " 'polari': 1,\n",
       " 'voic': 2561,\n",
       " 'pat': 279,\n",
       " 'you': 6940,\n",
       " 'truli': 3425,\n",
       " 'see': 27541,\n",
       " 'seamless': 37,\n",
       " 'edit': 2306,\n",
       " 'guid': 426,\n",
       " 'refer': 1419,\n",
       " 'william': 1694,\n",
       " 'diari': 120,\n",
       " 'entri': 412,\n",
       " 'worth': 4586,\n",
       " 'terrificli': 5,\n",
       " 'written': 2790,\n",
       " 'perform': 10415,\n",
       " 'master': 1520,\n",
       " 'great': 17929,\n",
       " 'comedi': 6907,\n",
       " 'life': 11776,\n",
       " 'realli': 22849,\n",
       " 'come': 12934,\n",
       " 'fantasi': 1171,\n",
       " 'rather': 5242,\n",
       " 'tradit': 881,\n",
       " 'dream': 1941,\n",
       " 'remain': 1739,\n",
       " 'solid': 952,\n",
       " 'disappear': 670,\n",
       " 'play': 16968,\n",
       " 'knowledg': 593,\n",
       " 'particularli': 2036,\n",
       " 'concern': 1145,\n",
       " 'orton': 20,\n",
       " 'halliwel': 11,\n",
       " 'flat': 1031,\n",
       " 'mural': 6,\n",
       " 'decor': 194,\n",
       " 'everi': 7873,\n",
       " 'surfac': 452,\n",
       " 'terribl': 3714,\n",
       " 'done': 5836,\n",
       " 'thought': 7276,\n",
       " 'way': 16615,\n",
       " 'spend': 1650,\n",
       " 'time': 29752,\n",
       " 'hot': 1312,\n",
       " 'summer': 722,\n",
       " 'weekend': 392,\n",
       " 'sit': 2466,\n",
       " 'air': 1593,\n",
       " 'condit': 489,\n",
       " 'theater': 1962,\n",
       " 'lightheart': 207,\n",
       " 'plot': 13031,\n",
       " 'simplist': 209,\n",
       " 'dialogu': 3187,\n",
       " 'witti': 530,\n",
       " 'charact': 27524,\n",
       " 'likabl': 718,\n",
       " 'even': 24724,\n",
       " 'bread': 107,\n",
       " 'suspect': 975,\n",
       " 'serial': 756,\n",
       " 'killer': 2904,\n",
       " 'while': 2267,\n",
       " 'disappoint': 3492,\n",
       " 'realiz': 2505,\n",
       " 'match': 1422,\n",
       " 'point': 7696,\n",
       " '2': 4145,\n",
       " 'risk': 423,\n",
       " 'addict': 501,\n",
       " 'proof': 306,\n",
       " 'woodi': 323,\n",
       " 'allen': 559,\n",
       " 'still': 10661,\n",
       " 'fulli': 758,\n",
       " 'control': 1275,\n",
       " 'style': 3058,\n",
       " 'mani': 13300,\n",
       " 'us': 9202,\n",
       " 'grown': 407,\n",
       " 'lovethi': 12,\n",
       " 'laugh': 5811,\n",
       " 'year': 12110,\n",
       " 'decad': 886,\n",
       " 'impress': 2790,\n",
       " 'scarlet': 74,\n",
       " 'johanson': 8,\n",
       " 'manag': 2972,\n",
       " 'tone': 1029,\n",
       " 'sexi': 876,\n",
       " 'imag': 1742,\n",
       " 'jump': 1196,\n",
       " 'averag': 1347,\n",
       " 'spirit': 1274,\n",
       " 'young': 6949,\n",
       " 'womanthi': 2,\n",
       " 'crown': 138,\n",
       " 'jewel': 216,\n",
       " 'career': 2052,\n",
       " 'wittier': 8,\n",
       " 'devil': 570,\n",
       " 'wear': 1311,\n",
       " 'prada': 13,\n",
       " 'interest': 9318,\n",
       " 'superman': 364,\n",
       " 'friend': 6357,\n",
       " 'basic': 2721,\n",
       " 'famili': 6124,\n",
       " 'boy': 4172,\n",
       " 'jake': 262,\n",
       " 'think': 17284,\n",
       " 'zombi': 1929,\n",
       " 'closet': 224,\n",
       " 'parent': 1806,\n",
       " 'fight': 3781,\n",
       " 'timethi': 37,\n",
       " 'movi': 98738,\n",
       " 'slower': 79,\n",
       " 'soap': 547,\n",
       " 'opera': 825,\n",
       " 'suddenli': 1002,\n",
       " 'decid': 3471,\n",
       " 'rambo': 124,\n",
       " 'zombieok': 1,\n",
       " 'make': 28523,\n",
       " 'must': 6261,\n",
       " 'thriller': 1763,\n",
       " 'drama': 2824,\n",
       " 'as': 5380,\n",
       " 'watchabl': 589,\n",
       " 'divorc': 311,\n",
       " 'argu': 426,\n",
       " 'like': 43763,\n",
       " 'real': 8994,\n",
       " 'and': 12736,\n",
       " 'total': 3984,\n",
       " 'ruin': 1042,\n",
       " 'expect': 5808,\n",
       " 'boogeyman': 48,\n",
       " 'similar': 1873,\n",
       " 'instead': 4128,\n",
       " 'meaningless': 229,\n",
       " 'spots3': 1,\n",
       " '10': 4193,\n",
       " 'descent': 173,\n",
       " 'dialog': 1886,\n",
       " 'shot': 5733,\n",
       " 'ignor': 1078,\n",
       " 'petter': 1,\n",
       " 'mattei': 50,\n",
       " 'love': 17595,\n",
       " 'money': 4338,\n",
       " 'visual': 2031,\n",
       " 'stun': 929,\n",
       " 'mr': 3203,\n",
       " 'offer': 2033,\n",
       " 'vivid': 198,\n",
       " 'portrait': 307,\n",
       " 'human': 4262,\n",
       " 'relat': 1369,\n",
       " 'seem': 14052,\n",
       " 'tell': 6084,\n",
       " 'power': 3617,\n",
       " 'success': 2497,\n",
       " 'peopl': 17990,\n",
       " 'differ': 5773,\n",
       " 'situat': 2332,\n",
       " 'encount': 766,\n",
       " 'variat': 153,\n",
       " 'arthur': 571,\n",
       " 'schnitzler': 3,\n",
       " 'theme': 2354,\n",
       " 'director': 9018,\n",
       " 'transfer': 328,\n",
       " 'action': 6579,\n",
       " 'present': 2783,\n",
       " 'new': 8068,\n",
       " 'york': 1388,\n",
       " 'meet': 3101,\n",
       " 'connect': 1266,\n",
       " 'each': 360,\n",
       " 'anoth': 8184,\n",
       " 'next': 3314,\n",
       " 'person': 6323,\n",
       " 'know': 14898,\n",
       " 'previou': 1277,\n",
       " 'contact': 399,\n",
       " 'stylishli': 26,\n",
       " 'sophist': 327,\n",
       " 'luxuri': 120,\n",
       " 'look': 19174,\n",
       " 'we': 3886,\n",
       " 'taken': 2001,\n",
       " 'live': 8291,\n",
       " 'world': 7264,\n",
       " 'habitatth': 1,\n",
       " 'soul': 1085,\n",
       " 'stage': 1626,\n",
       " 'loneli': 165,\n",
       " 'inhabit': 332,\n",
       " 'big': 6661,\n",
       " 'best': 12287,\n",
       " 'place': 5717,\n",
       " 'find': 10693,\n",
       " 'sincer': 389,\n",
       " 'fulfil': 301,\n",
       " 'discern': 132,\n",
       " 'case': 3201,\n",
       " 'encounterth': 2,\n",
       " 'act': 16698,\n",
       " 'good': 28864,\n",
       " 'direct': 6960,\n",
       " 'steve': 811,\n",
       " 'buscemi': 45,\n",
       " 'rosario': 67,\n",
       " 'dawson': 156,\n",
       " 'carol': 311,\n",
       " 'kane': 335,\n",
       " 'imperioli': 22,\n",
       " 'adrian': 96,\n",
       " 'grenier': 7,\n",
       " 'rest': 3518,\n",
       " 'talent': 3427,\n",
       " 'cast': 8431,\n",
       " 'alivew': 1,\n",
       " 'wish': 2540,\n",
       " 'luck': 469,\n",
       " 'await': 198,\n",
       " 'anxious': 25,\n",
       " 'work': 13129,\n",
       " 'probabl': 5596,\n",
       " 'alltim': 224,\n",
       " 'favorit': 2711,\n",
       " 'stori': 24183,\n",
       " 'selfless': 33,\n",
       " 'sacrific': 276,\n",
       " 'dedic': 330,\n",
       " 'nobl': 252,\n",
       " 'preachi': 139,\n",
       " 'bore': 4841,\n",
       " 'old': 7985,\n",
       " 'despit': 2482,\n",
       " 'seen': 13045,\n",
       " '15': 939,\n",
       " 'last': 6011,\n",
       " '25': 370,\n",
       " 'paul': 1404,\n",
       " 'luka': 63,\n",
       " 'bring': 3283,\n",
       " 'tear': 886,\n",
       " 'eye': 3690,\n",
       " 'bett': 208,\n",
       " 'davi': 716,\n",
       " 'sympathet': 461,\n",
       " 'role': 8032,\n",
       " 'delight': 1023,\n",
       " 'kid': 6039,\n",
       " 'grandma': 111,\n",
       " 'dressedup': 1,\n",
       " 'midget': 90,\n",
       " 'children': 2983,\n",
       " 'fun': 5123,\n",
       " 'mother': 3124,\n",
       " 'slow': 2048,\n",
       " 'awaken': 198,\n",
       " 'roof': 164,\n",
       " 'believ': 7607,\n",
       " 'startl': 161,\n",
       " 'if': 9246,\n",
       " 'dozen': 546,\n",
       " 'thumb': 307,\n",
       " 'sure': 5866,\n",
       " 'resurrect': 180,\n",
       " 'date': 1589,\n",
       " 'seahunt': 2,\n",
       " 'seri': 6103,\n",
       " 'tech': 86,\n",
       " 'today': 2438,\n",
       " 'back': 9404,\n",
       " 'excit': 1796,\n",
       " 'mei': 99,\n",
       " 'grew': 467,\n",
       " 'black': 4070,\n",
       " 'white': 2661,\n",
       " 'tv': 5413,\n",
       " 'gunsmok': 20,\n",
       " 'hero': 2525,\n",
       " 'weekyou': 1,\n",
       " 'vote': 787,\n",
       " 'comeback': 127,\n",
       " 'sea': 662,\n",
       " 'huntw': 1,\n",
       " 'need': 6526,\n",
       " 'chang': 3935,\n",
       " 'pace': 2021,\n",
       " 'water': 1444,\n",
       " 'adventureoh': 1,\n",
       " 'thank': 2055,\n",
       " 'outlet': 48,\n",
       " 'view': 4166,\n",
       " 'viewpoint': 136,\n",
       " 'moviesso': 9,\n",
       " 'ole': 39,\n",
       " 'want': 13392,\n",
       " 'saywould': 1,\n",
       " 'nice': 4292,\n",
       " 'read': 5193,\n",
       " 'plu': 1217,\n",
       " 'huntif': 1,\n",
       " 'rhyme': 118,\n",
       " 'line': 6365,\n",
       " 'let': 5425,\n",
       " 'submitor': 1,\n",
       " 'leav': 4362,\n",
       " 'doubt': 1729,\n",
       " 'quitif': 1,\n",
       " 'amaz': 2909,\n",
       " 'fresh': 766,\n",
       " 'innov': 297,\n",
       " 'idea': 5075,\n",
       " '70': 1303,\n",
       " '7': 859,\n",
       " '8': 856,\n",
       " 'brilliant': 2290,\n",
       " 'drop': 948,\n",
       " 'by': 1226,\n",
       " '1990': 308,\n",
       " 'funni': 8302,\n",
       " 'anymor': 634,\n",
       " 'continu': 2224,\n",
       " 'declin': 179,\n",
       " 'complet': 6039,\n",
       " 'wast': 4302,\n",
       " 'todayit': 3,\n",
       " 'disgrac': 189,\n",
       " 'fallen': 303,\n",
       " 'write': 3936,\n",
       " 'pain': 2071,\n",
       " 'bad': 17689,\n",
       " 'almost': 6141,\n",
       " 'mildli': 356,\n",
       " 'entertain': 5284,\n",
       " 'respit': 25,\n",
       " 'guesthost': 1,\n",
       " 'hard': 4736,\n",
       " 'creator': 401,\n",
       " 'handselect': 1,\n",
       " 'origin': 7436,\n",
       " 'also': 17462,\n",
       " 'chose': 388,\n",
       " 'band': 1164,\n",
       " 'hack': 298,\n",
       " 'follow': 4296,\n",
       " 'how': 2301,\n",
       " 'recogn': 690,\n",
       " 'brillianc': 235,\n",
       " 'fit': 1713,\n",
       " 'replac': 674,\n",
       " 'mediocr': 772,\n",
       " 'felt': 2848,\n",
       " 'star': 7623,\n",
       " 'respect': 1687,\n",
       " 'made': 15392,\n",
       " 'huge': 2029,\n",
       " 'aw': 3432,\n",
       " 'cannot': 9524,\n",
       " 'encourag': 362,\n",
       " 'posit': 1631,\n",
       " 'comment': 3244,\n",
       " 'forward': 1253,\n",
       " 'mistak': 1105,\n",
       " '950': 6,\n",
       " 'worst': 5222,\n",
       " 'storylin': 1590,\n",
       " 'soundtrack': 1643,\n",
       " 'song': 3576,\n",
       " 'lame': 1346,\n",
       " 'countri': 2076,\n",
       " 'tune': 643,\n",
       " 'less': 3525,\n",
       " 'four': 1717,\n",
       " 'cheap': 1752,\n",
       " 'rare': 1416,\n",
       " 'happi': 2028,\n",
       " 'end': 18102,\n",
       " 'credit': 2465,\n",
       " 'prevent': 400,\n",
       " '1score': 1,\n",
       " 'harvey': 184,\n",
       " 'keitel': 64,\n",
       " 'least': 6031,\n",
       " 'bit': 6471,\n",
       " 'effort': 2003,\n",
       " 'obsess': 842,\n",
       " 'gut': 384,\n",
       " 'wrench': 92,\n",
       " 'laughter': 441,\n",
       " 'hell': 1969,\n",
       " 'mom': 733,\n",
       " 'itgreat': 4,\n",
       " 'camp': 1069,\n",
       " 'phil': 185,\n",
       " 'alien': 1597,\n",
       " 'quirki': 379,\n",
       " 'humour': 930,\n",
       " 'base': 3069,\n",
       " 'odd': 1292,\n",
       " 'everyth': 4622,\n",
       " 'actual': 9883,\n",
       " 'punchlinesat': 1,\n",
       " 'progress': 656,\n",
       " 'joke': 3117,\n",
       " 'anymoreit': 4,\n",
       " 'low': 2704,\n",
       " 'budget': 3195,\n",
       " 'problem': 4440,\n",
       " 'eventu': 1492,\n",
       " 'lost': 2838,\n",
       " 'interesti': 5,\n",
       " 'imagin': 2841,\n",
       " 'stoner': 84,\n",
       " 'current': 781,\n",
       " 'partakingfor': 1,\n",
       " 'someth': 9819,\n",
       " 'better': 11051,\n",
       " 'tri': 12338,\n",
       " 'brother': 2916,\n",
       " 'planet': 897,\n",
       " '12': 940,\n",
       " 'came': 3293,\n",
       " 'recal': 592,\n",
       " 'scariest': 112,\n",
       " 'bird': 426,\n",
       " 'eat': 1135,\n",
       " 'men': 3639,\n",
       " 'dangl': 53,\n",
       " 'helplessli': 23,\n",
       " 'parachut': 25,\n",
       " 'horror': 6893,\n",
       " 'horrora': 4,\n",
       " 'cheesi': 1327,\n",
       " 'b': 1184,\n",
       " 'saturday': 407,\n",
       " 'afternoon': 340,\n",
       " 'tire': 931,\n",
       " 'formula': 656,\n",
       " 'monster': 2087,\n",
       " 'type': 2550,\n",
       " 'usual': 3732,\n",
       " 'includ': 3862,\n",
       " 'beauti': 6255,\n",
       " 'woman': 5244,\n",
       " 'might': 5770,\n",
       " 'daughter': 2430,\n",
       " 'professor': 440,\n",
       " 'resolut': 263,\n",
       " 'die': 3792,\n",
       " 'care': 4064,\n",
       " 'much': 18870,\n",
       " 'romant': 1638,\n",
       " 'angl': 738,\n",
       " 'predict': 2056,\n",
       " 'unintent': 451,\n",
       " 'humorbut': 4,\n",
       " 'later': 4069,\n",
       " 'psycho': 422,\n",
       " 'janet': 113,\n",
       " 'leigh': 174,\n",
       " 'bump': 180,\n",
       " 'earli': 3024,\n",
       " 'sat': 590,\n",
       " 'took': 2221,\n",
       " 'notic': 1601,\n",
       " 'sinc': 5557,\n",
       " 'screenwrit': 444,\n",
       " 'scari': 1753,\n",
       " 'possibl': 3592,\n",
       " 'wellworn': 21,\n",
       " 'there': 10380,\n",
       " 'rule': 918,\n",
       " 'so': 4554,\n",
       " 'fan': 6485,\n",
       " 'boll': 208,\n",
       " 'enjoy': 8278,\n",
       " 'postal': 26,\n",
       " 'mayb': 4448,\n",
       " 'appar': 2317,\n",
       " 'bought': 910,\n",
       " 'cri': 1454,\n",
       " 'long': 6467,\n",
       " 'ago': 1931,\n",
       " 'game': 3291,\n",
       " 'finsish': 1,\n",
       " 'merc': 4,\n",
       " 'infiltr': 70,\n",
       " 'secret': 1361,\n",
       " 'research': 582,\n",
       " 'lab': 238,\n",
       " 'locat': 1515,\n",
       " 'tropic': 72,\n",
       " 'island': 1346,\n",
       " 'warn': 1309,\n",
       " 'scheme': 344,\n",
       " 'togeth': 4260,\n",
       " 'along': 3626,\n",
       " 'legion': 80,\n",
       " 'schmuck': 18,\n",
       " 'feel': 10086,\n",
       " 'loneley': 1,\n",
       " 'invit': 469,\n",
       " 'three': 4399,\n",
       " 'countrymen': 11,\n",
       " 'these': 1275,\n",
       " 'player': 1072,\n",
       " 'name': 5644,\n",
       " 'til': 73,\n",
       " 'schweiger': 16,\n",
       " 'udo': 34,\n",
       " 'kier': 27,\n",
       " 'ralf': 10,\n",
       " 'moellerthre': 1,\n",
       " 'self': 791,\n",
       " 'biz': 31,\n",
       " 'tale': 1777,\n",
       " 'jack': 1761,\n",
       " 'carver': 26,\n",
       " 'ye': 2714,\n",
       " 'german': 1368,\n",
       " 'hail': 122,\n",
       " 'bratwurst': 3,\n",
       " 'dude': 435,\n",
       " 'howev': 6402,\n",
       " 'badass': 70,\n",
       " 'complain': 534,\n",
       " 'stay': 2410,\n",
       " 'true': 4335,\n",
       " 'whole': 6061,\n",
       " 'perspect': 529,\n",
       " 'kick': 1077,\n",
       " 'beyond': 1805,\n",
       " 'dement': 141,\n",
       " 'evil': 2646,\n",
       " 'mad': 1279,\n",
       " 'scientist': 940,\n",
       " 'dr': 1440,\n",
       " 'krieger': 2,\n",
       " 'geneticallymutatedsoldi': 1,\n",
       " 'gm': 17,\n",
       " 'topsecret': 13,\n",
       " 'remind': 1776,\n",
       " 'spoiler': 1406,\n",
       " 'vancouv': 41,\n",
       " 'reason': 6098,\n",
       " 'that': 5266,\n",
       " 'is': 2375,\n",
       " 'palm': 109,\n",
       " 'tree': 519,\n",
       " 'rich': 1234,\n",
       " 'lumberjackwood': 1,\n",
       " 'gone': 1495,\n",
       " 'start': 7992,\n",
       " 'meheh': 1,\n",
       " 'shenanigan': 63,\n",
       " 'deliv': 2019,\n",
       " 'mean': 5624,\n",
       " 'suckther': 2,\n",
       " 'impli': 285,\n",
       " 'area': 888,\n",
       " 'boat': 618,\n",
       " 'until': 168,\n",
       " 'cromedalbino': 1,\n",
       " 'squad': 198,\n",
       " 'enter': 894,\n",
       " 'reek': 93,\n",
       " 'scheiss': 1,\n",
       " 'poop': 56,\n",
       " 'simpleton': 27,\n",
       " 'take': 12844,\n",
       " 'wiff': 2,\n",
       " 'ahead': 693,\n",
       " 'annoy': 2320,\n",
       " 'sidekick': 259,\n",
       " 'shoot': 2053,\n",
       " 'minut': 6966,\n",
       " 'screen': 4998,\n",
       " 'shakespeareshakespear': 1,\n",
       " 'losti': 7,\n",
       " 'appreci': 1601,\n",
       " 'shakespear': 594,\n",
       " 'mass': 432,\n",
       " 'goodi': 119,\n",
       " 'scottish': 165,\n",
       " 'what': 5722,\n",
       " 'certain': 1564,\n",
       " 'rev': 23,\n",
       " 'bowdler': 6,\n",
       " 'henc': 314,\n",
       " 'victorian': 121,\n",
       " 'erain': 2,\n",
       " 'improv': 705,\n",
       " 'perfectioni': 1,\n",
       " 'ten': 1621,\n",
       " 'text': 310,\n",
       " 'english': 1890,\n",
       " 'composit': 188,\n",
       " 'fort': 131,\n",
       " 'keep': 5005,\n",
       " 'cut': 2730,\n",
       " 'fantast': 1568,\n",
       " 'famou': 1451,\n",
       " 'georg': 1696,\n",
       " 'clooney': 131,\n",
       " 'roll': 1136,\n",
       " 'man': 11015,\n",
       " 'constant': 548,\n",
       " 'sorrow': 111,\n",
       " 'recommand': 3,\n",
       " 'everybodi': 845,\n",
       " 'greet': 129,\n",
       " 'bart': 84,\n",
       " 'kind': 6368,\n",
       " 'drawn': 666,\n",
       " 'erot': 355,\n",
       " 'amateurish': 419,\n",
       " 'unbeliev': 1011,\n",
       " 'sort': 3278,\n",
       " 'school': 3411,\n",
       " 'project': 1324,\n",
       " 'rosanna': 34,\n",
       " 'arquett': 100,\n",
       " 'stock': 603,\n",
       " 'bizarr': 1021,\n",
       " 'suppos': 3668,\n",
       " 'midwest': 28,\n",
       " 'town': 2450,\n",
       " 'involv': 3874,\n",
       " 'no': 3339,\n",
       " 'lesson': 772,\n",
       " 'learn': 2690,\n",
       " 'insight': 613,\n",
       " 'stilt': 186,\n",
       " 'quit': 7423,\n",
       " 'ridicul': 2207,\n",
       " 'lot': 9573,\n",
       " 'skin': 451,\n",
       " 'intrigu': 1049,\n",
       " 'videotap': 104,\n",
       " 'nonsensewhat': 1,\n",
       " 'bisexu': 59,\n",
       " 'relationship': 2576,\n",
       " 'nowher': 844,\n",
       " 'heterosexu': 66,\n",
       " 'absurd': 686,\n",
       " 'danc': 2521,\n",
       " 'stereotyp': 1266,\n",
       " 'pass': 1763,\n",
       " 'million': 999,\n",
       " 'mile': 707,\n",
       " 'spent': 1170,\n",
       " 'starv': 97,\n",
       " 'aid': 476,\n",
       " 'africa': 366,\n",
       " 'some': 2221,\n",
       " 'simpli': 3813,\n",
       " 'remad': 141,\n",
       " 'in': 10365,\n",
       " 'but': 12827,\n",
       " 'fail': 2800,\n",
       " 'captur': 1670,\n",
       " 'flavor': 121,\n",
       " 'terror': 656,\n",
       " '1963': 68,\n",
       " 'titl': 3288,\n",
       " 'liam': 68,\n",
       " 'neeson': 45,\n",
       " 'excel': 4320,\n",
       " 'alway': 6262,\n",
       " 'hold': 2057,\n",
       " 'except': 3464,\n",
       " 'owen': 257,\n",
       " 'wilson': 414,\n",
       " 'luke': 346,\n",
       " 'major': 2324,\n",
       " 'fault': 644,\n",
       " 'version': 4402,\n",
       " 'stray': 113,\n",
       " 'shirley': 196,\n",
       " 'jackson': 665,\n",
       " 'attempt': 3789,\n",
       " 'grandios': 43,\n",
       " 'thrill': 825,\n",
       " 'earlier': 1211,\n",
       " 'trade': 313,\n",
       " 'snazzier': 1,\n",
       " 'special': 4357,\n",
       " 'effect': 6935,\n",
       " 'again': 451,\n",
       " 'friction': 27,\n",
       " 'older': 1211,\n",
       " 'top': 3225,\n",
       " 'horribl': 2897,\n",
       " 'chanc': 2281,\n",
       " 'busi': 1461,\n",
       " 'run': 5034,\n",
       " 'sword': 362,\n",
       " 'emot': 3413,\n",
       " 'attach': 342,\n",
       " 'machin': 875,\n",
       " 'destroy': 1136,\n",
       " 'blatantli': 124,\n",
       " 'stolen': 365,\n",
       " 'lotr': 39,\n",
       " 'war': 4644,\n",
       " 'matrix': 293,\n",
       " 'examplesth': 2,\n",
       " 'ghost': 1092,\n",
       " 'final': 5870,\n",
       " 'yoda': 37,\n",
       " 'obe': 2,\n",
       " 'vader': 81,\n",
       " 'spider': 148,\n",
       " 'begin': 5474,\n",
       " 'frodo': 31,\n",
       " 'attack': 1587,\n",
       " 'return': 2263,\n",
       " 'king': 1741,\n",
       " 'elijah': 71,\n",
       " 'wood': 1315,\n",
       " 'victim': 1527,\n",
       " 'waitit': 4,\n",
       " 'hypnot': 155,\n",
       " 'sting': 76,\n",
       " 'wrap': 409,\n",
       " 'upuh': 1,\n",
       " 'helloand': 1,\n",
       " 'vs': 682,\n",
       " 'wa': 703,\n",
       " 'matrixor': 1,\n",
       " 'terminatorther': 1,\n",
       " 'exampl': 2937,\n",
       " 'someon': 4575,\n",
       " 'nazi': 562,\n",
       " 'juvenil': 225,\n",
       " 'rush': 642,\n",
       " 'conclus': 910,\n",
       " 'adult': 1561,\n",
       " 'either': 3425,\n",
       " 'just': 2051,\n",
       " 'save': 3357,\n",
       " 'rememb': 3949,\n",
       " 'filmit': 114,\n",
       " 'cinema': 2834,\n",
       " 'dark': 3083,\n",
       " 'nervou': 180,\n",
       " '7475': 1,\n",
       " 'dad': 890,\n",
       " 'sister': 1974,\n",
       " 'newburi': 2,\n",
       " 'berkshir': 2,\n",
       " 'england': 520,\n",
       " 'tiger': 182,\n",
       " 'snow': 301,\n",
       " 'appear': 4928,\n",
       " 'grizzli': 27,\n",
       " 'adam': 706,\n",
       " 'dan': 497,\n",
       " 'haggeri': 1,\n",
       " 'anyon': 5254,\n",
       " 'dvd': 4824,\n",
       " 'etc': 2067,\n",
       " 'pleas': 2201,\n",
       " 'knowth': 18,\n",
       " 'club': 872,\n",
       " 'shame': 1423,\n",
       " 'nearest': 84,\n",
       " '20': 1318,\n",
       " 'hear': 1979,\n",
       " 'other': 3845,\n",
       " 'an': 1363,\n",
       " 'stinker': 232,\n",
       " 'nomin': 734,\n",
       " 'golden': 551,\n",
       " 'globe': 136,\n",
       " 'femal': 1981,\n",
       " 'renaiss': 86,\n",
       " 'painter': 137,\n",
       " 'mangl': 41,\n",
       " 'recognit': 210,\n",
       " 'my': 3537,\n",
       " 'complaint': 372,\n",
       " 'liberti': 178,\n",
       " 'perfectli': 1241,\n",
       " 'fine': 2545,\n",
       " 'account': 586,\n",
       " 'artist': 1623,\n",
       " 'dishwaterdul': 1,\n",
       " 'script': 6268,\n",
       " 'enough': 6731,\n",
       " 'nake': 828,\n",
       " 'factual': 109,\n",
       " 'hurriedli': 14,\n",
       " 'cap': 122,\n",
       " 'summari': 359,\n",
       " 'coupl': 3761,\n",
       " 'hour': 3955,\n",
       " 'favor': 629,\n",
       " 'breviti': 22,\n",
       " 'after': 2795,\n",
       " 'sequel': 1952,\n",
       " 'surpris': 3898,\n",
       " 'glut': 11,\n",
       " 'cash': 473,\n",
       " 'wrong': 3450,\n",
       " 'guy': 8916,\n",
       " 'concept': 1168,\n",
       " 'cliffhang': 89,\n",
       " 'mountain': 592,\n",
       " 'rescu': 680,\n",
       " 'sli': 99,\n",
       " 'stop': 2828,\n",
       " 'will': 1480,\n",
       " 'stallon': 126,\n",
       " 'careercliffhang': 1,\n",
       " 'nitpick': 56,\n",
       " 'especi': 4799,\n",
       " 'expert': 373,\n",
       " 'climb': 254,\n",
       " 'basejump': 1,\n",
       " 'aviat': 40,\n",
       " 'facial': 347,\n",
       " 'express': 1409,\n",
       " 'all': 3556,\n",
       " ...}"
      ]
     },
     "execution_count": 126,
     "metadata": {},
     "output_type": "execute_result"
    }
   ],
   "source": [
    "count = Counter(all_words)\n",
    "count_dic = dict(count)\n",
    "count_dic"
   ]
  },
  {
   "cell_type": "code",
   "execution_count": 127,
   "metadata": {},
   "outputs": [
    {
     "name": "stdout",
     "output_type": "stream",
     "text": [
      "+--------+-----------------+---------+\n",
      "|        | word            |   count |\n",
      "|--------+-----------------+---------|\n",
      "|  91687 | chowish         |       1 |\n",
      "| 120970 | 짢town          |       1 |\n",
      "| 120971 | tamer짢         |       1 |\n",
      "| 120972 | clit            |       1 |\n",
      "| 120973 | tollingerrobert |       1 |\n",
      "+--------+-----------------+---------+\n"
     ]
    }
   ],
   "source": [
    "keys = count_dic.keys()\n",
    "values = count_dic.values()\n",
    "count_df = DataFrame({\n",
    "    \"word\": keys,\n",
    "    \"count\": values\n",
    "}).sort_values('count')\n",
    "\n",
    "my_pretty_table(count_df.head())"
   ]
  },
  {
   "cell_type": "code",
   "execution_count": 128,
   "metadata": {},
   "outputs": [
    {
     "data": {
      "text/plain": [
       "('전체 단어 수:', 183376)"
      ]
     },
     "execution_count": 128,
     "metadata": {},
     "output_type": "execute_result"
    }
   ],
   "source": [
    "'전체 단어 수:', len(count_df)"
   ]
  },
  {
   "cell_type": "code",
   "execution_count": 129,
   "metadata": {},
   "outputs": [
    {
     "data": {
      "text/plain": [
       "5520"
      ]
     },
     "execution_count": 129,
     "metadata": {},
     "output_type": "execute_result"
    }
   ],
   "source": [
    "pop_word = list(count_df[count_df['count'] > 100]['word'])\n",
    "len(pop_word)"
   ]
  },
  {
   "cell_type": "code",
   "execution_count": 130,
   "metadata": {},
   "outputs": [
    {
     "name": "stdout",
     "output_type": "stream",
     "text": [
      "+----+-------------------------------------------------------------------------------------------------------------------------------------------------------------------------------------------------------------------------------------------------------------------------------------------------------------------------------------------------------------------------------------------------------------------------------------------------------------------------------------------------------------------------------------------------------------------------------------------------------------------------------------------------------------------------------------------------------------------------------------------------------------------------------------------------------------------------------------------------------------------------------------------------------------------------------------------------------------------------------------------------------------------------------------------------------------------------------------------------------------------------------------------------------------------------------------------------------------------------------------------------------------------------------------------------------------------------------------------------------------------------+\n",
      "|    | tidy                                                                                                                                                                                                                                                                                                                                                                                                                                                                                                                                                                                                                                                                                                                                                                                                                                                                                                                                                                                                                                                                                                                                                                                                                                                                                                                                                                    |\n",
      "|----+-------------------------------------------------------------------------------------------------------------------------------------------------------------------------------------------------------------------------------------------------------------------------------------------------------------------------------------------------------------------------------------------------------------------------------------------------------------------------------------------------------------------------------------------------------------------------------------------------------------------------------------------------------------------------------------------------------------------------------------------------------------------------------------------------------------------------------------------------------------------------------------------------------------------------------------------------------------------------------------------------------------------------------------------------------------------------------------------------------------------------------------------------------------------------------------------------------------------------------------------------------------------------------------------------------------------------------------------------------------------------|\n",
      "|  0 | ['one', 'review', 'mention', 'watch', '1', 'oz', 'episod', 'hook', 'they', 'right', 'exactli', 'happen', 'meth', 'first', 'thing', 'struck', 'oz', 'brutal', 'scene', 'violenc', 'set', 'right', 'word', 'go', 'trust', 'show', 'faint', 'heart', 'thi', 'show', 'pull', 'punch', 'regard', 'drug', 'sex', 'violenc', 'it', 'hardcor', 'classic', 'use', 'call', 'oz', 'given', 'secur', 'state', 'it', 'focus', 'mainli', 'citi', 'experiment', 'section', 'prison', 'cell', 'glass', 'front', 'face', 'high', 'agenda', 'citi', 'home', 'muslim', 'christian', 'italian', 'irish', 'death', 'stare', 'deal', 'never', 'far', 'would', 'say', 'main', 'appeal', 'show', 'due', 'fact', 'goe', 'show', 'would', 'dare', 'forget', 'pretti', 'pictur', 'paint', 'mainstream', 'audienc', 'forget', 'charm', 'forget', 'mess', 'around', 'the', 'first', 'episod', 'i', 'ever', 'saw', 'struck', 'nasti', 'surreal', 'i', 'could', 'say', 'i', 'readi', 'i', 'watch', 'i', 'develop', 'tast', 'oz', 'got', 'high', 'level', 'graphic', 'violenc', 'not', 'violenc', 'injustic', 'crook', 'guard', 'sold', 'inmat', 'kill', 'order', 'get', 'away', 'well', 'manner', 'middl', 'class', 'inmat', 'turn', 'prison', 'bitch', 'due', 'lack', 'street', 'skill', 'prison', 'experi', 'watch', 'oz', 'may', 'becom', 'comfort', 'uncomfort', 'get', 'touch', 'darker', 'side'] |\n",
      "|  1 | ['a', 'wonder', 'littl', 'product', 'the', 'film', 'techniqu', 'fashion', 'give', 'comfort', 'sometim', 'sens', 'realism', 'entir', 'piec', 'the', 'actor', 'extrem', 'well', 'chosen', 'michael', 'sheen', 'got', 'voic', 'pat', 'you', 'truli', 'see', 'edit', 'guid', 'refer', 'william', 'diari', 'entri', 'well', 'worth', 'watch', 'written', 'perform', 'piec', 'a', 'master', 'product', 'one', 'great', 'master', 'comedi', 'life', 'the', 'realism', 'realli', 'come', 'home', 'littl', 'thing', 'fantasi', 'guard', 'rather', 'use', 'tradit', 'dream', 'techniqu', 'remain', 'solid', 'disappear', 'it', 'play', 'knowledg', 'sens', 'particularli', 'scene', 'concern', 'set', 'particularli', 'flat', 'decor', 'everi', 'surfac', 'terribl', 'well', 'done']                                                                                                                                                                                                                                                                                                                                                                                                                                                                                                                                                                                              |\n",
      "|  2 | ['i', 'thought', 'wonder', 'way', 'spend', 'time', 'hot', 'summer', 'weekend', 'sit', 'air', 'condit', 'theater', 'watch', 'lightheart', 'comedi', 'the', 'plot', 'simplist', 'dialogu', 'witti', 'charact', 'likabl', 'even', 'well', 'bread', 'suspect', 'serial', 'killer', 'while', 'may', 'disappoint', 'realiz', 'match', 'point', '2', 'risk', 'addict', 'i', 'thought', 'proof', 'woodi', 'allen', 'still', 'fulli', 'control', 'style', 'mani', 'us', 'grown', 'i', 'would', 'laugh', 'one', 'woodi', 'comedi', 'year', 'dare', 'i', 'say', 'decad', 'while', 'i', 'never', 'impress', 'manag', 'tone', 'sexi', 'imag', 'jump', 'right', 'averag', 'spirit', 'young', 'may', 'crown', 'jewel', 'career', 'devil', 'wear', 'interest', 'superman', 'great', 'comedi', 'go', 'see', 'friend']                                                                                                                                                                                                                                                                                                                                                                                                                                                                                                                                                                    |\n",
      "|  3 | ['basic', 'famili', 'littl', 'boy', 'jake', 'think', 'zombi', 'closet', 'parent', 'fight', 'movi', 'soap', 'opera', 'suddenli', 'jake', 'decid', 'becom', 'rambo', 'kill', 'first', 'go', 'make', 'film', 'must', 'decid', 'thriller', 'drama', 'as', 'drama', 'movi', 'watchabl', 'parent', 'divorc', 'argu', 'like', 'real', 'life', 'and', 'jake', 'closet', 'total', 'ruin', 'film', 'i', 'expect', 'see', 'similar', 'movi', 'instead', 'watch', 'drama', 'meaningless', 'thriller', '10', 'well', 'play', 'parent', 'descent', 'dialog', 'as', 'shot', 'jake', 'ignor']                                                                                                                                                                                                                                                                                                                                                                                                                                                                                                                                                                                                                                                                                                                                                                                           |\n",
      "|  4 | ['love', 'time', 'money', 'visual', 'stun', 'film', 'watch', 'mr', 'offer', 'us', 'vivid', 'portrait', 'human', 'relat', 'thi', 'movi', 'seem', 'tell', 'us', 'money', 'power', 'success', 'peopl', 'differ', 'situat', 'encount', 'thi', 'variat', 'arthur', 'play', 'theme', 'director', 'transfer', 'action', 'present', 'time', 'new', 'york', 'differ', 'charact', 'meet', 'connect', 'each', 'one', 'connect', 'one', 'way', 'anoth', 'next', 'person', 'one', 'seem', 'know', 'previou', 'point', 'contact', 'film', 'sophist', 'luxuri', 'look', 'we', 'taken', 'see', 'peopl', 'live', 'world', 'live', 'thing', 'one', 'get', 'soul', 'pictur', 'differ', 'stage', 'loneli', 'one', 'inhabit', 'a', 'big', 'citi', 'exactli', 'best', 'place', 'human', 'relat', 'find', 'sincer', 'fulfil', 'one', 'discern', 'case', 'peopl', 'act', 'good', 'mr', 'direct', 'steve', 'dawson', 'carol', 'kane', 'michael', 'rest', 'talent', 'cast', 'make', 'charact', 'come', 'wish', 'mr', 'good', 'luck', 'await', 'next', 'work']                                                                                                                                                                                                                                                                                                                                     |\n",
      "+----+-------------------------------------------------------------------------------------------------------------------------------------------------------------------------------------------------------------------------------------------------------------------------------------------------------------------------------------------------------------------------------------------------------------------------------------------------------------------------------------------------------------------------------------------------------------------------------------------------------------------------------------------------------------------------------------------------------------------------------------------------------------------------------------------------------------------------------------------------------------------------------------------------------------------------------------------------------------------------------------------------------------------------------------------------------------------------------------------------------------------------------------------------------------------------------------------------------------------------------------------------------------------------------------------------------------------------------------------------------------------------+\n"
     ]
    }
   ],
   "source": [
    "df['tidy'] = df['tidy'].apply(lambda x: [i for i in x if i in pop_word])\n",
    "my_pretty_table(df[['tidy']].head())"
   ]
  },
  {
   "cell_type": "markdown",
   "metadata": {},
   "source": [
    "#### [5] 최종 결과를 하나의 문장으로 병합"
   ]
  },
  {
   "cell_type": "code",
   "execution_count": 131,
   "metadata": {},
   "outputs": [
    {
     "name": "stdout",
     "output_type": "stream",
     "text": [
      "+----+---------------------------------------------------------------------------------------------------------------------------------------------------------------------------------------------------------------------------------------------------------------------------------------------------------------------------------------------------------------------------------------------------------------------------------------------------------------------------------------------------------------------------------------------------------------------------------------------------------------------------------------------------------------------------------------------------------------------------------------------------------------------------------------------------------------------------------------------------------------------------------------------------+\n",
      "|    | new_data                                                                                                                                                                                                                                                                                                                                                                                                                                                                                                                                                                                                                                                                                                                                                                                                                                                                                          |\n",
      "|----+---------------------------------------------------------------------------------------------------------------------------------------------------------------------------------------------------------------------------------------------------------------------------------------------------------------------------------------------------------------------------------------------------------------------------------------------------------------------------------------------------------------------------------------------------------------------------------------------------------------------------------------------------------------------------------------------------------------------------------------------------------------------------------------------------------------------------------------------------------------------------------------------------|\n",
      "|  0 | one review mention watch 1 oz episod hook they right exactli happen meth first thing struck oz brutal scene violenc set right word go trust show faint heart thi show pull punch regard drug sex violenc it hardcor classic use call oz given secur state it focus mainli citi experiment section prison cell glass front face high agenda citi home muslim christian italian irish death stare deal never far would say main appeal show due fact goe show would dare forget pretti pictur paint mainstream audienc forget charm forget mess around the first episod i ever saw struck nasti surreal i could say i readi i watch i develop tast oz got high level graphic violenc not violenc injustic crook guard sold inmat kill order get away well manner middl class inmat turn prison bitch due lack street skill prison experi watch oz may becom comfort uncomfort get touch darker side |\n",
      "|  1 | a wonder littl product the film techniqu fashion give comfort sometim sens realism entir piec the actor extrem well chosen michael sheen got voic pat you truli see edit guid refer william diari entri well worth watch written perform piec a master product one great master comedi life the realism realli come home littl thing fantasi guard rather use tradit dream techniqu remain solid disappear it play knowledg sens particularli scene concern set particularli flat decor everi surfac terribl well done                                                                                                                                                                                                                                                                                                                                                                            |\n",
      "|  2 | i thought wonder way spend time hot summer weekend sit air condit theater watch lightheart comedi the plot simplist dialogu witti charact likabl even well bread suspect serial killer while may disappoint realiz match point 2 risk addict i thought proof woodi allen still fulli control style mani us grown i would laugh one woodi comedi year dare i say decad while i never impress manag tone sexi imag jump right averag spirit young may crown jewel career devil wear interest superman great comedi go see friend                                                                                                                                                                                                                                                                                                                                                                    |\n",
      "|  3 | basic famili littl boy jake think zombi closet parent fight movi soap opera suddenli jake decid becom rambo kill first go make film must decid thriller drama as drama movi watchabl parent divorc argu like real life and jake closet total ruin film i expect see similar movi instead watch drama meaningless thriller 10 well play parent descent dialog as shot jake ignor                                                                                                                                                                                                                                                                                                                                                                                                                                                                                                                   |\n",
      "|  4 | love time money visual stun film watch mr offer us vivid portrait human relat thi movi seem tell us money power success peopl differ situat encount thi variat arthur play theme director transfer action present time new york differ charact meet connect each one connect one way anoth next person one seem know previou point contact film sophist luxuri look we taken see peopl live world live thing one get soul pictur differ stage loneli one inhabit a big citi exactli best place human relat find sincer fulfil one discern case peopl act good mr direct steve dawson carol kane michael rest talent cast make charact come wish mr good luck await next work                                                                                                                                                                                                                      |\n",
      "+----+---------------------------------------------------------------------------------------------------------------------------------------------------------------------------------------------------------------------------------------------------------------------------------------------------------------------------------------------------------------------------------------------------------------------------------------------------------------------------------------------------------------------------------------------------------------------------------------------------------------------------------------------------------------------------------------------------------------------------------------------------------------------------------------------------------------------------------------------------------------------------------------------------+\n"
     ]
    }
   ],
   "source": [
    "df['new_data'] = df['tidy'].apply(lambda x: \" \".join(x))\n",
    "my_pretty_table(df[['new_data']].head())"
   ]
  },
  {
   "cell_type": "code",
   "execution_count": 132,
   "metadata": {},
   "outputs": [
    {
     "data": {
      "text/plain": [
       "array([[0, 0, 0, ..., 0, 0, 0],\n",
       "       [0, 0, 0, ..., 0, 0, 0],\n",
       "       [0, 0, 0, ..., 0, 0, 0]], dtype=int64)"
      ]
     },
     "execution_count": 132,
     "metadata": {},
     "output_type": "execute_result"
    }
   ],
   "source": [
    "count_vec = CountVectorizer()\n",
    "fit = count_vec.fit_transform(df['new_data'])\n",
    "doc_term_matrix = fit.toarray()\n",
    "doc_term_matrix[:3]"
   ]
  },
  {
   "cell_type": "code",
   "execution_count": 133,
   "metadata": {},
   "outputs": [
    {
     "data": {
      "text/plain": [
       "((39998, 5486), (10000, 5486), (39998,), (10000,))"
      ]
     },
     "execution_count": 133,
     "metadata": {},
     "output_type": "execute_result"
    }
   ],
   "source": [
    "x_train, x_test, y_train, y_test = train_test_split(fit, df['sentiment'], test_size=0.2, random_state=1000)\n",
    "x_train.shape, x_test.shape, y_train.shape, y_test.shape"
   ]
  },
  {
   "cell_type": "markdown",
   "metadata": {},
   "source": [
    "## #05. 분류 모델 구현"
   ]
  },
  {
   "cell_type": "code",
   "execution_count": 134,
   "metadata": {},
   "outputs": [
    {
     "name": "stdout",
     "output_type": "stream",
     "text": [
      "[교차검증]\n",
      "+----+-------+-----------+-------------------+\n",
      "|    |     C | penalty   |   mean_test_score |\n",
      "|----+-------+-----------+-------------------|\n",
      "|  7 |   0.1 | l2        |          0.879344 |\n",
      "|  4 |  0.01 | l2        |          0.877719 |\n",
      "| 10 |     1 | l2        |          0.864318 |\n",
      "|  1 | 0.001 | l2        |          0.856518 |\n",
      "| 13 |    10 | l2        |          0.847242 |\n",
      "| 16 |   100 | l2        |          0.838242 |\n",
      "+----+-------+-----------+-------------------+\n",
      "\n",
      "[분류분석 성능평가]\n",
      "+-------------------------+--------------+--------------+-----------------------------------------------------------+\n",
      "|                         |   훈련데이터 |   검증데이터 | 설명                                                      |\n",
      "|-------------------------+--------------+--------------+-----------------------------------------------------------|\n",
      "| 의사결정계수(Pseudo R2) |     0.714267 |     0.578371 | 로지스틱회귀의 성능 측정 지표로, 1에 가까울수록 좋은 모델 |\n",
      "| 정확도(Accuracy)        |     0.927596 |       0.8818 | 예측 결과(TN,FP,TP,TN)가 실제 결과(TP,TN)와 일치하는 정도 |\n",
      "| 정밀도(Precision)       |     0.921547 |     0.876917 | 양성으로 예측한 결과(TP,FP) 중 실제 양성(TP)인 비율       |\n",
      "| 재현율(Recall)          |     0.934644 |     0.889155 | 실제 양성(TP,FN) 중 양성(TP)으로 예측한 비율              |\n",
      "| 위양성율(Fallout)       |    0.0794404 |     0.125602 | 실제 음성(FP,TN) 중 양성(FP)으로 잘못 예측한 비율         |\n",
      "| 특이성(TNR)             |      0.92056 |     0.874398 | 실제 음성(FP,TN) 중 음성(TN)으로 정확히 예측한 비율       |\n",
      "| F1 Score                |      0.92805 |     0.882993 | 정밀도와 재현율의 조화평균                                |\n",
      "| AUC                     |     0.978947 |     0.949508 | ROC Curve의 밑면적으로, 1에 가까울수록 좋은 모델          |\n",
      "+-------------------------+--------------+--------------+-----------------------------------------------------------+\n",
      "\n",
      "[혼동행렬]\n"
     ]
    },
    {
     "data": {
      "image/png": "[encoded data removed]",
      "text/plain": [
       "<Figure size 1000x500 with 2 Axes>"
      ]
     },
     "metadata": {},
     "output_type": "display_data"
    },
    {
     "name": "stdout",
     "output_type": "stream",
     "text": [
      "\n",
      "[ROC/PR Curve]\n"
     ]
    },
    {
     "data": {
      "image/png": "[encoded data removed]",
      "text/plain": [
       "<Figure size 1000x500 with 2 Axes>"
      ]
     },
     "metadata": {},
     "output_type": "display_data"
    },
    {
     "name": "stdout",
     "output_type": "stream",
     "text": [
      "\n",
      "[학습곡선]\n"
     ]
    },
    {
     "ename": "TypeError",
     "evalue": "cannot concatenate object of type '<class 'scipy.sparse._csr.csr_matrix'>'; only Series and DataFrame objs are valid",
     "output_type": "error",
     "traceback": [
      "\u001b[1;31m---------------------------------------------------------------------------\u001b[0m",
      "\u001b[1;31mTypeError\u001b[0m                                 Traceback (most recent call last)",
      "Cell \u001b[1;32mIn[134], line 1\u001b[0m\n\u001b[1;32m----> 1\u001b[0m \u001b[43mmy_logistic_classification\u001b[49m\u001b[43m(\u001b[49m\u001b[43mx_train\u001b[49m\u001b[43m,\u001b[49m\u001b[43m \u001b[49m\u001b[43my_train\u001b[49m\u001b[43m,\u001b[49m\u001b[43m \u001b[49m\u001b[43mx_test\u001b[49m\u001b[43m,\u001b[49m\u001b[43m \u001b[49m\u001b[43my_test\u001b[49m\u001b[43m,\u001b[49m\u001b[43m \u001b[49m\u001b[43mreport\u001b[49m\u001b[38;5;241;43m=\u001b[39;49m\u001b[38;5;28;43;01mFalse\u001b[39;49;00m\u001b[43m)\u001b[49m\n",
      "File \u001b[1;32mc:\\Users\\Jihwan\\Desktop\\01Class\\helper\\classification.py:76\u001b[0m, in \u001b[0;36mmy_logistic_classification\u001b[1;34m(x_train, y_train, x_test, y_test, cv, learning_curve, report, figsize, dpi, sort, **params)\u001b[0m\n\u001b[0;32m     73\u001b[0m \u001b[38;5;66;03m#------------------------------------------------------\u001b[39;00m\n\u001b[0;32m     74\u001b[0m \u001b[38;5;66;03m# 성능평가\u001b[39;00m\n\u001b[0;32m     75\u001b[0m \u001b[38;5;28;01mif\u001b[39;00m x_test \u001b[38;5;129;01mis\u001b[39;00m \u001b[38;5;129;01mnot\u001b[39;00m \u001b[38;5;28;01mNone\u001b[39;00m \u001b[38;5;129;01mand\u001b[39;00m y_test \u001b[38;5;129;01mis\u001b[39;00m \u001b[38;5;129;01mnot\u001b[39;00m \u001b[38;5;28;01mNone\u001b[39;00m:\n\u001b[1;32m---> 76\u001b[0m     \u001b[43mmy_classification_result\u001b[49m\u001b[43m(\u001b[49m\u001b[43mestimator\u001b[49m\u001b[43m,\u001b[49m\u001b[43m \u001b[49m\u001b[43mx_train\u001b[49m\u001b[38;5;241;43m=\u001b[39;49m\u001b[43mx_train\u001b[49m\u001b[43m,\u001b[49m\u001b[43m \u001b[49m\u001b[43my_train\u001b[49m\u001b[38;5;241;43m=\u001b[39;49m\u001b[43my_train\u001b[49m\u001b[43m,\u001b[49m\u001b[43m \u001b[49m\u001b[43mx_test\u001b[49m\u001b[38;5;241;43m=\u001b[39;49m\u001b[43mx_test\u001b[49m\u001b[43m,\u001b[49m\u001b[43m \u001b[49m\u001b[43my_test\u001b[49m\u001b[38;5;241;43m=\u001b[39;49m\u001b[43my_test\u001b[49m\u001b[43m,\u001b[49m\u001b[43m \u001b[49m\u001b[43mlearning_curve\u001b[49m\u001b[38;5;241;43m=\u001b[39;49m\u001b[43mlearning_curve\u001b[49m\u001b[43m,\u001b[49m\u001b[43m \u001b[49m\u001b[43mcv\u001b[49m\u001b[38;5;241;43m=\u001b[39;49m\u001b[43mcv\u001b[49m\u001b[43m,\u001b[49m\u001b[43m \u001b[49m\u001b[43mfigsize\u001b[49m\u001b[38;5;241;43m=\u001b[39;49m\u001b[43mfigsize\u001b[49m\u001b[43m,\u001b[49m\u001b[43m \u001b[49m\u001b[43mdpi\u001b[49m\u001b[38;5;241;43m=\u001b[39;49m\u001b[43mdpi\u001b[49m\u001b[43m)\u001b[49m\n\u001b[0;32m     77\u001b[0m \u001b[38;5;28;01melse\u001b[39;00m:\n\u001b[0;32m     78\u001b[0m     my_classification_result(estimator, x_train\u001b[38;5;241m=\u001b[39mx_train, y_train\u001b[38;5;241m=\u001b[39my_train, learning_curve\u001b[38;5;241m=\u001b[39mlearning_curve, cv\u001b[38;5;241m=\u001b[39mcv, figsize\u001b[38;5;241m=\u001b[39mfigsize, dpi\u001b[38;5;241m=\u001b[39mdpi)\n",
      "File \u001b[1;32mc:\\Users\\Jihwan\\Desktop\\01Class\\helper\\classification.py:245\u001b[0m, in \u001b[0;36mmy_classification_result\u001b[1;34m(estimator, x_train, y_train, x_test, y_test, conf_matrix, roc_curve, pr_curve, learning_curve, cv, figsize, dpi)\u001b[0m\n\u001b[0;32m    243\u001b[0m \u001b[38;5;28;01mif\u001b[39;00m x_test \u001b[38;5;129;01mis\u001b[39;00m \u001b[38;5;129;01mnot\u001b[39;00m \u001b[38;5;28;01mNone\u001b[39;00m \u001b[38;5;129;01mand\u001b[39;00m y_test \u001b[38;5;129;01mis\u001b[39;00m \u001b[38;5;129;01mnot\u001b[39;00m \u001b[38;5;28;01mNone\u001b[39;00m:\n\u001b[0;32m    244\u001b[0m     y_df \u001b[38;5;241m=\u001b[39m concat([y_train, y_test])\n\u001b[1;32m--> 245\u001b[0m     x_df \u001b[38;5;241m=\u001b[39m \u001b[43mconcat\u001b[49m\u001b[43m(\u001b[49m\u001b[43m[\u001b[49m\u001b[43mx_train\u001b[49m\u001b[43m,\u001b[49m\u001b[43m \u001b[49m\u001b[43mx_test\u001b[49m\u001b[43m]\u001b[49m\u001b[43m)\u001b[49m\n\u001b[0;32m    246\u001b[0m \u001b[38;5;28;01melse\u001b[39;00m:\n\u001b[0;32m    247\u001b[0m     y_df \u001b[38;5;241m=\u001b[39m y_train\u001b[38;5;241m.\u001b[39mcopy()\n",
      "File \u001b[1;32mc:\\Users\\Jihwan\\AppData\\Local\\Programs\\Python\\Python311\\Lib\\site-packages\\pandas\\util\\_decorators.py:331\u001b[0m, in \u001b[0;36mdeprecate_nonkeyword_arguments.<locals>.decorate.<locals>.wrapper\u001b[1;34m(*args, **kwargs)\u001b[0m\n\u001b[0;32m    325\u001b[0m \u001b[38;5;28;01mif\u001b[39;00m \u001b[38;5;28mlen\u001b[39m(args) \u001b[38;5;241m>\u001b[39m num_allow_args:\n\u001b[0;32m    326\u001b[0m     warnings\u001b[38;5;241m.\u001b[39mwarn(\n\u001b[0;32m    327\u001b[0m         msg\u001b[38;5;241m.\u001b[39mformat(arguments\u001b[38;5;241m=\u001b[39m_format_argument_list(allow_args)),\n\u001b[0;32m    328\u001b[0m         \u001b[38;5;167;01mFutureWarning\u001b[39;00m,\n\u001b[0;32m    329\u001b[0m         stacklevel\u001b[38;5;241m=\u001b[39mfind_stack_level(),\n\u001b[0;32m    330\u001b[0m     )\n\u001b[1;32m--> 331\u001b[0m \u001b[38;5;28;01mreturn\u001b[39;00m \u001b[43mfunc\u001b[49m\u001b[43m(\u001b[49m\u001b[38;5;241;43m*\u001b[39;49m\u001b[43margs\u001b[49m\u001b[43m,\u001b[49m\u001b[43m \u001b[49m\u001b[38;5;241;43m*\u001b[39;49m\u001b[38;5;241;43m*\u001b[39;49m\u001b[43mkwargs\u001b[49m\u001b[43m)\u001b[49m\n",
      "File \u001b[1;32mc:\\Users\\Jihwan\\AppData\\Local\\Programs\\Python\\Python311\\Lib\\site-packages\\pandas\\core\\reshape\\concat.py:368\u001b[0m, in \u001b[0;36mconcat\u001b[1;34m(objs, axis, join, ignore_index, keys, levels, names, verify_integrity, sort, copy)\u001b[0m\n\u001b[0;32m    146\u001b[0m \u001b[38;5;129m@deprecate_nonkeyword_arguments\u001b[39m(version\u001b[38;5;241m=\u001b[39m\u001b[38;5;28;01mNone\u001b[39;00m, allowed_args\u001b[38;5;241m=\u001b[39m[\u001b[38;5;124m\"\u001b[39m\u001b[38;5;124mobjs\u001b[39m\u001b[38;5;124m\"\u001b[39m])\n\u001b[0;32m    147\u001b[0m \u001b[38;5;28;01mdef\u001b[39;00m \u001b[38;5;21mconcat\u001b[39m(\n\u001b[0;32m    148\u001b[0m     objs: Iterable[NDFrame] \u001b[38;5;241m|\u001b[39m Mapping[HashableT, NDFrame],\n\u001b[1;32m   (...)\u001b[0m\n\u001b[0;32m    157\u001b[0m     copy: \u001b[38;5;28mbool\u001b[39m \u001b[38;5;241m=\u001b[39m \u001b[38;5;28;01mTrue\u001b[39;00m,\n\u001b[0;32m    158\u001b[0m ) \u001b[38;5;241m-\u001b[39m\u001b[38;5;241m>\u001b[39m DataFrame \u001b[38;5;241m|\u001b[39m Series:\n\u001b[0;32m    159\u001b[0m \u001b[38;5;250m    \u001b[39m\u001b[38;5;124;03m\"\"\"\u001b[39;00m\n\u001b[0;32m    160\u001b[0m \u001b[38;5;124;03m    Concatenate pandas objects along a particular axis.\u001b[39;00m\n\u001b[0;32m    161\u001b[0m \n\u001b[1;32m   (...)\u001b[0m\n\u001b[0;32m    366\u001b[0m \u001b[38;5;124;03m    1   3   4\u001b[39;00m\n\u001b[0;32m    367\u001b[0m \u001b[38;5;124;03m    \"\"\"\u001b[39;00m\n\u001b[1;32m--> 368\u001b[0m     op \u001b[38;5;241m=\u001b[39m \u001b[43m_Concatenator\u001b[49m\u001b[43m(\u001b[49m\n\u001b[0;32m    369\u001b[0m \u001b[43m        \u001b[49m\u001b[43mobjs\u001b[49m\u001b[43m,\u001b[49m\n\u001b[0;32m    370\u001b[0m \u001b[43m        \u001b[49m\u001b[43maxis\u001b[49m\u001b[38;5;241;43m=\u001b[39;49m\u001b[43maxis\u001b[49m\u001b[43m,\u001b[49m\n\u001b[0;32m    371\u001b[0m \u001b[43m        \u001b[49m\u001b[43mignore_index\u001b[49m\u001b[38;5;241;43m=\u001b[39;49m\u001b[43mignore_index\u001b[49m\u001b[43m,\u001b[49m\n\u001b[0;32m    372\u001b[0m \u001b[43m        \u001b[49m\u001b[43mjoin\u001b[49m\u001b[38;5;241;43m=\u001b[39;49m\u001b[43mjoin\u001b[49m\u001b[43m,\u001b[49m\n\u001b[0;32m    373\u001b[0m \u001b[43m        \u001b[49m\u001b[43mkeys\u001b[49m\u001b[38;5;241;43m=\u001b[39;49m\u001b[43mkeys\u001b[49m\u001b[43m,\u001b[49m\n\u001b[0;32m    374\u001b[0m \u001b[43m        \u001b[49m\u001b[43mlevels\u001b[49m\u001b[38;5;241;43m=\u001b[39;49m\u001b[43mlevels\u001b[49m\u001b[43m,\u001b[49m\n\u001b[0;32m    375\u001b[0m \u001b[43m        \u001b[49m\u001b[43mnames\u001b[49m\u001b[38;5;241;43m=\u001b[39;49m\u001b[43mnames\u001b[49m\u001b[43m,\u001b[49m\n\u001b[0;32m    376\u001b[0m \u001b[43m        \u001b[49m\u001b[43mverify_integrity\u001b[49m\u001b[38;5;241;43m=\u001b[39;49m\u001b[43mverify_integrity\u001b[49m\u001b[43m,\u001b[49m\n\u001b[0;32m    377\u001b[0m \u001b[43m        \u001b[49m\u001b[43mcopy\u001b[49m\u001b[38;5;241;43m=\u001b[39;49m\u001b[43mcopy\u001b[49m\u001b[43m,\u001b[49m\n\u001b[0;32m    378\u001b[0m \u001b[43m        \u001b[49m\u001b[43msort\u001b[49m\u001b[38;5;241;43m=\u001b[39;49m\u001b[43msort\u001b[49m\u001b[43m,\u001b[49m\n\u001b[0;32m    379\u001b[0m \u001b[43m    \u001b[49m\u001b[43m)\u001b[49m\n\u001b[0;32m    381\u001b[0m     \u001b[38;5;28;01mreturn\u001b[39;00m op\u001b[38;5;241m.\u001b[39mget_result()\n",
      "File \u001b[1;32mc:\\Users\\Jihwan\\AppData\\Local\\Programs\\Python\\Python311\\Lib\\site-packages\\pandas\\core\\reshape\\concat.py:458\u001b[0m, in \u001b[0;36m_Concatenator.__init__\u001b[1;34m(self, objs, axis, join, keys, levels, names, ignore_index, verify_integrity, copy, sort)\u001b[0m\n\u001b[0;32m    453\u001b[0m     \u001b[38;5;28;01mif\u001b[39;00m \u001b[38;5;129;01mnot\u001b[39;00m \u001b[38;5;28misinstance\u001b[39m(obj, (ABCSeries, ABCDataFrame)):\n\u001b[0;32m    454\u001b[0m         msg \u001b[38;5;241m=\u001b[39m (\n\u001b[0;32m    455\u001b[0m             \u001b[38;5;124mf\u001b[39m\u001b[38;5;124m\"\u001b[39m\u001b[38;5;124mcannot concatenate object of type \u001b[39m\u001b[38;5;124m'\u001b[39m\u001b[38;5;132;01m{\u001b[39;00m\u001b[38;5;28mtype\u001b[39m(obj)\u001b[38;5;132;01m}\u001b[39;00m\u001b[38;5;124m'\u001b[39m\u001b[38;5;124m; \u001b[39m\u001b[38;5;124m\"\u001b[39m\n\u001b[0;32m    456\u001b[0m             \u001b[38;5;124m\"\u001b[39m\u001b[38;5;124monly Series and DataFrame objs are valid\u001b[39m\u001b[38;5;124m\"\u001b[39m\n\u001b[0;32m    457\u001b[0m         )\n\u001b[1;32m--> 458\u001b[0m         \u001b[38;5;28;01mraise\u001b[39;00m \u001b[38;5;167;01mTypeError\u001b[39;00m(msg)\n\u001b[0;32m    460\u001b[0m     ndims\u001b[38;5;241m.\u001b[39madd(obj\u001b[38;5;241m.\u001b[39mndim)\n\u001b[0;32m    462\u001b[0m \u001b[38;5;66;03m# get the sample\u001b[39;00m\n\u001b[0;32m    463\u001b[0m \u001b[38;5;66;03m# want the highest ndim that we have, and must be non-empty\u001b[39;00m\n\u001b[0;32m    464\u001b[0m \u001b[38;5;66;03m# unless all objs are empty\u001b[39;00m\n",
      "\u001b[1;31mTypeError\u001b[0m: cannot concatenate object of type '<class 'scipy.sparse._csr.csr_matrix'>'; only Series and DataFrame objs are valid"
     ]
    }
   ],
   "source": [
    "my_logistic_classification(x_train, y_train, x_test, y_test, report=False)"
   ]
  },
  {
   "cell_type": "code",
   "execution_count": null,
   "metadata": {},
   "outputs": [],
   "source": []
  }
 ],
 "metadata": {
  "kernelspec": {
   "display_name": "Python 3",
   "language": "python",
   "name": "python3"
  },
  "language_info": {
   "codemirror_mode": {
    "name": "ipython",
    "version": 3
   },
   "file_extension": ".py",
   "mimetype": "text/x-python",
   "name": "python",
   "nbconvert_exporter": "python",
   "pygments_lexer": "ipython3",
   "version": "3.11.7"
  }
 },
 "nbformat": 4,
 "nbformat_minor": 2
}
