{
 "cells": [
  {
   "cell_type": "code",
   "execution_count": 1,
   "metadata": {},
   "outputs": [],
   "source": [
    "import sys\n",
    "import os\n",
    "work_path = os.path.abspath(os.path.join(os.getcwd(), '../../../../'))\n",
    "sys.path.append(work_path)\n",
    "from helper.regrassion import *\n",
    "from helper.plot import *\n",
    "from helper.util import *\n",
    "from helper.analysis import *\n",
    "\n",
    "from sklearn.linear_model import LinearRegression\n",
    "\n",
    "from sklearn.model_selection import cross_val_score, cross_validate, cross_val_predict"
   ]
  },
  {
   "cell_type": "code",
   "execution_count": 2,
   "metadata": {},
   "outputs": [
    {
     "name": "stdout",
     "output_type": "stream",
     "text": [
      "<class 'pandas.core.frame.DataFrame'>\n",
      "RangeIndex: 56 entries, 0 to 55\n",
      "Data columns (total 4 columns):\n",
      " #   Column  Non-Null Count  Dtype  \n",
      "---  ------  --------------  -----  \n",
      " 0   길이      56 non-null     float64\n",
      " 1   높이      56 non-null     float64\n",
      " 2   두께      56 non-null     float64\n",
      " 3   무게      56 non-null     float64\n",
      "dtypes: float64(4)\n",
      "memory usage: 1.9 KB\n",
      "None\n",
      "\n",
      "데이터프레임 상위 5개 행\n",
      "+----+--------+--------+--------+--------+\n",
      "|    |   길이 |   높이 |   두께 |   무게 |\n",
      "|----+--------+--------+--------+--------|\n",
      "|  0 |    8.4 |   2.11 |   1.41 |    5.9 |\n",
      "|  1 |   13.7 |   3.53 |      2 |     32 |\n",
      "|  2 |     15 |   3.82 |   2.43 |     40 |\n",
      "|  3 |   16.2 |   4.59 |   2.63 |   51.5 |\n",
      "|  4 |   17.4 |   4.59 |   2.94 |     70 |\n",
      "+----+--------+--------+--------+--------+\n",
      "\n",
      "데이터프레임 하위 5개 행\n",
      "+----+--------+--------+--------+--------+\n",
      "|    |   길이 |   높이 |   두께 |   무게 |\n",
      "|----+--------+--------+--------+--------|\n",
      "| 51 |     42 |   12.8 |   6.87 |   1100 |\n",
      "| 52 |     43 |  11.93 |   7.28 |   1000 |\n",
      "| 53 |     43 |  12.51 |   7.42 |   1100 |\n",
      "| 54 |   43.5 |   12.6 |   8.14 |   1000 |\n",
      "| 55 |     44 |  12.49 |    7.6 |   1000 |\n",
      "+----+--------+--------+--------+--------+\n",
      "\n",
      "기술통계\n",
      "+------+---------+---------+---------+-------+--------+-------+--------+-------+-------+\n",
      "|      |   count |    mean |     std |   min |    25% |   50% |    75% |   max |   nan |\n",
      "|------+---------+---------+---------+-------+--------+-------+--------+-------+-------|\n",
      "| 길이 |      56 | 27.8929 | 9.02167 |   8.4 | 21.825 |  25.3 | 36.625 |    44 |     0 |\n",
      "| 높이 |      56 | 7.86214 | 2.87834 |  2.11 |   5.69 |  6.92 |  10.85 |  12.8 |     0 |\n",
      "| 두께 |      56 | 4.74554 | 1.77501 |  1.41 |   3.52 | 4.155 |   6.45 |  8.14 |     0 |\n",
      "| 무게 |      56 | 382.239 | 347.618 |   5.9 |    120 | 207.5 |  692.5 |  1100 |     0 |\n",
      "+------+---------+---------+---------+-------+--------+-------+--------+-------+-------+\n",
      "+----+--------+--------+--------+--------+\n",
      "|    |   길이 |   높이 |   두께 |   무게 |\n",
      "|----+--------+--------+--------+--------|\n",
      "|  0 |    8.4 |   2.11 |   1.41 |    5.9 |\n",
      "|  1 |   13.7 |   3.53 |      2 |     32 |\n",
      "|  2 |     15 |   3.82 |   2.43 |     40 |\n",
      "|  3 |   16.2 |   4.59 |   2.63 |   51.5 |\n",
      "|  4 |   17.4 |   4.59 |   2.94 |     70 |\n",
      "+----+--------+--------+--------+--------+\n"
     ]
    }
   ],
   "source": [
    "origin = my_read_excel('C:/Users/Jihwan/Desktop/01Class/E.추론통계/E.InferentialStatistics/수업자료/fish.xlsx')\n",
    "my_pretty_table(origin.head())"
   ]
  },
  {
   "cell_type": "code",
   "execution_count": 3,
   "metadata": {},
   "outputs": [
    {
     "data": {
      "text/plain": [
       "((56, 3), (56,))"
      ]
     },
     "execution_count": 3,
     "metadata": {},
     "output_type": "execute_result"
    }
   ],
   "source": [
    "yname = '무게'\n",
    "x = origin.drop(yname, axis=1)\n",
    "y = origin[yname]\n",
    "x.shape, y.shape"
   ]
  },
  {
   "cell_type": "markdown",
   "metadata": {},
   "source": [
    "## #04. K-Fold 교차 검증을 적용한 회귀 모델\n",
    "\n",
    "### [1] 한가지 평가지표만 확인하기\n",
    "\n",
    "1개의 폴드부터 10개의 폴드 까지 반복적으로 수행"
   ]
  },
  {
   "cell_type": "code",
   "execution_count": 4,
   "metadata": {},
   "outputs": [
    {
     "name": "stdout",
     "output_type": "stream",
     "text": [
      "R2: [-5.80130229e+01 -2.31476956e+00 -4.52072266e+01 -4.47723355e+00\n",
      " -5.35954360e+00 -1.75520025e+01  6.25492054e-01  5.30196516e-01\n",
      " -5.03267727e-02 -1.75845285e+01]\n",
      "R2 최대값: 0.62549205419385\n",
      "R2 최대값의 Fold수: 7\n"
     ]
    }
   ],
   "source": [
    "k = 10\n",
    "\n",
    "model = LinearRegression(n_jobs=-1)\n",
    "\n",
    "scores = cross_val_score(model, x, y, cv=k, scoring='r2', n_jobs=-1)\n",
    "\n",
    "print('R2:', scores)\n",
    "print('R2 최대값:', scores.max())\n",
    "print('R2 최대값의 Fold수:', scores.argmax()+1)"
   ]
  },
  {
   "cell_type": "markdown",
   "metadata": {},
   "source": [
    "### [2] 전체 정보 얻기\n",
    "\n",
    "#### (1) K-Fold 수행\n",
    "\n",
    "리턴받고자 하는 정보를 bool 형식으로 설정"
   ]
  },
  {
   "cell_type": "code",
   "execution_count": 6,
   "metadata": {},
   "outputs": [
    {
     "name": "stdout",
     "output_type": "stream",
     "text": [
      "+----+------------+--------------+-----------------------------+--------------+---------------+\n",
      "|    |   fit_time |   score_time | estimator                   |   test_score |   train_score |\n",
      "|----+------------+--------------+-----------------------------+--------------+---------------|\n",
      "|  0 | 0.00256085 |   0.00199127 | LinearRegression(n_jobs=-1) |      -58.013 |      0.969328 |\n",
      "|  1 | 0.00256085 |   0.00199127 | LinearRegression(n_jobs=-1) |     -2.31477 |       0.93761 |\n",
      "|  2 | 0.00506997 |    0.0013845 | LinearRegression(n_jobs=-1) |     -45.2072 |      0.939373 |\n",
      "|  3 | 0.00299358 |   0.00207639 | LinearRegression(n_jobs=-1) |     -4.47723 |      0.940413 |\n",
      "|  4 |  0.0024631 |  0.000996828 | LinearRegression(n_jobs=-1) |     -5.35954 |      0.943642 |\n",
      "|  5 | 0.00175548 |   0.00102329 | LinearRegression(n_jobs=-1) |      -17.552 |      0.948462 |\n",
      "|  6 | 0.00199366 |  0.000997066 | LinearRegression(n_jobs=-1) |     0.625492 |      0.945635 |\n",
      "|  7 | 0.00199389 |   0.00118351 | LinearRegression(n_jobs=-1) |     0.530197 |      0.938041 |\n",
      "|  8 | 0.00199389 |   0.00118351 | LinearRegression(n_jobs=-1) |   -0.0503268 |      0.931972 |\n",
      "|  9 | 0.00218058 |    0.0008111 | LinearRegression(n_jobs=-1) |     -17.5845 |       0.94407 |\n",
      "+----+------------+--------------+-----------------------------+--------------+---------------+\n"
     ]
    }
   ],
   "source": [
    "model = LinearRegression(n_jobs=-1)\n",
    "result = cross_validate(model, x,y, cv=k,\n",
    "                        return_train_score=True, return_estimator=True,\n",
    "                        n_jobs=-1)\n",
    "result_df = DataFrame(result)\n",
    "my_pretty_table(result_df)"
   ]
  },
  {
   "cell_type": "markdown",
   "metadata": {},
   "source": [
    "#### (2) 최적의 성능을 갖는 폴드에 대한 학습 객체 추출"
   ]
  },
  {
   "cell_type": "code",
   "execution_count": 7,
   "metadata": {},
   "outputs": [
    {
     "data": {
      "text/html": [
       "<style>#sk-container-id-1 {color: black;}#sk-container-id-1 pre{padding: 0;}#sk-container-id-1 div.sk-toggleable {background-color: white;}#sk-container-id-1 label.sk-toggleable__label {cursor: pointer;display: block;width: 100%;margin-bottom: 0;padding: 0.3em;box-sizing: border-box;text-align: center;}#sk-container-id-1 label.sk-toggleable__label-arrow:before {content: \"▸\";float: left;margin-right: 0.25em;color: #696969;}#sk-container-id-1 label.sk-toggleable__label-arrow:hover:before {color: black;}#sk-container-id-1 div.sk-estimator:hover label.sk-toggleable__label-arrow:before {color: black;}#sk-container-id-1 div.sk-toggleable__content {max-height: 0;max-width: 0;overflow: hidden;text-align: left;background-color: #f0f8ff;}#sk-container-id-1 div.sk-toggleable__content pre {margin: 0.2em;color: black;border-radius: 0.25em;background-color: #f0f8ff;}#sk-container-id-1 input.sk-toggleable__control:checked~div.sk-toggleable__content {max-height: 200px;max-width: 100%;overflow: auto;}#sk-container-id-1 input.sk-toggleable__control:checked~label.sk-toggleable__label-arrow:before {content: \"▾\";}#sk-container-id-1 div.sk-estimator input.sk-toggleable__control:checked~label.sk-toggleable__label {background-color: #d4ebff;}#sk-container-id-1 div.sk-label input.sk-toggleable__control:checked~label.sk-toggleable__label {background-color: #d4ebff;}#sk-container-id-1 input.sk-hidden--visually {border: 0;clip: rect(1px 1px 1px 1px);clip: rect(1px, 1px, 1px, 1px);height: 1px;margin: -1px;overflow: hidden;padding: 0;position: absolute;width: 1px;}#sk-container-id-1 div.sk-estimator {font-family: monospace;background-color: #f0f8ff;border: 1px dotted black;border-radius: 0.25em;box-sizing: border-box;margin-bottom: 0.5em;}#sk-container-id-1 div.sk-estimator:hover {background-color: #d4ebff;}#sk-container-id-1 div.sk-parallel-item::after {content: \"\";width: 100%;border-bottom: 1px solid gray;flex-grow: 1;}#sk-container-id-1 div.sk-label:hover label.sk-toggleable__label {background-color: #d4ebff;}#sk-container-id-1 div.sk-serial::before {content: \"\";position: absolute;border-left: 1px solid gray;box-sizing: border-box;top: 0;bottom: 0;left: 50%;z-index: 0;}#sk-container-id-1 div.sk-serial {display: flex;flex-direction: column;align-items: center;background-color: white;padding-right: 0.2em;padding-left: 0.2em;position: relative;}#sk-container-id-1 div.sk-item {position: relative;z-index: 1;}#sk-container-id-1 div.sk-parallel {display: flex;align-items: stretch;justify-content: center;background-color: white;position: relative;}#sk-container-id-1 div.sk-item::before, #sk-container-id-1 div.sk-parallel-item::before {content: \"\";position: absolute;border-left: 1px solid gray;box-sizing: border-box;top: 0;bottom: 0;left: 50%;z-index: -1;}#sk-container-id-1 div.sk-parallel-item {display: flex;flex-direction: column;z-index: 1;position: relative;background-color: white;}#sk-container-id-1 div.sk-parallel-item:first-child::after {align-self: flex-end;width: 50%;}#sk-container-id-1 div.sk-parallel-item:last-child::after {align-self: flex-start;width: 50%;}#sk-container-id-1 div.sk-parallel-item:only-child::after {width: 0;}#sk-container-id-1 div.sk-dashed-wrapped {border: 1px dashed gray;margin: 0 0.4em 0.5em 0.4em;box-sizing: border-box;padding-bottom: 0.4em;background-color: white;}#sk-container-id-1 div.sk-label label {font-family: monospace;font-weight: bold;display: inline-block;line-height: 1.2em;}#sk-container-id-1 div.sk-label-container {text-align: center;}#sk-container-id-1 div.sk-container {/* jupyter's `normalize.less` sets `[hidden] { display: none; }` but bootstrap.min.css set `[hidden] { display: none !important; }` so we also need the `!important` here to be able to override the default hidden behavior on the sphinx rendered scikit-learn.org. See: https://github.com/scikit-learn/scikit-learn/issues/21755 */display: inline-block !important;position: relative;}#sk-container-id-1 div.sk-text-repr-fallback {display: none;}</style><div id=\"sk-container-id-1\" class=\"sk-top-container\"><div class=\"sk-text-repr-fallback\"><pre>LinearRegression(n_jobs=-1)</pre><b>In a Jupyter environment, please rerun this cell to show the HTML representation or trust the notebook. <br />On GitHub, the HTML representation is unable to render, please try loading this page with nbviewer.org.</b></div><div class=\"sk-container\" hidden><div class=\"sk-item\"><div class=\"sk-estimator sk-toggleable\"><input class=\"sk-toggleable__control sk-hidden--visually\" id=\"sk-estimator-id-1\" type=\"checkbox\" checked><label for=\"sk-estimator-id-1\" class=\"sk-toggleable__label sk-toggleable__label-arrow\">LinearRegression</label><div class=\"sk-toggleable__content\"><pre>LinearRegression(n_jobs=-1)</pre></div></div></div></div></div>"
      ],
      "text/plain": [
       "LinearRegression(n_jobs=-1)"
      ]
     },
     "execution_count": 7,
     "metadata": {},
     "output_type": "execute_result"
    }
   ],
   "source": [
    "maxindex = result_df['test_score'].argmax()\n",
    "best_model = result_df.iloc[maxindex]['estimator']\n",
    "best_model"
   ]
  },
  {
   "cell_type": "markdown",
   "metadata": {},
   "source": [
    "### [3] 최적의 k폴드 수행에 대한 추정치 얻기"
   ]
  },
  {
   "cell_type": "code",
   "execution_count": 8,
   "metadata": {},
   "outputs": [
    {
     "data": {
      "text/plain": [
       "array([-415.07853167, -226.51199473, -170.5319201 , -102.50092462,\n",
       "        -68.04456227,   -9.39059305,   -7.16198571,   16.88762632,\n",
       "         63.61423719,   41.92835141,  139.71780356,  139.54040268,\n",
       "        147.04399414,  187.58426947,  161.29346999,  134.95737725,\n",
       "        171.75681189,  155.22220036,  160.06735997,  161.06534327,\n",
       "        227.92268556,  168.52744392,  116.5759082 ,  199.41972277,\n",
       "        276.25603007,  221.46559183,  269.52394449,  219.52200383,\n",
       "        265.68650727,  303.05013887,  447.64446312,  319.07001843,\n",
       "        312.17502048,  343.23703929,  353.00323619,  372.34359822,\n",
       "        388.28133524,  641.13625561,  688.40093468,  869.19466922,\n",
       "        759.52498486,  729.72075358,  728.31303342,  709.7854361 ,\n",
       "        814.30380312,  744.33044163,  920.9310011 ,  866.73418149,\n",
       "        754.01238957,  813.11997327,  655.80233646,  749.79587392,\n",
       "        752.08029315,  795.94389038,  883.27908607,  810.40730325])"
      ]
     },
     "execution_count": 8,
     "metadata": {},
     "output_type": "execute_result"
    }
   ],
   "source": [
    "y_predict = cross_val_predict(model, x, y, cv=maxindex+1, n_jobs=-1)\n",
    "y_predict"
   ]
  },
  {
   "cell_type": "code",
   "execution_count": null,
   "metadata": {},
   "outputs": [],
   "source": []
  },
  {
   "cell_type": "code",
   "execution_count": null,
   "metadata": {},
   "outputs": [],
   "source": []
  },
  {
   "cell_type": "code",
   "execution_count": null,
   "metadata": {},
   "outputs": [],
   "source": []
  },
  {
   "cell_type": "code",
   "execution_count": null,
   "metadata": {},
   "outputs": [],
   "source": []
  }
 ],
 "metadata": {
  "kernelspec": {
   "display_name": "Python 3",
   "language": "python",
   "name": "python3"
  },
  "language_info": {
   "codemirror_mode": {
    "name": "ipython",
    "version": 3
   },
   "file_extension": ".py",
   "mimetype": "text/x-python",
   "name": "python",
   "nbconvert_exporter": "python",
   "pygments_lexer": "ipython3",
   "version": "3.11.7"
  }
 },
 "nbformat": 4,
 "nbformat_minor": 2
}
