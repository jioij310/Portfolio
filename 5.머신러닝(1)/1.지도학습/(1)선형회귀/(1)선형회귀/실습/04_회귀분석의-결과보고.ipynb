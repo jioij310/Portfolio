{
 "cells": [
  {
   "cell_type": "markdown",
   "metadata": {},
   "source": [
    "# 회귀분석의 결과 보고\n",
    "\n",
    "회귀분석을 통해 연구를 진행하는 논문은 아래의 표와 같은 형태로 결과 보고를 제시한다.\n",
    "\n",
    "![img](res/table.png)\n",
    "\n",
    "## #01. 준비작업\n",
    "\n",
    "### [1] 패키지 참조"
   ]
  },
  {
   "cell_type": "code",
   "execution_count": 2,
   "metadata": {},
   "outputs": [],
   "source": [
    "import warnings\n",
    "warnings.filterwarnings(action='ignore')\n",
    "\n",
    "from pandas import read_excel, DataFrame, MultiIndex\n",
    "\n",
    "# 회귀분석을 수행하는 통계패키지\n",
    "from statsmodels.formula.api import ols\n",
    "from statsmodels.stats.outliers_influence import variance_inflation_factor"
   ]
  },
  {
   "cell_type": "markdown",
   "metadata": {},
   "source": [
    "### [2] 데이터 가져오기\n",
    "\n",
    "자동차의 속도(speed)에 따른 제동거리(dist) 조사 데이터"
   ]
  },
  {
   "cell_type": "code",
   "execution_count": 3,
   "metadata": {},
   "outputs": [
    {
     "data": {
      "text/html": [
       "<div>\n",
       "<style scoped>\n",
       "    .dataframe tbody tr th:only-of-type {\n",
       "        vertical-align: middle;\n",
       "    }\n",
       "\n",
       "    .dataframe tbody tr th {\n",
       "        vertical-align: top;\n",
       "    }\n",
       "\n",
       "    .dataframe thead th {\n",
       "        text-align: right;\n",
       "    }\n",
       "</style>\n",
       "<table border=\"1\" class=\"dataframe\">\n",
       "  <thead>\n",
       "    <tr style=\"text-align: right;\">\n",
       "      <th></th>\n",
       "      <th>길이</th>\n",
       "      <th>높이</th>\n",
       "      <th>두께</th>\n",
       "      <th>무게</th>\n",
       "    </tr>\n",
       "  </thead>\n",
       "  <tbody>\n",
       "    <tr>\n",
       "      <th>0</th>\n",
       "      <td>8.4</td>\n",
       "      <td>2.11</td>\n",
       "      <td>1.41</td>\n",
       "      <td>5.9</td>\n",
       "    </tr>\n",
       "    <tr>\n",
       "      <th>1</th>\n",
       "      <td>13.7</td>\n",
       "      <td>3.53</td>\n",
       "      <td>2.00</td>\n",
       "      <td>32.0</td>\n",
       "    </tr>\n",
       "    <tr>\n",
       "      <th>2</th>\n",
       "      <td>15.0</td>\n",
       "      <td>3.82</td>\n",
       "      <td>2.43</td>\n",
       "      <td>40.0</td>\n",
       "    </tr>\n",
       "    <tr>\n",
       "      <th>3</th>\n",
       "      <td>16.2</td>\n",
       "      <td>4.59</td>\n",
       "      <td>2.63</td>\n",
       "      <td>51.5</td>\n",
       "    </tr>\n",
       "    <tr>\n",
       "      <th>4</th>\n",
       "      <td>17.4</td>\n",
       "      <td>4.59</td>\n",
       "      <td>2.94</td>\n",
       "      <td>70.0</td>\n",
       "    </tr>\n",
       "  </tbody>\n",
       "</table>\n",
       "</div>"
      ],
      "text/plain": [
       "     길이    높이    두께    무게\n",
       "0   8.4  2.11  1.41   5.9\n",
       "1  13.7  3.53  2.00  32.0\n",
       "2  15.0  3.82  2.43  40.0\n",
       "3  16.2  4.59  2.63  51.5\n",
       "4  17.4  4.59  2.94  70.0"
      ]
     },
     "execution_count": 3,
     "metadata": {},
     "output_type": "execute_result"
    }
   ],
   "source": [
    "origin = read_excel(\"C:/Users/Jihwan/Desktop/01Class/E.추론통계/E.InferentialStatistics/수업자료/fish.xlsx\")\n",
    "origin.head()"
   ]
  },
  {
   "cell_type": "markdown",
   "metadata": {},
   "source": [
    "## #02. 회귀분석\n",
    "\n",
    "### [1] 분석을 위한 학습모델 구성\n",
    "\n",
    "$y = ax + b$ 에 따라 `종속 ~ 독립` 형태로 표현식을 구성한다."
   ]
  },
  {
   "cell_type": "code",
   "execution_count": 3,
   "metadata": {},
   "outputs": [
    {
     "data": {
      "text/plain": [
       "<statsmodels.regression.linear_model.OLS at 0x1cb9a85cb50>"
      ]
     },
     "execution_count": 3,
     "metadata": {},
     "output_type": "execute_result"
    }
   ],
   "source": [
    "model = ols('dist ~ speed', data = origin)\n",
    "model"
   ]
  },
  {
   "cell_type": "markdown",
   "metadata": {},
   "source": [
    "### [2] 분석 수행"
   ]
  },
  {
   "cell_type": "code",
   "execution_count": 4,
   "metadata": {},
   "outputs": [
    {
     "data": {
      "text/plain": [
       "<statsmodels.regression.linear_model.RegressionResultsWrapper at 0x1cb9abadf10>"
      ]
     },
     "execution_count": 4,
     "metadata": {},
     "output_type": "execute_result"
    }
   ],
   "source": [
    "fit = model.fit()\n",
    "fit"
   ]
  },
  {
   "cell_type": "markdown",
   "metadata": {},
   "source": [
    "### [3] 분석결과 확인"
   ]
  },
  {
   "cell_type": "code",
   "execution_count": 5,
   "metadata": {},
   "outputs": [
    {
     "data": {
      "text/html": [
       "<table class=\"simpletable\">\n",
       "<caption>OLS Regression Results</caption>\n",
       "<tr>\n",
       "  <th>Dep. Variable:</th>          <td>dist</td>       <th>  R-squared:         </th> <td>   0.651</td>\n",
       "</tr>\n",
       "<tr>\n",
       "  <th>Model:</th>                   <td>OLS</td>       <th>  Adj. R-squared:    </th> <td>   0.644</td>\n",
       "</tr>\n",
       "<tr>\n",
       "  <th>Method:</th>             <td>Least Squares</td>  <th>  F-statistic:       </th> <td>   89.57</td>\n",
       "</tr>\n",
       "<tr>\n",
       "  <th>Date:</th>             <td>Wed, 07 Feb 2024</td> <th>  Prob (F-statistic):</th> <td>1.49e-12</td>\n",
       "</tr>\n",
       "<tr>\n",
       "  <th>Time:</th>                 <td>13:29:39</td>     <th>  Log-Likelihood:    </th> <td> -206.58</td>\n",
       "</tr>\n",
       "<tr>\n",
       "  <th>No. Observations:</th>      <td>    50</td>      <th>  AIC:               </th> <td>   417.2</td>\n",
       "</tr>\n",
       "<tr>\n",
       "  <th>Df Residuals:</th>          <td>    48</td>      <th>  BIC:               </th> <td>   421.0</td>\n",
       "</tr>\n",
       "<tr>\n",
       "  <th>Df Model:</th>              <td>     1</td>      <th>                     </th>     <td> </td>   \n",
       "</tr>\n",
       "<tr>\n",
       "  <th>Covariance Type:</th>      <td>nonrobust</td>    <th>                     </th>     <td> </td>   \n",
       "</tr>\n",
       "</table>\n",
       "<table class=\"simpletable\">\n",
       "<tr>\n",
       "      <td></td>         <th>coef</th>     <th>std err</th>      <th>t</th>      <th>P>|t|</th>  <th>[0.025</th>    <th>0.975]</th>  \n",
       "</tr>\n",
       "<tr>\n",
       "  <th>Intercept</th> <td>  -17.5791</td> <td>    6.758</td> <td>   -2.601</td> <td> 0.012</td> <td>  -31.168</td> <td>   -3.990</td>\n",
       "</tr>\n",
       "<tr>\n",
       "  <th>speed</th>     <td>    3.9324</td> <td>    0.416</td> <td>    9.464</td> <td> 0.000</td> <td>    3.097</td> <td>    4.768</td>\n",
       "</tr>\n",
       "</table>\n",
       "<table class=\"simpletable\">\n",
       "<tr>\n",
       "  <th>Omnibus:</th>       <td> 8.975</td> <th>  Durbin-Watson:     </th> <td>   1.676</td>\n",
       "</tr>\n",
       "<tr>\n",
       "  <th>Prob(Omnibus):</th> <td> 0.011</td> <th>  Jarque-Bera (JB):  </th> <td>   8.189</td>\n",
       "</tr>\n",
       "<tr>\n",
       "  <th>Skew:</th>          <td> 0.885</td> <th>  Prob(JB):          </th> <td>  0.0167</td>\n",
       "</tr>\n",
       "<tr>\n",
       "  <th>Kurtosis:</th>      <td> 3.893</td> <th>  Cond. No.          </th> <td>    50.7</td>\n",
       "</tr>\n",
       "</table><br/><br/>Notes:<br/>[1] Standard Errors assume that the covariance matrix of the errors is correctly specified."
      ],
      "text/latex": [
       "\\begin{center}\n",
       "\\begin{tabular}{lclc}\n",
       "\\toprule\n",
       "\\textbf{Dep. Variable:}    &       dist       & \\textbf{  R-squared:         } &     0.651   \\\\\n",
       "\\textbf{Model:}            &       OLS        & \\textbf{  Adj. R-squared:    } &     0.644   \\\\\n",
       "\\textbf{Method:}           &  Least Squares   & \\textbf{  F-statistic:       } &     89.57   \\\\\n",
       "\\textbf{Date:}             & Wed, 07 Feb 2024 & \\textbf{  Prob (F-statistic):} &  1.49e-12   \\\\\n",
       "\\textbf{Time:}             &     13:29:39     & \\textbf{  Log-Likelihood:    } &   -206.58   \\\\\n",
       "\\textbf{No. Observations:} &          50      & \\textbf{  AIC:               } &     417.2   \\\\\n",
       "\\textbf{Df Residuals:}     &          48      & \\textbf{  BIC:               } &     421.0   \\\\\n",
       "\\textbf{Df Model:}         &           1      & \\textbf{                     } &             \\\\\n",
       "\\textbf{Covariance Type:}  &    nonrobust     & \\textbf{                     } &             \\\\\n",
       "\\bottomrule\n",
       "\\end{tabular}\n",
       "\\begin{tabular}{lcccccc}\n",
       "                   & \\textbf{coef} & \\textbf{std err} & \\textbf{t} & \\textbf{P$> |$t$|$} & \\textbf{[0.025} & \\textbf{0.975]}  \\\\\n",
       "\\midrule\n",
       "\\textbf{Intercept} &     -17.5791  &        6.758     &    -2.601  &         0.012        &      -31.168    &       -3.990     \\\\\n",
       "\\textbf{speed}     &       3.9324  &        0.416     &     9.464  &         0.000        &        3.097    &        4.768     \\\\\n",
       "\\bottomrule\n",
       "\\end{tabular}\n",
       "\\begin{tabular}{lclc}\n",
       "\\textbf{Omnibus:}       &  8.975 & \\textbf{  Durbin-Watson:     } &    1.676  \\\\\n",
       "\\textbf{Prob(Omnibus):} &  0.011 & \\textbf{  Jarque-Bera (JB):  } &    8.189  \\\\\n",
       "\\textbf{Skew:}          &  0.885 & \\textbf{  Prob(JB):          } &   0.0167  \\\\\n",
       "\\textbf{Kurtosis:}      &  3.893 & \\textbf{  Cond. No.          } &     50.7  \\\\\n",
       "\\bottomrule\n",
       "\\end{tabular}\n",
       "%\\caption{OLS Regression Results}\n",
       "\\end{center}\n",
       "\n",
       "Notes: \\newline\n",
       " [1] Standard Errors assume that the covariance matrix of the errors is correctly specified."
      ],
      "text/plain": [
       "<class 'statsmodels.iolib.summary.Summary'>\n",
       "\"\"\"\n",
       "                            OLS Regression Results                            \n",
       "==============================================================================\n",
       "Dep. Variable:                   dist   R-squared:                       0.651\n",
       "Model:                            OLS   Adj. R-squared:                  0.644\n",
       "Method:                 Least Squares   F-statistic:                     89.57\n",
       "Date:                Wed, 07 Feb 2024   Prob (F-statistic):           1.49e-12\n",
       "Time:                        13:29:39   Log-Likelihood:                -206.58\n",
       "No. Observations:                  50   AIC:                             417.2\n",
       "Df Residuals:                      48   BIC:                             421.0\n",
       "Df Model:                           1                                         \n",
       "Covariance Type:            nonrobust                                         \n",
       "==============================================================================\n",
       "                 coef    std err          t      P>|t|      [0.025      0.975]\n",
       "------------------------------------------------------------------------------\n",
       "Intercept    -17.5791      6.758     -2.601      0.012     -31.168      -3.990\n",
       "speed          3.9324      0.416      9.464      0.000       3.097       4.768\n",
       "==============================================================================\n",
       "Omnibus:                        8.975   Durbin-Watson:                   1.676\n",
       "Prob(Omnibus):                  0.011   Jarque-Bera (JB):                8.189\n",
       "Skew:                           0.885   Prob(JB):                       0.0167\n",
       "Kurtosis:                       3.893   Cond. No.                         50.7\n",
       "==============================================================================\n",
       "\n",
       "Notes:\n",
       "[1] Standard Errors assume that the covariance matrix of the errors is correctly specified.\n",
       "\"\"\""
      ]
     },
     "execution_count": 5,
     "metadata": {},
     "output_type": "execute_result"
    }
   ],
   "source": [
    "tbl = fit.summary()\n",
    "tbl"
   ]
  },
  {
   "cell_type": "code",
   "execution_count": 6,
   "metadata": {},
   "outputs": [
    {
     "name": "stdout",
     "output_type": "stream",
     "text": [
      "                            OLS Regression Results                            \n",
      "==============================================================================\n",
      "Dep. Variable:                   dist   R-squared:                       0.651\n",
      "Model:                            OLS   Adj. R-squared:                  0.644\n",
      "Method:                 Least Squares   F-statistic:                     89.57\n",
      "Date:                Wed, 07 Feb 2024   Prob (F-statistic):           1.49e-12\n",
      "Time:                        13:29:39   Log-Likelihood:                -206.58\n",
      "No. Observations:                  50   AIC:                             417.2\n",
      "Df Residuals:                      48   BIC:                             421.0\n",
      "Df Model:                           1                                         \n",
      "Covariance Type:            nonrobust                                         \n",
      "==============================================================================\n",
      "                 coef    std err          t      P>|t|      [0.025      0.975]\n",
      "------------------------------------------------------------------------------\n",
      "Intercept    -17.5791      6.758     -2.601      0.012     -31.168      -3.990\n",
      "speed          3.9324      0.416      9.464      0.000       3.097       4.768\n",
      "==============================================================================\n",
      "Omnibus:                        8.975   Durbin-Watson:                   1.676\n",
      "Prob(Omnibus):                  0.011   Jarque-Bera (JB):                8.189\n",
      "Skew:                           0.885   Prob(JB):                       0.0167\n",
      "Kurtosis:                       3.893   Cond. No.                         50.7\n",
      "==============================================================================\n",
      "\n",
      "Notes:\n",
      "[1] Standard Errors assume that the covariance matrix of the errors is correctly specified.\n"
     ]
    }
   ],
   "source": [
    "print(tbl)"
   ]
  },
  {
   "cell_type": "markdown",
   "metadata": {},
   "source": [
    "## #03. 결과 해석\n",
    "\n",
    "출력되는 분석 결과표를 통해 모형적합도, 회귀계수, 각 요인에 대한 p값을 해석해야 한다.\n",
    "\n",
    "![img](res/result-all.png)\n",
    "\n",
    "### [1] 모형적합도 해석\n",
    "\n",
    "모형이 데이터에 잘 맞는 정도를 보여주는 지표\n",
    "\n",
    "| 번호 | 이름 | 설명 |\n",
    "|:---:|---|---|\n",
    "| ① | R-squared | R제곱, 결정계수<br/>모형의 설명력을 의미<br/>dist 제동거리를 speed가 약 65% 설명한다. (각 사례마다 dist에 차이가 있다.) |\n",
    "| ② | Adj. R-squared | 독립변수의 개수와 표본의 크기를 고려하여 R-squared를 보정한 값.<br/>서로 다른 모형을 비교할 때는 이 지표가 높은 쪽은 선택한다.<br/>독립변수가 여러 개인 다중회귀분석에서 사용 |\n",
    "| ③ | F-statistic | 회귀모형에 대한 (통계적) 유의미성 검증 결과 |\n",
    "| ④ | Prob(F-statistic) | F-statistic에 대한 p-value. <br/>유의미함 (p < 0.05) |\n",
    "| ⑤ | Log-Likelihood | 로그 우도: 종속변수가 정규분포라고 가정했을 때의 우도 |\n",
    "| ⑥ | AIC, BIC | 로그우도를 독립변수의 수로 보정한 값 (작을 수록 좋다) |\n",
    "\n",
    "### [2] 회귀계수(coef) 해석\n",
    "\n",
    "| 번호 | 이름 | 설명 |\n",
    "|:---:|---|---|\n",
    "| ⑦ | 절편(Intercept) | speed가 0일 때 dist의 값 |\n",
    "| ⑧ | 기울기 | 독립변수인 speed가 1 증가할 때마다 dist가 3.9324 증가한다는 것을 의미 |\n",
    "\n",
    "#### 회귀계수를 수식으로 정리\n",
    "\n",
    "$dist = ⑧ \\times speed + ⑦$\n",
    "\n",
    "> dist = ⑧ \\times speed + ⑦\n",
    "\n",
    "즉, \n",
    "\n",
    "$dist = 3.9324 \\times speed - 17.5791$\n",
    "\n",
    "> dist = 3.9324 \\times speed - 17.5791\n",
    "\n",
    "### [3] p값\n",
    "\n",
    "| 번호 | 이름 | 설명 |\n",
    "|:---:|---|---|\n",
    "| ⑨ | p값 | 모집단에서 계수가 0일 때, 현재와 같은 크기의 표본에서 이러한 계수가 추정될 확률 |\n",
    "\n",
    "이 확률이 매우 작다는 것은, 모집단에서 speed의 계수가 정확히 3.9324는 아니더라도 현재의 표본과 비슷하게 0보다 큰 어떤 범위에 있을 가능성이 높다는 것을 의미\n",
    "\n",
    "보통 5%와 같은 유의수준을 정하여 p값이 그보다 작으면(p < 0.05), \"통계적으로 유의미하다\"라고 정리\n",
    "\n",
    "> speed가 증가할 때 기대되는 dist의 변화는 유의수준 5%에서 통계적으로 유의하다."
   ]
  },
  {
   "cell_type": "markdown",
   "metadata": {},
   "source": [
    "## #04. 결과 보고\n",
    "\n",
    "### [1] 모형적합도 보고\n",
    "\n",
    "F분포의 파라미터 2개와 그 때의 F값, p-value의 유의수준 비교를 명시\n",
    "\n",
    "$F(⑩, ⑪) = ③, p \\lt 0.05%$\n",
    "\n",
    "#### 모형적합도 보고 예시\n",
    "\n",
    "> dist에 대하여 speed로 예측하는 회귀분석을 실시한 결과, 이 회귀모형은 통계적으로 유의미하였다.\n",
    "> \n",
    "> $(F(1,48) = 89.57, p < 0.05)$\n",
    "\n",
    "\n",
    "### [2] 독립변수에 대해 보고\n",
    "\n",
    "$t(⑪) = ⑫, p < 0.05$\n",
    "\n",
    "\n",
    "#### 독립변수 보고 예시\n",
    "\n",
    "> speed의 회귀계수는 3.9324로, dist에 대하여 유의미한 예측변인인 것으로 나타났다.\n",
    "> \n",
    "> $(t(48) = 9.464, p < 0.05)$"
   ]
  },
  {
   "cell_type": "markdown",
   "metadata": {},
   "source": [
    "## #05. 회귀분석 결과 다루기\n",
    "\n",
    "### [1] 결과표 유형 확인\n",
    "\n",
    "#### 데이터 타입"
   ]
  },
  {
   "cell_type": "code",
   "execution_count": 7,
   "metadata": {},
   "outputs": [
    {
     "data": {
      "text/plain": [
       "statsmodels.iolib.summary.Summary"
      ]
     },
     "execution_count": 7,
     "metadata": {},
     "output_type": "execute_result"
    }
   ],
   "source": [
    "type(tbl)"
   ]
  },
  {
   "cell_type": "markdown",
   "metadata": {},
   "source": [
    "#### 속성 확인"
   ]
  },
  {
   "cell_type": "code",
   "execution_count": 8,
   "metadata": {},
   "outputs": [
    {
     "data": {
      "text/plain": [
       "['__class__',\n",
       " '__delattr__',\n",
       " '__dict__',\n",
       " '__dir__',\n",
       " '__doc__',\n",
       " '__eq__',\n",
       " '__format__',\n",
       " '__ge__',\n",
       " '__getattribute__',\n",
       " '__getstate__',\n",
       " '__gt__',\n",
       " '__hash__',\n",
       " '__init__',\n",
       " '__init_subclass__',\n",
       " '__le__',\n",
       " '__lt__',\n",
       " '__module__',\n",
       " '__ne__',\n",
       " '__new__',\n",
       " '__reduce__',\n",
       " '__reduce_ex__',\n",
       " '__repr__',\n",
       " '__setattr__',\n",
       " '__sizeof__',\n",
       " '__str__',\n",
       " '__subclasshook__',\n",
       " '__weakref__',\n",
       " '_repr_html_',\n",
       " '_repr_latex_',\n",
       " 'add_extra_txt',\n",
       " 'add_table_2cols',\n",
       " 'add_table_params',\n",
       " 'as_csv',\n",
       " 'as_html',\n",
       " 'as_latex',\n",
       " 'as_text',\n",
       " 'extra_txt',\n",
       " 'tables']"
      ]
     },
     "execution_count": 8,
     "metadata": {},
     "output_type": "execute_result"
    }
   ],
   "source": [
    "dir(tbl)"
   ]
  },
  {
   "cell_type": "markdown",
   "metadata": {},
   "source": [
    "#### 예상되는 프로퍼티 확인"
   ]
  },
  {
   "cell_type": "code",
   "execution_count": 9,
   "metadata": {},
   "outputs": [
    {
     "data": {
      "text/plain": [
       "[<class 'statsmodels.iolib.table.SimpleTable'>,\n",
       " <class 'statsmodels.iolib.table.SimpleTable'>,\n",
       " <class 'statsmodels.iolib.table.SimpleTable'>]"
      ]
     },
     "execution_count": 9,
     "metadata": {},
     "output_type": "execute_result"
    }
   ],
   "source": [
    "tbl.tables"
   ]
  },
  {
   "cell_type": "code",
   "execution_count": 10,
   "metadata": {},
   "outputs": [
    {
     "name": "stdout",
     "output_type": "stream",
     "text": [
      "                            OLS Regression Results                            \n",
      "==============================================================================\n",
      "Dep. Variable:                   dist   R-squared:                       0.651\n",
      "Model:                            OLS   Adj. R-squared:                  0.644\n",
      "Method:                 Least Squares   F-statistic:                     89.57\n",
      "Date:                Wed, 07 Feb 2024   Prob (F-statistic):           1.49e-12\n",
      "Time:                        13:29:39   Log-Likelihood:                -206.58\n",
      "No. Observations:                  50   AIC:                             417.2\n",
      "Df Residuals:                      48   BIC:                             421.0\n",
      "Df Model:                           1                                         \n",
      "Covariance Type:            nonrobust                                         \n",
      "==============================================================================\n",
      "==============================================================================\n",
      "                 coef    std err          t      P>|t|      [0.025      0.975]\n",
      "------------------------------------------------------------------------------\n",
      "Intercept    -17.5791      6.758     -2.601      0.012     -31.168      -3.990\n",
      "speed          3.9324      0.416      9.464      0.000       3.097       4.768\n",
      "==============================================================================\n",
      "==============================================================================\n",
      "Omnibus:                        8.975   Durbin-Watson:                   1.676\n",
      "Prob(Omnibus):                  0.011   Jarque-Bera (JB):                8.189\n",
      "Skew:                           0.885   Prob(JB):                       0.0167\n",
      "Kurtosis:                       3.893   Cond. No.                         50.7\n",
      "==============================================================================\n"
     ]
    }
   ],
   "source": [
    "for i in tbl.tables:\n",
    "    print(i)"
   ]
  },
  {
   "cell_type": "code",
   "execution_count": 14,
   "metadata": {},
   "outputs": [
    {
     "data": {
      "text/html": [
       "<table class=\"simpletable\">\n",
       "<caption>OLS Regression Results</caption>\n",
       "<tr>\n",
       "  <th>Dep. Variable:</th>          <td>dist</td>       <th>  R-squared:         </th> <td>   0.651</td>\n",
       "</tr>\n",
       "<tr>\n",
       "  <th>Model:</th>                   <td>OLS</td>       <th>  Adj. R-squared:    </th> <td>   0.644</td>\n",
       "</tr>\n",
       "<tr>\n",
       "  <th>Method:</th>             <td>Least Squares</td>  <th>  F-statistic:       </th> <td>   89.57</td>\n",
       "</tr>\n",
       "<tr>\n",
       "  <th>Date:</th>             <td>Wed, 07 Feb 2024</td> <th>  Prob (F-statistic):</th> <td>1.49e-12</td>\n",
       "</tr>\n",
       "<tr>\n",
       "  <th>Time:</th>                 <td>13:29:39</td>     <th>  Log-Likelihood:    </th> <td> -206.58</td>\n",
       "</tr>\n",
       "<tr>\n",
       "  <th>No. Observations:</th>      <td>    50</td>      <th>  AIC:               </th> <td>   417.2</td>\n",
       "</tr>\n",
       "<tr>\n",
       "  <th>Df Residuals:</th>          <td>    48</td>      <th>  BIC:               </th> <td>   421.0</td>\n",
       "</tr>\n",
       "<tr>\n",
       "  <th>Df Model:</th>              <td>     1</td>      <th>                     </th>     <td> </td>   \n",
       "</tr>\n",
       "<tr>\n",
       "  <th>Covariance Type:</th>      <td>nonrobust</td>    <th>                     </th>     <td> </td>   \n",
       "</tr>\n",
       "</table>"
      ],
      "text/latex": [
       "\\begin{center}\n",
       "\\begin{tabular}{lclc}\n",
       "\\toprule\n",
       "\\textbf{Dep. Variable:}    &       dist       & \\textbf{  R-squared:         } &    0.651  \\\\\n",
       "\\textbf{Model:}            &       OLS        & \\textbf{  Adj. R-squared:    } &    0.644  \\\\\n",
       "\\textbf{Method:}           &  Least Squares   & \\textbf{  F-statistic:       } &    89.57  \\\\\n",
       "\\textbf{Date:}             & Wed, 07 Feb 2024 & \\textbf{  Prob (F-statistic):} & 1.49e-12  \\\\\n",
       "\\textbf{Time:}             &     13:29:39     & \\textbf{  Log-Likelihood:    } &  -206.58  \\\\\n",
       "\\textbf{No. Observations:} &          50      & \\textbf{  AIC:               } &    417.2  \\\\\n",
       "\\textbf{Df Residuals:}     &          48      & \\textbf{  BIC:               } &    421.0  \\\\\n",
       "\\textbf{Df Model:}         &           1      & \\textbf{                     } &           \\\\\n",
       "\\textbf{Covariance Type:}  &    nonrobust     & \\textbf{                     } &           \\\\\n",
       "\\bottomrule\n",
       "\\end{tabular}\n",
       "%\\caption{OLS Regression Results}\n",
       "\\end{center}"
      ],
      "text/plain": [
       "<class 'statsmodels.iolib.table.SimpleTable'>"
      ]
     },
     "execution_count": 14,
     "metadata": {},
     "output_type": "execute_result"
    }
   ],
   "source": [
    "tbl.tables[0]"
   ]
  },
  {
   "cell_type": "code",
   "execution_count": 22,
   "metadata": {},
   "outputs": [
    {
     "data": {
      "text/html": [
       "<table class=\"simpletable\">\n",
       "<tr>\n",
       "      <td></td>         <th>coef</th>     <th>std err</th>      <th>t</th>      <th>P>|t|</th>  <th>[0.025</th>    <th>0.975]</th>  \n",
       "</tr>\n",
       "<tr>\n",
       "  <th>Intercept</th> <td>  -17.5791</td> <td>    6.758</td> <td>   -2.601</td> <td> 0.012</td> <td>  -31.168</td> <td>   -3.990</td>\n",
       "</tr>\n",
       "<tr>\n",
       "  <th>speed</th>     <td>    3.9324</td> <td>    0.416</td> <td>    9.464</td> <td> 0.000</td> <td>    3.097</td> <td>    4.768</td>\n",
       "</tr>\n",
       "</table>"
      ],
      "text/latex": [
       "\\begin{center}\n",
       "\\begin{tabular}{lcccccc}\n",
       "\\toprule\n",
       "                   & \\textbf{coef} & \\textbf{std err} & \\textbf{t} & \\textbf{P$> |$t$|$} & \\textbf{[0.025} & \\textbf{0.975]}  \\\\\n",
       "\\midrule\n",
       "\\textbf{Intercept} &     -17.5791  &        6.758     &    -2.601  &         0.012        &      -31.168    &       -3.990     \\\\\n",
       "\\textbf{speed}     &       3.9324  &        0.416     &     9.464  &         0.000        &        3.097    &        4.768     \\\\\n",
       "\\bottomrule\n",
       "\\end{tabular}\n",
       "\\end{center}"
      ],
      "text/plain": [
       "<class 'statsmodels.iolib.table.SimpleTable'>"
      ]
     },
     "execution_count": 22,
     "metadata": {},
     "output_type": "execute_result"
    }
   ],
   "source": [
    "tbl.tables[1]"
   ]
  },
  {
   "cell_type": "code",
   "execution_count": 23,
   "metadata": {},
   "outputs": [
    {
     "data": {
      "text/html": [
       "<table class=\"simpletable\">\n",
       "<tr>\n",
       "  <th>Omnibus:</th>       <td> 8.975</td> <th>  Durbin-Watson:     </th> <td>   1.676</td>\n",
       "</tr>\n",
       "<tr>\n",
       "  <th>Prob(Omnibus):</th> <td> 0.011</td> <th>  Jarque-Bera (JB):  </th> <td>   8.189</td>\n",
       "</tr>\n",
       "<tr>\n",
       "  <th>Skew:</th>          <td> 0.885</td> <th>  Prob(JB):          </th> <td>  0.0167</td>\n",
       "</tr>\n",
       "<tr>\n",
       "  <th>Kurtosis:</th>      <td> 3.893</td> <th>  Cond. No.          </th> <td>    50.7</td>\n",
       "</tr>\n",
       "</table>"
      ],
      "text/latex": [
       "\\begin{center}\n",
       "\\begin{tabular}{lclc}\n",
       "\\toprule\n",
       "\\textbf{Omnibus:}       &  8.975 & \\textbf{  Durbin-Watson:     } &    1.676  \\\\\n",
       "\\textbf{Prob(Omnibus):} &  0.011 & \\textbf{  Jarque-Bera (JB):  } &    8.189  \\\\\n",
       "\\textbf{Skew:}          &  0.885 & \\textbf{  Prob(JB):          } &   0.0167  \\\\\n",
       "\\textbf{Kurtosis:}      &  3.893 & \\textbf{  Cond. No.          } &     50.7  \\\\\n",
       "\\bottomrule\n",
       "\\end{tabular}\n",
       "\\end{center}"
      ],
      "text/plain": [
       "<class 'statsmodels.iolib.table.SimpleTable'>"
      ]
     },
     "execution_count": 23,
     "metadata": {},
     "output_type": "execute_result"
    }
   ],
   "source": [
    "tbl.tables[2]"
   ]
  },
  {
   "cell_type": "markdown",
   "metadata": {},
   "source": [
    "### [2] 첫 번째, 세번째 표의 내용"
   ]
  },
  {
   "cell_type": "code",
   "execution_count": 18,
   "metadata": {},
   "outputs": [
    {
     "data": {
      "text/plain": [
       "{'Dep. Variable': 'dist',\n",
       " 'R-squared': '0.651',\n",
       " 'Model': 'OLS',\n",
       " 'Adj. R-squared': '0.644',\n",
       " 'Method': 'Least Squares',\n",
       " 'F-statistic': '89.57',\n",
       " 'Date': 'Wed, 07 Feb 2024',\n",
       " 'Prob (F-statistic)': '1.49e-12',\n",
       " 'Time': '13:29:39',\n",
       " 'Log-Likelihood': '-206.58',\n",
       " 'No. Observations': '50',\n",
       " 'AIC': '417.2',\n",
       " 'Df Residuals': '48',\n",
       " 'BIC': '421.0',\n",
       " 'Df Model': '1',\n",
       " 'Covariance Type': 'nonrobust',\n",
       " 'Omnibus': '8.975',\n",
       " 'Durbin-Watson': '1.676',\n",
       " 'Prob(Omnibus)': '0.011',\n",
       " 'Jarque-Bera (JB)': '8.189',\n",
       " 'Skew': '0.885',\n",
       " 'Prob(JB)': '0.0167',\n",
       " 'Kurtosis': '3.893',\n",
       " 'Cond. No': '50.7'}"
      ]
     },
     "execution_count": 18,
     "metadata": {},
     "output_type": "execute_result"
    }
   ],
   "source": [
    "my = {}\n",
    "\n",
    "for k in [0,2]:\n",
    "    items = tbl.tables[k].data\n",
    "    #print(items)\n",
    "    \n",
    "    for item in items:\n",
    "        # print(item)\n",
    "        n = len(item)\n",
    "\n",
    "        for i in range(0,n,2):\n",
    "            key = item[i].strip()[:-1]\n",
    "            value = item[i+1].strip()\n",
    "\n",
    "            if key and value:\n",
    "                my[key] = value\n",
    "\n",
    "my"
   ]
  },
  {
   "cell_type": "markdown",
   "metadata": {},
   "source": [
    "### [3] VIF값 생성\n",
    "\n",
    "#### (1) 단일 결과값을 확인하기 위한 실험"
   ]
  },
  {
   "cell_type": "code",
   "execution_count": 19,
   "metadata": {},
   "outputs": [
    {
     "name": "stdout",
     "output_type": "stream",
     "text": [
      "dist의 VIF: 9.642207 (good)\n"
     ]
    }
   ],
   "source": [
    "vif = variance_inflation_factor(origin , 1)\n",
    "\n",
    "if vif < 10:\n",
    "    print('%s의 VIF: %f (good)' % (origin.columns[1],vif))\n",
    "else:\n",
    "    print('%s의 VIF: %f (bad)' % (origin.columns[1],vif))"
   ]
  },
  {
   "cell_type": "markdown",
   "metadata": {},
   "source": [
    "#### (2) 모든 변수에 대한 처리"
   ]
  },
  {
   "cell_type": "code",
   "execution_count": 28,
   "metadata": {},
   "outputs": [
    {
     "data": {
      "text/plain": [
       "[{'name': 'speed',\n",
       "  'coef': '3.9324',\n",
       "  'std err': '0.416',\n",
       "  't': '9.464',\n",
       "  'p-value': '0.000',\n",
       "  'Beta': 0,\n",
       "  'VIF': 9.642207177996063}]"
      ]
     },
     "execution_count": 28,
     "metadata": {},
     "output_type": "execute_result"
    }
   ],
   "source": [
    "my['variables'] = []\n",
    "name_list = list(origin.columns)\n",
    "\n",
    "for i,v in enumerate(tbl.tables[1].data):\n",
    "    #print(v)\n",
    "\n",
    "    # 변수의 이름\n",
    "    name = v[0].strip()\n",
    "    #print(name)\n",
    "\n",
    "    if name not in name_list:\n",
    "        continue\n",
    "\n",
    "    j = name_list.index(name)\n",
    "\n",
    "    vif = variance_inflation_factor(origin, j)\n",
    "\n",
    "    my['variables'].append({\n",
    "        'name': name,\n",
    "        'coef': v[1].strip(),\n",
    "        'std err': v[2].strip(),\n",
    "        't': v[3].strip(),\n",
    "        'p-value': v[4].strip(),\n",
    "        'Beta': 0,\n",
    "        'VIF': vif,\n",
    "    })\n",
    "\n",
    "my['variables']"
   ]
  },
  {
   "cell_type": "markdown",
   "metadata": {},
   "source": [
    "### [4] 결과보고표 만들기"
   ]
  },
  {
   "cell_type": "code",
   "execution_count": 32,
   "metadata": {},
   "outputs": [
    {
     "data": {
      "text/html": [
       "<div>\n",
       "<style scoped>\n",
       "    .dataframe tbody tr th:only-of-type {\n",
       "        vertical-align: middle;\n",
       "    }\n",
       "\n",
       "    .dataframe tbody tr th {\n",
       "        vertical-align: top;\n",
       "    }\n",
       "\n",
       "    .dataframe thead th {\n",
       "        text-align: right;\n",
       "    }\n",
       "</style>\n",
       "<table border=\"1\" class=\"dataframe\">\n",
       "  <thead>\n",
       "    <tr style=\"text-align: right;\">\n",
       "      <th></th>\n",
       "      <th></th>\n",
       "      <th>B</th>\n",
       "      <th>표준오차</th>\n",
       "      <th>β</th>\n",
       "      <th>t</th>\n",
       "      <th>유의확률</th>\n",
       "      <th>VIF</th>\n",
       "    </tr>\n",
       "    <tr>\n",
       "      <th>종속변수</th>\n",
       "      <th>독립변수</th>\n",
       "      <th></th>\n",
       "      <th></th>\n",
       "      <th></th>\n",
       "      <th></th>\n",
       "      <th></th>\n",
       "      <th></th>\n",
       "    </tr>\n",
       "  </thead>\n",
       "  <tbody>\n",
       "    <tr>\n",
       "      <th>dist</th>\n",
       "      <th>speed</th>\n",
       "      <td>3.9324</td>\n",
       "      <td>0.416</td>\n",
       "      <td>0</td>\n",
       "      <td>9.464</td>\n",
       "      <td>0.000*</td>\n",
       "      <td>9.642207</td>\n",
       "    </tr>\n",
       "  </tbody>\n",
       "</table>\n",
       "</div>"
      ],
      "text/plain": [
       "                 B   표준오차  β      t    유의확률       VIF\n",
       "종속변수 독립변수                                            \n",
       "dist speed  3.9324  0.416  0  9.464  0.000*  9.642207"
      ]
     },
     "execution_count": 32,
     "metadata": {},
     "output_type": "execute_result"
    }
   ],
   "source": [
    "mylist = []\n",
    "yname_list = []\n",
    "xname_list = []\n",
    "\n",
    "for i in my['variables']:\n",
    "    #print(i)\n",
    "    yname_list.append('dist')\n",
    "    xname_list.append(i['name'])\n",
    "\n",
    "    item = {\n",
    "        'B': i['coef'],\n",
    "        '표준오차': i['std err'],\n",
    "        'β': i['Beta'],\n",
    "        't': i['t'],\n",
    "        '유의확률': '%s*' % i['p-value'],\n",
    "        'VIF': i['VIF']\n",
    "    }\n",
    "    \n",
    "    mylist.append(item)\n",
    "\n",
    "rdf = DataFrame(mylist,\n",
    "                index = MultiIndex.from_arrays([yname_list, xname_list], names = ['종속변수','독립변수']))\n",
    "rdf"
   ]
  },
  {
   "cell_type": "markdown",
   "metadata": {},
   "source": [
    "### [5] 분석결과 문자열"
   ]
  },
  {
   "cell_type": "code",
   "execution_count": 35,
   "metadata": {},
   "outputs": [
    {
     "data": {
      "text/plain": [
       "'R(0.651), R^2(0.644), F(89.57), 유의확률(1.49e-12), Durbin-Watson(1.676)'"
      ]
     },
     "execution_count": 35,
     "metadata": {},
     "output_type": "execute_result"
    }
   ],
   "source": [
    "'R(%s), R^2(%s), F(%s), 유의확률(%s), Durbin-Watson(%s)' % (my['R-squared'],my['Adj. R-squared'],my['F-statistic'], my['Prob (F-statistic)'], my['Durbin-Watson'])"
   ]
  },
  {
   "cell_type": "markdown",
   "metadata": {},
   "source": [
    "### [6] 모형 적합도 보고 문장"
   ]
  },
  {
   "cell_type": "code",
   "execution_count": 37,
   "metadata": {},
   "outputs": [
    {
     "data": {
      "text/plain": [
       "'dist에 대하여 speed로 예측하는 회귀분석을 실시한 결과, 이 회귀모형은 통게적으로 유의하다(F(1,48) = 89.57,p < 0.05).'"
      ]
     },
     "execution_count": 37,
     "metadata": {},
     "output_type": "execute_result"
    }
   ],
   "source": [
    "'%s에 대하여 %s로 예측하는 회귀분석을 실시한 결과, 이 회귀모형은 통게적으로 %s(F(%s,%s) = %s,p < 0.05).' % (\n",
    "    'dist',\n",
    "    ','.join(xname_list),\n",
    "    '유의하다' if float(my['Prob (F-statistic)']) < 0.05 else '유의하지 않다',\n",
    "    my['Df Model'],\n",
    "    my['Df Residuals'],\n",
    "    my['F-statistic']\n",
    ")"
   ]
  },
  {
   "cell_type": "markdown",
   "metadata": {},
   "source": [
    "### [7] 독립변수 보고"
   ]
  },
  {
   "cell_type": "code",
   "execution_count": 39,
   "metadata": {},
   "outputs": [
    {
     "data": {
      "text/plain": [
       "['speed의 회귀계수는 3.9324(p<0.05)로, dist에 대하여 유의미한 예측변인인 것으로 나타났다.']"
      ]
     },
     "execution_count": 39,
     "metadata": {},
     "output_type": "execute_result"
    }
   ],
   "source": [
    "varstr = []\n",
    "\n",
    "for i, v in enumerate(my['variables']):\n",
    "    #print(v)\n",
    "\n",
    "    s = '%s의 회귀계수는 %s(p%s0.05)로, %s에 대하여 %s.'\n",
    "    k = s % (v['name'],\n",
    "             v['coef'],\n",
    "             '<' if float(v['p-value']) < 0.05 else '>',\n",
    "             'dist',\n",
    "             '유의미한 예측변인인 것으로 나타났다' if float(v['p-value']) < 0.05 else '유의하지 않은 예측변인인 것으로 나타났다.'\n",
    "    )\n",
    "\n",
    "    varstr.append(k)\n",
    "\n",
    "varstr"
   ]
  }
 ],
 "metadata": {
  "kernelspec": {
   "display_name": "Python 3",
   "language": "python",
   "name": "python3"
  },
  "language_info": {
   "codemirror_mode": {
    "name": "ipython",
    "version": 3
   },
   "file_extension": ".py",
   "mimetype": "text/x-python",
   "name": "python",
   "nbconvert_exporter": "python",
   "pygments_lexer": "ipython3",
   "version": "3.11.7"
  }
 },
 "nbformat": 4,
 "nbformat_minor": 2
}
