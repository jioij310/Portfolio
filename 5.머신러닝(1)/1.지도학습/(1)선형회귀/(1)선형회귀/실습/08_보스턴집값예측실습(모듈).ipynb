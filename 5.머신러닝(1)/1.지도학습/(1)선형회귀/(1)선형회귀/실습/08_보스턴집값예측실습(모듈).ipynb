{
 "cells": [
  {
   "cell_type": "markdown",
   "metadata": {},
   "source": [
    "# 보스턴 집값 예측\n",
    "\n",
    "## #01. 준비작업\n",
    "\n",
    "### [1] 패키지 참조"
   ]
  },
  {
   "cell_type": "code",
   "execution_count": 11,
   "metadata": {},
   "outputs": [],
   "source": [
    "import sys\n",
    "import os\n",
    "work_path = os.path.abspath(os.path.join(os.getcwd(), '../../../../'))\n",
    "sys.path.append(work_path)\n",
    "from helper.regression import *\n",
    "from helper.plot import *\n",
    "from helper.util import *\n",
    "from helper.analysis import *"
   ]
  },
  {
   "cell_type": "markdown",
   "metadata": {},
   "source": [
    "### [3] 데이터 가져오기"
   ]
  },
  {
   "cell_type": "code",
   "execution_count": 3,
   "metadata": {},
   "outputs": [
    {
     "name": "stdout",
     "output_type": "stream",
     "text": [
      "+----+---------+------+---------+--------+-------+-------+-------+--------+-------+-------+-----------+--------+---------+--------+\n",
      "|    |    CRIM |   ZN |   INDUS |   CHAS |   NOX |    RM |   AGE |    DIS |   RAD |   TAX |   PTRATIO |      B |   LSTAT |   MEDV |\n",
      "|----+---------+------+---------+--------+-------+-------+-------+--------+-------+-------+-----------+--------+---------+--------|\n",
      "|  0 | 0.00632 |   18 |    2.31 |      0 | 0.538 | 6.575 |  65.2 |   4.09 |     1 |   296 |      15.3 |  396.9 |    4.98 |     24 |\n",
      "|  1 | 0.02731 |    0 |    7.07 |      0 | 0.469 | 6.421 |  78.9 | 4.9671 |     2 |   242 |      17.8 |  396.9 |    9.14 |   21.6 |\n",
      "|  2 | 0.02729 |    0 |    7.07 |      0 | 0.469 | 7.185 |  61.1 | 4.9671 |     2 |   242 |      17.8 | 392.83 |    4.03 |   34.7 |\n",
      "|  3 | 0.03237 |    0 |    2.18 |      0 | 0.458 | 6.998 |  45.8 | 6.0622 |     3 |   222 |      18.7 | 394.63 |    2.94 |   33.4 |\n",
      "|  4 | 0.06905 |    0 |    2.18 |      0 | 0.458 | 7.147 |  54.2 | 6.0622 |     3 |   222 |      18.7 |  396.9 |    5.33 |   36.2 |\n",
      "+----+---------+------+---------+--------+-------+-------+-------+--------+-------+-------+-----------+--------+---------+--------+\n"
     ]
    }
   ],
   "source": [
    "origin = my_read_excel('C:/Users/Jihwan/Desktop/01Class/E.추론통계/E.InferentialStatistics/수업자료/boston.xlsx',info=False)\n",
    "my_pretty_table(origin.head())"
   ]
  },
  {
   "cell_type": "markdown",
   "metadata": {},
   "source": [
    "## #02. 데이터 전처리\n",
    "\n",
    "### [1] 데이터 분할"
   ]
  },
  {
   "cell_type": "code",
   "execution_count": 4,
   "metadata": {},
   "outputs": [
    {
     "data": {
      "text/plain": [
       "((354, 13), (354,), (152, 13), (152,))"
      ]
     },
     "execution_count": 4,
     "metadata": {},
     "output_type": "execute_result"
    }
   ],
   "source": [
    "x_train, x_test, y_train, y_test = my_train_test_split(origin, yname=\"MEDV\"\n",
    ", scalling=True)\n",
    "x_train.shape, y_train.shape, x_test.shape, y_test.shape"
   ]
  },
  {
   "cell_type": "markdown",
   "metadata": {},
   "source": [
    "## #03. 선형회귀\n",
    "\n",
    "### [1] 전체 변수에 대한 분석"
   ]
  },
  {
   "cell_type": "code",
   "execution_count": 13,
   "metadata": {},
   "outputs": [
    {
     "name": "stdout",
     "output_type": "stream",
     "text": [
      "MEDV = -0.928 * CRIM + 0.917 * ZN + 0.515 * INDUS + 0.062 * CHAS + -1.631 * NOX + 3.420 * RM + -0.211 * AGE + -2.819 * DIS + 2.308 * RAD + -2.167 * TAX + -2.038 * PTRATIO + 0.564 * B + -3.509 * LSTAT + 22.762\n",
      "+------------+----------------+---------------------+---------------------+------------------+---------------------------------+-----------------------+\n",
      "|            |   결정계수(R2) |   평균절대오차(MAE) |   평균제곱오차(MSE) |   평균오차(RMSE) |   평균 절대 백분오차 비율(MAPE) |   평균 비율 오차(MPE) |\n",
      "|------------+----------------+---------------------+---------------------+------------------+---------------------------------+-----------------------|\n",
      "| 훈련데이터 |       0.764716 |               3.122 |             20.1843 |           4.4927 |                         15.7464 |                   nan |\n",
      "| 검증데이터 |       0.648565 |             3.69136 |             28.4059 |          5.32971 |                            19.7 |              -5.42941 |\n",
      "+------------+----------------+---------------------+---------------------+------------------+---------------------------------+-----------------------+\n",
      "[훈련데이터에 대한 결과보고]\n",
      "+----+------------+------------+--------------------+------------+------------------+--------+------------+---------+\n",
      "|    | 종속변수   | 독립변수   |   B(비표준화 계수) |   표준오차 |   β(표준화 계수) |      t |   유의확률 |     VIF |\n",
      "|----+------------+------------+--------------------+------------+------------------+--------+------------+---------|\n",
      "|  0 | MEDV       | CRIM       |            -0.9281 |      0.319 |             -0.1 | -2.909 |      0.004 |  1.7149 |\n",
      "|  1 | MEDV       | ZN         |             0.9173 |       0.36 |            0.099 |  2.551 |      0.011 | 2.17798 |\n",
      "|  2 | MEDV       | INDUS      |             0.5148 |      0.493 |            0.056 |  1.045 |      0.297 | 4.08948 |\n",
      "|  3 | MEDV       | CHAS       |             0.0625 |      0.251 |            0.007 |  0.249 |      0.804 | 1.06165 |\n",
      "|  4 | MEDV       | NOX        |            -1.6306 |      0.523 |           -0.176 | -3.121 |      0.002 | 4.59872 |\n",
      "|  5 | MEDV       | RM         |             3.4203 |      0.343 |            0.369 |  9.971 |          0 | 1.98224 |\n",
      "|  6 | MEDV       | AGE        |            -0.2107 |      0.432 |           -0.023 | -0.488 |      0.626 | 3.13711 |\n",
      "|  7 | MEDV       | DIS        |            -2.8192 |       0.48 |           -0.304 | -5.879 |          0 | 3.87386 |\n",
      "|  8 | MEDV       | RAD        |             2.3081 |      0.631 |            0.249 |   3.66 |          0 | 6.70046 |\n",
      "|  9 | MEDV       | TAX        |            -2.1666 |      0.708 |           -0.234 | -3.059 |      0.002 | 8.44969 |\n",
      "| 10 | MEDV       | PTRATIO    |            -2.0379 |       0.32 |            -0.22 | -6.372 |          0 | 1.72311 |\n",
      "| 11 | MEDV       | B          |              0.564 |      0.287 |            0.061 |  1.965 |       0.05 | 1.38805 |\n",
      "| 12 | MEDV       | LSTAT      |            -3.5093 |      0.437 |           -0.379 | -8.032 |          0 | 3.21579 |\n",
      "+----+------------+------------+--------------------+------------+------------------+--------+------------+---------+\n",
      "\n",
      "𝑅^2(0.765), Adj.𝑅^2(0.756), F(85.005), P-value(1.11e-16), Durbin-Watson(2.149)\n",
      "\n",
      "MEDV에 대하여 CRIM,ZN,INDUS,CHAS,NOX,RM,AGE,DIS,RAD,TAX,PTRATIO,B,LSTAT로 예측하는 회귀분석을 실시한 결과, 이 회귀모형은 통계적으로 유의하다(F(13,340) = 85.005, p <= 0.05).\n",
      "\n",
      "CRIM의 회귀계수는 -0.928(p <= 0.05)로, MEDV에 대하여 유의미한 예측변인인 것으로 나타났다.\n",
      "ZN의 회귀계수는 0.917(p <= 0.05)로, MEDV에 대하여 유의미한 예측변인인 것으로 나타났다.\n",
      "INDUS의 회귀계수는 0.515(p > 0.05)로, MEDV에 대하여 유의하지 않은 예측변인인 것으로 나타났다.\n",
      "CHAS의 회귀계수는 0.062(p > 0.05)로, MEDV에 대하여 유의하지 않은 예측변인인 것으로 나타났다.\n",
      "NOX의 회귀계수는 -1.631(p <= 0.05)로, MEDV에 대하여 유의미한 예측변인인 것으로 나타났다.\n",
      "RM의 회귀계수는 3.420(p <= 0.05)로, MEDV에 대하여 유의미한 예측변인인 것으로 나타났다.\n",
      "AGE의 회귀계수는 -0.211(p > 0.05)로, MEDV에 대하여 유의하지 않은 예측변인인 것으로 나타났다.\n",
      "DIS의 회귀계수는 -2.819(p <= 0.05)로, MEDV에 대하여 유의미한 예측변인인 것으로 나타났다.\n",
      "RAD의 회귀계수는 2.308(p <= 0.05)로, MEDV에 대하여 유의미한 예측변인인 것으로 나타났다.\n",
      "TAX의 회귀계수는 -2.167(p <= 0.05)로, MEDV에 대하여 유의미한 예측변인인 것으로 나타났다.\n",
      "PTRATIO의 회귀계수는 -2.038(p <= 0.05)로, MEDV에 대하여 유의미한 예측변인인 것으로 나타났다.\n",
      "B의 회귀계수는 0.564(p <= 0.05)로, MEDV에 대하여 유의미한 예측변인인 것으로 나타났다.\n",
      "LSTAT의 회귀계수는 -3.509(p <= 0.05)로, MEDV에 대하여 유의미한 예측변인인 것으로 나타났다.\n",
      "\n",
      "[검증데이터에 대한 결과보고]\n",
      "+----+------------+------------+--------------------+------------+------------------+--------+------------+---------+\n",
      "|    | 종속변수   | 독립변수   |   B(비표준화 계수) |   표준오차 |   β(표준화 계수) |      t |   유의확률 |     VIF |\n",
      "|----+------------+------------+--------------------+------------+------------------+--------+------------+---------|\n",
      "|  0 | MEDV       | CRIM       |            -0.9281 |      0.962 |           -0.116 | -0.965 |      0.336 | 2.57433 |\n",
      "|  1 | MEDV       | ZN         |             0.9173 |      0.726 |            0.218 |  1.263 |      0.209 | 2.76858 |\n",
      "|  2 | MEDV       | INDUS      |             0.5148 |      0.901 |           -0.116 |  0.572 |      0.568 | 4.04633 |\n",
      "|  3 | MEDV       | CHAS       |             0.0625 |      0.395 |            0.232 |  0.158 |      0.874 | 1.13665 |\n",
      "|  4 | MEDV       | NOX        |            -1.6306 |      0.903 |           -0.216 | -1.805 |      0.073 | 4.46086 |\n",
      "|  5 | MEDV       | RM         |             3.4203 |      0.666 |            0.065 |  5.133 |          0 | 1.93001 |\n",
      "|  6 | MEDV       | AGE        |            -0.2107 |      0.824 |            0.071 | -0.256 |      0.799 | 3.11634 |\n",
      "|  7 | MEDV       | DIS        |            -2.8192 |      0.989 |            -0.38 |  -2.85 |      0.005 |  4.4513 |\n",
      "|  8 | MEDV       | RAD        |             2.3081 |      1.453 |            0.483 |  1.589 |      0.114 | 12.2992 |\n",
      "|  9 | MEDV       | TAX        |            -2.1666 |       1.56 |           -0.315 | -1.389 |      0.167 | 12.9443 |\n",
      "| 10 | MEDV       | PTRATIO    |            -2.0379 |      0.617 |           -0.192 | -3.303 |      0.001 | 2.03951 |\n",
      "| 11 | MEDV       | B          |              0.564 |      0.496 |             0.15 |  1.136 |      0.258 | 1.49456 |\n",
      "| 12 | MEDV       | LSTAT      |            -3.5093 |      0.781 |            -0.53 | -4.495 |          0 | 2.65845 |\n",
      "+----+------------+------------+--------------------+------------+------------------+--------+------------+---------+\n",
      "\n",
      "𝑅^2(0.649), Adj.𝑅^2(0.615), F(19.590), P-value(1.11e-16), Durbin-Watson(1.944)\n",
      "\n",
      "MEDV에 대하여 CRIM,ZN,INDUS,CHAS,NOX,RM,AGE,DIS,RAD,TAX,PTRATIO,B,LSTAT로 예측하는 회귀분석을 실시한 결과, 이 회귀모형은 통계적으로 유의하다(F(13,138) = 19.590, p <= 0.05).\n",
      "\n",
      "CRIM의 회귀계수는 -0.928(p > 0.05)로, MEDV에 대하여 유의하지 않은 예측변인인 것으로 나타났다.\n",
      "ZN의 회귀계수는 0.917(p > 0.05)로, MEDV에 대하여 유의하지 않은 예측변인인 것으로 나타났다.\n",
      "INDUS의 회귀계수는 0.515(p > 0.05)로, MEDV에 대하여 유의하지 않은 예측변인인 것으로 나타났다.\n",
      "CHAS의 회귀계수는 0.062(p > 0.05)로, MEDV에 대하여 유의하지 않은 예측변인인 것으로 나타났다.\n",
      "NOX의 회귀계수는 -1.631(p > 0.05)로, MEDV에 대하여 유의하지 않은 예측변인인 것으로 나타났다.\n",
      "RM의 회귀계수는 3.420(p <= 0.05)로, MEDV에 대하여 유의미한 예측변인인 것으로 나타났다.\n",
      "AGE의 회귀계수는 -0.211(p > 0.05)로, MEDV에 대하여 유의하지 않은 예측변인인 것으로 나타났다.\n",
      "DIS의 회귀계수는 -2.819(p <= 0.05)로, MEDV에 대하여 유의미한 예측변인인 것으로 나타났다.\n",
      "RAD의 회귀계수는 2.308(p > 0.05)로, MEDV에 대하여 유의하지 않은 예측변인인 것으로 나타났다.\n",
      "TAX의 회귀계수는 -2.167(p > 0.05)로, MEDV에 대하여 유의하지 않은 예측변인인 것으로 나타났다.\n",
      "PTRATIO의 회귀계수는 -2.038(p <= 0.05)로, MEDV에 대하여 유의미한 예측변인인 것으로 나타났다.\n",
      "B의 회귀계수는 0.564(p > 0.05)로, MEDV에 대하여 유의하지 않은 예측변인인 것으로 나타났다.\n",
      "LSTAT의 회귀계수는 -3.509(p <= 0.05)로, MEDV에 대하여 유의미한 예측변인인 것으로 나타났다.\n",
      "\n"
     ]
    },
    {
     "data": {
      "text/html": [
       "<style>#sk-container-id-1 {color: black;}#sk-container-id-1 pre{padding: 0;}#sk-container-id-1 div.sk-toggleable {background-color: white;}#sk-container-id-1 label.sk-toggleable__label {cursor: pointer;display: block;width: 100%;margin-bottom: 0;padding: 0.3em;box-sizing: border-box;text-align: center;}#sk-container-id-1 label.sk-toggleable__label-arrow:before {content: \"▸\";float: left;margin-right: 0.25em;color: #696969;}#sk-container-id-1 label.sk-toggleable__label-arrow:hover:before {color: black;}#sk-container-id-1 div.sk-estimator:hover label.sk-toggleable__label-arrow:before {color: black;}#sk-container-id-1 div.sk-toggleable__content {max-height: 0;max-width: 0;overflow: hidden;text-align: left;background-color: #f0f8ff;}#sk-container-id-1 div.sk-toggleable__content pre {margin: 0.2em;color: black;border-radius: 0.25em;background-color: #f0f8ff;}#sk-container-id-1 input.sk-toggleable__control:checked~div.sk-toggleable__content {max-height: 200px;max-width: 100%;overflow: auto;}#sk-container-id-1 input.sk-toggleable__control:checked~label.sk-toggleable__label-arrow:before {content: \"▾\";}#sk-container-id-1 div.sk-estimator input.sk-toggleable__control:checked~label.sk-toggleable__label {background-color: #d4ebff;}#sk-container-id-1 div.sk-label input.sk-toggleable__control:checked~label.sk-toggleable__label {background-color: #d4ebff;}#sk-container-id-1 input.sk-hidden--visually {border: 0;clip: rect(1px 1px 1px 1px);clip: rect(1px, 1px, 1px, 1px);height: 1px;margin: -1px;overflow: hidden;padding: 0;position: absolute;width: 1px;}#sk-container-id-1 div.sk-estimator {font-family: monospace;background-color: #f0f8ff;border: 1px dotted black;border-radius: 0.25em;box-sizing: border-box;margin-bottom: 0.5em;}#sk-container-id-1 div.sk-estimator:hover {background-color: #d4ebff;}#sk-container-id-1 div.sk-parallel-item::after {content: \"\";width: 100%;border-bottom: 1px solid gray;flex-grow: 1;}#sk-container-id-1 div.sk-label:hover label.sk-toggleable__label {background-color: #d4ebff;}#sk-container-id-1 div.sk-serial::before {content: \"\";position: absolute;border-left: 1px solid gray;box-sizing: border-box;top: 0;bottom: 0;left: 50%;z-index: 0;}#sk-container-id-1 div.sk-serial {display: flex;flex-direction: column;align-items: center;background-color: white;padding-right: 0.2em;padding-left: 0.2em;position: relative;}#sk-container-id-1 div.sk-item {position: relative;z-index: 1;}#sk-container-id-1 div.sk-parallel {display: flex;align-items: stretch;justify-content: center;background-color: white;position: relative;}#sk-container-id-1 div.sk-item::before, #sk-container-id-1 div.sk-parallel-item::before {content: \"\";position: absolute;border-left: 1px solid gray;box-sizing: border-box;top: 0;bottom: 0;left: 50%;z-index: -1;}#sk-container-id-1 div.sk-parallel-item {display: flex;flex-direction: column;z-index: 1;position: relative;background-color: white;}#sk-container-id-1 div.sk-parallel-item:first-child::after {align-self: flex-end;width: 50%;}#sk-container-id-1 div.sk-parallel-item:last-child::after {align-self: flex-start;width: 50%;}#sk-container-id-1 div.sk-parallel-item:only-child::after {width: 0;}#sk-container-id-1 div.sk-dashed-wrapped {border: 1px dashed gray;margin: 0 0.4em 0.5em 0.4em;box-sizing: border-box;padding-bottom: 0.4em;background-color: white;}#sk-container-id-1 div.sk-label label {font-family: monospace;font-weight: bold;display: inline-block;line-height: 1.2em;}#sk-container-id-1 div.sk-label-container {text-align: center;}#sk-container-id-1 div.sk-container {/* jupyter's `normalize.less` sets `[hidden] { display: none; }` but bootstrap.min.css set `[hidden] { display: none !important; }` so we also need the `!important` here to be able to override the default hidden behavior on the sphinx rendered scikit-learn.org. See: https://github.com/scikit-learn/scikit-learn/issues/21755 */display: inline-block !important;position: relative;}#sk-container-id-1 div.sk-text-repr-fallback {display: none;}</style><div id=\"sk-container-id-1\" class=\"sk-top-container\"><div class=\"sk-text-repr-fallback\"><pre>LinearRegression()</pre><b>In a Jupyter environment, please rerun this cell to show the HTML representation or trust the notebook. <br />On GitHub, the HTML representation is unable to render, please try loading this page with nbviewer.org.</b></div><div class=\"sk-container\" hidden><div class=\"sk-item\"><div class=\"sk-estimator sk-toggleable\"><input class=\"sk-toggleable__control sk-hidden--visually\" id=\"sk-estimator-id-1\" type=\"checkbox\" checked><label for=\"sk-estimator-id-1\" class=\"sk-toggleable__label sk-toggleable__label-arrow\">LinearRegression</label><div class=\"sk-toggleable__content\"><pre>LinearRegression()</pre></div></div></div></div></div>"
      ],
      "text/plain": [
       "LinearRegression()"
      ]
     },
     "execution_count": 13,
     "metadata": {},
     "output_type": "execute_result"
    }
   ],
   "source": [
    "my_linear_regression(x_train,y_train,x_test,y_test,use_plot=False,report=True)"
   ]
  },
  {
   "cell_type": "markdown",
   "metadata": {},
   "source": [
    "### [2] 다중 공선성 제거\n",
    "\n",
    "VIF값이 10을 초과하는 항목 중에서 VIF값이 큰 순서대로 하나씩 소거"
   ]
  },
  {
   "cell_type": "code",
   "execution_count": 14,
   "metadata": {},
   "outputs": [
    {
     "name": "stdout",
     "output_type": "stream",
     "text": [
      "MEDV = -0.922 * CRIM + 0.734 * ZN + -0.215 * INDUS + 0.167 * CHAS + -1.736 * NOX + 3.500 * RM + -0.235 * AGE + -2.851 * DIS + 0.846 * RAD + -2.109 * PTRATIO + 0.574 * B + -3.489 * LSTAT + 22.762\n",
      "+------------+----------------+---------------------+---------------------+------------------+---------------------------------+-----------------------+\n",
      "|            |   결정계수(R2) |   평균절대오차(MAE) |   평균제곱오차(MSE) |   평균오차(RMSE) |   평균 절대 백분오차 비율(MAPE) |   평균 비율 오차(MPE) |\n",
      "|------------+----------------+---------------------+---------------------+------------------+---------------------------------+-----------------------|\n",
      "| 훈련데이터 |        0.75824 |             3.15927 |             20.7399 |           4.5541 |                         15.9823 |                   nan |\n",
      "| 검증데이터 |       0.645753 |             3.69196 |             28.6331 |          5.35099 |                         19.7147 |              -5.32781 |\n",
      "+------------+----------------+---------------------+---------------------+------------------+---------------------------------+-----------------------+\n",
      "[훈련데이터에 대한 결과보고]\n",
      "+----+------------+------------+--------------------+------------+------------------+--------+------------+---------+\n",
      "|    | 종속변수   | 독립변수   |   B(비표준화 계수) |   표준오차 |   β(표준화 계수) |      t |   유의확률 |     VIF |\n",
      "|----+------------+------------+--------------------+------------+------------------+--------+------------+---------|\n",
      "|  0 | MEDV       | CRIM       |            -0.9218 |      0.323 |             -0.1 | -2.854 |      0.005 | 1.71483 |\n",
      "|  1 | MEDV       | ZN         |             0.7338 |      0.359 |            0.079 |  2.045 |      0.042 | 2.11736 |\n",
      "|  2 | MEDV       | INDUS      |            -0.2149 |      0.436 |           -0.023 | -0.492 |      0.623 | 3.13088 |\n",
      "|  3 | MEDV       | CHAS       |             0.1668 |      0.252 |            0.018 |  0.663 |      0.508 | 1.04207 |\n",
      "|  4 | MEDV       | NOX        |            -1.7362 |      0.528 |           -0.187 |  -3.29 |      0.001 | 4.57866 |\n",
      "|  5 | MEDV       | RM         |             3.4999 |      0.346 |            0.378 | 10.109 |          0 | 1.97083 |\n",
      "|  6 | MEDV       | AGE        |            -0.2352 |      0.437 |           -0.025 | -0.539 |      0.591 | 3.13603 |\n",
      "|  7 | MEDV       | DIS        |            -2.8511 |      0.485 |           -0.308 | -5.875 |          0 | 3.87204 |\n",
      "|  8 | MEDV       | RAD        |             0.8462 |      0.417 |            0.091 |  2.031 |      0.043 | 2.85333 |\n",
      "|  9 | MEDV       | PTRATIO    |            -2.1093 |      0.323 |           -0.228 | -6.533 |          0 | 1.71394 |\n",
      "| 10 | MEDV       | B          |              0.574 |      0.291 |            0.062 |  1.976 |      0.049 | 1.38787 |\n",
      "| 11 | MEDV       | LSTAT      |            -3.4893 |      0.442 |           -0.377 | -7.891 |          0 | 3.21506 |\n",
      "+----+------------+------------+--------------------+------------+------------------+--------+------------+---------+\n",
      "\n",
      "𝑅^2(0.758), Adj.𝑅^2(0.750), F(89.124), P-value(1.11e-16), Durbin-Watson(2.139)\n",
      "\n",
      "MEDV에 대하여 CRIM,ZN,INDUS,CHAS,NOX,RM,AGE,DIS,RAD,PTRATIO,B,LSTAT로 예측하는 회귀분석을 실시한 결과, 이 회귀모형은 통계적으로 유의하다(F(12,341) = 89.124, p <= 0.05).\n",
      "\n",
      "CRIM의 회귀계수는 -0.922(p <= 0.05)로, MEDV에 대하여 유의미한 예측변인인 것으로 나타났다.\n",
      "ZN의 회귀계수는 0.734(p <= 0.05)로, MEDV에 대하여 유의미한 예측변인인 것으로 나타났다.\n",
      "INDUS의 회귀계수는 -0.215(p > 0.05)로, MEDV에 대하여 유의하지 않은 예측변인인 것으로 나타났다.\n",
      "CHAS의 회귀계수는 0.167(p > 0.05)로, MEDV에 대하여 유의하지 않은 예측변인인 것으로 나타났다.\n",
      "NOX의 회귀계수는 -1.736(p <= 0.05)로, MEDV에 대하여 유의미한 예측변인인 것으로 나타났다.\n",
      "RM의 회귀계수는 3.500(p <= 0.05)로, MEDV에 대하여 유의미한 예측변인인 것으로 나타났다.\n",
      "AGE의 회귀계수는 -0.235(p > 0.05)로, MEDV에 대하여 유의하지 않은 예측변인인 것으로 나타났다.\n",
      "DIS의 회귀계수는 -2.851(p <= 0.05)로, MEDV에 대하여 유의미한 예측변인인 것으로 나타났다.\n",
      "RAD의 회귀계수는 0.846(p <= 0.05)로, MEDV에 대하여 유의미한 예측변인인 것으로 나타났다.\n",
      "PTRATIO의 회귀계수는 -2.109(p <= 0.05)로, MEDV에 대하여 유의미한 예측변인인 것으로 나타났다.\n",
      "B의 회귀계수는 0.574(p <= 0.05)로, MEDV에 대하여 유의미한 예측변인인 것으로 나타났다.\n",
      "LSTAT의 회귀계수는 -3.489(p <= 0.05)로, MEDV에 대하여 유의미한 예측변인인 것으로 나타났다.\n",
      "\n",
      "[검증데이터에 대한 결과보고]\n",
      "+----+------------+------------+--------------------+------------+------------------+--------+------------+---------+\n",
      "|    | 종속변수   | 독립변수   |   B(비표준화 계수) |   표준오차 |   β(표준화 계수) |      t |   유의확률 |     VIF |\n",
      "|----+------------+------------+--------------------+------------+------------------+--------+------------+---------|\n",
      "|  0 | MEDV       | CRIM       |            -0.9218 |      0.961 |           -0.111 | -0.959 |      0.339 | 2.57197 |\n",
      "|  1 | MEDV       | ZN         |             0.7338 |      0.678 |            0.165 |  1.083 |      0.281 | 2.41164 |\n",
      "|  2 | MEDV       | INDUS      |            -0.2149 |      0.863 |           -0.167 | -0.249 |      0.804 | 3.71433 |\n",
      "|  3 | MEDV       | CHAS       |             0.1668 |      0.395 |            0.236 |  0.423 |      0.673 | 1.13414 |\n",
      "|  4 | MEDV       | NOX        |            -1.7362 |      0.889 |           -0.249 | -1.954 |      0.053 | 4.31618 |\n",
      "|  5 | MEDV       | RM         |             3.4999 |      0.661 |            0.081 |  5.295 |          0 | 1.90089 |\n",
      "|  6 | MEDV       | AGE        |            -0.2352 |      0.822 |            0.061 | -0.286 |      0.775 | 3.10419 |\n",
      "|  7 | MEDV       | DIS        |            -2.8511 |      0.988 |           -0.391 | -2.886 |      0.005 | 4.43543 |\n",
      "|  8 | MEDV       | RAD        |             0.8462 |      0.756 |             0.22 |  1.119 |      0.265 | 3.30968 |\n",
      "|  9 | MEDV       | PTRATIO    |            -2.1093 |      0.614 |           -0.204 | -3.434 |      0.001 |  2.0197 |\n",
      "| 10 | MEDV       | B          |              0.574 |      0.495 |             0.16 |   1.16 |      0.248 | 1.48379 |\n",
      "| 11 | MEDV       | LSTAT      |            -3.4893 |      0.778 |           -0.517 | -4.485 |          0 | 2.64014 |\n",
      "+----+------------+------------+--------------------+------------+------------------+--------+------------+---------+\n",
      "\n",
      "𝑅^2(0.646), Adj.𝑅^2(0.615), F(21.115), P-value(1.11e-16), Durbin-Watson(1.939)\n",
      "\n",
      "MEDV에 대하여 CRIM,ZN,INDUS,CHAS,NOX,RM,AGE,DIS,RAD,PTRATIO,B,LSTAT로 예측하는 회귀분석을 실시한 결과, 이 회귀모형은 통계적으로 유의하다(F(12,139) = 21.115, p <= 0.05).\n",
      "\n",
      "CRIM의 회귀계수는 -0.922(p > 0.05)로, MEDV에 대하여 유의하지 않은 예측변인인 것으로 나타났다.\n",
      "ZN의 회귀계수는 0.734(p > 0.05)로, MEDV에 대하여 유의하지 않은 예측변인인 것으로 나타났다.\n",
      "INDUS의 회귀계수는 -0.215(p > 0.05)로, MEDV에 대하여 유의하지 않은 예측변인인 것으로 나타났다.\n",
      "CHAS의 회귀계수는 0.167(p > 0.05)로, MEDV에 대하여 유의하지 않은 예측변인인 것으로 나타났다.\n",
      "NOX의 회귀계수는 -1.736(p > 0.05)로, MEDV에 대하여 유의하지 않은 예측변인인 것으로 나타났다.\n",
      "RM의 회귀계수는 3.500(p <= 0.05)로, MEDV에 대하여 유의미한 예측변인인 것으로 나타났다.\n",
      "AGE의 회귀계수는 -0.235(p > 0.05)로, MEDV에 대하여 유의하지 않은 예측변인인 것으로 나타났다.\n",
      "DIS의 회귀계수는 -2.851(p <= 0.05)로, MEDV에 대하여 유의미한 예측변인인 것으로 나타났다.\n",
      "RAD의 회귀계수는 0.846(p > 0.05)로, MEDV에 대하여 유의하지 않은 예측변인인 것으로 나타났다.\n",
      "PTRATIO의 회귀계수는 -2.109(p <= 0.05)로, MEDV에 대하여 유의미한 예측변인인 것으로 나타났다.\n",
      "B의 회귀계수는 0.574(p > 0.05)로, MEDV에 대하여 유의하지 않은 예측변인인 것으로 나타났다.\n",
      "LSTAT의 회귀계수는 -3.489(p <= 0.05)로, MEDV에 대하여 유의미한 예측변인인 것으로 나타났다.\n",
      "\n"
     ]
    },
    {
     "data": {
      "text/html": [
       "<style>#sk-container-id-2 {color: black;}#sk-container-id-2 pre{padding: 0;}#sk-container-id-2 div.sk-toggleable {background-color: white;}#sk-container-id-2 label.sk-toggleable__label {cursor: pointer;display: block;width: 100%;margin-bottom: 0;padding: 0.3em;box-sizing: border-box;text-align: center;}#sk-container-id-2 label.sk-toggleable__label-arrow:before {content: \"▸\";float: left;margin-right: 0.25em;color: #696969;}#sk-container-id-2 label.sk-toggleable__label-arrow:hover:before {color: black;}#sk-container-id-2 div.sk-estimator:hover label.sk-toggleable__label-arrow:before {color: black;}#sk-container-id-2 div.sk-toggleable__content {max-height: 0;max-width: 0;overflow: hidden;text-align: left;background-color: #f0f8ff;}#sk-container-id-2 div.sk-toggleable__content pre {margin: 0.2em;color: black;border-radius: 0.25em;background-color: #f0f8ff;}#sk-container-id-2 input.sk-toggleable__control:checked~div.sk-toggleable__content {max-height: 200px;max-width: 100%;overflow: auto;}#sk-container-id-2 input.sk-toggleable__control:checked~label.sk-toggleable__label-arrow:before {content: \"▾\";}#sk-container-id-2 div.sk-estimator input.sk-toggleable__control:checked~label.sk-toggleable__label {background-color: #d4ebff;}#sk-container-id-2 div.sk-label input.sk-toggleable__control:checked~label.sk-toggleable__label {background-color: #d4ebff;}#sk-container-id-2 input.sk-hidden--visually {border: 0;clip: rect(1px 1px 1px 1px);clip: rect(1px, 1px, 1px, 1px);height: 1px;margin: -1px;overflow: hidden;padding: 0;position: absolute;width: 1px;}#sk-container-id-2 div.sk-estimator {font-family: monospace;background-color: #f0f8ff;border: 1px dotted black;border-radius: 0.25em;box-sizing: border-box;margin-bottom: 0.5em;}#sk-container-id-2 div.sk-estimator:hover {background-color: #d4ebff;}#sk-container-id-2 div.sk-parallel-item::after {content: \"\";width: 100%;border-bottom: 1px solid gray;flex-grow: 1;}#sk-container-id-2 div.sk-label:hover label.sk-toggleable__label {background-color: #d4ebff;}#sk-container-id-2 div.sk-serial::before {content: \"\";position: absolute;border-left: 1px solid gray;box-sizing: border-box;top: 0;bottom: 0;left: 50%;z-index: 0;}#sk-container-id-2 div.sk-serial {display: flex;flex-direction: column;align-items: center;background-color: white;padding-right: 0.2em;padding-left: 0.2em;position: relative;}#sk-container-id-2 div.sk-item {position: relative;z-index: 1;}#sk-container-id-2 div.sk-parallel {display: flex;align-items: stretch;justify-content: center;background-color: white;position: relative;}#sk-container-id-2 div.sk-item::before, #sk-container-id-2 div.sk-parallel-item::before {content: \"\";position: absolute;border-left: 1px solid gray;box-sizing: border-box;top: 0;bottom: 0;left: 50%;z-index: -1;}#sk-container-id-2 div.sk-parallel-item {display: flex;flex-direction: column;z-index: 1;position: relative;background-color: white;}#sk-container-id-2 div.sk-parallel-item:first-child::after {align-self: flex-end;width: 50%;}#sk-container-id-2 div.sk-parallel-item:last-child::after {align-self: flex-start;width: 50%;}#sk-container-id-2 div.sk-parallel-item:only-child::after {width: 0;}#sk-container-id-2 div.sk-dashed-wrapped {border: 1px dashed gray;margin: 0 0.4em 0.5em 0.4em;box-sizing: border-box;padding-bottom: 0.4em;background-color: white;}#sk-container-id-2 div.sk-label label {font-family: monospace;font-weight: bold;display: inline-block;line-height: 1.2em;}#sk-container-id-2 div.sk-label-container {text-align: center;}#sk-container-id-2 div.sk-container {/* jupyter's `normalize.less` sets `[hidden] { display: none; }` but bootstrap.min.css set `[hidden] { display: none !important; }` so we also need the `!important` here to be able to override the default hidden behavior on the sphinx rendered scikit-learn.org. See: https://github.com/scikit-learn/scikit-learn/issues/21755 */display: inline-block !important;position: relative;}#sk-container-id-2 div.sk-text-repr-fallback {display: none;}</style><div id=\"sk-container-id-2\" class=\"sk-top-container\"><div class=\"sk-text-repr-fallback\"><pre>LinearRegression()</pre><b>In a Jupyter environment, please rerun this cell to show the HTML representation or trust the notebook. <br />On GitHub, the HTML representation is unable to render, please try loading this page with nbviewer.org.</b></div><div class=\"sk-container\" hidden><div class=\"sk-item\"><div class=\"sk-estimator sk-toggleable\"><input class=\"sk-toggleable__control sk-hidden--visually\" id=\"sk-estimator-id-2\" type=\"checkbox\" checked><label for=\"sk-estimator-id-2\" class=\"sk-toggleable__label sk-toggleable__label-arrow\">LinearRegression</label><div class=\"sk-toggleable__content\"><pre>LinearRegression()</pre></div></div></div></div></div>"
      ],
      "text/plain": [
       "LinearRegression()"
      ]
     },
     "execution_count": 14,
     "metadata": {},
     "output_type": "execute_result"
    }
   ],
   "source": [
    "ignore = ['TAX']\n",
    "x_train_drop = x_train.drop(ignore, axis=1)\n",
    "x_test_drop = x_test.drop(ignore, axis=1)\n",
    "\n",
    "my_linear_regression(x_train_drop, y_train, x_test_drop, y_test, use_plot=False, report=True)"
   ]
  },
  {
   "cell_type": "markdown",
   "metadata": {},
   "source": [
    "### [3] p-value가 가장 높은 항목부터 순차적으로 제거"
   ]
  },
  {
   "cell_type": "code",
   "execution_count": 15,
   "metadata": {},
   "outputs": [
    {
     "name": "stdout",
     "output_type": "stream",
     "text": [
      "MEDV = -1.661 * NOX + 3.516 * RM + -2.192 * DIS + -2.192 * PTRATIO + -3.987 * LSTAT + 22.762\n",
      "+------------+----------------+---------------------+---------------------+------------------+---------------------------------+-----------------------+\n",
      "|            |   결정계수(R2) |   평균절대오차(MAE) |   평균제곱오차(MSE) |   평균오차(RMSE) |   평균 절대 백분오차 비율(MAPE) |   평균 비율 오차(MPE) |\n",
      "|------------+----------------+---------------------+---------------------+------------------+---------------------------------+-----------------------|\n",
      "| 훈련데이터 |       0.745825 |             3.27197 |             21.8049 |          4.66958 |                         16.9054 |                   nan |\n",
      "| 검증데이터 |       0.603232 |             3.97022 |               32.07 |          5.66304 |                         21.3872 |              -5.53031 |\n",
      "+------------+----------------+---------------------+---------------------+------------------+---------------------------------+-----------------------+\n",
      "[훈련데이터에 대한 결과보고]\n",
      "+----+------------+------------+--------------------+------------+------------------+---------+------------+---------+\n",
      "|    | 종속변수   | 독립변수   |   B(비표준화 계수) |   표준오차 |   β(표준화 계수) |       t |   유의확률 |     VIF |\n",
      "|----+------------+------------+--------------------+------------+------------------+---------+------------+---------|\n",
      "|  0 | MEDV       | NOX        |             -1.661 |      0.427 |           -0.179 |  -3.887 |          0 |  2.9141 |\n",
      "|  1 | MEDV       | RM         |             3.5157 |       0.33 |             0.38 |  10.649 |          0 | 1.73965 |\n",
      "|  2 | MEDV       | DIS        |            -2.1922 |      0.397 |           -0.237 |  -5.522 |          0 | 2.51511 |\n",
      "|  3 | MEDV       | PTRATIO    |            -2.1916 |      0.278 |           -0.237 |  -7.892 |          0 | 1.23091 |\n",
      "|  4 | MEDV       | LSTAT      |            -3.9867 |      0.396 |            -0.43 | -10.062 |          0 | 2.50552 |\n",
      "+----+------------+------------+--------------------+------------+------------------+---------+------------+---------+\n",
      "\n",
      "𝑅^2(0.746), Adj.𝑅^2(0.742), F(204.227), P-value(1.11e-16), Durbin-Watson(2.125)\n",
      "\n",
      "MEDV에 대하여 NOX,RM,DIS,PTRATIO,LSTAT로 예측하는 회귀분석을 실시한 결과, 이 회귀모형은 통계적으로 유의하다(F(5,348) = 204.227, p <= 0.05).\n",
      "\n",
      "NOX의 회귀계수는 -1.661(p <= 0.05)로, MEDV에 대하여 유의미한 예측변인인 것으로 나타났다.\n",
      "RM의 회귀계수는 3.516(p <= 0.05)로, MEDV에 대하여 유의미한 예측변인인 것으로 나타났다.\n",
      "DIS의 회귀계수는 -2.192(p <= 0.05)로, MEDV에 대하여 유의미한 예측변인인 것으로 나타났다.\n",
      "PTRATIO의 회귀계수는 -2.192(p <= 0.05)로, MEDV에 대하여 유의미한 예측변인인 것으로 나타났다.\n",
      "LSTAT의 회귀계수는 -3.987(p <= 0.05)로, MEDV에 대하여 유의미한 예측변인인 것으로 나타났다.\n",
      "\n",
      "[검증데이터에 대한 결과보고]\n",
      "+----+------------+------------+--------------------+------------+------------------+--------+------------+---------+\n",
      "|    | 종속변수   | 독립변수   |   B(비표준화 계수) |   표준오차 |   β(표준화 계수) |      t |   유의확률 |     VIF |\n",
      "|----+------------+------------+--------------------+------------+------------------+--------+------------+---------|\n",
      "|  0 | MEDV       | NOX        |             -1.661 |      0.768 |           -0.313 | -2.164 |      0.032 | 2.98997 |\n",
      "|  1 | MEDV       | RM         |             3.5157 |      0.621 |            0.174 |  5.662 |          0 | 1.62274 |\n",
      "|  2 | MEDV       | DIS        |            -2.1922 |      0.799 |           -0.333 | -2.745 |      0.007 | 2.71836 |\n",
      "|  3 | MEDV       | PTRATIO    |            -2.1916 |      0.494 |           -0.267 | -4.433 |          0 |  1.2268 |\n",
      "|  4 | MEDV       | LSTAT      |            -3.9867 |      0.719 |           -0.506 | -5.542 |          0 | 2.14871 |\n",
      "+----+------------+------------+--------------------+------------+------------------+--------+------------+---------+\n",
      "\n",
      "𝑅^2(0.603), Adj.𝑅^2(0.590), F(44.395), P-value(1.11e-16), Durbin-Watson(1.928)\n",
      "\n",
      "MEDV에 대하여 NOX,RM,DIS,PTRATIO,LSTAT로 예측하는 회귀분석을 실시한 결과, 이 회귀모형은 통계적으로 유의하다(F(5,146) = 44.395, p <= 0.05).\n",
      "\n",
      "NOX의 회귀계수는 -1.661(p <= 0.05)로, MEDV에 대하여 유의미한 예측변인인 것으로 나타났다.\n",
      "RM의 회귀계수는 3.516(p <= 0.05)로, MEDV에 대하여 유의미한 예측변인인 것으로 나타났다.\n",
      "DIS의 회귀계수는 -2.192(p <= 0.05)로, MEDV에 대하여 유의미한 예측변인인 것으로 나타났다.\n",
      "PTRATIO의 회귀계수는 -2.192(p <= 0.05)로, MEDV에 대하여 유의미한 예측변인인 것으로 나타났다.\n",
      "LSTAT의 회귀계수는 -3.987(p <= 0.05)로, MEDV에 대하여 유의미한 예측변인인 것으로 나타났다.\n",
      "\n"
     ]
    },
    {
     "data": {
      "text/html": [
       "<style>#sk-container-id-3 {color: black;}#sk-container-id-3 pre{padding: 0;}#sk-container-id-3 div.sk-toggleable {background-color: white;}#sk-container-id-3 label.sk-toggleable__label {cursor: pointer;display: block;width: 100%;margin-bottom: 0;padding: 0.3em;box-sizing: border-box;text-align: center;}#sk-container-id-3 label.sk-toggleable__label-arrow:before {content: \"▸\";float: left;margin-right: 0.25em;color: #696969;}#sk-container-id-3 label.sk-toggleable__label-arrow:hover:before {color: black;}#sk-container-id-3 div.sk-estimator:hover label.sk-toggleable__label-arrow:before {color: black;}#sk-container-id-3 div.sk-toggleable__content {max-height: 0;max-width: 0;overflow: hidden;text-align: left;background-color: #f0f8ff;}#sk-container-id-3 div.sk-toggleable__content pre {margin: 0.2em;color: black;border-radius: 0.25em;background-color: #f0f8ff;}#sk-container-id-3 input.sk-toggleable__control:checked~div.sk-toggleable__content {max-height: 200px;max-width: 100%;overflow: auto;}#sk-container-id-3 input.sk-toggleable__control:checked~label.sk-toggleable__label-arrow:before {content: \"▾\";}#sk-container-id-3 div.sk-estimator input.sk-toggleable__control:checked~label.sk-toggleable__label {background-color: #d4ebff;}#sk-container-id-3 div.sk-label input.sk-toggleable__control:checked~label.sk-toggleable__label {background-color: #d4ebff;}#sk-container-id-3 input.sk-hidden--visually {border: 0;clip: rect(1px 1px 1px 1px);clip: rect(1px, 1px, 1px, 1px);height: 1px;margin: -1px;overflow: hidden;padding: 0;position: absolute;width: 1px;}#sk-container-id-3 div.sk-estimator {font-family: monospace;background-color: #f0f8ff;border: 1px dotted black;border-radius: 0.25em;box-sizing: border-box;margin-bottom: 0.5em;}#sk-container-id-3 div.sk-estimator:hover {background-color: #d4ebff;}#sk-container-id-3 div.sk-parallel-item::after {content: \"\";width: 100%;border-bottom: 1px solid gray;flex-grow: 1;}#sk-container-id-3 div.sk-label:hover label.sk-toggleable__label {background-color: #d4ebff;}#sk-container-id-3 div.sk-serial::before {content: \"\";position: absolute;border-left: 1px solid gray;box-sizing: border-box;top: 0;bottom: 0;left: 50%;z-index: 0;}#sk-container-id-3 div.sk-serial {display: flex;flex-direction: column;align-items: center;background-color: white;padding-right: 0.2em;padding-left: 0.2em;position: relative;}#sk-container-id-3 div.sk-item {position: relative;z-index: 1;}#sk-container-id-3 div.sk-parallel {display: flex;align-items: stretch;justify-content: center;background-color: white;position: relative;}#sk-container-id-3 div.sk-item::before, #sk-container-id-3 div.sk-parallel-item::before {content: \"\";position: absolute;border-left: 1px solid gray;box-sizing: border-box;top: 0;bottom: 0;left: 50%;z-index: -1;}#sk-container-id-3 div.sk-parallel-item {display: flex;flex-direction: column;z-index: 1;position: relative;background-color: white;}#sk-container-id-3 div.sk-parallel-item:first-child::after {align-self: flex-end;width: 50%;}#sk-container-id-3 div.sk-parallel-item:last-child::after {align-self: flex-start;width: 50%;}#sk-container-id-3 div.sk-parallel-item:only-child::after {width: 0;}#sk-container-id-3 div.sk-dashed-wrapped {border: 1px dashed gray;margin: 0 0.4em 0.5em 0.4em;box-sizing: border-box;padding-bottom: 0.4em;background-color: white;}#sk-container-id-3 div.sk-label label {font-family: monospace;font-weight: bold;display: inline-block;line-height: 1.2em;}#sk-container-id-3 div.sk-label-container {text-align: center;}#sk-container-id-3 div.sk-container {/* jupyter's `normalize.less` sets `[hidden] { display: none; }` but bootstrap.min.css set `[hidden] { display: none !important; }` so we also need the `!important` here to be able to override the default hidden behavior on the sphinx rendered scikit-learn.org. See: https://github.com/scikit-learn/scikit-learn/issues/21755 */display: inline-block !important;position: relative;}#sk-container-id-3 div.sk-text-repr-fallback {display: none;}</style><div id=\"sk-container-id-3\" class=\"sk-top-container\"><div class=\"sk-text-repr-fallback\"><pre>LinearRegression()</pre><b>In a Jupyter environment, please rerun this cell to show the HTML representation or trust the notebook. <br />On GitHub, the HTML representation is unable to render, please try loading this page with nbviewer.org.</b></div><div class=\"sk-container\" hidden><div class=\"sk-item\"><div class=\"sk-estimator sk-toggleable\"><input class=\"sk-toggleable__control sk-hidden--visually\" id=\"sk-estimator-id-3\" type=\"checkbox\" checked><label for=\"sk-estimator-id-3\" class=\"sk-toggleable__label sk-toggleable__label-arrow\">LinearRegression</label><div class=\"sk-toggleable__content\"><pre>LinearRegression()</pre></div></div></div></div></div>"
      ],
      "text/plain": [
       "LinearRegression()"
      ]
     },
     "execution_count": 15,
     "metadata": {},
     "output_type": "execute_result"
    }
   ],
   "source": [
    "ignore = ['TAX', 'INDUS', 'AGE', 'CHAS', 'CRIM', 'RAD', 'ZN', 'B']\n",
    "x_train_drop = x_train.drop(ignore, axis=1)\n",
    "x_test_drop = x_test.drop(ignore, axis=1)\n",
    "\n",
    "my_linear_regression(x_train_drop,y_train, x_test_drop, y_test,use_plot=False,report=True)"
   ]
  }
 ],
 "metadata": {
  "kernelspec": {
   "display_name": "Python 3",
   "language": "python",
   "name": "python3"
  },
  "language_info": {
   "codemirror_mode": {
    "name": "ipython",
    "version": 3
   },
   "file_extension": ".py",
   "mimetype": "text/x-python",
   "name": "python",
   "nbconvert_exporter": "python",
   "pygments_lexer": "ipython3",
   "version": "3.11.7"
  }
 },
 "nbformat": 4,
 "nbformat_minor": 2
}
