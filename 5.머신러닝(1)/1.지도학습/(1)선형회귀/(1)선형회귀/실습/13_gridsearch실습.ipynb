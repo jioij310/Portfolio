{
 "cells": [
  {
   "cell_type": "code",
   "execution_count": 2,
   "metadata": {},
   "outputs": [],
   "source": [
    "import sys\n",
    "import os\n",
    "work_path = os.path.abspath(os.path.join(os.getcwd(), '../../../../'))\n",
    "sys.path.append(work_path)\n",
    "from helper.regrassion import *\n",
    "from helper.plot import *\n",
    "from helper.util import *\n",
    "from helper.analysis import *\n",
    "\n",
    "from sklearn.linear_model import LinearRegression\n",
    "\n",
    "from sklearn.model_selection import GridSearchCV"
   ]
  },
  {
   "cell_type": "code",
   "execution_count": 3,
   "metadata": {},
   "outputs": [
    {
     "name": "stdout",
     "output_type": "stream",
     "text": [
      "데이터프레임 크기: 행 수: 56, 열 수: 4\n",
      "\n",
      "데이터프레임 상위 5개 행\n",
      "+----+--------+--------+--------+--------+\n",
      "|    |   길이 |   높이 |   두께 |   무게 |\n",
      "|----+--------+--------+--------+--------|\n",
      "|  0 |    8.4 |   2.11 |   1.41 |    5.9 |\n",
      "|  1 |   13.7 |   3.53 |      2 |     32 |\n",
      "|  2 |     15 |   3.82 |   2.43 |     40 |\n",
      "|  3 |   16.2 |   4.59 |   2.63 |   51.5 |\n",
      "|  4 |   17.4 |   4.59 |   2.94 |     70 |\n",
      "+----+--------+--------+--------+--------+\n",
      "\n",
      "데이터프레임 하위 5개 행\n",
      "+----+--------+--------+--------+--------+\n",
      "|    |   길이 |   높이 |   두께 |   무게 |\n",
      "|----+--------+--------+--------+--------|\n",
      "| 51 |     42 |   12.8 |   6.87 |   1100 |\n",
      "| 52 |     43 |  11.93 |   7.28 |   1000 |\n",
      "| 53 |     43 |  12.51 |   7.42 |   1100 |\n",
      "| 54 |   43.5 |   12.6 |   8.14 |   1000 |\n",
      "| 55 |     44 |  12.49 |    7.6 |   1000 |\n",
      "+----+--------+--------+--------+--------+\n",
      "\n",
      "기술통계\n",
      "+------+---------+---------+---------+-------+--------+-------+--------+-------+-------+\n",
      "|      |   count |    mean |     std |   min |    25% |   50% |    75% |   max |   nan |\n",
      "|------+---------+---------+---------+-------+--------+-------+--------+-------+-------|\n",
      "| 길이 |      56 | 27.8929 | 9.02167 |   8.4 | 21.825 |  25.3 | 36.625 |    44 |     0 |\n",
      "| 높이 |      56 | 7.86214 | 2.87834 |  2.11 |   5.69 |  6.92 |  10.85 |  12.8 |     0 |\n",
      "| 두께 |      56 | 4.74554 | 1.77501 |  1.41 |   3.52 | 4.155 |   6.45 |  8.14 |     0 |\n",
      "| 무게 |      56 | 382.239 | 347.618 |   5.9 |    120 | 207.5 |  692.5 |  1100 |     0 |\n",
      "+------+---------+---------+---------+-------+--------+-------+--------+-------+-------+\n",
      "+----+--------+--------+--------+--------+\n",
      "|    |   길이 |   높이 |   두께 |   무게 |\n",
      "|----+--------+--------+--------+--------|\n",
      "|  0 |    8.4 |   2.11 |   1.41 |    5.9 |\n",
      "|  1 |   13.7 |   3.53 |      2 |     32 |\n",
      "|  2 |     15 |   3.82 |   2.43 |     40 |\n",
      "|  3 |   16.2 |   4.59 |   2.63 |   51.5 |\n",
      "|  4 |   17.4 |   4.59 |   2.94 |     70 |\n",
      "+----+--------+--------+--------+--------+\n"
     ]
    }
   ],
   "source": [
    "origin = my_read_excel('C:/Users/Jihwan/Desktop/01Class/E.추론통계/E.InferentialStatistics/수업자료/fish.xlsx')\n",
    "my_pretty_table(origin.head())"
   ]
  },
  {
   "cell_type": "markdown",
   "metadata": {},
   "source": [
    "## #02. 데이터 전처리\n",
    "\n",
    "### [1] 데이터 스케일링"
   ]
  },
  {
   "cell_type": "code",
   "execution_count": 4,
   "metadata": {},
   "outputs": [
    {
     "name": "stdout",
     "output_type": "stream",
     "text": [
      "+----+----------+----------+----------+--------+\n",
      "|    |     길이 |     높이 |     두께 |   무게 |\n",
      "|----+----------+----------+----------+--------|\n",
      "|  0 | -2.18023 | -2.01651 | -1.89617 |    5.9 |\n",
      "|  1 | -1.58743 |  -1.5187 | -1.56077 |     32 |\n",
      "|  2 | -1.44203 | -1.41704 | -1.31633 |     40 |\n",
      "|  3 | -1.30782 |  -1.1471 | -1.20263 |   51.5 |\n",
      "|  4 |  -1.1736 |  -1.1471 | -1.02641 |     70 |\n",
      "+----+----------+----------+----------+--------+\n"
     ]
    }
   ],
   "source": [
    "df = my_standard_scaler(origin, yname = '무게')\n",
    "my_pretty_table(df.head())"
   ]
  },
  {
   "cell_type": "markdown",
   "metadata": {},
   "source": [
    "### [2] 독립, 종속 변수 분리"
   ]
  },
  {
   "cell_type": "code",
   "execution_count": 5,
   "metadata": {},
   "outputs": [
    {
     "data": {
      "text/plain": [
       "((56, 3), (56,))"
      ]
     },
     "execution_count": 5,
     "metadata": {},
     "output_type": "execute_result"
    }
   ],
   "source": [
    "yname = '무게'\n",
    "x = df.drop(yname, axis=1)\n",
    "y =  df[yname]\n",
    "x.shape, y.shape"
   ]
  },
  {
   "cell_type": "markdown",
   "metadata": {},
   "source": [
    "## #03. 하이퍼파라미터 튜닝을 통한 최적 모델 찾기\n",
    "\n",
    "선형회귀(LinearRegression), 로지스틱회귀(LogisticRegression) 등의 모델을 제외한 다른 학습 모델들은 클래스 생성자에 전달하는 파라미터가 다양하다.\n",
    "\n",
    "이 파라미터의 최적 조합을 찾는 과정\n",
    "\n",
    "만약 선형회귀 모델에 `params1`, `params2`, `params3`라는 파라미터가 필요하다고 가정할 경우\n",
    "\n",
    "```python\n",
    "model = LinearRegression(n_job=-1, param1=???, params2=???, params3=???)\n",
    "```\n",
    "\n",
    "각 파라미터에 설정할 수 있는 값들을 리스트를 원소로 갖는 딕셔너리 형태로 준비하면 GridSearchCV 클래스가 파라미터를 조합할 수 있는 모든 경우의 수를 수행하고 가장 좋은 성능을 보이는 파라미터 조합을 찾아낸다.\n",
    "\n",
    "```python\n",
    "params = {\n",
    "    \"params1\": [1, 2, 3],\n",
    "    \"params2\": [0.1, 0.01, 0.001],\n",
    "    \"params3\": [True, False]\n",
    "}\n",
    "```\n",
    "\n",
    "여기서는 실제 LinearRegression 클래스가 `n_jobs`외의 의미있는 파라미터를 받지 않으므로 빈 딕셔너리를 준비한다.\n",
    "\n",
    "### [1] 하이퍼 파라미터 튜닝기 생성"
   ]
  },
  {
   "cell_type": "code",
   "execution_count": 6,
   "metadata": {},
   "outputs": [
    {
     "data": {
      "text/plain": [
       "{}"
      ]
     },
     "execution_count": 6,
     "metadata": {},
     "output_type": "execute_result"
    }
   ],
   "source": [
    "model = LinearRegression(n_jobs=-1)\n",
    "\n",
    "params = {}\n",
    "\n",
    "fold = 10\n",
    "\n",
    "grid_cv = GridSearchCV(model, param_grid=params, cv=fold)\n",
    "\n",
    "grid_cv.fit(x,y)\n",
    "\n",
    "grid_cv.best_params_"
   ]
  },
  {
   "cell_type": "code",
   "execution_count": 7,
   "metadata": {},
   "outputs": [
    {
     "data": {
      "text/plain": [
       "{'mean_fit_time': array([0.00161562]),\n",
       " 'std_fit_time': array([0.00484686]),\n",
       " 'mean_score_time': array([0.00013878]),\n",
       " 'std_score_time': array([0.00041635]),\n",
       " 'params': [{}],\n",
       " 'split0_test_score': array([-58.01302285]),\n",
       " 'split1_test_score': array([-2.31476956]),\n",
       " 'split2_test_score': array([-45.20722663]),\n",
       " 'split3_test_score': array([-4.47723355]),\n",
       " 'split4_test_score': array([-5.3595436]),\n",
       " 'split5_test_score': array([-17.55200254]),\n",
       " 'split6_test_score': array([0.62549205]),\n",
       " 'split7_test_score': array([0.53019652]),\n",
       " 'split8_test_score': array([-0.05032677]),\n",
       " 'split9_test_score': array([-17.58452852]),\n",
       " 'mean_test_score': array([-14.94029654]),\n",
       " 'std_test_score': array([19.61930517]),\n",
       " 'rank_test_score': array([1])}"
      ]
     },
     "execution_count": 7,
     "metadata": {},
     "output_type": "execute_result"
    }
   ],
   "source": [
    "grid_cv.cv_results_"
   ]
  },
  {
   "cell_type": "markdown",
   "metadata": {},
   "source": [
    "### [3] 학습 성능이 높은 순으로 파라미터 조합을 확인\n",
    "\n",
    "> 여기서는 출력되는 결과 없음"
   ]
  },
  {
   "cell_type": "code",
   "execution_count": 8,
   "metadata": {},
   "outputs": [
    {
     "name": "stdout",
     "output_type": "stream",
     "text": [
      "+----+-------------------+\n",
      "|    |   mean_test_score |\n",
      "|----+-------------------|\n",
      "|  0 |          -14.9403 |\n",
      "+----+-------------------+\n"
     ]
    }
   ],
   "source": [
    "result_df = DataFrame(grid_cv.cv_results_['params'])\n",
    "result_df\n",
    "result_df['mean_test_score'] = grid_cv.cv_results_['mean_test_score']\n",
    "my_pretty_table(result_df.sort_values(by='mean_test_score', ascending=False))"
   ]
  },
  {
   "cell_type": "code",
   "execution_count": 9,
   "metadata": {},
   "outputs": [
    {
     "data": {
      "text/html": [
       "<style>#sk-container-id-1 {color: black;}#sk-container-id-1 pre{padding: 0;}#sk-container-id-1 div.sk-toggleable {background-color: white;}#sk-container-id-1 label.sk-toggleable__label {cursor: pointer;display: block;width: 100%;margin-bottom: 0;padding: 0.3em;box-sizing: border-box;text-align: center;}#sk-container-id-1 label.sk-toggleable__label-arrow:before {content: \"▸\";float: left;margin-right: 0.25em;color: #696969;}#sk-container-id-1 label.sk-toggleable__label-arrow:hover:before {color: black;}#sk-container-id-1 div.sk-estimator:hover label.sk-toggleable__label-arrow:before {color: black;}#sk-container-id-1 div.sk-toggleable__content {max-height: 0;max-width: 0;overflow: hidden;text-align: left;background-color: #f0f8ff;}#sk-container-id-1 div.sk-toggleable__content pre {margin: 0.2em;color: black;border-radius: 0.25em;background-color: #f0f8ff;}#sk-container-id-1 input.sk-toggleable__control:checked~div.sk-toggleable__content {max-height: 200px;max-width: 100%;overflow: auto;}#sk-container-id-1 input.sk-toggleable__control:checked~label.sk-toggleable__label-arrow:before {content: \"▾\";}#sk-container-id-1 div.sk-estimator input.sk-toggleable__control:checked~label.sk-toggleable__label {background-color: #d4ebff;}#sk-container-id-1 div.sk-label input.sk-toggleable__control:checked~label.sk-toggleable__label {background-color: #d4ebff;}#sk-container-id-1 input.sk-hidden--visually {border: 0;clip: rect(1px 1px 1px 1px);clip: rect(1px, 1px, 1px, 1px);height: 1px;margin: -1px;overflow: hidden;padding: 0;position: absolute;width: 1px;}#sk-container-id-1 div.sk-estimator {font-family: monospace;background-color: #f0f8ff;border: 1px dotted black;border-radius: 0.25em;box-sizing: border-box;margin-bottom: 0.5em;}#sk-container-id-1 div.sk-estimator:hover {background-color: #d4ebff;}#sk-container-id-1 div.sk-parallel-item::after {content: \"\";width: 100%;border-bottom: 1px solid gray;flex-grow: 1;}#sk-container-id-1 div.sk-label:hover label.sk-toggleable__label {background-color: #d4ebff;}#sk-container-id-1 div.sk-serial::before {content: \"\";position: absolute;border-left: 1px solid gray;box-sizing: border-box;top: 0;bottom: 0;left: 50%;z-index: 0;}#sk-container-id-1 div.sk-serial {display: flex;flex-direction: column;align-items: center;background-color: white;padding-right: 0.2em;padding-left: 0.2em;position: relative;}#sk-container-id-1 div.sk-item {position: relative;z-index: 1;}#sk-container-id-1 div.sk-parallel {display: flex;align-items: stretch;justify-content: center;background-color: white;position: relative;}#sk-container-id-1 div.sk-item::before, #sk-container-id-1 div.sk-parallel-item::before {content: \"\";position: absolute;border-left: 1px solid gray;box-sizing: border-box;top: 0;bottom: 0;left: 50%;z-index: -1;}#sk-container-id-1 div.sk-parallel-item {display: flex;flex-direction: column;z-index: 1;position: relative;background-color: white;}#sk-container-id-1 div.sk-parallel-item:first-child::after {align-self: flex-end;width: 50%;}#sk-container-id-1 div.sk-parallel-item:last-child::after {align-self: flex-start;width: 50%;}#sk-container-id-1 div.sk-parallel-item:only-child::after {width: 0;}#sk-container-id-1 div.sk-dashed-wrapped {border: 1px dashed gray;margin: 0 0.4em 0.5em 0.4em;box-sizing: border-box;padding-bottom: 0.4em;background-color: white;}#sk-container-id-1 div.sk-label label {font-family: monospace;font-weight: bold;display: inline-block;line-height: 1.2em;}#sk-container-id-1 div.sk-label-container {text-align: center;}#sk-container-id-1 div.sk-container {/* jupyter's `normalize.less` sets `[hidden] { display: none; }` but bootstrap.min.css set `[hidden] { display: none !important; }` so we also need the `!important` here to be able to override the default hidden behavior on the sphinx rendered scikit-learn.org. See: https://github.com/scikit-learn/scikit-learn/issues/21755 */display: inline-block !important;position: relative;}#sk-container-id-1 div.sk-text-repr-fallback {display: none;}</style><div id=\"sk-container-id-1\" class=\"sk-top-container\"><div class=\"sk-text-repr-fallback\"><pre>LinearRegression(n_jobs=-1)</pre><b>In a Jupyter environment, please rerun this cell to show the HTML representation or trust the notebook. <br />On GitHub, the HTML representation is unable to render, please try loading this page with nbviewer.org.</b></div><div class=\"sk-container\" hidden><div class=\"sk-item\"><div class=\"sk-estimator sk-toggleable\"><input class=\"sk-toggleable__control sk-hidden--visually\" id=\"sk-estimator-id-1\" type=\"checkbox\" checked><label for=\"sk-estimator-id-1\" class=\"sk-toggleable__label sk-toggleable__label-arrow\">LinearRegression</label><div class=\"sk-toggleable__content\"><pre>LinearRegression(n_jobs=-1)</pre></div></div></div></div></div>"
      ],
      "text/plain": [
       "LinearRegression(n_jobs=-1)"
      ]
     },
     "execution_count": 9,
     "metadata": {},
     "output_type": "execute_result"
    }
   ],
   "source": [
    "grid_cv.best_estimator_"
   ]
  },
  {
   "cell_type": "code",
   "execution_count": null,
   "metadata": {},
   "outputs": [],
   "source": []
  },
  {
   "cell_type": "code",
   "execution_count": null,
   "metadata": {},
   "outputs": [],
   "source": []
  },
  {
   "cell_type": "code",
   "execution_count": null,
   "metadata": {},
   "outputs": [],
   "source": []
  }
 ],
 "metadata": {
  "kernelspec": {
   "display_name": "Python 3",
   "language": "python",
   "name": "python3"
  },
  "language_info": {
   "codemirror_mode": {
    "name": "ipython",
    "version": 3
   },
   "file_extension": ".py",
   "mimetype": "text/x-python",
   "name": "python",
   "nbconvert_exporter": "python",
   "pygments_lexer": "ipython3",
   "version": "3.11.7"
  }
 },
 "nbformat": 4,
 "nbformat_minor": 2
}
