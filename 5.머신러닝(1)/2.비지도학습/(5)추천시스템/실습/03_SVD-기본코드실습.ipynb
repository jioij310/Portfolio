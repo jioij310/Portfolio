{
 "cells": [
  {
   "cell_type": "markdown",
   "metadata": {},
   "source": [
    "# SVD 알고리즘 기본 코드\n",
    "\n",
    "## #01. 준비작업\n",
    "\n",
    "### [1] 패키지 가져오기"
   ]
  },
  {
   "cell_type": "code",
   "execution_count": 1,
   "metadata": {},
   "outputs": [
    {
     "name": "stderr",
     "output_type": "stream",
     "text": [
      "Intel(R) Extension for Scikit-learn* enabled (https://github.com/intel/scikit-learn-intelex)\n"
     ]
    }
   ],
   "source": [
    "import warnings\n",
    "warnings.filterwarnings('ignore')\n",
    "\n",
    "# Intel SKlearn 하드웨어 가속 패치 설정\n",
    "import sys\n",
    "if sys.platform == 'win32':\n",
    "    from sklearnex import patch_sklearn\n",
    "    patch_sklearn()\n",
    "\n",
    "from hossam.util import *\n",
    "from hossam.plot import *\n",
    "from hossam.analysis import *\n",
    "from hossam.classification import *\n",
    "\n",
    "from sklearn.linear_model import SGDClassifier\n",
    "\n",
    "\n",
    "from surprise import Dataset,  Reader, SVD\n",
    "from surprise.model_selection import train_test_split, cross_validate, GridSearchCV, RandomizedSearchCV\n",
    "from surprise.accuracy import rmse, mae"
   ]
  },
  {
   "cell_type": "code",
   "execution_count": 2,
   "metadata": {},
   "outputs": [
    {
     "name": "stdout",
     "output_type": "stream",
     "text": [
      "<class 'pandas.core.frame.DataFrame'>\n",
      "RangeIndex: 100836 entries, 0 to 100835\n",
      "Data columns (total 4 columns):\n",
      " #   Column     Non-Null Count   Dtype  \n",
      "---  ------     --------------   -----  \n",
      " 0   userId     100836 non-null  int64  \n",
      " 1   movieId    100836 non-null  int64  \n",
      " 2   rating     100836 non-null  float64\n",
      " 3   timestamp  100836 non-null  int64  \n",
      "dtypes: float64(1), int64(3)\n",
      "memory usage: 3.1 MB\n",
      "None\n",
      "\n",
      "데이터프레임 상위 5개 행\n",
      "+----+----------+-----------+----------+-------------+\n",
      "|    |   userId |   movieId |   rating |   timestamp |\n",
      "|----+----------+-----------+----------+-------------|\n",
      "|  0 |        1 |         1 |        4 | 9.64983e+08 |\n",
      "|  1 |        1 |         3 |        4 | 9.64981e+08 |\n",
      "|  2 |        1 |         6 |        4 | 9.64982e+08 |\n",
      "|  3 |        1 |        47 |        5 | 9.64984e+08 |\n",
      "|  4 |        1 |        50 |        5 | 9.64983e+08 |\n",
      "+----+----------+-----------+----------+-------------+\n",
      "\n",
      "데이터프레임 하위 5개 행\n",
      "+--------+----------+-----------+----------+-------------+\n",
      "|        |   userId |   movieId |   rating |   timestamp |\n",
      "|--------+----------+-----------+----------+-------------|\n",
      "| 100831 |      610 |    166534 |        4 | 1.49385e+09 |\n",
      "| 100832 |      610 |    168248 |        5 | 1.49385e+09 |\n",
      "| 100833 |      610 |    168250 |        5 | 1.49427e+09 |\n",
      "| 100834 |      610 |    168252 |        5 | 1.49385e+09 |\n",
      "| 100835 |      610 |    170875 |        3 | 1.49385e+09 |\n",
      "+--------+----------+-----------+----------+-------------+\n",
      "\n",
      "기술통계\n",
      "+-----------+---------+-------------+-------------+-------------+-------------+-------------+-------------+------------+-------+\n",
      "|           |   count |        mean |         std |         min |         25% |         50% |         75% |        max |   nan |\n",
      "|-----------+---------+-------------+-------------+-------------+-------------+-------------+-------------+------------+-------|\n",
      "| userId    |  100836 |     326.128 |     182.618 |           1 |         177 |         325 |         477 |        610 |     0 |\n",
      "| movieId   |  100836 |     19435.3 |       35531 |           1 |        1199 |        2991 |        8122 |     193609 |     0 |\n",
      "| rating    |  100836 |     3.50156 |     1.04253 |         0.5 |           3 |         3.5 |           4 |          5 |     0 |\n",
      "| timestamp |  100836 | 1.20595e+09 | 2.16261e+08 | 8.28125e+08 | 1.01912e+09 | 1.18609e+09 | 1.43599e+09 | 1.5378e+09 |     0 |\n",
      "+-----------+---------+-------------+-------------+-------------+-------------+-------------+-------------+------------+-------+\n"
     ]
    }
   ],
   "source": [
    "origin = my_read_excel('C:/Users/Jihwan/Desktop/01Class/E.추론통계,머신러닝/E.InferentialStatistics/수업자료/movie_ratings.xlsx',sheet_name='ratings')"
   ]
  },
  {
   "cell_type": "markdown",
   "metadata": {},
   "source": [
    "## #02. 데이터 전처리\n",
    "\n",
    "### [1] Surprise 형식의 데이터로 변환\n",
    "\n",
    "`사용자 번호, 아이템 번호, 평점` 구조의 데이터를 만족해야 한다."
   ]
  },
  {
   "cell_type": "code",
   "execution_count": 3,
   "metadata": {},
   "outputs": [],
   "source": [
    "df = origin.drop('timestamp', axis=1)\n",
    "\n",
    "reader = Reader(rating_scale=(0.5, 5.0))\n",
    "\n",
    "data = Dataset.load_from_df(df, reader)"
   ]
  },
  {
   "cell_type": "markdown",
   "metadata": {},
   "source": [
    "## #03. 추천 모형 구현\n",
    "\n",
    "### [1] 하이퍼파라미터 튜닝"
   ]
  },
  {
   "cell_type": "code",
   "execution_count": 4,
   "metadata": {},
   "outputs": [],
   "source": [
    "params = {\n",
    "        \"n_epochs\": [20, 40, 50],\n",
    "        \"n_factors\": [100, 200, 300]\n",
    "\n",
    "    }\n",
    "\n",
    "grid = GridSearchCV(SVD, \n",
    "                          param_grid=params,\n",
    "                          measures=['RMSE', 'MAE'],\n",
    "                          cv=5,\n",
    "                          n_jobs=-1,\n",
    "                          )\n",
    "\n",
    "grid.fit(data)                                           "
   ]
  },
  {
   "cell_type": "markdown",
   "metadata": {},
   "source": [
    "### [2] 결과확인\n",
    "\n",
    "#### (1) 하이퍼파라미터와 확인"
   ]
  },
  {
   "cell_type": "code",
   "execution_count": 5,
   "metadata": {},
   "outputs": [
    {
     "data": {
      "text/plain": [
       "[{'n_epochs': 20, 'n_factors': 100},\n",
       " {'n_epochs': 20, 'n_factors': 200},\n",
       " {'n_epochs': 20, 'n_factors': 300},\n",
       " {'n_epochs': 40, 'n_factors': 100},\n",
       " {'n_epochs': 40, 'n_factors': 200},\n",
       " {'n_epochs': 40, 'n_factors': 300},\n",
       " {'n_epochs': 50, 'n_factors': 100},\n",
       " {'n_epochs': 50, 'n_factors': 200},\n",
       " {'n_epochs': 50, 'n_factors': 300}]"
      ]
     },
     "execution_count": 5,
     "metadata": {},
     "output_type": "execute_result"
    }
   ],
   "source": [
    "grid.cv_results['params']"
   ]
  },
  {
   "cell_type": "markdown",
   "metadata": {},
   "source": [
    "#### (3) 성능평가지표 확인"
   ]
  },
  {
   "cell_type": "code",
   "execution_count": 8,
   "metadata": {},
   "outputs": [
    {
     "name": "stdout",
     "output_type": "stream",
     "text": [
      "+----+------------+-------------+----------+----------+\n",
      "|    |   n_epochs |   n_factors |     rmse |      mae |\n",
      "|----+------------+-------------+----------+----------|\n",
      "|  0 |         20 |         100 | 0.875099 | 0.671894 |\n",
      "|  1 |         20 |         200 | 0.875099 | 0.671894 |\n",
      "|  2 |         20 |         300 | 0.875099 | 0.671894 |\n",
      "|  3 |         40 |         100 | 0.875099 | 0.671894 |\n",
      "|  4 |         40 |         200 | 0.875099 | 0.671894 |\n",
      "|  5 |         40 |         300 | 0.875099 | 0.671894 |\n",
      "|  6 |         50 |         100 | 0.875099 | 0.671894 |\n",
      "|  7 |         50 |         200 | 0.875099 | 0.671894 |\n",
      "|  8 |         50 |         300 | 0.875099 | 0.671894 |\n",
      "+----+------------+-------------+----------+----------+\n"
     ]
    }
   ],
   "source": [
    "df = DataFrame(grid.cv_results['params'])\n",
    "df['rmse'] = grid.best_score['rmse']\n",
    "df['mae'] = grid.best_score['mae']\n",
    "df.sort_values('rmse', ascending=False, inplace=True)\n",
    "my_pretty_table(df)"
   ]
  },
  {
   "cell_type": "markdown",
   "metadata": {},
   "source": [
    "#### (4) 최적의 하이퍼파라미터 확인"
   ]
  },
  {
   "cell_type": "code",
   "execution_count": 10,
   "metadata": {},
   "outputs": [
    {
     "data": {
      "text/plain": [
       "{'rmse': {'n_epochs': 20, 'n_factors': 100},\n",
       " 'mae': {'n_epochs': 20, 'n_factors': 100}}"
      ]
     },
     "execution_count": 10,
     "metadata": {},
     "output_type": "execute_result"
    }
   ],
   "source": [
    "grid.best_params"
   ]
  },
  {
   "cell_type": "markdown",
   "metadata": {},
   "source": [
    "#### (5) 최적 추정기"
   ]
  },
  {
   "cell_type": "code",
   "execution_count": 11,
   "metadata": {},
   "outputs": [
    {
     "data": {
      "text/plain": [
       "{'rmse': <surprise.prediction_algorithms.matrix_factorization.SVD at 0x14ef6177ed0>,\n",
       " 'mae': <surprise.prediction_algorithms.matrix_factorization.SVD at 0x14ef6177ad0>}"
      ]
     },
     "execution_count": 11,
     "metadata": {},
     "output_type": "execute_result"
    }
   ],
   "source": [
    "grid.best_estimator"
   ]
  },
  {
   "cell_type": "markdown",
   "metadata": {},
   "source": [
    "#### (6) 최적 추정기를 활용한 컨텐츠 추천\n",
    "\n",
    "학습을 다시 시켜야 한다."
   ]
  },
  {
   "cell_type": "code",
   "execution_count": 12,
   "metadata": {},
   "outputs": [],
   "source": [
    "train, test = train_test_split(data, test_size=0.2, random_state=1234)"
   ]
  },
  {
   "cell_type": "code",
   "execution_count": 13,
   "metadata": {},
   "outputs": [
    {
     "data": {
      "text/plain": [
       "[Prediction(uid=603, iid=3996, r_ui=5.0, est=3.439236152725872, details={'was_impossible': False}),\n",
       " Prediction(uid=199, iid=2912, r_ui=4.0, est=3.5170501422974993, details={'was_impossible': False}),\n",
       " Prediction(uid=416, iid=2716, r_ui=2.0, est=3.0815827230864317, details={'was_impossible': False}),\n",
       " Prediction(uid=589, iid=150, r_ui=4.0, est=4.311212149203156, details={'was_impossible': False}),\n",
       " Prediction(uid=307, iid=6755, r_ui=4.0, est=2.825910237186873, details={'was_impossible': False})]"
      ]
     },
     "execution_count": 13,
     "metadata": {},
     "output_type": "execute_result"
    }
   ],
   "source": [
    "estimator = grid.best_estimator['rmse']\n",
    "estimator.fit(train)\n",
    "pred = estimator.test(test)\n",
    "pred[:5]"
   ]
  },
  {
   "cell_type": "code",
   "execution_count": 14,
   "metadata": {},
   "outputs": [
    {
     "data": {
      "text/plain": [
       "Prediction(uid=68, iid=434, r_ui=None, est=2.5535525980117835, details={'was_impossible': False})"
      ]
     },
     "execution_count": 14,
     "metadata": {},
     "output_type": "execute_result"
    }
   ],
   "source": [
    "estimator.predict(uid=68, iid=434)"
   ]
  }
 ],
 "metadata": {
  "kernelspec": {
   "display_name": "Python 3",
   "language": "python",
   "name": "python3"
  },
  "language_info": {
   "codemirror_mode": {
    "name": "ipython",
    "version": 3
   },
   "file_extension": ".py",
   "mimetype": "text/x-python",
   "name": "python",
   "nbconvert_exporter": "python",
   "pygments_lexer": "ipython3",
   "version": "3.11.7"
  }
 },
 "nbformat": 4,
 "nbformat_minor": 2
}
