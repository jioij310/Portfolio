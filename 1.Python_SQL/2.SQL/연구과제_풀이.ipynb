{
 "cells": [
  {
   "cell_type": "markdown",
   "metadata": {},
   "source": [
    "# 연구과제 풀이\n",
    "\n",
    "## 문제 1.\n",
    "\n",
    "traffic 파일을 자신의 작업폴더에 다운로드 받은 후 데이터베이스에 저장하세요.\n",
    "\n",
    "이를 위해 직접 DBMS안에 테이블을 생성해야 합니다.\n",
    "```"
   ]
  },
  {
   "cell_type": "markdown",
   "metadata": {},
   "source": [
    "### [1] 준비작업\n",
    "\n",
    "#### (1) 테이블 정의\n",
    "\n",
    "```SQL\n",
    "CREATE TABLE traffic_acc (\n",
    "    id number not null,\n",
    "    year number not null,\n",
    "    month number not null,\n",
    "    cases number not null,\n",
    "    death number not null,\n",
    "    injury number not null,\n",
    "    primary key(id)\n",
    ");\n",
    "\n",
    "CREATE SEQUENCE seq_traffic_acc START WITH 1 INCREMENT BY 1;\n",
    "```\n",
    "\n",
    "#### (2) 패키지 참조"
   ]
  },
  {
   "cell_type": "code",
   "execution_count": 1,
   "metadata": {},
   "outputs": [],
   "source": [
    "import warnings\n",
    "warnings.filterwarnings(action='ignore')\n",
    "\n",
    "\n",
    "import cx_Oracle as cx"
   ]
  },
  {
   "cell_type": "markdown",
   "metadata": {},
   "source": [
    "#### (3) 데이터 가져오기"
   ]
  },
  {
   "cell_type": "code",
   "execution_count": 2,
   "metadata": {},
   "outputs": [
    {
     "data": {
      "text/plain": [
       "['\\ufeff년도,월,발생건수,사망자수,부상자수\\n',\n",
       " '2005,1,15494 ,504 ,25413 \\n',\n",
       " '2005,2,13244 ,431 ,21635 \\n',\n",
       " '2005,3,16580 ,477 ,25550 \\n',\n",
       " '2005,4,17817 ,507 ,28131 \\n']"
      ]
     },
     "execution_count": 2,
     "metadata": {},
     "output_type": "execute_result"
    }
   ],
   "source": [
    "with open('traffic_acc.csv', 'r', encoding='utf-8') as f:\n",
    "    traffic_data = f.readlines()\n",
    "\n",
    "traffic_data[:5]"
   ]
  },
  {
   "cell_type": "markdown",
   "metadata": {},
   "source": [
    "#### (4) 데이터베이스 접속"
   ]
  },
  {
   "cell_type": "code",
   "execution_count": 4,
   "metadata": {},
   "outputs": [],
   "source": [
    "dbcon = cx.connect(\"C##\", \"\", \"localhost:1521/xe\")\n",
    "cursor = dbcon.cursor()"
   ]
  },
  {
   "cell_type": "markdown",
   "metadata": {},
   "source": [
    "### [2] CSV 파일의 내용을 SQL로 저장하기"
   ]
  },
  {
   "cell_type": "code",
   "execution_count": 5,
   "metadata": {},
   "outputs": [],
   "source": [
    "sql = \"INSERT INTO traffic_acc (id, year, month, cases, death, injury) VALUES (seq_department.nextval, :1, :2, :3, :4, :5)\"\n",
    "\n",
    "for item in traffic_data[1:]:\n",
    "    line = item.strip().split(\",\")\n",
    "    line = list(map(int, line))\n",
    "    cursor.execute(sql, line)\n",
    "\n",
    "dbcon.commit()"
   ]
  },
  {
   "cell_type": "markdown",
   "metadata": {},
   "source": [
    "#### 결과확인"
   ]
  },
  {
   "cell_type": "code",
   "execution_count": 6,
   "metadata": {},
   "outputs": [
    {
     "name": "stdout",
     "output_type": "stream",
     "text": [
      "[{'ID': 300, 'YEAR': 2005, 'MONTH': 1, 'CASES': 15494, 'DEATH': 504, 'INJURY': 25413}, {'ID': 301, 'YEAR': 2005, 'MONTH': 2, 'CASES': 13244, 'DEATH': 431, 'INJURY': 21635}, {'ID': 302, 'YEAR': 2005, 'MONTH': 3, 'CASES': 16580, 'DEATH': 477, 'INJURY': 25550}, {'ID': 303, 'YEAR': 2005, 'MONTH': 4, 'CASES': 17817, 'DEATH': 507, 'INJURY': 28131}, {'ID': 304, 'YEAR': 2005, 'MONTH': 5, 'CASES': 19085, 'DEATH': 571, 'INJURY': 29808}]\n"
     ]
    }
   ],
   "source": [
    "sql = \"SELECT * FROM traffic_acc\"\n",
    "\n",
    "try:\n",
    "    cursor.execute(sql)\n",
    "    cursor.rowfactory = lambda *args: dict(zip([d[0] for d in cursor.description], args))\n",
    "    result = cursor.fetchall()\n",
    "except Exception as e:\n",
    "    print(\"데이터 조회 실패\", e)\n",
    "    \n",
    "print(result[:5])"
   ]
  }
 ],
 "metadata": {
  "kernelspec": {
   "display_name": "Python 3",
   "language": "python",
   "name": "python3"
  },
  "language_info": {
   "codemirror_mode": {
    "name": "ipython",
    "version": 3
   },
   "file_extension": ".py",
   "mimetype": "text/x-python",
   "name": "python",
   "nbconvert_exporter": "python",
   "pygments_lexer": "ipython3",
   "version": "3.11.8"
  }
 },
 "nbformat": 4,
 "nbformat_minor": 2
}
