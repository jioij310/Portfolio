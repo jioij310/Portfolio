{
 "cells": [
  {
   "cell_type": "markdown",
   "metadata": {},
   "source": [
    "# Python-Oracle 연동 - 입력, 수정, 삭제\n",
    "\n",
    "## #01. 준비작업\n",
    "\n",
    "### [1] 패키지 참조"
   ]
  },
  {
   "cell_type": "code",
   "execution_count": 1,
   "metadata": {},
   "outputs": [],
   "source": [
    "import warnings\n",
    "warnings.filterwarnings(action='ignore')\n",
    "\n",
    "import cx_Oracle as cx"
   ]
  },
  {
   "cell_type": "markdown",
   "metadata": {},
   "source": [
    "## #02. cx_oracle을 사용한 연동\n",
    "\n",
    "### [1] 데이터베이스 접속 및 cursor 객체 생성"
   ]
  },
  {
   "cell_type": "code",
   "execution_count": 43,
   "metadata": {},
   "outputs": [],
   "source": [
    "dbcon = cx.connect(\"C##\", \"\", \"localhost:1521/xe\")\n",
    "cursor = dbcon.cursor()"
   ]
  },
  {
   "cell_type": "markdown",
   "metadata": {},
   "source": [
    "### [2] 데이터 저장하기\n",
    "\n",
    "#### (1) 저장을 위한 값 입력받기"
   ]
  },
  {
   "cell_type": "code",
   "execution_count": 41,
   "metadata": {},
   "outputs": [],
   "source": [
    "JOB_ID= input(\"직업번호를 입력하세요\")\n",
    "JOB_TITLE = input(\"직업의 이름을 입력하세요\")\n",
    "MIN_SALARY = input(\"최소 연봉을 입력하세요\")\n",
    "MAX_SALARY = input(\"최대 연봉을 입력하세요\")"
   ]
  },
  {
   "cell_type": "code",
   "execution_count": 44,
   "metadata": {},
   "outputs": [
    {
     "name": "stdout",
     "output_type": "stream",
     "text": [
      "99\n"
     ]
    }
   ],
   "source": [
    "print(JOB_ID)"
   ]
  },
  {
   "cell_type": "markdown",
   "metadata": {},
   "source": [
    "#### (2) 저장을 위한 새로운 시퀀스값 조회"
   ]
  },
  {
   "cell_type": "code",
   "execution_count": 52,
   "metadata": {},
   "outputs": [
    {
     "name": "stdout",
     "output_type": "stream",
     "text": [
      "[{'JOB_ID': 'AD_PRES', 'JOB_TITLE': 'President', 'MIN_SALARY': 20000, 'MAX_SALARY': 40000}, {'JOB_ID': 'AD_VP', 'JOB_TITLE': 'Administration Vice President', 'MIN_SALARY': 15000, 'MAX_SALARY': 30000}, {'JOB_ID': 'AD_ASST', 'JOB_TITLE': 'Administration Assistant', 'MIN_SALARY': 3000, 'MAX_SALARY': 6000}, {'JOB_ID': 'FI_MGR', 'JOB_TITLE': 'Finance Manager', 'MIN_SALARY': 8200, 'MAX_SALARY': 16000}, {'JOB_ID': 'FI_ACCOUNT', 'JOB_TITLE': 'Accountant', 'MIN_SALARY': 4200, 'MAX_SALARY': 9000}, {'JOB_ID': 'AC_MGR', 'JOB_TITLE': 'Accounting Manager', 'MIN_SALARY': 8200, 'MAX_SALARY': 16000}, {'JOB_ID': 'AC_ACCOUNT', 'JOB_TITLE': 'Public Accountant', 'MIN_SALARY': 4200, 'MAX_SALARY': 9000}, {'JOB_ID': 'SA_MAN', 'JOB_TITLE': 'Sales Manager', 'MIN_SALARY': 10000, 'MAX_SALARY': 20000}, {'JOB_ID': 'SA_REP', 'JOB_TITLE': 'Sales Representative', 'MIN_SALARY': 6000, 'MAX_SALARY': 12000}, {'JOB_ID': 'PU_MAN', 'JOB_TITLE': 'Purchasing Manager', 'MIN_SALARY': 8000, 'MAX_SALARY': 15000}, {'JOB_ID': 'PU_CLERK', 'JOB_TITLE': 'Purchasing Clerk', 'MIN_SALARY': 2500, 'MAX_SALARY': 5500}, {'JOB_ID': 'ST_MAN', 'JOB_TITLE': 'Stock Manager', 'MIN_SALARY': 5500, 'MAX_SALARY': 8500}, {'JOB_ID': 'ST_CLERK', 'JOB_TITLE': 'Stock Clerk', 'MIN_SALARY': 2000, 'MAX_SALARY': 5000}, {'JOB_ID': 'SH_CLERK', 'JOB_TITLE': 'Shipping Clerk', 'MIN_SALARY': 2500, 'MAX_SALARY': 5500}, {'JOB_ID': 'IT_PROG', 'JOB_TITLE': 'Programmer', 'MIN_SALARY': 4000, 'MAX_SALARY': 10000}, {'JOB_ID': 'MK_MAN', 'JOB_TITLE': 'Marketing Manager', 'MIN_SALARY': 9000, 'MAX_SALARY': 15000}, {'JOB_ID': 'MK_REP', 'JOB_TITLE': 'Marketing Representative', 'MIN_SALARY': 4000, 'MAX_SALARY': 9000}, {'JOB_ID': 'HR_REP', 'JOB_TITLE': 'Human Resources Representative', 'MIN_SALARY': 4000, 'MAX_SALARY': 9000}, {'JOB_ID': 'PR_REP', 'JOB_TITLE': 'Public Relations Representative', 'MIN_SALARY': 4500, 'MAX_SALARY': 10500}]\n"
     ]
    }
   ],
   "source": [
    "sql = \"SELECT * FROM JOBS\"\n",
    "\n",
    "try:\n",
    "    cursor.execute(sql)\n",
    "\n",
    "    # rowfactory 재정의 - 접속 해제 전까지 최초 1회만 수행하면 된다.\n",
    "    cursor.rowfactory = lambda *args: dict(zip([d[0] for d in cursor.description], args))\n",
    "\n",
    "    result = cursor.fetchall()\n",
    "    print(result)\n",
    "except Exception as e:\n",
    "    print(\"데이터 조회 실패\", e)"
   ]
  },
  {
   "cell_type": "code",
   "execution_count": 50,
   "metadata": {},
   "outputs": [
    {
     "name": "stdout",
     "output_type": "stream",
     "text": [
      "[(22,)]\n",
      "새로운 시퀀스 번호: 22\n"
     ]
    }
   ],
   "source": [
    "sql = \"SELECT seq_jobs.nextval FROM dual\"\n",
    "cursor.execute(sql)\n",
    "result = cursor.fetchall()\n",
    "print(result)\n",
    "\n",
    "seq = result[0][0]\n",
    "print(\"새로운 시퀀스 번호: %d\" % seq)"
   ]
  },
  {
   "cell_type": "markdown",
   "metadata": {},
   "source": [
    "#### (3) INSERT문 수행"
   ]
  },
  {
   "cell_type": "code",
   "execution_count": 53,
   "metadata": {},
   "outputs": [
    {
     "name": "stdout",
     "output_type": "stream",
     "text": [
      "1개의 행이 저장됨\n"
     ]
    }
   ],
   "source": [
    "sql = \"INSERT INTO JOBS (JOB_ID, JOB_TITLE,MIN_SALARY,MAX_SALARY) VALUES (:1, :2, :3, :4)\"\n",
    "\n",
    "#                    :1     :2    :3\n",
    "cursor.execute(sql, [seq, JOB_TITLE, MIN_SALARY, MAX_SALARY])\n",
    "print(\"%s개의 행이 저장됨\" % cursor.rowcount)\n",
    "\n",
    "dbcon.commit()\n",
    "\n",
    "# 되돌리기\n",
    "# --> 이미 commit()한 내역은 적용안됨\n",
    "#dbcon.rollback()"
   ]
  },
  {
   "cell_type": "markdown",
   "metadata": {},
   "source": [
    "#### (4) UPDATE문 수행"
   ]
  },
  {
   "cell_type": "code",
   "execution_count": null,
   "metadata": {},
   "outputs": [],
   "source": [
    "sql = \"UPDATE department SET dname=:1, loc=:2 WHERE deptno=:3\"\n",
    "cursor.execute(sql, ['메가스터디', '신촌', seq])\n",
    "print(\"%s개의 행이 갱신됨\" % cursor.rowcount)\n",
    "dbcon.commit()"
   ]
  },
  {
   "cell_type": "markdown",
   "metadata": {},
   "source": [
    "#### (5) DELETE문 수행"
   ]
  },
  {
   "cell_type": "code",
   "execution_count": null,
   "metadata": {},
   "outputs": [],
   "source": [
    "sql = \"DELETE FROM department WHERE deptno = :1\"\n",
    "cursor.execute(sql, [seq])\n",
    "print(\"%s개의 행이 삭제됨\" % cursor.rowcount)\n",
    "dbcon.commit()"
   ]
  },
  {
   "cell_type": "markdown",
   "metadata": {},
   "source": [
    "### [3] 데이터베이스 접속 해제"
   ]
  },
  {
   "cell_type": "code",
   "execution_count": 54,
   "metadata": {},
   "outputs": [],
   "source": [
    "try:\n",
    "    cursor.close()\n",
    "    dbcon.close()\n",
    "except Exception as e:\n",
    "    print(\"접속 상태가 아닙니다.\", e)"
   ]
  }
 ],
 "metadata": {
  "kernelspec": {
   "display_name": "Python 3",
   "language": "python",
   "name": "python3"
  },
  "language_info": {
   "codemirror_mode": {
    "name": "ipython",
    "version": 3
   },
   "file_extension": ".py",
   "mimetype": "text/x-python",
   "name": "python",
   "nbconvert_exporter": "python",
   "pygments_lexer": "ipython3",
   "version": "3.11.8"
  }
 },
 "nbformat": 4,
 "nbformat_minor": 2
}
