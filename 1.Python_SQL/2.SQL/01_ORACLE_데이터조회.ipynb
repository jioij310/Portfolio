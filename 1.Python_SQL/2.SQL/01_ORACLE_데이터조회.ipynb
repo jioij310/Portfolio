{
 "cells": [
  {
   "cell_type": "markdown",
   "metadata": {},
   "source": [
    "# Python-Oracle 연동 - 데이터 조회\n",
    "\n",
    "### [1] 패키지 참조"
   ]
  },
  {
   "cell_type": "code",
   "execution_count": 2,
   "metadata": {},
   "outputs": [],
   "source": [
    "import warnings\n",
    "warnings.filterwarnings(action='ignore')\n",
    "\n",
    "import cx_Oracle as cx\n",
    "from sqlalchemy import create_engine\n",
    "from pandas import DataFrame, read_sql_table"
   ]
  },
  {
   "cell_type": "markdown",
   "metadata": {},
   "source": [
    "## #02. cx_oracle을 사용한 연동\n",
    "\n",
    "데이터베이스 연동 과정은 `데이터베이스 접속 -> SQL 실행 객체(cursor) 생성 -> 결과 처리 -> 데이터베이스 접속 해제`의 순서로 진행된다.\n",
    "\n",
    "### [1] 데이터베이스 접속"
   ]
  },
  {
   "cell_type": "code",
   "execution_count": null,
   "metadata": {},
   "outputs": [],
   "source": [
    "dbcon = cx.connect(\"C##\",                \n",
    "                   \" \",                \n",
    "                   \"localhost:1521/xe\"  \n",
    ")\n",
    "dbcon"
   ]
  },
  {
   "cell_type": "markdown",
   "metadata": {},
   "source": [
    "### [2] Cursor 객체 생성"
   ]
  },
  {
   "cell_type": "code",
   "execution_count": 3,
   "metadata": {},
   "outputs": [],
   "source": [
    "cursor = dbcon.cursor()"
   ]
  },
  {
   "cell_type": "markdown",
   "metadata": {},
   "source": [
    "### [3] 데이터 조회를 위한 SQL문 수행\n",
    "\n",
    "#### (1) 튜플을 원소로 갖는 리스트 형태로 조회"
   ]
  },
  {
   "cell_type": "code",
   "execution_count": 4,
   "metadata": {},
   "outputs": [
    {
     "name": "stdout",
     "output_type": "stream",
     "text": [
      "[('AD_PRES', 'President', 20000, 40000), ('AD_VP', 'Administration Vice President', 15000, 30000), ('AD_ASST', 'Administration Assistant', 3000, 6000), ('FI_MGR', 'Finance Manager', 8200, 16000), ('FI_ACCOUNT', 'Accountant', 4200, 9000), ('AC_MGR', 'Accounting Manager', 8200, 16000), ('AC_ACCOUNT', 'Public Accountant', 4200, 9000), ('SA_MAN', 'Sales Manager', 10000, 20000), ('SA_REP', 'Sales Representative', 6000, 12000), ('PU_MAN', 'Purchasing Manager', 8000, 15000), ('PU_CLERK', 'Purchasing Clerk', 2500, 5500), ('ST_MAN', 'Stock Manager', 5500, 8500), ('ST_CLERK', 'Stock Clerk', 2000, 5000), ('SH_CLERK', 'Shipping Clerk', 2500, 5500), ('IT_PROG', 'Programmer', 4000, 10000), ('MK_MAN', 'Marketing Manager', 9000, 15000), ('MK_REP', 'Marketing Representative', 4000, 9000), ('HR_REP', 'Human Resources Representative', 4000, 9000), ('PR_REP', 'Public Relations Representative', 4500, 10500)]\n"
     ]
    }
   ],
   "source": [
    "sql = \"SELECT * FROM JOBS\"\n",
    "\n",
    "try:\n",
    "    cursor.execute(sql)\n",
    "    result = cursor.fetchall()\n",
    "    print(result)\n",
    "except Exception as e:\n",
    "    print(\"데이터 조회 실패\", e)"
   ]
  },
  {
   "cell_type": "markdown",
   "metadata": {},
   "source": [
    "#### (2) 딕셔너리를 원소로 갖는 리스트 형태로 조회\n",
    "\n",
    "cx_oracle은 별도의 딕셔너리 형태를 제공하지 않는다.\n",
    "\n",
    "cursor객체의 rowfactory 프로퍼티를 직접 재정의 해야 한다."
   ]
  },
  {
   "cell_type": "code",
   "execution_count": 5,
   "metadata": {},
   "outputs": [
    {
     "name": "stdout",
     "output_type": "stream",
     "text": [
      "[{'JOB_ID': 'AD_PRES', 'JOB_TITLE': 'President', 'MIN_SALARY': 20000, 'MAX_SALARY': 40000}, {'JOB_ID': 'AD_VP', 'JOB_TITLE': 'Administration Vice President', 'MIN_SALARY': 15000, 'MAX_SALARY': 30000}, {'JOB_ID': 'AD_ASST', 'JOB_TITLE': 'Administration Assistant', 'MIN_SALARY': 3000, 'MAX_SALARY': 6000}, {'JOB_ID': 'FI_MGR', 'JOB_TITLE': 'Finance Manager', 'MIN_SALARY': 8200, 'MAX_SALARY': 16000}, {'JOB_ID': 'FI_ACCOUNT', 'JOB_TITLE': 'Accountant', 'MIN_SALARY': 4200, 'MAX_SALARY': 9000}, {'JOB_ID': 'AC_MGR', 'JOB_TITLE': 'Accounting Manager', 'MIN_SALARY': 8200, 'MAX_SALARY': 16000}, {'JOB_ID': 'AC_ACCOUNT', 'JOB_TITLE': 'Public Accountant', 'MIN_SALARY': 4200, 'MAX_SALARY': 9000}, {'JOB_ID': 'SA_MAN', 'JOB_TITLE': 'Sales Manager', 'MIN_SALARY': 10000, 'MAX_SALARY': 20000}, {'JOB_ID': 'SA_REP', 'JOB_TITLE': 'Sales Representative', 'MIN_SALARY': 6000, 'MAX_SALARY': 12000}, {'JOB_ID': 'PU_MAN', 'JOB_TITLE': 'Purchasing Manager', 'MIN_SALARY': 8000, 'MAX_SALARY': 15000}, {'JOB_ID': 'PU_CLERK', 'JOB_TITLE': 'Purchasing Clerk', 'MIN_SALARY': 2500, 'MAX_SALARY': 5500}, {'JOB_ID': 'ST_MAN', 'JOB_TITLE': 'Stock Manager', 'MIN_SALARY': 5500, 'MAX_SALARY': 8500}, {'JOB_ID': 'ST_CLERK', 'JOB_TITLE': 'Stock Clerk', 'MIN_SALARY': 2000, 'MAX_SALARY': 5000}, {'JOB_ID': 'SH_CLERK', 'JOB_TITLE': 'Shipping Clerk', 'MIN_SALARY': 2500, 'MAX_SALARY': 5500}, {'JOB_ID': 'IT_PROG', 'JOB_TITLE': 'Programmer', 'MIN_SALARY': 4000, 'MAX_SALARY': 10000}, {'JOB_ID': 'MK_MAN', 'JOB_TITLE': 'Marketing Manager', 'MIN_SALARY': 9000, 'MAX_SALARY': 15000}, {'JOB_ID': 'MK_REP', 'JOB_TITLE': 'Marketing Representative', 'MIN_SALARY': 4000, 'MAX_SALARY': 9000}, {'JOB_ID': 'HR_REP', 'JOB_TITLE': 'Human Resources Representative', 'MIN_SALARY': 4000, 'MAX_SALARY': 9000}, {'JOB_ID': 'PR_REP', 'JOB_TITLE': 'Public Relations Representative', 'MIN_SALARY': 4500, 'MAX_SALARY': 10500}]\n"
     ]
    }
   ],
   "source": [
    "sql = \"SELECT * FROM JOBS\"\n",
    "\n",
    "try:\n",
    "    cursor.execute(sql)\n",
    "\n",
    "    # rowfactory 재정의 - 접속 해제 전까지 최초 1회만 수행하면 된다.\n",
    "    cursor.rowfactory = lambda *args: dict(zip([d[0] for d in cursor.description], args))\n",
    "\n",
    "    result = cursor.fetchall()\n",
    "    print(result)\n",
    "except Exception as e:\n",
    "    print(\"데이터 조회 실패\", e)"
   ]
  },
  {
   "cell_type": "markdown",
   "metadata": {},
   "source": [
    "### [4] 조회 결과를 활용한 후속 처리\n",
    "\n",
    "#### (1) 수업에서 배운 내용 활용"
   ]
  },
  {
   "cell_type": "code",
   "execution_count": 10,
   "metadata": {},
   "outputs": [],
   "source": [
    "with open('department.csv', 'w', encoding='utf-8') as f:\n",
    "    for i, v in enumerate(result):\n",
    "        if i == 0:\n",
    "            keys = list(v.keys())\n",
    "            titleLine = \"%s\\n\" % \",\".join(keys)\n",
    "            f.write(titleLine)\n",
    "        \n",
    "        values = list(v.values())\n",
    "        # values의 모든 원소를 str 타입으로 변경\n",
    "        values_str = list(map(str, values))\n",
    "        \n",
    "        valueLine = \"%s\\n\" % \",\".join(values_str)\n",
    "        f.write(valueLine)"
   ]
  },
  {
   "cell_type": "markdown",
   "metadata": {},
   "source": [
    "#### (2) 데이터프레임"
   ]
  },
  {
   "cell_type": "code",
   "execution_count": 7,
   "metadata": {},
   "outputs": [
    {
     "data": {
      "text/html": [
       "<div>\n",
       "<style scoped>\n",
       "    .dataframe tbody tr th:only-of-type {\n",
       "        vertical-align: middle;\n",
       "    }\n",
       "\n",
       "    .dataframe tbody tr th {\n",
       "        vertical-align: top;\n",
       "    }\n",
       "\n",
       "    .dataframe thead th {\n",
       "        text-align: right;\n",
       "    }\n",
       "</style>\n",
       "<table border=\"1\" class=\"dataframe\">\n",
       "  <thead>\n",
       "    <tr style=\"text-align: right;\">\n",
       "      <th></th>\n",
       "      <th>JOB_ID</th>\n",
       "      <th>JOB_TITLE</th>\n",
       "      <th>MIN_SALARY</th>\n",
       "      <th>MAX_SALARY</th>\n",
       "    </tr>\n",
       "  </thead>\n",
       "  <tbody>\n",
       "    <tr>\n",
       "      <th>0</th>\n",
       "      <td>AD_PRES</td>\n",
       "      <td>President</td>\n",
       "      <td>20000</td>\n",
       "      <td>40000</td>\n",
       "    </tr>\n",
       "    <tr>\n",
       "      <th>1</th>\n",
       "      <td>AD_VP</td>\n",
       "      <td>Administration Vice President</td>\n",
       "      <td>15000</td>\n",
       "      <td>30000</td>\n",
       "    </tr>\n",
       "    <tr>\n",
       "      <th>2</th>\n",
       "      <td>AD_ASST</td>\n",
       "      <td>Administration Assistant</td>\n",
       "      <td>3000</td>\n",
       "      <td>6000</td>\n",
       "    </tr>\n",
       "    <tr>\n",
       "      <th>3</th>\n",
       "      <td>FI_MGR</td>\n",
       "      <td>Finance Manager</td>\n",
       "      <td>8200</td>\n",
       "      <td>16000</td>\n",
       "    </tr>\n",
       "    <tr>\n",
       "      <th>4</th>\n",
       "      <td>FI_ACCOUNT</td>\n",
       "      <td>Accountant</td>\n",
       "      <td>4200</td>\n",
       "      <td>9000</td>\n",
       "    </tr>\n",
       "    <tr>\n",
       "      <th>5</th>\n",
       "      <td>AC_MGR</td>\n",
       "      <td>Accounting Manager</td>\n",
       "      <td>8200</td>\n",
       "      <td>16000</td>\n",
       "    </tr>\n",
       "    <tr>\n",
       "      <th>6</th>\n",
       "      <td>AC_ACCOUNT</td>\n",
       "      <td>Public Accountant</td>\n",
       "      <td>4200</td>\n",
       "      <td>9000</td>\n",
       "    </tr>\n",
       "    <tr>\n",
       "      <th>7</th>\n",
       "      <td>SA_MAN</td>\n",
       "      <td>Sales Manager</td>\n",
       "      <td>10000</td>\n",
       "      <td>20000</td>\n",
       "    </tr>\n",
       "    <tr>\n",
       "      <th>8</th>\n",
       "      <td>SA_REP</td>\n",
       "      <td>Sales Representative</td>\n",
       "      <td>6000</td>\n",
       "      <td>12000</td>\n",
       "    </tr>\n",
       "    <tr>\n",
       "      <th>9</th>\n",
       "      <td>PU_MAN</td>\n",
       "      <td>Purchasing Manager</td>\n",
       "      <td>8000</td>\n",
       "      <td>15000</td>\n",
       "    </tr>\n",
       "    <tr>\n",
       "      <th>10</th>\n",
       "      <td>PU_CLERK</td>\n",
       "      <td>Purchasing Clerk</td>\n",
       "      <td>2500</td>\n",
       "      <td>5500</td>\n",
       "    </tr>\n",
       "    <tr>\n",
       "      <th>11</th>\n",
       "      <td>ST_MAN</td>\n",
       "      <td>Stock Manager</td>\n",
       "      <td>5500</td>\n",
       "      <td>8500</td>\n",
       "    </tr>\n",
       "    <tr>\n",
       "      <th>12</th>\n",
       "      <td>ST_CLERK</td>\n",
       "      <td>Stock Clerk</td>\n",
       "      <td>2000</td>\n",
       "      <td>5000</td>\n",
       "    </tr>\n",
       "    <tr>\n",
       "      <th>13</th>\n",
       "      <td>SH_CLERK</td>\n",
       "      <td>Shipping Clerk</td>\n",
       "      <td>2500</td>\n",
       "      <td>5500</td>\n",
       "    </tr>\n",
       "    <tr>\n",
       "      <th>14</th>\n",
       "      <td>IT_PROG</td>\n",
       "      <td>Programmer</td>\n",
       "      <td>4000</td>\n",
       "      <td>10000</td>\n",
       "    </tr>\n",
       "    <tr>\n",
       "      <th>15</th>\n",
       "      <td>MK_MAN</td>\n",
       "      <td>Marketing Manager</td>\n",
       "      <td>9000</td>\n",
       "      <td>15000</td>\n",
       "    </tr>\n",
       "    <tr>\n",
       "      <th>16</th>\n",
       "      <td>MK_REP</td>\n",
       "      <td>Marketing Representative</td>\n",
       "      <td>4000</td>\n",
       "      <td>9000</td>\n",
       "    </tr>\n",
       "    <tr>\n",
       "      <th>17</th>\n",
       "      <td>HR_REP</td>\n",
       "      <td>Human Resources Representative</td>\n",
       "      <td>4000</td>\n",
       "      <td>9000</td>\n",
       "    </tr>\n",
       "    <tr>\n",
       "      <th>18</th>\n",
       "      <td>PR_REP</td>\n",
       "      <td>Public Relations Representative</td>\n",
       "      <td>4500</td>\n",
       "      <td>10500</td>\n",
       "    </tr>\n",
       "  </tbody>\n",
       "</table>\n",
       "</div>"
      ],
      "text/plain": [
       "        JOB_ID                        JOB_TITLE  MIN_SALARY  MAX_SALARY\n",
       "0      AD_PRES                        President       20000       40000\n",
       "1        AD_VP    Administration Vice President       15000       30000\n",
       "2      AD_ASST         Administration Assistant        3000        6000\n",
       "3       FI_MGR                  Finance Manager        8200       16000\n",
       "4   FI_ACCOUNT                       Accountant        4200        9000\n",
       "5       AC_MGR               Accounting Manager        8200       16000\n",
       "6   AC_ACCOUNT                Public Accountant        4200        9000\n",
       "7       SA_MAN                    Sales Manager       10000       20000\n",
       "8       SA_REP             Sales Representative        6000       12000\n",
       "9       PU_MAN               Purchasing Manager        8000       15000\n",
       "10    PU_CLERK                 Purchasing Clerk        2500        5500\n",
       "11      ST_MAN                    Stock Manager        5500        8500\n",
       "12    ST_CLERK                      Stock Clerk        2000        5000\n",
       "13    SH_CLERK                   Shipping Clerk        2500        5500\n",
       "14     IT_PROG                       Programmer        4000       10000\n",
       "15      MK_MAN                Marketing Manager        9000       15000\n",
       "16      MK_REP         Marketing Representative        4000        9000\n",
       "17      HR_REP   Human Resources Representative        4000        9000\n",
       "18      PR_REP  Public Relations Representative        4500       10500"
      ]
     },
     "execution_count": 7,
     "metadata": {},
     "output_type": "execute_result"
    }
   ],
   "source": [
    "df = DataFrame(result)\n",
    "df"
   ]
  },
  {
   "cell_type": "code",
   "execution_count": 11,
   "metadata": {},
   "outputs": [],
   "source": [
    "df.to_csv(\"department2.csv\", index=False, encoding='utf-8')"
   ]
  },
  {
   "cell_type": "code",
   "execution_count": 12,
   "metadata": {},
   "outputs": [],
   "source": [
    "df.to_excel(\"department3.xlsx\", index=False)"
   ]
  },
  {
   "cell_type": "markdown",
   "metadata": {},
   "source": [
    "### [5] 데이터베이스 접속 해제\n"
   ]
  },
  {
   "cell_type": "code",
   "execution_count": 13,
   "metadata": {},
   "outputs": [],
   "source": [
    "try:\n",
    "    cursor.close()\n",
    "    dbcon.close()\n",
    "except Exception as e:\n",
    "    print(\"접속 상태가 아닙니다.\", e)"
   ]
  },
  {
   "cell_type": "markdown",
   "metadata": {},
   "source": [
    "## #03. sqlalchemy를 사용한 연동\n",
    "\n",
    "데이터베이스의 종류를 구분하지 않고 공통된 연동 방법을 제공하는 인터페이스\n",
    "\n",
    "### [1] 데이터베이스 접속하기\n",
    "\n",
    "#### (1) 접속 문자열 생성\n",
    "\n",
    "`oracle+cx_oracle://계정이름:비밀번호@접속주소/SID`"
   ]
  },
  {
   "cell_type": "code",
   "execution_count": 23,
   "metadata": {},
   "outputs": [],
   "source": [
    "conStr = \"oracle+cx_oracle://C##:@localhost:1521/xe\""
   ]
  },
  {
   "cell_type": "markdown",
   "metadata": {},
   "source": [
    "#### (2) 접속"
   ]
  },
  {
   "cell_type": "code",
   "execution_count": 24,
   "metadata": {},
   "outputs": [],
   "source": [
    "engine = create_engine(conStr)\n",
    "dbcon = engine.connect()"
   ]
  },
  {
   "cell_type": "markdown",
   "metadata": {},
   "source": [
    "### [2] 데이터 조회하기\n",
    "\n",
    "조회 결과를 pandas의 DataFrame객체 형태로 반환한다.\n",
    "\n",
    "#### (1) 특정 테이블의 모든 데이터 조회"
   ]
  },
  {
   "cell_type": "code",
   "execution_count": null,
   "metadata": {},
   "outputs": [],
   "source": [
    "df = read_sql_table(\"REGIONS\", con=dbcon)\n",
    "df"
   ]
  },
  {
   "cell_type": "markdown",
   "metadata": {},
   "source": [
    "#### (2) 원하는 컬럼만 조회하기"
   ]
  },
  {
   "cell_type": "code",
   "execution_count": 27,
   "metadata": {},
   "outputs": [
    {
     "data": {
      "text/html": [
       "<div>\n",
       "<style scoped>\n",
       "    .dataframe tbody tr th:only-of-type {\n",
       "        vertical-align: middle;\n",
       "    }\n",
       "\n",
       "    .dataframe tbody tr th {\n",
       "        vertical-align: top;\n",
       "    }\n",
       "\n",
       "    .dataframe thead th {\n",
       "        text-align: right;\n",
       "    }\n",
       "</style>\n",
       "<table border=\"1\" class=\"dataframe\">\n",
       "  <thead>\n",
       "    <tr style=\"text-align: right;\">\n",
       "      <th></th>\n",
       "      <th>studno</th>\n",
       "      <th>name</th>\n",
       "      <th>grade</th>\n",
       "      <th>idnum</th>\n",
       "    </tr>\n",
       "  </thead>\n",
       "  <tbody>\n",
       "  </tbody>\n",
       "</table>\n",
       "</div>"
      ],
      "text/plain": [
       "Empty DataFrame\n",
       "Columns: [studno, name, grade, idnum]\n",
       "Index: []"
      ]
     },
     "execution_count": 27,
     "metadata": {},
     "output_type": "execute_result"
    }
   ],
   "source": [
    "df = read_sql_table('student', columns=['studno', 'name', 'grade', 'idnum'], con=dbcon)\n",
    "df"
   ]
  },
  {
   "cell_type": "markdown",
   "metadata": {},
   "source": [
    "### [3] 데이터베이스 접속 해제"
   ]
  },
  {
   "cell_type": "code",
   "execution_count": null,
   "metadata": {},
   "outputs": [],
   "source": [
    "dbcon.close()"
   ]
  }
 ],
 "metadata": {
  "kernelspec": {
   "display_name": "Python 3",
   "language": "python",
   "name": "python3"
  },
  "language_info": {
   "codemirror_mode": {
    "name": "ipython",
    "version": 3
   },
   "file_extension": ".py",
   "mimetype": "text/x-python",
   "name": "python",
   "nbconvert_exporter": "python",
   "pygments_lexer": "ipython3",
   "version": "3.11.8"
  }
 },
 "nbformat": 4,
 "nbformat_minor": 2
}
