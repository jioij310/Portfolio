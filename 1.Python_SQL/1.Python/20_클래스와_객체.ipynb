{
 "cells": [
  {
   "cell_type": "markdown",
   "metadata": {},
   "source": [
    "# 20강. 클래스와 객체"
   ]
  },
  {
   "cell_type": "markdown",
   "metadata": {},
   "source": [
    "멤버변수만 포함하는 클래스"
   ]
  },
  {
   "cell_type": "code",
   "execution_count": 1,
   "metadata": {},
   "outputs": [
    {
     "name": "stdout",
     "output_type": "stream",
     "text": [
      "leekh\n",
      "leekh@naver.com\n",
      "01032123256\n"
     ]
    }
   ],
   "source": [
    "class Member:\n",
    "    userid = None\n",
    "    email = None\n",
    "    phone = None\n",
    "\n",
    "\n",
    "# 클래스로부터 객체 생성\n",
    "\n",
    "mem1 = Member()\n",
    "\n",
    "# 객체의 멤버변수에 데이터 저장하기\n",
    "\n",
    "mem1.userid = \"leekh\"\n",
    "mem1.email = \"leekh@naver.com\"\n",
    "mem1.phone = \"01032123256\"\n",
    "\n",
    "# 객체에 부여된 멤버변수 출력하기\n",
    "print(mem1.userid)\n",
    "print(mem1.email)\n",
    "print(mem1.phone)"
   ]
  },
  {
   "cell_type": "code",
   "execution_count": 2,
   "metadata": {},
   "outputs": [
    {
     "name": "stdout",
     "output_type": "stream",
     "text": [
      "life\n",
      "life@naver.com\n",
      "01054930231\n"
     ]
    }
   ],
   "source": [
    "# 객체 안에 포함된 값 변경하기\n",
    "\n",
    "mem1.userid = \"life\"\n",
    "mem1.email = \"life@naver.com\"\n",
    "mem1.phone = \"01054930231\"\n",
    "print(mem1.userid)\n",
    "print(mem1.email)\n",
    "print(mem1.phone)"
   ]
  },
  {
   "cell_type": "code",
   "execution_count": 3,
   "metadata": {},
   "outputs": [
    {
     "name": "stdout",
     "output_type": "stream",
     "text": [
      "hello\n",
      "hello@daum.com\n",
      "01058483294\n"
     ]
    }
   ],
   "source": [
    "# 클래스의 재사용\n",
    "\n",
    "mem2 = Member()\n",
    "mem2.userid = \"hello\"\n",
    "mem2.email = \"hello@daum.com\"\n",
    "mem2.phone = \"01058483294\"\n",
    "print(mem2.userid)\n",
    "print(mem2.email)\n",
    "print(mem2.phone)"
   ]
  },
  {
   "cell_type": "markdown",
   "metadata": {},
   "source": [
    "### 메서드만 포함하는 클래스\n",
    "\n",
    "#### 클래스 정의하기"
   ]
  },
  {
   "cell_type": "code",
   "execution_count": 4,
   "metadata": {},
   "outputs": [],
   "source": [
    "# 클래스에 포함되는 함수들은 반드시 첫 번째 파라미터 self정의\n",
    "\n",
    "class Calc:\n",
    "    def plus(self,x,y):\n",
    "        return x+y\n",
    "    \n",
    "    def minus(self,x,y):\n",
    "        return x-y\n",
    "    def all(self, x, y):\n",
    "         \n",
    "        # 같은 클래스에 소속된 함수들끼리 호출할 경우 self.함수()형식으로 접근\n",
    "        a = self.plus(x, y)\n",
    "        b = self.minus(x, y)\n",
    "\n",
    "        return(a, b)\n"
   ]
  },
  {
   "cell_type": "code",
   "execution_count": 7,
   "metadata": {},
   "outputs": [
    {
     "name": "stdout",
     "output_type": "stream",
     "text": [
      "(30, -10)\n",
      "80\n"
     ]
    }
   ],
   "source": [
    "# 객체를 통한 메서드 호출\n",
    "\n",
    "my = Calc()\n",
    "\n",
    "print(my.all(10,20))\n",
    "print(my.minus(100,20))"
   ]
  },
  {
   "cell_type": "code",
   "execution_count": 8,
   "metadata": {},
   "outputs": [
    {
     "name": "stdout",
     "output_type": "stream",
     "text": [
      "(300, -100)\n",
      "300\n",
      "-100\n"
     ]
    }
   ],
   "source": [
    "# 튜플을 반환하는 메서드 호출\n",
    "\n",
    "k = my.all(100,200)\n",
    "print(k)\n",
    "print(k[0])\n",
    "print(k[1])"
   ]
  },
  {
   "cell_type": "code",
   "execution_count": 9,
   "metadata": {},
   "outputs": [
    {
     "name": "stdout",
     "output_type": "stream",
     "text": [
      "400\n",
      "200\n"
     ]
    }
   ],
   "source": [
    "# 구조분해\n",
    "\n",
    "p, m = my.all(300,100)\n",
    "print(p)\n",
    "print(m)"
   ]
  },
  {
   "cell_type": "markdown",
   "metadata": {},
   "source": [
    "## 멤버변수의 범위\n",
    "\n",
    "### 메서드를 통한 멤버변수의 데이터 설정 및 출력"
   ]
  },
  {
   "cell_type": "code",
   "execution_count": 6,
   "metadata": {},
   "outputs": [],
   "source": [
    "class Member:\n",
    "    username = None\n",
    "    email = None\n",
    "    \n",
    "    def join(self, username, email):\n",
    "        self.username = username\n",
    "        self.email = email\n",
    "        \n",
    "    def view_info(self):\n",
    "        print(self.username)\n",
    "        print(self.email)"
   ]
  },
  {
   "cell_type": "code",
   "execution_count": 7,
   "metadata": {},
   "outputs": [
    {
     "name": "stdout",
     "output_type": "stream",
     "text": [
      "abd\n",
      "abj@gmail.com\n"
     ]
    }
   ],
   "source": [
    "mem1 = Member()\n",
    "mem1.join('abd', 'abj@gmail.com')\n",
    "mem1.view_info()"
   ]
  }
 ],
 "metadata": {
  "kernelspec": {
   "display_name": "Python 3",
   "language": "python",
   "name": "python3"
  },
  "language_info": {
   "codemirror_mode": {
    "name": "ipython",
    "version": 3
   },
   "file_extension": ".py",
   "mimetype": "text/x-python",
   "name": "python",
   "nbconvert_exporter": "python",
   "pygments_lexer": "ipython3",
   "version": "3.11.8"
  }
 },
 "nbformat": 4,
 "nbformat_minor": 2
}
