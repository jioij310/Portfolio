{
 "cells": [
  {
   "attachments": {},
   "cell_type": "markdown",
   "metadata": {},
   "source": [
    "# 17강 - 함수의 이해\n",
    "\n",
    "## #01. 함수 정의하기\n",
    "\n",
    "### 파이썬 함수의 정의와 호출\n",
    "\n",
    "#### 기본적인 함수 정의 방법"
   ]
  },
  {
   "cell_type": "code",
   "execution_count": 1,
   "metadata": {},
   "outputs": [],
   "source": [
    "def say_hello():\n",
    "    print(\"Hello Python\")\n",
    "    print(\"안녕 파이썬\")"
   ]
  },
  {
   "attachments": {},
   "cell_type": "markdown",
   "metadata": {},
   "source": [
    "#### 정의한 함수 호출하기"
   ]
  },
  {
   "cell_type": "code",
   "execution_count": 2,
   "metadata": {},
   "outputs": [
    {
     "name": "stdout",
     "output_type": "stream",
     "text": [
      "Hello Python\n",
      "안녕 파이썬\n",
      "Hello Python\n",
      "안녕 파이썬\n"
     ]
    }
   ],
   "source": [
    "say_hello()\n",
    "say_hello()"
   ]
  },
  {
   "attachments": {},
   "cell_type": "markdown",
   "metadata": {},
   "source": [
    "## #02. 함수의 파라미터\n",
    "\n",
    "### 파라미터(매개변수)를 갖는 함수 정의"
   ]
  },
  {
   "cell_type": "code",
   "execution_count": 3,
   "metadata": {},
   "outputs": [],
   "source": [
    "def f(x):\n",
    "    y = x + 1\n",
    "    tpl = \"f({0}) => {0} + 1 = {1}\"\n",
    "    print(tpl.format(x, y))"
   ]
  },
  {
   "attachments": {},
   "cell_type": "markdown",
   "metadata": {},
   "source": [
    "### 파라미터를 갖는 함수 호출하기"
   ]
  },
  {
   "cell_type": "code",
   "execution_count": 4,
   "metadata": {},
   "outputs": [
    {
     "name": "stdout",
     "output_type": "stream",
     "text": [
      "f(2) => 2 + 1 = 3\n"
     ]
    }
   ],
   "source": [
    "f(2)"
   ]
  },
  {
   "cell_type": "code",
   "execution_count": 5,
   "metadata": {},
   "outputs": [
    {
     "name": "stdout",
     "output_type": "stream",
     "text": [
      "f(3) => 3 + 1 = 4\n"
     ]
    }
   ],
   "source": [
    "f(3)"
   ]
  },
  {
   "attachments": {},
   "cell_type": "markdown",
   "metadata": {},
   "source": [
    "### 파라미터를 전달하지 않을 경우 에러 발생"
   ]
  },
  {
   "cell_type": "code",
   "execution_count": 6,
   "metadata": {},
   "outputs": [],
   "source": [
    "def foo(count):\n",
    "    for i in range(0, count):\n",
    "        print(\"Hello World\")"
   ]
  },
  {
   "cell_type": "code",
   "execution_count": 7,
   "metadata": {},
   "outputs": [
    {
     "name": "stdout",
     "output_type": "stream",
     "text": [
      "Hello World\n",
      "Hello World\n"
     ]
    }
   ],
   "source": [
    "foo(2)"
   ]
  },
  {
   "cell_type": "code",
   "execution_count": 8,
   "metadata": {},
   "outputs": [
    {
     "ename": "TypeError",
     "evalue": "foo() missing 1 required positional argument: 'count'",
     "output_type": "error",
     "traceback": [
      "\u001b[1;31m---------------------------------------------------------------------------\u001b[0m",
      "\u001b[1;31mTypeError\u001b[0m                                 Traceback (most recent call last)",
      "Cell \u001b[1;32mIn[8], line 1\u001b[0m\n\u001b[1;32m----> 1\u001b[0m \u001b[43mfoo\u001b[49m\u001b[43m(\u001b[49m\u001b[43m)\u001b[49m\n",
      "\u001b[1;31mTypeError\u001b[0m: foo() missing 1 required positional argument: 'count'"
     ]
    }
   ],
   "source": [
    "foo()"
   ]
  },
  {
   "attachments": {},
   "cell_type": "markdown",
   "metadata": {},
   "source": [
    "### 다중 파라미터\n",
    "\n",
    "#### 여러 개의 파라미터를 갖는 함수 정의"
   ]
  },
  {
   "cell_type": "code",
   "execution_count": 9,
   "metadata": {},
   "outputs": [],
   "source": [
    "def hello(x, y):\n",
    "    z = x + y\n",
    "    tpl = \"hello({0},{1}) => {0} + {1} = {2}\"\n",
    "    print(tpl.format(x, y, z))"
   ]
  },
  {
   "attachments": {},
   "cell_type": "markdown",
   "metadata": {},
   "source": [
    "#### 다중 파라미터를 갖는 함수 호출"
   ]
  },
  {
   "cell_type": "code",
   "execution_count": 10,
   "metadata": {},
   "outputs": [
    {
     "name": "stdout",
     "output_type": "stream",
     "text": [
      "hello(2,1) => 2 + 1 = 3\n"
     ]
    }
   ],
   "source": [
    "hello(2, 1)"
   ]
  },
  {
   "cell_type": "code",
   "execution_count": 11,
   "metadata": {},
   "outputs": [
    {
     "name": "stdout",
     "output_type": "stream",
     "text": [
      "hello(5,3) => 5 + 3 = 8\n"
     ]
    }
   ],
   "source": [
    "hello(5, 3)"
   ]
  },
  {
   "attachments": {},
   "cell_type": "markdown",
   "metadata": {},
   "source": [
    "### 기본값을 갖는 파라미터"
   ]
  },
  {
   "cell_type": "code",
   "execution_count": 1,
   "metadata": {},
   "outputs": [],
   "source": [
    "def sum1(x, y, z=0):\n",
    "    tpl = \"sum({0} + {1} + {2}) -> {0} + {1} + {2} = {3}\"\n",
    "    print(tpl.format(x, y, z, x+y+z))"
   ]
  },
  {
   "cell_type": "code",
   "execution_count": 13,
   "metadata": {},
   "outputs": [
    {
     "name": "stdout",
     "output_type": "stream",
     "text": [
      "sum(1 + 2 + 3) -> 1 + 2 + 3 = 6\n"
     ]
    }
   ],
   "source": [
    "# 모든 파라미터값을 전달하며 함수 호출\n",
    "sum1(1, 2, 3)"
   ]
  },
  {
   "cell_type": "code",
   "execution_count": 14,
   "metadata": {},
   "outputs": [
    {
     "name": "stdout",
     "output_type": "stream",
     "text": [
      "sum(10 + 20 + 0) -> 10 + 20 + 0 = 30\n"
     ]
    }
   ],
   "source": [
    "# 초기값이 설정된 파라미터는 호출시에 생략 가능함. -> 생략된 파라미터는 초기값으로 설정된다.\n",
    "sum1(10, 20)"
   ]
  },
  {
   "attachments": {},
   "cell_type": "markdown",
   "metadata": {},
   "source": [
    "### 파라미터의 이름 지정하기"
   ]
  },
  {
   "cell_type": "code",
   "execution_count": 15,
   "metadata": {},
   "outputs": [],
   "source": [
    "def record(name, kor=0, eng=0):\n",
    "    print(\"%s의 국어점수는 %d점이고, 영어점수는 %d점 입니다.\" % (name, kor, eng))"
   ]
  },
  {
   "cell_type": "code",
   "execution_count": 16,
   "metadata": {},
   "outputs": [
    {
     "name": "stdout",
     "output_type": "stream",
     "text": [
      "이광호의 국어점수는 92점이고, 영어점수는 77점 입니다.\n"
     ]
    }
   ],
   "source": [
    "# 파라미터의 이름을 지정한 함수 호출 -> 파라미터 전달 순서를 무시할 수 있다.\n",
    "record(kor=92, name='이광호', eng=77)"
   ]
  },
  {
   "cell_type": "code",
   "execution_count": 17,
   "metadata": {},
   "outputs": [
    {
     "name": "stdout",
     "output_type": "stream",
     "text": [
      "홍민영의 국어점수는 0점이고, 영어점수는 80점 입니다.\n"
     ]
    }
   ],
   "source": [
    "# 함수에 정의된 기본값 활용\n",
    "record('홍민영', eng=80)"
   ]
  },
  {
   "cell_type": "markdown",
   "metadata": {},
   "source": [
    "### 값 복사, 참조 복사\n",
    "\n",
    "#### 값 복사"
   ]
  },
  {
   "cell_type": "code",
   "execution_count": 18,
   "metadata": {},
   "outputs": [
    {
     "name": "stdout",
     "output_type": "stream",
     "text": [
      "before => 1\n",
      "hello => 11\n",
      "after => 1\n"
     ]
    }
   ],
   "source": [
    "def hello(x):\n",
    "    x += 10\n",
    "    print(\"hello => %d\" % x)\n",
    "    \n",
    "mynum = 1\n",
    "\n",
    "print(\"before => %d\" % mynum)\n",
    "\n",
    "hello(mynum)\n",
    "\n",
    "print(\"after => %d\" % mynum)"
   ]
  },
  {
   "cell_type": "markdown",
   "metadata": {},
   "source": [
    "#### 참조 복사 (리스트의 경우)"
   ]
  },
  {
   "cell_type": "code",
   "execution_count": 19,
   "metadata": {},
   "outputs": [
    {
     "name": "stdout",
     "output_type": "stream",
     "text": [
      "before => [1, 2]\n",
      "world => [11, 22]\n",
      "after => [11, 22]\n"
     ]
    }
   ],
   "source": [
    "def world(y):\n",
    "    y[0] += 10\n",
    "    y[1] += 20\n",
    "    print(\"world => %s\" % y)\n",
    "    \n",
    "mylist = [1,2]\n",
    "\n",
    "print(\"before => %s\" % mylist)\n",
    "\n",
    "world(mylist)\n",
    "\n",
    "print(\"after => %s\" % mylist)"
   ]
  },
  {
   "cell_type": "markdown",
   "metadata": {},
   "source": [
    "#### 참조 복사 (딕셔너리의 경우)"
   ]
  },
  {
   "cell_type": "code",
   "execution_count": 20,
   "metadata": {},
   "outputs": [
    {
     "name": "stdout",
     "output_type": "stream",
     "text": [
      "before => {'value1': 1, 'value2': 2}\n",
      "nice => {'value1': 11, 'value2': 22}\n",
      "after => {'value1': 11, 'value2': 22}\n"
     ]
    }
   ],
   "source": [
    "def nice(z):\n",
    "    z[\"value1\"] += 10\n",
    "    z[\"value2\"] += 20\n",
    "    print(\"nice => %s\" % z)\n",
    "    \n",
    "mydict = {\"value1\": 1, \"value2\": 2}\n",
    "\n",
    "print(\"before => %s\" % mydict)\n",
    "\n",
    "nice(mydict)\n",
    "\n",
    "print(\"after => %s\" % mydict)"
   ]
  },
  {
   "attachments": {},
   "cell_type": "markdown",
   "metadata": {},
   "source": [
    "## #03. 함수의 리턴값\n",
    "\n",
    "### 값을 리턴하는 함수"
   ]
  },
  {
   "cell_type": "code",
   "execution_count": 21,
   "metadata": {},
   "outputs": [],
   "source": [
    "def plus(x, y):\n",
    "    z = x + y\n",
    "    return z            # 자신이 호출된 위치로 값을 되돌려준다."
   ]
  },
  {
   "cell_type": "code",
   "execution_count": 22,
   "metadata": {},
   "outputs": [
    {
     "name": "stdout",
     "output_type": "stream",
     "text": [
      "30\n"
     ]
    }
   ],
   "source": [
    "a = plus(10, 20)        # 리턴값을 다른 변수에 할당하기\n",
    "print(a)"
   ]
  },
  {
   "cell_type": "code",
   "execution_count": 23,
   "metadata": {},
   "outputs": [
    {
     "name": "stdout",
     "output_type": "stream",
     "text": [
      "300\n"
     ]
    }
   ],
   "source": [
    "print( plus(100, 200) ) # 리턴값을 갖는 함수는 그 결과를 직접 출력할 수 있다."
   ]
  },
  {
   "cell_type": "code",
   "execution_count": 24,
   "metadata": {},
   "outputs": [
    {
     "name": "stdout",
     "output_type": "stream",
     "text": [
      "112\n"
     ]
    }
   ],
   "source": [
    "b = plus(5, 7) + 100    # 리턴값을 갖는 함수는 그 결과를 다른 연산에 활용할 수 있다.\n",
    "print(b)"
   ]
  },
  {
   "attachments": {},
   "cell_type": "markdown",
   "metadata": {},
   "source": [
    "### 함수의 실행 중단"
   ]
  },
  {
   "cell_type": "code",
   "execution_count": 25,
   "metadata": {},
   "outputs": [],
   "source": [
    "# return문을 중간에 만나는 경우 그 즉시 수행을 종료한다.\n",
    "def foo(x, y):\n",
    "    if x < 10 or y < 10:\n",
    "        return 0\n",
    "\n",
    "    z = x + y\n",
    "    return z"
   ]
  },
  {
   "cell_type": "code",
   "execution_count": 26,
   "metadata": {},
   "outputs": [
    {
     "name": "stdout",
     "output_type": "stream",
     "text": [
      "300\n"
     ]
    }
   ],
   "source": [
    "# 함수 안에 정의된 if문의 조건이 거짓이 되므로 if문은 실행되지 않는다.\n",
    "print( foo(100, 200) )"
   ]
  },
  {
   "cell_type": "code",
   "execution_count": 27,
   "metadata": {},
   "outputs": [
    {
     "name": "stdout",
     "output_type": "stream",
     "text": [
      "0\n"
     ]
    }
   ],
   "source": [
    "# 함수 안에 정의된 if문의 조건이 성립하므로 실행이 중단되어 z값을 리턴하지 않는다.\n",
    "print( foo(1, 2) )"
   ]
  },
  {
   "attachments": {},
   "cell_type": "markdown",
   "metadata": {},
   "source": [
    "### 연속성 자료형의 리턴\n",
    "\n",
    "#### 튜플이나 리스트를 리턴하는 함수"
   ]
  },
  {
   "cell_type": "code",
   "execution_count": 28,
   "metadata": {},
   "outputs": [],
   "source": [
    "# 두 개 이상의 값을 튜플이나 리스트로 묶어서 한번에 리턴\n",
    "def bar():\n",
    "    x = 1\n",
    "    y = 2\n",
    "    return (x, y)"
   ]
  },
  {
   "attachments": {},
   "cell_type": "markdown",
   "metadata": {},
   "source": [
    "#### 함수가 리턴하는 튜플을 하나의 객체에 할당한 경우"
   ]
  },
  {
   "cell_type": "code",
   "execution_count": 29,
   "metadata": {},
   "outputs": [
    {
     "name": "stdout",
     "output_type": "stream",
     "text": [
      "(1, 2) => 1, 2\n"
     ]
    }
   ],
   "source": [
    "# 함수의 리턴값이 튜플이므로 인덱스 번호를 통해 원소에 접근한다.\n",
    "a = bar()\n",
    "print(\"%s => %d, %d\" % (a, a[0], a[1]))"
   ]
  },
  {
   "attachments": {},
   "cell_type": "markdown",
   "metadata": {},
   "source": [
    "#### 함수가 리턴하는 튜플의 각 원소를 분할해서 반환받는 경우"
   ]
  },
  {
   "cell_type": "code",
   "execution_count": 30,
   "metadata": {},
   "outputs": [
    {
     "name": "stdout",
     "output_type": "stream",
     "text": [
      "1\n",
      "2\n"
     ]
    }
   ],
   "source": [
    "# `a, b = (1, 2)`의 구조분해를 활용하면 연속성 자료형 리턴값을 개별변수로 분리 가능함\n",
    "m, n = bar()\n",
    "print(m)\n",
    "print(n)"
   ]
  },
  {
   "attachments": {},
   "cell_type": "markdown",
   "metadata": {},
   "source": [
    "### 함수에 대한 변수의 유효성 범위"
   ]
  },
  {
   "cell_type": "code",
   "execution_count": 31,
   "metadata": {},
   "outputs": [],
   "source": [
    "a = 100\n",
    "b = 200\n",
    "\n",
    "def foo():\n",
    "    c = a + b   # 함수 안에서는 함수 밖의 변수 식별 가능\n",
    "    print(c)"
   ]
  },
  {
   "cell_type": "code",
   "execution_count": 32,
   "metadata": {},
   "outputs": [
    {
     "name": "stdout",
     "output_type": "stream",
     "text": [
      "300\n"
     ]
    }
   ],
   "source": [
    "foo()"
   ]
  },
  {
   "cell_type": "code",
   "execution_count": 33,
   "metadata": {},
   "outputs": [
    {
     "ename": "NameError",
     "evalue": "name 'c' is not defined",
     "output_type": "error",
     "traceback": [
      "\u001b[1;31m---------------------------------------------------------------------------\u001b[0m",
      "\u001b[1;31mNameError\u001b[0m                                 Traceback (most recent call last)",
      "Cell \u001b[1;32mIn[33], line 1\u001b[0m\n\u001b[1;32m----> 1\u001b[0m \u001b[38;5;28mprint\u001b[39m(\u001b[43mc\u001b[49m)            \u001b[38;5;66;03m# 함수 밖에서는 함수 내부에서 생성된 변수 식별 불가\u001b[39;00m\n",
      "\u001b[1;31mNameError\u001b[0m: name 'c' is not defined"
     ]
    }
   ],
   "source": [
    "print(c)            # 함수 밖에서는 함수 내부에서 생성된 변수 식별 불가"
   ]
  },
  {
   "cell_type": "markdown",
   "metadata": {},
   "source": [
    "## #04. 람다식\n",
    "\n",
    "### 하나의 리턴문만 갖는 함수"
   ]
  },
  {
   "cell_type": "code",
   "execution_count": 37,
   "metadata": {},
   "outputs": [
    {
     "name": "stdout",
     "output_type": "stream",
     "text": [
      "110\n"
     ]
    }
   ],
   "source": [
    "def plus10(x):\n",
    "    return x + 10\n",
    "\n",
    "print(plus10(100))"
   ]
  },
  {
   "cell_type": "markdown",
   "metadata": {},
   "source": [
    "### 하나의 리턴문만 갖는 함수의 구문 축약"
   ]
  },
  {
   "cell_type": "code",
   "execution_count": 36,
   "metadata": {},
   "outputs": [
    {
     "name": "stdout",
     "output_type": "stream",
     "text": [
      "200\n"
     ]
    }
   ],
   "source": [
    "plus100 = lambda x : x + 100\n",
    "print(plus100(100))"
   ]
  },
  {
   "cell_type": "markdown",
   "metadata": {},
   "source": [
    "## #05. 콜백함수\n",
    "\n",
    "### 경우에 따라 다른 연산을 수행하는 함수"
   ]
  },
  {
   "cell_type": "code",
   "execution_count": 39,
   "metadata": {},
   "outputs": [],
   "source": [
    "def something1(a, b, cb):\n",
    "    print(\"%d와 %d의 연산 결과를 생성합니다...\" % (a, b))\n",
    "    \n",
    "    ## 문자열로 경우의 수를 구별하는 형태\n",
    "    if cb == \"plus\":\n",
    "        z = a + b\n",
    "    elif cb == \"minus\":\n",
    "        z = a - b\n",
    "    elif cb == \"times\":\n",
    "        z = a * b\n",
    "    else:\n",
    "        z = a / b\n",
    "    \n",
    "    return z"
   ]
  },
  {
   "cell_type": "code",
   "execution_count": 41,
   "metadata": {},
   "outputs": [
    {
     "name": "stdout",
     "output_type": "stream",
     "text": [
      "100와 200의 연산 결과를 생성합니다...\n",
      "300\n"
     ]
    }
   ],
   "source": [
    "print(something1(100, 200, \"plus\"))"
   ]
  },
  {
   "cell_type": "markdown",
   "metadata": {},
   "source": [
    "### 수행할 연산을 호출하면서 결정하는 방법\n",
    "\n",
    "#### 수행해야 하는 내부 로직을 구현한 함수를 파라미터로 받는 함수"
   ]
  },
  {
   "cell_type": "code",
   "execution_count": 42,
   "metadata": {},
   "outputs": [],
   "source": [
    "def something2(a, b, cb):\n",
    "    print(\"%d와 %d의 연산 결과를 생성합니다...\" % (a, b))\n",
    "    \n",
    "    ## 상황 자체를 구별하지 않고 파라미터로 수행할 동작을 받는 경우\n",
    "    z = cb(a, b)\n",
    "    \n",
    "    return z"
   ]
  },
  {
   "cell_type": "markdown",
   "metadata": {},
   "source": [
    "#### something2가 수행해야 하는 로직을 함수 형태의 파라미터로 전달"
   ]
  },
  {
   "cell_type": "code",
   "execution_count": 44,
   "metadata": {},
   "outputs": [
    {
     "name": "stdout",
     "output_type": "stream",
     "text": [
      "100와 200의 연산 결과를 생성합니다...\n",
      "300\n"
     ]
    }
   ],
   "source": [
    "def plus(x, y):\n",
    "    return x + y\n",
    "\n",
    "print(something2(100, 200, plus))"
   ]
  },
  {
   "cell_type": "markdown",
   "metadata": {},
   "source": [
    "#### 람다식 형태로 구문 간소화"
   ]
  },
  {
   "cell_type": "code",
   "execution_count": 45,
   "metadata": {},
   "outputs": [
    {
     "name": "stdout",
     "output_type": "stream",
     "text": [
      "10와 5의 연산 결과를 생성합니다...\n",
      "5\n"
     ]
    }
   ],
   "source": [
    "minus = lambda x, y : x - y\n",
    "print(something2(10, 5, minus))"
   ]
  },
  {
   "cell_type": "markdown",
   "metadata": {},
   "source": [
    "#### 람다식 자체를 파라미터로 전달하기"
   ]
  },
  {
   "cell_type": "code",
   "execution_count": 46,
   "metadata": {},
   "outputs": [
    {
     "name": "stdout",
     "output_type": "stream",
     "text": [
      "10와 5의 연산 결과를 생성합니다...\n",
      "2.0\n"
     ]
    }
   ],
   "source": [
    "print(something2(10, 5, lambda x, y : x / y))"
   ]
  }
 ],
 "metadata": {
  "kernelspec": {
   "display_name": "Python 3",
   "language": "python",
   "name": "python3"
  },
  "language_info": {
   "codemirror_mode": {
    "name": "ipython",
    "version": 3
   },
   "file_extension": ".py",
   "mimetype": "text/x-python",
   "name": "python",
   "nbconvert_exporter": "python",
   "pygments_lexer": "ipython3",
   "version": "3.11.8"
  },
  "vscode": {
   "interpreter": {
    "hash": "aee8b7b246df8f9039afb4144a1f6fd8d2ca17a180786b69acc140d282b71a49"
   }
  }
 },
 "nbformat": 4,
 "nbformat_minor": 4
}
