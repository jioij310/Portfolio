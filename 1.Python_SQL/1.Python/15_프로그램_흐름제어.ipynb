{
 "cells": [
  {
   "cell_type": "markdown",
   "metadata": {},
   "source": [
    "# 15강 - 프로그램 흐름제어\n",
    "\n",
    "## #01. 문법의 중첩 사용\n",
    "\n",
    "### 중첩 조건문\n",
    "\n",
    "#### 특정 조건을 좀 더 상세하기 판단하기 위해 사용"
   ]
  },
  {
   "cell_type": "code",
   "execution_count": 2,
   "metadata": {},
   "outputs": [
    {
     "name": "stdout",
     "output_type": "stream",
     "text": [
      "입력한 점수는 95점 입니다.\n",
      "패스입니다.\n",
      "A입니다.\n"
     ]
    }
   ],
   "source": [
    "point = int(input(\"점수를 입력하세요: \"))\n",
    "print(\"입력한 점수는 %d점 입니다.\" % point)\n",
    "\n",
    "if point > 70:\n",
    "    print(\"패스입니다.\")\n",
    "\n",
    "    if point > 90:\n",
    "        print(\"A입니다.\")\n",
    "    elif point > 80:\n",
    "        print(\"B입니다.\")    \n",
    "    else:\n",
    "        print(\"C입니다.\")\n",
    "\n",
    "\n",
    "else:\n",
    "    print(\"패스하지 못했습니다.\")"
   ]
  },
  {
   "cell_type": "code",
   "execution_count": 4,
   "metadata": {},
   "outputs": [
    {
     "name": "stdout",
     "output_type": "stream",
     "text": [
      "입력한 숫자는 10점입니다.\n",
      "1(은)는 홀수\n",
      "2(은)는 짝수\n",
      "3(은)는 홀수\n",
      "4(은)는 짝수\n",
      "5(은)는 홀수\n",
      "6(은)는 짝수\n",
      "7(은)는 홀수\n",
      "8(은)는 짝수\n",
      "9(은)는 홀수\n",
      "10(은)는 짝수\n",
      "1~10까지의 짝수들의 합: 30\n",
      "1~10까지의 홀수들의 합: 25\n"
     ]
    }
   ],
   "source": [
    "# 짝,홀수의 합\n",
    "\n",
    "number= int(input(\"숫자를 입력하세요:\"))\n",
    "print(\"입력한 숫자는 %d점입니다.\" % number)\n",
    "\n",
    "x = 0\n",
    "y = 0\n",
    "\n",
    "for i in range(1, number+1):\n",
    "    if i % 2 ==0:\n",
    "        print(\"%d(은)는 짝수\" % i)\n",
    "        x += i\n",
    "    else:\n",
    "        print(\"%d(은)는 홀수\" % i)\n",
    "        y += i\n",
    "print(\"1~%d까지의 짝수들의 합: %d\" % (number, x))            \n",
    "print(\"1~%d까지의 홀수들의 합: %d\" % (number, y)) \n"
   ]
  },
  {
   "cell_type": "code",
   "execution_count": 5,
   "metadata": {},
   "outputs": [
    {
     "name": "stdout",
     "output_type": "stream",
     "text": [
      "0\n",
      "-----\n",
      "1\n",
      "-----\n",
      "2\n",
      "-----\n",
      "3\n",
      "-----\n",
      "4\n"
     ]
    }
   ],
   "source": [
    "# 반복 수행시 마지막 회차 생략하기\n",
    "\n",
    "for i in range(0,5):\n",
    "    print(i)\n",
    "    if i + 1 < 5:\n",
    "        print(\"-\"*5)"
   ]
  },
  {
   "cell_type": "code",
   "execution_count": 6,
   "metadata": {},
   "outputs": [
    {
     "name": "stdout",
     "output_type": "stream",
     "text": [
      "'i'에 대한 반복 수행 시작 => i = 0\n",
      "\t i=0, j=0\n",
      "\t i=0, j=1\n",
      "\t i=0, j=2\n",
      "\t i=0, j=3\n",
      "\t i=0, j=4\n",
      "'i'에 대한 반복 수행 종료\n",
      "------------------------------\n",
      "'i'에 대한 반복 수행 시작 => i = 1\n",
      "\t i=1, j=0\n",
      "\t i=1, j=1\n",
      "\t i=1, j=2\n",
      "\t i=1, j=3\n",
      "\t i=1, j=4\n",
      "'i'에 대한 반복 수행 종료\n",
      "------------------------------\n",
      "'i'에 대한 반복 수행 시작 => i = 2\n",
      "\t i=2, j=0\n",
      "\t i=2, j=1\n",
      "\t i=2, j=2\n",
      "\t i=2, j=3\n",
      "\t i=2, j=4\n",
      "'i'에 대한 반복 수행 종료\n"
     ]
    }
   ],
   "source": [
    "# 중첩 반복문의 실행 과정 확인\n",
    "## 바깥의 부모 반복문이 1회차를 수행하는 동안 안쪽의 자식 반복문이 매번 처음부터 다시 시작한다.\n",
    "\n",
    "for i in range(0,3):\n",
    "    print(\"'i'에 대한 반복 수행 시작 => i = %d\" % i)\n",
    "\n",
    "    for j in range(0,5):\n",
    "        print(\"\\t i=%d, j=%d\" % (i,j))\n",
    "\n",
    "    print(\"'i'에 대한 반복 수행 종료\")\n",
    "\n",
    "    if i + 1 <3:\n",
    "        print(\"-\" *30)    \n"
   ]
  },
  {
   "cell_type": "code",
   "execution_count": 7,
   "metadata": {},
   "outputs": [
    {
     "name": "stdout",
     "output_type": "stream",
     "text": [
      "2 x 1 = 2\n",
      "2 x 2 = 4\n",
      "2 x 3 = 6\n",
      "2 x 4 = 8\n",
      "2 x 5 = 10\n",
      "2 x 6 = 12\n",
      "2 x 7 = 14\n",
      "2 x 8 = 16\n",
      "2 x 9 = 18\n",
      "------------------------------\n",
      "3 x 1 = 3\n",
      "3 x 2 = 6\n",
      "3 x 3 = 9\n",
      "3 x 4 = 12\n",
      "3 x 5 = 15\n",
      "3 x 6 = 18\n",
      "3 x 7 = 21\n",
      "3 x 8 = 24\n",
      "3 x 9 = 27\n",
      "------------------------------\n",
      "4 x 1 = 4\n",
      "4 x 2 = 8\n",
      "4 x 3 = 12\n",
      "4 x 4 = 16\n",
      "4 x 5 = 20\n",
      "4 x 6 = 24\n",
      "4 x 7 = 28\n",
      "4 x 8 = 32\n",
      "4 x 9 = 36\n",
      "------------------------------\n",
      "5 x 1 = 5\n",
      "5 x 2 = 10\n",
      "5 x 3 = 15\n",
      "5 x 4 = 20\n",
      "5 x 5 = 25\n",
      "5 x 6 = 30\n",
      "5 x 7 = 35\n",
      "5 x 8 = 40\n",
      "5 x 9 = 45\n",
      "------------------------------\n",
      "6 x 1 = 6\n",
      "6 x 2 = 12\n",
      "6 x 3 = 18\n",
      "6 x 4 = 24\n",
      "6 x 5 = 30\n",
      "6 x 6 = 36\n",
      "6 x 7 = 42\n",
      "6 x 8 = 48\n",
      "6 x 9 = 54\n",
      "------------------------------\n",
      "7 x 1 = 7\n",
      "7 x 2 = 14\n",
      "7 x 3 = 21\n",
      "7 x 4 = 28\n",
      "7 x 5 = 35\n",
      "7 x 6 = 42\n",
      "7 x 7 = 49\n",
      "7 x 8 = 56\n",
      "7 x 9 = 63\n",
      "------------------------------\n",
      "8 x 1 = 8\n",
      "8 x 2 = 16\n",
      "8 x 3 = 24\n",
      "8 x 4 = 32\n",
      "8 x 5 = 40\n",
      "8 x 6 = 48\n",
      "8 x 7 = 56\n",
      "8 x 8 = 64\n",
      "8 x 9 = 72\n",
      "------------------------------\n",
      "9 x 1 = 9\n",
      "9 x 2 = 18\n",
      "9 x 3 = 27\n",
      "9 x 4 = 36\n",
      "9 x 5 = 45\n",
      "9 x 6 = 54\n",
      "9 x 7 = 63\n",
      "9 x 8 = 72\n",
      "9 x 9 = 81\n"
     ]
    }
   ],
   "source": [
    "# 구구단\n",
    "\n",
    "tpl = \"{0} x {1} = {2}\"\n",
    "\n",
    "for i in range(2,10):\n",
    "\n",
    "    for j in range(1,10):\n",
    "        k = i * j\n",
    "        print(tpl.format(i,j,k))\n",
    "\n",
    "    if i+1 <10:\n",
    "        print(\"-\"*30)    "
   ]
  },
  {
   "cell_type": "code",
   "execution_count": 8,
   "metadata": {},
   "outputs": [
    {
     "name": "stdout",
     "output_type": "stream",
     "text": [
      "Hello Python (1)\n",
      "Hello Python (3)\n",
      "Hello Python (5)\n",
      "Hello Python (7)\n",
      "Hello Python (9)\n"
     ]
    }
   ],
   "source": [
    "# 반복문에서 흐름제어\n",
    "## 반복의 횟수를 가늠할 수 없을 때 의도적으로 무한루프를 설정하게 된다.\n",
    "## 이 때, continue, break 명령으로 반복문 내에서의 흐름을 제어할 수 있다.\n",
    "\n",
    "y = 0\n",
    "while True:\n",
    "    y += 1\n",
    "\n",
    "    if y % 2 == 0:\n",
    "        continue\n",
    "\n",
    "    if y >10:\n",
    "        break\n",
    "\n",
    "    print(\"Hello Python (%d)\" %y)"
   ]
  },
  {
   "cell_type": "markdown",
   "metadata": {},
   "source": [
    "연구과제"
   ]
  },
  {
   "cell_type": "markdown",
   "metadata": {},
   "source": [
    "> - 두 개의 주사위를 던졌을 때 두 수의 합이 6이 되는 경우의 수"
   ]
  },
  {
   "cell_type": "code",
   "execution_count": 3,
   "metadata": {},
   "outputs": [
    {
     "name": "stdout",
     "output_type": "stream",
     "text": [
      "[1, 5]\n",
      "[2, 4]\n",
      "[3, 3]\n",
      "[4, 2]\n",
      "[5, 1]\n",
      "경우의 수는 5개 입니다.\n"
     ]
    }
   ],
   "source": [
    "count = 0\n",
    "for i in range(1, 7):\n",
    "    for j in range(1, 7):\n",
    "        if i + j == 6:\n",
    "            count += 1\n",
    "            print(f\"[{i}, {j}]\")\n",
    "print(f'경우의 수는 {count}개 입니다.')\n"
   ]
  },
  {
   "cell_type": "markdown",
   "metadata": {},
   "source": [
    "> - 1부터 100사이에서 두 개의 정수를 받아서 공배수를 모두 출력하고 공배수의 총 합 구하기"
   ]
  },
  {
   "cell_type": "code",
   "execution_count": 7,
   "metadata": {},
   "outputs": [
    {
     "name": "stdout",
     "output_type": "stream",
     "text": [
      "30\n",
      "60\n",
      "90\n",
      "180\n"
     ]
    }
   ],
   "source": [
    "x = int(input())\n",
    "y = int(input())\n",
    "sum = 0\n",
    "for i in range(1, 101):\n",
    "    if i % x == 0 and i % y == 0:\n",
    "        print(i)\n",
    "        sum += i\n",
    "print(sum)"
   ]
  }
 ],
 "metadata": {
  "kernelspec": {
   "display_name": "Python 3",
   "language": "python",
   "name": "python3"
  },
  "language_info": {
   "codemirror_mode": {
    "name": "ipython",
    "version": 3
   },
   "file_extension": ".py",
   "mimetype": "text/x-python",
   "name": "python",
   "nbconvert_exporter": "python",
   "pygments_lexer": "ipython3",
   "version": "3.11.8"
  }
 },
 "nbformat": 4,
 "nbformat_minor": 2
}
