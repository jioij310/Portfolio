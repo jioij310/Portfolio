{
 "cells": [
  {
   "cell_type": "markdown",
   "metadata": {},
   "source": [
    "# 10강. 딕셔너리의 이해\n",
    "\n",
    "## 01. 딕셔너리의 이해"
   ]
  },
  {
   "cell_type": "code",
   "execution_count": 1,
   "metadata": {},
   "outputs": [
    {
     "name": "stdout",
     "output_type": "stream",
     "text": [
      "{'이름': '값'}\n"
     ]
    }
   ],
   "source": [
    "x = {\"이름\" : \"값\"}\n",
    "print(x)\n"
   ]
  },
  {
   "cell_type": "code",
   "execution_count": 6,
   "metadata": {},
   "outputs": [
    {
     "name": "stdout",
     "output_type": "stream",
     "text": [
      "{'name': '철수', 'phone': '010-1234-5678', 'birth': '0115'}\n"
     ]
    }
   ],
   "source": [
    "mydic = {\"name\" : \"철수\", \"phone\" : \"010-1234-5678\", \"birth\" : \"0115\"}\n",
    "print(mydic)"
   ]
  },
  {
   "cell_type": "code",
   "execution_count": 5,
   "metadata": {},
   "outputs": [
    {
     "name": "stdout",
     "output_type": "stream",
     "text": [
      "철수\n"
     ]
    }
   ],
   "source": [
    "print(mydic[\"name\"])"
   ]
  },
  {
   "cell_type": "code",
   "execution_count": 9,
   "metadata": {},
   "outputs": [
    {
     "name": "stdout",
     "output_type": "stream",
     "text": [
      "{'name': '철수', 'phone': '010-1234-5678', 'birth': '0228'}\n"
     ]
    }
   ],
   "source": [
    "mydic[\"birth\"] = '0228'  # 특정 값 변경\n",
    "print(mydic)"
   ]
  },
  {
   "cell_type": "code",
   "execution_count": 4,
   "metadata": {},
   "outputs": [
    {
     "name": "stdout",
     "output_type": "stream",
     "text": [
      "{'name': '철수', 'phone': '010-1234-5678', 'birth': '0115', 'True': 99}\n"
     ]
    }
   ],
   "source": [
    "mydic[\"True\"] = 99  # 확장\n",
    "print(mydic)"
   ]
  },
  {
   "cell_type": "code",
   "execution_count": 10,
   "metadata": {},
   "outputs": [
    {
     "ename": "KeyError",
     "evalue": "'A'",
     "output_type": "error",
     "traceback": [
      "\u001b[1;31m---------------------------------------------------------------------------\u001b[0m",
      "\u001b[1;31mKeyError\u001b[0m                                  Traceback (most recent call last)",
      "Cell \u001b[1;32mIn[10], line 1\u001b[0m\n\u001b[1;32m----> 1\u001b[0m \u001b[38;5;28mprint\u001b[39m(\u001b[43mmydic\u001b[49m\u001b[43m[\u001b[49m\u001b[38;5;124;43m'\u001b[39;49m\u001b[38;5;124;43mA\u001b[39;49m\u001b[38;5;124;43m'\u001b[39;49m\u001b[43m]\u001b[49m)\n",
      "\u001b[1;31mKeyError\u001b[0m: 'A'"
     ]
    }
   ],
   "source": [
    "print(mydic['A'])"
   ]
  },
  {
   "cell_type": "markdown",
   "metadata": {},
   "source": [
    ">- 존재하지 않는 키의 값 사용하면 에러"
   ]
  },
  {
   "cell_type": "markdown",
   "metadata": {},
   "source": [
    "### 키 중복 제한"
   ]
  },
  {
   "cell_type": "code",
   "execution_count": 11,
   "metadata": {},
   "outputs": [
    {
     "name": "stdout",
     "output_type": "stream",
     "text": [
      "python\n"
     ]
    },
    {
     "data": {
      "text/plain": [
       "{'msg': 'python'}"
      ]
     },
     "execution_count": 11,
     "metadata": {},
     "output_type": "execute_result"
    }
   ],
   "source": [
    "# 키가 중복될 경우 하나를 제외한 나머지는 무시됨.\n",
    "# -> 일반적으로 나중에 정의된 항목이 이전에 정의된 항목을 덮어 씀\n",
    "data = {\"msg\": \"hello\", \"msg\": \"world\", \"msg\": \"python\"}\n",
    "print(data['msg'])\n",
    "data"
   ]
  },
  {
   "cell_type": "markdown",
   "metadata": {},
   "source": [
    "## #02. 다양한 형태의 자료구조\n",
    "\n",
    "### 리스트를 원소로 갖는 딕셔너리"
   ]
  },
  {
   "cell_type": "code",
   "execution_count": 9,
   "metadata": {},
   "outputs": [
    {
     "name": "stdout",
     "output_type": "stream",
     "text": [
      "[철수] 나이: 16세, 키: 176.3cm\n",
      "[민수] 나이: 43세, 키: 183.4cm\n",
      "[호영] 나이: 25세, 키: 156.5cm\n"
     ]
    }
   ],
   "source": [
    "student = {\n",
    "    \"name\" : [\"철수\", \"민수\", \"호영\"],\n",
    "    \"age\" : [16,43,25],\n",
    "    \"height\" : [176.3,183.4,156.5]\n",
    "}\n",
    "tpl = \"[%s] 나이: %d세, 키: %0.1fcm\"\n",
    "print(tpl % (student['name'][0], student['age'][0], student['height'][0]))\n",
    "print(tpl % (student['name'][1], student['age'][1], student['height'][1]))\n",
    "print(tpl % (student['name'][2], student['age'][2], student['height'][2]))"
   ]
  },
  {
   "cell_type": "markdown",
   "metadata": {},
   "source": [
    "### 딕셔너리를 원소로 갖는 리스트"
   ]
  },
  {
   "cell_type": "code",
   "execution_count": 16,
   "metadata": {},
   "outputs": [
    {
     "name": "stdout",
     "output_type": "stream",
     "text": [
      "0번째 원소: {'name': '철수', 'Kor': 95, 'eng': 88}\n",
      "1번째 원소: {'name': '영희', 'Kor': 92, 'eng': 98}\n",
      "2번째 원소: {'name': '철민', 'Kor': 85, 'eng': 68}\n"
     ]
    }
   ],
   "source": [
    "grade = [\n",
    "    {\"name\": \"철수\", \" Kor\" : 95, \"eng\" : 88},\n",
    "    {\"name\": \"영희\", \" Kor\" : 92, \"eng\" : 98},\n",
    "    {\"name\": \"철민\", \" Kor\" : 85, \"eng\" : 68},\n",
    " ]\n",
    "   \n",
    "print(\"0번째 원소: %s\" % grade[0])\n",
    "print(\"1번째 원소: %s\" % grade[1])\n",
    "print(\"2번째 원소: %s\" % grade[])   \n"
   ]
  },
  {
   "cell_type": "code",
   "execution_count": 18,
   "metadata": {},
   "outputs": [
    {
     "name": "stdout",
     "output_type": "stream",
     "text": [
      "철수의 국어점수:95, 영어점수:88\n"
     ]
    }
   ],
   "source": [
    "tpl = \"{0}의 국어점수:{1}, 영어점수:{2}\"\n",
    "print(tpl.format(grade[0]['name'],grade[0]['Kor'],grade[0]['eng']))\n"
   ]
  },
  {
   "cell_type": "markdown",
   "metadata": {},
   "source": [
    "### 딕셔너리를 원소로 갖는 딕셔너리"
   ]
  },
  {
   "cell_type": "code",
   "execution_count": 12,
   "metadata": {},
   "outputs": [],
   "source": [
    "phone = {\n",
    "    \"apple\": {\n",
    "        \"name\": \"iPhone\",\n",
    "        \"price\": \"200$\"\n",
    "    },\n",
    "    \"samsung\": {\n",
    "        \"name\": \"Galluxy\",\n",
    "        \"price\": \"200만원\"\n",
    "    }\n",
    "}"
   ]
  },
  {
   "cell_type": "code",
   "execution_count": 13,
   "metadata": {},
   "outputs": [
    {
     "name": "stdout",
     "output_type": "stream",
     "text": [
      "iPhone의 가격은 200$입니다.\n",
      "Galluxy의 가격은 200만원입니다.\n"
     ]
    }
   ],
   "source": [
    "tpl = \"%s의 가격은 %s입니다.\"\n",
    "print(tpl % (phone['apple']['name'], phone['apple']['price']))\n",
    "print(tpl % (phone['samsung']['name'], phone['samsung']['price']))"
   ]
  },
  {
   "cell_type": "markdown",
   "metadata": {},
   "source": [
    "### 목록 구조"
   ]
  },
  {
   "cell_type": "code",
   "execution_count": 14,
   "metadata": {},
   "outputs": [],
   "source": [
    "lectures = {\n",
    "    \"teacher\": \"이광호 강사\",\n",
    "    \"category\": \"프로그래밍\",\n",
    "    \"subject\": [\n",
    "        {\"no\": 1, \"title\": \"파이썬 프로그래밍\", \"date\": \"2023-03-01\"},\n",
    "        {\"no\": 2, \"title\": \"자바 프로그래밍\", \"date\": \"2023-04-01\"},\n",
    "        {\"no\": 3, \"title\": \"데이터분석\", \"date\": \"2023-05-01\"}\n",
    "    ]\n",
    "}"
   ]
  },
  {
   "cell_type": "code",
   "execution_count": 15,
   "metadata": {},
   "outputs": [
    {
     "name": "stdout",
     "output_type": "stream",
     "text": [
      "[이광호 강사가 진행하는 프로그래밍 수업]\n",
      "1. 파이썬 프로그래밍 -> 개강일: 2023-03-01\n",
      "2. 자바 프로그래밍 -> 개강일: 2023-04-01\n",
      "3. 데이터분석 -> 개강일: 2023-05-01\n"
     ]
    }
   ],
   "source": [
    "print(\"[%s가 진행하는 %s 수업]\" % (lectures['teacher'], lectures['category']))\n",
    "\n",
    "tpl = \"%d. %s -> 개강일: %s\"\n",
    "print(tpl % (lectures['subject'][0]['no'], lectures['subject'][0]['title'], lectures['subject'][0]['date']))\n",
    "print(tpl % (lectures['subject'][1]['no'], lectures['subject'][1]['title'], lectures['subject'][1]['date']))\n",
    "print(tpl % (lectures['subject'][2]['no'], lectures['subject'][2]['title'], lectures['subject'][2]['date']))"
   ]
  }
 ],
 "metadata": {
  "kernelspec": {
   "display_name": "Python 3",
   "language": "python",
   "name": "python3"
  },
  "language_info": {
   "codemirror_mode": {
    "name": "ipython",
    "version": 3
   },
   "file_extension": ".py",
   "mimetype": "text/x-python",
   "name": "python",
   "nbconvert_exporter": "python",
   "pygments_lexer": "ipython3",
   "version": "3.11.8"
  }
 },
 "nbformat": 4,
 "nbformat_minor": 2
}
