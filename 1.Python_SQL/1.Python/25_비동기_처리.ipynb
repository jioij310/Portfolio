{
 "cells": [
  {
   "cell_type": "markdown",
   "metadata": {},
   "source": [
    "# 25강. 비동기 처리\n",
    "\n",
    "## 01. 비동기 처리의 이해"
   ]
  },
  {
   "cell_type": "code",
   "execution_count": 7,
   "metadata": {},
   "outputs": [],
   "source": [
    "import time\n",
    "import datetime as dt\n",
    "import concurrent.futures as futures  # 비동기 처리 기능을 제공하는 모듈"
   ]
  },
  {
   "cell_type": "markdown",
   "metadata": {},
   "source": [
    "### 주어진 시간 동안 딜레이가 발생하는 함수 정의"
   ]
  },
  {
   "cell_type": "code",
   "execution_count": 8,
   "metadata": {},
   "outputs": [],
   "source": [
    "def timeWork(name, seconds):\n",
    "    print(\"[%s] 작업을 %d초 동안 수행합니다.\" % (name, seconds))\n",
    "\n",
    "    for i in range(0, seconds):\n",
    "        time.sleep(1)\n",
    "        print(\"[%s] %d초...\" % (name, i+1))\n",
    "\n",
    "    print(\"[%s] 작업이 종료되었습니다.\" % name)    "
   ]
  },
  {
   "cell_type": "markdown",
   "metadata": {},
   "source": [
    "### 동기식 함수 호출"
   ]
  },
  {
   "cell_type": "code",
   "execution_count": 9,
   "metadata": {},
   "outputs": [
    {
     "name": "stdout",
     "output_type": "stream",
     "text": [
      "[A] 작업을 3초 동안 수행합니다.\n",
      "[A] 1초...\n",
      "[A] 2초...\n",
      "[A] 3초...\n",
      "[A] 작업이 종료되었습니다.\n",
      "[B] 작업을 5초 동안 수행합니다.\n",
      "[B] 1초...\n",
      "[B] 2초...\n",
      "[B] 3초...\n",
      "[B] 4초...\n",
      "[B] 5초...\n",
      "[B] 작업이 종료되었습니다.\n",
      "[C] 작업을 2초 동안 수행합니다.\n",
      "[C] 1초...\n",
      "[C] 2초...\n",
      "[C] 작업이 종료되었습니다.\n",
      "작업에 소요된 시간은 총 10초 입니다.\n"
     ]
    }
   ],
   "source": [
    "startTime = dt.datetime.now()\n",
    "\n",
    "timeWork(\"A\", 3)\n",
    "timeWork(\"B\", 5)\n",
    "timeWork(\"C\", 2)\n",
    "\n",
    "endTime = dt.datetime.now()\n",
    "workTime = endTime - startTime\n",
    "print(\"작업에 소요된 시간은 총 %d초 입니다.\" % workTime.seconds)"
   ]
  },
  {
   "cell_type": "markdown",
   "metadata": {},
   "source": [
    "### 비동기식 함수 호출"
   ]
  },
  {
   "cell_type": "code",
   "execution_count": 12,
   "metadata": {},
   "outputs": [
    {
     "name": "stdout",
     "output_type": "stream",
     "text": [
      "[A] 작업을 3초 동안 수행합니다.\n",
      "[B] 작업을 5초 동안 수행합니다.\n",
      "[C] 작업을 2초 동안 수행합니다.\n",
      "[C] 1초...\n",
      "[B] 1초...\n",
      "[A] 1초...\n",
      "[B] 2초...[C] 2초...\n",
      "[C] 작업이 종료되었습니다.\n",
      "[A] 2초...\n",
      "\n",
      "[B] 3초...[A] 3초...\n",
      "[A] 작업이 종료되었습니다.\n",
      "\n",
      "[B] 4초...\n",
      "[B] 5초...\n",
      "[B] 작업이 종료되었습니다.\n",
      "작업에 소요된 시간은 총 5초 입니다.\n"
     ]
    }
   ],
   "source": [
    "startTime = dt.datetime.now()\n",
    "\n",
    "with futures.ThreadPoolExecutor(max_workers=3) as executor:\n",
    "    executor.submit(timeWork, \"A\", 3)\n",
    "    executor.submit(timeWork, \"B\", 5)\n",
    "    executor.submit(timeWork, \"C\", 2)\n",
    "\n",
    "endTime = dt.datetime.now()\n",
    "workTime = endTime - startTime\n",
    "\n",
    "print(\"작업에 소요된 시간은 총 %d초 입니다.\" % workTime.seconds)   "
   ]
  }
 ],
 "metadata": {
  "kernelspec": {
   "display_name": "Python 3",
   "language": "python",
   "name": "python3"
  },
  "language_info": {
   "codemirror_mode": {
    "name": "ipython",
    "version": 3
   },
   "file_extension": ".py",
   "mimetype": "text/x-python",
   "name": "python",
   "nbconvert_exporter": "python",
   "pygments_lexer": "ipython3",
   "version": "3.12.0"
  }
 },
 "nbformat": 4,
 "nbformat_minor": 2
}
