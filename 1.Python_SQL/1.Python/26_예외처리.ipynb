{
 "cells": [
  {
   "cell_type": "markdown",
   "metadata": {},
   "source": [
    "# 26강. 예외처리\n",
    "\n",
    "## 01. 에러의 종류"
   ]
  },
  {
   "cell_type": "markdown",
   "metadata": {},
   "source": [
    "예외상황 이해하기(0으로 나누는 경우)"
   ]
  },
  {
   "cell_type": "code",
   "execution_count": 1,
   "metadata": {},
   "outputs": [
    {
     "ename": "ZeroDivisionError",
     "evalue": "division by zero",
     "output_type": "error",
     "traceback": [
      "\u001b[1;31m---------------------------------------------------------------------------\u001b[0m",
      "\u001b[1;31mZeroDivisionError\u001b[0m                         Traceback (most recent call last)",
      "Cell \u001b[1;32mIn[1], line 3\u001b[0m\n\u001b[0;32m      1\u001b[0m x \u001b[38;5;241m=\u001b[39m \u001b[38;5;28mint\u001b[39m(\u001b[38;5;28minput\u001b[39m(\u001b[38;5;124m\"\u001b[39m\u001b[38;5;124m숫자를 입력하세요.\u001b[39m\u001b[38;5;124m\"\u001b[39m))\n\u001b[1;32m----> 3\u001b[0m y \u001b[38;5;241m=\u001b[39m \u001b[38;5;241;43m100\u001b[39;49m\u001b[43m \u001b[49m\u001b[38;5;241;43m/\u001b[39;49m\u001b[43m \u001b[49m\u001b[43mx\u001b[49m\n\u001b[0;32m      4\u001b[0m \u001b[38;5;28mprint\u001b[39m(\u001b[38;5;124m\"\u001b[39m\u001b[38;5;124m결과는 \u001b[39m\u001b[38;5;132;01m%d\u001b[39;00m\u001b[38;5;124m입니다.\u001b[39m\u001b[38;5;124m\"\u001b[39m \u001b[38;5;241m%\u001b[39m y)\n",
      "\u001b[1;31mZeroDivisionError\u001b[0m: division by zero"
     ]
    }
   ],
   "source": [
    "x = int(input(\"숫자를 입력하세요.\"))\n",
    "\n",
    "y = 100 / x\n",
    "print(\"결과는 %d입니다.\" % y)"
   ]
  },
  {
   "cell_type": "code",
   "execution_count": 5,
   "metadata": {},
   "outputs": [
    {
     "ename": "FileNotFoundError",
     "evalue": "[Errno 2] No such file or directory: 'z:\\\\hello.txt'",
     "output_type": "error",
     "traceback": [
      "\u001b[1;31m---------------------------------------------------------------------------\u001b[0m",
      "\u001b[1;31mFileNotFoundError\u001b[0m                         Traceback (most recent call last)",
      "\u001b[1;32mc:\\Users\\Jihwan\\01Class\\B.Python\\33_예외처리.ipynb 셀 4\u001b[0m line \u001b[0;36m2\n\u001b[0;32m      <a href='vscode-notebook-cell:/c%3A/Users/Jihwan/01Class/B.Python/33_%EC%98%88%EC%99%B8%EC%B2%98%EB%A6%AC.ipynb#W4sZmlsZQ%3D%3D?line=0'>1</a>\u001b[0m filePath \u001b[39m=\u001b[39m \u001b[39minput\u001b[39m(\u001b[39m\"\u001b[39m\u001b[39m파일 경로를 지정하세요\u001b[39m\u001b[39m\"\u001b[39m)\n\u001b[1;32m----> <a href='vscode-notebook-cell:/c%3A/Users/Jihwan/01Class/B.Python/33_%EC%98%88%EC%99%B8%EC%B2%98%EB%A6%AC.ipynb#W4sZmlsZQ%3D%3D?line=1'>2</a>\u001b[0m \u001b[39mwith\u001b[39;00m \u001b[39mopen\u001b[39;49m(filePath, \u001b[39m\"\u001b[39;49m\u001b[39mw\u001b[39;49m\u001b[39m\"\u001b[39;49m, encoding\u001b[39m=\u001b[39;49m\u001b[39m\"\u001b[39;49m\u001b[39mutf-8\u001b[39;49m\u001b[39m\"\u001b[39;49m) \u001b[39mas\u001b[39;00m f:\n\u001b[0;32m      <a href='vscode-notebook-cell:/c%3A/Users/Jihwan/01Class/B.Python/33_%EC%98%88%EC%99%B8%EC%B2%98%EB%A6%AC.ipynb#W4sZmlsZQ%3D%3D?line=2'>3</a>\u001b[0m     f\u001b[39m.\u001b[39mwrite(\u001b[39m\"\u001b[39m\u001b[39m파일 쓰기 테스트 입니다.\u001b[39m\u001b[39m\"\u001b[39m)\n",
      "File \u001b[1;32mc:\\Users\\Jihwan\\AppData\\Local\\Programs\\Python\\Python312\\Lib\\site-packages\\IPython\\core\\interactiveshell.py:308\u001b[0m, in \u001b[0;36m_modified_open\u001b[1;34m(file, *args, **kwargs)\u001b[0m\n\u001b[0;32m    301\u001b[0m \u001b[39mif\u001b[39;00m file \u001b[39min\u001b[39;00m {\u001b[39m0\u001b[39m, \u001b[39m1\u001b[39m, \u001b[39m2\u001b[39m}:\n\u001b[0;32m    302\u001b[0m     \u001b[39mraise\u001b[39;00m \u001b[39mValueError\u001b[39;00m(\n\u001b[0;32m    303\u001b[0m         \u001b[39mf\u001b[39m\u001b[39m\"\u001b[39m\u001b[39mIPython won\u001b[39m\u001b[39m'\u001b[39m\u001b[39mt let you open fd=\u001b[39m\u001b[39m{\u001b[39;00mfile\u001b[39m}\u001b[39;00m\u001b[39m by default \u001b[39m\u001b[39m\"\u001b[39m\n\u001b[0;32m    304\u001b[0m         \u001b[39m\"\u001b[39m\u001b[39mas it is likely to crash IPython. If you know what you are doing, \u001b[39m\u001b[39m\"\u001b[39m\n\u001b[0;32m    305\u001b[0m         \u001b[39m\"\u001b[39m\u001b[39myou can use builtins\u001b[39m\u001b[39m'\u001b[39m\u001b[39m open.\u001b[39m\u001b[39m\"\u001b[39m\n\u001b[0;32m    306\u001b[0m     )\n\u001b[1;32m--> 308\u001b[0m \u001b[39mreturn\u001b[39;00m io_open(file, \u001b[39m*\u001b[39;49margs, \u001b[39m*\u001b[39;49m\u001b[39m*\u001b[39;49mkwargs)\n",
      "\u001b[1;31mFileNotFoundError\u001b[0m: [Errno 2] No such file or directory: 'z:\\\\hello.txt'"
     ]
    }
   ],
   "source": [
    "filePath = input(\"파일 경로를 지정하세요\")   # 파일을 저장할 수 없는 경로로 지정한 경우 에러발생\n",
    "with open(filePath, \"w\", encoding=\"utf-8\") as f:\n",
    "    f.write(\"파일 쓰기 테스트 입니다.\")"
   ]
  },
  {
   "cell_type": "markdown",
   "metadata": {},
   "source": [
    "### 고전적인 예외처리\n",
    "\n",
    "#### 연산을 수행할 수 없는 경우를 IF문으로 대비해야 함"
   ]
  },
  {
   "cell_type": "code",
   "execution_count": null,
   "metadata": {},
   "outputs": [],
   "source": [
    "x = int(input(\"숫자를 입력하세요.\"))\n",
    "\n",
    "# 입력값이 0인 경우에 대비해야 함\n",
    "if x == 0:\n",
    "    print(\"0으로 나눌 수 없습니다.\")\n",
    "else:\n",
    "    y = 100 / x\n",
    "    print(\"결과는 %d입니다.\" % y)"
   ]
  },
  {
   "cell_type": "markdown",
   "metadata": {},
   "source": [
    "#### 파일을 생성하기 위해서는 주어진 경로의 상위 경로가 존재하는지 미리 검사해야 함"
   ]
  },
  {
   "cell_type": "code",
   "execution_count": null,
   "metadata": {},
   "outputs": [],
   "source": [
    "import os\n",
    "\n",
    "filePath = input(\"파일 경로를 지정하세요\")\n",
    "\n",
    "# 주어진 경로의 상위 경로 가져오기\n",
    "parent = os.path.dirname(filePath)\n",
    "\n",
    "# 상위 경로가 존재하는지 확인\n",
    "if not os.path.exists(parent):\n",
    "    print(\"파일을 생성할 수 없는 위치 입니다.\")\n",
    "else:\n",
    "    with open(filePath, \"w\", encoding=\"utf-8\") as f:\n",
    "        f.write(\"파일 쓰기 테스트 입니다.\")"
   ]
  },
  {
   "cell_type": "markdown",
   "metadata": {},
   "source": [
    "## #02. Python 예외 처리\n",
    "\n",
    "### `try~except`문 기본 활용"
   ]
  },
  {
   "cell_type": "code",
   "execution_count": null,
   "metadata": {},
   "outputs": [],
   "source": [
    "try:\n",
    "    x = int(input(\"숫자를 입력하세요.\"))\n",
    "    y = 100 / x\n",
    "    print(\"결과는 %d입니다.\" % y)\n",
    "except:\n",
    "    print(\"에러가 발생했습니다.\")"
   ]
  },
  {
   "cell_type": "markdown",
   "metadata": {},
   "source": [
    "### 예외의 종류에 따라 다르게 대응하기"
   ]
  },
  {
   "cell_type": "code",
   "execution_count": null,
   "metadata": {},
   "outputs": [],
   "source": [
    "try:\n",
    "    x = int(input(\"숫자를 입력하세요.\"))\n",
    "    y = 100 / x\n",
    "    print(\"결과는 %d입니다.\" % y)\n",
    "except ValueError:\n",
    "    print(\"숫자만 입력하세요.\")\n",
    "except ZeroDivisionError:\n",
    "    print(\"0으로 나눌 수 없습니다.\")\n",
    "except Exception:\n",
    "    print(\"알 수 없는 에러가 발생했습니다.\")"
   ]
  },
  {
   "cell_type": "markdown",
   "metadata": {},
   "source": [
    "### 에러 메시지를 변수에 저장하기"
   ]
  },
  {
   "cell_type": "code",
   "execution_count": null,
   "metadata": {},
   "outputs": [],
   "source": [
    "try:\n",
    "    x = int(input(\"숫자를 입력하세요.\"))\n",
    "    y = 100 / x\n",
    "    print(\"결과는 %d입니다.\" % y)\n",
    "except ValueError as verr:\n",
    "    print(\"숫자만 입력하세요.\", verr)\n",
    "except ZeroDivisionError as zerr:\n",
    "    print(\"0으로 나눌 수 없습니다.\", zerr)\n",
    "except Exception as err:\n",
    "    print(\"알 수 없는 에러가 발생했습니다.\", err)"
   ]
  },
  {
   "cell_type": "markdown",
   "metadata": {},
   "source": [
    "### 에러 발생여부에 상관 없이 무조건 실행되는 블록"
   ]
  },
  {
   "cell_type": "code",
   "execution_count": 12,
   "metadata": {},
   "outputs": [
    {
     "name": "stdout",
     "output_type": "stream",
     "text": [
      "결과는 1입니다.\n",
      "처리가 완료되었습니다.\n"
     ]
    }
   ],
   "source": [
    "try:\n",
    "    x = int(input(\"숫자를 입력하세요.\"))\n",
    "    y = 100 / x\n",
    "    print(\"결과는 %d입니다.\" % y)\n",
    "except ValueError as verr:\n",
    "    print(\"숫자만 입력하세요.\", verr)\n",
    "except ZeroDivisionError as zerr:\n",
    "    print(\"0으로 나눌 수 없습니다.\", zerr)\n",
    "except Exception as err:\n",
    "    print(\"알 수 없는 에러가 발생했습니다.\", err)\n",
    "finally:\n",
    "    print(\"처리가 완료되었습니다.\")"
   ]
  },
  {
   "cell_type": "markdown",
   "metadata": {},
   "source": [
    "가장 간편한 사용 형태"
   ]
  },
  {
   "cell_type": "code",
   "execution_count": 4,
   "metadata": {},
   "outputs": [
    {
     "name": "stdout",
     "output_type": "stream",
     "text": [
      "결과는 20입니다.\n",
      "처리가 완료되었습니다.\n"
     ]
    }
   ],
   "source": [
    "try:\n",
    "    x = int(input(\"숫자를 입력하세요.\"))\n",
    "    y = 100 / x\n",
    "    print(\"결과는 %d입니다.\" % y)\n",
    "\n",
    "except Exception as e:\n",
    "    print(\"에러가 발생했습니다.\", e)\n",
    "finally:\n",
    "    print(\"처리가 완료되었습니다.\")\n"
   ]
  },
  {
   "cell_type": "markdown",
   "metadata": {},
   "source": [
    "## #03. 예외 강제 발생\n",
    "\n",
    "### 예외 객체의 사용"
   ]
  },
  {
   "cell_type": "code",
   "execution_count": null,
   "metadata": {},
   "outputs": [],
   "source": [
    "e = Exception(\"이것은 에러 입니다.\")\n",
    "raise e"
   ]
  },
  {
   "cell_type": "markdown",
   "metadata": {},
   "source": [
    "### 고전적인 예외 처리"
   ]
  },
  {
   "cell_type": "code",
   "execution_count": 26,
   "metadata": {},
   "outputs": [
    {
     "name": "stdout",
     "output_type": "stream",
     "text": [
      "아이디를 입력하세요\n"
     ]
    }
   ],
   "source": [
    "def oldLogin(userId, userPw):\n",
    "    if not userId:\n",
    "        return -1\n",
    "    \n",
    "    if not userPw:\n",
    "        return -2\n",
    "    else:\n",
    "        return 0\n",
    "\n",
    "result1 = oldLogin(\"\", \"1234\")\n",
    "\n",
    "if result1 == -1:\n",
    "    print(\"아이디를 입력하세요\")\n",
    "elif result1 == -2:\n",
    "    print(\"비밀번호를 입력하세요\")\n",
    "else:\n",
    "    print(\"로그인 성공\")        "
   ]
  },
  {
   "cell_type": "markdown",
   "metadata": {},
   "source": [
    "### raise 문을 활용한 예외 처리"
   ]
  },
  {
   "cell_type": "code",
   "execution_count": 6,
   "metadata": {},
   "outputs": [
    {
     "name": "stdout",
     "output_type": "stream",
     "text": [
      "로그인성공\n"
     ]
    }
   ],
   "source": [
    "def newLogin(userId, userPw):\n",
    "    if not userId:\n",
    "        raise Exception(\"아이디 입력\")\n",
    "    if not userPw:\n",
    "        raise Exception(\"비밀번호 입력\")\n",
    "    else:\n",
    "        return 0\n",
    "\n",
    "try: \n",
    "    newLogin(\"user\", \"godd\")\n",
    "    print(\"로그인성공\")\n",
    "except Exception as e:\n",
    "    print(\"로그인 실패\", e)        "
   ]
  }
 ],
 "metadata": {
  "kernelspec": {
   "display_name": "Python 3",
   "language": "python",
   "name": "python3"
  },
  "language_info": {
   "codemirror_mode": {
    "name": "ipython",
    "version": 3
   },
   "file_extension": ".py",
   "mimetype": "text/x-python",
   "name": "python",
   "nbconvert_exporter": "python",
   "pygments_lexer": "ipython3",
   "version": "3.11.8"
  }
 },
 "nbformat": 4,
 "nbformat_minor": 2
}
