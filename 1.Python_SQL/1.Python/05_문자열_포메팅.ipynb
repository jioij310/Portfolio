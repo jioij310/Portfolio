{
 "cells": [
  {
   "cell_type": "markdown",
   "metadata": {},
   "source": [
    "# 05강 문자열 포메팅\n",
    "\n",
    "## 01. 형식문자 활용 포메팅"
   ]
  },
  {
   "cell_type": "code",
   "execution_count": 3,
   "metadata": {},
   "outputs": [
    {
     "name": "stdout",
     "output_type": "stream",
     "text": [
      "나는 10000원을 갖고 있다.\n"
     ]
    }
   ],
   "source": [
    "str1 = \"나는 %d원을 갖고 있다.\" % 10000\n",
    "print(str1)"
   ]
  },
  {
   "cell_type": "code",
   "execution_count": 5,
   "metadata": {},
   "outputs": [
    {
     "name": "stdout",
     "output_type": "stream",
     "text": [
      "[123.456700]원 입니다.\n"
     ]
    }
   ],
   "source": [
    "money = 123.4567\n",
    "print(\"[%f]원 입니다.\" % money)"
   ]
  },
  {
   "cell_type": "code",
   "execution_count": 7,
   "metadata": {},
   "outputs": [
    {
     "name": "stdout",
     "output_type": "stream",
     "text": [
      "Hello Python\n"
     ]
    }
   ],
   "source": [
    "lang = \"Python\"\n",
    "str2 = \"Hello %s\" % lang\n",
    "print(str2)"
   ]
  },
  {
   "cell_type": "code",
   "execution_count": 9,
   "metadata": {},
   "outputs": [
    {
     "name": "stdout",
     "output_type": "stream",
     "text": [
      "정모 날짜는  2023년 1월 1일 입니다.\n",
      "약속 날짜는  2023년 3월 5일 입니다.\n"
     ]
    }
   ],
   "source": [
    "str3 = \"%s 날짜는  %d년 %d월 %d일 입니다.\"\n",
    "msg1 = str3 % (\"정모\", 2023, 1, 1)\n",
    "print(msg1)\n",
    "\n",
    "msg2 = str3 % (\"약속\", 2023, 3, 5)\n",
    "print(msg2)"
   ]
  },
  {
   "cell_type": "code",
   "execution_count": 11,
   "metadata": {},
   "outputs": [
    {
     "name": "stdout",
     "output_type": "stream",
     "text": [
      "[   1200000]원을 입금했습니다.\n"
     ]
    }
   ],
   "source": [
    "print(\"[%10d]원을 입금했습니다.\" % 1200000)"
   ]
  },
  {
   "cell_type": "code",
   "execution_count": 13,
   "metadata": {},
   "outputs": [
    {
     "name": "stdout",
     "output_type": "stream",
     "text": [
      "[0001200000]원을 입금했습니다.\n"
     ]
    }
   ],
   "source": [
    "print(\"[%010d]원을 입금했습니다.\" % 1200000)"
   ]
  },
  {
   "cell_type": "code",
   "execution_count": 14,
   "metadata": {},
   "outputs": [
    {
     "name": "stdout",
     "output_type": "stream",
     "text": [
      "[1200000   ]원을 입금했습니다.\n"
     ]
    }
   ],
   "source": [
    "print(\"[%-10d]원을 입금했습니다.\" % 1200000)"
   ]
  },
  {
   "cell_type": "code",
   "execution_count": 30,
   "metadata": {},
   "outputs": [
    {
     "name": "stdout",
     "output_type": "stream",
     "text": [
      "[      대한민국]에 살고 있습니다.\n",
      "[대한민국      ]에 살고 있습니다.\n"
     ]
    }
   ],
   "source": [
    "print(\"[%10s]에 살고 있습니다.\" % \"대한민국\")\n",
    "print(\"[%-10s]에 살고 있습니다.\" % \"대한민국\")"
   ]
  },
  {
   "cell_type": "code",
   "execution_count": 28,
   "metadata": {},
   "outputs": [
    {
     "name": "stdout",
     "output_type": "stream",
     "text": [
      "[12345.67890]원 입니다\n"
     ]
    }
   ],
   "source": [
    "myMoney = 12345.6789\n",
    "print(\"[%.5f]원 입니다\" % myMoney)"
   ]
  },
  {
   "cell_type": "code",
   "execution_count": 25,
   "metadata": {},
   "outputs": [
    {
     "name": "stdout",
     "output_type": "stream",
     "text": [
      "[ 12345.679]원 입니다.\n"
     ]
    }
   ],
   "source": [
    "print(\"[%10.3f]원 입니다.\" % myMoney)"
   ]
  },
  {
   "cell_type": "code",
   "execution_count": 26,
   "metadata": {},
   "outputs": [
    {
     "name": "stdout",
     "output_type": "stream",
     "text": [
      "[12345.679 ]원 입니다.\n"
     ]
    }
   ],
   "source": [
    "print(\"[%-10.3f]원 입니다.\" % myMoney)"
   ]
  },
  {
   "cell_type": "code",
   "execution_count": 27,
   "metadata": {},
   "outputs": [
    {
     "name": "stdout",
     "output_type": "stream",
     "text": [
      "[012345.679]원 입니다.\n"
     ]
    }
   ],
   "source": [
    "print(\"[%010.3f]원 입니다.\" % myMoney)"
   ]
  },
  {
   "cell_type": "code",
   "execution_count": 36,
   "metadata": {},
   "outputs": [
    {
     "name": "stdout",
     "output_type": "stream",
     "text": [
      "이번 분기 수익률은 [  150%]입니다.\n"
     ]
    }
   ],
   "source": [
    "profitratio = 150\n",
    "print(\"이번 분기 수익률은 [%5d%%]입니다.\" % profitratio)"
   ]
  },
  {
   "cell_type": "markdown",
   "metadata": {},
   "source": [
    "## 02. format() 메서드 포메팅"
   ]
  },
  {
   "cell_type": "code",
   "execution_count": 39,
   "metadata": {},
   "outputs": [
    {
     "name": "stdout",
     "output_type": "stream",
     "text": [
      "I eat 3 apples.\n"
     ]
    }
   ],
   "source": [
    "msg1 = \"I eat {0} apples.\"\n",
    "print(msg1.format(3))"
   ]
  },
  {
   "cell_type": "code",
   "execution_count": 40,
   "metadata": {},
   "outputs": [
    {
     "name": "stdout",
     "output_type": "stream",
     "text": [
      "개강일은 2023년 1월 26일 입니다.\n"
     ]
    }
   ],
   "source": [
    "msg2 = \"{0}은 {1}년 {2}월 {3}일 입니다.\"\n",
    "print(msg2.format(\"개강일\", 2023, 1, 26))"
   ]
  },
  {
   "cell_type": "code",
   "execution_count": 41,
   "metadata": {},
   "outputs": [
    {
     "name": "stdout",
     "output_type": "stream",
     "text": [
      "종강일은 2023년 10월 20일입니다.\n"
     ]
    }
   ],
   "source": [
    "msg3 = \"{name}은 {yy}년 {mm}월 {dd}일입니다.\"\n",
    "print(msg3.format(mm=10, name=\"종강일\", dd=20, yy=2023))"
   ]
  },
  {
   "cell_type": "code",
   "execution_count": 42,
   "metadata": {},
   "outputs": [
    {
     "name": "stdout",
     "output_type": "stream",
     "text": [
      "[   Hi]!!Python, [  Welcome]~Python\n"
     ]
    }
   ],
   "source": [
    "sort1 = \"[{0:>5}]!!Python, [{1:>9}]~Python\"\n",
    "print(sort1.format(\"Hi\",\"Welcome\"))"
   ]
  },
  {
   "cell_type": "code",
   "execution_count": 43,
   "metadata": {},
   "outputs": [
    {
     "name": "stdout",
     "output_type": "stream",
     "text": [
      "[    Hi    ]!!Python, [  Hello  ]~Python\n"
     ]
    }
   ],
   "source": [
    "sort3 = \"[{0:^10}]!!Python, [{1:^9}]~Python\"\n",
    "print(sort3.format(\"Hi\", \"Hello\"))"
   ]
  },
  {
   "cell_type": "code",
   "execution_count": 45,
   "metadata": {},
   "outputs": [
    {
     "name": "stdout",
     "output_type": "stream",
     "text": [
      "[Hi   ]!!Python [  Hello  ]!!Python\n"
     ]
    }
   ],
   "source": [
    "blank1 = \"[{0:<5}]!!Python [{1:^9}]!!Python\"\n",
    "print(blank1.format(\"Hi\", \"Hello\"))"
   ]
  },
  {
   "cell_type": "code",
   "execution_count": 59,
   "metadata": {},
   "outputs": [
    {
     "name": "stdout",
     "output_type": "stream",
     "text": [
      "010-1234-****\n"
     ]
    }
   ],
   "source": [
    "phone = \"010-1234-5678\"\n",
    "blank2 = \"{0}-{1}-{2:*<4}\"\n",
    "result = blank2.format(phone[0:3],phone[4:8],\"\")\n",
    "print(result)"
   ]
  },
  {
   "cell_type": "code",
   "execution_count": 48,
   "metadata": {},
   "outputs": [
    {
     "name": "stdout",
     "output_type": "stream",
     "text": [
      "123.4568\n"
     ]
    }
   ],
   "source": [
    "float1 = \"{0:0.4f}\"\n",
    "print(float1.format(123.45677))"
   ]
  },
  {
   "cell_type": "code",
   "execution_count": 50,
   "metadata": {},
   "outputs": [
    {
     "name": "stdout",
     "output_type": "stream",
     "text": [
      "[  123.4567]\n"
     ]
    }
   ],
   "source": [
    "float2 = \"[{0:10.4f}]\"\n",
    "print(float2.format(123.4567))"
   ]
  },
  {
   "cell_type": "code",
   "execution_count": 51,
   "metadata": {},
   "outputs": [
    {
     "name": "stdout",
     "output_type": "stream",
     "text": [
      "00123.4567\n"
     ]
    }
   ],
   "source": [
    "float3 = \"{0:010.4f}\"\n",
    "print(float3.format(123.4567))"
   ]
  },
  {
   "cell_type": "code",
   "execution_count": 54,
   "metadata": {},
   "outputs": [
    {
     "name": "stdout",
     "output_type": "stream",
     "text": [
      "{python}은 쉽다\n",
      "{python}은 간결하다\n"
     ]
    }
   ],
   "source": [
    "my = \"{{python}}은 {0}다\"\n",
    "print(my.format(\"쉽\"))\n",
    "print(my.format(\"간결하\"))"
   ]
  },
  {
   "cell_type": "markdown",
   "metadata": {},
   "source": [
    "## 03. f-string"
   ]
  },
  {
   "cell_type": "code",
   "execution_count": 1,
   "metadata": {},
   "outputs": [
    {
     "name": "stdout",
     "output_type": "stream",
     "text": [
      "Python\n"
     ]
    }
   ],
   "source": [
    "lang = \"Python\"\n",
    "print(f'{lang}')"
   ]
  },
  {
   "cell_type": "code",
   "execution_count": 2,
   "metadata": {},
   "outputs": [
    {
     "data": {
      "text/plain": [
       "'Results of the 2016 Referendum'"
      ]
     },
     "execution_count": 2,
     "metadata": {},
     "output_type": "execute_result"
    }
   ],
   "source": [
    "year = 2016\n",
    "event = 'Referendum'\n",
    "f'Results of the {year} {event}'"
   ]
  }
 ],
 "metadata": {
  "kernelspec": {
   "display_name": "Python 3",
   "language": "python",
   "name": "python3"
  },
  "language_info": {
   "codemirror_mode": {
    "name": "ipython",
    "version": 3
   },
   "file_extension": ".py",
   "mimetype": "text/x-python",
   "name": "python",
   "nbconvert_exporter": "python",
   "pygments_lexer": "ipython3",
   "version": "3.11.8"
  }
 },
 "nbformat": 4,
 "nbformat_minor": 2
}
