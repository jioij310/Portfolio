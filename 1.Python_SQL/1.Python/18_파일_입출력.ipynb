{
 "cells": [
  {
   "cell_type": "markdown",
   "metadata": {},
   "source": [
    "# 18강. 파일 입출력"
   ]
  },
  {
   "cell_type": "markdown",
   "metadata": {},
   "source": [
    "## #01. 파일 입출력 객체를 위한 Open 함수"
   ]
  },
  {
   "cell_type": "code",
   "execution_count": 1,
   "metadata": {},
   "outputs": [],
   "source": [
    "# 새로운 파일 생성, 혹은 기존의 파일 열기\n",
    "\n",
    "f = open(\"helloworld.txt\", \"w\", encoding = 'utf-8')\n",
    "\n",
    "f.write(\"Hello Python!!!\\n\")\n",
    "f.write(\"안녕하세요. 파이썬!!!\\n\")\n",
    "\n",
    "f.close()"
   ]
  },
  {
   "cell_type": "markdown",
   "metadata": {},
   "source": [
    "## #02. with 블록을 활용한 파일 입출력\n",
    "\n",
    "### 파일 쓰기"
   ]
  },
  {
   "cell_type": "code",
   "execution_count": 2,
   "metadata": {},
   "outputs": [
    {
     "name": "stdout",
     "output_type": "stream",
     "text": [
      "파일 저장이 완료되었습니다.\n"
     ]
    }
   ],
   "source": [
    "with open(\"hellopython.txt\",\"w\",encoding='utf-8') as f:\n",
    "    for i in range(0,10):\n",
    "        f.write(\"%d>> \" % i)\n",
    "        f.write(\"Life is too short, \")\n",
    "        f.write(\"you need python\\n\")\n",
    "\n",
    "    print(\"파일 저장이 완료되었습니다.\")    "
   ]
  },
  {
   "cell_type": "markdown",
   "metadata": {},
   "source": [
    "### 파일 읽기"
   ]
  },
  {
   "cell_type": "code",
   "execution_count": 3,
   "metadata": {},
   "outputs": [
    {
     "name": "stdout",
     "output_type": "stream",
     "text": [
      "0>> Life is too short, you need python\n",
      "1>> Life is too short, you need python\n",
      "2>> Life is too short, you need python\n",
      "3>> Life is too short, you need python\n",
      "4>> Life is too short, you need python\n",
      "5>> Life is too short, you need python\n",
      "6>> Life is too short, you need python\n",
      "7>> Life is too short, you need python\n",
      "8>> Life is too short, you need python\n",
      "9>> Life is too short, you need python\n",
      "\n"
     ]
    }
   ],
   "source": [
    "with open(\"hellopython.txt\", \"r\", encoding='utf-8') as f:\n",
    "    data = f.read()\n",
    "    print(data)"
   ]
  },
  {
   "cell_type": "markdown",
   "metadata": {},
   "source": [
    "### 파일의 내용을 한 줄씩 읽기"
   ]
  },
  {
   "cell_type": "code",
   "execution_count": 4,
   "metadata": {},
   "outputs": [
    {
     "name": "stdout",
     "output_type": "stream",
     "text": [
      "['0>> Life is too short, you need python\\n', '1>> Life is too short, you need python\\n', '2>> Life is too short, you need python\\n', '3>> Life is too short, you need python\\n', '4>> Life is too short, you need python\\n', '5>> Life is too short, you need python\\n', '6>> Life is too short, you need python\\n', '7>> Life is too short, you need python\\n', '8>> Life is too short, you need python\\n', '9>> Life is too short, you need python\\n']\n",
      "------------------------------\n",
      "읽어들인 데이터는 총 10줄입니다.\n",
      "------------------------------\n",
      "0>> Life is too short, you need python\n",
      "1>> Life is too short, you need python\n",
      "2>> Life is too short, you need python\n",
      "3>> Life is too short, you need python\n",
      "4>> Life is too short, you need python\n",
      "5>> Life is too short, you need python\n",
      "6>> Life is too short, you need python\n",
      "7>> Life is too short, you need python\n",
      "8>> Life is too short, you need python\n",
      "9>> Life is too short, you need python\n"
     ]
    }
   ],
   "source": [
    "with open(\"hellopython.txt\", \"r\", encoding='utf-8') as f:\n",
    "    lines = f.readlines()\n",
    "    print(lines)\n",
    "    print(\"-\"*30)\n",
    "\n",
    "    size = len(lines)\n",
    "    print(\"읽어들인 데이터는 총 %d줄입니다.\" % size)\n",
    "    print(\"-\" *30)\n",
    "\n",
    "    for item in lines:\n",
    "        print(item.strip())"
   ]
  }
 ],
 "metadata": {
  "kernelspec": {
   "display_name": "Python 3",
   "language": "python",
   "name": "python3"
  },
  "language_info": {
   "codemirror_mode": {
    "name": "ipython",
    "version": 3
   },
   "file_extension": ".py",
   "mimetype": "text/x-python",
   "name": "python",
   "nbconvert_exporter": "python",
   "pygments_lexer": "ipython3",
   "version": "3.11.8"
  }
 },
 "nbformat": 4,
 "nbformat_minor": 2
}
