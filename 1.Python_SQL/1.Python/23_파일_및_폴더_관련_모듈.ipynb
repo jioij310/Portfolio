{
 "cells": [
  {
   "cell_type": "markdown",
   "metadata": {},
   "source": [
    "# 23강. 파일 및 폴더 관련 모듈"
   ]
  },
  {
   "cell_type": "markdown",
   "metadata": {},
   "source": [
    "모듈 참조하기/현재 운영체제 이름 조회"
   ]
  },
  {
   "cell_type": "code",
   "execution_count": 2,
   "metadata": {},
   "outputs": [
    {
     "name": "stdout",
     "output_type": "stream",
     "text": [
      "win32\n"
     ]
    }
   ],
   "source": [
    "import sys\n",
    "import os\n",
    "\n",
    "print(sys.platform)"
   ]
  },
  {
   "cell_type": "markdown",
   "metadata": {},
   "source": [
    "경로 문자열 관련 기능"
   ]
  },
  {
   "cell_type": "code",
   "execution_count": 3,
   "metadata": {},
   "outputs": [
    {
     "name": "stdout",
     "output_type": "stream",
     "text": [
      "['01_변수의_이해.ipynb', '02_함수와_객체의_이해.ipynb', '03_연산자.ipynb', '04_문자열의_이해.ipynb', '05_문자열_포메팅.ipynb', '06_문자열_관련_함수.ipynb', '07_리스트의_이해.ipynb', '08_리스트의_활용.ipynb', '09_리스트_관련_함수.ipynb', '10_딕셔너리의_이해.ipynb', '11_딕셔너리의_활용.ipynb', '12_조건문.ipynb', '13_반복문(1)_WHILE문.ipynb', '14_반복문(2)_FOR문.ipynb', '15_프로그램_흐름제어.ipynb', '16_코딩테스트_기본유형.ipynb', '17_함수의_이해.ipynb', '18_파일_입출력.ipynb', '19_CSV파일다루기.ipynb', '20_클래스와_객체.ipynb', '21-생성자,정보은닉,프로퍼티.ipynb', '22-모듈의_이해.ipynb', '23_파일_및_폴더_관련_모듈.ipynb', '24_날짜_및_시간_관련_기능.ipynb', '25_비동기_처리.ipynb', '26_예외처리.ipynb']\n"
     ]
    }
   ],
   "source": [
    "ls = os.listdir('./')\n",
    "print(ls)"
   ]
  },
  {
   "cell_type": "markdown",
   "metadata": {},
   "source": [
    "폴더의 생성과 삭제"
   ]
  },
  {
   "cell_type": "code",
   "execution_count": 4,
   "metadata": {},
   "outputs": [
    {
     "name": "stdout",
     "output_type": "stream",
     "text": [
      "False\n"
     ]
    }
   ],
   "source": [
    "k = os.path.exists('./hello')\n",
    "print(k)"
   ]
  },
  {
   "cell_type": "code",
   "execution_count": 7,
   "metadata": {},
   "outputs": [
    {
     "name": "stdout",
     "output_type": "stream",
     "text": [
      "hello 폴더를 삭제했습니다.\n"
     ]
    }
   ],
   "source": [
    "if os.path.exists('./hello') == False:\n",
    "    os.mkdir('./hello')\n",
    "    print('hello 폴더를 생성했습니다.')\n",
    "else:\n",
    "    os.rmdir('./hello')\n",
    "    print('hello 폴더를 삭제했습니다.')    "
   ]
  },
  {
   "cell_type": "markdown",
   "metadata": {},
   "source": [
    "파일이나 폴더검색"
   ]
  },
  {
   "cell_type": "code",
   "execution_count": 7,
   "metadata": {},
   "outputs": [],
   "source": [
    "import glob as gl"
   ]
  },
  {
   "cell_type": "code",
   "execution_count": 8,
   "metadata": {},
   "outputs": [
    {
     "name": "stdout",
     "output_type": "stream",
     "text": [
      "['01_변수의_이해.ipynb', '02_함수와_객체의_이해.ipynb', '03_연산자.ipynb', '04_문자열의_이해.ipynb', '05_문자열_포메팅.ipynb', '06_문자열_관련_함수.ipynb', '07_리스트의_이해.ipynb', '08_리스트의_활용.ipynb', '09_리스트_관련_함수.ipynb', '10_딕셔너리의_이해.ipynb', '11_딕셔너리의_활용.ipynb', '12_조건문.ipynb', '13_반복문(1)_WHILE문.ipynb', '14_반복문(2)_FOR문.ipynb', '15_프로그램_흐름제어.ipynb', '16_코딩테스트_기본유형.ipynb', '17_함수의_이해.ipynb', '18_파일_입출력.ipynb', '19_CSV파일다루기.ipynb', '20_클래스와_객체.ipynb', '21-생성자,정보은닉,프로퍼티.ipynb', '22-모듈의_이해.ipynb', '23_파일_및_폴더_관련_모듈.ipynb', '24_날짜_및_시간_관련_기능.ipynb', '25_비동기_처리.ipynb', '26_예외처리.ipynb']\n"
     ]
    }
   ],
   "source": [
    "ls = gl.glob('*')\n",
    "print(ls)"
   ]
  },
  {
   "cell_type": "code",
   "execution_count": 9,
   "metadata": {},
   "outputs": [
    {
     "name": "stdout",
     "output_type": "stream",
     "text": [
      "['01_변수의_이해.ipynb', '02_함수와_객체의_이해.ipynb', '03_연산자.ipynb', '04_문자열의_이해.ipynb', '05_문자열_포메팅.ipynb', '06_문자열_관련_함수.ipynb', '07_리스트의_이해.ipynb', '08_리스트의_활용.ipynb', '09_리스트_관련_함수.ipynb', '10_딕셔너리의_이해.ipynb', '11_딕셔너리의_활용.ipynb', '12_조건문.ipynb', '13_반복문(1)_WHILE문.ipynb', '14_반복문(2)_FOR문.ipynb', '15_프로그램_흐름제어.ipynb', '16_코딩테스트_기본유형.ipynb', '17_함수의_이해.ipynb', '18_파일_입출력.ipynb', '19_CSV파일다루기.ipynb', '20_클래스와_객체.ipynb', '21-생성자,정보은닉,프로퍼티.ipynb', '22-모듈의_이해.ipynb', '23_파일_및_폴더_관련_모듈.ipynb', '24_날짜_및_시간_관련_기능.ipynb', '25_비동기_처리.ipynb', '26_예외처리.ipynb']\n"
     ]
    }
   ],
   "source": [
    "ls = gl.glob('*.ipynb')\n",
    "print(ls)"
   ]
  },
  {
   "cell_type": "code",
   "execution_count": 10,
   "metadata": {},
   "outputs": [
    {
     "name": "stdout",
     "output_type": "stream",
     "text": [
      "['02_함수와_객체의_이해.ipynb', '12_조건문.ipynb', '14_반복문(2)_FOR문.ipynb', '20_클래스와_객체.ipynb', '21-생성자,정보은닉,프로퍼티.ipynb', '22-모듈의_이해.ipynb', '23_파일_및_폴더_관련_모듈.ipynb', '24_날짜_및_시간_관련_기능.ipynb', '25_비동기_처리.ipynb', '26_예외처리.ipynb']\n"
     ]
    }
   ],
   "source": [
    "ls = gl.glob('*2*')\n",
    "print(ls)"
   ]
  },
  {
   "cell_type": "markdown",
   "metadata": {},
   "source": [
    "폴더 트리 생성 및 삭제"
   ]
  },
  {
   "cell_type": "code",
   "execution_count": 17,
   "metadata": {},
   "outputs": [
    {
     "name": "stdout",
     "output_type": "stream",
     "text": [
      "python 폴더와 하위 폴더들을 생성 했습니다.\n"
     ]
    }
   ],
   "source": [
    "import shutil\n",
    "\n",
    "if os.path.exists('python') == False:\n",
    "    os.makedirs('python/test/hello/world', exist_ok=True)\n",
    "    print('python 폴더와 하위 폴더들을 생성 했습니다.')\n",
    "else:\n",
    "\n",
    "    shutil.rmtree('python')\n",
    "    print('python 폴더가 삭제되었습니다.')    "
   ]
  },
  {
   "cell_type": "code",
   "execution_count": 19,
   "metadata": {},
   "outputs": [],
   "source": [
    "if os.path.exists('python'):\n",
    "    shutil.move('python', '../created')\n",
    "    print('python 폴더가 ../created 폴더로 이동되었습니다.')"
   ]
  },
  {
   "cell_type": "code",
   "execution_count": 20,
   "metadata": {},
   "outputs": [
    {
     "name": "stdout",
     "output_type": "stream",
     "text": [
      "python 폴더가 copy로 복사되었습니다.\n"
     ]
    }
   ],
   "source": [
    "if os.path.exists('../created'):\n",
    "    shutil.copytree('../created','./copy')\n",
    "    print('python 폴더가 copy로 복사되었습니다.')"
   ]
  },
  {
   "cell_type": "code",
   "execution_count": 23,
   "metadata": {},
   "outputs": [
    {
     "name": "stdout",
     "output_type": "stream",
     "text": [
      "hello.txt 파일을 생성했습니다.\n",
      "hello.txt가 world.txt로 복사되었습니다.\n"
     ]
    }
   ],
   "source": [
    "if os.path.exists('hello.txt') == False:\n",
    "    with open(\"hello.txt\", \"w\", encoding=\"utf-8\") as f:\n",
    "        f.write(\"Life is too short, you need python\")\n",
    "        print('hello.txt 파일을 생성했습니다.')\n",
    "\n",
    "    shutil.copy('hello.txt', 'world.txt')\n",
    "    print('hello.txt가 world.txt로 복사되었습니다.')\n",
    "\n",
    "else:\n",
    "    os.remove('hello.txt')\n",
    "    print('hello.txt가 삭제되었습니다.')\n",
    "    os.remove('world.txt') \n",
    "    print('world.txt가 삭제되었습니다.') \n",
    "           "
   ]
  }
 ],
 "metadata": {
  "kernelspec": {
   "display_name": "Python 3",
   "language": "python",
   "name": "python3"
  },
  "language_info": {
   "codemirror_mode": {
    "name": "ipython",
    "version": 3
   },
   "file_extension": ".py",
   "mimetype": "text/x-python",
   "name": "python",
   "nbconvert_exporter": "python",
   "pygments_lexer": "ipython3",
   "version": "3.11.8"
  }
 },
 "nbformat": 4,
 "nbformat_minor": 2
}
