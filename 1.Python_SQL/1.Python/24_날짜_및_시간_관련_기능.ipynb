{
 "cells": [
  {
   "cell_type": "markdown",
   "metadata": {},
   "source": [
    "# 24강. 날짜 및 시간 관련 기능"
   ]
  },
  {
   "cell_type": "markdown",
   "metadata": {},
   "source": [
    "## 01. 날짜 및 시간 성분 조회"
   ]
  },
  {
   "cell_type": "code",
   "execution_count": 7,
   "metadata": {},
   "outputs": [
    {
     "name": "stdout",
     "output_type": "stream",
     "text": [
      "2023\n",
      "11\n",
      "30\n",
      "20\n",
      "22\n",
      "54\n",
      "639532\n",
      "3\n"
     ]
    }
   ],
   "source": [
    "import datetime as dt  # 날짜 처리 모듈 datetime\n",
    "now_time = dt.datetime.now()\n",
    "print(now_time.year)\n",
    "print(now_time.month)\n",
    "print(now_time.day)\n",
    "print(now_time.hour)\n",
    "print(now_time.minute)\n",
    "print(now_time.second)\n",
    "print(now_time.microsecond)\n",
    "print(now_time.weekday())"
   ]
  },
  {
   "cell_type": "code",
   "execution_count": null,
   "metadata": {},
   "outputs": [
    {
     "name": "stdout",
     "output_type": "stream",
     "text": [
      "2023-11-30 11:54:41.183611\n"
     ]
    }
   ],
   "source": [
    "print(now_time)"
   ]
  },
  {
   "cell_type": "code",
   "execution_count": null,
   "metadata": {},
   "outputs": [
    {
     "name": "stdout",
     "output_type": "stream",
     "text": [
      "오늘은 2023년 11월 30일 입니다.\n"
     ]
    }
   ],
   "source": [
    "msg = \"오늘은 %d년 %d월 %d일 입니다.\"\n",
    "print(msg % (now_time.year,now_time.month,now_time.day))"
   ]
  },
  {
   "cell_type": "code",
   "execution_count": null,
   "metadata": {},
   "outputs": [
    {
     "name": "stdout",
     "output_type": "stream",
     "text": [
      "지금은 11시 54분 41초 입니다.\n"
     ]
    }
   ],
   "source": [
    "msg = \"지금은 %d시 %d분 %d초 입니다.\"\n",
    "print(msg % (now_time.hour,now_time.minute,now_time.second))"
   ]
  },
  {
   "cell_type": "code",
   "execution_count": null,
   "metadata": {},
   "outputs": [
    {
     "name": "stdout",
     "output_type": "stream",
     "text": [
      "3\n",
      "목\n"
     ]
    }
   ],
   "source": [
    "d = now_time.weekday()\n",
    "print(d)\n",
    "\n",
    "days = (\"월\",\"화\",\"수\",\"목\",\"금\",\"토\",\"일\")\n",
    "print(days[d])"
   ]
  },
  {
   "cell_type": "markdown",
   "metadata": {},
   "source": [
    "### 날짜에 대한 형식 문자열 활용"
   ]
  },
  {
   "cell_type": "code",
   "execution_count": null,
   "metadata": {},
   "outputs": [
    {
     "name": "stdout",
     "output_type": "stream",
     "text": [
      "2023년-11월-30일 11시:54분:41초\n"
     ]
    }
   ],
   "source": [
    "now_str = now_time.strftime(\"%Y년-%m월-%d일 %H시:%M분:%S초\")\n",
    "print(now_str)"
   ]
  },
  {
   "cell_type": "markdown",
   "metadata": {},
   "source": [
    "### 특정 시각 지정하기"
   ]
  },
  {
   "cell_type": "code",
   "execution_count": null,
   "metadata": {},
   "outputs": [
    {
     "ename": "ValueError",
     "evalue": "month must be in 1..12",
     "output_type": "error",
     "traceback": [
      "\u001b[1;31m---------------------------------------------------------------------------\u001b[0m",
      "\u001b[1;31mValueError\u001b[0m                                Traceback (most recent call last)",
      "\u001b[1;32mc:\\Users\\Jihwan\\01Class\\B.Python\\29_날짜_및_시간_관련_기능.ipynb 셀 9\u001b[0m line \u001b[0;36m1\n\u001b[1;32m----> <a href='vscode-notebook-cell:/c%3A/Users/Jihwan/01Class/B.Python/29_%EB%82%A0%EC%A7%9C_%EB%B0%8F_%EC%8B%9C%EA%B0%84_%EA%B4%80%EB%A0%A8_%EA%B8%B0%EB%8A%A5.ipynb#X13sZmlsZQ%3D%3D?line=0'>1</a>\u001b[0m someday \u001b[39m=\u001b[39m dt\u001b[39m.\u001b[39;49mdatetime(\u001b[39m2019\u001b[39;49m,\u001b[39m13\u001b[39;49m,\u001b[39m17\u001b[39;49m,\u001b[39m8\u001b[39;49m,\u001b[39m50\u001b[39;49m,\u001b[39m10\u001b[39;49m)\n\u001b[0;32m      <a href='vscode-notebook-cell:/c%3A/Users/Jihwan/01Class/B.Python/29_%EB%82%A0%EC%A7%9C_%EB%B0%8F_%EC%8B%9C%EA%B0%84_%EA%B4%80%EB%A0%A8_%EA%B8%B0%EB%8A%A5.ipynb#X13sZmlsZQ%3D%3D?line=1'>2</a>\u001b[0m day_str \u001b[39m=\u001b[39m someday\u001b[39m.\u001b[39mstrftime(\u001b[39m\"\u001b[39m\u001b[39m%\u001b[39m\u001b[39my-\u001b[39m\u001b[39m%\u001b[39m\u001b[39mm-\u001b[39m\u001b[39m%d\u001b[39;00m\u001b[39m \u001b[39m\u001b[39m%\u001b[39m\u001b[39mH:\u001b[39m\u001b[39m%\u001b[39m\u001b[39mM:\u001b[39m\u001b[39m%\u001b[39m\u001b[39mS\u001b[39m\u001b[39m\"\u001b[39m)\n\u001b[0;32m      <a href='vscode-notebook-cell:/c%3A/Users/Jihwan/01Class/B.Python/29_%EB%82%A0%EC%A7%9C_%EB%B0%8F_%EC%8B%9C%EA%B0%84_%EA%B4%80%EB%A0%A8_%EA%B8%B0%EB%8A%A5.ipynb#X13sZmlsZQ%3D%3D?line=2'>3</a>\u001b[0m \u001b[39mprint\u001b[39m(day_str)\n",
      "\u001b[1;31mValueError\u001b[0m: month must be in 1..12"
     ]
    }
   ],
   "source": [
    "someday = dt.datetime(2019,12,17,8,50,10)\n",
    "day_str = someday.strftime(\"%y-%m-%d %H:%M:%S\")\n",
    "print(day_str)"
   ]
  },
  {
   "cell_type": "markdown",
   "metadata": {},
   "source": [
    "> - 존재하지 않는 날짜 에러 발생"
   ]
  },
  {
   "cell_type": "markdown",
   "metadata": {},
   "source": [
    "### 날짜 형식의 문자열을 날짜 객체로 변환하기"
   ]
  },
  {
   "cell_type": "code",
   "execution_count": null,
   "metadata": {},
   "outputs": [
    {
     "name": "stdout",
     "output_type": "stream",
     "text": [
      "17-01-02 14:44:00\n"
     ]
    }
   ],
   "source": [
    "date_str = \"2017년 01월 02일 14시 44분\"\n",
    "goodday = dt.datetime.strptime(date_str, \"%Y년 %m월 %d일 %H시 %M분\")\n",
    "print(goodday.strftime(\"%y-%m-%d %H:%M:%S\"))"
   ]
  },
  {
   "cell_type": "markdown",
   "metadata": {},
   "source": [
    "### 날짜 객체에서 특정 값 변경하기"
   ]
  },
  {
   "cell_type": "code",
   "execution_count": null,
   "metadata": {},
   "outputs": [
    {
     "name": "stdout",
     "output_type": "stream",
     "text": [
      "23-11-30 12:16:17\n",
      "18-11-16 15:16:17\n"
     ]
    }
   ],
   "source": [
    "foo = dt.datetime.now()\n",
    "print(foo.strftime(\"%y-%m-%d %H:%M:%S\"))\n",
    "\n",
    "change_date = foo.replace(year=2018, day=16, hour=15)\n",
    "print(change_date.strftime(\"%y-%m-%d %H:%M:%S\"))"
   ]
  },
  {
   "cell_type": "markdown",
   "metadata": {},
   "source": [
    "## #02. 날짜 및 시간 계산\n",
    "\n",
    "### 두 날짜 객체 사이의 간격 계산"
   ]
  },
  {
   "cell_type": "code",
   "execution_count": 8,
   "metadata": {},
   "outputs": [
    {
     "name": "stdout",
     "output_type": "stream",
     "text": [
      "올해는 31일 남았습니다.\n"
     ]
    }
   ],
   "source": [
    "dt1 = dt.datetime.now()\n",
    "dt2 = dt.datetime(dt1.year+1,1,1,0,0,0)\n",
    "\n",
    "df = dt2 - dt1\n",
    "print(\"올해는 %d일 남았습니다.\" % df.days)   # 날짜의 차이 결과 timedelta 객체형식"
   ]
  },
  {
   "cell_type": "code",
   "execution_count": null,
   "metadata": {},
   "outputs": [
    {
     "name": "stdout",
     "output_type": "stream",
     "text": [
      "2720444.891369\n"
     ]
    }
   ],
   "source": [
    "result = td.total_seconds()\n",
    "print(result)"
   ]
  },
  {
   "cell_type": "markdown",
   "metadata": {},
   "source": [
    "### 몇일 후의 날짜 계산하기"
   ]
  },
  {
   "cell_type": "code",
   "execution_count": null,
   "metadata": {},
   "outputs": [
    {
     "name": "stdout",
     "output_type": "stream",
     "text": [
      "24-03-09 13:22:14\n"
     ]
    }
   ],
   "source": [
    "d = dt.timedelta(days=100, seconds=3600)\n",
    "now_time = dt.datetime.now()\n",
    "aftertime = now_time +d\n",
    "print(aftertime.strftime(\"%y-%m-%d %H:%M:%S\"))"
   ]
  },
  {
   "cell_type": "code",
   "execution_count": 33,
   "metadata": {},
   "outputs": [],
   "source": [
    "str = \"2023.11.30.7:27\"\n",
    "\n",
    "import datetime as dt"
   ]
  },
  {
   "cell_type": "code",
   "execution_count": 35,
   "metadata": {},
   "outputs": [
    {
     "name": "stdout",
     "output_type": "stream",
     "text": [
      "2023-11-30-07-27\n"
     ]
    }
   ],
   "source": [
    "time = dt.datetime.strptime(str,\"%Y.%m.%d.%H:%M\")\n",
    "print(time.strftime(\"%Y-%m-%d-%H-%M\"))"
   ]
  }
 ],
 "metadata": {
  "kernelspec": {
   "display_name": "Python 3",
   "language": "python",
   "name": "python3"
  },
  "language_info": {
   "codemirror_mode": {
    "name": "ipython",
    "version": 3
   },
   "file_extension": ".py",
   "mimetype": "text/x-python",
   "name": "python",
   "nbconvert_exporter": "python",
   "pygments_lexer": "ipython3",
   "version": "3.12.0"
  }
 },
 "nbformat": 4,
 "nbformat_minor": 2
}
