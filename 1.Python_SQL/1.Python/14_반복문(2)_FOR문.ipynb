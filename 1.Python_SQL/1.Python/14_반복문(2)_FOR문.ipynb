{
 "cells": [
  {
   "cell_type": "markdown",
   "metadata": {},
   "source": [
    "# 14강. 반복문(2)_FOR문\n",
    "\n",
    "## 01. 반복범위의 설정"
   ]
  },
  {
   "cell_type": "code",
   "execution_count": 2,
   "metadata": {},
   "outputs": [
    {
     "name": "stdout",
     "output_type": "stream",
     "text": [
      "x=1 \n",
      "x=2 \n",
      "x=3 \n",
      "x=4 \n",
      "x=5 \n",
      "x=6 \n",
      "x=7 \n",
      "x=8 \n",
      "x=9 \n",
      "x=10 \n"
     ]
    }
   ],
   "source": [
    "#for문 기본구조\n",
    "\n",
    "for x in range(1, 11):\n",
    "    print(\"x=%d \"% x)"
   ]
  },
  {
   "cell_type": "code",
   "execution_count": 4,
   "metadata": {},
   "outputs": [
    {
     "name": "stdout",
     "output_type": "stream",
     "text": [
      "9 x 1 = 9\n",
      "9 x 2 = 18\n",
      "9 x 3 = 27\n",
      "9 x 4 = 36\n",
      "9 x 5 = 45\n",
      "9 x 6 = 54\n",
      "9 x 7 = 63\n",
      "9 x 8 = 72\n",
      "9 x 9 = 81\n"
     ]
    }
   ],
   "source": [
    "# 구구단 출력하기\n",
    "\n",
    "t = int(input(\"숫자를 입력하세요.\"))\n",
    "for y in range(1,10):\n",
    "    z = t*y\n",
    "    print(\"%d x %d = %d\" % (t,y,z) )"
   ]
  },
  {
   "cell_type": "code",
   "execution_count": 6,
   "metadata": {},
   "outputs": [
    {
     "name": "stdout",
     "output_type": "stream",
     "text": [
      " x = 1, sum = 1\n",
      " x = 2, sum = 3\n",
      " x = 3, sum = 6\n",
      " x = 4, sum = 10\n",
      " x = 5, sum = 15\n",
      " x = 6, sum = 21\n",
      " x = 7, sum = 28\n",
      " x = 8, sum = 36\n",
      " x = 9, sum = 45\n",
      " x = 10, sum = 55\n"
     ]
    }
   ],
   "source": [
    "# 합계를 구하기 위한 변수의 초기화\n",
    "\n",
    "sum = 0\n",
    "for i in range(1,11):\n",
    "    sum += i\n",
    "    print(\" x = %d, sum = %d\" % (i,sum))"
   ]
  },
  {
   "cell_type": "code",
   "execution_count": 8,
   "metadata": {},
   "outputs": [
    {
     "name": "stdout",
     "output_type": "stream",
     "text": [
      "a = 0\n",
      "a = 10\n",
      "a = 20\n",
      "a = 30\n",
      "a = 40\n"
     ]
    }
   ],
   "source": [
    "# 값의 변화 단계 조절하기\n",
    "\n",
    "for a in range(0,50,10):\n",
    "    print(\"a = %d\" % a)"
   ]
  },
  {
   "cell_type": "code",
   "execution_count": 9,
   "metadata": {},
   "outputs": [
    {
     "name": "stdout",
     "output_type": "stream",
     "text": [
      "b=10\n",
      "b=8\n",
      "b=6\n",
      "b=4\n",
      "b=2\n"
     ]
    }
   ],
   "source": [
    "for b in range(10,0,-2):\n",
    "    print(\"b=%d\" % b)"
   ]
  },
  {
   "cell_type": "markdown",
   "metadata": {},
   "source": [
    "## #02. 연속성 자료형에 대한 for문\n",
    "\n",
    "### 리스트의 인덱스 번호에 대한 반복 범위 설정"
   ]
  },
  {
   "cell_type": "code",
   "execution_count": 10,
   "metadata": {},
   "outputs": [
    {
     "name": "stdout",
     "output_type": "stream",
     "text": [
      "0번째 원소: 봄\n",
      "1번째 원소: 여름\n",
      "2번째 원소: 가을\n",
      "3번째 원소: 겨울\n"
     ]
    }
   ],
   "source": [
    "#리스트의 인덱스 번호에 대한 반복 범위 설정\n",
    "\n",
    "seasons = ['봄', '여름', '가을', '겨울']\n",
    "size = len(seasons)\n",
    "\n",
    "for i in range(0,size):\n",
    "    print(\"%d번째 원소: %s\" % (i,seasons[i]))"
   ]
  },
  {
   "cell_type": "code",
   "execution_count": 12,
   "metadata": {},
   "outputs": [
    {
     "name": "stdout",
     "output_type": "stream",
     "text": [
      "python\n",
      "is\n",
      "good\n"
     ]
    }
   ],
   "source": [
    "# 리스트 자체를 탐색하는 for문\n",
    "\n",
    "msg = ['python', 'is', 'good']\n",
    "for i in msg:\n",
    "    print(i)"
   ]
  },
  {
   "cell_type": "code",
   "execution_count": 16,
   "metadata": {},
   "outputs": [
    {
     "name": "stdout",
     "output_type": "stream",
     "text": [
      "총점: 407, 평균: 81\n"
     ]
    }
   ],
   "source": [
    "#총점과 평균 구하기\n",
    "score = [100, 82, 98, 76, 51]\n",
    "total = 0\n",
    "for v in score:\n",
    "    total += v\n",
    "    avg = total //len(score)\n",
    "tpl = \"총점: {0}, 평균: {1}\"\n",
    "print(tpl.format(total, avg))   "
   ]
  },
  {
   "cell_type": "code",
   "execution_count": 17,
   "metadata": {},
   "outputs": [
    {
     "name": "stdout",
     "output_type": "stream",
     "text": [
      "0번째 값 >> 서울\n",
      "1번째 값 >> 인천\n",
      "2번째 값 >> 대구\n",
      "3번째 값 >> 대전\n",
      "4번째 값 >> 광주\n",
      "5번째 값 >> 부산\n"
     ]
    }
   ],
   "source": [
    "# 인덱스 번호와 원소를 모두 탐색하는 반복문\n",
    "\n",
    "city = ['서울','인천','대구','대전','광주','부산']\n",
    "for i,v in enumerate(city):\n",
    "    print(\"%d번째 값 >> %s\" % (i,v))\n"
   ]
  },
  {
   "cell_type": "markdown",
   "metadata": {},
   "source": [
    "### 연구과제"
   ]
  },
  {
   "cell_type": "code",
   "execution_count": null,
   "metadata": {},
   "outputs": [
    {
     "name": "stdout",
     "output_type": "stream",
     "text": [
      "5040\n"
     ]
    }
   ],
   "source": [
    "x = int(input(\"숫자를 입력하세요.\"))\n",
    "\n",
    "f = 1\n",
    "for i in range(1, x+1):\n",
    "    f *= i\n",
    "print(f)    "
   ]
  }
 ],
 "metadata": {
  "kernelspec": {
   "display_name": "Python 3",
   "language": "python",
   "name": "python3"
  },
  "language_info": {
   "codemirror_mode": {
    "name": "ipython",
    "version": 3
   },
   "file_extension": ".py",
   "mimetype": "text/x-python",
   "name": "python",
   "nbconvert_exporter": "python",
   "pygments_lexer": "ipython3",
   "version": "3.11.8"
  }
 },
 "nbformat": 4,
 "nbformat_minor": 2
}
