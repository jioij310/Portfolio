{
 "cells": [
  {
   "cell_type": "markdown",
   "metadata": {},
   "source": [
    "# 16강. 코딩 테스트 기본 유형"
   ]
  },
  {
   "cell_type": "code",
   "execution_count": 16,
   "metadata": {},
   "outputs": [
    {
     "name": "stdout",
     "output_type": "stream",
     "text": [
      " *\n",
      " **\n",
      " ***\n",
      " ****\n",
      " *****\n"
     ]
    }
   ],
   "source": [
    "# 별찍기문제\n",
    "\n",
    "for i in range(0,5):\n",
    "    star = \" \"\n",
    "\n",
    "    for j in range(0, i+1):\n",
    "        star += \"*\"\n",
    "\n",
    "    print(star)        "
   ]
  },
  {
   "cell_type": "code",
   "execution_count": 13,
   "metadata": {},
   "outputs": [
    {
     "name": "stdout",
     "output_type": "stream",
     "text": [
      "*****\n",
      "****\n",
      "***\n",
      "**\n",
      "*\n"
     ]
    }
   ],
   "source": [
    "for i in range(0, 5):\n",
    "    star = \"\"\n",
    "    #for j in range(5, i,-1)\n",
    "    for j in range(0, 5-i):\n",
    "        star += \"*\"\n",
    "\n",
    "   \n",
    "\n",
    "    print(star)"
   ]
  },
  {
   "cell_type": "markdown",
   "metadata": {},
   "source": [
    "## 02. 리스트의 탐색"
   ]
  },
  {
   "cell_type": "code",
   "execution_count": 17,
   "metadata": {},
   "outputs": [
    {
     "name": "stdout",
     "output_type": "stream",
     "text": [
      "총합=403, 평균=80\n"
     ]
    }
   ],
   "source": [
    "# 1차원 리스트 탐색 패턴(1)\n",
    "## 리스트의 원소에 대한 총 합계와 평균 구하기\n",
    "point = [72,88,95,63,85]\n",
    "total = 0\n",
    "\n",
    "size = len(point)\n",
    "for i in range(0,size):\n",
    "    total += point[i]\n",
    "\n",
    "average = total/size\n",
    "print(\"총합=%d, 평균=%d\" % (total, average))\n"
   ]
  },
  {
   "cell_type": "code",
   "execution_count": 18,
   "metadata": {},
   "outputs": [
    {
     "name": "stdout",
     "output_type": "stream",
     "text": [
      "총합: 403, 평균: 80\n"
     ]
    }
   ],
   "source": [
    "point = [72,88,95,63,85]\n",
    "total = 0\n",
    "\n",
    "size = len(point)\n",
    "for p in point:\n",
    "    total += p\n",
    "\n",
    "average = total/size\n",
    "print(\"총합: %d, 평균: %d\" % (total, average))    "
   ]
  },
  {
   "cell_type": "code",
   "execution_count": 29,
   "metadata": {},
   "outputs": [
    {
     "name": "stdout",
     "output_type": "stream",
     "text": [
      "size=2\n",
      "0번째 데이터 -> [88, 72, 83, 90]\n",
      "0번째 데이터: 총합=333, 평균:83\n",
      "1번째 데이터 -> [63, 77, 72, 80]\n",
      "1번째 데이터: 총합=292, 평균:73\n"
     ]
    }
   ],
   "source": [
    "# 2차원리스트 탐색 패턴(1)\n",
    "## 2차원 리스트의 원소 출력하기. \n",
    "## 2차원 리스트는 각 원소가 각각 개별적인 리스트인 경우이므로 2차원 리스트의 특정 원소를\n",
    "## 출력하면 원로 포함되어 있는 개별 리스트를 얻을 수 있다. \n",
    "\n",
    "mydata = [ [ 88, 72,83, 90], [63, 77,72,80]]\n",
    "size = len(mydata)\n",
    "print(\"size=%d\" % size)\n",
    "\n",
    "for i in range(0, size):\n",
    "    print(\"%d번째 데이터 -> %s\" % (i,mydata[i]))\n",
    "    total = 0\n",
    "    size2 = len(mydata[i])  \n",
    "    for j in range(0,size2):\n",
    "     total += mydata[i][j]\n",
    "\n",
    "    average = total/size2\n",
    "    print(\"%d번째 데이터: 총합=%d, 평균:%d\" % (i, total, average))"
   ]
  },
  {
   "cell_type": "code",
   "execution_count": 30,
   "metadata": {},
   "outputs": [
    {
     "name": "stdout",
     "output_type": "stream",
     "text": [
      "이번에 출력되는 데이터 -> [88, 72, 83, 90]\n",
      "이번에 출력되는 데이터 -> [63, 77, 72, 80]\n"
     ]
    }
   ],
   "source": [
    "mydata = [ [ 88, 72,83, 90], [63, 77,72,80]]\n",
    "\n",
    "for a in mydata:\n",
    "    print(\"이번에 출력되는 데이터 -> %s\" % (a))"
   ]
  },
  {
   "cell_type": "code",
   "execution_count": null,
   "metadata": {},
   "outputs": [],
   "source": []
  },
  {
   "cell_type": "markdown",
   "metadata": {},
   "source": [
    "## 리스트의 정렬"
   ]
  },
  {
   "cell_type": "code",
   "execution_count": 31,
   "metadata": {},
   "outputs": [
    {
     "name": "stdout",
     "output_type": "stream",
     "text": [
      "[5, 3, 7, 1, 9]\n",
      "[9, 1, 7, 3, 5]\n"
     ]
    }
   ],
   "source": [
    "# 리스트의 역순배치\n",
    "## 반복회차와 교환할 반대편 원소의 인덱스 번호 구하기\n",
    "\n",
    "mylist = [5,3,7,1,9]\n",
    "print(mylist)\n",
    "\n",
    "size = len(mylist)\n",
    "\n",
    "half = size // 2\n",
    "\n",
    "for i in range(0, half):\n",
    "\n",
    "    p = size - i -1\n",
    "\n",
    "    mylist[i], mylist[p] = mylist[p],mylist[i]\n",
    "\n",
    "print(mylist)\n",
    "\n"
   ]
  },
  {
   "cell_type": "code",
   "execution_count": 32,
   "metadata": {},
   "outputs": [
    {
     "name": "stdout",
     "output_type": "stream",
     "text": [
      "[5, 3, 7, 1, 9]\n",
      "[1, 3, 5, 7, 9]\n"
     ]
    }
   ],
   "source": [
    "mylist = [5,3,7,1,9]\n",
    "print(mylist)\n",
    "\n",
    "size = len(mylist)\n",
    "\n",
    "for i in range(0,size-1):\n",
    "    for j in range(i+1,size):\n",
    "        if mylist[i] > mylist[j]:\n",
    "\n",
    "            mylist[i],mylist[j] = mylist[j], mylist[i]\n",
    "\n",
    "print(mylist)            "
   ]
  },
  {
   "cell_type": "code",
   "execution_count": null,
   "metadata": {},
   "outputs": [],
   "source": []
  }
 ],
 "metadata": {
  "kernelspec": {
   "display_name": "Python 3",
   "language": "python",
   "name": "python3"
  },
  "language_info": {
   "codemirror_mode": {
    "name": "ipython",
    "version": 3
   },
   "file_extension": ".py",
   "mimetype": "text/x-python",
   "name": "python",
   "nbconvert_exporter": "python",
   "pygments_lexer": "ipython3",
   "version": "3.12.0"
  }
 },
 "nbformat": 4,
 "nbformat_minor": 2
}
