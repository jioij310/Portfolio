{
 "cells": [
  {
   "attachments": {},
   "cell_type": "markdown",
   "metadata": {},
   "source": [
    "# 21강 - 생성자, 정보은닉, 프로퍼티\n",
    "\n",
    "## #01. 생성자의 이해\n",
    "\n",
    "### 생성자를 활용한 멤버변수 초기화"
   ]
  },
  {
   "cell_type": "code",
   "execution_count": 1,
   "metadata": {},
   "outputs": [],
   "source": [
    "# 생성자를 갖는 클래스 정의하기\n",
    "class UserAccount:\n",
    "    # 멤버변수의 정의\n",
    "    username = None\n",
    "    email = None\n",
    "\n",
    "    # 생성자를 통한 멤버변수 초기화\n",
    "    def __init__(self):\n",
    "        print(\"------- 생성자가 실행되었습니다. --------\")\n",
    "        self.username = \"야옹이\"\n",
    "        self.email = \"yaong@gmail.com\"\n",
    "\n",
    "    def say_hello(self):\n",
    "        tpl = \"안녕하세요, 저는 {0}이고, 이메일은 {1} 입니다.\"\n",
    "        print( tpl.format(self.username, self.email ) )"
   ]
  },
  {
   "cell_type": "code",
   "execution_count": 2,
   "metadata": {},
   "outputs": [
    {
     "name": "stdout",
     "output_type": "stream",
     "text": [
      "------- 생성자가 실행되었습니다. --------\n"
     ]
    }
   ],
   "source": [
    "# 객체를 생성과 동시에 생성자가 자동으로 실행됨을 알 수 있다.\n",
    "ua = UserAccount()"
   ]
  },
  {
   "cell_type": "code",
   "execution_count": 3,
   "metadata": {},
   "outputs": [
    {
     "name": "stdout",
     "output_type": "stream",
     "text": [
      "안녕하세요, 저는 야옹이이고, 이메일은 yaong@gmail.com 입니다.\n"
     ]
    }
   ],
   "source": [
    "# 메서드를 호출하면 생성자에 의해 멤버변수에 할당된 값이 출력된다.\n",
    "ua.say_hello()"
   ]
  },
  {
   "attachments": {},
   "cell_type": "markdown",
   "metadata": {},
   "source": [
    "### 생성자 파라미터를 통한 코드 축약"
   ]
  },
  {
   "cell_type": "code",
   "execution_count": 4,
   "metadata": {},
   "outputs": [],
   "source": [
    "# 파라미터를 갖는 생성자 정의\n",
    "class UserInfo:\n",
    "    username = None\n",
    "    email = None\n",
    "    \n",
    "    def __init__(self, username, email):\n",
    "        print(\"------- 생성자가 실행되었습니다. --------\")\n",
    "        self.username = username\n",
    "        self.email = email\n",
    "\n",
    "    def view_info(self):\n",
    "        tpl = \"이름: {0} / 이메일: {1}\"\n",
    "        print( tpl.format(self.username, self.email) )"
   ]
  },
  {
   "cell_type": "code",
   "execution_count": 5,
   "metadata": {},
   "outputs": [
    {
     "name": "stdout",
     "output_type": "stream",
     "text": [
      "------- 생성자가 실행되었습니다. --------\n",
      "이름: 야옹이 / 이메일: yaong@gmail.com\n"
     ]
    }
   ],
   "source": [
    "# 생성자가 파라미터를 갖는 클래스에 대한 객체를 생성\n",
    "uinfo = UserInfo(\"야옹이\", \"yaong@gmail.com\")\n",
    "uinfo.view_info()"
   ]
  },
  {
   "attachments": {},
   "cell_type": "markdown",
   "metadata": {},
   "source": [
    "### (응용) 멤버변수, 생성자, 메서드를 포함하는 클래스"
   ]
  },
  {
   "cell_type": "code",
   "execution_count": 6,
   "metadata": {},
   "outputs": [],
   "source": [
    "class Unit:\n",
    "    name = None\n",
    "    hp = None\n",
    "    dps = None \n",
    "    \n",
    "    # 객체의 특성을 초기화 하기 위한 생성자 정의\n",
    "    def __init__(self, name, hp, dps):\n",
    "        self.name = name    # 이름\n",
    "        self.hp = hp        # 체력(health point)\n",
    "        self.dps = dps      # 초당공격력(damage per Second)\n",
    "        print(\"[%s] 체력: %d, 공격력: %d\" % (name, hp, dps))\n",
    "\n",
    "    # 객체가 수행해야 하는 동작들을 함수 형태로 정의\n",
    "    def move(self, position):\n",
    "        print(\"%s(이)가 %s까지 이동합니다.\" % (self.name, position))\n",
    "\n",
    "    def attack(self, target):\n",
    "        print(\"%s(이)가 %s(을)를 공격합니다. 데미지: %d\" % (self.name, target, self.dps))"
   ]
  },
  {
   "cell_type": "code",
   "execution_count": 7,
   "metadata": {},
   "outputs": [
    {
     "name": "stdout",
     "output_type": "stream",
     "text": [
      "[질럿1호] 체력: 100, 공격력: 10\n",
      "[질럿2호] 체력: 100, 공격력: 12\n",
      "[드라군1호] 체력: 120, 공격력: 20\n",
      "[드라군2호] 체력: 150, 공격력: 35\n"
     ]
    }
   ],
   "source": [
    "# 객체를 생성하면서 생성자를 통해 각 객체의 특성을 정의한다.\n",
    "u1 = Unit(\"질럿1호\", 100, 10)\n",
    "u2 = Unit(\"질럿2호\", 100, 12)\n",
    "u3 = Unit(\"드라군1호\", 120, 20)\n",
    "u4 = Unit(\"드라군2호\", 150, 35)"
   ]
  },
  {
   "cell_type": "code",
   "execution_count": 8,
   "metadata": {},
   "outputs": [
    {
     "name": "stdout",
     "output_type": "stream",
     "text": [
      "질럿1호(이)가 적 본진까지 이동합니다.\n",
      "드라군1호(이)가 적 본진까지 이동합니다.\n",
      "질럿1호(이)가 적 본진(을)를 공격합니다. 데미지: 10\n",
      "드라군1호(이)가 적 본진(을)를 공격합니다. 데미지: 20\n",
      "질럿2호(이)가 적 멀티까지 이동합니다.\n",
      "드라군2호(이)가 적 멀티까지 이동합니다.\n",
      "질럿2호(이)가 적 멀티(을)를 공격합니다. 데미지: 12\n",
      "드라군2호(이)가 적 멀티(을)를 공격합니다. 데미지: 35\n"
     ]
    }
   ],
   "source": [
    "u1.move('적 본진')\n",
    "u3.move('적 본진')\n",
    "u1.attack('적 본진')\n",
    "u3.attack('적 본진')\n",
    "\n",
    "u2.move('적 멀티')\n",
    "u4.move('적 멀티')\n",
    "u2.attack('적 멀티')\n",
    "u4.attack('적 멀티')"
   ]
  },
  {
   "attachments": {},
   "cell_type": "markdown",
   "metadata": {},
   "source": [
    "## #02. 정보은닉\n",
    "\n",
    "### 캡슐화를 적용하는 이유"
   ]
  },
  {
   "cell_type": "code",
   "execution_count": 9,
   "metadata": {},
   "outputs": [],
   "source": [
    "class Student:\n",
    "    kor = None\n",
    "    eng = None"
   ]
  },
  {
   "cell_type": "code",
   "execution_count": 10,
   "metadata": {},
   "outputs": [
    {
     "name": "stdout",
     "output_type": "stream",
     "text": [
      "국어점수: -50, 영어점수: 12345\n"
     ]
    }
   ],
   "source": [
    "stud = Student()\n",
    "stud.kor = -50\n",
    "stud.eng = 12345\n",
    "\n",
    "print(\"국어점수: {0}, 영어점수: {1}\".format(stud.kor, stud.eng))"
   ]
  },
  {
   "attachments": {},
   "cell_type": "markdown",
   "metadata": {},
   "source": [
    "### 고전적인 캡슐화 방법"
   ]
  },
  {
   "cell_type": "code",
   "execution_count": 11,
   "metadata": {},
   "outputs": [],
   "source": [
    "class SchoolMember:\n",
    "    point = None\n",
    "\n",
    "    def __init__(self, p=0):\n",
    "        self.setPoint(p)\n",
    "\n",
    "    def setPoint(self, value):\n",
    "        if value < 0:\n",
    "            value = 0\n",
    "\n",
    "        if value > 100:\n",
    "            value = 100\n",
    "\n",
    "        self.point = value\n",
    "\n",
    "    def getPoint(self):\n",
    "        return self.point"
   ]
  },
  {
   "cell_type": "code",
   "execution_count": 12,
   "metadata": {},
   "outputs": [
    {
     "name": "stdout",
     "output_type": "stream",
     "text": [
      "점수는 100점 입니다.\n"
     ]
    }
   ],
   "source": [
    "smem1 = SchoolMember(253)\n",
    "print(\"점수는 %d점 입니다.\" % smem1.getPoint())"
   ]
  },
  {
   "cell_type": "code",
   "execution_count": 13,
   "metadata": {},
   "outputs": [
    {
     "name": "stdout",
     "output_type": "stream",
     "text": [
      "점수는 0점 입니다.\n"
     ]
    }
   ],
   "source": [
    "smem1.setPoint(-12312)\n",
    "print(\"점수는 %d점 입니다.\" % smem1.getPoint())"
   ]
  },
  {
   "cell_type": "code",
   "execution_count": 14,
   "metadata": {},
   "outputs": [
    {
     "name": "stdout",
     "output_type": "stream",
     "text": [
      "점수는 12345점 입니다.\n"
     ]
    }
   ],
   "source": [
    "smem1.point = 12345\n",
    "print(\"점수는 %d점 입니다.\" % smem1.getPoint())"
   ]
  },
  {
   "attachments": {},
   "cell_type": "markdown",
   "metadata": {},
   "source": [
    "### 멤버변수에 대한 접근 한정자"
   ]
  },
  {
   "cell_type": "code",
   "execution_count": 22,
   "metadata": {},
   "outputs": [
    {
     "name": "stdout",
     "output_type": "stream",
     "text": [
      "public=100\n",
      "protected=200\n"
     ]
    },
    {
     "ename": "AttributeError",
     "evalue": "'Hello' object has no attribute '__c'",
     "output_type": "error",
     "traceback": [
      "\u001b[1;31m---------------------------------------------------------------------------\u001b[0m",
      "\u001b[1;31mAttributeError\u001b[0m                            Traceback (most recent call last)",
      "Cell \u001b[1;32mIn[22], line 14\u001b[0m\n\u001b[0;32m     12\u001b[0m \u001b[38;5;28mprint\u001b[39m(\u001b[38;5;124m\"\u001b[39m\u001b[38;5;124mpublic=\u001b[39m\u001b[38;5;132;01m%d\u001b[39;00m\u001b[38;5;124m\"\u001b[39m \u001b[38;5;241m%\u001b[39m h\u001b[38;5;241m.\u001b[39ma)        \u001b[38;5;66;03m# public\u001b[39;00m\n\u001b[0;32m     13\u001b[0m \u001b[38;5;28mprint\u001b[39m(\u001b[38;5;124m\"\u001b[39m\u001b[38;5;124mprotected=\u001b[39m\u001b[38;5;132;01m%d\u001b[39;00m\u001b[38;5;124m\"\u001b[39m \u001b[38;5;241m%\u001b[39m h\u001b[38;5;241m.\u001b[39m_b)    \u001b[38;5;66;03m# protected\u001b[39;00m\n\u001b[1;32m---> 14\u001b[0m \u001b[38;5;28mprint\u001b[39m(\u001b[38;5;124m\"\u001b[39m\u001b[38;5;124mprivate=\u001b[39m\u001b[38;5;132;01m%d\u001b[39;00m\u001b[38;5;124m\"\u001b[39m \u001b[38;5;241m%\u001b[39m \u001b[43mh\u001b[49m\u001b[38;5;241;43m.\u001b[39;49m\u001b[43m__c\u001b[49m)     \u001b[38;5;66;03m# private\u001b[39;00m\n",
      "\u001b[1;31mAttributeError\u001b[0m: 'Hello' object has no attribute '__c'"
     ]
    }
   ],
   "source": [
    "class Hello:\n",
    "    a = None\n",
    "    _b = None\n",
    "    __c = None\n",
    "    \n",
    "    def __init__(self):\n",
    "        self.a = 100            # public\n",
    "        self._b = 200           # protected (거의 사용 안함)\n",
    "        self.__c = 300          # private\n",
    "\n",
    "h = Hello()\n",
    "print(\"public=%d\" % h.a)        # public\n",
    "print(\"protected=%d\" % h._b)    # protected\n",
    "print(\"private=%d\" % h.__c)     # private"
   ]
  },
  {
   "cell_type": "markdown",
   "metadata": {},
   "source": [
    ">- private 로 정의된 멤버변수에 접근하고자 할 경우 해당 멤버변수를 갖고 있지 않기 때문에 에러 메시지 뜸, 은닉된 멤버변수는 getter, setter로 접근"
   ]
  },
  {
   "attachments": {},
   "cell_type": "markdown",
   "metadata": {},
   "source": [
    "### getter, setter 구현하기"
   ]
  },
  {
   "cell_type": "markdown",
   "metadata": {},
   "source": [
    ">- get, set 접두사 뒤에 변수이름을 첫 글자가 대문자인 형태로 명시"
   ]
  },
  {
   "cell_type": "code",
   "execution_count": 16,
   "metadata": {},
   "outputs": [],
   "source": [
    "class Student:\n",
    "    __name = None\n",
    "    __point = None\n",
    "    \n",
    "    def __init__(self, name = None, point = 0):\n",
    "        self.__name = name\n",
    "        self.__point = point\n",
    "\n",
    "    def getName(self):\n",
    "        return self.__name\n",
    "\n",
    "    def setName(self, value):\n",
    "        self.__name = value\n",
    "\n",
    "    def getPoint(self):\n",
    "        return self.__point\n",
    "\n",
    "    def setPoint(self, value):\n",
    "        # 파라미터의 적절성을 검사할 수 있다.\n",
    "        if (value < 0): value = 0\n",
    "        if (value > 100): value = 100\n",
    "        self.__point = value"
   ]
  },
  {
   "cell_type": "code",
   "execution_count": 17,
   "metadata": {},
   "outputs": [
    {
     "name": "stdout",
     "output_type": "stream",
     "text": [
      "김민수의 점수는 -123점 입니다.\n",
      "이광호의 점수는 100점 입니다.\n"
     ]
    }
   ],
   "source": [
    "tpl = \"{0}의 점수는 {1}점 입니다.\"\n",
    "\n",
    "# 객체 생성시 데이터 주입\n",
    "s1 = Student(\"김민수\", -123)\n",
    "print(tpl.format(s1.getName(), s1.getPoint()))\n",
    "\n",
    "# 객체가 갖고 있는 데이터 수정\n",
    "s1.setName(\"이광호\")             \n",
    "s1.setPoint(120)\n",
    "print(tpl.format(s1.getName(), s1.getPoint()))"
   ]
  },
  {
   "attachments": {},
   "cell_type": "markdown",
   "metadata": {},
   "source": [
    "### 프로퍼티를 정의한 클래스"
   ]
  },
  {
   "cell_type": "code",
   "execution_count": 18,
   "metadata": {},
   "outputs": [],
   "source": [
    "class Terran:\n",
    "    # 멤버변수 정의\n",
    "    __name = None\n",
    "    __dps = None\n",
    "\n",
    "    # 객체의 특성을 초기화 하기 위한 생성자 정의\n",
    "    def __init__(self, name = None, dps = 0):\n",
    "        # setter 프로퍼티에게 파라미터를 전달하여 멤버변수 초기화\n",
    "        self.name = name\n",
    "        self.dps = dps\n",
    "\n",
    "    @property\n",
    "    def name(self):\n",
    "        return self.__name\n",
    "        \n",
    "    @name.setter\n",
    "    def name(self, value):\n",
    "        self.__name = value\n",
    "\n",
    "    @property\n",
    "    def dps(self):\n",
    "        return self.__dps\n",
    "\n",
    "    @dps.setter\n",
    "    def dps(self, value):\n",
    "        self.__dps = value\n",
    "\n",
    "    # 객체가 수행해야 하는 동작들을 함수 형태로 정의\n",
    "    def move(self, position):\n",
    "        print(\"%s(이)가 %s까지 이동합니다.\" % (self.name, position))\n",
    "\n",
    "    def attack(self, target):\n",
    "        print(\"%s(이)가 %s(을)를 공격합니다. 데미지: %d\" % (self.name, target, self.dps))"
   ]
  },
  {
   "cell_type": "code",
   "execution_count": 19,
   "metadata": {},
   "outputs": [
    {
     "name": "stdout",
     "output_type": "stream",
     "text": [
      "마린1호(이)가 적 본진까지 이동합니다.\n",
      "마린1호(이)가 적 본진(을)를 공격합니다. 데미지: 50\n"
     ]
    }
   ],
   "source": [
    "t1 = Terran()\n",
    "t1.name = \"마린1호\"\n",
    "t1.dps = 50\n",
    "\n",
    "t1.move('적 본진')\n",
    "t1.attack('적 본진')"
   ]
  }
 ],
 "metadata": {
  "kernelspec": {
   "display_name": "Python 3",
   "language": "python",
   "name": "python3"
  },
  "language_info": {
   "codemirror_mode": {
    "name": "ipython",
    "version": 3
   },
   "file_extension": ".py",
   "mimetype": "text/x-python",
   "name": "python",
   "nbconvert_exporter": "python",
   "pygments_lexer": "ipython3",
   "version": "3.11.8"
  },
  "vscode": {
   "interpreter": {
    "hash": "aee8b7b246df8f9039afb4144a1f6fd8d2ca17a180786b69acc140d282b71a49"
   }
  }
 },
 "nbformat": 4,
 "nbformat_minor": 4
}
