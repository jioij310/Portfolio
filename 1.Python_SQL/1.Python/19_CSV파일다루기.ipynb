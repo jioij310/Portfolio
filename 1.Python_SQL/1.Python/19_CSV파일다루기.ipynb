{
 "cells": [
  {
   "cell_type": "markdown",
   "metadata": {},
   "source": [
    "# 19강. CSV 파일 다루기"
   ]
  },
  {
   "cell_type": "code",
   "execution_count": 5,
   "metadata": {},
   "outputs": [],
   "source": [
    "# 딕셔너리를 포함하는 리스트 구조를 csv로 저장하기\n",
    "\n",
    "grade = [\n",
    "    {\"name\": \"철수\", \"kor\": \"95\", \"eng\": \"88\", \"math\": \"72\" },\n",
    "    {\"name\": \"영희\", \"kor\": \"92\", \"eng\": \"90\", \"math\": \"95\" },\n",
    "    {\"name\": \"철민\", \"kor\": \"88\", \"eng\": \"76\", \"math\": \"64\" }\n",
    "    \n",
    "]\n",
    "\n",
    "tpl = \"{0},{1},{2},{3}\\n\"\n",
    "\n",
    "with open(\"grade.csv\", \"w\", encoding='utf-8') as f:\n",
    "    f.write(\"이름,국어,영어,수학\\n\")\n",
    "\n",
    "    for item in grade:\n",
    "        tmp = tpl.format(item[\"name\"], item[\"kor\"], item[\"eng\"], item[\"math\"] )\n",
    "        f.write(tmp)"
   ]
  },
  {
   "cell_type": "code",
   "execution_count": 7,
   "metadata": {},
   "outputs": [
    {
     "name": "stdout",
     "output_type": "stream",
     "text": [
      "이름,국어,영어,수학,과학\n"
     ]
    }
   ],
   "source": [
    "# 다른 형식의 데이터를 csv로 저장하기\n",
    "\n",
    "grade_dic = {\n",
    "    '이름': ['철수', '영희', '민철', '수현', '호영'],\n",
    "    '국어': [98, 88, 92, 63, 120],\n",
    "    '영어': [76, 90,70, 60, 50],\n",
    "    '수학': [88, 62, 88, 31, 76],\n",
    "    '과학': [64, 72, 45, 70, 88]\n",
    "\n",
    "}\n",
    "\n",
    "tpl = \"{0},{1},{2},{3},{4}\\n\"\n",
    "keys = list(grade_dic.keys())\n",
    "p = \",\"\n",
    "title = p.join(keys)\n",
    "print(title)\n",
    "with open(\"grade2.csv\", \"w\", encoding='utf-8') as f:\n",
    "    f.write(title + \"\\n\")\n",
    "\n",
    "    for i in range(0, len(grade_dic['이름'] )):\n",
    "        tmp = tpl.format(grade_dic['이름'][i], grade_dic['국어'][i], grade_dic['영어'][i], grade_dic['수학'][i], grade_dic['과학'][i])\n",
    "        f.write(tmp)"
   ]
  },
  {
   "cell_type": "code",
   "execution_count": 8,
   "metadata": {},
   "outputs": [
    {
     "name": "stdout",
     "output_type": "stream",
     "text": [
      "['이름,국어,영어,수학\\n', '철수,95,88,72\\n', '영희,92,90,95\\n', '철민,88,76,64\\n']\n"
     ]
    }
   ],
   "source": [
    "# CSV 파일의 내용을 파이썬 데이터로 변환\n",
    "\n",
    "csv_list = None\n",
    "\n",
    "with open(\"grade.csv\", \"r\", encoding='utf-8') as f:\n",
    "    csv_list = f.readlines()\n",
    "\n",
    "print(csv_list)    "
   ]
  },
  {
   "cell_type": "code",
   "execution_count": 11,
   "metadata": {},
   "outputs": [
    {
     "data": {
      "text/plain": [
       "[{'name': '철수', 'kor': 95, 'eng': 88, 'math': 72},\n",
       " {'name': '영희', 'kor': 92, 'eng': 90, 'math': 95},\n",
       " {'name': '철민', 'kor': 88, 'eng': 76, 'math': 64}]"
      ]
     },
     "execution_count": 11,
     "metadata": {},
     "output_type": "execute_result"
    }
   ],
   "source": [
    "data =[]\n",
    "\n",
    "for i, line in enumerate(csv_list):\n",
    "    if i == 0:\n",
    "        continue\n",
    "\n",
    "    k = line.strip().split(\",\")\n",
    "    item = {\"name\": k[0], \"kor\": int(k[1]), \"eng\": int(k[2]), \"math\": int(k[3])}\n",
    "\n",
    "    data.append(item)\n",
    "\n",
    "data    \n",
    "\n",
    "\n",
    "\n",
    "\n",
    "\n",
    "\n"
   ]
  },
  {
   "cell_type": "code",
   "execution_count": null,
   "metadata": {},
   "outputs": [],
   "source": []
  }
 ],
 "metadata": {
  "kernelspec": {
   "display_name": "Python 3",
   "language": "python",
   "name": "python3"
  },
  "language_info": {
   "codemirror_mode": {
    "name": "ipython",
    "version": 3
   },
   "file_extension": ".py",
   "mimetype": "text/x-python",
   "name": "python",
   "nbconvert_exporter": "python",
   "pygments_lexer": "ipython3",
   "version": "3.12.0"
  }
 },
 "nbformat": 4,
 "nbformat_minor": 2
}
