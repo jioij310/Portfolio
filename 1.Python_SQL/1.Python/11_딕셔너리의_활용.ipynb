{
 "cells": [
  {
   "cell_type": "markdown",
   "metadata": {},
   "source": [
    "# 11강. 딕셔너리의 활용\n",
    "\n",
    "## 01. 딕셔너리 관련 내장함수"
   ]
  },
  {
   "cell_type": "markdown",
   "metadata": {},
   "source": [
    "### 딕셔너리의 원소 수 카운트"
   ]
  },
  {
   "cell_type": "code",
   "execution_count": 1,
   "metadata": {},
   "outputs": [
    {
     "data": {
      "text/plain": [
       "3"
      ]
     },
     "execution_count": 1,
     "metadata": {},
     "output_type": "execute_result"
    }
   ],
   "source": [
    "point = {\"korean\": 98, \"math\": 77, \"english\": 82}\n",
    "len(point)"
   ]
  },
  {
   "cell_type": "markdown",
   "metadata": {},
   "source": [
    "### 딕셔너리의 특정 원소 삭제"
   ]
  },
  {
   "cell_type": "code",
   "execution_count": 2,
   "metadata": {},
   "outputs": [
    {
     "name": "stdout",
     "output_type": "stream",
     "text": [
      "{'korean': 98, 'math': 77}\n"
     ]
    }
   ],
   "source": [
    "# 특정 원소 삭제 -> 존재하지 않는 키를 삭제할 경우 에러 발생함\n",
    "del(point['english'])\n",
    "print(point)"
   ]
  },
  {
   "cell_type": "markdown",
   "metadata": {},
   "source": [
    "## #02. 딕셔너리 객체의 메서드\n",
    "\n",
    "### 딕셔너리의 값(value) 조회"
   ]
  },
  {
   "cell_type": "code",
   "execution_count": 3,
   "metadata": {},
   "outputs": [
    {
     "name": "stdout",
     "output_type": "stream",
     "text": [
      "철수\n"
     ]
    }
   ],
   "source": [
    "dic = { \"name\": \"철수\", \"phone\": \"010-1234-5678\", \"birth\": \"0115\" }\n",
    "\n",
    "# 특정 key에 대응하는 값 얻기 -> dic[\"name\"]과 동일\n",
    "print(dic.get(\"name\"))"
   ]
  },
  {
   "cell_type": "markdown",
   "metadata": {},
   "source": [
    "### `get()` 메서드와 키(key)를 통한 접근과의 차이점"
   ]
  },
  {
   "cell_type": "code",
   "execution_count": 4,
   "metadata": {},
   "outputs": [
    {
     "name": "stdout",
     "output_type": "stream",
     "text": [
      "None\n"
     ]
    }
   ],
   "source": [
    "# 존재하지 않는 key에 접근하는 경우 -> 에러아님(None이 반환됨)\n",
    "print(dic.get(\"gender\"))"
   ]
  },
  {
   "cell_type": "code",
   "execution_count": 5,
   "metadata": {},
   "outputs": [
    {
     "name": "stdout",
     "output_type": "stream",
     "text": [
      "300\n"
     ]
    }
   ],
   "source": [
    "# get함수는 전달하는 key가 존재하지 않을 경우 대신 반환될 값을 함께 설정 가능\n",
    "print(dic.get(\"c\", 300))"
   ]
  },
  {
   "cell_type": "markdown",
   "metadata": {},
   "source": [
    "### `key`를 분리하기"
   ]
  },
  {
   "cell_type": "code",
   "execution_count": 7,
   "metadata": {},
   "outputs": [],
   "source": [
    "성적표 = {\"국어\": 92, \"수학\": 88, \"영어\": 72}"
   ]
  },
  {
   "cell_type": "code",
   "execution_count": 8,
   "metadata": {},
   "outputs": [
    {
     "name": "stdout",
     "output_type": "stream",
     "text": [
      "dict_keys(['국어', '수학', '영어'])\n"
     ]
    }
   ],
   "source": [
    "keys = 성적표.keys()\n",
    "print(keys)"
   ]
  },
  {
   "cell_type": "code",
   "execution_count": 9,
   "metadata": {},
   "outputs": [
    {
     "name": "stdout",
     "output_type": "stream",
     "text": [
      "['국어', '수학', '영어']\n"
     ]
    }
   ],
   "source": [
    "key_list = list(keys)\n",
    "print(key_list)"
   ]
  },
  {
   "cell_type": "code",
   "execution_count": 10,
   "metadata": {},
   "outputs": [
    {
     "data": {
      "text/plain": [
       "['국어', '수학', '영어']"
      ]
     },
     "execution_count": 10,
     "metadata": {},
     "output_type": "execute_result"
    }
   ],
   "source": [
    "keyList = list(성적표.keys())\n",
    "keyList"
   ]
  },
  {
   "cell_type": "markdown",
   "metadata": {},
   "source": [
    "### `value`를 분리하기"
   ]
  },
  {
   "cell_type": "code",
   "execution_count": null,
   "metadata": {},
   "outputs": [],
   "source": [
    "성적표 = {\"국어\": 92, \"수학\": 88, \"영어\": 72}"
   ]
  },
  {
   "cell_type": "code",
   "execution_count": 11,
   "metadata": {},
   "outputs": [
    {
     "name": "stdout",
     "output_type": "stream",
     "text": [
      "dict_values([92, 88, 72])\n"
     ]
    }
   ],
   "source": [
    "values=  성적표.values()\n",
    "print(values)"
   ]
  },
  {
   "cell_type": "code",
   "execution_count": 12,
   "metadata": {},
   "outputs": [
    {
     "name": "stdout",
     "output_type": "stream",
     "text": [
      "[92, 88, 72]\n"
     ]
    }
   ],
   "source": [
    "# dict_values를 list로 변환\n",
    "value_list = list(values)\n",
    "print(value_list)"
   ]
  },
  {
   "cell_type": "code",
   "execution_count": 13,
   "metadata": {},
   "outputs": [
    {
     "data": {
      "text/plain": [
       "[92, 88, 72]"
      ]
     },
     "execution_count": 13,
     "metadata": {},
     "output_type": "execute_result"
    }
   ],
   "source": [
    "valueList = list(성적표.values())\n",
    "valueList"
   ]
  },
  {
   "cell_type": "markdown",
   "metadata": {},
   "source": [
    "### `key`와 `value`의 쌍으로 분리하기"
   ]
  },
  {
   "cell_type": "code",
   "execution_count": null,
   "metadata": {},
   "outputs": [],
   "source": [
    "성적표 = {\"국어\": 92, \"수학\": 88, \"영어\": 72}"
   ]
  },
  {
   "cell_type": "code",
   "execution_count": 14,
   "metadata": {},
   "outputs": [
    {
     "name": "stdout",
     "output_type": "stream",
     "text": [
      "dict_items([('국어', 92), ('수학', 88), ('영어', 72)])\n"
     ]
    }
   ],
   "source": [
    "items= 성적표.items()\n",
    "print(items)  # 튜플로 반환"
   ]
  },
  {
   "cell_type": "code",
   "execution_count": 16,
   "metadata": {},
   "outputs": [
    {
     "name": "stdout",
     "output_type": "stream",
     "text": [
      "[('국어', 92), ('수학', 88), ('영어', 72)]\n"
     ]
    }
   ],
   "source": [
    "lists = list(items)\n",
    "print(lists)"
   ]
  },
  {
   "cell_type": "code",
   "execution_count": 15,
   "metadata": {},
   "outputs": [
    {
     "name": "stdout",
     "output_type": "stream",
     "text": [
      "[('국어', 92), ('수학', 88), ('영어', 72)]\n"
     ]
    }
   ],
   "source": [
    "print(list(성적표.items()))"
   ]
  },
  {
   "cell_type": "markdown",
   "metadata": {},
   "source": [
    "### 딕셔너리의 확장과 복사"
   ]
  },
  {
   "cell_type": "code",
   "execution_count": 23,
   "metadata": {},
   "outputs": [
    {
     "name": "stdout",
     "output_type": "stream",
     "text": [
      "['국어', '수학', '영어']\n",
      "[80, 90, 60]\n",
      "[('국어', 80), ('수학', 90), ('영어', 60)]\n"
     ]
    }
   ],
   "source": [
    "성적표 = {\"국어\": 80, \"수학\": 90, \"영어\": 60}\n",
    "print(list(성적표.keys()))\n",
    "print(list(성적표.values()))\n",
    "print(list(성적표.items()))"
   ]
  },
  {
   "cell_type": "code",
   "execution_count": 24,
   "metadata": {},
   "outputs": [
    {
     "data": {
      "text/plain": [
       "{'국어': 80, '수학': 90, '영어': 60, '물리': 90, '화학': 80}"
      ]
     },
     "execution_count": 24,
     "metadata": {},
     "output_type": "execute_result"
    }
   ],
   "source": [
    "성적표 = {\"국어\": 80, \"수학\": 90, \"영어\": 60}\n",
    "성적표2 = {\"물리\":90, \"화학\" : 80}\n",
    "성적표.update(성적표2)\n",
    "성적표"
   ]
  },
  {
   "cell_type": "code",
   "execution_count": 25,
   "metadata": {},
   "outputs": [
    {
     "name": "stdout",
     "output_type": "stream",
     "text": [
      "{'국어': 80, '수학': 90, '영어': 60, '물리': 90, '화학': 80}\n"
     ]
    }
   ],
   "source": [
    "# 딕셔너리 객체의 복사\n",
    "# -> 딕셔너리끼리의 대입도 리스트의 경우와 마찬가지로 얕은 복사가 수행되므로 깊은 복사를 위해서는 copy() 메서드가 필요함\n",
    "성적표최종 = 성적표.copy()\n",
    "print(성적표최종)"
   ]
  },
  {
   "cell_type": "code",
   "execution_count": 36,
   "metadata": {},
   "outputs": [
    {
     "name": "stdout",
     "output_type": "stream",
     "text": [
      "[{'국어': 80, '수학': 90, '영어': 60, '철학': 90}]\n",
      "[{'국어': 80, '수학': 90, '영어': 60, '철학': 90}]\n"
     ]
    }
   ],
   "source": [
    "# 슬라이싱을 활용한 깊은 복사\n",
    "\n",
    "성적표원본 = [{\"국어\": 80, \"수학\": 90, \"영어\": 60}]\n",
    "성적표최종 = 성적표원본[:]\n",
    "성적표최종[0]\n",
    "성적표추가 = {\"철학\" : 90}\n",
    "성적표최종[0].update(성적표추가)\n",
    "print(성적표최종)\n",
    "print(성적표원본)"
   ]
  },
  {
   "cell_type": "code",
   "execution_count": 35,
   "metadata": {},
   "outputs": [
    {
     "name": "stdout",
     "output_type": "stream",
     "text": [
      "[{'국어': 80, '수학': 90, '영어': 60, '철학': 90}]\n",
      "[{'국어': 80, '수학': 90, '영어': 60, '철학': 90}]\n"
     ]
    }
   ],
   "source": [
    "# 슬라이싱을 활용한 깊은 복사\n",
    "\n",
    "성적표원본 = [{\"국어\": 80, \"수학\": 90, \"영어\": 60}]\n",
    "성적표최종 = 성적표원본.copy()\n",
    "성적표최종[0]\n",
    "성적표추가 = {\"철학\" : 90}\n",
    "성적표최종[0].update(성적표추가)\n",
    "print(성적표최종)\n",
    "print(성적표원본)"
   ]
  },
  {
   "cell_type": "markdown",
   "metadata": {},
   "source": [
    ">- 리스트로 감싼 딕셔너리에서는 깊은 복사가 안됨"
   ]
  },
  {
   "cell_type": "code",
   "execution_count": 21,
   "metadata": {},
   "outputs": [
    {
     "data": {
      "text/plain": [
       "{}"
      ]
     },
     "execution_count": 21,
     "metadata": {},
     "output_type": "execute_result"
    }
   ],
   "source": [
    "성적표.clear() # 모든 원소 삭제\n",
    "성적표"
   ]
  }
 ],
 "metadata": {
  "kernelspec": {
   "display_name": "Python 3",
   "language": "python",
   "name": "python3"
  },
  "language_info": {
   "codemirror_mode": {
    "name": "ipython",
    "version": 3
   },
   "file_extension": ".py",
   "mimetype": "text/x-python",
   "name": "python",
   "nbconvert_exporter": "python",
   "pygments_lexer": "ipython3",
   "version": "3.11.8"
  }
 },
 "nbformat": 4,
 "nbformat_minor": 2
}
