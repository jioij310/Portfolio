{
 "cells": [
  {
   "cell_type": "markdown",
   "metadata": {},
   "source": [
    "# 12강. 조건문\n",
    "\n",
    "## IF, ELSE, ELIF문"
   ]
  },
  {
   "cell_type": "code",
   "execution_count": 6,
   "metadata": {},
   "outputs": [
    {
     "name": "stdout",
     "output_type": "stream",
     "text": [
      "시험시작\n",
      "시험 끝\n"
     ]
    }
   ],
   "source": [
    "print(\"시험시작\")\n",
    "score = int(input(\"점수를 입력하세요\"))\n",
    "if score >= 60:\n",
    "    print(\"합격입니다.\")\n",
    "print(\"시험 끝\")"
   ]
  },
  {
   "cell_type": "markdown",
   "metadata": {},
   "source": [
    "### 조건식에 대한 다양한 유형\n",
    "\n",
    "#### 숫자형 변수에 대한 조건 처리"
   ]
  },
  {
   "cell_type": "code",
   "execution_count": 2,
   "metadata": {},
   "outputs": [
    {
     "name": "stdout",
     "output_type": "stream",
     "text": [
      "택시를 타고\n",
      "집에가자\n"
     ]
    }
   ],
   "source": [
    "money = 10000\n",
    "money = 0\n",
    "\n",
    "if money:\n",
    "    print(\"택시를 타고\")\n",
    "\n",
    "print(\"집에가자\")"
   ]
  },
  {
   "cell_type": "markdown",
   "metadata": {},
   "source": [
    "### 문자열 변수에 대한 조건처리"
   ]
  },
  {
   "cell_type": "code",
   "execution_count": 4,
   "metadata": {},
   "outputs": [
    {
     "name": "stdout",
     "output_type": "stream",
     "text": [
      "Python\n",
      "프로그래밍\n"
     ]
    }
   ],
   "source": [
    "#name = \"\"\n",
    "name = \"Python\"\n",
    "\n",
    "if name:\n",
    "    print(name)\n",
    "print(\"프로그래밍\")    "
   ]
  },
  {
   "cell_type": "markdown",
   "metadata": {},
   "source": [
    "### 리스트에 대한 조건 처리"
   ]
  },
  {
   "cell_type": "code",
   "execution_count": 6,
   "metadata": {},
   "outputs": [
    {
     "name": "stdout",
     "output_type": "stream",
     "text": [
      "성적처리\n"
     ]
    }
   ],
   "source": [
    "#grade = [100, 80, 70]\n",
    "grade = []\n",
    "if grade:\n",
    "    msg = \"국어: {0}, 영어: {1}, 수학: {2}\"\n",
    "    print(msg.format(grade[0],grade[1],grade[2]))\n",
    "print(\"성적처리\")    "
   ]
  },
  {
   "cell_type": "markdown",
   "metadata": {},
   "source": [
    "#### 비교식과 논리식을 활용한 if문"
   ]
  },
  {
   "cell_type": "code",
   "execution_count": 17,
   "metadata": {},
   "outputs": [
    {
     "name": "stdout",
     "output_type": "stream",
     "text": [
      "20살이 아닙니다.\n",
      "성인입니다.\n"
     ]
    }
   ],
   "source": [
    "myage = int(input(\"나이를 입력하세요\"))\n",
    "\n",
    "if myage == 19:\n",
    "    print(\"19살 입니다.\")\n",
    "if myage !=20:\n",
    "    print(\"20살이 아닙니다.\")\n",
    "if myage > 19:\n",
    "    print(\"성인입니다.\")\n",
    "if myage <= 19:\n",
    "    print(\"청소년입니다.\")   "
   ]
  },
  {
   "cell_type": "markdown",
   "metadata": {},
   "source": [
    "#### 논리 연산자를 사용한 조건식"
   ]
  },
  {
   "cell_type": "code",
   "execution_count": 21,
   "metadata": {},
   "outputs": [
    {
     "name": "stdout",
     "output_type": "stream",
     "text": [
      "입력값은 80입니다.\n",
      "C학점 입니다.\n"
     ]
    }
   ],
   "source": [
    "point = int(input(\"점수를 입력하세요\"))\n",
    "print(\"입력값은 %d입니다.\" % point)\n",
    "if point > 70 and point <= 80:\n",
    "    print(\"C학점 입니다.\")\n",
    "if point <=70 or point >80:\n",
    "    print(\"C학점이 아닙니다.\")    "
   ]
  },
  {
   "cell_type": "markdown",
   "metadata": {},
   "source": [
    "### 논리값에 대한 조건문"
   ]
  },
  {
   "cell_type": "code",
   "execution_count": 22,
   "metadata": {},
   "outputs": [
    {
     "name": "stdout",
     "output_type": "stream",
     "text": [
      "한국사람입니다...(1)\n",
      "한국사람입니다...(4)\n",
      "한국사람입니다...(5)\n"
     ]
    }
   ],
   "source": [
    "isKorean = True\n",
    "if isKorean == True:\n",
    "    print(\"한국사람입니다...(1)\")\n",
    "if isKorean == False:\n",
    "    print(\"한국사람입니다...(2)\")\n",
    "if isKorean != True:\n",
    "    print(\"한국사람입니다...(3)\")\n",
    "if isKorean != False:\n",
    "    print(\"한국사람입니다...(4)\")\n",
    "if isKorean:\n",
    "    print(\"한국사람입니다...(5)\")\n",
    "if not isKorean:\n",
    "    print(\"한국사람입니다...(6)\")"
   ]
  },
  {
   "cell_type": "markdown",
   "metadata": {},
   "source": [
    "### `==`와 `is`의 차이\n",
    "\n",
    "`==`은 값만 비교하므로  실수형 `1.0`과 정수형 `1`을 같다고 판별한다.\n",
    "\n",
    "`is`는 변수의 타입까지 비교하므로 실수형과 정수형은 다르다고 판별한다."
   ]
  },
  {
   "cell_type": "code",
   "execution_count": 23,
   "metadata": {},
   "outputs": [
    {
     "name": "stdout",
     "output_type": "stream",
     "text": [
      "1)x와 y는 같다\n"
     ]
    }
   ],
   "source": [
    "x = 1\n",
    "y = 1.0\n",
    "\n",
    "if x == y:\n",
    "    print(\"1)x와 y는 같다\")\n",
    "if x is y:\n",
    "    print(\"2)x와 y는 같다\")    "
   ]
  },
  {
   "cell_type": "markdown",
   "metadata": {},
   "source": [
    "### `is not`"
   ]
  },
  {
   "cell_type": "code",
   "execution_count": 7,
   "metadata": {},
   "outputs": [
    {
     "name": "stdout",
     "output_type": "stream",
     "text": [
      "2) b와 c는 다르다\n"
     ]
    }
   ],
   "source": [
    "# 두 값이 서로 다르다면 참인 is not\n",
    "a = 123.0\n",
    "b = 123\n",
    "\n",
    "if a != b:\n",
    "    print(\"1) a와 b는 다르다\")\n",
    "\n",
    "if a is not b:\n",
    "    print(\"2) b와 c는 다르다\")"
   ]
  },
  {
   "cell_type": "markdown",
   "metadata": {},
   "source": [
    "### 포함 여부를 검사하는 in, not in 연산자"
   ]
  },
  {
   "cell_type": "code",
   "execution_count": 32,
   "metadata": {},
   "outputs": [
    {
     "name": "stdout",
     "output_type": "stream",
     "text": [
      "False\n",
      "world(은)는 가입되어 있지 않습니다.\n"
     ]
    }
   ],
   "source": [
    "user1 = \"hello\"\n",
    "user2 = \"world\"\n",
    "memberlist = ['hello', 'python', 'life']\n",
    "a = user2 in memberlist\n",
    "print(a)\n",
    "if user2 in memberlist:\n",
    "    print(user1 + \"(은)는 이미 가입되어 있습니다.\")\n",
    "\n",
    "if user2 not in memberlist:\n",
    "    print(user2 + \"(은)는 가입되어 있지 않습니다.\")    "
   ]
  },
  {
   "cell_type": "markdown",
   "metadata": {},
   "source": [
    "## #02. ELSE문, ELIF문\n",
    "\n",
    "### `else`문 활용하기"
   ]
  },
  {
   "cell_type": "code",
   "execution_count": 8,
   "metadata": {},
   "outputs": [
    {
     "name": "stdout",
     "output_type": "stream",
     "text": [
      "시험시작\n",
      "입력값은 50입니다.\n",
      "불합격입니다.\n",
      "시험 끝\n"
     ]
    }
   ],
   "source": [
    "print(\"시험시작\")\n",
    "\n",
    "score = int(input(\"점수를 입력하세요\"))\n",
    "print(\"입력값은 %d입니다.\" % score)\n",
    "\n",
    "if score >= 60:\n",
    "    print(\"합격입니다.\")\n",
    "else:\n",
    "    print(\"불합격입니다.\")\n",
    "\n",
    "print(\"시험 끝\")"
   ]
  },
  {
   "cell_type": "code",
   "execution_count": 9,
   "metadata": {},
   "outputs": [
    {
     "name": "stdout",
     "output_type": "stream",
     "text": [
      "입력값은 Y입니다\n",
      "한국사람 입니다...(1)\n",
      "한국사람 입니다...(4)\n"
     ]
    }
   ],
   "source": [
    "answer = input(\"한국인입니까?(Y/N)\")\n",
    "print(\"입력값은 %s입니다\" % answer)\n",
    "if answer.upper() == \"Y\":\n",
    "    isKorean = True\n",
    "else:\n",
    "    isKorean = False\n",
    "if isKorean:\n",
    "    print(\"한국사람 입니다...(1)\")\n",
    "else:\n",
    "    print(\"한국사람이 아닙니다....(2)\")\n",
    "\n",
    "if not isKorean:\n",
    "    print('한국사람이 아닙니다...(3)')\n",
    "    \n",
    "else:\n",
    "    print('한국사람 입니다...(4)')"
   ]
  },
  {
   "cell_type": "code",
   "execution_count": 41,
   "metadata": {},
   "outputs": [
    {
     "name": "stdout",
     "output_type": "stream",
     "text": [
      "시험시작\n",
      "입력값은 90입니다.\n",
      "B학점\n",
      "시험끝\n"
     ]
    }
   ],
   "source": [
    "print(\"시험시작\")\n",
    "\n",
    "score = int(input(\"점수를 입력하세요.\"))\n",
    "print(\"입력값은 %d입니다.\" % score)\n",
    "\n",
    "if score >90:\n",
    "    print(\"A학점\")\n",
    "elif score >80:\n",
    "    print(\"B학점\")\n",
    "elif score >70:\n",
    "    print(\"C학점\")\n",
    "elif score >60:\n",
    "    print(\"D학점\") \n",
    "else:\n",
    "    print(\"F학점\")\n",
    "\n",
    "print(\"시험끝\")\n"
   ]
  }
 ],
 "metadata": {
  "kernelspec": {
   "display_name": "Python 3",
   "language": "python",
   "name": "python3"
  },
  "language_info": {
   "codemirror_mode": {
    "name": "ipython",
    "version": 3
   },
   "file_extension": ".py",
   "mimetype": "text/x-python",
   "name": "python",
   "nbconvert_exporter": "python",
   "pygments_lexer": "ipython3",
   "version": "3.11.8"
  }
 },
 "nbformat": 4,
 "nbformat_minor": 2
}
