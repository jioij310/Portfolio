{
 "cells": [
  {
   "cell_type": "markdown",
   "metadata": {},
   "source": [
    "# 07강. 리스트의 이해\n",
    "\n",
    "## 01. 리스트 자료형"
   ]
  },
  {
   "cell_type": "code",
   "execution_count": 2,
   "metadata": {},
   "outputs": [
    {
     "data": {
      "text/plain": [
       "[98, 92, 100, 35, 76]"
      ]
     },
     "execution_count": 2,
     "metadata": {},
     "output_type": "execute_result"
    }
   ],
   "source": [
    "grade = [98, 92, 100, 35, 76]\n",
    "grade"
   ]
  },
  {
   "cell_type": "code",
   "execution_count": 4,
   "metadata": {},
   "outputs": [
    {
     "data": {
      "text/plain": [
       "['철수', 100, True, 39.123]"
      ]
     },
     "execution_count": 4,
     "metadata": {},
     "output_type": "execute_result"
    }
   ],
   "source": [
    "student = [\"철수\", 100, True, 39.123]\n",
    "student"
   ]
  },
  {
   "cell_type": "code",
   "execution_count": 5,
   "metadata": {},
   "outputs": [
    {
     "name": "stdout",
     "output_type": "stream",
     "text": [
      "10\n",
      "20\n",
      "30\n"
     ]
    }
   ],
   "source": [
    "items = [10, 20, 30]\n",
    "print(items[0])\n",
    "print(items[1])\n",
    "print(items[2])"
   ]
  },
  {
   "cell_type": "code",
   "execution_count": 11,
   "metadata": {},
   "outputs": [
    {
     "name": "stdout",
     "output_type": "stream",
     "text": [
      "[100, 200, 300]\n",
      "[0, 50, 100]\n"
     ]
    }
   ],
   "source": [
    "mydata = [100, 200, 300]\n",
    "print(mydata)\n",
    "\n",
    "mydata[0] = 0\n",
    "mydata[1] = mydata[1]-150\n",
    "mydata[2] //= 3\n",
    "print(mydata)\n",
    "\n",
    "\n"
   ]
  },
  {
   "cell_type": "code",
   "execution_count": 13,
   "metadata": {},
   "outputs": [
    {
     "name": "stdout",
     "output_type": "stream",
     "text": [
      "철수(이)의 점수는 92점 입니다.\n",
      "민영(이)의 점수는 89점 입니다.\n",
      "영수(이)의 점수는 96점 입니다.\n"
     ]
    }
   ],
   "source": [
    "stud1 = ['철수', 92]\n",
    "stud2 = ['민영', 89]\n",
    "stud3 = ['영수', 96]\n",
    "\n",
    "msg = \"{0}(이)의 점수는 {1}점 입니다.\"\n",
    "print(msg.format(stud1[0], stud1[1]))\n",
    "print(msg.format(stud2[0], stud2[1]))\n",
    "print(msg.format(stud3[0], stud3[1]))\n",
    "\n",
    "\n",
    "\n"
   ]
  },
  {
   "cell_type": "code",
   "execution_count": 15,
   "metadata": {},
   "outputs": [
    {
     "name": "stdout",
     "output_type": "stream",
     "text": [
      "[10, 20, 30, 40, 50, 60]\n"
     ]
    }
   ],
   "source": [
    "list1 = [10, 20, 30]\n",
    "list2 = [40, 50, 60]\n",
    "list3 = list1 + list2\n",
    "print(list3)"
   ]
  },
  {
   "cell_type": "code",
   "execution_count": 17,
   "metadata": {},
   "outputs": [
    {
     "name": "stdout",
     "output_type": "stream",
     "text": [
      "[10, 20, 30, 10, 20, 30, 10, 20, 30, 10, 20, 30, 10, 20, 30]\n"
     ]
    }
   ],
   "source": [
    "list4 = list1 * 5\n",
    "print(list4)"
   ]
  },
  {
   "cell_type": "code",
   "execution_count": 28,
   "metadata": {},
   "outputs": [
    {
     "name": "stdout",
     "output_type": "stream",
     "text": [
      "['민식', 64, 173.4]\n",
      "['호영', 100, 176.0]\n",
      "['영철', 80, 180]\n"
     ]
    }
   ],
   "source": [
    "학생 = [[\"민식\", 64, 173.4], [\"호영\", 100, 176.0], [\"영철\", 80, 180]]\n",
    "print(학생[0])\n",
    "print(학생[1])\n",
    "print(학생[2])"
   ]
  },
  {
   "cell_type": "code",
   "execution_count": 26,
   "metadata": {},
   "outputs": [
    {
     "name": "stdout",
     "output_type": "stream",
     "text": [
      "민식(이)의 몸무게는 64kg이고, 키는 173.4cm입니다.\n",
      "호영(이)의 몸무게는 100kg이고, 키는 176.0cm입니다.\n",
      "영철(이)의 몸무게는 80kg이고, 키는 180cm입니다.\n"
     ]
    }
   ],
   "source": [
    "fmt = \"{name}(이)의 몸무게는 {weight}kg이고, 키는 {height}cm입니다.\"\n",
    "print(fmt.format(name=학생[0][0], weight=학생[0][1], height=학생[0][2]))\n",
    "print(fmt.format(name=학생[1][0], weight=학생[1][1], height=학생[1][2]))\n",
    "print(fmt.format(name=학생[2][0], weight=학생[2][1], height=학생[2][2]))"
   ]
  }
 ],
 "metadata": {
  "kernelspec": {
   "display_name": "Python 3",
   "language": "python",
   "name": "python3"
  },
  "language_info": {
   "codemirror_mode": {
    "name": "ipython",
    "version": 3
   },
   "file_extension": ".py",
   "mimetype": "text/x-python",
   "name": "python",
   "nbconvert_exporter": "python",
   "pygments_lexer": "ipython3",
   "version": "3.12.0"
  }
 },
 "nbformat": 4,
 "nbformat_minor": 2
}
