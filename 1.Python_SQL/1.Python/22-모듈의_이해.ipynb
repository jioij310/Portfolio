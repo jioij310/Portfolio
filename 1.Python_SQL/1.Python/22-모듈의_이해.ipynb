{
 "cells": [
  {
   "attachments": {},
   "cell_type": "markdown",
   "metadata": {},
   "source": [
    "# 22강 - 모듈의 이해\n",
    "\n",
    "## #01. 모듈의 이해\n",
    "\n",
    "### 함수를 포함하는 모듈"
   ]
  },
  {
   "cell_type": "code",
   "execution_count": 2,
   "metadata": {},
   "outputs": [
    {
     "name": "stdout",
     "output_type": "stream",
     "text": [
      "7\n",
      "-1\n"
     ]
    }
   ],
   "source": [
    "# MyMod1.py 파일을 참조\n",
    "import MyMod1\n",
    "\n",
    "# 참조한 파일에 정의된 함수는 `파일이름.함수명` 형식으로 접근\n",
    "print(MyMod1.plus(3, 4))\n",
    "print(MyMod1.minus(3, 4))"
   ]
  },
  {
   "attachments": {},
   "cell_type": "markdown",
   "metadata": {},
   "source": [
    "### 모듈에 별칭 적용하기"
   ]
  },
  {
   "cell_type": "code",
   "execution_count": 3,
   "metadata": {},
   "outputs": [
    {
     "name": "stdout",
     "output_type": "stream",
     "text": [
      "7\n",
      "-1\n"
     ]
    }
   ],
   "source": [
    "import MyMod1 as hello\n",
    "\n",
    "# 모듈에 포함된 기능들은 `별칭이름.함수명`형식으로 접근\n",
    "print(hello.plus(3, 4))\n",
    "print(hello.minus(3, 4))\n"
   ]
  },
  {
   "attachments": {},
   "cell_type": "markdown",
   "metadata": {},
   "source": [
    "### 모듈안에 포함된 특정 기능만 지정하기"
   ]
  },
  {
   "cell_type": "code",
   "execution_count": 4,
   "metadata": {},
   "outputs": [
    {
     "name": "stdout",
     "output_type": "stream",
     "text": [
      "7\n"
     ]
    },
    {
     "ename": "NameError",
     "evalue": "name 'minus' is not defined",
     "output_type": "error",
     "traceback": [
      "\u001b[0;31m---------------------------------------------------------------------------\u001b[0m",
      "\u001b[0;31mNameError\u001b[0m                                 Traceback (most recent call last)",
      "\u001b[1;32m/Users/leekh/J&Y Dropbox/이광호/#강의자료/20-Python/파이썬 프로그래밍 25-모듈의 이해-이광호강사/25-모듈의_이해.ipynb 셀 6\u001b[0m line \u001b[0;36m8\n\u001b[1;32m      <a href='vscode-notebook-cell:/Users/leekh/J%26Y%20Dropbox/%E1%84%8B%E1%85%B5%E1%84%80%E1%85%AA%E1%86%BC%E1%84%92%E1%85%A9/%23%E1%84%80%E1%85%A1%E1%86%BC%E1%84%8B%E1%85%B4%E1%84%8C%E1%85%A1%E1%84%85%E1%85%AD/20-Python/%ED%8C%8C%EC%9D%B4%EC%8D%AC%20%ED%94%84%EB%A1%9C%EA%B7%B8%EB%9E%98%EB%B0%8D%2025-%EB%AA%A8%EB%93%88%EC%9D%98%20%EC%9D%B4%ED%95%B4-%EC%9D%B4%EA%B4%91%ED%98%B8%EA%B0%95%EC%82%AC/25-%EB%AA%A8%EB%93%88%EC%9D%98_%EC%9D%B4%ED%95%B4.ipynb#W6sZmlsZQ%3D%3D?line=4'>5</a>\u001b[0m \u001b[39mprint\u001b[39m(plus(\u001b[39m3\u001b[39m, \u001b[39m4\u001b[39m))\n\u001b[1;32m      <a href='vscode-notebook-cell:/Users/leekh/J%26Y%20Dropbox/%E1%84%8B%E1%85%B5%E1%84%80%E1%85%AA%E1%86%BC%E1%84%92%E1%85%A9/%23%E1%84%80%E1%85%A1%E1%86%BC%E1%84%8B%E1%85%B4%E1%84%8C%E1%85%A1%E1%84%85%E1%85%AD/20-Python/%ED%8C%8C%EC%9D%B4%EC%8D%AC%20%ED%94%84%EB%A1%9C%EA%B7%B8%EB%9E%98%EB%B0%8D%2025-%EB%AA%A8%EB%93%88%EC%9D%98%20%EC%9D%B4%ED%95%B4-%EC%9D%B4%EA%B4%91%ED%98%B8%EA%B0%95%EC%82%AC/25-%EB%AA%A8%EB%93%88%EC%9D%98_%EC%9D%B4%ED%95%B4.ipynb#W6sZmlsZQ%3D%3D?line=6'>7</a>\u001b[0m \u001b[39m# minus 함수는 import 하지 않았으므로 사용 불가\u001b[39;00m\n\u001b[0;32m----> <a href='vscode-notebook-cell:/Users/leekh/J%26Y%20Dropbox/%E1%84%8B%E1%85%B5%E1%84%80%E1%85%AA%E1%86%BC%E1%84%92%E1%85%A9/%23%E1%84%80%E1%85%A1%E1%86%BC%E1%84%8B%E1%85%B4%E1%84%8C%E1%85%A1%E1%84%85%E1%85%AD/20-Python/%ED%8C%8C%EC%9D%B4%EC%8D%AC%20%ED%94%84%EB%A1%9C%EA%B7%B8%EB%9E%98%EB%B0%8D%2025-%EB%AA%A8%EB%93%88%EC%9D%98%20%EC%9D%B4%ED%95%B4-%EC%9D%B4%EA%B4%91%ED%98%B8%EA%B0%95%EC%82%AC/25-%EB%AA%A8%EB%93%88%EC%9D%98_%EC%9D%B4%ED%95%B4.ipynb#W6sZmlsZQ%3D%3D?line=7'>8</a>\u001b[0m \u001b[39mprint\u001b[39m(minus(\u001b[39m3\u001b[39m, \u001b[39m4\u001b[39m))\n",
      "\u001b[0;31mNameError\u001b[0m: name 'minus' is not defined"
     ]
    }
   ],
   "source": [
    "from MyMod1 import plus\n",
    "\n",
    "# 골라서 가져온 기능들은 앞에 모듈이름을 적용하지 않고,\n",
    "# 직접 접근한다.\n",
    "print(plus(3, 4))\n",
    "\n",
    "# minus 함수는 import 하지 않았으므로 사용 불가\n",
    "print(minus(3, 4))"
   ]
  },
  {
   "attachments": {},
   "cell_type": "markdown",
   "metadata": {},
   "source": [
    "### 클래스가 정의되어 있는 모듈 참조하기"
   ]
  },
  {
   "cell_type": "code",
   "execution_count": 5,
   "metadata": {},
   "outputs": [
    {
     "name": "stdout",
     "output_type": "stream",
     "text": [
      "------- 생성자가 실행되었습니다. --------\n",
      "이름: 파이썬학생 / 이메일: leekh4232@gmail.com\n"
     ]
    }
   ],
   "source": [
    "import MyMod2\n",
    "\n",
    "# MyMod2에 정의된 Member라는 클래스에 \"모듈이름.클래스이름\" 형식으로 접근\n",
    "# -> import된 클래스는 정의된 기능을 다른 변수에 부여해야 사용 가능. = 객체\n",
    "# -> 클래스에 생성자가 포함되어 있고 생성자가 파라미터를 갖는 경우\n",
    "#    객체 생성시에 생성자 파라미터를 전달해야 함.\n",
    "mem = MyMod2.Member('파이썬학생', 'leekh4232@gmail.com')\n",
    "mem.view_info()"
   ]
  },
  {
   "attachments": {},
   "cell_type": "markdown",
   "metadata": {},
   "source": [
    "### 클래스 모듈에 별칭 적용하기"
   ]
  },
  {
   "cell_type": "code",
   "execution_count": 6,
   "metadata": {},
   "outputs": [
    {
     "name": "stdout",
     "output_type": "stream",
     "text": [
      "------- 생성자가 실행되었습니다. --------\n",
      "이름: 파이썬학생 / 이메일: leekh4232@gmail.com\n"
     ]
    }
   ],
   "source": [
    "# MyMod2 모듈에 User라는 별칭을 적용하여 import\n",
    "import MyMod2 as User\n",
    "\n",
    "mem = User.Member('파이썬학생', 'leekh4232@gmail.com')\n",
    "mem.view_info()"
   ]
  },
  {
   "attachments": {},
   "cell_type": "markdown",
   "metadata": {},
   "source": [
    "## 특정 클래스에 대한 지정 참조"
   ]
  },
  {
   "cell_type": "code",
   "execution_count": 7,
   "metadata": {},
   "outputs": [
    {
     "name": "stdout",
     "output_type": "stream",
     "text": [
      "------- 생성자가 실행되었습니다. --------\n",
      "이름: 파이썬학생 / 이메일: leekh4232@gmail.com\n"
     ]
    }
   ],
   "source": [
    "# MyMod2 모듈에서 Member라는 이름의 기능만 지정해서 참조\n",
    "from MyMod2 import Member\n",
    "\n",
    "\n",
    "mem = Member('파이썬학생', 'leekh4232@gmail.com')\n",
    "mem.view_info()"
   ]
  },
  {
   "attachments": {},
   "cell_type": "markdown",
   "metadata": {},
   "source": [
    "### 객체 모듈 참조"
   ]
  },
  {
   "cell_type": "code",
   "execution_count": 8,
   "metadata": {},
   "outputs": [
    {
     "name": "stdout",
     "output_type": "stream",
     "text": [
      "45\n",
      "15\n"
     ]
    }
   ],
   "source": [
    "import MyMod3\n",
    "\n",
    "# 모듈안의 객체를 통해서 기능에 접근.\n",
    "print(MyMod3.my_calc.plus(30, 15))\n",
    "print(MyMod3.my_calc.minus(30, 15))"
   ]
  },
  {
   "attachments": {},
   "cell_type": "markdown",
   "metadata": {},
   "source": [
    "### 객체 모듈에 별칭 적용하기"
   ]
  },
  {
   "cell_type": "code",
   "execution_count": 9,
   "metadata": {},
   "outputs": [
    {
     "name": "stdout",
     "output_type": "stream",
     "text": [
      "45\n",
      "15\n"
     ]
    }
   ],
   "source": [
    "import MyMod3 as MyObject\n",
    "\n",
    "print(MyObject.my_calc.plus(30, 15))\n",
    "print(MyObject.my_calc.minus(30, 15))"
   ]
  },
  {
   "attachments": {},
   "cell_type": "markdown",
   "metadata": {},
   "source": [
    "### 특정 객체 지정 참조"
   ]
  },
  {
   "cell_type": "code",
   "execution_count": 10,
   "metadata": {},
   "outputs": [
    {
     "name": "stdout",
     "output_type": "stream",
     "text": [
      "45\n",
      "15\n"
     ]
    }
   ],
   "source": [
    "# 모듈에 정의된 특정 기능(여기서는 객체)만 골라서 참조\n",
    "from MyMod3 import my_calc\n",
    "\n",
    "print(my_calc.plus(30, 15))\n",
    "print(my_calc.minus(30, 15))"
   ]
  },
  {
   "attachments": {},
   "cell_type": "markdown",
   "metadata": {},
   "source": [
    "### 지정 참조에 대한 별칭 부여"
   ]
  },
  {
   "cell_type": "code",
   "execution_count": 11,
   "metadata": {},
   "outputs": [
    {
     "name": "stdout",
     "output_type": "stream",
     "text": [
      "45\n",
      "15\n"
     ]
    }
   ],
   "source": [
    "from MyMod3 import my_calc as cl\n",
    "\n",
    "print(cl.plus(30, 15))\n",
    "print(cl.minus(30, 15))"
   ]
  }
 ],
 "metadata": {
  "kernelspec": {
   "display_name": "Python 3 (ipykernel)",
   "language": "python",
   "name": "python3"
  },
  "language_info": {
   "codemirror_mode": {
    "name": "ipython",
    "version": 3
   },
   "file_extension": ".py",
   "mimetype": "text/x-python",
   "name": "python",
   "nbconvert_exporter": "python",
   "pygments_lexer": "ipython3",
   "version": "3.12.0"
  },
  "vscode": {
   "interpreter": {
    "hash": "aee8b7b246df8f9039afb4144a1f6fd8d2ca17a180786b69acc140d282b71a49"
   }
  }
 },
 "nbformat": 4,
 "nbformat_minor": 4
}
